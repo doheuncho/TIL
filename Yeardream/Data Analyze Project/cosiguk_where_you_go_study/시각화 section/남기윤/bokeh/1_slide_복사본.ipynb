{
 "cells": [
  {
   "cell_type": "code",
   "execution_count": 1,
   "id": "f0ffdc7a",
   "metadata": {},
   "outputs": [
    {
     "name": "stdout",
     "output_type": "stream",
     "text": [
      "Requirement already satisfied: pyspark in c:\\users\\kiyoon\\anaconda3\\lib\\site-packages (3.2.0)\n",
      "Requirement already satisfied: py4j==0.10.9.2 in c:\\users\\kiyoon\\anaconda3\\lib\\site-packages (from pyspark) (0.10.9.2)\n"
     ]
    }
   ],
   "source": [
    "!pip install pyspark\n",
    "\n"
   ]
  },
  {
   "cell_type": "code",
   "execution_count": 2,
   "id": "3e17b5d1",
   "metadata": {},
   "outputs": [
    {
     "name": "stdout",
     "output_type": "stream",
     "text": [
      "Requirement already satisfied: Koalas in c:\\users\\kiyoon\\anaconda3\\lib\\site-packages (1.8.2)\n",
      "Requirement already satisfied: numpy>=1.14 in c:\\users\\kiyoon\\anaconda3\\lib\\site-packages (from Koalas) (1.20.1)\n",
      "Requirement already satisfied: pandas>=0.23.2 in c:\\users\\kiyoon\\anaconda3\\lib\\site-packages (from Koalas) (1.2.4)\n",
      "Requirement already satisfied: pyarrow>=0.10 in c:\\users\\kiyoon\\anaconda3\\lib\\site-packages (from Koalas) (6.0.0)\n",
      "Requirement already satisfied: python-dateutil>=2.7.3 in c:\\users\\kiyoon\\anaconda3\\lib\\site-packages (from pandas>=0.23.2->Koalas) (2.8.1)\n",
      "Requirement already satisfied: pytz>=2017.3 in c:\\users\\kiyoon\\anaconda3\\lib\\site-packages (from pandas>=0.23.2->Koalas) (2021.1)\n",
      "Requirement already satisfied: six>=1.5 in c:\\users\\kiyoon\\anaconda3\\lib\\site-packages (from python-dateutil>=2.7.3->pandas>=0.23.2->Koalas) (1.15.0)\n",
      "Requirement already satisfied: bokeh in c:\\users\\kiyoon\\anaconda3\\lib\\site-packages (2.3.2)\n",
      "Requirement already satisfied: PyYAML>=3.10 in c:\\users\\kiyoon\\anaconda3\\lib\\site-packages (from bokeh) (5.4.1)\n",
      "Requirement already satisfied: python-dateutil>=2.1 in c:\\users\\kiyoon\\anaconda3\\lib\\site-packages (from bokeh) (2.8.1)\n",
      "Requirement already satisfied: Jinja2>=2.9 in c:\\users\\kiyoon\\anaconda3\\lib\\site-packages (from bokeh) (2.11.3)\n",
      "Requirement already satisfied: pillow>=7.1.0 in c:\\users\\kiyoon\\anaconda3\\lib\\site-packages (from bokeh) (8.2.0)\n",
      "Requirement already satisfied: typing-extensions>=3.7.4 in c:\\users\\kiyoon\\anaconda3\\lib\\site-packages (from bokeh) (3.7.4.3)\n",
      "Requirement already satisfied: tornado>=5.1 in c:\\users\\kiyoon\\anaconda3\\lib\\site-packages (from bokeh) (6.1)\n",
      "Requirement already satisfied: numpy>=1.11.3 in c:\\users\\kiyoon\\anaconda3\\lib\\site-packages (from bokeh) (1.20.1)\n",
      "Requirement already satisfied: packaging>=16.8 in c:\\users\\kiyoon\\anaconda3\\lib\\site-packages (from bokeh) (20.9)\n",
      "Requirement already satisfied: MarkupSafe>=0.23 in c:\\users\\kiyoon\\anaconda3\\lib\\site-packages (from Jinja2>=2.9->bokeh) (1.1.1)\n",
      "Requirement already satisfied: pyparsing>=2.0.2 in c:\\users\\kiyoon\\anaconda3\\lib\\site-packages (from packaging>=16.8->bokeh) (2.4.7)\n",
      "Requirement already satisfied: six>=1.5 in c:\\users\\kiyoon\\anaconda3\\lib\\site-packages (from python-dateutil>=2.1->bokeh) (1.15.0)\n"
     ]
    }
   ],
   "source": [
    "!pip install Koalas\n",
    "!pip install bokeh\n",
    "\n"
   ]
  },
  {
   "cell_type": "code",
   "execution_count": null,
   "id": "69c9f777",
   "metadata": {},
   "outputs": [],
   "source": [
    "!pip install nodejs\n"
   ]
  },
  {
   "cell_type": "code",
   "execution_count": null,
   "id": "b4d112ab",
   "metadata": {},
   "outputs": [],
   "source": [
    "!pip install typescript"
   ]
  },
  {
   "cell_type": "code",
   "execution_count": 12,
   "id": "aefafef9",
   "metadata": {},
   "outputs": [
    {
     "data": {
      "text/html": [
       "\n",
       "\n",
       "\n",
       "\n",
       "\n",
       "\n",
       "  <div class=\"bk-root\" id=\"85a9bc1c-f59b-43a7-b5f5-b02f51a81201\" data-root-id=\"2912\"></div>\n"
      ]
     },
     "metadata": {},
     "output_type": "display_data"
    },
    {
     "data": {
      "application/javascript": [
       "(function(root) {\n",
       "  function embed_document(root) {\n",
       "    \n",
       "  var docs_json = {\"d7822d59-a78c-4177-84d0-5b3d0083469d\":{\"defs\":[],\"roots\":{\"references\":[{\"attributes\":{\"below\":[{\"id\":\"2921\"}],\"center\":[{\"id\":\"2924\"},{\"id\":\"2928\"}],\"height\":400,\"left\":[{\"id\":\"2925\"}],\"renderers\":[{\"id\":\"2946\"}],\"title\":{\"id\":\"3015\"},\"toolbar\":{\"id\":\"2936\"},\"width\":400,\"x_range\":{\"id\":\"2913\"},\"x_scale\":{\"id\":\"2917\"},\"y_range\":{\"id\":\"2915\"},\"y_scale\":{\"id\":\"2919\"}},\"id\":\"2912\",\"subtype\":\"Figure\",\"type\":\"Plot\"},{\"attributes\":{\"axis\":{\"id\":\"2921\"},\"ticker\":null},\"id\":\"2924\",\"type\":\"Grid\"},{\"attributes\":{\"source\":{\"id\":\"2911\"}},\"id\":\"2947\",\"type\":\"CDSView\"},{\"attributes\":{\"bottom_units\":\"screen\",\"fill_alpha\":0.5,\"fill_color\":\"lightgrey\",\"left_units\":\"screen\",\"level\":\"overlay\",\"line_alpha\":1.0,\"line_color\":\"black\",\"line_dash\":[4,4],\"line_width\":2,\"right_units\":\"screen\",\"syncable\":false,\"top_units\":\"screen\"},\"id\":\"2935\",\"type\":\"BoxAnnotation\"},{\"attributes\":{},\"id\":\"3023\",\"type\":\"Selection\"},{\"attributes\":{},\"id\":\"2922\",\"type\":\"BasicTicker\"},{\"attributes\":{},\"id\":\"3024\",\"type\":\"UnionRenderers\"},{\"attributes\":{\"active_multi\":null,\"tools\":[{\"id\":\"2929\"},{\"id\":\"2930\"},{\"id\":\"2931\"},{\"id\":\"2932\"},{\"id\":\"2933\"},{\"id\":\"2934\"}]},\"id\":\"2936\",\"type\":\"Toolbar\"},{\"attributes\":{},\"id\":\"2932\",\"type\":\"SaveTool\"},{\"attributes\":{\"line_alpha\":0.1,\"line_color\":\"#ed5565\",\"line_width\":3,\"x\":{\"field\":\"x\"},\"y\":{\"field\":\"y\"}},\"id\":\"2945\",\"type\":\"Line\"},{\"attributes\":{},\"id\":\"3020\",\"type\":\"AllLabels\"},{\"attributes\":{},\"id\":\"3019\",\"type\":\"BasicTickFormatter\"},{\"attributes\":{},\"id\":\"2933\",\"type\":\"ResetTool\"},{\"attributes\":{},\"id\":\"2929\",\"type\":\"PanTool\"},{\"attributes\":{},\"id\":\"2913\",\"type\":\"DataRange1d\"},{\"attributes\":{\"formatter\":{\"id\":\"3019\"},\"major_label_policy\":{\"id\":\"3020\"},\"ticker\":{\"id\":\"2926\"}},\"id\":\"2925\",\"type\":\"LinearAxis\"},{\"attributes\":{},\"id\":\"2930\",\"type\":\"WheelZoomTool\"},{\"attributes\":{},\"id\":\"2915\",\"type\":\"DataRange1d\"},{\"attributes\":{\"line_alpha\":0.6,\"line_color\":\"#ed5565\",\"line_width\":3,\"x\":{\"field\":\"x\"},\"y\":{\"field\":\"y\"}},\"id\":\"2944\",\"type\":\"Line\"},{\"attributes\":{},\"id\":\"3015\",\"type\":\"Title\"},{\"attributes\":{},\"id\":\"2919\",\"type\":\"LinearScale\"},{\"attributes\":{\"formatter\":{\"id\":\"3016\"},\"major_label_policy\":{\"id\":\"3017\"},\"ticker\":{\"id\":\"2922\"}},\"id\":\"2921\",\"type\":\"LinearAxis\"},{\"attributes\":{},\"id\":\"2917\",\"type\":\"LinearScale\"},{\"attributes\":{\"data_source\":{\"id\":\"2911\"},\"glyph\":{\"id\":\"2944\"},\"hover_glyph\":null,\"muted_glyph\":null,\"nonselection_glyph\":{\"id\":\"2945\"},\"view\":{\"id\":\"2947\"}},\"id\":\"2946\",\"type\":\"GlyphRenderer\"},{\"attributes\":{},\"id\":\"2926\",\"type\":\"BasicTicker\"},{\"attributes\":{\"data\":{\"x\":[0.01,0.015,0.02,0.025,0.03,0.035,0.04,0.045,0.05,0.055,0.06,0.065,0.07,0.075,0.08,0.085,0.09,0.095,0.1,0.105,0.11,0.115,0.12,0.125,0.13,0.135,0.14,0.145,0.15,0.155,0.16,0.165,0.17,0.17500000000000002,0.18,0.185,0.19,0.195,0.2,0.20500000000000002,0.21,0.215,0.22,0.225,0.23,0.23500000000000001,0.24,0.245,0.25,0.255,0.26,0.265,0.27,0.275,0.28,0.28500000000000003,0.29,0.295,0.3,0.305,0.31,0.315,0.32,0.325,0.33,0.335,0.34,0.34500000000000003,0.35000000000000003,0.355,0.36,0.365,0.37,0.375,0.38,0.385,0.39,0.395,0.4,0.405,0.41000000000000003,0.41500000000000004,0.42,0.425,0.43,0.435,0.44,0.445,0.45,0.455,0.46,0.465,0.47000000000000003,0.47500000000000003,0.48,0.485,0.49,0.495,0.5,0.505,0.51,0.515,0.52,0.525,0.53,0.535,0.54,0.545,0.55,0.555,0.56,0.5650000000000001,0.5700000000000001,0.5750000000000001,0.58,0.585,0.59,0.595,0.6,0.605,0.61,0.615,0.62,0.625,0.63,0.635,0.64,0.645,0.65,0.655,0.66,0.665,0.67,0.675,0.68,0.685,0.6900000000000001,0.6950000000000001,0.7000000000000001,0.705,0.71,0.715,0.72,0.725,0.73,0.735,0.74,0.745,0.75,0.755,0.76,0.765,0.77,0.775,0.78,0.785,0.79,0.795,0.8,0.805,0.81,0.8150000000000001,0.8200000000000001,0.8250000000000001,0.8300000000000001,0.835,0.84,0.845,0.85,0.855,0.86,0.865,0.87,0.875,0.88,0.885,0.89,0.895,0.9,0.905,0.91,0.915,0.92,0.925,0.93,0.935,0.9400000000000001,0.9450000000000001,0.9500000000000001,0.9550000000000001,0.96,0.965,0.97,0.975,0.98,0.985],\"y\":[0.01,0.015,0.02,0.025,0.03,0.035,0.04,0.045,0.05,0.055,0.06,0.065,0.07,0.075,0.08,0.085,0.09,0.095,0.1,0.105,0.11,0.115,0.12,0.125,0.13,0.135,0.14,0.145,0.15,0.155,0.16,0.165,0.17,0.17500000000000002,0.18,0.185,0.19,0.195,0.2,0.20500000000000002,0.21,0.215,0.22,0.225,0.23,0.23500000000000001,0.24,0.245,0.25,0.255,0.26,0.265,0.27,0.275,0.28,0.28500000000000003,0.29,0.295,0.3,0.305,0.31,0.315,0.32,0.325,0.33,0.335,0.34,0.34500000000000003,0.35000000000000003,0.355,0.36,0.365,0.37,0.375,0.38,0.385,0.39,0.395,0.4,0.405,0.41000000000000003,0.41500000000000004,0.42,0.425,0.43,0.435,0.44,0.445,0.45,0.455,0.46,0.465,0.47000000000000003,0.47500000000000003,0.48,0.485,0.49,0.495,0.5,0.505,0.51,0.515,0.52,0.525,0.53,0.535,0.54,0.545,0.55,0.555,0.56,0.5650000000000001,0.5700000000000001,0.5750000000000001,0.58,0.585,0.59,0.595,0.6,0.605,0.61,0.615,0.62,0.625,0.63,0.635,0.64,0.645,0.65,0.655,0.66,0.665,0.67,0.675,0.68,0.685,0.6900000000000001,0.6950000000000001,0.7000000000000001,0.705,0.71,0.715,0.72,0.725,0.73,0.735,0.74,0.745,0.75,0.755,0.76,0.765,0.77,0.775,0.78,0.785,0.79,0.795,0.8,0.805,0.81,0.8150000000000001,0.8200000000000001,0.8250000000000001,0.8300000000000001,0.835,0.84,0.845,0.85,0.855,0.86,0.865,0.87,0.875,0.88,0.885,0.89,0.895,0.9,0.905,0.91,0.915,0.92,0.925,0.93,0.935,0.9400000000000001,0.9450000000000001,0.9500000000000001,0.9550000000000001,0.96,0.965,0.97,0.975,0.98,0.985]},\"selected\":{\"id\":\"3023\"},\"selection_policy\":{\"id\":\"3024\"}},\"id\":\"2911\",\"type\":\"ColumnDataSource\"},{\"attributes\":{},\"id\":\"2934\",\"type\":\"HelpTool\"},{\"attributes\":{\"overlay\":{\"id\":\"2935\"}},\"id\":\"2931\",\"type\":\"BoxZoomTool\"},{\"attributes\":{},\"id\":\"3017\",\"type\":\"AllLabels\"},{\"attributes\":{},\"id\":\"3016\",\"type\":\"BasicTickFormatter\"},{\"attributes\":{\"axis\":{\"id\":\"2925\"},\"dimension\":1,\"ticker\":null},\"id\":\"2928\",\"type\":\"Grid\"}],\"root_ids\":[\"2912\"]},\"title\":\"Bokeh Application\",\"version\":\"2.3.2\"}};\n",
       "  var render_items = [{\"docid\":\"d7822d59-a78c-4177-84d0-5b3d0083469d\",\"root_ids\":[\"2912\"],\"roots\":{\"2912\":\"85a9bc1c-f59b-43a7-b5f5-b02f51a81201\"}}];\n",
       "  root.Bokeh.embed.embed_items_notebook(docs_json, render_items);\n",
       "\n",
       "  }\n",
       "  if (root.Bokeh !== undefined) {\n",
       "    embed_document(root);\n",
       "  } else {\n",
       "    var attempts = 0;\n",
       "    var timer = setInterval(function(root) {\n",
       "      if (root.Bokeh !== undefined) {\n",
       "        clearInterval(timer);\n",
       "        embed_document(root);\n",
       "      } else {\n",
       "        attempts++;\n",
       "        if (attempts > 100) {\n",
       "          clearInterval(timer);\n",
       "          console.log(\"Bokeh: ERROR: Unable to run BokehJS code because BokehJS library is missing\");\n",
       "        }\n",
       "      }\n",
       "    }, 10, root)\n",
       "  }\n",
       "})(window);"
      ],
      "application/vnd.bokehjs_exec.v0+json": ""
     },
     "metadata": {
      "application/vnd.bokehjs_exec.v0+json": {
       "id": "2912"
      }
     },
     "output_type": "display_data"
    }
   ],
   "source": [
    "\"\"\"Example implementation of two double ended sliders as extension widgets\"\"\"\n",
    "from bokeh.core.properties import Bool, Float, Tuple\n",
    "from bokeh.plotting import figure, show, output_file\n",
    "from bokeh.layouts import column\n",
    "from bokeh.models import ColumnDataSource, CustomJS, InputWidget, Slider\n",
    "from bokeh.plotting import Figure\n",
    "\n",
    "output_file(filename=\"1번슬라이드.html\", title=\"1번슬라이드\")\n",
    "\n",
    "class IonRangeSlider(InputWidget):\n",
    "    # The special class attribute ``__implementation__`` should contain a string\n",
    "    # of JavaScript or TypeScript code that implements the web browser\n",
    "    # side of the custom extension model or a string name of a file with the implementation.\n",
    "\n",
    "    __implementation__ = 'slide1/extensions_ion_range_slider.ts'\n",
    "    __javascript__ = [\n",
    "        \"https://ajax.googleapis.com/ajax/libs/jquery/3.1.0/jquery.min.js\",\n",
    "        \"https://cdnjs.cloudflare.com/ajax/libs/ion-rangeslider/2.1.4/js/ion.rangeSlider.js\",\n",
    "    ]\n",
    "    __css__ = [\n",
    "        \"https://cdnjs.cloudflare.com/ajax/libs/normalize/4.2.0/normalize.css\",\n",
    "        \"https://cdnjs.cloudflare.com/ajax/libs/ion-rangeslider/2.1.4/css/ion.rangeSlider.css\",\n",
    "        \"https://cdnjs.cloudflare.com/ajax/libs/ion-rangeslider/2.1.4/css/ion.rangeSlider.skinFlat.min.css\",\n",
    "    ]\n",
    "\n",
    "    # Below are all the \"properties\" for this model. Bokeh properties are\n",
    "    # class attributes that define the fields (and their types) that can be\n",
    "    # communicated automatically between Python and the browser. Properties\n",
    "    # also support type validation. More information about properties in\n",
    "    # can be found here:\n",
    "    #\n",
    "    #    https://docs.bokeh.org/en/latest/docs/reference/core/properties.html#bokeh-core-properties\n",
    "\n",
    "    disable = Bool(default=True, help=\"\"\"\n",
    "    Enable or disable the slider.\n",
    "    \"\"\")\n",
    "\n",
    "    grid = Bool(default=True, help=\"\"\"\n",
    "    Show or hide the grid beneath the slider.\n",
    "    \"\"\")\n",
    "\n",
    "    start = Float(default=0, help=\"\"\"\n",
    "    The minimum allowable value.\n",
    "    \"\"\")\n",
    "\n",
    "    end = Float(default=1, help=\"\"\"\n",
    "    The maximum allowable value.\n",
    "    \"\"\")\n",
    "\n",
    "    range = Tuple(Float, Float, help=\"\"\"\n",
    "    The start and end values for the range.\n",
    "    \"\"\")\n",
    "\n",
    "    step = Float(default=0.1, help=\"\"\"\n",
    "    The step between consecutive values.\n",
    "    \"\"\")\n",
    "\n",
    "x = [x*0.005 for x in range(2, 198)]\n",
    "y = x\n",
    "\n",
    "source = ColumnDataSource(data=dict(x=x, y=y))\n",
    "\n",
    "plot = Figure(width=400, height=400)\n",
    "plot.line('x', 'y', source=source, line_width=3, line_alpha=0.6, color='#ed5565')\n",
    "\n",
    "callback_single = CustomJS(args=dict(source=source), code=\"\"\"\n",
    "        const data = source.data;\n",
    "        const f = cb_obj.value\n",
    "        const x = data['x']\n",
    "        const y = data['y']\n",
    "        for (let i = 0; i < x.length; i++) {\n",
    "            y[i] = Math.pow(x[i], f)\n",
    "        }\n",
    "        source.change.emit();\n",
    "    \"\"\")\n",
    "\n",
    "\n",
    "callback_ion = CustomJS(args=dict(source=source), code=\"\"\"\n",
    "        const data = source.data;\n",
    "        const f = cb_obj.range\n",
    "        const x = data['x']\n",
    "        const y = data['y']\n",
    "        const pow = (Math.log(y[100])/Math.log(x[100]))\n",
    "        console.log(pow)\n",
    "        const delta = (f[1] - f[0])/x.length\n",
    "        for (let i = 0; i < x.length; i++) {\n",
    "            x[i] = delta*i + f[0]\n",
    "            y[i] = Math.pow(x[i], pow)\n",
    "        }\n",
    "        source.change.emit();\n",
    "    \"\"\")\n",
    "\n",
    "\n",
    "slider = Slider(start=0, end=5, step=0.1, value=1, title=\"Bokeh Slider - Power\")\n",
    "slider.js_on_change('value', callback_single)\n",
    "\n",
    "ion_range_slider = IonRangeSlider(start=0.01, end=0.99, step=0.01, range=(min(x), max(x)),\n",
    "    title='Ion Range Slider - Range')\n",
    "ion_range_slider.js_on_change('range', callback_ion)\n",
    "\n",
    "layout = column(plot, slider, ion_range_slider)\n",
    "show(plot)"
   ]
  },
  {
   "cell_type": "code",
   "execution_count": null,
   "id": "28db2f20",
   "metadata": {},
   "outputs": [],
   "source": []
  }
 ],
 "metadata": {
  "kernelspec": {
   "display_name": "Python 3",
   "language": "python",
   "name": "python3"
  },
  "language_info": {
   "codemirror_mode": {
    "name": "ipython",
    "version": 3
   },
   "file_extension": ".py",
   "mimetype": "text/x-python",
   "name": "python",
   "nbconvert_exporter": "python",
   "pygments_lexer": "ipython3",
   "version": "3.8.8"
  }
 },
 "nbformat": 4,
 "nbformat_minor": 5
}
