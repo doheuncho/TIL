{
 "cells": [
  {
   "cell_type": "markdown",
   "metadata": {},
   "source": [
    "## 주간 지하철 이용자 객수(코로나 확산 이후)"
   ]
  },
  {
   "cell_type": "markdown",
   "metadata": {},
   "source": [
    "### 1. 데이터 전처리"
   ]
  },
  {
   "cell_type": "code",
   "execution_count": 1,
   "metadata": {},
   "outputs": [],
   "source": [
    "import pyspark"
   ]
  },
  {
   "cell_type": "code",
   "execution_count": 2,
   "metadata": {},
   "outputs": [],
   "source": [
    "from pyspark.sql import SparkSession\n",
    "spark = SparkSession.builder.getOrCreate()"
   ]
  },
  {
   "cell_type": "code",
   "execution_count": 3,
   "metadata": {},
   "outputs": [
    {
     "name": "stdout",
     "output_type": "stream",
     "text": [
      "+----------+------+------------+------------+------------+--------+\n",
      "|  사용일자|노선명|        역명|승차총승객수|하차총승객수|이용자수|\n",
      "+----------+------+------------+------------+------------+--------+\n",
      "|2018-01-10|분당선|압구정로데오|       16346|       18420|   34766|\n",
      "|2018-01-10|분당선|      서울숲|        7914|        7922|   15836|\n",
      "|2018-01-10|분당선|        수원|        9461|        6280|   15741|\n",
      "|2018-01-10|분당선|        수서|       15403|       15627|   31030|\n",
      "|2018-01-10|분당선|  대모산입구|        3431|        3182|    6613|\n",
      "|2018-01-10|분당선|      개포동|        3582|        3723|    7305|\n",
      "|2018-01-10|분당선|        구룡|        2105|        2005|    4110|\n",
      "|2018-01-10|분당선|        도곡|        7855|        8147|   16002|\n",
      "|2018-01-10|분당선|        한티|       16276|       17214|   33490|\n",
      "|2018-01-10|분당선|        선릉|       10792|       22141|   32933|\n",
      "|2018-01-10|과천선|        범계|       32318|       30961|   63279|\n",
      "|2018-01-10|과천선|        평촌|       19691|       19258|   38949|\n",
      "|2018-01-10|과천선|      인덕원|       28817|       28564|   57381|\n",
      "|2018-01-10|과천선|정부과천청사|       16093|       15480|   31573|\n",
      "|2018-01-10|과천선|        과천|        4888|        4102|    8990|\n",
      "|2018-01-10|과천선|      대공원|        2297|        2422|    4719|\n",
      "|2018-01-10|과천선|    경마공원|        2089|        2110|    4199|\n",
      "|2018-01-10|과천선|      선바위|        9809|        8032|   17841|\n",
      "|2018-01-10|안산선|      수리산|        4848|        3606|    8454|\n",
      "|2018-01-10|안산선|      오이도|        9162|        8912|   18074|\n",
      "+----------+------+------------+------------+------------+--------+\n",
      "only showing top 20 rows\n",
      "\n"
     ]
    }
   ],
   "source": [
    "pq = spark.read.parquet('metro_per_date')\n",
    "pq.show()"
   ]
  },
  {
   "cell_type": "code",
   "execution_count": 4,
   "metadata": {},
   "outputs": [],
   "source": [
    "import pyspark.sql.types as T\n",
    "import pyspark.sql.functions as F"
   ]
  },
  {
   "cell_type": "code",
   "execution_count": 5,
   "metadata": {},
   "outputs": [
    {
     "name": "stdout",
     "output_type": "stream",
     "text": [
      "+----------+------+----------------------+------------+------------+--------+\n",
      "|  사용일자|노선명|                  역명|승차총승객수|하차총승객수|이용자수|\n",
      "+----------+------+----------------------+------------+------------+--------+\n",
      "|2020-01-07| 2호선|                한양대|       10179|       10770|   20949|\n",
      "|2020-01-07| 2호선|                  시청|       30647|       29322|   59969|\n",
      "|2020-01-07| 2호선|      왕십리(성동구청)|       19087|       15781|   34868|\n",
      "|2020-01-07| 1호선|                동대문|       12450|       12843|   25293|\n",
      "|2020-01-07| 1호선|                동묘앞|        6090|        6291|   12381|\n",
      "|2020-01-07| 2호선|             을지로4가|       14987|       14441|   29428|\n",
      "|2020-01-07| 2호선|              상왕십리|       15752|       15295|   31047|\n",
      "|2020-01-07| 1호선|                  시청|       28129|       28050|   56179|\n",
      "|2020-01-07| 1호선|               종로5가|       28447|       27705|   56152|\n",
      "|2020-01-07| 1호선|                제기동|       17678|       17677|   35355|\n",
      "|2020-01-07| 1호선|청량리(서울시립대입구)|       21460|       21728|   43188|\n",
      "|2020-01-07| 2호선|            을지로입구|       56020|       56195|  112215|\n",
      "|2020-01-07| 2호선|             을지로3가|       26809|       25979|   52788|\n",
      "|2020-01-07| 2호선|    동대문역사문화공원|       16222|       18829|   35051|\n",
      "|2020-01-07| 2호선|                  신당|       15025|       15754|   30779|\n",
      "|2020-01-07|장항선|        쌍용(나사렛대)|        1813|        1647|    3460|\n",
      "|2020-01-07| 1호선|                서울역|       56932|       52709|  109641|\n",
      "|2020-01-07| 1호선|                  종각|       49608|       47621|   97229|\n",
      "|2020-01-07| 1호선|               종로3가|       32831|       31628|   64459|\n",
      "|2020-01-07| 1호선|                신설동|       15945|       15650|   31595|\n",
      "+----------+------+----------------------+------------+------------+--------+\n",
      "only showing top 20 rows\n",
      "\n"
     ]
    }
   ],
   "source": [
    "#사용일자를 2월1일로 바꿈\n",
    "df = pq.where(pq.사용일자>'2020-01-06').orderBy(F.asc('`사용일자`'))\n",
    "df.show()"
   ]
  },
  {
   "cell_type": "code",
   "execution_count": 6,
   "metadata": {},
   "outputs": [
    {
     "name": "stdout",
     "output_type": "stream",
     "text": [
      "+----------+------------+\n",
      "|  사용일자|승차총승객수|\n",
      "+----------+------------+\n",
      "|2020-01-07|        1813|\n",
      "|2020-01-07|       56932|\n",
      "|2020-01-07|       28129|\n",
      "|2020-01-07|       49608|\n",
      "|2020-01-07|       32831|\n",
      "|2020-01-07|       28447|\n",
      "|2020-01-07|       12450|\n",
      "|2020-01-07|       15945|\n",
      "|2020-01-07|       17678|\n",
      "|2020-01-07|       21460|\n",
      "|2020-01-07|        6090|\n",
      "|2020-01-07|       30647|\n",
      "|2020-01-07|       56020|\n",
      "|2020-01-07|       26809|\n",
      "|2020-01-07|       14987|\n",
      "|2020-01-07|       16222|\n",
      "|2020-01-07|       15025|\n",
      "|2020-01-07|       15752|\n",
      "|2020-01-07|       19087|\n",
      "|2020-01-07|       10179|\n",
      "+----------+------------+\n",
      "only showing top 20 rows\n",
      "\n"
     ]
    }
   ],
   "source": [
    "df = df.select(\"사용일자\", \"승차총승객수\")\n",
    "df.show()"
   ]
  },
  {
   "cell_type": "code",
   "execution_count": 7,
   "metadata": {},
   "outputs": [
    {
     "data": {
      "text/html": [
       "<div>\n",
       "<style scoped>\n",
       "    .dataframe tbody tr th:only-of-type {\n",
       "        vertical-align: middle;\n",
       "    }\n",
       "\n",
       "    .dataframe tbody tr th {\n",
       "        vertical-align: top;\n",
       "    }\n",
       "\n",
       "    .dataframe thead th {\n",
       "        text-align: right;\n",
       "    }\n",
       "</style>\n",
       "<table border=\"1\" class=\"dataframe\">\n",
       "  <thead>\n",
       "    <tr style=\"text-align: right;\">\n",
       "      <th></th>\n",
       "      <th>사용일자</th>\n",
       "      <th>승차총승객수</th>\n",
       "    </tr>\n",
       "  </thead>\n",
       "  <tbody>\n",
       "    <tr>\n",
       "      <th>0</th>\n",
       "      <td>2020-01-07</td>\n",
       "      <td>1813</td>\n",
       "    </tr>\n",
       "    <tr>\n",
       "      <th>1</th>\n",
       "      <td>2020-01-07</td>\n",
       "      <td>56932</td>\n",
       "    </tr>\n",
       "    <tr>\n",
       "      <th>2</th>\n",
       "      <td>2020-01-07</td>\n",
       "      <td>28129</td>\n",
       "    </tr>\n",
       "    <tr>\n",
       "      <th>3</th>\n",
       "      <td>2020-01-07</td>\n",
       "      <td>49608</td>\n",
       "    </tr>\n",
       "    <tr>\n",
       "      <th>4</th>\n",
       "      <td>2020-01-07</td>\n",
       "      <td>32831</td>\n",
       "    </tr>\n",
       "    <tr>\n",
       "      <th>...</th>\n",
       "      <td>...</td>\n",
       "      <td>...</td>\n",
       "    </tr>\n",
       "    <tr>\n",
       "      <th>377374</th>\n",
       "      <td>2021-09-30</td>\n",
       "      <td>28562</td>\n",
       "    </tr>\n",
       "    <tr>\n",
       "      <th>377375</th>\n",
       "      <td>2021-09-30</td>\n",
       "      <td>9859</td>\n",
       "    </tr>\n",
       "    <tr>\n",
       "      <th>377376</th>\n",
       "      <td>2021-09-30</td>\n",
       "      <td>9308</td>\n",
       "    </tr>\n",
       "    <tr>\n",
       "      <th>377377</th>\n",
       "      <td>2021-09-30</td>\n",
       "      <td>6389</td>\n",
       "    </tr>\n",
       "    <tr>\n",
       "      <th>377378</th>\n",
       "      <td>2021-09-30</td>\n",
       "      <td>14768</td>\n",
       "    </tr>\n",
       "  </tbody>\n",
       "</table>\n",
       "<p>377379 rows × 2 columns</p>\n",
       "</div>"
      ],
      "text/plain": [
       "              사용일자  승차총승객수\n",
       "0       2020-01-07    1813\n",
       "1       2020-01-07   56932\n",
       "2       2020-01-07   28129\n",
       "3       2020-01-07   49608\n",
       "4       2020-01-07   32831\n",
       "...            ...     ...\n",
       "377374  2021-09-30   28562\n",
       "377375  2021-09-30    9859\n",
       "377376  2021-09-30    9308\n",
       "377377  2021-09-30    6389\n",
       "377378  2021-09-30   14768\n",
       "\n",
       "[377379 rows x 2 columns]"
      ]
     },
     "execution_count": 7,
     "metadata": {},
     "output_type": "execute_result"
    }
   ],
   "source": [
    "#주별로 나누기위해 판다스로 변환\n",
    "weekly_df = df.select(\"*\").toPandas()\n",
    "weekly_df"
   ]
  },
  {
   "cell_type": "code",
   "execution_count": 8,
   "metadata": {},
   "outputs": [
    {
     "data": {
      "text/plain": [
       "사용일자      datetime64[ns]\n",
       "승차총승객수             int32\n",
       "dtype: object"
      ]
     },
     "execution_count": 8,
     "metadata": {},
     "output_type": "execute_result"
    }
   ],
   "source": [
    "#사용일자 컬럼이 string이라서 datetime 데이터타입으로 변환해줘야함.\n",
    "import numpy as np\n",
    "import pandas as pd\n",
    "weekly_df['사용일자'] = pd.to_datetime(weekly_df['사용일자'])\n",
    "weekly_df.dtypes"
   ]
  },
  {
   "cell_type": "code",
   "execution_count": 9,
   "metadata": {},
   "outputs": [
    {
     "data": {
      "text/html": [
       "<div>\n",
       "<style scoped>\n",
       "    .dataframe tbody tr th:only-of-type {\n",
       "        vertical-align: middle;\n",
       "    }\n",
       "\n",
       "    .dataframe tbody tr th {\n",
       "        vertical-align: top;\n",
       "    }\n",
       "\n",
       "    .dataframe thead th {\n",
       "        text-align: right;\n",
       "    }\n",
       "</style>\n",
       "<table border=\"1\" class=\"dataframe\">\n",
       "  <thead>\n",
       "    <tr style=\"text-align: right;\">\n",
       "      <th></th>\n",
       "      <th>사용일자</th>\n",
       "      <th>승차총승객수</th>\n",
       "    </tr>\n",
       "  </thead>\n",
       "  <tbody>\n",
       "    <tr>\n",
       "      <th>0</th>\n",
       "      <td>2020-01-13</td>\n",
       "      <td>51210906</td>\n",
       "    </tr>\n",
       "    <tr>\n",
       "      <th>1</th>\n",
       "      <td>2020-01-20</td>\n",
       "      <td>51766720</td>\n",
       "    </tr>\n",
       "    <tr>\n",
       "      <th>2</th>\n",
       "      <td>2020-01-27</td>\n",
       "      <td>37274813</td>\n",
       "    </tr>\n",
       "    <tr>\n",
       "      <th>3</th>\n",
       "      <td>2020-02-03</td>\n",
       "      <td>45239198</td>\n",
       "    </tr>\n",
       "    <tr>\n",
       "      <th>4</th>\n",
       "      <td>2020-02-10</td>\n",
       "      <td>43106598</td>\n",
       "    </tr>\n",
       "    <tr>\n",
       "      <th>...</th>\n",
       "      <td>...</td>\n",
       "      <td>...</td>\n",
       "    </tr>\n",
       "    <tr>\n",
       "      <th>86</th>\n",
       "      <td>2021-09-06</td>\n",
       "      <td>38017487</td>\n",
       "    </tr>\n",
       "    <tr>\n",
       "      <th>87</th>\n",
       "      <td>2021-09-13</td>\n",
       "      <td>38915705</td>\n",
       "    </tr>\n",
       "    <tr>\n",
       "      <th>88</th>\n",
       "      <td>2021-09-20</td>\n",
       "      <td>35178269</td>\n",
       "    </tr>\n",
       "    <tr>\n",
       "      <th>89</th>\n",
       "      <td>2021-09-27</td>\n",
       "      <td>30632894</td>\n",
       "    </tr>\n",
       "    <tr>\n",
       "      <th>90</th>\n",
       "      <td>2021-10-04</td>\n",
       "      <td>18759589</td>\n",
       "    </tr>\n",
       "  </tbody>\n",
       "</table>\n",
       "<p>91 rows × 2 columns</p>\n",
       "</div>"
      ],
      "text/plain": [
       "         사용일자    승차총승객수\n",
       "0  2020-01-13  51210906\n",
       "1  2020-01-20  51766720\n",
       "2  2020-01-27  37274813\n",
       "3  2020-02-03  45239198\n",
       "4  2020-02-10  43106598\n",
       "..        ...       ...\n",
       "86 2021-09-06  38017487\n",
       "87 2021-09-13  38915705\n",
       "88 2021-09-20  35178269\n",
       "89 2021-09-27  30632894\n",
       "90 2021-10-04  18759589\n",
       "\n",
       "[91 rows x 2 columns]"
      ]
     },
     "execution_count": 9,
     "metadata": {},
     "output_type": "execute_result"
    }
   ],
   "source": [
    "#사용일자 컬럼을 일별에서 주별로 나누어 변환함.\n",
    "weekly_df = weekly_df.resample('w-mon', on='사용일자').승차총승객수.sum().reset_index()\n",
    "weekly_df"
   ]
  },
  {
   "cell_type": "code",
   "execution_count": 10,
   "metadata": {},
   "outputs": [
    {
     "data": {
      "text/html": [
       "<div>\n",
       "<style scoped>\n",
       "    .dataframe tbody tr th:only-of-type {\n",
       "        vertical-align: middle;\n",
       "    }\n",
       "\n",
       "    .dataframe tbody tr th {\n",
       "        vertical-align: top;\n",
       "    }\n",
       "\n",
       "    .dataframe thead th {\n",
       "        text-align: right;\n",
       "    }\n",
       "</style>\n",
       "<table border=\"1\" class=\"dataframe\">\n",
       "  <thead>\n",
       "    <tr style=\"text-align: right;\">\n",
       "      <th></th>\n",
       "      <th>사용일자</th>\n",
       "      <th>승차총승객수</th>\n",
       "    </tr>\n",
       "  </thead>\n",
       "  <tbody>\n",
       "    <tr>\n",
       "      <th>0</th>\n",
       "      <td>2020-01-06</td>\n",
       "      <td>51210906</td>\n",
       "    </tr>\n",
       "    <tr>\n",
       "      <th>1</th>\n",
       "      <td>2020-01-13</td>\n",
       "      <td>51766720</td>\n",
       "    </tr>\n",
       "    <tr>\n",
       "      <th>2</th>\n",
       "      <td>2020-01-20</td>\n",
       "      <td>37274813</td>\n",
       "    </tr>\n",
       "    <tr>\n",
       "      <th>3</th>\n",
       "      <td>2020-01-27</td>\n",
       "      <td>45239198</td>\n",
       "    </tr>\n",
       "    <tr>\n",
       "      <th>4</th>\n",
       "      <td>2020-02-03</td>\n",
       "      <td>43106598</td>\n",
       "    </tr>\n",
       "    <tr>\n",
       "      <th>...</th>\n",
       "      <td>...</td>\n",
       "      <td>...</td>\n",
       "    </tr>\n",
       "    <tr>\n",
       "      <th>86</th>\n",
       "      <td>2021-08-30</td>\n",
       "      <td>38017487</td>\n",
       "    </tr>\n",
       "    <tr>\n",
       "      <th>87</th>\n",
       "      <td>2021-09-06</td>\n",
       "      <td>38915705</td>\n",
       "    </tr>\n",
       "    <tr>\n",
       "      <th>88</th>\n",
       "      <td>2021-09-13</td>\n",
       "      <td>35178269</td>\n",
       "    </tr>\n",
       "    <tr>\n",
       "      <th>89</th>\n",
       "      <td>2021-09-20</td>\n",
       "      <td>30632894</td>\n",
       "    </tr>\n",
       "    <tr>\n",
       "      <th>90</th>\n",
       "      <td>2021-09-27</td>\n",
       "      <td>18759589</td>\n",
       "    </tr>\n",
       "  </tbody>\n",
       "</table>\n",
       "<p>91 rows × 2 columns</p>\n",
       "</div>"
      ],
      "text/plain": [
       "         사용일자    승차총승객수\n",
       "0  2020-01-06  51210906\n",
       "1  2020-01-13  51766720\n",
       "2  2020-01-20  37274813\n",
       "3  2020-01-27  45239198\n",
       "4  2020-02-03  43106598\n",
       "..        ...       ...\n",
       "86 2021-08-30  38017487\n",
       "87 2021-09-06  38915705\n",
       "88 2021-09-13  35178269\n",
       "89 2021-09-20  30632894\n",
       "90 2021-09-27  18759589\n",
       "\n",
       "[91 rows x 2 columns]"
      ]
     },
     "execution_count": 10,
     "metadata": {},
     "output_type": "execute_result"
    }
   ],
   "source": [
    "#주별로 계산할때 한주씩 밀려서 일주일씩 빼야함.\n",
    "from datetime import datetime, timedelta\n",
    "weekly_df[\"사용일자\"] = weekly_df['사용일자'] - timedelta(days=7)\n",
    "weekly_df"
   ]
  },
  {
   "cell_type": "code",
   "execution_count": 11,
   "metadata": {},
   "outputs": [
    {
     "data": {
      "text/html": [
       "<div>\n",
       "<style scoped>\n",
       "    .dataframe tbody tr th:only-of-type {\n",
       "        vertical-align: middle;\n",
       "    }\n",
       "\n",
       "    .dataframe tbody tr th {\n",
       "        vertical-align: top;\n",
       "    }\n",
       "\n",
       "    .dataframe thead th {\n",
       "        text-align: right;\n",
       "    }\n",
       "</style>\n",
       "<table border=\"1\" class=\"dataframe\">\n",
       "  <thead>\n",
       "    <tr style=\"text-align: right;\">\n",
       "      <th></th>\n",
       "      <th>사용일자</th>\n",
       "      <th>승차총승객수</th>\n",
       "    </tr>\n",
       "  </thead>\n",
       "  <tbody>\n",
       "    <tr>\n",
       "      <th>0</th>\n",
       "      <td>2020-01-06</td>\n",
       "      <td>51210906</td>\n",
       "    </tr>\n",
       "    <tr>\n",
       "      <th>1</th>\n",
       "      <td>2020-01-13</td>\n",
       "      <td>51766720</td>\n",
       "    </tr>\n",
       "    <tr>\n",
       "      <th>2</th>\n",
       "      <td>2020-01-20</td>\n",
       "      <td>37274813</td>\n",
       "    </tr>\n",
       "    <tr>\n",
       "      <th>3</th>\n",
       "      <td>2020-01-27</td>\n",
       "      <td>45239198</td>\n",
       "    </tr>\n",
       "    <tr>\n",
       "      <th>4</th>\n",
       "      <td>2020-02-03</td>\n",
       "      <td>43106598</td>\n",
       "    </tr>\n",
       "    <tr>\n",
       "      <th>...</th>\n",
       "      <td>...</td>\n",
       "      <td>...</td>\n",
       "    </tr>\n",
       "    <tr>\n",
       "      <th>85</th>\n",
       "      <td>2021-08-23</td>\n",
       "      <td>37077195</td>\n",
       "    </tr>\n",
       "    <tr>\n",
       "      <th>86</th>\n",
       "      <td>2021-08-30</td>\n",
       "      <td>38017487</td>\n",
       "    </tr>\n",
       "    <tr>\n",
       "      <th>87</th>\n",
       "      <td>2021-09-06</td>\n",
       "      <td>38915705</td>\n",
       "    </tr>\n",
       "    <tr>\n",
       "      <th>88</th>\n",
       "      <td>2021-09-13</td>\n",
       "      <td>35178269</td>\n",
       "    </tr>\n",
       "    <tr>\n",
       "      <th>89</th>\n",
       "      <td>2021-09-20</td>\n",
       "      <td>30632894</td>\n",
       "    </tr>\n",
       "  </tbody>\n",
       "</table>\n",
       "<p>90 rows × 2 columns</p>\n",
       "</div>"
      ],
      "text/plain": [
       "         사용일자    승차총승객수\n",
       "0  2020-01-06  51210906\n",
       "1  2020-01-13  51766720\n",
       "2  2020-01-20  37274813\n",
       "3  2020-01-27  45239198\n",
       "4  2020-02-03  43106598\n",
       "..        ...       ...\n",
       "85 2021-08-23  37077195\n",
       "86 2021-08-30  38017487\n",
       "87 2021-09-06  38915705\n",
       "88 2021-09-13  35178269\n",
       "89 2021-09-20  30632894\n",
       "\n",
       "[90 rows x 2 columns]"
      ]
     },
     "execution_count": 11,
     "metadata": {},
     "output_type": "execute_result"
    }
   ],
   "source": [
    "#마지막 행 필요없으므로 삭제(10월1일,2일 데이터가 없으므로)\n",
    "weekly_df = weekly_df.drop(90, axis=0)\n",
    "weekly_df"
   ]
  },
  {
   "cell_type": "code",
   "execution_count": 12,
   "metadata": {},
   "outputs": [
    {
     "data": {
      "text/plain": [
       "사용일자      object\n",
       "승차총승객수     int32\n",
       "dtype: object"
      ]
     },
     "execution_count": 12,
     "metadata": {},
     "output_type": "execute_result"
    }
   ],
   "source": [
    "#parqeut 저장 시 사용일자에 시간이 뜨는 오류가 생겨서 string으로 데이터타입 변환\n",
    "weekly_df = weekly_df.astype({\"사용일자\" : 'str'})\n",
    "weekly_df.dtypes"
   ]
  },
  {
   "cell_type": "code",
   "execution_count": 13,
   "metadata": {},
   "outputs": [
    {
     "data": {
      "text/html": [
       "<div>\n",
       "<style scoped>\n",
       "    .dataframe tbody tr th:only-of-type {\n",
       "        vertical-align: middle;\n",
       "    }\n",
       "\n",
       "    .dataframe tbody tr th {\n",
       "        vertical-align: top;\n",
       "    }\n",
       "\n",
       "    .dataframe thead th {\n",
       "        text-align: right;\n",
       "    }\n",
       "</style>\n",
       "<table border=\"1\" class=\"dataframe\">\n",
       "  <thead>\n",
       "    <tr style=\"text-align: right;\">\n",
       "      <th></th>\n",
       "      <th>사용일자</th>\n",
       "      <th>승차총승객수</th>\n",
       "    </tr>\n",
       "  </thead>\n",
       "  <tbody>\n",
       "    <tr>\n",
       "      <th>0</th>\n",
       "      <td>2020-01-06</td>\n",
       "      <td>51210906</td>\n",
       "    </tr>\n",
       "    <tr>\n",
       "      <th>1</th>\n",
       "      <td>2020-01-13</td>\n",
       "      <td>51766720</td>\n",
       "    </tr>\n",
       "    <tr>\n",
       "      <th>2</th>\n",
       "      <td>2020-01-20</td>\n",
       "      <td>37274813</td>\n",
       "    </tr>\n",
       "    <tr>\n",
       "      <th>3</th>\n",
       "      <td>2020-01-27</td>\n",
       "      <td>45239198</td>\n",
       "    </tr>\n",
       "    <tr>\n",
       "      <th>4</th>\n",
       "      <td>2020-02-03</td>\n",
       "      <td>43106598</td>\n",
       "    </tr>\n",
       "    <tr>\n",
       "      <th>...</th>\n",
       "      <td>...</td>\n",
       "      <td>...</td>\n",
       "    </tr>\n",
       "    <tr>\n",
       "      <th>85</th>\n",
       "      <td>2021-08-23</td>\n",
       "      <td>37077195</td>\n",
       "    </tr>\n",
       "    <tr>\n",
       "      <th>86</th>\n",
       "      <td>2021-08-30</td>\n",
       "      <td>38017487</td>\n",
       "    </tr>\n",
       "    <tr>\n",
       "      <th>87</th>\n",
       "      <td>2021-09-06</td>\n",
       "      <td>38915705</td>\n",
       "    </tr>\n",
       "    <tr>\n",
       "      <th>88</th>\n",
       "      <td>2021-09-13</td>\n",
       "      <td>35178269</td>\n",
       "    </tr>\n",
       "    <tr>\n",
       "      <th>89</th>\n",
       "      <td>2021-09-20</td>\n",
       "      <td>30632894</td>\n",
       "    </tr>\n",
       "  </tbody>\n",
       "</table>\n",
       "<p>90 rows × 2 columns</p>\n",
       "</div>"
      ],
      "text/plain": [
       "          사용일자    승차총승객수\n",
       "0   2020-01-06  51210906\n",
       "1   2020-01-13  51766720\n",
       "2   2020-01-20  37274813\n",
       "3   2020-01-27  45239198\n",
       "4   2020-02-03  43106598\n",
       "..         ...       ...\n",
       "85  2021-08-23  37077195\n",
       "86  2021-08-30  38017487\n",
       "87  2021-09-06  38915705\n",
       "88  2021-09-13  35178269\n",
       "89  2021-09-20  30632894\n",
       "\n",
       "[90 rows x 2 columns]"
      ]
     },
     "execution_count": 13,
     "metadata": {},
     "output_type": "execute_result"
    }
   ],
   "source": [
    "weekly_df"
   ]
  },
  {
   "cell_type": "code",
   "execution_count": 14,
   "metadata": {},
   "outputs": [],
   "source": [
    "#parquet 저장\n",
    "weekly_df.to_parquet(\"metro_per_week.parquet\")"
   ]
  },
  {
   "cell_type": "code",
   "execution_count": 15,
   "metadata": {},
   "outputs": [
    {
     "name": "stdout",
     "output_type": "stream",
     "text": [
      "+----------+------------+-----------------+\n",
      "|  사용일자|승차총승객수|__index_level_0__|\n",
      "+----------+------------+-----------------+\n",
      "|2020-01-06|    51210906|                0|\n",
      "|2020-01-13|    51766720|                1|\n",
      "|2020-01-20|    37274813|                2|\n",
      "|2020-01-27|    45239198|                3|\n",
      "|2020-02-03|    43106598|                4|\n",
      "|2020-02-10|    45354541|                5|\n",
      "|2020-02-17|    41549862|                6|\n",
      "|2020-02-24|    31072502|                7|\n",
      "|2020-03-02|    30928877|                8|\n",
      "|2020-03-09|    31240762|                9|\n",
      "|2020-03-16|    32227520|               10|\n",
      "|2020-03-23|    32907278|               11|\n",
      "|2020-03-30|    33426691|               12|\n",
      "|2020-04-06|    34455083|               13|\n",
      "|2020-04-13|    32771421|               14|\n",
      "|2020-04-20|    37360899|               15|\n",
      "|2020-04-27|    33043966|               16|\n",
      "|2020-05-04|    36543135|               17|\n",
      "|2020-05-11|    38632631|               18|\n",
      "|2020-05-18|    39848296|               19|\n",
      "+----------+------------+-----------------+\n",
      "only showing top 20 rows\n",
      "\n"
     ]
    }
   ],
   "source": [
    "#parquet 파일 확인\n",
    "pq = spark.read.parquet('metro_per_week.parquet')\n",
    "pq.show()"
   ]
  },
  {
   "cell_type": "markdown",
   "metadata": {},
   "source": [
    "## 2. 그래프 확인"
   ]
  },
  {
   "cell_type": "code",
   "execution_count": 16,
   "metadata": {},
   "outputs": [],
   "source": [
    "#그래프 예시\n",
    "from matplotlib import pyplot as plt\n",
    "import matplotlib.ticker as mticker"
   ]
  },
  {
   "cell_type": "code",
   "execution_count": 18,
   "metadata": {},
   "outputs": [
    {
     "data": {
      "image/png": "[encoded data removed]",
      "text/plain": [
       "<Figure size 1152x432 with 1 Axes>"
      ]
     },
     "metadata": {
      "needs_background": "light"
     },
     "output_type": "display_data"
    }
   ],
   "source": [
    "plt.figure(figsize=(16,6))\n",
    "plt.plot(weekly_df['사용일자'], weekly_df['승차총승객수']/1000)\n",
    "plt.gca().yaxis.set_major_formatter(mticker.FormatStrFormatter('%i K'))\n",
    "plt.show()"
   ]
  },
  {
   "cell_type": "code",
   "execution_count": null,
   "metadata": {},
   "outputs": [],
   "source": []
  }
 ],
 "metadata": {
  "kernelspec": {
   "display_name": "Python 3",
   "language": "python",
   "name": "python3"
  },
  "language_info": {
   "codemirror_mode": {
    "name": "ipython",
    "version": 3
   },
   "file_extension": ".py",
   "mimetype": "text/x-python",
   "name": "python",
   "nbconvert_exporter": "python",
   "pygments_lexer": "ipython3",
   "version": "3.7.6"
  }
 },
 "nbformat": 4,
 "nbformat_minor": 4
}
