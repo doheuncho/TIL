{
 "cells": [
  {
   "cell_type": "markdown",
   "metadata": {},
   "source": [
    "## 일자별 지하철 이용자수 (20년 이후)"
   ]
  },
  {
   "cell_type": "markdown",
   "metadata": {},
   "source": [
    "### 1. csv merge"
   ]
  },
  {
   "cell_type": "code",
   "execution_count": 1,
   "metadata": {},
   "outputs": [],
   "source": [
    "import pyspark"
   ]
  },
  {
   "cell_type": "code",
   "execution_count": 2,
   "metadata": {},
   "outputs": [
    {
     "name": "stdout",
     "output_type": "stream",
     "text": [
      "['./data2\\\\corona_post1.csv', './data2\\\\corona_previous1.csv']\n"
     ]
    }
   ],
   "source": [
    "import pandas as pd\n",
    "import glob\n",
    "import os\n",
    "\n",
    "input_file = r'./data2'\n",
    "output_file = r'./data2/metro_per_date2.csv'\n",
    "\n",
    "allFile_list = glob.glob(os.path.join(input_file, 'corona_*'))\n",
    "print(allFile_list)\n",
    "allData = []\n",
    "for file in allFile_list:\n",
    "    df = pd.read_csv(file, encoding='utf-8')\n",
    "    allData.append(df)\n",
    "\n",
    "dataCombine = pd.concat(allData, axis=0, ignore_index=True)\n",
    "dataCombine.to_csv(output_file,encoding='utf-8', index=False)"
   ]
  },
  {
   "cell_type": "code",
   "execution_count": 3,
   "metadata": {},
   "outputs": [],
   "source": [
    "from pyspark.sql import SparkSession\n",
    "spark = SparkSession.builder.getOrCreate()"
   ]
  },
  {
   "cell_type": "code",
   "execution_count": 4,
   "metadata": {},
   "outputs": [],
   "source": [
    "df = spark.read.format(\"csv\").option(\"header\", True).load(\"./data2/metro_per_date2.csv\", encoding='utf-8')"
   ]
  },
  {
   "cell_type": "code",
   "execution_count": 5,
   "metadata": {},
   "outputs": [
    {
     "name": "stdout",
     "output_type": "stream",
     "text": [
      "root\n",
      " |-- 사용일자: string (nullable = true)\n",
      " |-- 노선명: string (nullable = true)\n",
      " |-- 역명: string (nullable = true)\n",
      " |-- 승차총승객수: string (nullable = true)\n",
      " |-- 하차총승객수: string (nullable = true)\n",
      " |-- 등록일자: string (nullable = true)\n",
      "\n"
     ]
    }
   ],
   "source": [
    "df.printSchema()"
   ]
  },
  {
   "cell_type": "code",
   "execution_count": 6,
   "metadata": {},
   "outputs": [
    {
     "name": "stdout",
     "output_type": "stream",
     "text": [
      "+--------+------------+--------------------+------------+------------+--------+\n",
      "|사용일자|      노선명|                역명|승차총승객수|하차총승객수|등록일자|\n",
      "+--------+------------+--------------------+------------+------------+--------+\n",
      "|20200101|       1호선|                종각|     20427.0|     16301.0|20200104|\n",
      "|20200101|       1호선|                시청|     12126.0|     10516.0|20200104|\n",
      "|20200101|  우이신설선|              신설동|       892.0|       828.0|20200104|\n",
      "|20200101|  우이신설선|                보문|       917.0|       855.0|20200104|\n",
      "|20200101|  우이신설선|  성신여대입구(돈암)|      2010.0|      2363.0|20200104|\n",
      "|20200101|  우이신설선|                정릉|      2096.0|      1989.0|20200104|\n",
      "|20200101|  우이신설선|        북한산보국문|      2945.0|      2849.0|20200104|\n",
      "|20200101|  우이신설선|                솔샘|      2477.0|      2272.0|20200104|\n",
      "|20200101|  우이신설선|          삼양사거리|      1288.0|      1316.0|20200104|\n",
      "|20200101|  우이신설선|                삼양|      1113.0|      1188.0|20200104|\n",
      "|20200101|  우이신설선|                화계|      1789.0|      1690.0|20200104|\n",
      "|20200101|  우이신설선|              가오리|      2041.0|      1974.0|20200104|\n",
      "|20200101|  우이신설선|        4.19민주묘지|      1504.0|      1352.0|20200104|\n",
      "|20200101|  우이신설선|            솔밭공원|      1201.0|      1209.0|20200104|\n",
      "|20200101|  우이신설선|          북한산우이|      3048.0|      2766.0|20200104|\n",
      "|20200101|9호선2~3단계|        중앙보훈병원|      2911.0|      2864.0|20200104|\n",
      "|20200101|9호선2~3단계|            둔촌오륜|       333.0|       354.0|20200104|\n",
      "|20200101|9호선2~3단계|올림픽공원(한국체대)|      2371.0|      2475.0|20200104|\n",
      "|20200101|9호선2~3단계|            한성백제|      1482.0|      1185.0|20200104|\n",
      "|20200101|9호선2~3단계|            송파나루|      2060.0|      2100.0|20200104|\n",
      "+--------+------------+--------------------+------------+------------+--------+\n",
      "only showing top 20 rows\n",
      "\n"
     ]
    }
   ],
   "source": [
    "df.show()"
   ]
  },
  {
   "cell_type": "markdown",
   "metadata": {},
   "source": [
    "### 2. 데이터 전처리과정"
   ]
  },
  {
   "cell_type": "code",
   "execution_count": 7,
   "metadata": {},
   "outputs": [],
   "source": [
    "import pyspark.sql.types as T\n",
    "import pyspark.sql.functions as F"
   ]
  },
  {
   "cell_type": "code",
   "execution_count": 8,
   "metadata": {},
   "outputs": [],
   "source": [
    "#컬럼 데이터타입 변환\n",
    "df = df.withColumn('사용일자',F.to_date(F.col(\"사용일자\"),\"yyyyMMdd\"))\\\n",
    ".withColumn('승차총승객수',F.col('승차총승객수').cast(T.IntegerType()))\\\n",
    ".withColumn('하차총승객수',F.col('하차총승객수').cast(T.IntegerType()))"
   ]
  },
  {
   "cell_type": "code",
   "execution_count": 9,
   "metadata": {},
   "outputs": [
    {
     "name": "stdout",
     "output_type": "stream",
     "text": [
      "root\n",
      " |-- 사용일자: date (nullable = true)\n",
      " |-- 노선명: string (nullable = true)\n",
      " |-- 역명: string (nullable = true)\n",
      " |-- 승차총승객수: integer (nullable = true)\n",
      " |-- 하차총승객수: integer (nullable = true)\n",
      " |-- 등록일자: string (nullable = true)\n",
      "\n"
     ]
    }
   ],
   "source": [
    "df.printSchema()"
   ]
  },
  {
   "cell_type": "code",
   "execution_count": 10,
   "metadata": {},
   "outputs": [
    {
     "name": "stdout",
     "output_type": "stream",
     "text": [
      "+----------+------------+--------------------+------------+------------+--------+\n",
      "|  사용일자|      노선명|                역명|승차총승객수|하차총승객수|등록일자|\n",
      "+----------+------------+--------------------+------------+------------+--------+\n",
      "|2020-01-01|       1호선|                종각|       20427|       16301|20200104|\n",
      "|2020-01-01|       1호선|                시청|       12126|       10516|20200104|\n",
      "|2020-01-01|  우이신설선|              신설동|         892|         828|20200104|\n",
      "|2020-01-01|  우이신설선|                보문|         917|         855|20200104|\n",
      "|2020-01-01|  우이신설선|  성신여대입구(돈암)|        2010|        2363|20200104|\n",
      "|2020-01-01|  우이신설선|                정릉|        2096|        1989|20200104|\n",
      "|2020-01-01|  우이신설선|        북한산보국문|        2945|        2849|20200104|\n",
      "|2020-01-01|  우이신설선|                솔샘|        2477|        2272|20200104|\n",
      "|2020-01-01|  우이신설선|          삼양사거리|        1288|        1316|20200104|\n",
      "|2020-01-01|  우이신설선|                삼양|        1113|        1188|20200104|\n",
      "|2020-01-01|  우이신설선|                화계|        1789|        1690|20200104|\n",
      "|2020-01-01|  우이신설선|              가오리|        2041|        1974|20200104|\n",
      "|2020-01-01|  우이신설선|        4.19민주묘지|        1504|        1352|20200104|\n",
      "|2020-01-01|  우이신설선|            솔밭공원|        1201|        1209|20200104|\n",
      "|2020-01-01|  우이신설선|          북한산우이|        3048|        2766|20200104|\n",
      "|2020-01-01|9호선2~3단계|        중앙보훈병원|        2911|        2864|20200104|\n",
      "|2020-01-01|9호선2~3단계|            둔촌오륜|         333|         354|20200104|\n",
      "|2020-01-01|9호선2~3단계|올림픽공원(한국체대)|        2371|        2475|20200104|\n",
      "|2020-01-01|9호선2~3단계|            한성백제|        1482|        1185|20200104|\n",
      "|2020-01-01|9호선2~3단계|            송파나루|        2060|        2100|20200104|\n",
      "+----------+------------+--------------------+------------+------------+--------+\n",
      "only showing top 20 rows\n",
      "\n"
     ]
    }
   ],
   "source": [
    "df.show()"
   ]
  },
  {
   "cell_type": "code",
   "execution_count": 11,
   "metadata": {},
   "outputs": [
    {
     "data": {
      "text/plain": [
       "0"
      ]
     },
     "execution_count": 11,
     "metadata": {},
     "output_type": "execute_result"
    }
   ],
   "source": [
    "#Null 값 확인\n",
    "df.where(F.col('하차총승객수').isNull()==True).count()"
   ]
  },
  {
   "cell_type": "code",
   "execution_count": 12,
   "metadata": {},
   "outputs": [
    {
     "data": {
      "text/plain": [
       "0"
      ]
     },
     "execution_count": 12,
     "metadata": {},
     "output_type": "execute_result"
    }
   ],
   "source": [
    "#이상치 확인\n",
    "df.where(F.col('하차총승객수')<0).count()"
   ]
  },
  {
   "cell_type": "code",
   "execution_count": 13,
   "metadata": {},
   "outputs": [
    {
     "name": "stdout",
     "output_type": "stream",
     "text": [
      "+----------+------------+--------------------+------------+------------+--------+--------+\n",
      "|  사용일자|      노선명|                역명|승차총승객수|하차총승객수|등록일자|이용객수|\n",
      "+----------+------------+--------------------+------------+------------+--------+--------+\n",
      "|2020-01-01|       1호선|                종각|       20427|       16301|20200104|   36728|\n",
      "|2020-01-01|       1호선|                시청|       12126|       10516|20200104|   22642|\n",
      "|2020-01-01|  우이신설선|              신설동|         892|         828|20200104|    1720|\n",
      "|2020-01-01|  우이신설선|                보문|         917|         855|20200104|    1772|\n",
      "|2020-01-01|  우이신설선|  성신여대입구(돈암)|        2010|        2363|20200104|    4373|\n",
      "|2020-01-01|  우이신설선|                정릉|        2096|        1989|20200104|    4085|\n",
      "|2020-01-01|  우이신설선|        북한산보국문|        2945|        2849|20200104|    5794|\n",
      "|2020-01-01|  우이신설선|                솔샘|        2477|        2272|20200104|    4749|\n",
      "|2020-01-01|  우이신설선|          삼양사거리|        1288|        1316|20200104|    2604|\n",
      "|2020-01-01|  우이신설선|                삼양|        1113|        1188|20200104|    2301|\n",
      "|2020-01-01|  우이신설선|                화계|        1789|        1690|20200104|    3479|\n",
      "|2020-01-01|  우이신설선|              가오리|        2041|        1974|20200104|    4015|\n",
      "|2020-01-01|  우이신설선|        4.19민주묘지|        1504|        1352|20200104|    2856|\n",
      "|2020-01-01|  우이신설선|            솔밭공원|        1201|        1209|20200104|    2410|\n",
      "|2020-01-01|  우이신설선|          북한산우이|        3048|        2766|20200104|    5814|\n",
      "|2020-01-01|9호선2~3단계|        중앙보훈병원|        2911|        2864|20200104|    5775|\n",
      "|2020-01-01|9호선2~3단계|            둔촌오륜|         333|         354|20200104|     687|\n",
      "|2020-01-01|9호선2~3단계|올림픽공원(한국체대)|        2371|        2475|20200104|    4846|\n",
      "|2020-01-01|9호선2~3단계|            한성백제|        1482|        1185|20200104|    2667|\n",
      "|2020-01-01|9호선2~3단계|            송파나루|        2060|        2100|20200104|    4160|\n",
      "+----------+------------+--------------------+------------+------------+--------+--------+\n",
      "only showing top 20 rows\n",
      "\n"
     ]
    }
   ],
   "source": [
    "#이용자 수 컬럼 생성(승차총승객수 + 하차총승객수)\n",
    "df = df.withColumn('이용객수', sum([df[col] for col in [\"`승차총승객수`\",\"`하차총승객수`\"]]))\n",
    "df.show()"
   ]
  },
  {
   "cell_type": "code",
   "execution_count": 14,
   "metadata": {},
   "outputs": [
    {
     "name": "stdout",
     "output_type": "stream",
     "text": [
      "+----------+------------+--------------------+------------+------------+--------+\n",
      "|  사용일자|      노선명|                역명|승차총승객수|하차총승객수|이용객수|\n",
      "+----------+------------+--------------------+------------+------------+--------+\n",
      "|2020-01-01|       1호선|                종각|       20427|       16301|   36728|\n",
      "|2020-01-01|       1호선|                시청|       12126|       10516|   22642|\n",
      "|2020-01-01|  우이신설선|              신설동|         892|         828|    1720|\n",
      "|2020-01-01|  우이신설선|                보문|         917|         855|    1772|\n",
      "|2020-01-01|  우이신설선|  성신여대입구(돈암)|        2010|        2363|    4373|\n",
      "|2020-01-01|  우이신설선|                정릉|        2096|        1989|    4085|\n",
      "|2020-01-01|  우이신설선|        북한산보국문|        2945|        2849|    5794|\n",
      "|2020-01-01|  우이신설선|                솔샘|        2477|        2272|    4749|\n",
      "|2020-01-01|  우이신설선|          삼양사거리|        1288|        1316|    2604|\n",
      "|2020-01-01|  우이신설선|                삼양|        1113|        1188|    2301|\n",
      "|2020-01-01|  우이신설선|                화계|        1789|        1690|    3479|\n",
      "|2020-01-01|  우이신설선|              가오리|        2041|        1974|    4015|\n",
      "|2020-01-01|  우이신설선|        4.19민주묘지|        1504|        1352|    2856|\n",
      "|2020-01-01|  우이신설선|            솔밭공원|        1201|        1209|    2410|\n",
      "|2020-01-01|  우이신설선|          북한산우이|        3048|        2766|    5814|\n",
      "|2020-01-01|9호선2~3단계|        중앙보훈병원|        2911|        2864|    5775|\n",
      "|2020-01-01|9호선2~3단계|            둔촌오륜|         333|         354|     687|\n",
      "|2020-01-01|9호선2~3단계|올림픽공원(한국체대)|        2371|        2475|    4846|\n",
      "|2020-01-01|9호선2~3단계|            한성백제|        1482|        1185|    2667|\n",
      "|2020-01-01|9호선2~3단계|            송파나루|        2060|        2100|    4160|\n",
      "+----------+------------+--------------------+------------+------------+--------+\n",
      "only showing top 20 rows\n",
      "\n"
     ]
    }
   ],
   "source": [
    "#필요없는 컬럼 제거\n",
    "df = df.drop('등록일자')\n",
    "df.show()"
   ]
  },
  {
   "cell_type": "code",
   "execution_count": 15,
   "metadata": {},
   "outputs": [
    {
     "name": "stdout",
     "output_type": "stream",
     "text": [
      "+----------+----------+--------------------+------------+------------+--------+\n",
      "|  사용일자|    노선명|                역명|승차총승객수|하차총승객수|이용객수|\n",
      "+----------+----------+--------------------+------------+------------+--------+\n",
      "|2020-01-01|     1호선|                종각|       20427|       16301|   36728|\n",
      "|2020-01-01|     1호선|                시청|       12126|       10516|   22642|\n",
      "|2020-01-01|우이신설선|              신설동|         892|         828|    1720|\n",
      "|2020-01-01|우이신설선|                보문|         917|         855|    1772|\n",
      "|2020-01-01|우이신설선|  성신여대입구(돈암)|        2010|        2363|    4373|\n",
      "|2020-01-01|우이신설선|                정릉|        2096|        1989|    4085|\n",
      "|2020-01-01|우이신설선|        북한산보국문|        2945|        2849|    5794|\n",
      "|2020-01-01|우이신설선|                솔샘|        2477|        2272|    4749|\n",
      "|2020-01-01|우이신설선|          삼양사거리|        1288|        1316|    2604|\n",
      "|2020-01-01|우이신설선|                삼양|        1113|        1188|    2301|\n",
      "|2020-01-01|우이신설선|                화계|        1789|        1690|    3479|\n",
      "|2020-01-01|우이신설선|              가오리|        2041|        1974|    4015|\n",
      "|2020-01-01|우이신설선|        4.19민주묘지|        1504|        1352|    2856|\n",
      "|2020-01-01|우이신설선|            솔밭공원|        1201|        1209|    2410|\n",
      "|2020-01-01|우이신설선|          북한산우이|        3048|        2766|    5814|\n",
      "|2020-01-01|     9호선|        중앙보훈병원|        2911|        2864|    5775|\n",
      "|2020-01-01|     9호선|            둔촌오륜|         333|         354|     687|\n",
      "|2020-01-01|     9호선|올림픽공원(한국체대)|        2371|        2475|    4846|\n",
      "|2020-01-01|     9호선|            한성백제|        1482|        1185|    2667|\n",
      "|2020-01-01|     9호선|            송파나루|        2060|        2100|    4160|\n",
      "+----------+----------+--------------------+------------+------------+--------+\n",
      "only showing top 20 rows\n",
      "\n"
     ]
    }
   ],
   "source": [
    "#9호선2~3단계를 9호선으로 변경\n",
    "df = df.withColumn(\"노선명\", F.when(df.노선명 == \"9호선2~3단계\",\"9호선\").otherwise(df.노선명))\n",
    "df = df.withColumn(\"노선명\", F.when(df.노선명 == \"9호선2단계\",\"9호선\").otherwise(df.노선명))\n",
    "df.show()"
   ]
  },
  {
   "cell_type": "code",
   "execution_count": 16,
   "metadata": {},
   "outputs": [
    {
     "name": "stdout",
     "output_type": "stream",
     "text": [
      "+----------+----------+--------------------+------------+------------+--------+\n",
      "|  사용일자|    노선명|                역명|승차총승객수|하차총승객수|이용객수|\n",
      "+----------+----------+--------------------+------------+------------+--------+\n",
      "|2020-01-01|     1호선|                종각|       20427|       16301|   36728|\n",
      "|2020-01-01|     1호선|                시청|       12126|       10516|   22642|\n",
      "|2020-01-01|우이신설선|              신설동|         892|         828|    1720|\n",
      "|2020-01-01|우이신설선|                보문|         917|         855|    1772|\n",
      "|2020-01-01|우이신설선|  성신여대입구(돈암)|        2010|        2363|    4373|\n",
      "|2020-01-01|우이신설선|                정릉|        2096|        1989|    4085|\n",
      "|2020-01-01|우이신설선|        북한산보국문|        2945|        2849|    5794|\n",
      "|2020-01-01|우이신설선|                솔샘|        2477|        2272|    4749|\n",
      "|2020-01-01|우이신설선|          삼양사거리|        1288|        1316|    2604|\n",
      "|2020-01-01|우이신설선|                삼양|        1113|        1188|    2301|\n",
      "|2020-01-01|우이신설선|                화계|        1789|        1690|    3479|\n",
      "|2020-01-01|우이신설선|              가오리|        2041|        1974|    4015|\n",
      "|2020-01-01|우이신설선|        4.19민주묘지|        1504|        1352|    2856|\n",
      "|2020-01-01|우이신설선|            솔밭공원|        1201|        1209|    2410|\n",
      "|2020-01-01|우이신설선|          북한산우이|        3048|        2766|    5814|\n",
      "|2020-01-01|     9호선|        중앙보훈병원|        2911|        2864|    5775|\n",
      "|2020-01-01|     9호선|            둔촌오륜|         333|         354|     687|\n",
      "|2020-01-01|     9호선|올림픽공원(한국체대)|        2371|        2475|    4846|\n",
      "|2020-01-01|     9호선|            한성백제|        1482|        1185|    2667|\n",
      "|2020-01-01|     9호선|            송파나루|        2060|        2100|    4160|\n",
      "+----------+----------+--------------------+------------+------------+--------+\n",
      "only showing top 20 rows\n",
      "\n"
     ]
    }
   ],
   "source": [
    "#공항철도 1호선을 공항철도로 변경\n",
    "df = df.withColumn(\"노선명\", F.when(df.노선명 == \"공항철도 1호선\",\"공항철도\").otherwise(df.노선명))\n",
    "df.show()"
   ]
  },
  {
   "cell_type": "code",
   "execution_count": 17,
   "metadata": {},
   "outputs": [
    {
     "data": {
      "text/plain": [
       "[Row(노선명='일산선'),\n",
       " Row(노선명='장항선'),\n",
       " Row(노선명='경부선'),\n",
       " Row(노선명='우이신설선'),\n",
       " Row(노선명='분당선'),\n",
       " Row(노선명='7호선'),\n",
       " Row(노선명='수인선'),\n",
       " Row(노선명='안산선'),\n",
       " Row(노선명='4호선'),\n",
       " Row(노선명='1호선'),\n",
       " Row(노선명='경의선'),\n",
       " Row(노선명='3호선'),\n",
       " Row(노선명='경강선'),\n",
       " Row(노선명='경춘선'),\n",
       " Row(노선명='9호선'),\n",
       " Row(노선명='6호선'),\n",
       " Row(노선명='5호선'),\n",
       " Row(노선명='8호선'),\n",
       " Row(노선명='공항철도'),\n",
       " Row(노선명='과천선'),\n",
       " Row(노선명='경인선'),\n",
       " Row(노선명='중앙선'),\n",
       " Row(노선명='2호선'),\n",
       " Row(노선명='경원선')]"
      ]
     },
     "execution_count": 17,
     "metadata": {},
     "output_type": "execute_result"
    }
   ],
   "source": [
    "#전처리 확인\n",
    "df.select('노선명').distinct().collect()"
   ]
  },
  {
   "cell_type": "code",
   "execution_count": 18,
   "metadata": {},
   "outputs": [],
   "source": [
    "#parquet파일 저장\n",
    "df.write.parquet('metro_per_date')"
   ]
  },
  {
   "cell_type": "markdown",
   "metadata": {},
   "source": [
    "### 3. 데이터 분석과정"
   ]
  },
  {
   "cell_type": "code",
   "execution_count": 19,
   "metadata": {},
   "outputs": [
    {
     "name": "stdout",
     "output_type": "stream",
     "text": [
      "+----------+------+------------+------------+------------+--------+\n",
      "|  사용일자|노선명|        역명|승차총승객수|하차총승객수|이용객수|\n",
      "+----------+------+------------+------------+------------+--------+\n",
      "|2018-01-10|분당선|압구정로데오|       16346|       18420|   34766|\n",
      "|2018-01-10|분당선|      서울숲|        7914|        7922|   15836|\n",
      "|2018-01-10|분당선|        수원|        9461|        6280|   15741|\n",
      "|2018-01-10|분당선|        수서|       15403|       15627|   31030|\n",
      "|2018-01-10|분당선|  대모산입구|        3431|        3182|    6613|\n",
      "|2018-01-10|분당선|      개포동|        3582|        3723|    7305|\n",
      "|2018-01-10|분당선|        구룡|        2105|        2005|    4110|\n",
      "|2018-01-10|분당선|        도곡|        7855|        8147|   16002|\n",
      "|2018-01-10|분당선|        한티|       16276|       17214|   33490|\n",
      "|2018-01-10|분당선|        선릉|       10792|       22141|   32933|\n",
      "|2018-01-10|과천선|        범계|       32318|       30961|   63279|\n",
      "|2018-01-10|과천선|        평촌|       19691|       19258|   38949|\n",
      "|2018-01-10|과천선|      인덕원|       28817|       28564|   57381|\n",
      "|2018-01-10|과천선|정부과천청사|       16093|       15480|   31573|\n",
      "|2018-01-10|과천선|        과천|        4888|        4102|    8990|\n",
      "|2018-01-10|과천선|      대공원|        2297|        2422|    4719|\n",
      "|2018-01-10|과천선|    경마공원|        2089|        2110|    4199|\n",
      "|2018-01-10|과천선|      선바위|        9809|        8032|   17841|\n",
      "|2018-01-10|안산선|      수리산|        4848|        3606|    8454|\n",
      "|2018-01-10|안산선|      오이도|        9162|        8912|   18074|\n",
      "+----------+------+------------+------------+------------+--------+\n",
      "only showing top 20 rows\n",
      "\n"
     ]
    }
   ],
   "source": [
    "pq = spark.read.parquet('metro_per_date')\n",
    "pq.show()"
   ]
  },
  {
   "cell_type": "code",
   "execution_count": 20,
   "metadata": {},
   "outputs": [
    {
     "data": {
      "text/plain": [
       "StructType(List(StructField(사용일자,DateType,true),StructField(노선명,StringType,true),StructField(역명,StringType,true),StructField(승차총승객수,IntegerType,true),StructField(하차총승객수,IntegerType,true),StructField(이용객수,IntegerType,true)))"
      ]
     },
     "execution_count": 20,
     "metadata": {},
     "output_type": "execute_result"
    }
   ],
   "source": [
    "pq.schema"
   ]
  },
  {
   "cell_type": "code",
   "execution_count": 21,
   "metadata": {},
   "outputs": [
    {
     "data": {
      "text/plain": [
       "809443"
      ]
     },
     "execution_count": 21,
     "metadata": {},
     "output_type": "execute_result"
    }
   ],
   "source": [
    "pq.count()"
   ]
  },
  {
   "cell_type": "code",
   "execution_count": 22,
   "metadata": {},
   "outputs": [
    {
     "name": "stdout",
     "output_type": "stream",
     "text": [
      "+----------+------------+\n",
      "|  사용일자|일별이용자수|\n",
      "+----------+------------+\n",
      "|2021-09-30|     6398703|\n",
      "|2021-09-29|     6069925|\n",
      "|2021-09-28|     6290961|\n",
      "|2021-09-27|     6283331|\n",
      "|2021-09-26|     3092457|\n",
      "|2021-09-25|     4268559|\n",
      "|2021-09-24|     6308669|\n",
      "|2021-09-23|     5926216|\n",
      "|2021-09-22|     2844480|\n",
      "|2021-09-21|     1909182|\n",
      "|2021-09-20|     2388026|\n",
      "|2021-09-19|     2951063|\n",
      "|2021-09-18|     4070548|\n",
      "|2021-09-17|     6524487|\n",
      "|2021-09-16|     6448207|\n",
      "|2021-09-15|     6460104|\n",
      "|2021-09-14|     6335834|\n",
      "|2021-09-13|     6268263|\n",
      "|2021-09-12|     3247734|\n",
      "|2021-09-11|     4477493|\n",
      "+----------+------------+\n",
      "only showing top 20 rows\n",
      "\n"
     ]
    }
   ],
   "source": [
    "#일별이용자수를 그래프로 나타냄\n",
    "import matplotlib.pyplot as plt\n",
    "import matplotlib.ticker as mticker\n",
    "df.groupby('`사용일자`').agg(F.sum('`승차총승객수`').alias('일별이용자수')).orderBy(F.desc('`사용일자`')).show()"
   ]
  },
  {
   "cell_type": "code",
   "execution_count": 23,
   "metadata": {},
   "outputs": [],
   "source": [
    "user_per_date = df.groupby('`사용일자`').agg(F.sum('`승차총승객수`').alias('일별이용자수')).orderBy(F.asc('`사용일자`'))"
   ]
  },
  {
   "cell_type": "code",
   "execution_count": 24,
   "metadata": {},
   "outputs": [],
   "source": [
    "user_per_date = user_per_date.select(\"*\").toPandas()"
   ]
  },
  {
   "cell_type": "code",
   "execution_count": 25,
   "metadata": {},
   "outputs": [
    {
     "data": {
      "text/html": [
       "<div>\n",
       "<style scoped>\n",
       "    .dataframe tbody tr th:only-of-type {\n",
       "        vertical-align: middle;\n",
       "    }\n",
       "\n",
       "    .dataframe tbody tr th {\n",
       "        vertical-align: top;\n",
       "    }\n",
       "\n",
       "    .dataframe thead th {\n",
       "        text-align: right;\n",
       "    }\n",
       "</style>\n",
       "<table border=\"1\" class=\"dataframe\">\n",
       "  <thead>\n",
       "    <tr style=\"text-align: right;\">\n",
       "      <th></th>\n",
       "      <th>사용일자</th>\n",
       "      <th>일별이용자수</th>\n",
       "    </tr>\n",
       "  </thead>\n",
       "  <tbody>\n",
       "    <tr>\n",
       "      <th>0</th>\n",
       "      <td>2018-01-01</td>\n",
       "      <td>3520929</td>\n",
       "    </tr>\n",
       "    <tr>\n",
       "      <th>1</th>\n",
       "      <td>2018-01-02</td>\n",
       "      <td>7505016</td>\n",
       "    </tr>\n",
       "    <tr>\n",
       "      <th>2</th>\n",
       "      <td>2018-01-03</td>\n",
       "      <td>7681469</td>\n",
       "    </tr>\n",
       "    <tr>\n",
       "      <th>3</th>\n",
       "      <td>2018-01-04</td>\n",
       "      <td>7705415</td>\n",
       "    </tr>\n",
       "    <tr>\n",
       "      <th>4</th>\n",
       "      <td>2018-01-05</td>\n",
       "      <td>8134256</td>\n",
       "    </tr>\n",
       "    <tr>\n",
       "      <th>...</th>\n",
       "      <td>...</td>\n",
       "      <td>...</td>\n",
       "    </tr>\n",
       "    <tr>\n",
       "      <th>1364</th>\n",
       "      <td>2021-09-26</td>\n",
       "      <td>3092457</td>\n",
       "    </tr>\n",
       "    <tr>\n",
       "      <th>1365</th>\n",
       "      <td>2021-09-27</td>\n",
       "      <td>6283331</td>\n",
       "    </tr>\n",
       "    <tr>\n",
       "      <th>1366</th>\n",
       "      <td>2021-09-28</td>\n",
       "      <td>6290961</td>\n",
       "    </tr>\n",
       "    <tr>\n",
       "      <th>1367</th>\n",
       "      <td>2021-09-29</td>\n",
       "      <td>6069925</td>\n",
       "    </tr>\n",
       "    <tr>\n",
       "      <th>1368</th>\n",
       "      <td>2021-09-30</td>\n",
       "      <td>6398703</td>\n",
       "    </tr>\n",
       "  </tbody>\n",
       "</table>\n",
       "<p>1369 rows × 2 columns</p>\n",
       "</div>"
      ],
      "text/plain": [
       "            사용일자   일별이용자수\n",
       "0     2018-01-01  3520929\n",
       "1     2018-01-02  7505016\n",
       "2     2018-01-03  7681469\n",
       "3     2018-01-04  7705415\n",
       "4     2018-01-05  8134256\n",
       "...          ...      ...\n",
       "1364  2021-09-26  3092457\n",
       "1365  2021-09-27  6283331\n",
       "1366  2021-09-28  6290961\n",
       "1367  2021-09-29  6069925\n",
       "1368  2021-09-30  6398703\n",
       "\n",
       "[1369 rows x 2 columns]"
      ]
     },
     "execution_count": 25,
     "metadata": {},
     "output_type": "execute_result"
    }
   ],
   "source": [
    "user_per_date"
   ]
  },
  {
   "cell_type": "markdown",
   "metadata": {},
   "source": [
    "###  4. 그래프 확인"
   ]
  },
  {
   "cell_type": "code",
   "execution_count": 26,
   "metadata": {},
   "outputs": [
    {
     "data": {
      "image/png": "[encoded data removed]",
      "text/plain": [
       "<Figure size 1152x432 with 1 Axes>"
      ]
     },
     "metadata": {
      "needs_background": "light"
     },
     "output_type": "display_data"
    }
   ],
   "source": [
    "fig, ax = plt.subplots(figsize=(16,6))\n",
    "\n",
    "ax.plot(user_per_date.사용일자, user_per_date.일별이용자수/1000, label='expoential')\n",
    "\n",
    "plt.ylim([1000, 10000])\n",
    "plt.gca().yaxis.set_major_formatter(mticker.FormatStrFormatter('%i K'))\n",
    "leg = plt.legend()\n",
    "ax.get_legend().remove()\n",
    "\n",
    "plt.show() "
   ]
  }
 ],
 "metadata": {
  "kernelspec": {
   "display_name": "Python 3",
   "language": "python",
   "name": "python3"
  },
  "language_info": {
   "codemirror_mode": {
    "name": "ipython",
    "version": 3
   },
   "file_extension": ".py",
   "mimetype": "text/x-python",
   "name": "python",
   "nbconvert_exporter": "python",
   "pygments_lexer": "ipython3",
   "version": "3.7.6"
  }
 },
 "nbformat": 4,
 "nbformat_minor": 4
}
