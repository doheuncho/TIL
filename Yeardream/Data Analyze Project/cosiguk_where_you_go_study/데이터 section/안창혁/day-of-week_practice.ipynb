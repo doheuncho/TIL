{
 "cells": [
  {
   "cell_type": "code",
   "execution_count": 5,
   "id": "ecb859ee",
   "metadata": {},
   "outputs": [],
   "source": [
    "import pandas as pd\n",
    "from pandas.api.types import CategoricalDtype"
   ]
  },
  {
   "cell_type": "code",
   "execution_count": 6,
   "id": "08e812eb",
   "metadata": {},
   "outputs": [],
   "source": [
    "df = pd.DataFrame({\n",
    "    'order_id': [1001, 1002, 1003, 1004, 1005, 1006, 1007],\n",
    "    'customer_id': [10, 12, 12, 12, 10, 10, 10],\n",
    "    'month': ['Feb', 'Jan', 'Jan', 'Feb', 'Feb', 'Jan', 'Feb'],\n",
    "    'day_of_week': ['Mon', 'Wed', 'Sun', 'Tue', 'Sat', 'Mon', 'Thu'],\n",
    "})"
   ]
  },
  {
   "cell_type": "code",
   "execution_count": 7,
   "id": "2d0e3367",
   "metadata": {},
   "outputs": [],
   "source": [
    "cat_day_of_week = CategoricalDtype(\n",
    "    ['Mon', 'Tue', 'Wed', 'Thu', 'Fri', 'Sat', 'Sun'], \n",
    "    ordered=True\n",
    ")\n",
    "cat_month = CategoricalDtype(\n",
    "    ['Jan', 'Feb', 'Mar', 'Apr'], \n",
    "    ordered=True,\n",
    ")\n",
    "df['day_of_week'] = df['day_of_week'].astype(cat_day_of_week)\n",
    "df['month'] = df['month'].astype(cat_month)"
   ]
  },
  {
   "cell_type": "code",
   "execution_count": 8,
   "id": "9c7a44c8",
   "metadata": {},
   "outputs": [
    {
     "data": {
      "text/html": [
       "<div>\n",
       "<style scoped>\n",
       "    .dataframe tbody tr th:only-of-type {\n",
       "        vertical-align: middle;\n",
       "    }\n",
       "\n",
       "    .dataframe tbody tr th {\n",
       "        vertical-align: top;\n",
       "    }\n",
       "\n",
       "    .dataframe thead th {\n",
       "        text-align: right;\n",
       "    }\n",
       "</style>\n",
       "<table border=\"1\" class=\"dataframe\">\n",
       "  <thead>\n",
       "    <tr style=\"text-align: right;\">\n",
       "      <th></th>\n",
       "      <th>order_id</th>\n",
       "      <th>customer_id</th>\n",
       "      <th>month</th>\n",
       "      <th>day_of_week</th>\n",
       "    </tr>\n",
       "  </thead>\n",
       "  <tbody>\n",
       "    <tr>\n",
       "      <th>5</th>\n",
       "      <td>1006</td>\n",
       "      <td>10</td>\n",
       "      <td>Jan</td>\n",
       "      <td>Mon</td>\n",
       "    </tr>\n",
       "    <tr>\n",
       "      <th>1</th>\n",
       "      <td>1002</td>\n",
       "      <td>12</td>\n",
       "      <td>Jan</td>\n",
       "      <td>Wed</td>\n",
       "    </tr>\n",
       "    <tr>\n",
       "      <th>2</th>\n",
       "      <td>1003</td>\n",
       "      <td>12</td>\n",
       "      <td>Jan</td>\n",
       "      <td>Sun</td>\n",
       "    </tr>\n",
       "    <tr>\n",
       "      <th>0</th>\n",
       "      <td>1001</td>\n",
       "      <td>10</td>\n",
       "      <td>Feb</td>\n",
       "      <td>Mon</td>\n",
       "    </tr>\n",
       "    <tr>\n",
       "      <th>3</th>\n",
       "      <td>1004</td>\n",
       "      <td>12</td>\n",
       "      <td>Feb</td>\n",
       "      <td>Tue</td>\n",
       "    </tr>\n",
       "    <tr>\n",
       "      <th>6</th>\n",
       "      <td>1007</td>\n",
       "      <td>10</td>\n",
       "      <td>Feb</td>\n",
       "      <td>Thu</td>\n",
       "    </tr>\n",
       "    <tr>\n",
       "      <th>4</th>\n",
       "      <td>1005</td>\n",
       "      <td>10</td>\n",
       "      <td>Feb</td>\n",
       "      <td>Sat</td>\n",
       "    </tr>\n",
       "  </tbody>\n",
       "</table>\n",
       "</div>"
      ],
      "text/plain": [
       "   order_id  customer_id month day_of_week\n",
       "5      1006           10   Jan         Mon\n",
       "1      1002           12   Jan         Wed\n",
       "2      1003           12   Jan         Sun\n",
       "0      1001           10   Feb         Mon\n",
       "3      1004           12   Feb         Tue\n",
       "6      1007           10   Feb         Thu\n",
       "4      1005           10   Feb         Sat"
      ]
     },
     "execution_count": 8,
     "metadata": {},
     "output_type": "execute_result"
    }
   ],
   "source": [
    "df.sort_values(['month', 'day_of_week'])"
   ]
  },
  {
   "cell_type": "code",
   "execution_count": null,
   "id": "eda6ee8d",
   "metadata": {},
   "outputs": [],
   "source": []
  }
 ],
 "metadata": {
  "kernelspec": {
   "display_name": "Python 3",
   "language": "python",
   "name": "python3"
  },
  "language_info": {
   "codemirror_mode": {
    "name": "ipython",
    "version": 3
   },
   "file_extension": ".py",
   "mimetype": "text/x-python",
   "name": "python",
   "nbconvert_exporter": "python",
   "pygments_lexer": "ipython3",
   "version": "3.8.8"
  }
 },
 "nbformat": 4,
 "nbformat_minor": 5
}
