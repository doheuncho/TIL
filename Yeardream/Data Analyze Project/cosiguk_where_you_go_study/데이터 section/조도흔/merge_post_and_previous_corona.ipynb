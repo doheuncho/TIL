{
  "nbformat": 4,
  "nbformat_minor": 0,
  "metadata": {
    "colab": {
      "name": "merge_post_and_previous_corona.ipynb",
      "provenance": [],
      "collapsed_sections": []
    },
    "kernelspec": {
      "name": "python3",
      "display_name": "Python 3"
    },
    "language_info": {
      "name": "python"
    }
  },
  "cells": [
    {
      "cell_type": "markdown",
      "metadata": {
        "id": "NboqzibyEXI4"
      },
      "source": [
        "<h1>1.사전준비"
      ]
    },
    {
      "cell_type": "code",
      "metadata": {
        "colab": {
          "base_uri": "https://localhost:8080/"
        },
        "id": "6VuRo5shCh5R",
        "outputId": "2ee315fe-9f9e-4607-f21d-16855a3d91c3"
      },
      "source": [
        "!pip install pyspark"
      ],
      "execution_count": null,
      "outputs": [
        {
          "output_type": "stream",
          "name": "stdout",
          "text": [
            "Collecting pyspark\n",
            "  Downloading pyspark-3.2.0.tar.gz (281.3 MB)\n",
            "\u001b[K     |████████████████████████████████| 281.3 MB 43 kB/s \n",
            "\u001b[?25hCollecting py4j==0.10.9.2\n",
            "  Downloading py4j-0.10.9.2-py2.py3-none-any.whl (198 kB)\n",
            "\u001b[K     |████████████████████████████████| 198 kB 79.6 MB/s \n",
            "\u001b[?25hBuilding wheels for collected packages: pyspark\n",
            "  Building wheel for pyspark (setup.py) ... \u001b[?25l\u001b[?25hdone\n",
            "  Created wheel for pyspark: filename=pyspark-3.2.0-py2.py3-none-any.whl size=281805912 sha256=176f04e48664bf6356f1005d2beb15f1511feb99ce89d005f2c762c1ecf8fe47\n",
            "  Stored in directory: /root/.cache/pip/wheels/0b/de/d2/9be5d59d7331c6c2a7c1b6d1a4f463ce107332b1ecd4e80718\n",
            "Successfully built pyspark\n",
            "Installing collected packages: py4j, pyspark\n",
            "Successfully installed py4j-0.10.9.2 pyspark-3.2.0\n"
          ]
        }
      ]
    },
    {
      "cell_type": "code",
      "metadata": {
        "id": "YXEc7H3ACaiF"
      },
      "source": [
        "import pandas as pd\n",
        "from pyspark.sql import SparkSession\n",
        "spark = SparkSession.builder.getOrCreate()"
      ],
      "execution_count": null,
      "outputs": []
    },
    {
      "cell_type": "code",
      "metadata": {
        "colab": {
          "base_uri": "https://localhost:8080/"
        },
        "id": "Mjyjm-hEC7CJ",
        "outputId": "8a78d7a2-e5df-47e7-ef8c-9d01f0dbd74e"
      },
      "source": [
        "from google.colab import drive\n",
        "drive.mount('/content/drive')"
      ],
      "execution_count": null,
      "outputs": [
        {
          "output_type": "stream",
          "name": "stdout",
          "text": [
            "Mounted at /content/drive\n"
          ]
        }
      ]
    },
    {
      "cell_type": "markdown",
      "metadata": {
        "id": "q8CzLlQyEas5"
      },
      "source": [
        "<h1>2.두 parquet 합치기"
      ]
    },
    {
      "cell_type": "code",
      "metadata": {
        "colab": {
          "base_uri": "https://localhost:8080/"
        },
        "id": "9kNDsz0ZGsGa",
        "outputId": "f0a0ae86-e479-4d57-92e8-0b30d49a38bc"
      },
      "source": [
        "# 코로나 이전 파일 확인\n",
        "df3 = spark.read.parquet('/content/drive/MyDrive/data/previous_corona')\n",
        "df3"
      ],
      "execution_count": null,
      "outputs": [
        {
          "output_type": "execute_result",
          "data": {
            "text/plain": [
              "DataFrame[사용일자: date, 노선명: string, 역명: string, 승차총승객수: int, 하차총승객수: int, 이용자수: int]"
            ]
          },
          "metadata": {},
          "execution_count": 4
        }
      ]
    },
    {
      "cell_type": "code",
      "metadata": {
        "colab": {
          "base_uri": "https://localhost:8080/"
        },
        "id": "Fpyf_gZ8HBUB",
        "outputId": "39a6ecb1-172b-4dd4-b42e-7f37f4ec14c4"
      },
      "source": [
        "# 코로나 이후 파일 확인\n",
        "df4 = spark.read.parquet('/content/drive/MyDrive/data/post_corona')\n",
        "df4"
      ],
      "execution_count": null,
      "outputs": [
        {
          "output_type": "execute_result",
          "data": {
            "text/plain": [
              "DataFrame[사용일자: string, 노선명: string, 역명: string, 승차총승객수: int, 하차총승객수: int, 이용자수: int]"
            ]
          },
          "metadata": {},
          "execution_count": 5
        }
      ]
    },
    {
      "cell_type": "markdown",
      "metadata": {
        "id": "Z9T1OOYD-pOs"
      },
      "source": [
        "두 dataframe을 보면 '사용일자' 컬럼의 dataType가 다른것을 알 수 있다. 만약 이대로 두 dataframe을 합친다면, 에러가 발생하게 된다. 우리가 원하는 dataType은 date이므로 post_corona의 '사용일자' 컬럼의 dataType을 변경하겠다."
      ]
    },
    {
      "cell_type": "code",
      "metadata": {
        "id": "s70G54bWHZGi"
      },
      "source": [
        "import pyspark.sql.types as T\n",
        "import pyspark.sql.functions as F"
      ],
      "execution_count": null,
      "outputs": []
    },
    {
      "cell_type": "code",
      "metadata": {
        "colab": {
          "base_uri": "https://localhost:8080/"
        },
        "id": "v37FG3lFHNao",
        "outputId": "63d986ea-6f06-410a-9e3b-fc314251cbde"
      },
      "source": [
        "# 데이터 타입 변경\n",
        "df4 = df4.withColumn('사용일자',F.to_date(F.col(\"사용일자\"),\"yyyy-MM-dd\"))\n",
        "df4"
      ],
      "execution_count": null,
      "outputs": [
        {
          "output_type": "execute_result",
          "data": {
            "text/plain": [
              "DataFrame[사용일자: date, 노선명: string, 역명: string, 승차총승객수: int, 하차총승객수: int, 이용자수: int]"
            ]
          },
          "metadata": {},
          "execution_count": 7
        }
      ]
    },
    {
      "cell_type": "code",
      "metadata": {
        "colab": {
          "base_uri": "https://localhost:8080/"
        },
        "id": "VBW8MDsvAtub",
        "outputId": "7104277c-9a76-43ba-9755-5f32b9f67abe"
      },
      "source": [
        "# 두 데이터프레임을 합침(df3에 df4를 이어붙임)\n",
        "df = df3.union(df4)\n",
        "df"
      ],
      "execution_count": null,
      "outputs": [
        {
          "output_type": "execute_result",
          "data": {
            "text/plain": [
              "DataFrame[사용일자: date, 노선명: string, 역명: string, 승차총승객수: int, 하차총승객수: int, 이용자수: int]"
            ]
          },
          "metadata": {},
          "execution_count": 8
        }
      ]
    },
    {
      "cell_type": "markdown",
      "metadata": {
        "id": "UxG1RiQOBYK7"
      },
      "source": [
        "혹시 손실된 데이터가 있는지 확인. 이유는 모르겠는데 하나의 셀에서 count하면 에러가 발생했다."
      ]
    },
    {
      "cell_type": "code",
      "metadata": {
        "colab": {
          "base_uri": "https://localhost:8080/"
        },
        "id": "b4Lg9_F-BXhZ",
        "outputId": "3cafe1c2-774f-4b4c-c22d-aeb551949021"
      },
      "source": [
        "df3.count()"
      ],
      "execution_count": null,
      "outputs": [
        {
          "output_type": "execute_result",
          "data": {
            "text/plain": [
              "428518"
            ]
          },
          "metadata": {},
          "execution_count": 23
        }
      ]
    },
    {
      "cell_type": "code",
      "metadata": {
        "colab": {
          "base_uri": "https://localhost:8080/"
        },
        "id": "_uxh_lB7Bc_F",
        "outputId": "ed75a172-18d9-465b-d074-1244976209d7"
      },
      "source": [
        "df4.count()"
      ],
      "execution_count": null,
      "outputs": [
        {
          "output_type": "execute_result",
          "data": {
            "text/plain": [
              "380925"
            ]
          },
          "metadata": {},
          "execution_count": 24
        }
      ]
    },
    {
      "cell_type": "code",
      "metadata": {
        "colab": {
          "base_uri": "https://localhost:8080/"
        },
        "id": "tEBTpCutBfB8",
        "outputId": "36b39df7-a601-418a-a173-39fa7a048071"
      },
      "source": [
        "df.count()"
      ],
      "execution_count": null,
      "outputs": [
        {
          "output_type": "execute_result",
          "data": {
            "text/plain": [
              "809443"
            ]
          },
          "metadata": {},
          "execution_count": 25
        }
      ]
    },
    {
      "cell_type": "code",
      "metadata": {
        "colab": {
          "base_uri": "https://localhost:8080/"
        },
        "id": "VPalOtMzB7rA",
        "outputId": "6eca8fdf-0d9c-42ca-ad9d-daf34174fe55"
      },
      "source": [
        "428518 + 380925"
      ],
      "execution_count": null,
      "outputs": [
        {
          "output_type": "execute_result",
          "data": {
            "text/plain": [
              "809443"
            ]
          },
          "metadata": {},
          "execution_count": 27
        }
      ]
    },
    {
      "cell_type": "markdown",
      "metadata": {
        "id": "9wdtLtibCDsX"
      },
      "source": [
        "잘못된 노선 데이터가 있는지 확인(이후 다른 슬라이드 작업에서 일부 노선들이 통합됨)"
      ]
    },
    {
      "cell_type": "code",
      "metadata": {
        "colab": {
          "base_uri": "https://localhost:8080/"
        },
        "id": "Q19Chqy_CJEG",
        "outputId": "6a0a9289-7515-46b8-b156-b0e23156566f"
      },
      "source": [
        "df.select('노선명').distinct().show(30)"
      ],
      "execution_count": null,
      "outputs": [
        {
          "output_type": "stream",
          "name": "stdout",
          "text": [
            "+----------+\n",
            "|    노선명|\n",
            "+----------+\n",
            "|    일산선|\n",
            "|    장항선|\n",
            "|    경부선|\n",
            "|우이신설선|\n",
            "|    분당선|\n",
            "|     7호선|\n",
            "|    수인선|\n",
            "|    안산선|\n",
            "|     4호선|\n",
            "|     1호선|\n",
            "|    경의선|\n",
            "|     3호선|\n",
            "|    경강선|\n",
            "|    경춘선|\n",
            "|     9호선|\n",
            "|     6호선|\n",
            "|     5호선|\n",
            "|     8호선|\n",
            "|  공항철도|\n",
            "|    과천선|\n",
            "|    경인선|\n",
            "|    중앙선|\n",
            "|     2호선|\n",
            "|    경원선|\n",
            "+----------+\n",
            "\n"
          ]
        }
      ]
    },
    {
      "cell_type": "markdown",
      "metadata": {
        "id": "ABzPV7sUDTW4"
      },
      "source": [
        "널값확인"
      ]
    },
    {
      "cell_type": "code",
      "metadata": {
        "colab": {
          "base_uri": "https://localhost:8080/"
        },
        "id": "cbOgQOmBC5OK",
        "outputId": "aa20db54-1ec8-4619-baa4-e60e4678deae"
      },
      "source": [
        "df.where(F.col('이용자수').isNull()==True).count()"
      ],
      "execution_count": null,
      "outputs": [
        {
          "output_type": "execute_result",
          "data": {
            "text/plain": [
              "0"
            ]
          },
          "metadata": {},
          "execution_count": 39
        }
      ]
    },
    {
      "cell_type": "markdown",
      "metadata": {
        "id": "10cIkBycDYGd"
      },
      "source": [
        "이상값확인"
      ]
    },
    {
      "cell_type": "code",
      "metadata": {
        "colab": {
          "base_uri": "https://localhost:8080/"
        },
        "id": "Vxu8YsDrDOa0",
        "outputId": "2dc409f0-bf7d-462c-9d1d-35dd562dd161"
      },
      "source": [
        "df.where(F.col('이용자수')<0).count()"
      ],
      "execution_count": null,
      "outputs": [
        {
          "output_type": "execute_result",
          "data": {
            "text/plain": [
              "0"
            ]
          },
          "metadata": {},
          "execution_count": 40
        }
      ]
    },
    {
      "cell_type": "code",
      "metadata": {
        "colab": {
          "base_uri": "https://localhost:8080/",
          "height": 419
        },
        "id": "ZzCDYRNtgxtJ",
        "outputId": "7acd0840-2c1f-4d4c-fad8-d45ce5acc05d"
      },
      "source": [
        "pdf = df.select(\"*\").toPandas()\n",
        "pdf"
      ],
      "execution_count": null,
      "outputs": [
        {
          "output_type": "execute_result",
          "data": {
            "text/html": [
              "<div>\n",
              "<style scoped>\n",
              "    .dataframe tbody tr th:only-of-type {\n",
              "        vertical-align: middle;\n",
              "    }\n",
              "\n",
              "    .dataframe tbody tr th {\n",
              "        vertical-align: top;\n",
              "    }\n",
              "\n",
              "    .dataframe thead th {\n",
              "        text-align: right;\n",
              "    }\n",
              "</style>\n",
              "<table border=\"1\" class=\"dataframe\">\n",
              "  <thead>\n",
              "    <tr style=\"text-align: right;\">\n",
              "      <th></th>\n",
              "      <th>사용일자</th>\n",
              "      <th>노선명</th>\n",
              "      <th>역명</th>\n",
              "      <th>승차총승객수</th>\n",
              "      <th>하차총승객수</th>\n",
              "      <th>이용자수</th>\n",
              "    </tr>\n",
              "  </thead>\n",
              "  <tbody>\n",
              "    <tr>\n",
              "      <th>0</th>\n",
              "      <td>2018-01-01</td>\n",
              "      <td>1호선</td>\n",
              "      <td>서울역</td>\n",
              "      <td>40213</td>\n",
              "      <td>34505</td>\n",
              "      <td>74718</td>\n",
              "    </tr>\n",
              "    <tr>\n",
              "      <th>1</th>\n",
              "      <td>2018-01-01</td>\n",
              "      <td>우이신설선</td>\n",
              "      <td>신설동</td>\n",
              "      <td>699</td>\n",
              "      <td>809</td>\n",
              "      <td>1508</td>\n",
              "    </tr>\n",
              "    <tr>\n",
              "      <th>2</th>\n",
              "      <td>2018-01-01</td>\n",
              "      <td>우이신설선</td>\n",
              "      <td>보문</td>\n",
              "      <td>754</td>\n",
              "      <td>803</td>\n",
              "      <td>1557</td>\n",
              "    </tr>\n",
              "    <tr>\n",
              "      <th>3</th>\n",
              "      <td>2018-01-01</td>\n",
              "      <td>우이신설선</td>\n",
              "      <td>성신여대입구(돈암)</td>\n",
              "      <td>2228</td>\n",
              "      <td>2276</td>\n",
              "      <td>4504</td>\n",
              "    </tr>\n",
              "    <tr>\n",
              "      <th>4</th>\n",
              "      <td>2018-01-01</td>\n",
              "      <td>우이신설선</td>\n",
              "      <td>정릉</td>\n",
              "      <td>1844</td>\n",
              "      <td>1685</td>\n",
              "      <td>3529</td>\n",
              "    </tr>\n",
              "    <tr>\n",
              "      <th>...</th>\n",
              "      <td>...</td>\n",
              "      <td>...</td>\n",
              "      <td>...</td>\n",
              "      <td>...</td>\n",
              "      <td>...</td>\n",
              "      <td>...</td>\n",
              "    </tr>\n",
              "    <tr>\n",
              "      <th>809438</th>\n",
              "      <td>2021-09-30</td>\n",
              "      <td>9호선</td>\n",
              "      <td>신논현</td>\n",
              "      <td>28562</td>\n",
              "      <td>28302</td>\n",
              "      <td>56864</td>\n",
              "    </tr>\n",
              "    <tr>\n",
              "      <th>809439</th>\n",
              "      <td>2021-09-30</td>\n",
              "      <td>9호선</td>\n",
              "      <td>언주</td>\n",
              "      <td>9859</td>\n",
              "      <td>10044</td>\n",
              "      <td>19903</td>\n",
              "    </tr>\n",
              "    <tr>\n",
              "      <th>809440</th>\n",
              "      <td>2021-09-30</td>\n",
              "      <td>9호선</td>\n",
              "      <td>선정릉</td>\n",
              "      <td>9308</td>\n",
              "      <td>10135</td>\n",
              "      <td>19443</td>\n",
              "    </tr>\n",
              "    <tr>\n",
              "      <th>809441</th>\n",
              "      <td>2021-09-30</td>\n",
              "      <td>9호선</td>\n",
              "      <td>삼성중앙</td>\n",
              "      <td>6389</td>\n",
              "      <td>6552</td>\n",
              "      <td>12941</td>\n",
              "    </tr>\n",
              "    <tr>\n",
              "      <th>809442</th>\n",
              "      <td>2021-09-30</td>\n",
              "      <td>9호선</td>\n",
              "      <td>봉은사</td>\n",
              "      <td>14768</td>\n",
              "      <td>15040</td>\n",
              "      <td>29808</td>\n",
              "    </tr>\n",
              "  </tbody>\n",
              "</table>\n",
              "<p>809443 rows × 6 columns</p>\n",
              "</div>"
            ],
            "text/plain": [
              "              사용일자    노선명          역명  승차총승객수  하차총승객수   이용자수\n",
              "0       2018-01-01    1호선         서울역   40213   34505  74718\n",
              "1       2018-01-01  우이신설선         신설동     699     809   1508\n",
              "2       2018-01-01  우이신설선          보문     754     803   1557\n",
              "3       2018-01-01  우이신설선  성신여대입구(돈암)    2228    2276   4504\n",
              "4       2018-01-01  우이신설선          정릉    1844    1685   3529\n",
              "...            ...    ...         ...     ...     ...    ...\n",
              "809438  2021-09-30    9호선         신논현   28562   28302  56864\n",
              "809439  2021-09-30    9호선          언주    9859   10044  19903\n",
              "809440  2021-09-30    9호선         선정릉    9308   10135  19443\n",
              "809441  2021-09-30    9호선        삼성중앙    6389    6552  12941\n",
              "809442  2021-09-30    9호선         봉은사   14768   15040  29808\n",
              "\n",
              "[809443 rows x 6 columns]"
            ]
          },
          "metadata": {},
          "execution_count": 11
        }
      ]
    },
    {
      "cell_type": "code",
      "metadata": {
        "id": "KfJ3HMBogxZY"
      },
      "source": [
        "# 저장(이후 필요할지도?)\n",
        "pdf.to_parquet('test.parquet')"
      ],
      "execution_count": null,
      "outputs": []
    },
    {
      "cell_type": "code",
      "metadata": {
        "colab": {
          "base_uri": "https://localhost:8080/"
        },
        "id": "45Ar2AwDiKzG",
        "outputId": "7038b2e2-7922-41e9-8ae9-b33375564548"
      },
      "source": [
        "# 저장한 파일 확인\n",
        "pq = spark.read.parquet('test.parquet')\n",
        "pq.show()"
      ],
      "execution_count": null,
      "outputs": [
        {
          "output_type": "stream",
          "name": "stdout",
          "text": [
            "+----------+----------+------------------+------------+------------+--------+\n",
            "|  사용일자|    노선명|              역명|승차총승객수|하차총승객수|이용자수|\n",
            "+----------+----------+------------------+------------+------------+--------+\n",
            "|2018-01-01|     1호선|            서울역|       40213|       34505|   74718|\n",
            "|2018-01-01|우이신설선|            신설동|         699|         809|    1508|\n",
            "|2018-01-01|우이신설선|              보문|         754|         803|    1557|\n",
            "|2018-01-01|우이신설선|성신여대입구(돈암)|        2228|        2276|    4504|\n",
            "|2018-01-01|우이신설선|              정릉|        1844|        1685|    3529|\n",
            "|2018-01-01|우이신설선|      북한산보국문|        2706|        2637|    5343|\n",
            "|2018-01-01|우이신설선|              솔샘|        2242|        2128|    4370|\n",
            "|2018-01-01|우이신설선|        삼양사거리|        1141|        1170|    2311|\n",
            "|2018-01-01|우이신설선|              삼양|        1079|        1206|    2285|\n",
            "|2018-01-01|우이신설선|              화계|        1492|        1418|    2910|\n",
            "|2018-01-01|우이신설선|            가오리|        1783|        1796|    3579|\n",
            "|2018-01-01|우이신설선|      4.19민주묘지|        1393|        1347|    2740|\n",
            "|2018-01-01|우이신설선|          솔밭공원|        1150|        1210|    2360|\n",
            "|2018-01-01|우이신설선|        북한산우이|        3317|        3038|    6355|\n",
            "|2018-01-01|     9호선|        종합운동장|        3222|        2244|    5466|\n",
            "|2018-01-01|     9호선|            봉은사|        6897|        6215|   13112|\n",
            "|2018-01-01|     9호선|          삼성중앙|        1256|        1445|    2701|\n",
            "|2018-01-01|     9호선|            선정릉|        1742|        1961|    3703|\n",
            "|2018-01-01|     9호선|              언주|        2821|        2513|    5334|\n",
            "|2018-01-01|  공항철도|              영종|        1266|        1370|    2636|\n",
            "+----------+----------+------------------+------------+------------+--------+\n",
            "only showing top 20 rows\n",
            "\n"
          ]
        }
      ]
    },
    {
      "cell_type": "markdown",
      "metadata": {
        "id": "PdcqcK1cB23F"
      },
      "source": [
        "<h1>일별 이용자수 뽑을겸 그냥 만들어보는 그래프"
      ]
    },
    {
      "cell_type": "code",
      "metadata": {
        "id": "EjWGQmkhIRkX"
      },
      "source": [
        "import matplotlib.pyplot as plt\n",
        "import matplotlib.ticker as mticker"
      ],
      "execution_count": null,
      "outputs": []
    },
    {
      "cell_type": "code",
      "metadata": {
        "colab": {
          "base_uri": "https://localhost:8080/",
          "height": 419
        },
        "id": "Wz2zxV6eISfA",
        "outputId": "048100c2-a769-4158-eed8-878acde1fe84"
      },
      "source": [
        "# '사용일자' 그룹으로 나누어 '승차총승객'를 모두 더해준 '일별이용자수' 칼럼을 생성한다. 그리고 '사용일자'기준으로 내림차순 정리한다.\n",
        "user_per_date = df.groupby('`사용일자`').agg(F.sum('`승차총승객수`').alias('일별이용자수')).orderBy(F.desc('`사용일자`'))\n",
        "# 그래프를 그리기 위해 판다스 dataframe으로 변환\n",
        "pd_user_per_date = user_per_date.select(\"*\").toPandas()\n",
        "pd_user_per_date"
      ],
      "execution_count": null,
      "outputs": [
        {
          "output_type": "execute_result",
          "data": {
            "text/html": [
              "<div>\n",
              "<style scoped>\n",
              "    .dataframe tbody tr th:only-of-type {\n",
              "        vertical-align: middle;\n",
              "    }\n",
              "\n",
              "    .dataframe tbody tr th {\n",
              "        vertical-align: top;\n",
              "    }\n",
              "\n",
              "    .dataframe thead th {\n",
              "        text-align: right;\n",
              "    }\n",
              "</style>\n",
              "<table border=\"1\" class=\"dataframe\">\n",
              "  <thead>\n",
              "    <tr style=\"text-align: right;\">\n",
              "      <th></th>\n",
              "      <th>사용일자</th>\n",
              "      <th>일별이용자수</th>\n",
              "    </tr>\n",
              "  </thead>\n",
              "  <tbody>\n",
              "    <tr>\n",
              "      <th>0</th>\n",
              "      <td>2021-09-30</td>\n",
              "      <td>6398703</td>\n",
              "    </tr>\n",
              "    <tr>\n",
              "      <th>1</th>\n",
              "      <td>2021-09-29</td>\n",
              "      <td>6069925</td>\n",
              "    </tr>\n",
              "    <tr>\n",
              "      <th>2</th>\n",
              "      <td>2021-09-28</td>\n",
              "      <td>6290961</td>\n",
              "    </tr>\n",
              "    <tr>\n",
              "      <th>3</th>\n",
              "      <td>2021-09-27</td>\n",
              "      <td>6283331</td>\n",
              "    </tr>\n",
              "    <tr>\n",
              "      <th>4</th>\n",
              "      <td>2021-09-26</td>\n",
              "      <td>3092457</td>\n",
              "    </tr>\n",
              "    <tr>\n",
              "      <th>...</th>\n",
              "      <td>...</td>\n",
              "      <td>...</td>\n",
              "    </tr>\n",
              "    <tr>\n",
              "      <th>1364</th>\n",
              "      <td>2018-01-05</td>\n",
              "      <td>8134256</td>\n",
              "    </tr>\n",
              "    <tr>\n",
              "      <th>1365</th>\n",
              "      <td>2018-01-04</td>\n",
              "      <td>7705415</td>\n",
              "    </tr>\n",
              "    <tr>\n",
              "      <th>1366</th>\n",
              "      <td>2018-01-03</td>\n",
              "      <td>7681469</td>\n",
              "    </tr>\n",
              "    <tr>\n",
              "      <th>1367</th>\n",
              "      <td>2018-01-02</td>\n",
              "      <td>7505016</td>\n",
              "    </tr>\n",
              "    <tr>\n",
              "      <th>1368</th>\n",
              "      <td>2018-01-01</td>\n",
              "      <td>3520929</td>\n",
              "    </tr>\n",
              "  </tbody>\n",
              "</table>\n",
              "<p>1369 rows × 2 columns</p>\n",
              "</div>"
            ],
            "text/plain": [
              "            사용일자   일별이용자수\n",
              "0     2021-09-30  6398703\n",
              "1     2021-09-29  6069925\n",
              "2     2021-09-28  6290961\n",
              "3     2021-09-27  6283331\n",
              "4     2021-09-26  3092457\n",
              "...          ...      ...\n",
              "1364  2018-01-05  8134256\n",
              "1365  2018-01-04  7705415\n",
              "1366  2018-01-03  7681469\n",
              "1367  2018-01-02  7505016\n",
              "1368  2018-01-01  3520929\n",
              "\n",
              "[1369 rows x 2 columns]"
            ]
          },
          "metadata": {},
          "execution_count": 41
        }
      ]
    },
    {
      "cell_type": "markdown",
      "metadata": {
        "id": "dF9ZS_HEpDzH"
      },
      "source": [
        "parquet파일로 저장 & 확인"
      ]
    },
    {
      "cell_type": "code",
      "metadata": {
        "id": "t4QHbr3zQInh"
      },
      "source": [
        "user_per_date.write.parquet('/content/drive/MyDrive/data/main.parquet')"
      ],
      "execution_count": null,
      "outputs": []
    },
    {
      "cell_type": "code",
      "metadata": {
        "colab": {
          "base_uri": "https://localhost:8080/"
        },
        "id": "noE124vPRyf1",
        "outputId": "9697ab3c-fc1a-4365-ff07-65b4701872e9"
      },
      "source": [
        "pq = spark.read.parquet('/content/drive/MyDrive/data/main.parquet')\n",
        "pq.count()"
      ],
      "execution_count": null,
      "outputs": [
        {
          "output_type": "execute_result",
          "data": {
            "text/plain": [
              "1369"
            ]
          },
          "metadata": {},
          "execution_count": 55
        }
      ]
    },
    {
      "cell_type": "markdown",
      "metadata": {
        "id": "MUsO5zRQHxoB"
      },
      "source": [
        "그래프 그려보기"
      ]
    },
    {
      "cell_type": "code",
      "metadata": {
        "colab": {
          "base_uri": "https://localhost:8080/",
          "height": 378
        },
        "id": "g1N0xlyoIe55",
        "outputId": "9f512d4d-7c29-4fb4-ef3b-7267df7e48aa"
      },
      "source": [
        "fig, ax = plt.subplots(figsize=(16,6))\n",
        "\n",
        "ax.plot(pd_user_per_date.사용일자, pd_user_per_date.일별이용자수/1000, label='expoential')\n",
        "\n",
        "plt.ylim([1000, 10000])\n",
        "plt.gca().yaxis.set_major_formatter(mticker.FormatStrFormatter('%i K'))\n",
        "leg = plt.legend()\n",
        "ax.get_legend().remove()\n",
        "\n",
        "plt.show() "
      ],
      "execution_count": null,
      "outputs": [
        {
          "output_type": "display_data",
          "data": {
            "image/png": "[encoded data removed]",
            "text/plain": [
              "<Figure size 1152x432 with 1 Axes>"
            ]
          },
          "metadata": {
            "needs_background": "light"
          }
        }
      ]
    }
  ]
}