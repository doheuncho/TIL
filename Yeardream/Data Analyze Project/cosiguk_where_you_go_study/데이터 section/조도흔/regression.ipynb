{
  "nbformat": 4,
  "nbformat_minor": 0,
  "metadata": {
    "colab": {
      "name": "regression.ipynb",
      "provenance": []
    },
    "kernelspec": {
      "name": "python3",
      "display_name": "Python 3"
    },
    "language_info": {
      "name": "python"
    }
  },
  "cells": [
    {
      "cell_type": "code",
      "metadata": {
        "colab": {
          "base_uri": "https://localhost:8080/"
        },
        "id": "8K7JoHwceUJY",
        "outputId": "1195c6a9-e20b-4046-ceae-890a171d1136"
      },
      "source": [
        "!pip install pyspark"
      ],
      "execution_count": 2,
      "outputs": [
        {
          "output_type": "stream",
          "name": "stdout",
          "text": [
            "Collecting pyspark\n",
            "  Downloading pyspark-3.2.0.tar.gz (281.3 MB)\n",
            "\u001b[K     |████████████████████████████████| 281.3 MB 8.3 kB/s \n",
            "\u001b[?25hCollecting py4j==0.10.9.2\n",
            "  Downloading py4j-0.10.9.2-py2.py3-none-any.whl (198 kB)\n",
            "\u001b[K     |████████████████████████████████| 198 kB 54.4 MB/s \n",
            "\u001b[?25hBuilding wheels for collected packages: pyspark\n",
            "  Building wheel for pyspark (setup.py) ... \u001b[?25l\u001b[?25hdone\n",
            "  Created wheel for pyspark: filename=pyspark-3.2.0-py2.py3-none-any.whl size=281805912 sha256=8269e9fda62d0f2054ed1525ba9c5962b7b98037b7c04853143948a90de8acaf\n",
            "  Stored in directory: /root/.cache/pip/wheels/0b/de/d2/9be5d59d7331c6c2a7c1b6d1a4f463ce107332b1ecd4e80718\n",
            "Successfully built pyspark\n",
            "Installing collected packages: py4j, pyspark\n",
            "Successfully installed py4j-0.10.9.2 pyspark-3.2.0\n"
          ]
        }
      ]
    },
    {
      "cell_type": "code",
      "metadata": {
        "id": "mhEJ-o9JecLT"
      },
      "source": [
        "import pandas as pd\n",
        "from pyspark.sql import SparkSession\n",
        "\n",
        "\n",
        "spark = SparkSession.builder.getOrCreate()"
      ],
      "execution_count": 3,
      "outputs": []
    },
    {
      "cell_type": "code",
      "metadata": {
        "id": "-LB3RtMpemhI"
      },
      "source": [
        "import pyspark.sql.types as T\n",
        "import pyspark.sql.functions as F"
      ],
      "execution_count": 4,
      "outputs": []
    },
    {
      "cell_type": "code",
      "metadata": {
        "colab": {
          "base_uri": "https://localhost:8080/",
          "height": 219
        },
        "id": "oX-hyPbcYh_-",
        "outputId": "6fed3039-11a4-4689-a77d-61da9479ff6c"
      },
      "source": [
        "spark"
      ],
      "execution_count": 5,
      "outputs": [
        {
          "output_type": "execute_result",
          "data": {
            "text/html": [
              "\n",
              "            <div>\n",
              "                <p><b>SparkSession - in-memory</b></p>\n",
              "                \n",
              "        <div>\n",
              "            <p><b>SparkContext</b></p>\n",
              "\n",
              "            <p><a href=\"http://2c93da29f926:4040\">Spark UI</a></p>\n",
              "\n",
              "            <dl>\n",
              "              <dt>Version</dt>\n",
              "                <dd><code>v3.2.0</code></dd>\n",
              "              <dt>Master</dt>\n",
              "                <dd><code>local[*]</code></dd>\n",
              "              <dt>AppName</dt>\n",
              "                <dd><code>pyspark-shell</code></dd>\n",
              "            </dl>\n",
              "        </div>\n",
              "        \n",
              "            </div>\n",
              "        "
            ],
            "text/plain": [
              "<pyspark.sql.session.SparkSession at 0x7fda9f8ba050>"
            ]
          },
          "metadata": {},
          "execution_count": 5
        }
      ]
    },
    {
      "cell_type": "code",
      "metadata": {
        "colab": {
          "base_uri": "https://localhost:8080/"
        },
        "id": "GTdm75Sw0nbZ",
        "outputId": "996674fc-76e7-4d0c-c869-576a9111560a"
      },
      "source": [
        "from google.colab import drive\n",
        "drive.mount('/content/drive')"
      ],
      "execution_count": null,
      "outputs": [
        {
          "output_type": "stream",
          "name": "stdout",
          "text": [
            "Drive already mounted at /content/drive; to attempt to forcibly remount, call drive.mount(\"/content/drive\", force_remount=True).\n"
          ]
        }
      ]
    },
    {
      "cell_type": "code",
      "metadata": {
        "id": "SSjEC_FwYK4S"
      },
      "source": [
        "# 창혁님이 작업중이던 파일을 넘겨받음\n",
        "# 여느때처럼 spark를 이용하려 했는데 컬럼에 특수문자(:, 공백)가 있어서 그런지 에러가 떴다.\n",
        "# 갑자기 분위기 pandas\n",
        "df = pd.read_parquet(\"/content/drive/MyDrive/data/day-of-week_per_time.parquet\")"
      ],
      "execution_count": 6,
      "outputs": []
    },
    {
      "cell_type": "code",
      "metadata": {
        "id": "1srOrb5XhyUL"
      },
      "source": [
        "# 시간별 데이터를 모두 더해 col에 저장한다.\n",
        "sum_column = df[\"06:00 이전\"] + df[\"06:00 ~ 07:00\"] + df[\"07:00 ~ 08:00\"] + df[\"08:00 ~ 09:00\"] + \\\n",
        "            df[\"09:00 ~ 10:00\"] + df[\"10:00 ~ 11:00\"] + df[\"11:00 ~ 12:00\"] + df[\"12:00 ~ 13:00\"] + \\\n",
        "            df[\"13:00 ~ 14:00\"] + df[\"14:00 ~ 15:00\"] + df[\"15:00 ~ 16:00\"] + df[\"16:00 ~ 17:00\"] + \\\n",
        "            df[\"17:00 ~ 18:00\"] + df[\"18:00 ~ 19:00\"] + df[\"19:00 ~ 20:00\"] + df[\"20:00 ~ 21:00\"] + \\\n",
        "            df[\"21:00 ~ 22:00\"] + df[\"22:00 ~ 23:00\"] + df[\"23:00 이후\"]"
      ],
      "execution_count": 7,
      "outputs": []
    },
    {
      "cell_type": "code",
      "metadata": {
        "id": "_AVblktyiwbS"
      },
      "source": [
        "# 위에서 저장했던 col을 기존 df에 이어붙인다.\n",
        "df[\"일간이용자수\"] = sum_column"
      ],
      "execution_count": 8,
      "outputs": []
    },
    {
      "cell_type": "code",
      "metadata": {
        "colab": {
          "base_uri": "https://localhost:8080/",
          "height": 1000
        },
        "id": "T5dvkd89g4Gm",
        "outputId": "ae7873b1-e419-4960-ca95-b381ad8e0e3d"
      },
      "source": [
        "df"
      ],
      "execution_count": 9,
      "outputs": [
        {
          "output_type": "execute_result",
          "data": {
            "text/html": [
              "<div>\n",
              "<style scoped>\n",
              "    .dataframe tbody tr th:only-of-type {\n",
              "        vertical-align: middle;\n",
              "    }\n",
              "\n",
              "    .dataframe tbody tr th {\n",
              "        vertical-align: top;\n",
              "    }\n",
              "\n",
              "    .dataframe thead th {\n",
              "        text-align: right;\n",
              "    }\n",
              "</style>\n",
              "<table border=\"1\" class=\"dataframe\">\n",
              "  <thead>\n",
              "    <tr style=\"text-align: right;\">\n",
              "      <th></th>\n",
              "      <th>호선</th>\n",
              "      <th>역명</th>\n",
              "      <th>요일</th>\n",
              "      <th>구분</th>\n",
              "      <th>06:00 이전</th>\n",
              "      <th>06:00 ~ 07:00</th>\n",
              "      <th>07:00 ~ 08:00</th>\n",
              "      <th>08:00 ~ 09:00</th>\n",
              "      <th>09:00 ~ 10:00</th>\n",
              "      <th>10:00 ~ 11:00</th>\n",
              "      <th>11:00 ~ 12:00</th>\n",
              "      <th>12:00 ~ 13:00</th>\n",
              "      <th>13:00 ~ 14:00</th>\n",
              "      <th>14:00 ~ 15:00</th>\n",
              "      <th>15:00 ~ 16:00</th>\n",
              "      <th>16:00 ~ 17:00</th>\n",
              "      <th>17:00 ~ 18:00</th>\n",
              "      <th>18:00 ~ 19:00</th>\n",
              "      <th>19:00 ~ 20:00</th>\n",
              "      <th>20:00 ~ 21:00</th>\n",
              "      <th>21:00 ~ 22:00</th>\n",
              "      <th>22:00 ~ 23:00</th>\n",
              "      <th>23:00 이후</th>\n",
              "      <th>일간이용자수</th>\n",
              "    </tr>\n",
              "  </thead>\n",
              "  <tbody>\n",
              "    <tr>\n",
              "      <th>0</th>\n",
              "      <td>1호선</td>\n",
              "      <td>동대문</td>\n",
              "      <td>Monday</td>\n",
              "      <td>승차</td>\n",
              "      <td>488.0</td>\n",
              "      <td>331.0</td>\n",
              "      <td>524.0</td>\n",
              "      <td>688.0</td>\n",
              "      <td>588.0</td>\n",
              "      <td>504.0</td>\n",
              "      <td>555.0</td>\n",
              "      <td>633.0</td>\n",
              "      <td>643.0</td>\n",
              "      <td>677.0</td>\n",
              "      <td>707.0</td>\n",
              "      <td>746.0</td>\n",
              "      <td>787.0</td>\n",
              "      <td>818.0</td>\n",
              "      <td>548.0</td>\n",
              "      <td>423.0</td>\n",
              "      <td>399.0</td>\n",
              "      <td>313.0</td>\n",
              "      <td>128.0</td>\n",
              "      <td>10500.0</td>\n",
              "    </tr>\n",
              "    <tr>\n",
              "      <th>1</th>\n",
              "      <td>1호선</td>\n",
              "      <td>동대문</td>\n",
              "      <td>Monday</td>\n",
              "      <td>하차</td>\n",
              "      <td>80.0</td>\n",
              "      <td>247.0</td>\n",
              "      <td>438.0</td>\n",
              "      <td>923.0</td>\n",
              "      <td>819.0</td>\n",
              "      <td>655.0</td>\n",
              "      <td>680.0</td>\n",
              "      <td>655.0</td>\n",
              "      <td>646.0</td>\n",
              "      <td>643.0</td>\n",
              "      <td>629.0</td>\n",
              "      <td>572.0</td>\n",
              "      <td>594.0</td>\n",
              "      <td>648.0</td>\n",
              "      <td>730.0</td>\n",
              "      <td>458.0</td>\n",
              "      <td>361.0</td>\n",
              "      <td>330.0</td>\n",
              "      <td>366.0</td>\n",
              "      <td>10474.0</td>\n",
              "    </tr>\n",
              "    <tr>\n",
              "      <th>2</th>\n",
              "      <td>1호선</td>\n",
              "      <td>동대문</td>\n",
              "      <td>Tuesday</td>\n",
              "      <td>승차</td>\n",
              "      <td>500.0</td>\n",
              "      <td>338.0</td>\n",
              "      <td>525.0</td>\n",
              "      <td>700.0</td>\n",
              "      <td>598.0</td>\n",
              "      <td>500.0</td>\n",
              "      <td>550.0</td>\n",
              "      <td>627.0</td>\n",
              "      <td>641.0</td>\n",
              "      <td>667.0</td>\n",
              "      <td>707.0</td>\n",
              "      <td>750.0</td>\n",
              "      <td>797.0</td>\n",
              "      <td>828.0</td>\n",
              "      <td>553.0</td>\n",
              "      <td>432.0</td>\n",
              "      <td>415.0</td>\n",
              "      <td>332.0</td>\n",
              "      <td>134.0</td>\n",
              "      <td>10594.0</td>\n",
              "    </tr>\n",
              "    <tr>\n",
              "      <th>3</th>\n",
              "      <td>1호선</td>\n",
              "      <td>동대문</td>\n",
              "      <td>Tuesday</td>\n",
              "      <td>하차</td>\n",
              "      <td>78.0</td>\n",
              "      <td>241.0</td>\n",
              "      <td>437.0</td>\n",
              "      <td>919.0</td>\n",
              "      <td>808.0</td>\n",
              "      <td>651.0</td>\n",
              "      <td>683.0</td>\n",
              "      <td>647.0</td>\n",
              "      <td>637.0</td>\n",
              "      <td>632.0</td>\n",
              "      <td>614.0</td>\n",
              "      <td>567.0</td>\n",
              "      <td>596.0</td>\n",
              "      <td>657.0</td>\n",
              "      <td>712.0</td>\n",
              "      <td>454.0</td>\n",
              "      <td>359.0</td>\n",
              "      <td>336.0</td>\n",
              "      <td>375.0</td>\n",
              "      <td>10403.0</td>\n",
              "    </tr>\n",
              "    <tr>\n",
              "      <th>4</th>\n",
              "      <td>1호선</td>\n",
              "      <td>동대문</td>\n",
              "      <td>Wednesday</td>\n",
              "      <td>승차</td>\n",
              "      <td>508.0</td>\n",
              "      <td>333.0</td>\n",
              "      <td>522.0</td>\n",
              "      <td>691.0</td>\n",
              "      <td>594.0</td>\n",
              "      <td>504.0</td>\n",
              "      <td>542.0</td>\n",
              "      <td>629.0</td>\n",
              "      <td>647.0</td>\n",
              "      <td>688.0</td>\n",
              "      <td>708.0</td>\n",
              "      <td>757.0</td>\n",
              "      <td>803.0</td>\n",
              "      <td>825.0</td>\n",
              "      <td>544.0</td>\n",
              "      <td>451.0</td>\n",
              "      <td>416.0</td>\n",
              "      <td>326.0</td>\n",
              "      <td>138.0</td>\n",
              "      <td>10626.0</td>\n",
              "    </tr>\n",
              "    <tr>\n",
              "      <th>...</th>\n",
              "      <td>...</td>\n",
              "      <td>...</td>\n",
              "      <td>...</td>\n",
              "      <td>...</td>\n",
              "      <td>...</td>\n",
              "      <td>...</td>\n",
              "      <td>...</td>\n",
              "      <td>...</td>\n",
              "      <td>...</td>\n",
              "      <td>...</td>\n",
              "      <td>...</td>\n",
              "      <td>...</td>\n",
              "      <td>...</td>\n",
              "      <td>...</td>\n",
              "      <td>...</td>\n",
              "      <td>...</td>\n",
              "      <td>...</td>\n",
              "      <td>...</td>\n",
              "      <td>...</td>\n",
              "      <td>...</td>\n",
              "      <td>...</td>\n",
              "      <td>...</td>\n",
              "      <td>...</td>\n",
              "      <td>...</td>\n",
              "    </tr>\n",
              "    <tr>\n",
              "      <th>3451</th>\n",
              "      <td>8호선</td>\n",
              "      <td>천호(풍납토성)</td>\n",
              "      <td>Thursday</td>\n",
              "      <td>하차</td>\n",
              "      <td>63.0</td>\n",
              "      <td>387.0</td>\n",
              "      <td>586.0</td>\n",
              "      <td>1133.0</td>\n",
              "      <td>846.0</td>\n",
              "      <td>570.0</td>\n",
              "      <td>555.0</td>\n",
              "      <td>603.0</td>\n",
              "      <td>667.0</td>\n",
              "      <td>686.0</td>\n",
              "      <td>873.0</td>\n",
              "      <td>1035.0</td>\n",
              "      <td>1453.0</td>\n",
              "      <td>2639.0</td>\n",
              "      <td>1898.0</td>\n",
              "      <td>952.0</td>\n",
              "      <td>864.0</td>\n",
              "      <td>719.0</td>\n",
              "      <td>479.0</td>\n",
              "      <td>17008.0</td>\n",
              "    </tr>\n",
              "    <tr>\n",
              "      <th>3452</th>\n",
              "      <td>8호선</td>\n",
              "      <td>천호(풍납토성)</td>\n",
              "      <td>Friday</td>\n",
              "      <td>승차</td>\n",
              "      <td>405.0</td>\n",
              "      <td>641.0</td>\n",
              "      <td>1659.0</td>\n",
              "      <td>2328.0</td>\n",
              "      <td>1225.0</td>\n",
              "      <td>630.0</td>\n",
              "      <td>583.0</td>\n",
              "      <td>614.0</td>\n",
              "      <td>643.0</td>\n",
              "      <td>614.0</td>\n",
              "      <td>664.0</td>\n",
              "      <td>761.0</td>\n",
              "      <td>1006.0</td>\n",
              "      <td>1222.0</td>\n",
              "      <td>773.0</td>\n",
              "      <td>651.0</td>\n",
              "      <td>511.0</td>\n",
              "      <td>423.0</td>\n",
              "      <td>176.0</td>\n",
              "      <td>15529.0</td>\n",
              "    </tr>\n",
              "    <tr>\n",
              "      <th>3453</th>\n",
              "      <td>8호선</td>\n",
              "      <td>천호(풍납토성)</td>\n",
              "      <td>Friday</td>\n",
              "      <td>하차</td>\n",
              "      <td>60.0</td>\n",
              "      <td>377.0</td>\n",
              "      <td>564.0</td>\n",
              "      <td>1106.0</td>\n",
              "      <td>876.0</td>\n",
              "      <td>597.0</td>\n",
              "      <td>582.0</td>\n",
              "      <td>637.0</td>\n",
              "      <td>707.0</td>\n",
              "      <td>727.0</td>\n",
              "      <td>943.0</td>\n",
              "      <td>1097.0</td>\n",
              "      <td>1617.0</td>\n",
              "      <td>2874.0</td>\n",
              "      <td>2136.0</td>\n",
              "      <td>1016.0</td>\n",
              "      <td>875.0</td>\n",
              "      <td>757.0</td>\n",
              "      <td>571.0</td>\n",
              "      <td>18119.0</td>\n",
              "    </tr>\n",
              "    <tr>\n",
              "      <th>3454</th>\n",
              "      <td>8호선</td>\n",
              "      <td>천호(풍납토성)</td>\n",
              "      <td>holiday</td>\n",
              "      <td>승차</td>\n",
              "      <td>215.0</td>\n",
              "      <td>240.0</td>\n",
              "      <td>326.0</td>\n",
              "      <td>466.0</td>\n",
              "      <td>535.0</td>\n",
              "      <td>476.0</td>\n",
              "      <td>499.0</td>\n",
              "      <td>558.0</td>\n",
              "      <td>594.0</td>\n",
              "      <td>580.0</td>\n",
              "      <td>604.0</td>\n",
              "      <td>623.0</td>\n",
              "      <td>638.0</td>\n",
              "      <td>556.0</td>\n",
              "      <td>465.0</td>\n",
              "      <td>473.0</td>\n",
              "      <td>391.0</td>\n",
              "      <td>283.0</td>\n",
              "      <td>109.0</td>\n",
              "      <td>8631.0</td>\n",
              "    </tr>\n",
              "    <tr>\n",
              "      <th>3455</th>\n",
              "      <td>8호선</td>\n",
              "      <td>천호(풍납토성)</td>\n",
              "      <td>holiday</td>\n",
              "      <td>하차</td>\n",
              "      <td>40.0</td>\n",
              "      <td>212.0</td>\n",
              "      <td>195.0</td>\n",
              "      <td>264.0</td>\n",
              "      <td>473.0</td>\n",
              "      <td>427.0</td>\n",
              "      <td>508.0</td>\n",
              "      <td>596.0</td>\n",
              "      <td>663.0</td>\n",
              "      <td>697.0</td>\n",
              "      <td>755.0</td>\n",
              "      <td>823.0</td>\n",
              "      <td>919.0</td>\n",
              "      <td>846.0</td>\n",
              "      <td>687.0</td>\n",
              "      <td>548.0</td>\n",
              "      <td>578.0</td>\n",
              "      <td>460.0</td>\n",
              "      <td>295.0</td>\n",
              "      <td>9986.0</td>\n",
              "    </tr>\n",
              "  </tbody>\n",
              "</table>\n",
              "<p>3456 rows × 24 columns</p>\n",
              "</div>"
            ],
            "text/plain": [
              "       호선        역명         요일  ... 22:00 ~ 23:00  23:00 이후   일간이용자수\n",
              "0     1호선       동대문     Monday  ...         313.0     128.0  10500.0\n",
              "1     1호선       동대문     Monday  ...         330.0     366.0  10474.0\n",
              "2     1호선       동대문    Tuesday  ...         332.0     134.0  10594.0\n",
              "3     1호선       동대문    Tuesday  ...         336.0     375.0  10403.0\n",
              "4     1호선       동대문  Wednesday  ...         326.0     138.0  10626.0\n",
              "...   ...       ...        ...  ...           ...       ...      ...\n",
              "3451  8호선  천호(풍납토성)   Thursday  ...         719.0     479.0  17008.0\n",
              "3452  8호선  천호(풍납토성)     Friday  ...         423.0     176.0  15529.0\n",
              "3453  8호선  천호(풍납토성)     Friday  ...         757.0     571.0  18119.0\n",
              "3454  8호선  천호(풍납토성)    holiday  ...         283.0     109.0   8631.0\n",
              "3455  8호선  천호(풍납토성)    holiday  ...         460.0     295.0   9986.0\n",
              "\n",
              "[3456 rows x 24 columns]"
            ]
          },
          "metadata": {},
          "execution_count": 9
        }
      ]
    },
    {
      "cell_type": "code",
      "metadata": {
        "id": "qWrOsCNRkT3t"
      },
      "source": [
        "# 기존 df의 시간별 이용자수를 기록한 col은 이제 필요가 없다.\n",
        "regression_prepare = df[[\"호선\", \"역명\", \"요일\", \"구분\", \"일간이용자수\"]]"
      ],
      "execution_count": 10,
      "outputs": []
    },
    {
      "cell_type": "code",
      "metadata": {
        "colab": {
          "base_uri": "https://localhost:8080/",
          "height": 424
        },
        "id": "85ln-Fzzlwbz",
        "outputId": "a065bdfb-26aa-47b9-86d8-1f8d11ec5fc4"
      },
      "source": [
        "regression_prepare"
      ],
      "execution_count": 11,
      "outputs": [
        {
          "output_type": "execute_result",
          "data": {
            "text/html": [
              "<div>\n",
              "<style scoped>\n",
              "    .dataframe tbody tr th:only-of-type {\n",
              "        vertical-align: middle;\n",
              "    }\n",
              "\n",
              "    .dataframe tbody tr th {\n",
              "        vertical-align: top;\n",
              "    }\n",
              "\n",
              "    .dataframe thead th {\n",
              "        text-align: right;\n",
              "    }\n",
              "</style>\n",
              "<table border=\"1\" class=\"dataframe\">\n",
              "  <thead>\n",
              "    <tr style=\"text-align: right;\">\n",
              "      <th></th>\n",
              "      <th>호선</th>\n",
              "      <th>역명</th>\n",
              "      <th>요일</th>\n",
              "      <th>구분</th>\n",
              "      <th>일간이용자수</th>\n",
              "    </tr>\n",
              "  </thead>\n",
              "  <tbody>\n",
              "    <tr>\n",
              "      <th>0</th>\n",
              "      <td>1호선</td>\n",
              "      <td>동대문</td>\n",
              "      <td>Monday</td>\n",
              "      <td>승차</td>\n",
              "      <td>10500.0</td>\n",
              "    </tr>\n",
              "    <tr>\n",
              "      <th>1</th>\n",
              "      <td>1호선</td>\n",
              "      <td>동대문</td>\n",
              "      <td>Monday</td>\n",
              "      <td>하차</td>\n",
              "      <td>10474.0</td>\n",
              "    </tr>\n",
              "    <tr>\n",
              "      <th>2</th>\n",
              "      <td>1호선</td>\n",
              "      <td>동대문</td>\n",
              "      <td>Tuesday</td>\n",
              "      <td>승차</td>\n",
              "      <td>10594.0</td>\n",
              "    </tr>\n",
              "    <tr>\n",
              "      <th>3</th>\n",
              "      <td>1호선</td>\n",
              "      <td>동대문</td>\n",
              "      <td>Tuesday</td>\n",
              "      <td>하차</td>\n",
              "      <td>10403.0</td>\n",
              "    </tr>\n",
              "    <tr>\n",
              "      <th>4</th>\n",
              "      <td>1호선</td>\n",
              "      <td>동대문</td>\n",
              "      <td>Wednesday</td>\n",
              "      <td>승차</td>\n",
              "      <td>10626.0</td>\n",
              "    </tr>\n",
              "    <tr>\n",
              "      <th>...</th>\n",
              "      <td>...</td>\n",
              "      <td>...</td>\n",
              "      <td>...</td>\n",
              "      <td>...</td>\n",
              "      <td>...</td>\n",
              "    </tr>\n",
              "    <tr>\n",
              "      <th>3451</th>\n",
              "      <td>8호선</td>\n",
              "      <td>천호(풍납토성)</td>\n",
              "      <td>Thursday</td>\n",
              "      <td>하차</td>\n",
              "      <td>17008.0</td>\n",
              "    </tr>\n",
              "    <tr>\n",
              "      <th>3452</th>\n",
              "      <td>8호선</td>\n",
              "      <td>천호(풍납토성)</td>\n",
              "      <td>Friday</td>\n",
              "      <td>승차</td>\n",
              "      <td>15529.0</td>\n",
              "    </tr>\n",
              "    <tr>\n",
              "      <th>3453</th>\n",
              "      <td>8호선</td>\n",
              "      <td>천호(풍납토성)</td>\n",
              "      <td>Friday</td>\n",
              "      <td>하차</td>\n",
              "      <td>18119.0</td>\n",
              "    </tr>\n",
              "    <tr>\n",
              "      <th>3454</th>\n",
              "      <td>8호선</td>\n",
              "      <td>천호(풍납토성)</td>\n",
              "      <td>holiday</td>\n",
              "      <td>승차</td>\n",
              "      <td>8631.0</td>\n",
              "    </tr>\n",
              "    <tr>\n",
              "      <th>3455</th>\n",
              "      <td>8호선</td>\n",
              "      <td>천호(풍납토성)</td>\n",
              "      <td>holiday</td>\n",
              "      <td>하차</td>\n",
              "      <td>9986.0</td>\n",
              "    </tr>\n",
              "  </tbody>\n",
              "</table>\n",
              "<p>3456 rows × 5 columns</p>\n",
              "</div>"
            ],
            "text/plain": [
              "       호선        역명         요일  구분   일간이용자수\n",
              "0     1호선       동대문     Monday  승차  10500.0\n",
              "1     1호선       동대문     Monday  하차  10474.0\n",
              "2     1호선       동대문    Tuesday  승차  10594.0\n",
              "3     1호선       동대문    Tuesday  하차  10403.0\n",
              "4     1호선       동대문  Wednesday  승차  10626.0\n",
              "...   ...       ...        ...  ..      ...\n",
              "3451  8호선  천호(풍납토성)   Thursday  하차  17008.0\n",
              "3452  8호선  천호(풍납토성)     Friday  승차  15529.0\n",
              "3453  8호선  천호(풍납토성)     Friday  하차  18119.0\n",
              "3454  8호선  천호(풍납토성)    holiday  승차   8631.0\n",
              "3455  8호선  천호(풍납토성)    holiday  하차   9986.0\n",
              "\n",
              "[3456 rows x 5 columns]"
            ]
          },
          "metadata": {},
          "execution_count": 11
        }
      ]
    },
    {
      "cell_type": "code",
      "metadata": {
        "id": "8fJm_Lcbx4yI"
      },
      "source": [
        "group_by_station = regression_prepare.groupby(by=[\"역명\", \"호선\"]).sum()"
      ],
      "execution_count": 12,
      "outputs": []
    },
    {
      "cell_type": "code",
      "metadata": {
        "colab": {
          "base_uri": "https://localhost:8080/",
          "height": 455
        },
        "id": "DkF8vThayLSP",
        "outputId": "5b6af3ef-4649-4eab-958b-ab568f4f2f6f"
      },
      "source": [
        "group_by_station"
      ],
      "execution_count": 13,
      "outputs": [
        {
          "output_type": "execute_result",
          "data": {
            "text/html": [
              "<div>\n",
              "<style scoped>\n",
              "    .dataframe tbody tr th:only-of-type {\n",
              "        vertical-align: middle;\n",
              "    }\n",
              "\n",
              "    .dataframe tbody tr th {\n",
              "        vertical-align: top;\n",
              "    }\n",
              "\n",
              "    .dataframe thead th {\n",
              "        text-align: right;\n",
              "    }\n",
              "</style>\n",
              "<table border=\"1\" class=\"dataframe\">\n",
              "  <thead>\n",
              "    <tr style=\"text-align: right;\">\n",
              "      <th></th>\n",
              "      <th></th>\n",
              "      <th>일간이용자수</th>\n",
              "    </tr>\n",
              "    <tr>\n",
              "      <th>역명</th>\n",
              "      <th>호선</th>\n",
              "      <th></th>\n",
              "    </tr>\n",
              "  </thead>\n",
              "  <tbody>\n",
              "    <tr>\n",
              "      <th rowspan=\"2\" valign=\"top\">가락시장</th>\n",
              "      <th>3호선</th>\n",
              "      <td>95538.0</td>\n",
              "    </tr>\n",
              "    <tr>\n",
              "      <th>8호선</th>\n",
              "      <td>88772.0</td>\n",
              "    </tr>\n",
              "    <tr>\n",
              "      <th>가산디지털단지</th>\n",
              "      <th>7호선</th>\n",
              "      <td>477826.0</td>\n",
              "    </tr>\n",
              "    <tr>\n",
              "      <th>강남</th>\n",
              "      <th>2호선</th>\n",
              "      <td>895439.0</td>\n",
              "    </tr>\n",
              "    <tr>\n",
              "      <th>강남구청</th>\n",
              "      <th>7호선</th>\n",
              "      <td>174392.0</td>\n",
              "    </tr>\n",
              "    <tr>\n",
              "      <th>...</th>\n",
              "      <th>...</th>\n",
              "      <td>...</td>\n",
              "    </tr>\n",
              "    <tr>\n",
              "      <th>홍제</th>\n",
              "      <th>3호선</th>\n",
              "      <td>180403.0</td>\n",
              "    </tr>\n",
              "    <tr>\n",
              "      <th>화곡</th>\n",
              "      <th>5호선</th>\n",
              "      <td>291719.0</td>\n",
              "    </tr>\n",
              "    <tr>\n",
              "      <th>화랑대(서울여대입구)</th>\n",
              "      <th>6호선</th>\n",
              "      <td>107029.0</td>\n",
              "    </tr>\n",
              "    <tr>\n",
              "      <th>회현(남대문시장)</th>\n",
              "      <th>4호선</th>\n",
              "      <td>252052.0</td>\n",
              "    </tr>\n",
              "    <tr>\n",
              "      <th>효창공원앞</th>\n",
              "      <th>6호선</th>\n",
              "      <td>69778.0</td>\n",
              "    </tr>\n",
              "  </tbody>\n",
              "</table>\n",
              "<p>288 rows × 1 columns</p>\n",
              "</div>"
            ],
            "text/plain": [
              "                   일간이용자수\n",
              "역명          호선           \n",
              "가락시장        3호선   95538.0\n",
              "            8호선   88772.0\n",
              "가산디지털단지     7호선  477826.0\n",
              "강남          2호선  895439.0\n",
              "강남구청        7호선  174392.0\n",
              "...                   ...\n",
              "홍제          3호선  180403.0\n",
              "화곡          5호선  291719.0\n",
              "화랑대(서울여대입구) 6호선  107029.0\n",
              "회현(남대문시장)   4호선  252052.0\n",
              "효창공원앞       6호선   69778.0\n",
              "\n",
              "[288 rows x 1 columns]"
            ]
          },
          "metadata": {},
          "execution_count": 13
        }
      ]
    },
    {
      "cell_type": "code",
      "metadata": {
        "id": "qV2X6wWGl0oj"
      },
      "source": [
        "# 개찰구가 1개인 환승역을 조사하기 위해, 일간이용자가 10명 미만인 역들을 추려내겠다.\n",
        "strange_data = group_by_station[group_by_station[\"일간이용자수\"]<10]"
      ],
      "execution_count": 14,
      "outputs": []
    },
    {
      "cell_type": "code",
      "metadata": {
        "colab": {
          "base_uri": "https://localhost:8080/",
          "height": 175
        },
        "id": "khQHNdKRo3v4",
        "outputId": "0e24f2f6-8b8e-4ebc-98c1-738ecf28b13b"
      },
      "source": [
        "# 이상치를 가진 역의 목록을 조회해보자.\n",
        "# 3개 밖에 없다. 상상보다 적은 숫자 ㄴㅇㄱ\n",
        "strange_data"
      ],
      "execution_count": 15,
      "outputs": [
        {
          "output_type": "execute_result",
          "data": {
            "text/html": [
              "<div>\n",
              "<style scoped>\n",
              "    .dataframe tbody tr th:only-of-type {\n",
              "        vertical-align: middle;\n",
              "    }\n",
              "\n",
              "    .dataframe tbody tr th {\n",
              "        vertical-align: top;\n",
              "    }\n",
              "\n",
              "    .dataframe thead th {\n",
              "        text-align: right;\n",
              "    }\n",
              "</style>\n",
              "<table border=\"1\" class=\"dataframe\">\n",
              "  <thead>\n",
              "    <tr style=\"text-align: right;\">\n",
              "      <th></th>\n",
              "      <th></th>\n",
              "      <th>일간이용자수</th>\n",
              "    </tr>\n",
              "    <tr>\n",
              "      <th>역명</th>\n",
              "      <th>호선</th>\n",
              "      <th></th>\n",
              "    </tr>\n",
              "  </thead>\n",
              "  <tbody>\n",
              "    <tr>\n",
              "      <th>신내</th>\n",
              "      <th>6호선</th>\n",
              "      <td>0.0</td>\n",
              "    </tr>\n",
              "    <tr>\n",
              "      <th>연신내</th>\n",
              "      <th>6호선</th>\n",
              "      <td>0.0</td>\n",
              "    </tr>\n",
              "    <tr>\n",
              "      <th>충무로</th>\n",
              "      <th>3호선</th>\n",
              "      <td>0.0</td>\n",
              "    </tr>\n",
              "  </tbody>\n",
              "</table>\n",
              "</div>"
            ],
            "text/plain": [
              "         일간이용자수\n",
              "역명  호선         \n",
              "신내  6호선     0.0\n",
              "연신내 6호선     0.0\n",
              "충무로 3호선     0.0"
            ]
          },
          "metadata": {},
          "execution_count": 15
        }
      ]
    },
    {
      "cell_type": "code",
      "metadata": {
        "id": "XZ07NFCTwKgS"
      },
      "source": [
        "# 위의 결과가 3개밖에 없는 것에 대한 내용\n",
        "# 원본데이터는 동대문, 동묘앞, 서울역, 시청, 신설동, 제기동, 종각, 종로3가, 종로5가, 청량리 역만이 1호선에 속한다. \n",
        "# 원본데이터에 누락된 1호선역들 중 나머지 2~8호선과의 환승역도 추가해 기록했다.\n",
        "strange_station = [\"충무로\", \"신내\", \"연신내\", \"온수\", \"신도림\", \"신길\", \"석계\", \"창동\", \"도봉산\", \"금정\"]"
      ],
      "execution_count": 16,
      "outputs": []
    },
    {
      "cell_type": "code",
      "metadata": {
        "id": "2jfBEDMKyuNM"
      },
      "source": [
        "# 위의 환승역들을 따로 추려낸 df를 만든다.\n",
        "df_strange_station = df[df[\"역명\"].isin(strange_station)]"
      ],
      "execution_count": 17,
      "outputs": []
    },
    {
      "cell_type": "code",
      "metadata": {
        "id": "URo8JAGpwK-w"
      },
      "source": [
        "# 필요한 칼럼만 추린다.\n",
        "df_strange_station = df_strange_station[[\"호선\", \"역명\", \"요일\", \"구분\", \"일간이용자수\"]]"
      ],
      "execution_count": 18,
      "outputs": []
    },
    {
      "cell_type": "code",
      "metadata": {
        "id": "PzZzED7BEcrz"
      },
      "source": [
        "# 각 역이 속하는 노선에 대한 집계를 살펴봄\n",
        "df_strange_station = df_strange_station.groupby(by=[\"역명\", \"호선\"]).sum()"
      ],
      "execution_count": 19,
      "outputs": []
    },
    {
      "cell_type": "code",
      "metadata": {
        "colab": {
          "base_uri": "https://localhost:8080/",
          "height": 394
        },
        "id": "-rQ4vXClEudV",
        "outputId": "ee969e06-7e1b-41d8-e613-73ada5621463"
      },
      "source": [
        "df_strange_station"
      ],
      "execution_count": 20,
      "outputs": [
        {
          "output_type": "execute_result",
          "data": {
            "text/html": [
              "<div>\n",
              "<style scoped>\n",
              "    .dataframe tbody tr th:only-of-type {\n",
              "        vertical-align: middle;\n",
              "    }\n",
              "\n",
              "    .dataframe tbody tr th {\n",
              "        vertical-align: top;\n",
              "    }\n",
              "\n",
              "    .dataframe thead th {\n",
              "        text-align: right;\n",
              "    }\n",
              "</style>\n",
              "<table border=\"1\" class=\"dataframe\">\n",
              "  <thead>\n",
              "    <tr style=\"text-align: right;\">\n",
              "      <th></th>\n",
              "      <th></th>\n",
              "      <th>일간이용자수</th>\n",
              "    </tr>\n",
              "    <tr>\n",
              "      <th>역명</th>\n",
              "      <th>호선</th>\n",
              "      <th></th>\n",
              "    </tr>\n",
              "  </thead>\n",
              "  <tbody>\n",
              "    <tr>\n",
              "      <th>도봉산</th>\n",
              "      <th>7호선</th>\n",
              "      <td>106150.0</td>\n",
              "    </tr>\n",
              "    <tr>\n",
              "      <th>석계</th>\n",
              "      <th>6호선</th>\n",
              "      <td>133460.0</td>\n",
              "    </tr>\n",
              "    <tr>\n",
              "      <th>신길</th>\n",
              "      <th>5호선</th>\n",
              "      <td>42443.0</td>\n",
              "    </tr>\n",
              "    <tr>\n",
              "      <th>신내</th>\n",
              "      <th>6호선</th>\n",
              "      <td>0.0</td>\n",
              "    </tr>\n",
              "    <tr>\n",
              "      <th>신도림</th>\n",
              "      <th>2호선</th>\n",
              "      <td>515643.0</td>\n",
              "    </tr>\n",
              "    <tr>\n",
              "      <th rowspan=\"2\" valign=\"top\">연신내</th>\n",
              "      <th>3호선</th>\n",
              "      <td>394124.0</td>\n",
              "    </tr>\n",
              "    <tr>\n",
              "      <th>6호선</th>\n",
              "      <td>0.0</td>\n",
              "    </tr>\n",
              "    <tr>\n",
              "      <th>창동</th>\n",
              "      <th>4호선</th>\n",
              "      <td>287385.0</td>\n",
              "    </tr>\n",
              "    <tr>\n",
              "      <th rowspan=\"2\" valign=\"top\">충무로</th>\n",
              "      <th>3호선</th>\n",
              "      <td>0.0</td>\n",
              "    </tr>\n",
              "    <tr>\n",
              "      <th>4호선</th>\n",
              "      <td>280347.0</td>\n",
              "    </tr>\n",
              "  </tbody>\n",
              "</table>\n",
              "</div>"
            ],
            "text/plain": [
              "           일간이용자수\n",
              "역명  호선           \n",
              "도봉산 7호선  106150.0\n",
              "석계  6호선  133460.0\n",
              "신길  5호선   42443.0\n",
              "신내  6호선       0.0\n",
              "신도림 2호선  515643.0\n",
              "연신내 3호선  394124.0\n",
              "    6호선       0.0\n",
              "창동  4호선  287385.0\n",
              "충무로 3호선       0.0\n",
              "    4호선  280347.0"
            ]
          },
          "metadata": {},
          "execution_count": 20
        }
      ]
    },
    {
      "cell_type": "markdown",
      "metadata": {
        "id": "oC1PjMnfGkLz"
      },
      "source": [
        "|역명|비고|\n",
        "|--|--|\n",
        "|충무로|4호선 & 3호선의 환승역. 3호선 누락|\n",
        "|신내|6호선 & 경춘선 환승역. 6호선이 누락(시간별 데이터 집계불가)|\n",
        "|연신내|3호선 & 6호선의 환승역. 6호선 누락|\n",
        "|온수|존재하지 않음|\n",
        "|신도림|2호선 & 1호선의 환승역. 1호선 누락|\n",
        "|신길|5호선 & 1호선의 환승역. 1호선 누락|\n",
        "|석계|6호선 & 1호선의 환승역. 1호선 누락|\n",
        "|창동|4호선 & 1호선의 환승역. 1호선 누락|\n",
        "|도봉산|7호선 & 1호선의 환승역. 1호선 누락|\n",
        "|금정|존재하지 않음|\n",
        "\n"
      ]
    },
    {
      "cell_type": "code",
      "metadata": {
        "id": "u7gAnq5RIa6F"
      },
      "source": [
        "# 전해 받은 데이터에 누락된 역이 확인되었다. 창혁님의 실수인지 아닌지 조사에 들어가자\n",
        "not_exist = [\"온수\", \"금정\"]"
      ],
      "execution_count": 21,
      "outputs": []
    },
    {
      "cell_type": "code",
      "metadata": {
        "id": "zI5DeigIGizE"
      },
      "source": [
        "# 온수역과 금정역은 전달받은 df에 아에 존재하지 않았음. 원본 데이터를 살펴봄\n",
        "check_not_exist = pd.read_csv(\"/content/drive/MyDrive/data/원본/시간별집계/2021_seoul_metro.csv\", encoding='euc-kr')"
      ],
      "execution_count": 22,
      "outputs": []
    },
    {
      "cell_type": "code",
      "metadata": {
        "colab": {
          "base_uri": "https://localhost:8080/",
          "height": 101
        },
        "id": "n7b0erapIZcl",
        "outputId": "56d51271-aa17-4ddd-a3a7-b00ab827662e"
      },
      "source": [
        "# 원본데이터에도 없는지 확인 => 창혁님은 죄가 없었다.\n",
        "check_not_exist[check_not_exist[\"역명\"].isin([not_exist])]"
      ],
      "execution_count": 23,
      "outputs": [
        {
          "output_type": "execute_result",
          "data": {
            "text/html": [
              "<div>\n",
              "<style scoped>\n",
              "    .dataframe tbody tr th:only-of-type {\n",
              "        vertical-align: middle;\n",
              "    }\n",
              "\n",
              "    .dataframe tbody tr th {\n",
              "        vertical-align: top;\n",
              "    }\n",
              "\n",
              "    .dataframe thead th {\n",
              "        text-align: right;\n",
              "    }\n",
              "</style>\n",
              "<table border=\"1\" class=\"dataframe\">\n",
              "  <thead>\n",
              "    <tr style=\"text-align: right;\">\n",
              "      <th></th>\n",
              "      <th>날짜</th>\n",
              "      <th>호선</th>\n",
              "      <th>역번호</th>\n",
              "      <th>역명</th>\n",
              "      <th>구분</th>\n",
              "      <th>6시이전</th>\n",
              "      <th>6시-7시</th>\n",
              "      <th>7시-8시</th>\n",
              "      <th>8시-9시</th>\n",
              "      <th>9시-10시</th>\n",
              "      <th>10시-11시</th>\n",
              "      <th>11시-12시</th>\n",
              "      <th>12시-13시</th>\n",
              "      <th>13시-14시</th>\n",
              "      <th>14시-15시</th>\n",
              "      <th>15시-16시</th>\n",
              "      <th>16시-17시</th>\n",
              "      <th>17시-18시</th>\n",
              "      <th>18시-19시</th>\n",
              "      <th>19시-20시</th>\n",
              "      <th>20시-21시</th>\n",
              "      <th>21시-22시</th>\n",
              "      <th>22시-23시</th>\n",
              "      <th>23시이후</th>\n",
              "    </tr>\n",
              "  </thead>\n",
              "  <tbody>\n",
              "  </tbody>\n",
              "</table>\n",
              "</div>"
            ],
            "text/plain": [
              "Empty DataFrame\n",
              "Columns: [날짜, 호선, 역번호, 역명, 구분, 6시이전, 6시-7시, 7시-8시, 8시-9시, 9시-10시, 10시-11시, 11시-12시, 12시-13시, 13시-14시, 14시-15시, 15시-16시, 16시-17시, 17시-18시, 18시-19시, 19시-20시, 20시-21시, 21시-22시, 22시-23시, 23시이후]\n",
              "Index: []"
            ]
          },
          "metadata": {},
          "execution_count": 23
        }
      ]
    },
    {
      "cell_type": "markdown",
      "metadata": {
        "id": "psrobdhuKkhj"
      },
      "source": [
        "데이터 처리과정에서 일어난 오류가 아님을 확인했으므로, 이제 회귀에 사용할 각 노선별 이용자수 합계를 구해보자.<br>\n",
        "이 때, strange_station의 역들은 집계에서 제외할 것이다."
      ]
    },
    {
      "cell_type": "code",
      "metadata": {
        "id": "WaOw3pPPKhbY"
      },
      "source": [
        "# 이상집계된 역을 제외해줌\n",
        "group_by_line = regression_prepare[regression_prepare[\"역명\"].isin([strange_station])==False]"
      ],
      "execution_count": 24,
      "outputs": []
    },
    {
      "cell_type": "code",
      "metadata": {
        "id": "Wh7bOEozM-Tg"
      },
      "source": [
        "# 남은 역들을 노선별로 묶어주어 이용자수를 더해줌\n",
        "group_by_line = group_by_line.groupby(by=\"호선\").sum()"
      ],
      "execution_count": 25,
      "outputs": []
    },
    {
      "cell_type": "code",
      "metadata": {
        "colab": {
          "base_uri": "https://localhost:8080/",
          "height": 332
        },
        "id": "aHJx4nmHNJAs",
        "outputId": "1b8efe7a-680a-44be-ccc5-bbe5ce38ee9b"
      },
      "source": [
        "group_by_line"
      ],
      "execution_count": 26,
      "outputs": [
        {
          "output_type": "execute_result",
          "data": {
            "text/html": [
              "<div>\n",
              "<style scoped>\n",
              "    .dataframe tbody tr th:only-of-type {\n",
              "        vertical-align: middle;\n",
              "    }\n",
              "\n",
              "    .dataframe tbody tr th {\n",
              "        vertical-align: top;\n",
              "    }\n",
              "\n",
              "    .dataframe thead th {\n",
              "        text-align: right;\n",
              "    }\n",
              "</style>\n",
              "<table border=\"1\" class=\"dataframe\">\n",
              "  <thead>\n",
              "    <tr style=\"text-align: right;\">\n",
              "      <th></th>\n",
              "      <th>일간이용자수</th>\n",
              "    </tr>\n",
              "    <tr>\n",
              "      <th>호선</th>\n",
              "      <th></th>\n",
              "    </tr>\n",
              "  </thead>\n",
              "  <tbody>\n",
              "    <tr>\n",
              "      <th>1호선</th>\n",
              "      <td>2299394.0</td>\n",
              "    </tr>\n",
              "    <tr>\n",
              "      <th>2호선</th>\n",
              "      <td>14500574.0</td>\n",
              "    </tr>\n",
              "    <tr>\n",
              "      <th>3호선</th>\n",
              "      <td>5213219.0</td>\n",
              "    </tr>\n",
              "    <tr>\n",
              "      <th>4호선</th>\n",
              "      <td>5173681.0</td>\n",
              "    </tr>\n",
              "    <tr>\n",
              "      <th>5호선</th>\n",
              "      <td>6478343.0</td>\n",
              "    </tr>\n",
              "    <tr>\n",
              "      <th>6호선</th>\n",
              "      <td>3303619.0</td>\n",
              "    </tr>\n",
              "    <tr>\n",
              "      <th>7호선</th>\n",
              "      <td>7154546.0</td>\n",
              "    </tr>\n",
              "    <tr>\n",
              "      <th>8호선</th>\n",
              "      <td>1918745.0</td>\n",
              "    </tr>\n",
              "  </tbody>\n",
              "</table>\n",
              "</div>"
            ],
            "text/plain": [
              "         일간이용자수\n",
              "호선             \n",
              "1호선   2299394.0\n",
              "2호선  14500574.0\n",
              "3호선   5213219.0\n",
              "4호선   5173681.0\n",
              "5호선   6478343.0\n",
              "6호선   3303619.0\n",
              "7호선   7154546.0\n",
              "8호선   1918745.0"
            ]
          },
          "metadata": {},
          "execution_count": 26
        }
      ]
    },
    {
      "cell_type": "markdown",
      "metadata": {
        "id": "pZZKy4PJZHF6"
      },
      "source": [
        "일련의 과정에서 우리는 원본 데이터에 누락된 역이 존재한다는 것을 알아냈다.<br>\n",
        "단일노선의 경우는 딱히 문제가 되지 않지만, 신도림 역과 같은 환승역 중 특정 노선에 대한 데이터 자체가 누락되었다면<br>\n",
        "문제가 생긴것을 인지하지 못할 가능성이 있다.(위에서 사용한<br> strange_data = group_by_station[group_by_station[\"일간이용자수\"]<10])<br>\n",
        "코드로 걸러낼 수 없기 때문)<br>\n",
        "해당 이슈를 확인하기 위해선 1~8호선에 속하는 환승역들을 모두 조사하는 방법밖에는 없다.(원본 데이터가 의심되는 상황이므로)"
      ]
    },
    {
      "cell_type": "code",
      "metadata": {
        "id": "0ytV3zg1aO9G"
      },
      "source": [
        "# 확인할 때의 편의를 위해 각 호선별로 list를 나눔. 이미 집계한 역은 집계하지 않음\n",
        "transfer_station = [\"온수\", \"신도림\", \"신길\", \"서울역\", \"시청\", \"종로3가\", \"동대문\", \"동묘앞\", \"신설동\", \"석계\", \"창동\", \"도봉산\", \"가산디지털단지\", \"금정\"] + \\\n",
        "                [\"까치산\", \"대림\", \"사당\", \"교대\", \"잠실\", \"건대입구\", \"왕십리\", \"신당\", \"동대문역사문화공원\", \"을지로4가\", \"을지로3가\", \"충정로\", \"합정\", \"영등포구청\"] + \\\n",
        "                [\"연신내\", \"불광\", \"충무로\", \"약수\", \"고속터미널\", \"가락시장\", \"오금\"] + \\\n",
        "                [\"노원\", \"삼각지\", \"이수(총신대입구)\"] + \\\n",
        "                [\"공덕\", \"청구\", \"군자\", \"천호\"] + \\\n",
        "                [\"태릉입구\"]"
      ],
      "execution_count": 27,
      "outputs": []
    },
    {
      "cell_type": "code",
      "metadata": {
        "id": "ps1_MvufeVb3"
      },
      "source": [
        "# 환승역만 추린 df를 만듦\n",
        "df_transfer_check = df[df[\"역명\"].isin(transfer_station)]"
      ],
      "execution_count": 28,
      "outputs": []
    },
    {
      "cell_type": "code",
      "metadata": {
        "id": "OzP3oWgDeziN"
      },
      "source": [
        "# 필요한 칼럼만 추려냄\n",
        "df_transfer_check = df_transfer_check[[\"호선\", \"역명\", \"요일\", \"구분\", \"일간이용자수\"]]"
      ],
      "execution_count": 29,
      "outputs": []
    },
    {
      "cell_type": "code",
      "metadata": {
        "id": "RIsJFPY_fGMx"
      },
      "source": [
        "# 각 역이 속하는 노선에 대한 집계를 살펴봄\n",
        "df_transfer_check = df_transfer_check.groupby(by=[\"역명\", \"호선\"]).sum()"
      ],
      "execution_count": 30,
      "outputs": []
    },
    {
      "cell_type": "code",
      "metadata": {
        "colab": {
          "base_uri": "https://localhost:8080/",
          "height": 1000
        },
        "id": "gwyzddcSfN6g",
        "outputId": "d4605e4d-1525-4711-f5cd-6afccb3f12e8"
      },
      "source": [
        "# 이제 하나의 노선만 기록된 역들을 집중공략하면 된다.\n",
        "df_transfer_check"
      ],
      "execution_count": 31,
      "outputs": [
        {
          "output_type": "execute_result",
          "data": {
            "text/html": [
              "<div>\n",
              "<style scoped>\n",
              "    .dataframe tbody tr th:only-of-type {\n",
              "        vertical-align: middle;\n",
              "    }\n",
              "\n",
              "    .dataframe tbody tr th {\n",
              "        vertical-align: top;\n",
              "    }\n",
              "\n",
              "    .dataframe thead th {\n",
              "        text-align: right;\n",
              "    }\n",
              "</style>\n",
              "<table border=\"1\" class=\"dataframe\">\n",
              "  <thead>\n",
              "    <tr style=\"text-align: right;\">\n",
              "      <th></th>\n",
              "      <th></th>\n",
              "      <th>일간이용자수</th>\n",
              "    </tr>\n",
              "    <tr>\n",
              "      <th>역명</th>\n",
              "      <th>호선</th>\n",
              "      <th></th>\n",
              "    </tr>\n",
              "  </thead>\n",
              "  <tbody>\n",
              "    <tr>\n",
              "      <th rowspan=\"2\" valign=\"top\">가락시장</th>\n",
              "      <th>3호선</th>\n",
              "      <td>95538.0</td>\n",
              "    </tr>\n",
              "    <tr>\n",
              "      <th>8호선</th>\n",
              "      <td>88772.0</td>\n",
              "    </tr>\n",
              "    <tr>\n",
              "      <th>가산디지털단지</th>\n",
              "      <th>7호선</th>\n",
              "      <td>477826.0</td>\n",
              "    </tr>\n",
              "    <tr>\n",
              "      <th rowspan=\"2\" valign=\"top\">건대입구</th>\n",
              "      <th>2호선</th>\n",
              "      <td>378475.0</td>\n",
              "    </tr>\n",
              "    <tr>\n",
              "      <th>7호선</th>\n",
              "      <td>133806.0</td>\n",
              "    </tr>\n",
              "    <tr>\n",
              "      <th rowspan=\"2\" valign=\"top\">고속터미널</th>\n",
              "      <th>3호선</th>\n",
              "      <td>428652.0</td>\n",
              "    </tr>\n",
              "    <tr>\n",
              "      <th>7호선</th>\n",
              "      <td>153168.0</td>\n",
              "    </tr>\n",
              "    <tr>\n",
              "      <th rowspan=\"2\" valign=\"top\">공덕</th>\n",
              "      <th>5호선</th>\n",
              "      <td>151378.0</td>\n",
              "    </tr>\n",
              "    <tr>\n",
              "      <th>6호선</th>\n",
              "      <td>187772.0</td>\n",
              "    </tr>\n",
              "    <tr>\n",
              "      <th>까치산</th>\n",
              "      <th>5호선</th>\n",
              "      <td>303947.0</td>\n",
              "    </tr>\n",
              "    <tr>\n",
              "      <th rowspan=\"2\" valign=\"top\">노원</th>\n",
              "      <th>4호선</th>\n",
              "      <td>218240.0</td>\n",
              "    </tr>\n",
              "    <tr>\n",
              "      <th>7호선</th>\n",
              "      <td>213563.0</td>\n",
              "    </tr>\n",
              "    <tr>\n",
              "      <th>도봉산</th>\n",
              "      <th>7호선</th>\n",
              "      <td>106150.0</td>\n",
              "    </tr>\n",
              "    <tr>\n",
              "      <th rowspan=\"2\" valign=\"top\">동대문</th>\n",
              "      <th>1호선</th>\n",
              "      <td>123327.0</td>\n",
              "    </tr>\n",
              "    <tr>\n",
              "      <th>4호선</th>\n",
              "      <td>220462.0</td>\n",
              "    </tr>\n",
              "    <tr>\n",
              "      <th rowspan=\"2\" valign=\"top\">동묘앞</th>\n",
              "      <th>1호선</th>\n",
              "      <td>93706.0</td>\n",
              "    </tr>\n",
              "    <tr>\n",
              "      <th>6호선</th>\n",
              "      <td>86481.0</td>\n",
              "    </tr>\n",
              "    <tr>\n",
              "      <th rowspan=\"2\" valign=\"top\">불광</th>\n",
              "      <th>3호선</th>\n",
              "      <td>180912.0</td>\n",
              "    </tr>\n",
              "    <tr>\n",
              "      <th>6호선</th>\n",
              "      <td>48047.0</td>\n",
              "    </tr>\n",
              "    <tr>\n",
              "      <th rowspan=\"2\" valign=\"top\">사당</th>\n",
              "      <th>2호선</th>\n",
              "      <td>407802.0</td>\n",
              "    </tr>\n",
              "    <tr>\n",
              "      <th>4호선</th>\n",
              "      <td>240861.0</td>\n",
              "    </tr>\n",
              "    <tr>\n",
              "      <th rowspan=\"2\" valign=\"top\">삼각지</th>\n",
              "      <th>4호선</th>\n",
              "      <td>52374.0</td>\n",
              "    </tr>\n",
              "    <tr>\n",
              "      <th>6호선</th>\n",
              "      <td>56006.0</td>\n",
              "    </tr>\n",
              "    <tr>\n",
              "      <th rowspan=\"2\" valign=\"top\">서울역</th>\n",
              "      <th>1호선</th>\n",
              "      <td>435495.0</td>\n",
              "    </tr>\n",
              "    <tr>\n",
              "      <th>4호선</th>\n",
              "      <td>140247.0</td>\n",
              "    </tr>\n",
              "    <tr>\n",
              "      <th>석계</th>\n",
              "      <th>6호선</th>\n",
              "      <td>133460.0</td>\n",
              "    </tr>\n",
              "    <tr>\n",
              "      <th rowspan=\"2\" valign=\"top\">시청</th>\n",
              "      <th>1호선</th>\n",
              "      <td>220095.0</td>\n",
              "    </tr>\n",
              "    <tr>\n",
              "      <th>2호선</th>\n",
              "      <td>237324.0</td>\n",
              "    </tr>\n",
              "    <tr>\n",
              "      <th>신길</th>\n",
              "      <th>5호선</th>\n",
              "      <td>42443.0</td>\n",
              "    </tr>\n",
              "    <tr>\n",
              "      <th rowspan=\"2\" valign=\"top\">신당</th>\n",
              "      <th>2호선</th>\n",
              "      <td>148684.0</td>\n",
              "    </tr>\n",
              "    <tr>\n",
              "      <th>6호선</th>\n",
              "      <td>86039.0</td>\n",
              "    </tr>\n",
              "    <tr>\n",
              "      <th>신도림</th>\n",
              "      <th>2호선</th>\n",
              "      <td>515643.0</td>\n",
              "    </tr>\n",
              "    <tr>\n",
              "      <th rowspan=\"2\" valign=\"top\">신설동</th>\n",
              "      <th>1호선</th>\n",
              "      <td>148429.0</td>\n",
              "    </tr>\n",
              "    <tr>\n",
              "      <th>2호선</th>\n",
              "      <td>35514.0</td>\n",
              "    </tr>\n",
              "    <tr>\n",
              "      <th rowspan=\"2\" valign=\"top\">약수</th>\n",
              "      <th>3호선</th>\n",
              "      <td>136424.0</td>\n",
              "    </tr>\n",
              "    <tr>\n",
              "      <th>6호선</th>\n",
              "      <td>37951.0</td>\n",
              "    </tr>\n",
              "    <tr>\n",
              "      <th rowspan=\"2\" valign=\"top\">연신내</th>\n",
              "      <th>3호선</th>\n",
              "      <td>394124.0</td>\n",
              "    </tr>\n",
              "    <tr>\n",
              "      <th>6호선</th>\n",
              "      <td>0.0</td>\n",
              "    </tr>\n",
              "    <tr>\n",
              "      <th rowspan=\"2\" valign=\"top\">영등포구청</th>\n",
              "      <th>2호선</th>\n",
              "      <td>241690.0</td>\n",
              "    </tr>\n",
              "    <tr>\n",
              "      <th>5호선</th>\n",
              "      <td>44477.0</td>\n",
              "    </tr>\n",
              "    <tr>\n",
              "      <th rowspan=\"2\" valign=\"top\">오금</th>\n",
              "      <th>3호선</th>\n",
              "      <td>62374.0</td>\n",
              "    </tr>\n",
              "    <tr>\n",
              "      <th>5호선</th>\n",
              "      <td>38819.0</td>\n",
              "    </tr>\n",
              "    <tr>\n",
              "      <th rowspan=\"2\" valign=\"top\">을지로3가</th>\n",
              "      <th>2호선</th>\n",
              "      <td>218554.0</td>\n",
              "    </tr>\n",
              "    <tr>\n",
              "      <th>3호선</th>\n",
              "      <td>111087.0</td>\n",
              "    </tr>\n",
              "    <tr>\n",
              "      <th rowspan=\"2\" valign=\"top\">을지로4가</th>\n",
              "      <th>2호선</th>\n",
              "      <td>134401.0</td>\n",
              "    </tr>\n",
              "    <tr>\n",
              "      <th>5호선</th>\n",
              "      <td>62858.0</td>\n",
              "    </tr>\n",
              "    <tr>\n",
              "      <th rowspan=\"3\" valign=\"top\">종로3가</th>\n",
              "      <th>1호선</th>\n",
              "      <td>265288.0</td>\n",
              "    </tr>\n",
              "    <tr>\n",
              "      <th>3호선</th>\n",
              "      <td>113304.0</td>\n",
              "    </tr>\n",
              "    <tr>\n",
              "      <th>5호선</th>\n",
              "      <td>127811.0</td>\n",
              "    </tr>\n",
              "    <tr>\n",
              "      <th>창동</th>\n",
              "      <th>4호선</th>\n",
              "      <td>287385.0</td>\n",
              "    </tr>\n",
              "    <tr>\n",
              "      <th rowspan=\"2\" valign=\"top\">청구</th>\n",
              "      <th>5호선</th>\n",
              "      <td>40965.0</td>\n",
              "    </tr>\n",
              "    <tr>\n",
              "      <th>6호선</th>\n",
              "      <td>41784.0</td>\n",
              "    </tr>\n",
              "    <tr>\n",
              "      <th rowspan=\"2\" valign=\"top\">충무로</th>\n",
              "      <th>3호선</th>\n",
              "      <td>0.0</td>\n",
              "    </tr>\n",
              "    <tr>\n",
              "      <th>4호선</th>\n",
              "      <td>280347.0</td>\n",
              "    </tr>\n",
              "    <tr>\n",
              "      <th rowspan=\"2\" valign=\"top\">태릉입구</th>\n",
              "      <th>6호선</th>\n",
              "      <td>60309.0</td>\n",
              "    </tr>\n",
              "    <tr>\n",
              "      <th>7호선</th>\n",
              "      <td>85059.0</td>\n",
              "    </tr>\n",
              "    <tr>\n",
              "      <th rowspan=\"2\" valign=\"top\">합정</th>\n",
              "      <th>2호선</th>\n",
              "      <td>326395.0</td>\n",
              "    </tr>\n",
              "    <tr>\n",
              "      <th>6호선</th>\n",
              "      <td>134608.0</td>\n",
              "    </tr>\n",
              "  </tbody>\n",
              "</table>\n",
              "</div>"
            ],
            "text/plain": [
              "               일간이용자수\n",
              "역명      호선           \n",
              "가락시장    3호선   95538.0\n",
              "        8호선   88772.0\n",
              "가산디지털단지 7호선  477826.0\n",
              "건대입구    2호선  378475.0\n",
              "        7호선  133806.0\n",
              "고속터미널   3호선  428652.0\n",
              "        7호선  153168.0\n",
              "공덕      5호선  151378.0\n",
              "        6호선  187772.0\n",
              "까치산     5호선  303947.0\n",
              "노원      4호선  218240.0\n",
              "        7호선  213563.0\n",
              "도봉산     7호선  106150.0\n",
              "동대문     1호선  123327.0\n",
              "        4호선  220462.0\n",
              "동묘앞     1호선   93706.0\n",
              "        6호선   86481.0\n",
              "불광      3호선  180912.0\n",
              "        6호선   48047.0\n",
              "사당      2호선  407802.0\n",
              "        4호선  240861.0\n",
              "삼각지     4호선   52374.0\n",
              "        6호선   56006.0\n",
              "서울역     1호선  435495.0\n",
              "        4호선  140247.0\n",
              "석계      6호선  133460.0\n",
              "시청      1호선  220095.0\n",
              "        2호선  237324.0\n",
              "신길      5호선   42443.0\n",
              "신당      2호선  148684.0\n",
              "        6호선   86039.0\n",
              "신도림     2호선  515643.0\n",
              "신설동     1호선  148429.0\n",
              "        2호선   35514.0\n",
              "약수      3호선  136424.0\n",
              "        6호선   37951.0\n",
              "연신내     3호선  394124.0\n",
              "        6호선       0.0\n",
              "영등포구청   2호선  241690.0\n",
              "        5호선   44477.0\n",
              "오금      3호선   62374.0\n",
              "        5호선   38819.0\n",
              "을지로3가   2호선  218554.0\n",
              "        3호선  111087.0\n",
              "을지로4가   2호선  134401.0\n",
              "        5호선   62858.0\n",
              "종로3가    1호선  265288.0\n",
              "        3호선  113304.0\n",
              "        5호선  127811.0\n",
              "창동      4호선  287385.0\n",
              "청구      5호선   40965.0\n",
              "        6호선   41784.0\n",
              "충무로     3호선       0.0\n",
              "        4호선  280347.0\n",
              "태릉입구    6호선   60309.0\n",
              "        7호선   85059.0\n",
              "합정      2호선  326395.0\n",
              "        6호선  134608.0"
            ]
          },
          "metadata": {},
          "execution_count": 31
        }
      ]
    },
    {
      "cell_type": "code",
      "metadata": {
        "colab": {
          "base_uri": "https://localhost:8080/"
        },
        "id": "efFpFfRtfiBh",
        "outputId": "f3ed19ca-079d-4bf4-f44f-1a9d51dca3ad"
      },
      "source": [
        "# 그런데 역들의 숫자가 좀 적다. 병기역명등의 이유로 집계가 안됐을수도 있으니 확인해보자\n",
        "len(transfer_station)"
      ],
      "execution_count": 32,
      "outputs": [
        {
          "output_type": "execute_result",
          "data": {
            "text/plain": [
              "43"
            ]
          },
          "metadata": {},
          "execution_count": 32
        }
      ]
    },
    {
      "cell_type": "code",
      "metadata": {
        "id": "PbWj4e7WjVes"
      },
      "source": [
        "count_transfer = df[df[\"역명\"].isin(transfer_station)]"
      ],
      "execution_count": 33,
      "outputs": []
    },
    {
      "cell_type": "code",
      "metadata": {
        "colab": {
          "base_uri": "https://localhost:8080/"
        },
        "id": "hBGCkKq_jwHF",
        "outputId": "5a8a9543-776c-443d-d46b-4fe1cc52efdd"
      },
      "source": [
        "count_transfer[\"역명\"].nunique()"
      ],
      "execution_count": 34,
      "outputs": [
        {
          "output_type": "execute_result",
          "data": {
            "text/plain": [
              "32"
            ]
          },
          "metadata": {},
          "execution_count": 34
        }
      ]
    },
    {
      "cell_type": "code",
      "metadata": {
        "colab": {
          "base_uri": "https://localhost:8080/"
        },
        "id": "rpmqOJI_kDrM",
        "outputId": "b2c26797-3b49-47f8-bfc0-3bfe307f8979"
      },
      "source": [
        "count_transfer[\"역명\"].unique()"
      ],
      "execution_count": 35,
      "outputs": [
        {
          "output_type": "execute_result",
          "data": {
            "text/plain": [
              "array(['동대문', '동묘앞', '서울역', '시청', '신설동', '종로3가', '건대입구', '사당', '신당',\n",
              "       '신도림', '영등포구청', '을지로3가', '을지로4가', '합정', '가락시장', '고속터미널', '불광',\n",
              "       '약수', '연신내', '오금', '충무로', '노원', '삼각지', '창동', '공덕', '까치산', '신길',\n",
              "       '청구', '석계', '태릉입구', '가산디지털단지', '도봉산'], dtype=object)"
            ]
          },
          "metadata": {},
          "execution_count": 35
        }
      ]
    },
    {
      "cell_type": "code",
      "metadata": {
        "id": "YHeBk2AAkyu-"
      },
      "source": [
        "# 존재를 확인한 환승역 리스트를 저장\n",
        "exsist = ['동대문', '동묘앞', '서울역', '시청', '신설동', '종로3가', '건대입구', '사당', '신당',\n",
        "       '신도림', '영등포구청', '을지로3가', '을지로4가', '합정', '가락시장', '고속터미널', '불광',\n",
        "       '약수', '연신내', '오금', '충무로', '노원', '삼각지', '창동', '공덕', '까치산', '신길',\n",
        "       '청구', '석계', '태릉입구', '가산디지털단지', '도봉산']"
      ],
      "execution_count": 36,
      "outputs": []
    },
    {
      "cell_type": "code",
      "metadata": {
        "colab": {
          "base_uri": "https://localhost:8080/"
        },
        "id": "ZKNnLG-zkk9c",
        "outputId": "7454ea2b-2c78-4558-e1e2-c5e7b91c55ab"
      },
      "source": [
        "# 확인결과 12개의 역이 누락되었다... 해당역들은 다음과 같다.\n",
        "set(transfer_station) - set(exsist)"
      ],
      "execution_count": 37,
      "outputs": [
        {
          "output_type": "execute_result",
          "data": {
            "text/plain": [
              "{'교대',\n",
              " '군자',\n",
              " '금정',\n",
              " '대림',\n",
              " '동대문역사문화공원',\n",
              " '온수',\n",
              " '왕십리',\n",
              " '이수(총신대입구)',\n",
              " '잠실',\n",
              " '천호',\n",
              " '충정로'}"
            ]
          },
          "metadata": {},
          "execution_count": 37
        }
      ]
    },
    {
      "cell_type": "code",
      "metadata": {
        "id": "8sK9DWP_iRyU"
      },
      "source": [
        "# 누락된 역들 리스트 저장\n",
        "omission_transfer = ['교대', '군자', '금정', '대림', '동대문역사문화공원', '온수', '왕십리', '이수(총신대입구)', '잠실', '천호', '충정로']"
      ],
      "execution_count": 38,
      "outputs": []
    },
    {
      "cell_type": "markdown",
      "metadata": {
        "id": "7kB-hvcpp9f-"
      },
      "source": [
        "누락역들을 정리한 내역은 다음과 같다.\n",
        "\n",
        "|역명|환승노선|\n",
        "|--|--|\n",
        "|교대| 2호선 3호선|\n",
        "|군자| 5호선 7호선|\n",
        "|금정| 1호선 4호선|\n",
        "|대림| 2호선 7호선|\n",
        "|동대문역사문화공원| 2호선 4호선 5호선|\n",
        "|온수| 1호선 7호선|\n",
        "|왕십리| 2호선 5호선|\n",
        "|이수(총신대입구)| 4호선 7호선|\n",
        "|잠실| 2호선 8호선|\n",
        "|천호| 5호선 8호선|\n",
        "|충정로| 2호선 5호선|"
      ]
    },
    {
      "cell_type": "code",
      "metadata": {
        "colab": {
          "base_uri": "https://localhost:8080/"
        },
        "id": "YiHp8VGFoyIU",
        "outputId": "935b81fb-89d3-4dff-d384-6ab0929ea043"
      },
      "source": [
        "# 각노선에 속한 역들을 전부체크하여 누락역을 확인해보겠다.\n",
        "# 1호선\n",
        "# 금정역과 온수역이 없다.\n",
        "df[df[\"호선\"]==\"1호선\"][\"역명\"].unique()"
      ],
      "execution_count": 39,
      "outputs": [
        {
          "output_type": "execute_result",
          "data": {
            "text/plain": [
              "array(['동대문', '동묘앞', '서울역', '시청', '신설동', '제기동', '종각', '종로3가', '종로5가',\n",
              "       '청량리(서울시립대입구)'], dtype=object)"
            ]
          },
          "metadata": {},
          "execution_count": 39
        }
      ]
    },
    {
      "cell_type": "code",
      "metadata": {
        "colab": {
          "base_uri": "https://localhost:8080/"
        },
        "id": "VLAuFmB6oyCB",
        "outputId": "79b3af15-f827-4598-ccfa-1ff217e801c2"
      },
      "source": [
        "# 2호선\n",
        "# 교대 -> 교대(법원.검찰청)\n",
        "# 대림 -> 대림(구로구청)\n",
        "# 동대문역사문화공원 -> 동대문역사문화공원(DDP)(DDP) & 동대문역사문화공원(DDP)\n",
        "# 잠실 -> 잠실(송파구청)\n",
        "# 충정로 -> 충정로(경기대입구)\n",
        "# 왕십리 -> 왕십리(성동구청)\n",
        "df[df[\"호선\"]==\"2호선\"][\"역명\"].unique()"
      ],
      "execution_count": 40,
      "outputs": [
        {
          "output_type": "execute_result",
          "data": {
            "text/plain": [
              "array(['강남', '강변(동서울터미널)', '건대입구', '교대(법원.검찰청)', '구로디지털단지', '구의(광진구청)',\n",
              "       '낙성대', '낙성대(강감찬)', '당산', '대림(구로구청)', '도림천', '동대문역사문화공원(DDP)',\n",
              "       '동대문역사문화공원(DDP)(DDP)', '뚝섬', '문래', '방배', '봉천', '사당', '삼성(무역센터)',\n",
              "       '상왕십리', '서울대입구(관악구청)', '서초', '선릉', '성수', '시청', '신답', '신당', '신대방',\n",
              "       '신도림', '신림', '신설동', '신정네거리', '신촌', '아현', '양천구청', '역삼', '영등포구청',\n",
              "       '왕십리(성동구청)', '용답', '용두(동대문구청)', '을지로3가', '을지로4가', '을지로입구', '이대',\n",
              "       '잠실(송파구청)', '잠실나루', '잠실새내', '종합운동장', '충정로(경기대입구)', '한양대', '합정',\n",
              "       '홍대입구'], dtype=object)"
            ]
          },
          "metadata": {},
          "execution_count": 40
        }
      ]
    },
    {
      "cell_type": "code",
      "metadata": {
        "colab": {
          "base_uri": "https://localhost:8080/"
        },
        "id": "8ZNawq2twczS",
        "outputId": "7f397efa-a3c0-4966-9076-edb21d515d1b"
      },
      "source": [
        "# 3호선\n",
        "# 교대역이 존재하는지만 확인\n",
        "df[df[\"호선\"]==\"3호선\"][\"역명\"].unique()"
      ],
      "execution_count": 41,
      "outputs": [
        {
          "output_type": "execute_result",
          "data": {
            "text/plain": [
              "array(['가락시장', '경복궁(정부서울청사)', '경찰병원', '고속터미널', '교대(법원.검찰청)', '구파발', '금호',\n",
              "       '남부터미널(예술의전당)', '녹번', '대청', '대치', '도곡', '독립문', '동대입구', '매봉', '무악재',\n",
              "       '불광', '수서', '신사', '안국', '압구정', '약수', '양재(서초구청)', '연신내', '오금', '옥수',\n",
              "       '을지로3가', '일원', '잠원', '종로3가', '지축', '충무로', '학여울', '홍제'],\n",
              "      dtype=object)"
            ]
          },
          "metadata": {},
          "execution_count": 41
        }
      ]
    },
    {
      "cell_type": "code",
      "metadata": {
        "colab": {
          "base_uri": "https://localhost:8080/"
        },
        "id": "QEdOBSkWrwX2",
        "outputId": "63714d97-17c6-4826-93aa-b14371b4f33b"
      },
      "source": [
        "# 4호선\n",
        "# 금정, 동대문역사문화공원 역이 존재하는지 확인\n",
        "# 이수(총신대입구) -> 총신대입구(이수)\n",
        "# 금정역이 없다.\n",
        "df[df[\"호선\"]==\"4호선\"][\"역명\"].unique()"
      ],
      "execution_count": 42,
      "outputs": [
        {
          "output_type": "execute_result",
          "data": {
            "text/plain": [
              "array(['길음', '남태령', '노원', '당고개', '동대문', '동대문역사문화공원(DDP)',\n",
              "       '동대문역사문화공원(DDP)(DDP)', '동작(현충원)', '명동', '미아(서울사이버대학)', '미아사거리',\n",
              "       '사당', '삼각지', '상계', '서울역', '성신여대입구(돈암)', '수유(강북구청)', '숙대입구(갈월)',\n",
              "       '신용산', '쌍문', '이촌(국립중앙박물관)', '창동', '총신대입구(이수)', '충무로', '한성대입구(삼선교)',\n",
              "       '혜화', '회현(남대문시장)'], dtype=object)"
            ]
          },
          "metadata": {},
          "execution_count": 42
        }
      ]
    },
    {
      "cell_type": "code",
      "metadata": {
        "colab": {
          "base_uri": "https://localhost:8080/"
        },
        "id": "FCqLUnW9r9Hu",
        "outputId": "e61a4471-4a70-4c37-ed0e-718096ce4f22"
      },
      "source": [
        "# 5호선\n",
        "# 동대문역사문화공원, 왕십리, 충정로 역이 존재하는지 확인\n",
        "# 군자 -> 군자(능동)\n",
        "# 천호 -> 천호(풍납토성)\n",
        "df[df[\"호선\"]==\"5호선\"][\"역명\"].unique()"
      ],
      "execution_count": 43,
      "outputs": [
        {
          "output_type": "execute_result",
          "data": {
            "text/plain": [
              "array(['강동', '강일', '개롱', '개화산', '거여', '고덕', '공덕', '광나루(장신대)',\n",
              "       '광화문(세종문화회관)', '군자(능동)', '굽은다리(강동구민회관앞)', '길동', '김포공항', '까치산',\n",
              "       '답십리', '동대문역사문화공원(DDP)', '동대문역사문화공원(DDP)(DDP)', '둔촌동', '마곡', '마장',\n",
              "       '마천', '마포', '명일', '목동', '미사', '발산', '방이', '방화', '상일동', '서대문', '송정',\n",
              "       '신금호', '신길', '신정(은행정)', '아차산(어린이대공원후문)', '애오개', '양평', '여의나루',\n",
              "       '여의도', '영등포구청', '영등포시장', '오금', '오목교(목동운동장앞)', '올림픽공원(한국체대)',\n",
              "       '왕십리(성동구청)', '우장산', '을지로4가', '장한평', '종로3가', '천호(풍납토성)', '청구',\n",
              "       '충정로(경기대입구)', '하남검단산', '하남시청(덕풍·신장)', '하남풍산', '행당', '화곡'],\n",
              "      dtype=object)"
            ]
          },
          "metadata": {},
          "execution_count": 43
        }
      ]
    },
    {
      "cell_type": "code",
      "metadata": {
        "colab": {
          "base_uri": "https://localhost:8080/"
        },
        "id": "c2jIOddJxxqC",
        "outputId": "99db9521-6444-4315-8bfb-87cae23d5075"
      },
      "source": [
        "# 6호선\n",
        "# 6호선은 아무문제없다.\n",
        "df[df[\"호선\"]==\"6호선\"][\"역명\"].unique()"
      ],
      "execution_count": 44,
      "outputs": [
        {
          "output_type": "execute_result",
          "data": {
            "text/plain": [
              "array(['고려대(종암)', '공덕', '광흥창(서강)', '구산', '녹사평(용산구청)', '대흥(서강대앞)', '독바위',\n",
              "       '돌곶이', '동묘앞', '디지털미디어시티', '마포구청', '망원', '버티고개', '보문', '봉화산(서울의료원)',\n",
              "       '불광', '삼각지', '상수', '상월곡(한국과학기술연구원)', '새절(신사)', '석계', '신내', '신당',\n",
              "       '안암(고대병원앞)', '약수', '역촌', '연신내', '월곡(동덕여대)', '월드컵경기장(성산)', '응암',\n",
              "       '이태원', '증산(명지대앞)', '창신', '청구', '태릉입구', '한강진', '합정', '화랑대(서울여대입구)',\n",
              "       '효창공원앞'], dtype=object)"
            ]
          },
          "metadata": {},
          "execution_count": 44
        }
      ]
    },
    {
      "cell_type": "code",
      "metadata": {
        "colab": {
          "base_uri": "https://localhost:8080/"
        },
        "id": "m6lbeQm0s2_q",
        "outputId": "5f71dd01-7ef0-4917-dd5e-5903c412b197"
      },
      "source": [
        "# 7호선\n",
        "# 군자, 대림, 온수, 이수(총신대입구)역이 존재하는지 확인\n",
        "# 특이사항: 7호선은 이수(총신대입구)역이 \"이수역\"이라는 이름으로 존재\n",
        "# 온수 -> 온수(성공회대입구)\n",
        "df[df[\"호선\"]==\"7호선\"][\"역명\"].unique()"
      ],
      "execution_count": 45,
      "outputs": [
        {
          "output_type": "execute_result",
          "data": {
            "text/plain": [
              "array(['가산디지털단지', '강남구청', '건대입구', '고속터미널', '공릉(서울과학기술대)', '광명사거리',\n",
              "       '군자(능동)', '굴포천', '까치울', '남구로', '남성', '내방', '노원', '논현', '대림(구로구청)',\n",
              "       '도봉산', '뚝섬유원지', '마들', '먹골', '면목', '반포', '보라매', '부천시청', '부천종합운동장',\n",
              "       '부평구청', '사가정', '삼산체육관', '상도', '상동', '상봉(시외버스터미널)', '수락산',\n",
              "       '숭실대입구(살피재)', '신대방삼거리', '신중동', '신풍', '어린이대공원(세종대)', '온수(성공회대입구)',\n",
              "       '용마산', '용마산(용마폭포공원)', '이수', '장승배기', '장암', '중계', '중곡', '중화', '천왕',\n",
              "       '철산', '청담', '춘의', '태릉입구', '하계', '학동'], dtype=object)"
            ]
          },
          "metadata": {},
          "execution_count": 45
        }
      ]
    },
    {
      "cell_type": "code",
      "metadata": {
        "colab": {
          "base_uri": "https://localhost:8080/"
        },
        "id": "4IAMPj3oxT0Z",
        "outputId": "9516acad-e631-4f1d-a9ed-70d079f04a9c"
      },
      "source": [
        "# 8호선\n",
        "# 천호역이 존재하는지 확인\n",
        "df[df[\"호선\"]==\"8호선\"][\"역명\"].unique()"
      ],
      "execution_count": 46,
      "outputs": [
        {
          "output_type": "execute_result",
          "data": {
            "text/plain": [
              "array(['가락시장', '강동구청', '남한산성입구(성남법원.검찰청)', '단대오거리', '모란', '몽촌토성(평화의문)',\n",
              "       '문정', '복정', '산성', '석촌', '송파', '수진', '신흥', '암사', '잠실(송파구청)', '장지',\n",
              "       '천호(풍납토성)'], dtype=object)"
            ]
          },
          "metadata": {},
          "execution_count": 46
        }
      ]
    },
    {
      "cell_type": "markdown",
      "metadata": {
        "id": "3VNl0VkMv3n2"
      },
      "source": [
        "확인결과 원본데이터에 금정역은 존재하지 않았고 금정역을 제외한 나머지 10개역은 역명이 다름을 확인하였다.<br>\n",
        "즉 우려했던 문제(환승역이 단일역으로 표기되는 문제)는 일어나지 않을것으로 보인다."
      ]
    },
    {
      "cell_type": "markdown",
      "metadata": {
        "id": "nos61adOslIj"
      },
      "source": [
        "<h1>역명 통일시키기</h1>\n",
        "\n"
      ]
    },
    {
      "cell_type": "code",
      "metadata": {
        "id": "LY3va2pCgZjl"
      },
      "source": [
        "# 노선도 이미지가 구 역명을 사용하고 있으므로 일단 구 역명을 사용하도록 함\n",
        "# 마친 위에 각 노선별 역들을 추려놨으니 노선도와 대조하면서 dictionary를 만들었다.\n",
        "station_need_change = {\"강면(동서울터미널)\": \"강변\", \"교대(법원.검찰청)\": \"교대\", \"구의(광진구청)\": \"구의\", \"낙성대(강감찬)\": \"낙성대\", \n",
        "                       \"대림(구로구청)\": \"대림\", \"동대문역사문화공원(DDP)\": \"동대문역사문화공원\", \"동대문역사문화공원(DDP)(DDP)\": \"동대문역사문화공원\",\n",
        "                       \"삼성(무역센터)\": \"삼성\", \"서울대입구(관악구청)\": \"서울대입구\", \"왕십리(성동구청)\": \"왕십리\", \"용두(동대문구청)\": \"용두\",\n",
        "                       \"잠실(송파구청)\": \"잠실\", \"충정로(경기대입구)\": \"충정로\", \"경복궁(정부서울청사)\": \"경복궁\", \"남부터미널(예술의전당)\": \"남부터미널\",\n",
        "                       \"동작(현충원)\": \"동작\", \"미아(서울사이버대학)\": \"미아\", \"성신여대입구(돈암)\": \"성신여대입구\", \"수유(강북구청)\": \"수유\",\n",
        "                       \"숙대입구(갈월)\": \"숙대입구\", \"이촌(국립중앙박물관)\": \"이촌\", \"총신대입구(이수)\": \"이수(총신대입구)\", \"한성대입구(삼선교)\": \"한성대입구\",\n",
        "                       \"회현(남대문시장)\": \"회현\", \"광나루(장신대)\": \"광나루\", \"광화문(세종문화회관)\": \"광화문\", \"군자(능동)\": \"군자\",\n",
        "                       \"굽은다리(강동구민회관앞)\": \"굽은다리\", \"신정(은행정)\": \"신정\", \"아차산(어린이대공원후문)\": \"아차산\", \"오목교(목동운동장앞)\": \"오목교\",\n",
        "                       \"올림픽공원(한국체대)\": \"올림픽공원\", \"천호(풍납토성)\": \"천호\", \"고려대(종암)\": \"고려대\", \"광흥창(서강)\": \"굉흥창\",\n",
        "                       \"녹사평(용산구청)\": \"녹사평\", \"대흥(서강대앞)\": \"대흥\", \"봉화산(서울의료원)\": \"봉화산\", \"상월곡(한국과학기술연구원)\": \"상월곡\",\n",
        "                       \"새절(신사)\": \"새절\", \"안암(고대병원앞)\": \"안암\", \"월곡(동덕여대)\": \"월곡\", \"월드컵경기장(성산)\": \"월드컵경기장\",\n",
        "                       \"증산(명지대앞)\": \"증산\", \"화랑대(서울여대입구)\": \"화랑대\", \"상봉(시외버스터미널)\": \"상봉\", \"숭실대입구(살피재)\": \"숭실대입구\",\n",
        "                       \"어린이대공원(세종대)\": \"어린이대공원\", \"온수(성공회대입구)\": \"온수\", \"용마산(용마폭포공원)\": \"용마산\",\n",
        "                       \"남한산성입구(성남법원.검찰청)\": \"남한산성입구\", \"몽촌토성(평화의문)\": \"몽촌토성\"\n",
        "                    }"
      ],
      "execution_count": 47,
      "outputs": []
    },
    {
      "cell_type": "code",
      "metadata": {
        "id": "b2JPY5rct-4d"
      },
      "source": [
        "# 앞에서 만든 dictionary의 key값을 저장한 리스트 저장\n",
        "station_need_change_list = []\n",
        "for i in station_need_change:\n",
        "    station_need_change_list.append(i)"
      ],
      "execution_count": 48,
      "outputs": []
    },
    {
      "cell_type": "code",
      "metadata": {
        "id": "LMpP3endRiUO"
      },
      "source": [
        "df_change_station_name = regression_prepare.replace({\"역명\": station_need_change})"
      ],
      "execution_count": 59,
      "outputs": []
    },
    {
      "cell_type": "code",
      "metadata": {
        "colab": {
          "base_uri": "https://localhost:8080/",
          "height": 49
        },
        "id": "wsE7x4TdRzKn",
        "outputId": "a38fb235-64e1-4556-b185-4da9fd80afd2"
      },
      "source": [
        "# 변경이 안된 역이 있는지 확인\n",
        "df_change_station_name[df_change_station_name[\"역명\"].isin(station_need_change_list)]"
      ],
      "execution_count": 61,
      "outputs": [
        {
          "output_type": "execute_result",
          "data": {
            "text/html": [
              "<div>\n",
              "<style scoped>\n",
              "    .dataframe tbody tr th:only-of-type {\n",
              "        vertical-align: middle;\n",
              "    }\n",
              "\n",
              "    .dataframe tbody tr th {\n",
              "        vertical-align: top;\n",
              "    }\n",
              "\n",
              "    .dataframe thead th {\n",
              "        text-align: right;\n",
              "    }\n",
              "</style>\n",
              "<table border=\"1\" class=\"dataframe\">\n",
              "  <thead>\n",
              "    <tr style=\"text-align: right;\">\n",
              "      <th></th>\n",
              "      <th>호선</th>\n",
              "      <th>역명</th>\n",
              "      <th>요일</th>\n",
              "      <th>구분</th>\n",
              "      <th>일간이용자수</th>\n",
              "    </tr>\n",
              "  </thead>\n",
              "  <tbody>\n",
              "  </tbody>\n",
              "</table>\n",
              "</div>"
            ],
            "text/plain": [
              "Empty DataFrame\n",
              "Columns: [호선, 역명, 요일, 구분, 일간이용자수]\n",
              "Index: []"
            ]
          },
          "metadata": {},
          "execution_count": 61
        }
      ]
    },
    {
      "cell_type": "markdown",
      "metadata": {
        "id": "wgcpuhR2SZUk"
      },
      "source": [
        "역명이 잘 바뀌었으니 이제 다시 환승역을 체크해보겠다."
      ]
    },
    {
      "cell_type": "code",
      "metadata": {
        "id": "LuvrKZwiSciS"
      },
      "source": [
        "# 노선도 내의 모든 환승역들만 추려냄\n",
        "df_transfer_check = df_change_station_name[df_change_station_name[\"역명\"].isin(transfer_station)]"
      ],
      "execution_count": 71,
      "outputs": []
    },
    {
      "cell_type": "code",
      "metadata": {
        "colab": {
          "base_uri": "https://localhost:8080/"
        },
        "id": "Qt6OTpxPTTTQ",
        "outputId": "b15c3fde-5eff-4a94-a564-d30a331474e5"
      },
      "source": [
        "# 어떤 역들이 추려졌는지 확인\n",
        "df_transfer_check[\"역명\"].unique()"
      ],
      "execution_count": 74,
      "outputs": [
        {
          "output_type": "execute_result",
          "data": {
            "text/plain": [
              "array(['동대문', '동묘앞', '서울역', '시청', '신설동', '종로3가', '건대입구', '교대', '대림',\n",
              "       '동대문역사문화공원', '사당', '신당', '신도림', '영등포구청', '왕십리', '을지로3가', '을지로4가',\n",
              "       '잠실', '충정로', '합정', '가락시장', '고속터미널', '불광', '약수', '연신내', '오금', '충무로',\n",
              "       '노원', '삼각지', '창동', '이수(총신대입구)', '공덕', '군자', '까치산', '신길', '천호',\n",
              "       '청구', '석계', '태릉입구', '가산디지털단지', '도봉산', '온수'], dtype=object)"
            ]
          },
          "metadata": {},
          "execution_count": 74
        }
      ]
    },
    {
      "cell_type": "code",
      "metadata": {
        "id": "Qqb4dg1QUL_L"
      },
      "source": [
        "# 추려진 역들을 리스트에 저장\n",
        "exsist = ['동대문', '동묘앞', '서울역', '시청', '신설동', '종로3가', '건대입구', '교대', '대림',\n",
        "       '동대문역사문화공원', '사당', '신당', '신도림', '영등포구청', '왕십리', '을지로3가', '을지로4가',\n",
        "       '잠실', '충정로', '합정', '가락시장', '고속터미널', '불광', '약수', '연신내', '오금', '충무로',\n",
        "       '노원', '삼각지', '창동', '이수(총신대입구)', '공덕', '군자', '까치산', '신길', '천호',\n",
        "       '청구', '석계', '태릉입구', '가산디지털단지', '도봉산', '온수']"
      ],
      "execution_count": 75,
      "outputs": []
    },
    {
      "cell_type": "code",
      "metadata": {
        "colab": {
          "base_uri": "https://localhost:8080/"
        },
        "id": "K-fSiUqZUQiU",
        "outputId": "4edb2dea-6045-4466-cee7-10cab2ede02c"
      },
      "source": [
        "# 빠진역을 확인. 금정역은 원본데이터에 존재하지 않는 역이다.(아무일 없었다...!)\n",
        "set(transfer_station) - set(exsist)"
      ],
      "execution_count": 76,
      "outputs": [
        {
          "output_type": "execute_result",
          "data": {
            "text/plain": [
              "{'금정'}"
            ]
          },
          "metadata": {},
          "execution_count": 76
        }
      ]
    },
    {
      "cell_type": "code",
      "metadata": {
        "id": "N76g2mXXTQCb"
      },
      "source": [
        "# groupby를 이용하여 환승역들의 집계상황을 확인해보자.\n",
        "df_transfer_check = df_transfer_check.groupby(by=[\"역명\", \"호선\"]).sum()"
      ],
      "execution_count": 77,
      "outputs": []
    },
    {
      "cell_type": "code",
      "metadata": {
        "colab": {
          "base_uri": "https://localhost:8080/",
          "height": 1000
        },
        "id": "f-4GwhJDU8ih",
        "outputId": "7947e249-ad5d-48b4-da7d-295f51188ee9"
      },
      "source": [
        "# 모든 row를 볼수 있게 해주는 코드.\n",
        "pd.set_option('display.max_rows', None)\n",
        "df_transfer_check"
      ],
      "execution_count": 80,
      "outputs": [
        {
          "output_type": "execute_result",
          "data": {
            "text/html": [
              "<div>\n",
              "<style scoped>\n",
              "    .dataframe tbody tr th:only-of-type {\n",
              "        vertical-align: middle;\n",
              "    }\n",
              "\n",
              "    .dataframe tbody tr th {\n",
              "        vertical-align: top;\n",
              "    }\n",
              "\n",
              "    .dataframe thead th {\n",
              "        text-align: right;\n",
              "    }\n",
              "</style>\n",
              "<table border=\"1\" class=\"dataframe\">\n",
              "  <thead>\n",
              "    <tr style=\"text-align: right;\">\n",
              "      <th></th>\n",
              "      <th></th>\n",
              "      <th>일간이용자수</th>\n",
              "    </tr>\n",
              "    <tr>\n",
              "      <th>역명</th>\n",
              "      <th>호선</th>\n",
              "      <th></th>\n",
              "    </tr>\n",
              "  </thead>\n",
              "  <tbody>\n",
              "    <tr>\n",
              "      <th rowspan=\"2\" valign=\"top\">가락시장</th>\n",
              "      <th>3호선</th>\n",
              "      <td>95538.0</td>\n",
              "    </tr>\n",
              "    <tr>\n",
              "      <th>8호선</th>\n",
              "      <td>88772.0</td>\n",
              "    </tr>\n",
              "    <tr>\n",
              "      <th>가산디지털단지</th>\n",
              "      <th>7호선</th>\n",
              "      <td>477826.0</td>\n",
              "    </tr>\n",
              "    <tr>\n",
              "      <th rowspan=\"2\" valign=\"top\">건대입구</th>\n",
              "      <th>2호선</th>\n",
              "      <td>378475.0</td>\n",
              "    </tr>\n",
              "    <tr>\n",
              "      <th>7호선</th>\n",
              "      <td>133806.0</td>\n",
              "    </tr>\n",
              "    <tr>\n",
              "      <th rowspan=\"2\" valign=\"top\">고속터미널</th>\n",
              "      <th>3호선</th>\n",
              "      <td>428652.0</td>\n",
              "    </tr>\n",
              "    <tr>\n",
              "      <th>7호선</th>\n",
              "      <td>153168.0</td>\n",
              "    </tr>\n",
              "    <tr>\n",
              "      <th rowspan=\"2\" valign=\"top\">공덕</th>\n",
              "      <th>5호선</th>\n",
              "      <td>151378.0</td>\n",
              "    </tr>\n",
              "    <tr>\n",
              "      <th>6호선</th>\n",
              "      <td>187772.0</td>\n",
              "    </tr>\n",
              "    <tr>\n",
              "      <th rowspan=\"2\" valign=\"top\">교대</th>\n",
              "      <th>2호선</th>\n",
              "      <td>376386.0</td>\n",
              "    </tr>\n",
              "    <tr>\n",
              "      <th>3호선</th>\n",
              "      <td>121359.0</td>\n",
              "    </tr>\n",
              "    <tr>\n",
              "      <th rowspan=\"2\" valign=\"top\">군자</th>\n",
              "      <th>5호선</th>\n",
              "      <td>122961.0</td>\n",
              "    </tr>\n",
              "    <tr>\n",
              "      <th>7호선</th>\n",
              "      <td>139773.0</td>\n",
              "    </tr>\n",
              "    <tr>\n",
              "      <th>까치산</th>\n",
              "      <th>5호선</th>\n",
              "      <td>303947.0</td>\n",
              "    </tr>\n",
              "    <tr>\n",
              "      <th rowspan=\"2\" valign=\"top\">노원</th>\n",
              "      <th>4호선</th>\n",
              "      <td>218240.0</td>\n",
              "    </tr>\n",
              "    <tr>\n",
              "      <th>7호선</th>\n",
              "      <td>213563.0</td>\n",
              "    </tr>\n",
              "    <tr>\n",
              "      <th rowspan=\"2\" valign=\"top\">대림</th>\n",
              "      <th>2호선</th>\n",
              "      <td>270329.0</td>\n",
              "    </tr>\n",
              "    <tr>\n",
              "      <th>7호선</th>\n",
              "      <td>85617.0</td>\n",
              "    </tr>\n",
              "    <tr>\n",
              "      <th>도봉산</th>\n",
              "      <th>7호선</th>\n",
              "      <td>106150.0</td>\n",
              "    </tr>\n",
              "    <tr>\n",
              "      <th rowspan=\"2\" valign=\"top\">동대문</th>\n",
              "      <th>1호선</th>\n",
              "      <td>123327.0</td>\n",
              "    </tr>\n",
              "    <tr>\n",
              "      <th>4호선</th>\n",
              "      <td>220462.0</td>\n",
              "    </tr>\n",
              "    <tr>\n",
              "      <th rowspan=\"3\" valign=\"top\">동대문역사문화공원</th>\n",
              "      <th>2호선</th>\n",
              "      <td>282046.0</td>\n",
              "    </tr>\n",
              "    <tr>\n",
              "      <th>4호선</th>\n",
              "      <td>310129.0</td>\n",
              "    </tr>\n",
              "    <tr>\n",
              "      <th>5호선</th>\n",
              "      <td>63180.0</td>\n",
              "    </tr>\n",
              "    <tr>\n",
              "      <th rowspan=\"2\" valign=\"top\">동묘앞</th>\n",
              "      <th>1호선</th>\n",
              "      <td>93706.0</td>\n",
              "    </tr>\n",
              "    <tr>\n",
              "      <th>6호선</th>\n",
              "      <td>86481.0</td>\n",
              "    </tr>\n",
              "    <tr>\n",
              "      <th rowspan=\"2\" valign=\"top\">불광</th>\n",
              "      <th>3호선</th>\n",
              "      <td>180912.0</td>\n",
              "    </tr>\n",
              "    <tr>\n",
              "      <th>6호선</th>\n",
              "      <td>48047.0</td>\n",
              "    </tr>\n",
              "    <tr>\n",
              "      <th rowspan=\"2\" valign=\"top\">사당</th>\n",
              "      <th>2호선</th>\n",
              "      <td>407802.0</td>\n",
              "    </tr>\n",
              "    <tr>\n",
              "      <th>4호선</th>\n",
              "      <td>240861.0</td>\n",
              "    </tr>\n",
              "    <tr>\n",
              "      <th rowspan=\"2\" valign=\"top\">삼각지</th>\n",
              "      <th>4호선</th>\n",
              "      <td>52374.0</td>\n",
              "    </tr>\n",
              "    <tr>\n",
              "      <th>6호선</th>\n",
              "      <td>56006.0</td>\n",
              "    </tr>\n",
              "    <tr>\n",
              "      <th rowspan=\"2\" valign=\"top\">서울역</th>\n",
              "      <th>1호선</th>\n",
              "      <td>435495.0</td>\n",
              "    </tr>\n",
              "    <tr>\n",
              "      <th>4호선</th>\n",
              "      <td>140247.0</td>\n",
              "    </tr>\n",
              "    <tr>\n",
              "      <th>석계</th>\n",
              "      <th>6호선</th>\n",
              "      <td>133460.0</td>\n",
              "    </tr>\n",
              "    <tr>\n",
              "      <th rowspan=\"2\" valign=\"top\">시청</th>\n",
              "      <th>1호선</th>\n",
              "      <td>220095.0</td>\n",
              "    </tr>\n",
              "    <tr>\n",
              "      <th>2호선</th>\n",
              "      <td>237324.0</td>\n",
              "    </tr>\n",
              "    <tr>\n",
              "      <th>신길</th>\n",
              "      <th>5호선</th>\n",
              "      <td>42443.0</td>\n",
              "    </tr>\n",
              "    <tr>\n",
              "      <th rowspan=\"2\" valign=\"top\">신당</th>\n",
              "      <th>2호선</th>\n",
              "      <td>148684.0</td>\n",
              "    </tr>\n",
              "    <tr>\n",
              "      <th>6호선</th>\n",
              "      <td>86039.0</td>\n",
              "    </tr>\n",
              "    <tr>\n",
              "      <th>신도림</th>\n",
              "      <th>2호선</th>\n",
              "      <td>515643.0</td>\n",
              "    </tr>\n",
              "    <tr>\n",
              "      <th rowspan=\"2\" valign=\"top\">신설동</th>\n",
              "      <th>1호선</th>\n",
              "      <td>148429.0</td>\n",
              "    </tr>\n",
              "    <tr>\n",
              "      <th>2호선</th>\n",
              "      <td>35514.0</td>\n",
              "    </tr>\n",
              "    <tr>\n",
              "      <th rowspan=\"2\" valign=\"top\">약수</th>\n",
              "      <th>3호선</th>\n",
              "      <td>136424.0</td>\n",
              "    </tr>\n",
              "    <tr>\n",
              "      <th>6호선</th>\n",
              "      <td>37951.0</td>\n",
              "    </tr>\n",
              "    <tr>\n",
              "      <th rowspan=\"2\" valign=\"top\">연신내</th>\n",
              "      <th>3호선</th>\n",
              "      <td>394124.0</td>\n",
              "    </tr>\n",
              "    <tr>\n",
              "      <th>6호선</th>\n",
              "      <td>0.0</td>\n",
              "    </tr>\n",
              "    <tr>\n",
              "      <th rowspan=\"2\" valign=\"top\">영등포구청</th>\n",
              "      <th>2호선</th>\n",
              "      <td>241690.0</td>\n",
              "    </tr>\n",
              "    <tr>\n",
              "      <th>5호선</th>\n",
              "      <td>44477.0</td>\n",
              "    </tr>\n",
              "    <tr>\n",
              "      <th rowspan=\"2\" valign=\"top\">오금</th>\n",
              "      <th>3호선</th>\n",
              "      <td>62374.0</td>\n",
              "    </tr>\n",
              "    <tr>\n",
              "      <th>5호선</th>\n",
              "      <td>38819.0</td>\n",
              "    </tr>\n",
              "    <tr>\n",
              "      <th>온수</th>\n",
              "      <th>7호선</th>\n",
              "      <td>108083.0</td>\n",
              "    </tr>\n",
              "    <tr>\n",
              "      <th rowspan=\"2\" valign=\"top\">왕십리</th>\n",
              "      <th>2호선</th>\n",
              "      <td>155048.0</td>\n",
              "    </tr>\n",
              "    <tr>\n",
              "      <th>5호선</th>\n",
              "      <td>51265.0</td>\n",
              "    </tr>\n",
              "    <tr>\n",
              "      <th rowspan=\"2\" valign=\"top\">을지로3가</th>\n",
              "      <th>2호선</th>\n",
              "      <td>218554.0</td>\n",
              "    </tr>\n",
              "    <tr>\n",
              "      <th>3호선</th>\n",
              "      <td>111087.0</td>\n",
              "    </tr>\n",
              "    <tr>\n",
              "      <th rowspan=\"2\" valign=\"top\">을지로4가</th>\n",
              "      <th>2호선</th>\n",
              "      <td>134401.0</td>\n",
              "    </tr>\n",
              "    <tr>\n",
              "      <th>5호선</th>\n",
              "      <td>62858.0</td>\n",
              "    </tr>\n",
              "    <tr>\n",
              "      <th>이수(총신대입구)</th>\n",
              "      <th>4호선</th>\n",
              "      <td>213028.0</td>\n",
              "    </tr>\n",
              "    <tr>\n",
              "      <th rowspan=\"2\" valign=\"top\">잠실</th>\n",
              "      <th>2호선</th>\n",
              "      <td>690823.0</td>\n",
              "    </tr>\n",
              "    <tr>\n",
              "      <th>8호선</th>\n",
              "      <td>157263.0</td>\n",
              "    </tr>\n",
              "    <tr>\n",
              "      <th rowspan=\"3\" valign=\"top\">종로3가</th>\n",
              "      <th>1호선</th>\n",
              "      <td>265288.0</td>\n",
              "    </tr>\n",
              "    <tr>\n",
              "      <th>3호선</th>\n",
              "      <td>113304.0</td>\n",
              "    </tr>\n",
              "    <tr>\n",
              "      <th>5호선</th>\n",
              "      <td>127811.0</td>\n",
              "    </tr>\n",
              "    <tr>\n",
              "      <th>창동</th>\n",
              "      <th>4호선</th>\n",
              "      <td>287385.0</td>\n",
              "    </tr>\n",
              "    <tr>\n",
              "      <th rowspan=\"2\" valign=\"top\">천호</th>\n",
              "      <th>5호선</th>\n",
              "      <td>193123.0</td>\n",
              "    </tr>\n",
              "    <tr>\n",
              "      <th>8호선</th>\n",
              "      <td>179053.0</td>\n",
              "    </tr>\n",
              "    <tr>\n",
              "      <th rowspan=\"2\" valign=\"top\">청구</th>\n",
              "      <th>5호선</th>\n",
              "      <td>40965.0</td>\n",
              "    </tr>\n",
              "    <tr>\n",
              "      <th>6호선</th>\n",
              "      <td>41784.0</td>\n",
              "    </tr>\n",
              "    <tr>\n",
              "      <th rowspan=\"2\" valign=\"top\">충무로</th>\n",
              "      <th>3호선</th>\n",
              "      <td>0.0</td>\n",
              "    </tr>\n",
              "    <tr>\n",
              "      <th>4호선</th>\n",
              "      <td>280347.0</td>\n",
              "    </tr>\n",
              "    <tr>\n",
              "      <th rowspan=\"2\" valign=\"top\">충정로</th>\n",
              "      <th>2호선</th>\n",
              "      <td>108535.0</td>\n",
              "    </tr>\n",
              "    <tr>\n",
              "      <th>5호선</th>\n",
              "      <td>50202.0</td>\n",
              "    </tr>\n",
              "    <tr>\n",
              "      <th rowspan=\"2\" valign=\"top\">태릉입구</th>\n",
              "      <th>6호선</th>\n",
              "      <td>60309.0</td>\n",
              "    </tr>\n",
              "    <tr>\n",
              "      <th>7호선</th>\n",
              "      <td>85059.0</td>\n",
              "    </tr>\n",
              "    <tr>\n",
              "      <th rowspan=\"2\" valign=\"top\">합정</th>\n",
              "      <th>2호선</th>\n",
              "      <td>326395.0</td>\n",
              "    </tr>\n",
              "    <tr>\n",
              "      <th>6호선</th>\n",
              "      <td>134608.0</td>\n",
              "    </tr>\n",
              "  </tbody>\n",
              "</table>\n",
              "</div>"
            ],
            "text/plain": [
              "                 일간이용자수\n",
              "역명        호선           \n",
              "가락시장      3호선   95538.0\n",
              "          8호선   88772.0\n",
              "가산디지털단지   7호선  477826.0\n",
              "건대입구      2호선  378475.0\n",
              "          7호선  133806.0\n",
              "고속터미널     3호선  428652.0\n",
              "          7호선  153168.0\n",
              "공덕        5호선  151378.0\n",
              "          6호선  187772.0\n",
              "교대        2호선  376386.0\n",
              "          3호선  121359.0\n",
              "군자        5호선  122961.0\n",
              "          7호선  139773.0\n",
              "까치산       5호선  303947.0\n",
              "노원        4호선  218240.0\n",
              "          7호선  213563.0\n",
              "대림        2호선  270329.0\n",
              "          7호선   85617.0\n",
              "도봉산       7호선  106150.0\n",
              "동대문       1호선  123327.0\n",
              "          4호선  220462.0\n",
              "동대문역사문화공원 2호선  282046.0\n",
              "          4호선  310129.0\n",
              "          5호선   63180.0\n",
              "동묘앞       1호선   93706.0\n",
              "          6호선   86481.0\n",
              "불광        3호선  180912.0\n",
              "          6호선   48047.0\n",
              "사당        2호선  407802.0\n",
              "          4호선  240861.0\n",
              "삼각지       4호선   52374.0\n",
              "          6호선   56006.0\n",
              "서울역       1호선  435495.0\n",
              "          4호선  140247.0\n",
              "석계        6호선  133460.0\n",
              "시청        1호선  220095.0\n",
              "          2호선  237324.0\n",
              "신길        5호선   42443.0\n",
              "신당        2호선  148684.0\n",
              "          6호선   86039.0\n",
              "신도림       2호선  515643.0\n",
              "신설동       1호선  148429.0\n",
              "          2호선   35514.0\n",
              "약수        3호선  136424.0\n",
              "          6호선   37951.0\n",
              "연신내       3호선  394124.0\n",
              "          6호선       0.0\n",
              "영등포구청     2호선  241690.0\n",
              "          5호선   44477.0\n",
              "오금        3호선   62374.0\n",
              "          5호선   38819.0\n",
              "온수        7호선  108083.0\n",
              "왕십리       2호선  155048.0\n",
              "          5호선   51265.0\n",
              "을지로3가     2호선  218554.0\n",
              "          3호선  111087.0\n",
              "을지로4가     2호선  134401.0\n",
              "          5호선   62858.0\n",
              "이수(총신대입구) 4호선  213028.0\n",
              "잠실        2호선  690823.0\n",
              "          8호선  157263.0\n",
              "종로3가      1호선  265288.0\n",
              "          3호선  113304.0\n",
              "          5호선  127811.0\n",
              "창동        4호선  287385.0\n",
              "천호        5호선  193123.0\n",
              "          8호선  179053.0\n",
              "청구        5호선   40965.0\n",
              "          6호선   41784.0\n",
              "충무로       3호선       0.0\n",
              "          4호선  280347.0\n",
              "충정로       2호선  108535.0\n",
              "          5호선   50202.0\n",
              "태릉입구      6호선   60309.0\n",
              "          7호선   85059.0\n",
              "합정        2호선  326395.0\n",
              "          6호선  134608.0"
            ]
          },
          "metadata": {},
          "execution_count": 80
        }
      ]
    },
    {
      "cell_type": "markdown",
      "metadata": {
        "id": "Jb5rQqgNX63V"
      },
      "source": [
        "따로 처리가 필요한 역들은 다음과 같다.\n",
        "\n",
        "|역명|집계된노선|누락된노선|\n",
        "|--|--|--|\n",
        "|가산디지털단지|7호선|1호선|\n",
        "|도봉산|7호선|1호선|\n",
        "|석계|6호선|1호선|\n",
        "|신길|5호선|1호선|\n",
        "|신도림|2호선|1호선|\n",
        "|연신내|6호선|3호선|\n",
        "|온수|7호선|1호선|\n",
        "|이수(총신대입구)|4호선|7호선|\n",
        "|창동|4호선|1호선|\n",
        "|충무로|4호선|3호선|"
      ]
    }
  ]
}