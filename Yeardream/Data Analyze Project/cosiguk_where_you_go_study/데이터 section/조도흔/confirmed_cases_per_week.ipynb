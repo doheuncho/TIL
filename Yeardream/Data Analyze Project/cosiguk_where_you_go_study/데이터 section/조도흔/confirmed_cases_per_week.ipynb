{
  "nbformat": 4,
  "nbformat_minor": 0,
  "metadata": {
    "colab": {
      "name": "confirmed_cases_per_week.ipynb",
      "provenance": [],
      "collapsed_sections": []
    },
    "kernelspec": {
      "name": "python3",
      "display_name": "Python 3"
    },
    "language_info": {
      "name": "python"
    }
  },
  "cells": [
    {
      "cell_type": "markdown",
      "metadata": {
        "id": "RJ4n0QGPvToS"
      },
      "source": [
        "<h1>주간 확진자 데이터를 다루는 공간입니다.</h1>"
      ]
    },
    {
      "cell_type": "code",
      "metadata": {
        "colab": {
          "base_uri": "https://localhost:8080/"
        },
        "id": "k1JlfAMLu_5E",
        "outputId": "2026a42a-a541-49fc-b3aa-70ee376cc4eb"
      },
      "source": [
        "!pip install pyspark"
      ],
      "execution_count": null,
      "outputs": [
        {
          "output_type": "stream",
          "name": "stdout",
          "text": [
            "Requirement already satisfied: pyspark in /usr/local/lib/python3.7/dist-packages (3.2.0)\n",
            "Requirement already satisfied: py4j==0.10.9.2 in /usr/local/lib/python3.7/dist-packages (from pyspark) (0.10.9.2)\n"
          ]
        }
      ]
    },
    {
      "cell_type": "code",
      "metadata": {
        "colab": {
          "base_uri": "https://localhost:8080/"
        },
        "id": "NvHCSg7pvx9g",
        "outputId": "1ca6b97c-e257-404f-b13e-3f99f5ac3858"
      },
      "source": [
        "from google.colab import drive\n",
        "drive.mount('/content/drive')"
      ],
      "execution_count": null,
      "outputs": [
        {
          "output_type": "stream",
          "name": "stdout",
          "text": [
            "Drive already mounted at /content/drive; to attempt to forcibly remount, call drive.mount(\"/content/drive\", force_remount=True).\n"
          ]
        }
      ]
    },
    {
      "cell_type": "code",
      "metadata": {
        "id": "FwCQFl09vyyy"
      },
      "source": [
        "import pandas as pd\n",
        "from pyspark.sql import SparkSession\n",
        "spark = SparkSession.builder.getOrCreate()"
      ],
      "execution_count": null,
      "outputs": []
    },
    {
      "cell_type": "code",
      "metadata": {
        "id": "DhvVQIEIwNjT"
      },
      "source": [
        "data = spark.read.format(\"csv\").option(\"header\", True).load(\"/content/drive/MyDrive/data/confirmed_cases/주간_누적확진자_신규확진자.csv\", encoding='euc-kr')"
      ],
      "execution_count": null,
      "outputs": []
    },
    {
      "cell_type": "markdown",
      "metadata": {
        "id": "P101K3DQTv2M"
      },
      "source": [
        "확인 결과 필요없는 칼럼이 많고 모든 칼럼이 string형식으로 저장되어있음. 결측값과 이상치는 csv파일을 직접열어서 확인했다."
      ]
    },
    {
      "cell_type": "code",
      "metadata": {
        "colab": {
          "base_uri": "https://localhost:8080/"
        },
        "id": "TxaKGWLMxGNh",
        "outputId": "f4d961f7-798a-470b-f53e-b3e07d961fe7"
      },
      "source": [
        "data.printSchema()"
      ],
      "execution_count": null,
      "outputs": [
        {
          "output_type": "stream",
          "name": "stdout",
          "text": [
            "root\n",
            " |-- 대륙: string (nullable = true)\n",
            " |-- 국가: string (nullable = true)\n",
            " |-- 구분: string (nullable = true)\n",
            " |-- 주간시작일자: string (nullable = true)\n",
            " |-- 일자: string (nullable = true)\n",
            " |-- 누적확진(명): string (nullable = true)\n",
            " |-- 신규확진(명): string (nullable = true)\n",
            "\n"
          ]
        }
      ]
    },
    {
      "cell_type": "code",
      "metadata": {
        "colab": {
          "base_uri": "https://localhost:8080/"
        },
        "id": "rEcGhkdkIPiW",
        "outputId": "6ab95bd1-322c-44a9-b41f-a912e146c9e9"
      },
      "source": [
        "data.show()"
      ],
      "execution_count": null,
      "outputs": [
        {
          "output_type": "stream",
          "name": "stdout",
          "text": [
            "+-------------------+--------+-----------+------------+-----------+------------+------------+\n",
            "|               대륙|    국가|       구분|주간시작일자|       일자|누적확진(명)|신규확진(명)|\n",
            "+-------------------+--------+-----------+------------+-----------+------------+------------+\n",
            "|동아시아/동남아시아|대한민국|주간(월-일)|  2021-11-01|11/01-11/07|      381694|       15308|\n",
            "|동아시아/동남아시아|대한민국|주간(월-일)|  2021-10-25|10/25-10/31|      366386|       13297|\n",
            "|동아시아/동남아시아|대한민국|주간(월-일)|  2021-10-18|10/18-10/24|      353089|        9644|\n",
            "|동아시아/동남아시아|대한민국|주간(월-일)|  2021-10-11|10/11-10/17|      343445|       10629|\n",
            "|동아시아/동남아시아|대한민국|주간(월-일)|  2021-10-04|10/04-10/10|      332816|       13039|\n",
            "|동아시아/동남아시아|대한민국|주간(월-일)|  2021-09-27|09/27-10/03|      319777|       16224|\n",
            "|동아시아/동남아시아|대한민국|주간(월-일)|  2021-09-20|09/20-09/26|      303553|       16017|\n",
            "|동아시아/동남아시아|대한민국|주간(월-일)|  2021-09-13|09/13-09/19|      287536|       13121|\n",
            "|동아시아/동남아시아|대한민국|주간(월-일)|  2021-09-06|09/06-09/12|      274415|       12637|\n",
            "|동아시아/동남아시아|대한민국|주간(월-일)|  2021-08-30|08/30-09/05|      261778|       11727|\n",
            "|동아시아/동남아시아|대한민국|주간(월-일)|  2021-08-23|08/23-08/29|      250051|       12269|\n",
            "|동아시아/동남아시아|대한민국|주간(월-일)|  2021-08-16|08/16-08/22|      237782|       12301|\n",
            "|동아시아/동남아시아|대한민국|주간(월-일)|  2021-08-09|08/09-08/15|      225481|       13033|\n",
            "|동아시아/동남아시아|대한민국|주간(월-일)|  2021-08-02|08/02-08/08|      212448|       11446|\n",
            "|동아시아/동남아시아|대한민국|주간(월-일)|  2021-07-26|07/26-08/01|      201002|       10836|\n",
            "|동아시아/동남아시아|대한민국|주간(월-일)|  2021-07-19|07/19-07/25|      190166|       10963|\n",
            "|동아시아/동남아시아|대한민국|주간(월-일)|  2021-07-12|07/12-07/18|      179203|       10057|\n",
            "|동아시아/동남아시아|대한민국|주간(월-일)|  2021-07-05|07/05-07/11|      169146|        8351|\n",
            "|동아시아/동남아시아|대한민국|주간(월-일)|  2021-06-28|06/28-07/04|      160795|        5223|\n",
            "|동아시아/동남아시아|대한민국|주간(월-일)|  2021-06-21|06/21-06/27|      155572|        4066|\n",
            "+-------------------+--------+-----------+------------+-----------+------------+------------+\n",
            "only showing top 20 rows\n",
            "\n"
          ]
        }
      ]
    },
    {
      "cell_type": "markdown",
      "metadata": {
        "id": "ijgldOO2UfX0"
      },
      "source": [
        "'대륙', '국가', '구분' 칼럼 삭제"
      ]
    },
    {
      "cell_type": "code",
      "metadata": {
        "colab": {
          "base_uri": "https://localhost:8080/"
        },
        "id": "LyMcwpE9KwGV",
        "outputId": "3ada1dbe-9ee6-4524-ec63-4aa7a2adcdf7"
      },
      "source": [
        "data = data.drop('대륙')\n",
        "data = data.drop('국가')\n",
        "data = data.drop('구분')\n",
        "data.show()"
      ],
      "execution_count": null,
      "outputs": [
        {
          "output_type": "stream",
          "name": "stdout",
          "text": [
            "+------------+-----------+------------+------------+\n",
            "|주간시작일자|       일자|누적확진(명)|신규확진(명)|\n",
            "+------------+-----------+------------+------------+\n",
            "|  2021-11-01|11/01-11/07|      381694|       15308|\n",
            "|  2021-10-25|10/25-10/31|      366386|       13297|\n",
            "|  2021-10-18|10/18-10/24|      353089|        9644|\n",
            "|  2021-10-11|10/11-10/17|      343445|       10629|\n",
            "|  2021-10-04|10/04-10/10|      332816|       13039|\n",
            "|  2021-09-27|09/27-10/03|      319777|       16224|\n",
            "|  2021-09-20|09/20-09/26|      303553|       16017|\n",
            "|  2021-09-13|09/13-09/19|      287536|       13121|\n",
            "|  2021-09-06|09/06-09/12|      274415|       12637|\n",
            "|  2021-08-30|08/30-09/05|      261778|       11727|\n",
            "|  2021-08-23|08/23-08/29|      250051|       12269|\n",
            "|  2021-08-16|08/16-08/22|      237782|       12301|\n",
            "|  2021-08-09|08/09-08/15|      225481|       13033|\n",
            "|  2021-08-02|08/02-08/08|      212448|       11446|\n",
            "|  2021-07-26|07/26-08/01|      201002|       10836|\n",
            "|  2021-07-19|07/19-07/25|      190166|       10963|\n",
            "|  2021-07-12|07/12-07/18|      179203|       10057|\n",
            "|  2021-07-05|07/05-07/11|      169146|        8351|\n",
            "|  2021-06-28|06/28-07/04|      160795|        5223|\n",
            "|  2021-06-21|06/21-06/27|      155572|        4066|\n",
            "+------------+-----------+------------+------------+\n",
            "only showing top 20 rows\n",
            "\n"
          ]
        }
      ]
    },
    {
      "cell_type": "code",
      "metadata": {
        "id": "GSaOV-jFLU3M"
      },
      "source": [
        "import pyspark.sql.types as T\n",
        "import pyspark.sql.functions as F"
      ],
      "execution_count": null,
      "outputs": []
    },
    {
      "cell_type": "markdown",
      "metadata": {
        "id": "03DfwbUeUkfW"
      },
      "source": [
        "타입을 변경하는김에 겸사겸사 컬럼명도 바꿔줌"
      ]
    },
    {
      "cell_type": "code",
      "metadata": {
        "id": "VEbQ1-8MLNvF"
      },
      "source": [
        "data = data.withColumn('주간시작일자',F.to_date(F.col(\"주간시작일자\"),\"yyyy-MM-dd\"))\\\n",
        ".withColumn('누적확진자',F.col('누적확진(명)').cast(T.IntegerType()))\\\n",
        ".withColumn('신규확진자',F.col('신규확진(명)').cast(T.IntegerType()))"
      ],
      "execution_count": null,
      "outputs": []
    },
    {
      "cell_type": "code",
      "metadata": {
        "colab": {
          "base_uri": "https://localhost:8080/"
        },
        "id": "xlibHyeyLjjR",
        "outputId": "14e4090b-0b99-4f26-bd75-ffb19071719d"
      },
      "source": [
        "data.printSchema()"
      ],
      "execution_count": null,
      "outputs": [
        {
          "output_type": "stream",
          "name": "stdout",
          "text": [
            "root\n",
            " |-- 주간시작일자: date (nullable = true)\n",
            " |-- 일자: string (nullable = true)\n",
            " |-- 누적확진(명): string (nullable = true)\n",
            " |-- 신규확진(명): string (nullable = true)\n",
            " |-- 누적확진자: integer (nullable = true)\n",
            " |-- 신규확진자: integer (nullable = true)\n",
            "\n"
          ]
        }
      ]
    },
    {
      "cell_type": "markdown",
      "metadata": {
        "id": "XZJPRtv8UqbO"
      },
      "source": [
        "integer형태로 바꾸기 전 칼럼인 '누적확진(명)'과 '신규확진(명)'을 제거한다."
      ]
    },
    {
      "cell_type": "code",
      "metadata": {
        "colab": {
          "base_uri": "https://localhost:8080/"
        },
        "id": "DpJLVylwQmGd",
        "outputId": "99503e35-3254-4a02-baf4-ffabc1688e19"
      },
      "source": [
        "data = data.drop('누적확진(명)')\n",
        "data = data.drop('신규확진(명)')\n",
        "data.show()"
      ],
      "execution_count": null,
      "outputs": [
        {
          "output_type": "stream",
          "name": "stdout",
          "text": [
            "+------------+-----------+----------+----------+\n",
            "|주간시작일자|       일자|누적확진자|신규확진자|\n",
            "+------------+-----------+----------+----------+\n",
            "|  2021-11-01|11/01-11/07|    381694|     15308|\n",
            "|  2021-10-25|10/25-10/31|    366386|     13297|\n",
            "|  2021-10-18|10/18-10/24|    353089|      9644|\n",
            "|  2021-10-11|10/11-10/17|    343445|     10629|\n",
            "|  2021-10-04|10/04-10/10|    332816|     13039|\n",
            "|  2021-09-27|09/27-10/03|    319777|     16224|\n",
            "|  2021-09-20|09/20-09/26|    303553|     16017|\n",
            "|  2021-09-13|09/13-09/19|    287536|     13121|\n",
            "|  2021-09-06|09/06-09/12|    274415|     12637|\n",
            "|  2021-08-30|08/30-09/05|    261778|     11727|\n",
            "|  2021-08-23|08/23-08/29|    250051|     12269|\n",
            "|  2021-08-16|08/16-08/22|    237782|     12301|\n",
            "|  2021-08-09|08/09-08/15|    225481|     13033|\n",
            "|  2021-08-02|08/02-08/08|    212448|     11446|\n",
            "|  2021-07-26|07/26-08/01|    201002|     10836|\n",
            "|  2021-07-19|07/19-07/25|    190166|     10963|\n",
            "|  2021-07-12|07/12-07/18|    179203|     10057|\n",
            "|  2021-07-05|07/05-07/11|    169146|      8351|\n",
            "|  2021-06-28|06/28-07/04|    160795|      5223|\n",
            "|  2021-06-21|06/21-06/27|    155572|      4066|\n",
            "+------------+-----------+----------+----------+\n",
            "only showing top 20 rows\n",
            "\n"
          ]
        }
      ]
    },
    {
      "cell_type": "markdown",
      "metadata": {
        "id": "AlNCgpVbU06q"
      },
      "source": [
        "저장과 그래프 확인을 위해 pandas dataframe으로 변환"
      ]
    },
    {
      "cell_type": "code",
      "metadata": {
        "id": "hOr5y9_KL0qx"
      },
      "source": [
        "pdf = data.select(\"*\").toPandas()"
      ],
      "execution_count": null,
      "outputs": []
    },
    {
      "cell_type": "code",
      "metadata": {
        "colab": {
          "base_uri": "https://localhost:8080/",
          "height": 419
        },
        "id": "70xEqN0IL4EN",
        "outputId": "a0ddb92c-9b74-49af-f2c7-eda6941ad519"
      },
      "source": [
        "pdf"
      ],
      "execution_count": null,
      "outputs": [
        {
          "output_type": "execute_result",
          "data": {
            "text/html": [
              "<div>\n",
              "<style scoped>\n",
              "    .dataframe tbody tr th:only-of-type {\n",
              "        vertical-align: middle;\n",
              "    }\n",
              "\n",
              "    .dataframe tbody tr th {\n",
              "        vertical-align: top;\n",
              "    }\n",
              "\n",
              "    .dataframe thead th {\n",
              "        text-align: right;\n",
              "    }\n",
              "</style>\n",
              "<table border=\"1\" class=\"dataframe\">\n",
              "  <thead>\n",
              "    <tr style=\"text-align: right;\">\n",
              "      <th></th>\n",
              "      <th>주간시작일자</th>\n",
              "      <th>일자</th>\n",
              "      <th>누적확진자</th>\n",
              "      <th>신규확진자</th>\n",
              "    </tr>\n",
              "  </thead>\n",
              "  <tbody>\n",
              "    <tr>\n",
              "      <th>0</th>\n",
              "      <td>2021-11-01</td>\n",
              "      <td>11/01-11/07</td>\n",
              "      <td>381694</td>\n",
              "      <td>15308</td>\n",
              "    </tr>\n",
              "    <tr>\n",
              "      <th>1</th>\n",
              "      <td>2021-10-25</td>\n",
              "      <td>10/25-10/31</td>\n",
              "      <td>366386</td>\n",
              "      <td>13297</td>\n",
              "    </tr>\n",
              "    <tr>\n",
              "      <th>2</th>\n",
              "      <td>2021-10-18</td>\n",
              "      <td>10/18-10/24</td>\n",
              "      <td>353089</td>\n",
              "      <td>9644</td>\n",
              "    </tr>\n",
              "    <tr>\n",
              "      <th>3</th>\n",
              "      <td>2021-10-11</td>\n",
              "      <td>10/11-10/17</td>\n",
              "      <td>343445</td>\n",
              "      <td>10629</td>\n",
              "    </tr>\n",
              "    <tr>\n",
              "      <th>4</th>\n",
              "      <td>2021-10-04</td>\n",
              "      <td>10/04-10/10</td>\n",
              "      <td>332816</td>\n",
              "      <td>13039</td>\n",
              "    </tr>\n",
              "    <tr>\n",
              "      <th>...</th>\n",
              "      <td>...</td>\n",
              "      <td>...</td>\n",
              "      <td>...</td>\n",
              "      <td>...</td>\n",
              "    </tr>\n",
              "    <tr>\n",
              "      <th>89</th>\n",
              "      <td>2020-02-17</td>\n",
              "      <td>02/17-02/23</td>\n",
              "      <td>556</td>\n",
              "      <td>527</td>\n",
              "    </tr>\n",
              "    <tr>\n",
              "      <th>90</th>\n",
              "      <td>2020-02-10</td>\n",
              "      <td>02/10-02/16</td>\n",
              "      <td>29</td>\n",
              "      <td>2</td>\n",
              "    </tr>\n",
              "    <tr>\n",
              "      <th>91</th>\n",
              "      <td>2020-02-03</td>\n",
              "      <td>02/03-02/09</td>\n",
              "      <td>27</td>\n",
              "      <td>12</td>\n",
              "    </tr>\n",
              "    <tr>\n",
              "      <th>92</th>\n",
              "      <td>2020-01-27</td>\n",
              "      <td>01/27-02/02</td>\n",
              "      <td>15</td>\n",
              "      <td>12</td>\n",
              "    </tr>\n",
              "    <tr>\n",
              "      <th>93</th>\n",
              "      <td>2020-01-20</td>\n",
              "      <td>01/20-01/26</td>\n",
              "      <td>3</td>\n",
              "      <td>3</td>\n",
              "    </tr>\n",
              "  </tbody>\n",
              "</table>\n",
              "<p>94 rows × 4 columns</p>\n",
              "</div>"
            ],
            "text/plain": [
              "        주간시작일자           일자   누적확진자  신규확진자\n",
              "0   2021-11-01  11/01-11/07  381694  15308\n",
              "1   2021-10-25  10/25-10/31  366386  13297\n",
              "2   2021-10-18  10/18-10/24  353089   9644\n",
              "3   2021-10-11  10/11-10/17  343445  10629\n",
              "4   2021-10-04  10/04-10/10  332816  13039\n",
              "..         ...          ...     ...    ...\n",
              "89  2020-02-17  02/17-02/23     556    527\n",
              "90  2020-02-10  02/10-02/16      29      2\n",
              "91  2020-02-03  02/03-02/09      27     12\n",
              "92  2020-01-27  01/27-02/02      15     12\n",
              "93  2020-01-20  01/20-01/26       3      3\n",
              "\n",
              "[94 rows x 4 columns]"
            ]
          },
          "metadata": {},
          "execution_count": 86
        }
      ]
    },
    {
      "cell_type": "markdown",
      "metadata": {
        "id": "EYplAugqWYTL"
      },
      "source": [
        "지하철 이용자수 데이터는 9월 26일까지 저장했으므로 기간을 벗어난 데이터를 삭제해줌(안그러면 확진자수 그래프가 오른쪽으로 튀어나옴)"
      ]
    },
    {
      "cell_type": "code",
      "metadata": {
        "id": "sZEnlEeoWX5_"
      },
      "source": [
        "pdf = pdf.drop([0, 1, 2, 3, 4, 5])\n",
        "pdf = pdf.reset_index()"
      ],
      "execution_count": null,
      "outputs": []
    },
    {
      "cell_type": "code",
      "metadata": {
        "colab": {
          "base_uri": "https://localhost:8080/",
          "height": 419
        },
        "id": "U6i4rrdaYyu5",
        "outputId": "6b0f318e-b780-40a8-d721-a90f248c6625"
      },
      "source": [
        "pdf"
      ],
      "execution_count": null,
      "outputs": [
        {
          "output_type": "execute_result",
          "data": {
            "text/html": [
              "<div>\n",
              "<style scoped>\n",
              "    .dataframe tbody tr th:only-of-type {\n",
              "        vertical-align: middle;\n",
              "    }\n",
              "\n",
              "    .dataframe tbody tr th {\n",
              "        vertical-align: top;\n",
              "    }\n",
              "\n",
              "    .dataframe thead th {\n",
              "        text-align: right;\n",
              "    }\n",
              "</style>\n",
              "<table border=\"1\" class=\"dataframe\">\n",
              "  <thead>\n",
              "    <tr style=\"text-align: right;\">\n",
              "      <th></th>\n",
              "      <th>index</th>\n",
              "      <th>주간시작일자</th>\n",
              "      <th>일자</th>\n",
              "      <th>누적확진자</th>\n",
              "      <th>신규확진자</th>\n",
              "    </tr>\n",
              "  </thead>\n",
              "  <tbody>\n",
              "    <tr>\n",
              "      <th>0</th>\n",
              "      <td>6</td>\n",
              "      <td>2021-09-20</td>\n",
              "      <td>09/20-09/26</td>\n",
              "      <td>303553</td>\n",
              "      <td>16017</td>\n",
              "    </tr>\n",
              "    <tr>\n",
              "      <th>1</th>\n",
              "      <td>7</td>\n",
              "      <td>2021-09-13</td>\n",
              "      <td>09/13-09/19</td>\n",
              "      <td>287536</td>\n",
              "      <td>13121</td>\n",
              "    </tr>\n",
              "    <tr>\n",
              "      <th>2</th>\n",
              "      <td>8</td>\n",
              "      <td>2021-09-06</td>\n",
              "      <td>09/06-09/12</td>\n",
              "      <td>274415</td>\n",
              "      <td>12637</td>\n",
              "    </tr>\n",
              "    <tr>\n",
              "      <th>3</th>\n",
              "      <td>9</td>\n",
              "      <td>2021-08-30</td>\n",
              "      <td>08/30-09/05</td>\n",
              "      <td>261778</td>\n",
              "      <td>11727</td>\n",
              "    </tr>\n",
              "    <tr>\n",
              "      <th>4</th>\n",
              "      <td>10</td>\n",
              "      <td>2021-08-23</td>\n",
              "      <td>08/23-08/29</td>\n",
              "      <td>250051</td>\n",
              "      <td>12269</td>\n",
              "    </tr>\n",
              "    <tr>\n",
              "      <th>...</th>\n",
              "      <td>...</td>\n",
              "      <td>...</td>\n",
              "      <td>...</td>\n",
              "      <td>...</td>\n",
              "      <td>...</td>\n",
              "    </tr>\n",
              "    <tr>\n",
              "      <th>83</th>\n",
              "      <td>89</td>\n",
              "      <td>2020-02-17</td>\n",
              "      <td>02/17-02/23</td>\n",
              "      <td>556</td>\n",
              "      <td>527</td>\n",
              "    </tr>\n",
              "    <tr>\n",
              "      <th>84</th>\n",
              "      <td>90</td>\n",
              "      <td>2020-02-10</td>\n",
              "      <td>02/10-02/16</td>\n",
              "      <td>29</td>\n",
              "      <td>2</td>\n",
              "    </tr>\n",
              "    <tr>\n",
              "      <th>85</th>\n",
              "      <td>91</td>\n",
              "      <td>2020-02-03</td>\n",
              "      <td>02/03-02/09</td>\n",
              "      <td>27</td>\n",
              "      <td>12</td>\n",
              "    </tr>\n",
              "    <tr>\n",
              "      <th>86</th>\n",
              "      <td>92</td>\n",
              "      <td>2020-01-27</td>\n",
              "      <td>01/27-02/02</td>\n",
              "      <td>15</td>\n",
              "      <td>12</td>\n",
              "    </tr>\n",
              "    <tr>\n",
              "      <th>87</th>\n",
              "      <td>93</td>\n",
              "      <td>2020-01-20</td>\n",
              "      <td>01/20-01/26</td>\n",
              "      <td>3</td>\n",
              "      <td>3</td>\n",
              "    </tr>\n",
              "  </tbody>\n",
              "</table>\n",
              "<p>88 rows × 5 columns</p>\n",
              "</div>"
            ],
            "text/plain": [
              "    index      주간시작일자           일자   누적확진자  신규확진자\n",
              "0       6  2021-09-20  09/20-09/26  303553  16017\n",
              "1       7  2021-09-13  09/13-09/19  287536  13121\n",
              "2       8  2021-09-06  09/06-09/12  274415  12637\n",
              "3       9  2021-08-30  08/30-09/05  261778  11727\n",
              "4      10  2021-08-23  08/23-08/29  250051  12269\n",
              "..    ...         ...          ...     ...    ...\n",
              "83     89  2020-02-17  02/17-02/23     556    527\n",
              "84     90  2020-02-10  02/10-02/16      29      2\n",
              "85     91  2020-02-03  02/03-02/09      27     12\n",
              "86     92  2020-01-27  01/27-02/02      15     12\n",
              "87     93  2020-01-20  01/20-01/26       3      3\n",
              "\n",
              "[88 rows x 5 columns]"
            ]
          },
          "metadata": {},
          "execution_count": 88
        }
      ]
    },
    {
      "cell_type": "code",
      "metadata": {
        "colab": {
          "base_uri": "https://localhost:8080/",
          "height": 419
        },
        "id": "RtMe_9j0X09a",
        "outputId": "90eb34cd-813d-4057-e1ec-19f60b19a30d"
      },
      "source": [
        "pdf = pdf.drop(['index'], axis=1)\n",
        "pdf"
      ],
      "execution_count": null,
      "outputs": [
        {
          "output_type": "execute_result",
          "data": {
            "text/html": [
              "<div>\n",
              "<style scoped>\n",
              "    .dataframe tbody tr th:only-of-type {\n",
              "        vertical-align: middle;\n",
              "    }\n",
              "\n",
              "    .dataframe tbody tr th {\n",
              "        vertical-align: top;\n",
              "    }\n",
              "\n",
              "    .dataframe thead th {\n",
              "        text-align: right;\n",
              "    }\n",
              "</style>\n",
              "<table border=\"1\" class=\"dataframe\">\n",
              "  <thead>\n",
              "    <tr style=\"text-align: right;\">\n",
              "      <th></th>\n",
              "      <th>주간시작일자</th>\n",
              "      <th>일자</th>\n",
              "      <th>누적확진자</th>\n",
              "      <th>신규확진자</th>\n",
              "    </tr>\n",
              "  </thead>\n",
              "  <tbody>\n",
              "    <tr>\n",
              "      <th>0</th>\n",
              "      <td>2021-09-20</td>\n",
              "      <td>09/20-09/26</td>\n",
              "      <td>303553</td>\n",
              "      <td>16017</td>\n",
              "    </tr>\n",
              "    <tr>\n",
              "      <th>1</th>\n",
              "      <td>2021-09-13</td>\n",
              "      <td>09/13-09/19</td>\n",
              "      <td>287536</td>\n",
              "      <td>13121</td>\n",
              "    </tr>\n",
              "    <tr>\n",
              "      <th>2</th>\n",
              "      <td>2021-09-06</td>\n",
              "      <td>09/06-09/12</td>\n",
              "      <td>274415</td>\n",
              "      <td>12637</td>\n",
              "    </tr>\n",
              "    <tr>\n",
              "      <th>3</th>\n",
              "      <td>2021-08-30</td>\n",
              "      <td>08/30-09/05</td>\n",
              "      <td>261778</td>\n",
              "      <td>11727</td>\n",
              "    </tr>\n",
              "    <tr>\n",
              "      <th>4</th>\n",
              "      <td>2021-08-23</td>\n",
              "      <td>08/23-08/29</td>\n",
              "      <td>250051</td>\n",
              "      <td>12269</td>\n",
              "    </tr>\n",
              "    <tr>\n",
              "      <th>...</th>\n",
              "      <td>...</td>\n",
              "      <td>...</td>\n",
              "      <td>...</td>\n",
              "      <td>...</td>\n",
              "    </tr>\n",
              "    <tr>\n",
              "      <th>83</th>\n",
              "      <td>2020-02-17</td>\n",
              "      <td>02/17-02/23</td>\n",
              "      <td>556</td>\n",
              "      <td>527</td>\n",
              "    </tr>\n",
              "    <tr>\n",
              "      <th>84</th>\n",
              "      <td>2020-02-10</td>\n",
              "      <td>02/10-02/16</td>\n",
              "      <td>29</td>\n",
              "      <td>2</td>\n",
              "    </tr>\n",
              "    <tr>\n",
              "      <th>85</th>\n",
              "      <td>2020-02-03</td>\n",
              "      <td>02/03-02/09</td>\n",
              "      <td>27</td>\n",
              "      <td>12</td>\n",
              "    </tr>\n",
              "    <tr>\n",
              "      <th>86</th>\n",
              "      <td>2020-01-27</td>\n",
              "      <td>01/27-02/02</td>\n",
              "      <td>15</td>\n",
              "      <td>12</td>\n",
              "    </tr>\n",
              "    <tr>\n",
              "      <th>87</th>\n",
              "      <td>2020-01-20</td>\n",
              "      <td>01/20-01/26</td>\n",
              "      <td>3</td>\n",
              "      <td>3</td>\n",
              "    </tr>\n",
              "  </tbody>\n",
              "</table>\n",
              "<p>88 rows × 4 columns</p>\n",
              "</div>"
            ],
            "text/plain": [
              "        주간시작일자           일자   누적확진자  신규확진자\n",
              "0   2021-09-20  09/20-09/26  303553  16017\n",
              "1   2021-09-13  09/13-09/19  287536  13121\n",
              "2   2021-09-06  09/06-09/12  274415  12637\n",
              "3   2021-08-30  08/30-09/05  261778  11727\n",
              "4   2021-08-23  08/23-08/29  250051  12269\n",
              "..         ...          ...     ...    ...\n",
              "83  2020-02-17  02/17-02/23     556    527\n",
              "84  2020-02-10  02/10-02/16      29      2\n",
              "85  2020-02-03  02/03-02/09      27     12\n",
              "86  2020-01-27  01/27-02/02      15     12\n",
              "87  2020-01-20  01/20-01/26       3      3\n",
              "\n",
              "[88 rows x 4 columns]"
            ]
          },
          "metadata": {},
          "execution_count": 89
        }
      ]
    },
    {
      "cell_type": "markdown",
      "metadata": {
        "id": "kbuwPP8cU8v5"
      },
      "source": [
        "parquet파일로 저장 confirmed_cases = 확진자라는 뜻"
      ]
    },
    {
      "cell_type": "code",
      "metadata": {
        "id": "WuxMLjLcQ1P2"
      },
      "source": [
        "pdf.to_parquet('confirmed_cases.parquet')"
      ],
      "execution_count": null,
      "outputs": []
    },
    {
      "cell_type": "markdown",
      "metadata": {
        "id": "eF1LMotiVCVX"
      },
      "source": [
        "잘 저장되어있는지 확인"
      ]
    },
    {
      "cell_type": "code",
      "metadata": {
        "colab": {
          "base_uri": "https://localhost:8080/",
          "height": 419
        },
        "id": "tgFEZ_eBRNMb",
        "outputId": "8b3830fc-74f6-4b42-d16c-e76c38b75a7b"
      },
      "source": [
        "test = pd.read_parquet('confirmed_cases.parquet')\n",
        "test"
      ],
      "execution_count": null,
      "outputs": [
        {
          "output_type": "execute_result",
          "data": {
            "text/html": [
              "<div>\n",
              "<style scoped>\n",
              "    .dataframe tbody tr th:only-of-type {\n",
              "        vertical-align: middle;\n",
              "    }\n",
              "\n",
              "    .dataframe tbody tr th {\n",
              "        vertical-align: top;\n",
              "    }\n",
              "\n",
              "    .dataframe thead th {\n",
              "        text-align: right;\n",
              "    }\n",
              "</style>\n",
              "<table border=\"1\" class=\"dataframe\">\n",
              "  <thead>\n",
              "    <tr style=\"text-align: right;\">\n",
              "      <th></th>\n",
              "      <th>주간시작일자</th>\n",
              "      <th>일자</th>\n",
              "      <th>누적확진자</th>\n",
              "      <th>신규확진자</th>\n",
              "    </tr>\n",
              "  </thead>\n",
              "  <tbody>\n",
              "    <tr>\n",
              "      <th>0</th>\n",
              "      <td>2021-09-20</td>\n",
              "      <td>09/20-09/26</td>\n",
              "      <td>303553</td>\n",
              "      <td>16017</td>\n",
              "    </tr>\n",
              "    <tr>\n",
              "      <th>1</th>\n",
              "      <td>2021-09-13</td>\n",
              "      <td>09/13-09/19</td>\n",
              "      <td>287536</td>\n",
              "      <td>13121</td>\n",
              "    </tr>\n",
              "    <tr>\n",
              "      <th>2</th>\n",
              "      <td>2021-09-06</td>\n",
              "      <td>09/06-09/12</td>\n",
              "      <td>274415</td>\n",
              "      <td>12637</td>\n",
              "    </tr>\n",
              "    <tr>\n",
              "      <th>3</th>\n",
              "      <td>2021-08-30</td>\n",
              "      <td>08/30-09/05</td>\n",
              "      <td>261778</td>\n",
              "      <td>11727</td>\n",
              "    </tr>\n",
              "    <tr>\n",
              "      <th>4</th>\n",
              "      <td>2021-08-23</td>\n",
              "      <td>08/23-08/29</td>\n",
              "      <td>250051</td>\n",
              "      <td>12269</td>\n",
              "    </tr>\n",
              "    <tr>\n",
              "      <th>...</th>\n",
              "      <td>...</td>\n",
              "      <td>...</td>\n",
              "      <td>...</td>\n",
              "      <td>...</td>\n",
              "    </tr>\n",
              "    <tr>\n",
              "      <th>83</th>\n",
              "      <td>2020-02-17</td>\n",
              "      <td>02/17-02/23</td>\n",
              "      <td>556</td>\n",
              "      <td>527</td>\n",
              "    </tr>\n",
              "    <tr>\n",
              "      <th>84</th>\n",
              "      <td>2020-02-10</td>\n",
              "      <td>02/10-02/16</td>\n",
              "      <td>29</td>\n",
              "      <td>2</td>\n",
              "    </tr>\n",
              "    <tr>\n",
              "      <th>85</th>\n",
              "      <td>2020-02-03</td>\n",
              "      <td>02/03-02/09</td>\n",
              "      <td>27</td>\n",
              "      <td>12</td>\n",
              "    </tr>\n",
              "    <tr>\n",
              "      <th>86</th>\n",
              "      <td>2020-01-27</td>\n",
              "      <td>01/27-02/02</td>\n",
              "      <td>15</td>\n",
              "      <td>12</td>\n",
              "    </tr>\n",
              "    <tr>\n",
              "      <th>87</th>\n",
              "      <td>2020-01-20</td>\n",
              "      <td>01/20-01/26</td>\n",
              "      <td>3</td>\n",
              "      <td>3</td>\n",
              "    </tr>\n",
              "  </tbody>\n",
              "</table>\n",
              "<p>88 rows × 4 columns</p>\n",
              "</div>"
            ],
            "text/plain": [
              "        주간시작일자           일자   누적확진자  신규확진자\n",
              "0   2021-09-20  09/20-09/26  303553  16017\n",
              "1   2021-09-13  09/13-09/19  287536  13121\n",
              "2   2021-09-06  09/06-09/12  274415  12637\n",
              "3   2021-08-30  08/30-09/05  261778  11727\n",
              "4   2021-08-23  08/23-08/29  250051  12269\n",
              "..         ...          ...     ...    ...\n",
              "83  2020-02-17  02/17-02/23     556    527\n",
              "84  2020-02-10  02/10-02/16      29      2\n",
              "85  2020-02-03  02/03-02/09      27     12\n",
              "86  2020-01-27  01/27-02/02      15     12\n",
              "87  2020-01-20  01/20-01/26       3      3\n",
              "\n",
              "[88 rows x 4 columns]"
            ]
          },
          "metadata": {},
          "execution_count": 92
        }
      ]
    },
    {
      "cell_type": "markdown",
      "metadata": {
        "id": "lJG7KClgMBSz"
      },
      "source": [
        "그래프 그리기"
      ]
    },
    {
      "cell_type": "code",
      "metadata": {
        "id": "DwHxOh8eMCU6"
      },
      "source": [
        "import matplotlib.pyplot as plt\n",
        "import matplotlib.ticker as mticker\n",
        "import numpy as np"
      ],
      "execution_count": null,
      "outputs": []
    },
    {
      "cell_type": "code",
      "metadata": {
        "colab": {
          "base_uri": "https://localhost:8080/",
          "height": 374
        },
        "id": "jY2E57r4MDAr",
        "outputId": "4e2f4bd3-e0bd-429b-a371-ce3d31c5f1e4"
      },
      "source": [
        "fig, ax = plt.subplots(figsize=(16,6))\n",
        "\n",
        "\n",
        "x = np.array(pdf['주간시작일자'].tolist())\n",
        "data1 = np.array(pdf['누적확진자'].tolist())\n",
        "data2 = np.array(pdf['신규확진자'].tolist())\n",
        "\n",
        "plt.bar(x, data2, color='r')\n",
        "plt.bar(x, data1-data2, color='b', bottom=data2)\n",
        "\n",
        "plt.show() "
      ],
      "execution_count": null,
      "outputs": [
        {
          "output_type": "display_data",
          "data": {
            "image/png": "[encoded data removed]",
            "text/plain": [
              "<Figure size 1152x432 with 1 Axes>"
            ]
          },
          "metadata": {
            "needs_background": "light"
          }
        }
      ]
    }
  ]
}