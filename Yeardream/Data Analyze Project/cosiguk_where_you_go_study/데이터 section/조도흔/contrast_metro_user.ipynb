{
  "nbformat": 4,
  "nbformat_minor": 0,
  "metadata": {
    "colab": {
      "name": "contrast_metro_user.ipynb",
      "provenance": [],
      "collapsed_sections": []
    },
    "kernelspec": {
      "name": "python3",
      "display_name": "Python 3"
    },
    "language_info": {
      "name": "python"
    }
  },
  "cells": [
    {
      "cell_type": "markdown",
      "metadata": {
        "id": "7QzZncnic0BX"
      },
      "source": [
        "<h1>코로나 이전과 코로나 이후의 지하철 사용량을 비교"
      ]
    },
    {
      "cell_type": "code",
      "metadata": {
        "colab": {
          "base_uri": "https://localhost:8080/"
        },
        "id": "L1XA30zYciKN",
        "outputId": "762e77c3-1e3b-40da-e431-ef98a64d00f9"
      },
      "source": [
        "!pip install pyspark"
      ],
      "execution_count": null,
      "outputs": [
        {
          "output_type": "stream",
          "name": "stdout",
          "text": [
            "Collecting pyspark\n",
            "  Downloading pyspark-3.2.0.tar.gz (281.3 MB)\n",
            "\u001b[K     |████████████████████████████████| 281.3 MB 37 kB/s \n",
            "\u001b[?25hCollecting py4j==0.10.9.2\n",
            "  Downloading py4j-0.10.9.2-py2.py3-none-any.whl (198 kB)\n",
            "\u001b[K     |████████████████████████████████| 198 kB 51.1 MB/s \n",
            "\u001b[?25hBuilding wheels for collected packages: pyspark\n",
            "  Building wheel for pyspark (setup.py) ... \u001b[?25l\u001b[?25hdone\n",
            "  Created wheel for pyspark: filename=pyspark-3.2.0-py2.py3-none-any.whl size=281805912 sha256=92f0b005019dad70f666c1035c0fe3dec37016b38d9517bccd8bf117b380b7ef\n",
            "  Stored in directory: /root/.cache/pip/wheels/0b/de/d2/9be5d59d7331c6c2a7c1b6d1a4f463ce107332b1ecd4e80718\n",
            "Successfully built pyspark\n",
            "Installing collected packages: py4j, pyspark\n",
            "Successfully installed py4j-0.10.9.2 pyspark-3.2.0\n"
          ]
        }
      ]
    },
    {
      "cell_type": "code",
      "metadata": {
        "id": "-opgmhhyeTnI"
      },
      "source": [
        "import pandas as pd\n",
        "from pyspark.sql import SparkSession\n",
        "spark = SparkSession.builder.getOrCreate()"
      ],
      "execution_count": null,
      "outputs": []
    },
    {
      "cell_type": "code",
      "metadata": {
        "colab": {
          "base_uri": "https://localhost:8080/",
          "height": 340
        },
        "id": "GA67AYqXeTyU",
        "outputId": "5120711b-7485-4cef-ebd0-52ef20cbb42b"
      },
      "source": [
        "from google.colab import drive\n",
        "drive.mount('/content/drive')"
      ],
      "execution_count": null,
      "outputs": [
        {
          "output_type": "error",
          "ename": "MessageError",
          "evalue": "ignored",
          "traceback": [
            "\u001b[0;31m---------------------------------------------------------------------------\u001b[0m",
            "\u001b[0;31mMessageError\u001b[0m                              Traceback (most recent call last)",
            "\u001b[0;32m<ipython-input-3-d5df0069828e>\u001b[0m in \u001b[0;36m<module>\u001b[0;34m()\u001b[0m\n\u001b[1;32m      1\u001b[0m \u001b[0;32mfrom\u001b[0m \u001b[0mgoogle\u001b[0m\u001b[0;34m.\u001b[0m\u001b[0mcolab\u001b[0m \u001b[0;32mimport\u001b[0m \u001b[0mdrive\u001b[0m\u001b[0;34m\u001b[0m\u001b[0;34m\u001b[0m\u001b[0m\n\u001b[0;32m----> 2\u001b[0;31m \u001b[0mdrive\u001b[0m\u001b[0;34m.\u001b[0m\u001b[0mmount\u001b[0m\u001b[0;34m(\u001b[0m\u001b[0;34m'/content/drive'\u001b[0m\u001b[0;34m)\u001b[0m\u001b[0;34m\u001b[0m\u001b[0;34m\u001b[0m\u001b[0m\n\u001b[0m",
            "\u001b[0;32m/usr/local/lib/python3.7/dist-packages/google/colab/drive.py\u001b[0m in \u001b[0;36mmount\u001b[0;34m(mountpoint, force_remount, timeout_ms, use_metadata_server)\u001b[0m\n\u001b[1;32m    111\u001b[0m       \u001b[0mtimeout_ms\u001b[0m\u001b[0;34m=\u001b[0m\u001b[0mtimeout_ms\u001b[0m\u001b[0;34m,\u001b[0m\u001b[0;34m\u001b[0m\u001b[0;34m\u001b[0m\u001b[0m\n\u001b[1;32m    112\u001b[0m       \u001b[0muse_metadata_server\u001b[0m\u001b[0;34m=\u001b[0m\u001b[0muse_metadata_server\u001b[0m\u001b[0;34m,\u001b[0m\u001b[0;34m\u001b[0m\u001b[0;34m\u001b[0m\u001b[0m\n\u001b[0;32m--> 113\u001b[0;31m       ephemeral=ephemeral)\n\u001b[0m\u001b[1;32m    114\u001b[0m \u001b[0;34m\u001b[0m\u001b[0m\n\u001b[1;32m    115\u001b[0m \u001b[0;34m\u001b[0m\u001b[0m\n",
            "\u001b[0;32m/usr/local/lib/python3.7/dist-packages/google/colab/drive.py\u001b[0m in \u001b[0;36m_mount\u001b[0;34m(mountpoint, force_remount, timeout_ms, use_metadata_server, ephemeral)\u001b[0m\n\u001b[1;32m    134\u001b[0m   \u001b[0;32mif\u001b[0m \u001b[0mephemeral\u001b[0m\u001b[0;34m:\u001b[0m\u001b[0;34m\u001b[0m\u001b[0;34m\u001b[0m\u001b[0m\n\u001b[1;32m    135\u001b[0m     _message.blocking_request(\n\u001b[0;32m--> 136\u001b[0;31m         'request_auth', request={'authType': 'dfs_ephemeral'}, timeout_sec=None)\n\u001b[0m\u001b[1;32m    137\u001b[0m \u001b[0;34m\u001b[0m\u001b[0m\n\u001b[1;32m    138\u001b[0m   \u001b[0mmountpoint\u001b[0m \u001b[0;34m=\u001b[0m \u001b[0m_os\u001b[0m\u001b[0;34m.\u001b[0m\u001b[0mpath\u001b[0m\u001b[0;34m.\u001b[0m\u001b[0mexpanduser\u001b[0m\u001b[0;34m(\u001b[0m\u001b[0mmountpoint\u001b[0m\u001b[0;34m)\u001b[0m\u001b[0;34m\u001b[0m\u001b[0;34m\u001b[0m\u001b[0m\n",
            "\u001b[0;32m/usr/local/lib/python3.7/dist-packages/google/colab/_message.py\u001b[0m in \u001b[0;36mblocking_request\u001b[0;34m(request_type, request, timeout_sec, parent)\u001b[0m\n\u001b[1;32m    173\u001b[0m   request_id = send_request(\n\u001b[1;32m    174\u001b[0m       request_type, request, parent=parent, expect_reply=True)\n\u001b[0;32m--> 175\u001b[0;31m   \u001b[0;32mreturn\u001b[0m \u001b[0mread_reply_from_input\u001b[0m\u001b[0;34m(\u001b[0m\u001b[0mrequest_id\u001b[0m\u001b[0;34m,\u001b[0m \u001b[0mtimeout_sec\u001b[0m\u001b[0;34m)\u001b[0m\u001b[0;34m\u001b[0m\u001b[0;34m\u001b[0m\u001b[0m\n\u001b[0m",
            "\u001b[0;32m/usr/local/lib/python3.7/dist-packages/google/colab/_message.py\u001b[0m in \u001b[0;36mread_reply_from_input\u001b[0;34m(message_id, timeout_sec)\u001b[0m\n\u001b[1;32m    104\u001b[0m         reply.get('colab_msg_id') == message_id):\n\u001b[1;32m    105\u001b[0m       \u001b[0;32mif\u001b[0m \u001b[0;34m'error'\u001b[0m \u001b[0;32min\u001b[0m \u001b[0mreply\u001b[0m\u001b[0;34m:\u001b[0m\u001b[0;34m\u001b[0m\u001b[0;34m\u001b[0m\u001b[0m\n\u001b[0;32m--> 106\u001b[0;31m         \u001b[0;32mraise\u001b[0m \u001b[0mMessageError\u001b[0m\u001b[0;34m(\u001b[0m\u001b[0mreply\u001b[0m\u001b[0;34m[\u001b[0m\u001b[0;34m'error'\u001b[0m\u001b[0;34m]\u001b[0m\u001b[0;34m)\u001b[0m\u001b[0;34m\u001b[0m\u001b[0;34m\u001b[0m\u001b[0m\n\u001b[0m\u001b[1;32m    107\u001b[0m       \u001b[0;32mreturn\u001b[0m \u001b[0mreply\u001b[0m\u001b[0;34m.\u001b[0m\u001b[0mget\u001b[0m\u001b[0;34m(\u001b[0m\u001b[0;34m'data'\u001b[0m\u001b[0;34m,\u001b[0m \u001b[0;32mNone\u001b[0m\u001b[0;34m)\u001b[0m\u001b[0;34m\u001b[0m\u001b[0;34m\u001b[0m\u001b[0m\n\u001b[1;32m    108\u001b[0m \u001b[0;34m\u001b[0m\u001b[0m\n",
            "\u001b[0;31mMessageError\u001b[0m: Error: credential propagation was unsuccessful"
          ]
        }
      ]
    },
    {
      "cell_type": "code",
      "metadata": {
        "colab": {
          "base_uri": "https://localhost:8080/"
        },
        "id": "hct2Q7-_ew53",
        "outputId": "f7534d6a-0145-48e8-dca1-8ec560af520f"
      },
      "source": [
        "df = spark.read.parquet('/content/drive/MyDrive/data/all_metro')\n",
        "df.show()"
      ],
      "execution_count": null,
      "outputs": [
        {
          "output_type": "stream",
          "name": "stdout",
          "text": [
            "+----------+----------+------------+------------+------------+--------+\n",
            "|  사용일자|    노선명|        역명|승차총승객수|하차총승객수|이용객수|\n",
            "+----------+----------+------------+------------+------------+--------+\n",
            "|2018-01-10|수인분당선|압구정로데오|       16346|       18420|   34766|\n",
            "|2018-01-10|수인분당선|      서울숲|        7914|        7922|   15836|\n",
            "|2018-01-10|수인분당선|        수원|        9461|        6280|   15741|\n",
            "|2018-01-10|수인분당선|        수서|       15403|       15627|   31030|\n",
            "|2018-01-10|수인분당선|  대모산입구|        3431|        3182|    6613|\n",
            "|2018-01-10|수인분당선|      개포동|        3582|        3723|    7305|\n",
            "|2018-01-10|수인분당선|        구룡|        2105|        2005|    4110|\n",
            "|2018-01-10|수인분당선|        도곡|        7855|        8147|   16002|\n",
            "|2018-01-10|수인분당선|        한티|       16276|       17214|   33490|\n",
            "|2018-01-10|수인분당선|        선릉|       10792|       22141|   32933|\n",
            "|2018-01-10|     4호선|        범계|       32318|       30961|   63279|\n",
            "|2018-01-10|     4호선|        평촌|       19691|       19258|   38949|\n",
            "|2018-01-10|     4호선|      인덕원|       28817|       28564|   57381|\n",
            "|2018-01-10|     4호선|정부과천청사|       16093|       15480|   31573|\n",
            "|2018-01-10|     4호선|        과천|        4888|        4102|    8990|\n",
            "|2018-01-10|     4호선|      대공원|        2297|        2422|    4719|\n",
            "|2018-01-10|     4호선|    경마공원|        2089|        2110|    4199|\n",
            "|2018-01-10|     4호선|      선바위|        9809|        8032|   17841|\n",
            "|2018-01-10|     4호선|      수리산|        4848|        3606|    8454|\n",
            "|2018-01-10|     4호선|      오이도|        9162|        8912|   18074|\n",
            "+----------+----------+------------+------------+------------+--------+\n",
            "only showing top 20 rows\n",
            "\n"
          ]
        }
      ]
    },
    {
      "cell_type": "code",
      "metadata": {
        "id": "uKRxNDBXf5tQ"
      },
      "source": [
        "import pyspark.sql.types as T\n",
        "import pyspark.sql.functions as F"
      ],
      "execution_count": null,
      "outputs": []
    },
    {
      "cell_type": "markdown",
      "metadata": {
        "id": "0YhMg07A1z2P"
      },
      "source": [
        "데이터 정렬"
      ]
    },
    {
      "cell_type": "code",
      "metadata": {
        "colab": {
          "base_uri": "https://localhost:8080/"
        },
        "id": "T_5efXrczh__",
        "outputId": "df5f2c92-9523-43e6-a833-6c20ea047828"
      },
      "source": [
        "df = df.sort(['사용일자','노선명'],ascending=True)\n",
        "df.show()"
      ],
      "execution_count": null,
      "outputs": [
        {
          "output_type": "stream",
          "name": "stdout",
          "text": [
            "+----------+------+--------------+------------+------------+--------+\n",
            "|  사용일자|노선명|          역명|승차총승객수|하차총승객수|이용객수|\n",
            "+----------+------+--------------+------------+------------+--------+\n",
            "|2018-01-01| 1호선|        소요산|        4002|        3341|    7343|\n",
            "|2018-01-01| 1호선|        신이문|        4924|        4538|    9462|\n",
            "|2018-01-01| 1호선|        동두천|        1248|        1800|    3048|\n",
            "|2018-01-01| 1호선|        서울역|       40213|       34505|   74718|\n",
            "|2018-01-01| 1호선|          보산|        1308|        1658|    2966|\n",
            "|2018-01-01| 1호선|          배방|         654|         909|    1563|\n",
            "|2018-01-01| 1호선|    동두천중앙|        2430|        2298|    4728|\n",
            "|2018-01-01| 1호선|쌍용(나사렛대)|        1324|        1450|    2774|\n",
            "|2018-01-01| 1호선|          지행|        4390|        4399|    8789|\n",
            "|2018-01-01| 1호선|        의정부|       14452|       15277|   29729|\n",
            "|2018-01-01| 1호선|          회룡|        6066|        6012|   12078|\n",
            "|2018-01-01| 1호선|신창(순천향대)|        1101|        1277|    2378|\n",
            "|2018-01-01| 1호선|        망월사|        3820|        3983|    7803|\n",
            "|2018-01-01| 1호선|          아산|        2880|        1890|    4770|\n",
            "|2018-01-01| 1호선|        도봉산|        6620|        4478|   11098|\n",
            "|2018-01-01| 1호선|          덕정|        3364|        3805|    7169|\n",
            "|2018-01-01| 1호선|          도봉|        3116|        2999|    6115|\n",
            "|2018-01-01| 1호선|          양주|        4888|        4775|    9663|\n",
            "|2018-01-01| 1호선|          방학|        5288|        5125|   10413|\n",
            "|2018-01-01| 1호선|          가능|        3791|        3567|    7358|\n",
            "+----------+------+--------------+------------+------------+--------+\n",
            "only showing top 20 rows\n",
            "\n"
          ]
        }
      ]
    },
    {
      "cell_type": "markdown",
      "metadata": {
        "id": "F4wKYH-a1wOJ"
      },
      "source": [
        "코로나 이후의 기간이 더 짧기 때문에 이전과 이후의 기간을 같게 맞춰줄 필요가 있다.<br>\n",
        "먼저 첫 확진자 발생일(2020-01-20)을 기준으로 코로나 이후 며칠의 데이터가 있는지 확인한다."
      ]
    },
    {
      "cell_type": "code",
      "metadata": {
        "colab": {
          "base_uri": "https://localhost:8080/"
        },
        "id": "Gtz807oK1vmq",
        "outputId": "e78a67ff-536b-4abf-cf09-fcc3d3f3b726"
      },
      "source": [
        "df.where(F.col('사용일자')>'2020-01-19').select('사용일자').distinct().count()"
      ],
      "execution_count": null,
      "outputs": [
        {
          "output_type": "execute_result",
          "data": {
            "text/plain": [
              "620"
            ]
          },
          "metadata": {},
          "execution_count": 7
        }
      ]
    },
    {
      "cell_type": "markdown",
      "metadata": {
        "id": "qXmXFu328F2I"
      },
      "source": [
        "2020-01-20 부터 620일이 경과했으므로, 우리는 이 이전의 620일의 데이터를 다룰 것이다. 코로나 이전의 데이터를 어느 시점부터 쓸 것인지 결정하기위해 계산을 해주었다"
      ]
    },
    {
      "cell_type": "code",
      "metadata": {
        "colab": {
          "base_uri": "https://localhost:8080/"
        },
        "id": "gWg0bmOp5-i8",
        "outputId": "a8aaf86a-871b-403a-a9b6-21a0df74e171"
      },
      "source": [
        "from datetime import datetime, timedelta\n",
        "\n",
        "datetime.strptime(\"2020-01-19\", '%Y-%m-%d') - timedelta(days=620)"
      ],
      "execution_count": null,
      "outputs": [
        {
          "output_type": "execute_result",
          "data": {
            "text/plain": [
              "datetime.datetime(2018, 5, 9, 0, 0)"
            ]
          },
          "metadata": {},
          "execution_count": 8
        }
      ]
    },
    {
      "cell_type": "markdown",
      "metadata": {
        "id": "iCh5iTT5-UN6"
      },
      "source": [
        "사람은 실수하는 생물이므로 한번 더 검사하여 이전과 이후의 기간이 같은지 확인했다."
      ]
    },
    {
      "cell_type": "code",
      "metadata": {
        "colab": {
          "base_uri": "https://localhost:8080/"
        },
        "id": "sEAkOHuy9V5V",
        "outputId": "d5f24c61-b002-452d-9840-35777a02be5d"
      },
      "source": [
        "df.where(F.col('사용일자')>'2018-05-09').select('사용일자').distinct().count()"
      ],
      "execution_count": null,
      "outputs": [
        {
          "output_type": "execute_result",
          "data": {
            "text/plain": [
              "1240"
            ]
          },
          "metadata": {},
          "execution_count": 9
        }
      ]
    },
    {
      "cell_type": "markdown",
      "metadata": {
        "id": "V8nkZx5gEv54"
      },
      "source": [
        "2018-05-09 이후의 데이터를 이용하면 정확히 620일씩 나눌 수 있음을 확인했으므로 필요없는 데이터들을 제거해준다. "
      ]
    },
    {
      "cell_type": "code",
      "metadata": {
        "id": "R8foz6TO-cdE"
      },
      "source": [
        "df = df.filter(df.사용일자 >'2018-05-09')"
      ],
      "execution_count": null,
      "outputs": []
    },
    {
      "cell_type": "code",
      "metadata": {
        "colab": {
          "base_uri": "https://localhost:8080/"
        },
        "id": "s_04wWlbFvGy",
        "outputId": "61420b2b-d6b4-4562-f5ef-e10fa0933b96"
      },
      "source": [
        "df.show()"
      ],
      "execution_count": null,
      "outputs": [
        {
          "output_type": "stream",
          "name": "stdout",
          "text": [
            "+----------+------+--------------+------------+------------+--------+\n",
            "|  사용일자|노선명|          역명|승차총승객수|하차총승객수|이용객수|\n",
            "+----------+------+--------------+------------+------------+--------+\n",
            "|2018-05-10| 1호선|          방학|       11851|       11212|   23063|\n",
            "|2018-05-10| 1호선|        도봉산|        9797|        5975|   15772|\n",
            "|2018-05-10| 1호선|          양주|       10985|        9892|   20877|\n",
            "|2018-05-10| 1호선|        망월사|       12625|       12551|   25176|\n",
            "|2018-05-10| 1호선|        서울역|       58660|       56392|  115052|\n",
            "|2018-05-10| 1호선|쌍용(나사렛대)|        3726|        3241|    6967|\n",
            "|2018-05-10| 1호선|          도봉|        7678|        7398|   15076|\n",
            "|2018-05-10| 1호선|          보산|        1883|        1761|    3644|\n",
            "|2018-05-10| 1호선|          지행|        8774|        8641|   17415|\n",
            "|2018-05-10| 1호선|          아산|        3772|        3067|    6839|\n",
            "|2018-05-10| 1호선|    동두천중앙|        4527|        4322|    8849|\n",
            "|2018-05-10| 1호선|          봉명|        1712|        1666|    3378|\n",
            "|2018-05-10| 1호선|        광운대|       12465|       11970|   24435|\n",
            "|2018-05-10| 1호선|          회룡|       15068|       14739|   29807|\n",
            "|2018-05-10| 1호선|          덕정|        9034|        8735|   17769|\n",
            "|2018-05-10| 1호선|        신이문|       11130|        9828|   20958|\n",
            "|2018-05-10| 1호선|        소요산|        4685|        3726|    8411|\n",
            "|2018-05-10| 1호선|          오산|       11629|       10918|   22547|\n",
            "|2018-05-10| 1호선|        동두천|        2936|        3688|    6624|\n",
            "|2018-05-10| 1호선|      온양온천|        4960|        5092|   10052|\n",
            "+----------+------+--------------+------------+------------+--------+\n",
            "only showing top 20 rows\n",
            "\n"
          ]
        }
      ]
    },
    {
      "cell_type": "markdown",
      "metadata": {
        "id": "3EoGH6b8NEga"
      },
      "source": [
        "이제 코로나 이전과 이후를 구분하기 위해 새로운 컬럼을 만들어준다.<br>\n",
        "새 칼럼의 데이터는 이용자 차이를 구한 후에는 필요가 없으므로 '이전'과 '이후'같은 문자열 데이터 대신, 차이를 구할 때 활용하기 위해 1과 -1로 설정하였다."
      ]
    },
    {
      "cell_type": "code",
      "metadata": {
        "id": "lS3rvkYPKZmw"
      },
      "source": [
        "df = df.withColumn('코로나', F.when(df.사용일자 > '2020-01-19', -1).otherwise(1))"
      ],
      "execution_count": null,
      "outputs": []
    },
    {
      "cell_type": "code",
      "metadata": {
        "colab": {
          "base_uri": "https://localhost:8080/"
        },
        "id": "FOBDUa9JNDFI",
        "outputId": "d380e7bd-1ac7-4b76-a469-0ea19989bd6a"
      },
      "source": [
        "df.show()"
      ],
      "execution_count": null,
      "outputs": [
        {
          "output_type": "stream",
          "name": "stdout",
          "text": [
            "+----------+------+--------------+------------+------------+--------+------+\n",
            "|  사용일자|노선명|          역명|승차총승객수|하차총승객수|이용객수|코로나|\n",
            "+----------+------+--------------+------------+------------+--------+------+\n",
            "|2018-05-10| 1호선|          방학|       11851|       11212|   23063|     1|\n",
            "|2018-05-10| 1호선|        도봉산|        9797|        5975|   15772|     1|\n",
            "|2018-05-10| 1호선|          양주|       10985|        9892|   20877|     1|\n",
            "|2018-05-10| 1호선|        망월사|       12625|       12551|   25176|     1|\n",
            "|2018-05-10| 1호선|        서울역|       58660|       56392|  115052|     1|\n",
            "|2018-05-10| 1호선|쌍용(나사렛대)|        3726|        3241|    6967|     1|\n",
            "|2018-05-10| 1호선|          도봉|        7678|        7398|   15076|     1|\n",
            "|2018-05-10| 1호선|          보산|        1883|        1761|    3644|     1|\n",
            "|2018-05-10| 1호선|          지행|        8774|        8641|   17415|     1|\n",
            "|2018-05-10| 1호선|          아산|        3772|        3067|    6839|     1|\n",
            "|2018-05-10| 1호선|    동두천중앙|        4527|        4322|    8849|     1|\n",
            "|2018-05-10| 1호선|          봉명|        1712|        1666|    3378|     1|\n",
            "|2018-05-10| 1호선|        광운대|       12465|       11970|   24435|     1|\n",
            "|2018-05-10| 1호선|          회룡|       15068|       14739|   29807|     1|\n",
            "|2018-05-10| 1호선|          덕정|        9034|        8735|   17769|     1|\n",
            "|2018-05-10| 1호선|        신이문|       11130|        9828|   20958|     1|\n",
            "|2018-05-10| 1호선|        소요산|        4685|        3726|    8411|     1|\n",
            "|2018-05-10| 1호선|          오산|       11629|       10918|   22547|     1|\n",
            "|2018-05-10| 1호선|        동두천|        2936|        3688|    6624|     1|\n",
            "|2018-05-10| 1호선|      온양온천|        4960|        5092|   10052|     1|\n",
            "+----------+------+--------------+------------+------------+--------+------+\n",
            "only showing top 20 rows\n",
            "\n"
          ]
        }
      ]
    },
    {
      "cell_type": "markdown",
      "metadata": {
        "id": "7udX9touNSy7"
      },
      "source": [
        "이제 '코로나'컬럼을 통해 코로나 이전과 이후 시기를 구분할 수 있으므로 그룹을 나누어 준다."
      ]
    },
    {
      "cell_type": "code",
      "metadata": {
        "id": "Zb7TOr0rNSOj"
      },
      "source": [
        "df2 = df.groupby('`코로나`', '`역명`').agg(F.sum('`승차총승객수`').alias('역별이용자수')).orderBy(F.desc('`역명`'))"
      ],
      "execution_count": null,
      "outputs": []
    },
    {
      "cell_type": "code",
      "metadata": {
        "colab": {
          "base_uri": "https://localhost:8080/"
        },
        "id": "XRmy3lP4Omv0",
        "outputId": "10475d60-37be-439b-ae1a-5a2393f4002f"
      },
      "source": [
        "df2.show()"
      ],
      "execution_count": null,
      "outputs": [
        {
          "output_type": "stream",
          "name": "stdout",
          "text": [
            "+------+--------------------+------------+\n",
            "|코로나|                역명|역별이용자수|\n",
            "+------+--------------------+------------+\n",
            "|     1|    흑석(중앙대입구)|     6155347|\n",
            "|    -1|    흑석(중앙대입구)|     3816069|\n",
            "|     1|          효창공원앞|     6218741|\n",
            "|    -1|          효창공원앞|     4826514|\n",
            "|    -1|    회현(남대문시장)|    11283181|\n",
            "|     1|    회현(남대문시장)|    18777734|\n",
            "|     1|                회룡|     8164715|\n",
            "|    -1|                회룡|     6276987|\n",
            "|     1|                회기|    18265333|\n",
            "|    -1|                회기|    12044998|\n",
            "|    -1|                화정|     8525525|\n",
            "|     1|                화정|    12214324|\n",
            "|     1|                화전|     1603029|\n",
            "|    -1|                화전|      822115|\n",
            "|    -1|                화서|     3647735|\n",
            "|     1|                화서|     5251906|\n",
            "|     1|화랑대(서울여대입구)|     8048587|\n",
            "|    -1|화랑대(서울여대입구)|     5573961|\n",
            "|     1|                화곡|    18541001|\n",
            "|    -1|                화곡|    14273259|\n",
            "+------+--------------------+------------+\n",
            "only showing top 20 rows\n",
            "\n"
          ]
        }
      ]
    },
    {
      "cell_type": "markdown",
      "metadata": {
        "id": "CKRHD9NZe3Y3"
      },
      "source": [
        "이제 코로나 칼럼과 역별 이용자 수를 곱하여 역별로 sum을 해주면 코로나 이전과 이후의 이용자수 추이를 알 수 있다."
      ]
    },
    {
      "cell_type": "code",
      "metadata": {
        "colab": {
          "base_uri": "https://localhost:8080/"
        },
        "id": "6OtTYZmcPd9O",
        "outputId": "e52f96eb-8332-4cfa-84bb-179959e951ee"
      },
      "source": [
        "df2 = df2.withColumn('역별이용자수차이', F.col(\"역별이용자수\")*F.col(\"코로나\"))\n",
        "df2.show()"
      ],
      "execution_count": null,
      "outputs": [
        {
          "output_type": "stream",
          "name": "stdout",
          "text": [
            "+------+--------------------+------------+----------------+\n",
            "|코로나|                역명|역별이용자수|역별이용자수차이|\n",
            "+------+--------------------+------------+----------------+\n",
            "|     1|    흑석(중앙대입구)|     6155347|         6155347|\n",
            "|    -1|    흑석(중앙대입구)|     3816069|        -3816069|\n",
            "|     1|          효창공원앞|     6218741|         6218741|\n",
            "|    -1|          효창공원앞|     4826514|        -4826514|\n",
            "|    -1|    회현(남대문시장)|    11283181|       -11283181|\n",
            "|     1|    회현(남대문시장)|    18777734|        18777734|\n",
            "|     1|                회룡|     8164715|         8164715|\n",
            "|    -1|                회룡|     6276987|        -6276987|\n",
            "|     1|                회기|    18265333|        18265333|\n",
            "|    -1|                회기|    12044998|       -12044998|\n",
            "|    -1|                화정|     8525525|        -8525525|\n",
            "|     1|                화정|    12214324|        12214324|\n",
            "|     1|                화전|     1603029|         1603029|\n",
            "|    -1|                화전|      822115|         -822115|\n",
            "|    -1|                화서|     3647735|        -3647735|\n",
            "|     1|                화서|     5251906|         5251906|\n",
            "|     1|화랑대(서울여대입구)|     8048587|         8048587|\n",
            "|    -1|화랑대(서울여대입구)|     5573961|        -5573961|\n",
            "|     1|                화곡|    18541001|        18541001|\n",
            "|    -1|                화곡|    14273259|       -14273259|\n",
            "+------+--------------------+------------+----------------+\n",
            "only showing top 20 rows\n",
            "\n"
          ]
        }
      ]
    },
    {
      "cell_type": "code",
      "metadata": {
        "id": "e6ZFX3oNYdKF"
      },
      "source": [
        "df2 = df2.groupby('`역명`').agg(F.sum('`역별이용자수차이`').alias('승차량차이')).orderBy(F.asc('`역명`'))"
      ],
      "execution_count": null,
      "outputs": []
    },
    {
      "cell_type": "markdown",
      "metadata": {
        "id": "JStzVTaefBVu"
      },
      "source": [
        "계산이 끝난 후의 dataframe을 확인하니 강일역의 이용자수가 코로나 이후에 오히려 증가했다고 나왔다.<br>\n",
        "이런 케이스가 더 있는지 where문을 활용해 살펴보았다."
      ]
    },
    {
      "cell_type": "code",
      "metadata": {
        "colab": {
          "base_uri": "https://localhost:8080/"
        },
        "id": "2U9-p7PwaJC2",
        "outputId": "4db71bf9-eaea-4cc8-e257-462243ff55d9"
      },
      "source": [
        "df2.show()"
      ],
      "execution_count": null,
      "outputs": [
        {
          "output_type": "stream",
          "name": "stdout",
          "text": [
            "+------------------+----------+\n",
            "|              역명|승차량차이|\n",
            "+------------------+----------+\n",
            "|      4.19민주묘지|    516161|\n",
            "|              가능|   1173528|\n",
            "|          가락시장|   2651961|\n",
            "|    가산디지털단지|   4640157|\n",
            "|              가양|   2815309|\n",
            "|            가오리|    508160|\n",
            "|              가좌|    691542|\n",
            "|            가천대|   2259788|\n",
            "|              가평|    595605|\n",
            "|              간석|   1163178|\n",
            "|              갈매|    164786|\n",
            "|              강남|  20206633|\n",
            "|          강남구청|   2379388|\n",
            "|              강동|   2811414|\n",
            "|          강동구청|   1478547|\n",
            "|              강매|    280532|\n",
            "|강변(동서울터미널)|  11930742|\n",
            "|              강일|   -503789|\n",
            "|              강촌|    143819|\n",
            "|              개롱|   1104870|\n",
            "+------------------+----------+\n",
            "only showing top 20 rows\n",
            "\n"
          ]
        }
      ]
    },
    {
      "cell_type": "markdown",
      "metadata": {
        "id": "nfRen0MYfP_3"
      },
      "source": [
        "아래와 같이 이용자수가 역으로 늘어난 역은 총 26개이다.<br>\n",
        "이러한 결과가 나온 이유는 이 역들이 강일역처럼 개통된지 얼마되지않았거나, 낙성대(강감찬)역처럼 중간에 역명이 바뀌었기 때문이다.<br>\n",
        "이제 숨어있는 잘못된 데이터를 찾아냈으니 수정해주어야 한다."
      ]
    },
    {
      "cell_type": "code",
      "metadata": {
        "colab": {
          "base_uri": "https://localhost:8080/"
        },
        "id": "8ZYtDYBSZ_mk",
        "outputId": "fe7c4b64-57c4-4b01-858a-f02a5e50c34e"
      },
      "source": [
        "df2.where(F.col('승차량차이')<0).select('역명').show(26)"
      ],
      "execution_count": null,
      "outputs": [
        {
          "output_type": "stream",
          "name": "stdout",
          "text": [
            "+-----------------------+\n",
            "|                   역명|\n",
            "+-----------------------+\n",
            "|                   강일|\n",
            "|                   고색|\n",
            "|         낙성대(강감찬)|\n",
            "|동대문역사문화공원(DDP)|\n",
            "|               둔촌오륜|\n",
            "|                   마곡|\n",
            "|   마곡나루(서울식물원)|\n",
            "|                   미사|\n",
            "|                   사리|\n",
            "|                   삼전|\n",
            "|                 상일동|\n",
            "|               석촌고분|\n",
            "|               송파나루|\n",
            "|                   신내|\n",
            "|                   야목|\n",
            "|                   어천|\n",
            "|                 오목천|\n",
            "|   용마산(용마폭포공원)|\n",
            "|                 임진강|\n",
            "|           중앙보훈병원|\n",
            "|                   지축|\n",
            "|               평택지제|\n",
            "|             하남검단산|\n",
            "|    하남시청(덕풍·신장)|\n",
            "|               하남풍산|\n",
            "|               한성백제|\n",
            "+-----------------------+\n",
            "\n"
          ]
        }
      ]
    },
    {
      "cell_type": "markdown",
      "metadata": {
        "id": "1KfT0ksggCoX"
      },
      "source": [
        "처음엔 모든 정거장에 대한 정보를 검색하여 문제를 해결하려 하였다."
      ]
    },
    {
      "cell_type": "code",
      "metadata": {
        "id": "bpV5-z3kf7AM"
      },
      "source": [
        "df = spark.read.parquet('/content/drive/MyDrive/data/all_metro')"
      ],
      "execution_count": null,
      "outputs": []
    },
    {
      "cell_type": "code",
      "metadata": {
        "id": "k5hTNIn2f7TN"
      },
      "source": [
        "df = df.filter(df.사용일자 >'2018-05-09')"
      ],
      "execution_count": null,
      "outputs": []
    },
    {
      "cell_type": "code",
      "metadata": {
        "colab": {
          "base_uri": "https://localhost:8080/"
        },
        "id": "P6uc0Vn0gYdO",
        "outputId": "cf8b5f0d-f213-451f-daf8-c13e33d1cbac"
      },
      "source": [
        "df.select('역명').distinct().count()"
      ],
      "execution_count": null,
      "outputs": [
        {
          "output_type": "execute_result",
          "data": {
            "text/plain": [
              "525"
            ]
          },
          "metadata": {},
          "execution_count": 22
        }
      ]
    },
    {
      "cell_type": "markdown",
      "metadata": {
        "id": "KYjsDrBRgl5e"
      },
      "source": [
        "그러나 확인하여야 하는 역명이 525개나 되어 이걸 일일히 확인하는것은 시간이 오래걸리고 위함부담도 크다.<br>\n",
        "따라서 코로나 이전과 이후 그룹으로 나누었을 때, 역에 대한 row의 개수가 차이나는 역들을 먼저 조사하기로 하였다."
      ]
    },
    {
      "cell_type": "code",
      "metadata": {
        "colab": {
          "base_uri": "https://localhost:8080/"
        },
        "id": "khejvgY2hQOp",
        "outputId": "069adf8e-e031-42a8-82cd-6193bc063419"
      },
      "source": [
        "df = df.withColumn('코로나', F.when(df.사용일자 > '2020-01-19', 1).otherwise(-1))\n",
        "df.show()"
      ],
      "execution_count": null,
      "outputs": [
        {
          "output_type": "stream",
          "name": "stdout",
          "text": [
            "+----------+----------+------------------+------------+------------+--------+------+\n",
            "|  사용일자|    노선명|              역명|승차총승객수|하차총승객수|이용객수|코로나|\n",
            "+----------+----------+------------------+------------+------------+--------+------+\n",
            "|2018-05-10|     1호선|            서울역|       58660|       56392|  115052|    -1|\n",
            "|2018-05-10|     1호선|              오산|       11629|       10918|   22547|    -1|\n",
            "|2018-05-10|우이신설선|            신설동|        1954|        2114|    4068|    -1|\n",
            "|2018-05-10|우이신설선|              보문|        1731|        1794|    3525|    -1|\n",
            "|2018-05-10|우이신설선|성신여대입구(돈암)|        4456|        4396|    8852|    -1|\n",
            "|2018-05-10|우이신설선|              정릉|        4991|        4472|    9463|    -1|\n",
            "|2018-05-10|우이신설선|      북한산보국문|        6666|        6318|   12984|    -1|\n",
            "|2018-05-10|우이신설선|              솔샘|        6207|        5802|   12009|    -1|\n",
            "|2018-05-10|우이신설선|        삼양사거리|        2586|        2862|    5448|    -1|\n",
            "|2018-05-10|우이신설선|              삼양|        2314|        2535|    4849|    -1|\n",
            "|2018-05-10|우이신설선|              화계|        3455|        3287|    6742|    -1|\n",
            "|2018-05-10|우이신설선|            가오리|        4552|        4448|    9000|    -1|\n",
            "|2018-05-10|우이신설선|      4.19민주묘지|        4369|        4445|    8814|    -1|\n",
            "|2018-05-10|우이신설선|          솔밭공원|        2562|        2518|    5080|    -1|\n",
            "|2018-05-10|우이신설선|        북한산우이|        2964|        2676|    5640|    -1|\n",
            "|2018-05-10|     9호선|        종합운동장|        7551|        6109|   13660|    -1|\n",
            "|2018-05-10|     9호선|            봉은사|       16530|       16373|   32903|    -1|\n",
            "|2018-05-10|     9호선|          삼성중앙|        6240|        6624|   12864|    -1|\n",
            "|2018-05-10|     9호선|            선정릉|        8669|        9032|   17701|    -1|\n",
            "|2018-05-10|     9호선|              언주|        9749|        9899|   19648|    -1|\n",
            "+----------+----------+------------------+------------+------------+--------+------+\n",
            "only showing top 20 rows\n",
            "\n"
          ]
        }
      ]
    },
    {
      "cell_type": "code",
      "metadata": {
        "id": "lXf3vDCMhZP6"
      },
      "source": [
        "check_df = df.groupby('`역명`', '`코로나`').agg(F.count('`사용일자`').alias('운행기간')).orderBy(F.asc('`역명`'))"
      ],
      "execution_count": null,
      "outputs": []
    },
    {
      "cell_type": "code",
      "metadata": {
        "colab": {
          "base_uri": "https://localhost:8080/"
        },
        "id": "z32Zqw8MnW38",
        "outputId": "0a4b04f9-8f0b-4e54-8237-8aac9a274729"
      },
      "source": [
        "check_df.show()"
      ],
      "execution_count": null,
      "outputs": [
        {
          "output_type": "stream",
          "name": "stdout",
          "text": [
            "+--------------+------+--------+\n",
            "|          역명|코로나|운행기간|\n",
            "+--------------+------+--------+\n",
            "|  4.19민주묘지|     1|     620|\n",
            "|  4.19민주묘지|    -1|     620|\n",
            "|          가능|    -1|     620|\n",
            "|          가능|     1|     620|\n",
            "|      가락시장|     1|    1240|\n",
            "|      가락시장|    -1|    1240|\n",
            "|가산디지털단지|    -1|    1240|\n",
            "|가산디지털단지|     1|    1240|\n",
            "|          가양|    -1|     620|\n",
            "|          가양|     1|     620|\n",
            "|        가오리|    -1|     620|\n",
            "|        가오리|     1|     620|\n",
            "|          가좌|    -1|     620|\n",
            "|          가좌|     1|     620|\n",
            "|        가천대|     1|     620|\n",
            "|        가천대|    -1|     620|\n",
            "|          가평|    -1|     620|\n",
            "|          가평|     1|     620|\n",
            "|          간석|    -1|     620|\n",
            "|          간석|     1|     620|\n",
            "+--------------+------+--------+\n",
            "only showing top 20 rows\n",
            "\n"
          ]
        }
      ]
    },
    {
      "cell_type": "markdown",
      "metadata": {
        "id": "DEDOk1exeMHR"
      },
      "source": [
        "이제 처음의 방법과 유사한 방법의로 코로나 이전과 이후의 row개수가 차이나는 역을 찾아준다."
      ]
    },
    {
      "cell_type": "code",
      "metadata": {
        "colab": {
          "base_uri": "https://localhost:8080/"
        },
        "id": "BmQ1ogd2nxCQ",
        "outputId": "8a54603a-73ac-438a-96c3-2c8d32ab468c"
      },
      "source": [
        "check_df = check_df.withColumn('row개수', F.col(\"운행기간\")*F.col(\"코로나\"))\n",
        "check_df.show()"
      ],
      "execution_count": null,
      "outputs": [
        {
          "output_type": "stream",
          "name": "stdout",
          "text": [
            "+--------------+------+--------+-------+\n",
            "|          역명|코로나|운행기간|row개수|\n",
            "+--------------+------+--------+-------+\n",
            "|  4.19민주묘지|     1|     620|    620|\n",
            "|  4.19민주묘지|    -1|     620|   -620|\n",
            "|          가능|    -1|     620|   -620|\n",
            "|          가능|     1|     620|    620|\n",
            "|      가락시장|     1|    1240|   1240|\n",
            "|      가락시장|    -1|    1240|  -1240|\n",
            "|가산디지털단지|    -1|    1240|  -1240|\n",
            "|가산디지털단지|     1|    1240|   1240|\n",
            "|          가양|    -1|     620|   -620|\n",
            "|          가양|     1|     620|    620|\n",
            "|        가오리|    -1|     620|   -620|\n",
            "|        가오리|     1|     620|    620|\n",
            "|          가좌|    -1|     620|   -620|\n",
            "|          가좌|     1|     620|    620|\n",
            "|        가천대|     1|     620|    620|\n",
            "|        가천대|    -1|     620|   -620|\n",
            "|          가평|    -1|     620|   -620|\n",
            "|          가평|     1|     620|    620|\n",
            "|          간석|    -1|     620|   -620|\n",
            "|          간석|     1|     620|    620|\n",
            "+--------------+------+--------+-------+\n",
            "only showing top 20 rows\n",
            "\n"
          ]
        }
      ]
    },
    {
      "cell_type": "code",
      "metadata": {
        "id": "oCBOHTbAn9hN"
      },
      "source": [
        "check_df = check_df.groupby('`역명`').agg(F.sum('`row개수`').alias('row차이')).orderBy(F.asc('`역명`'))"
      ],
      "execution_count": null,
      "outputs": []
    },
    {
      "cell_type": "markdown",
      "metadata": {
        "id": "MszV1P0KoJcm"
      },
      "source": [
        "이제 row차이가 0이 아닌 역들을 골라준다.<br>\n",
        "확인 결과 총 44개의 역이 검색되었다.<br>\n",
        "row차이가 양수라는 뜻은 코로나 이후의 row가 더 많다는 뜻이다."
      ]
    },
    {
      "cell_type": "code",
      "metadata": {
        "colab": {
          "base_uri": "https://localhost:8080/"
        },
        "id": "Pe3f7yc_oFxP",
        "outputId": "863c2cfa-85ba-4216-d149-9cf52a8553c0"
      },
      "source": [
        "check_df.where(F.col('row차이')!=0).select('역명', 'row차이').show(44)"
      ],
      "execution_count": null,
      "outputs": [
        {
          "output_type": "stream",
          "name": "stdout",
          "text": [
            "+-----------------------+-------+\n",
            "|                   역명|row차이|\n",
            "+-----------------------+-------+\n",
            "|                   강일|    188|\n",
            "|                   검암|    -53|\n",
            "|                   계양|    -45|\n",
            "|                   고색|    384|\n",
            "|                   공덕|     -5|\n",
            "|               김포공항|   -112|\n",
            "|                 낙성대|   -569|\n",
            "|         낙성대(강감찬)|    569|\n",
            "|     동대문역사문화공원|  -1707|\n",
            "|동대문역사문화공원(DDP)|   1707|\n",
            "|               둔촌오륜|    205|\n",
            "|       디지털미디어시티|     -9|\n",
            "|               마곡나루|   -996|\n",
            "|   마곡나루(서울식물원)|   1138|\n",
            "|                   미사|    419|\n",
            "|                   복정|    -77|\n",
            "|                   부발|     -1|\n",
            "|                   사리|    384|\n",
            "|                   삼전|    205|\n",
            "|                 서울역|   -141|\n",
            "|                   석촌|    205|\n",
            "|               석촌고분|    205|\n",
            "|             세종대왕릉|     -1|\n",
            "|               송파나루|    205|\n",
            "|                   신내|     88|\n",
            "|                   야목|    384|\n",
            "|                   어천|    384|\n",
            "|                 연신내|    -69|\n",
            "|                 오목천|    384|\n",
            "|   올림픽공원(한국체대)|    205|\n",
            "|                 용마산|   -569|\n",
            "|   용마산(용마폭포공원)|    569|\n",
            "|                 임진강|    552|\n",
            "|           중앙보훈병원|    205|\n",
            "|                   지제|   -150|\n",
            "|                   지축|     16|\n",
            "|                   창동|   -103|\n",
            "|                 충무로|   -159|\n",
            "|               평택지제|    150|\n",
            "|             하남검단산|    188|\n",
            "|    하남시청(덕풍·신장)|    188|\n",
            "|               하남풍산|    419|\n",
            "|               한성백제|    205|\n",
            "|               홍대입구|     -3|\n",
            "+-----------------------+-------+\n",
            "\n"
          ]
        }
      ]
    },
    {
      "cell_type": "markdown",
      "metadata": {
        "id": "lu_MEbfepj3F"
      },
      "source": [
        "아래는 각 역에 대한 정보를 확인하기 위한 코드이다."
      ]
    },
    {
      "cell_type": "code",
      "metadata": {
        "colab": {
          "base_uri": "https://localhost:8080/"
        },
        "id": "9ZKUvT5kt1OJ",
        "outputId": "0b6c4cdf-264b-4baf-a95d-810f217d1a40"
      },
      "source": [
        "df.where(F.col('역명')=='홍대입구').select('사용일자', '노선명', '승차총승객수').orderBy(F.asc('`사용일자`')).show()"
      ],
      "execution_count": null,
      "outputs": [
        {
          "output_type": "stream",
          "name": "stdout",
          "text": [
            "+----------+----------+------------+\n",
            "|  사용일자|    노선명|승차총승객수|\n",
            "+----------+----------+------------+\n",
            "|2018-05-10|  공항철도|        9730|\n",
            "|2018-05-10|     2호선|       79750|\n",
            "|2018-05-10|경의중앙선|        1827|\n",
            "|2018-05-11|경의중앙선|        2501|\n",
            "|2018-05-11|     2호선|       90696|\n",
            "|2018-05-11|  공항철도|       11431|\n",
            "|2018-05-12|경의중앙선|        1878|\n",
            "|2018-05-12|  공항철도|       10392|\n",
            "|2018-05-12|     2호선|       86725|\n",
            "|2018-05-13|  공항철도|       10523|\n",
            "|2018-05-13|     2호선|       82739|\n",
            "|2018-05-13|경의중앙선|        1954|\n",
            "|2018-05-14|     2호선|       72401|\n",
            "|2018-05-14|경의중앙선|        1724|\n",
            "|2018-05-14|  공항철도|        9670|\n",
            "|2018-05-15|     2호선|       76638|\n",
            "|2018-05-15|  공항철도|        9704|\n",
            "|2018-05-15|경의중앙선|        1949|\n",
            "|2018-05-16|  공항철도|        8919|\n",
            "|2018-05-16|     2호선|       68306|\n",
            "+----------+----------+------------+\n",
            "only showing top 20 rows\n",
            "\n"
          ]
        }
      ]
    },
    {
      "cell_type": "markdown",
      "metadata": {
        "id": "lTFrGXXPqM_t"
      },
      "source": [
        "44개 역에 대한 조사결과는 다음과 같다<br>\n",
        "\n",
        "|역명|이유|\n",
        "|--|--|\n",
        "|                   강일|    2021년 3월 27일부터 운행하였다.|\n",
        "|                   검암|실제로 검암역을 지나지 않는 경의중앙선이 집계가 되어있었다.|\n",
        "|                   계양|실제로 계양역을 지나지 않는 경의중앙선이 집계가 되어있었다.|\n",
        "|                   고색|2020년 9월 12일부터 운행하였다.|\n",
        "|                   공덕|경의선과 중앙선을 경의중앙선으로 통합하면서 차이가 발생했다.|\n",
        "|               김포공항|실제로 김포공항역을 지나지 않는 경의중앙선이 집계가 되어있었다.|\n",
        "|                 낙성대|역명이 변경되었다.|\n",
        "|         낙성대(강감찬)|역명이 변경되었다.|\n",
        "|     동대문역사문화공원|역명이 변경되었다.|\n",
        "|동대문역사문화공원(DDP)|역명이 변경되었다.|\n",
        "|               둔촌오륜|2018년 12월 1일부터 운행하였다.|\n",
        "|       디지털미디어시티|경의선과 중앙선을 경의중앙선으로 통합하면서 차이가 발생했다.|\n",
        "|               마곡나루|역명이 변경되었다. + 2018년 9월 29일부터 공항철도 노선이 추가로 개통되었다.|\n",
        "|   마곡나루(서울식물원)|역명이 변경되었다. + 2018년 9월 29일부터 공항철도 노선이 추가로 개통되었다.|\n",
        "|                   미사|2020년 8월 8일부터 운행하였다.|\n",
        "|                   복정|수인선과 분당선을 수인분당선으로 통합하면서 차이가 발생하였다.|\n",
        "|                   부발|2020년 8월 3월에 큰 폭우가 내려 운행이 잠시 중단되었었다.|\n",
        "|                   사리|2020년 9월 12일부터 운행을 시작하였다.|\n",
        "|                   삼전|2018년 12월 1일부터 운행을 시작하였다.|\n",
        "|                 서울역|경의선과 중앙선을 경의중앙선으로 통합하면서 차이가 발생했다.|\n",
        "|                   석촌|2018년 12월 1일부터 운행을 시작하였다.|\n",
        "|               석촌고분|2018년 12월 1일부터 운행을 시작하였다.|\n",
        "|             세종대왕릉|2020년 8월 3월에 큰 폭우가 내려 운행이 잠시 중단되었었다.|\n",
        "|               송파나루|2018년 12월 1일부터 운행을 시작하였다.|\n",
        "|                   신내|2019년 12월 21일부터 6호선 노선이 추가로 개통되었다.|\n",
        "|                   야목|2020년 9월 12일부터 운행을 시작하였다.|\n",
        "|                   어천|2020년 9월 12일부터 운행을 시작하였다.|\n",
        "|                 연신내|이 역은 개찰구가 따로 마련되어 있지 않기때문에 모든 승하차인원이 3호선으로 집계된다. 때문에 6호선으로 집계되는 항목을 따로 처리해줘야한다.|\n",
        "|                 오목천|2020년 9월 12일부터 운행을 시작하였다.|\n",
        "|   올림픽공원(한국체대)|2018년 12월 1일부터 9호선 노선이 추가로 개통되었다.|\n",
        "|                 용마산|역명이 변경되었다.|\n",
        "|   용마산(용마폭포공원)|역명이 변경되었다.|\n",
        "|                 임진강|2020년 3월 28일부터 운행을 시작하였다.|\n",
        "|           중앙보훈병원|2018년 12월 1일부터 운행을 시작하였다.|\n",
        "|                   지제|역명이 변경되었다.|\n",
        "|                   지축|일산선 노선을 3호선으로 편입하면서 차이가 발생하였다.|\n",
        "|                   창동|이 역은 개찰구가 따로 마련되어 있지 않기때문에 모든 승하차인원이 4호선으로 집계된다. 때문에 1호선으로 집계되는 항목을 따로 처리해줘야한다.|\n",
        "|                 충무로|이 역은 개찰구가 따로 마련되어 있지 않기때문에 모든 승하차인원이 4호선으로 집계된다. 때문에 3호선으로 집계되는 항목을 따로 처리해줘야한다.|\n",
        "|               평택지제|역명이 변경되었다.|\n",
        "|             하남검단산|2021년 3월 27일부터 운행을 시작하였다.|\n",
        "|    하남시청(덕풍·신장)|2021년 3월 27일부터 운행을 시작하였다.|\n",
        "|               하남풍산|2020년 8월 8일부터 운행을 시작하였다.|\n",
        "|               한성백제|2018년 12월 1일부터 운행을 시작하였다.|\n",
        "|               홍대입구|경의선과 중앙선을 경의중앙선으로 통합하면서 차이가 발생했다.|"
      ]
    },
    {
      "cell_type": "markdown",
      "metadata": {
        "id": "CYo87Gxtlmyu"
      },
      "source": [
        "해당역들의 이상원인은 다음과 같다.<br>\n",
        "case1. 같은 사용일자에 동일한 노선명이 들어감 : 기타 노선 통합과정에서 나오는 row차이<br>\n",
        "case2-1. 코로나 이후의 row가 비정상적으로 많음 : 개통한지 얼마 되지않은 노선<br>\n",
        "case2-2. 최근에 추가 개통된 환승노선<br>\n",
        "case3. 비슷한 이름의 역명이 2개 존재 : 기간 내에 역명이 변경된 사례<br>\n",
        "case4. 위의 case들에 속하진 않지만 차이가 나는 경우 : 해당 노선이 지나지 않는 역인데 기록이된 사례<br>\n",
        "case5. 특이케이스 : 2020년 8월 3일에 내린 큰 폭우로 하루동안 운행을 멈춘 사례<br>\n",
        "case6. 특이케이스 : 개찰구가 한 종류밖에 없는 환승역. 모든 이용자들이 해당 개찰구의 노선으로 기록되어야 하나 다른 노선으로 기록된 표본이 있는 사례"
      ]
    },
    {
      "cell_type": "markdown",
      "metadata": {
        "id": "YaDISSeTgZYw"
      },
      "source": [
        "case1과 case2-2는 정상적인 현상이므로 무시한다.<br>\n",
        "case2-1은 우리가 비교하려는 정보(코로나 이전과 이후의 이용량 차이)를 얻을 수 없으므로 제거해준다.(12359 rows)"
      ]
    },
    {
      "cell_type": "code",
      "metadata": {
        "id": "uKCjY5LarrgK"
      },
      "source": [
        "late_open = ['강일', '고색', '둔촌오륜', '미사', '사리', '삼전', '석촌', '석촌고분', '송파나루', '야목', '어천', '오목천', '임진강', '중앙보훈병원', '하남검단산', '하남시청(덕풍·신장)', '하남풍산', '한성백제']"
      ],
      "execution_count": null,
      "outputs": []
    },
    {
      "cell_type": "code",
      "metadata": {
        "id": "_kbJ6EMcgYRt"
      },
      "source": [
        "df = df.filter(~df.역명.isin(late_open))"
      ],
      "execution_count": null,
      "outputs": []
    },
    {
      "cell_type": "code",
      "metadata": {
        "colab": {
          "base_uri": "https://localhost:8080/"
        },
        "id": "Xbu50mdmsVD6",
        "outputId": "b2d71c71-38ed-4f02-cc8f-250bdfd64888"
      },
      "source": [
        "df.show()"
      ],
      "execution_count": null,
      "outputs": [
        {
          "output_type": "stream",
          "name": "stdout",
          "text": [
            "+----------+----------+------------------+------------+------------+--------+------+\n",
            "|  사용일자|    노선명|              역명|승차총승객수|하차총승객수|이용객수|코로나|\n",
            "+----------+----------+------------------+------------+------------+--------+------+\n",
            "|2018-05-10|     1호선|            서울역|       58660|       56392|  115052|    -1|\n",
            "|2018-05-10|     1호선|              오산|       11629|       10918|   22547|    -1|\n",
            "|2018-05-10|우이신설선|            신설동|        1954|        2114|    4068|    -1|\n",
            "|2018-05-10|우이신설선|              보문|        1731|        1794|    3525|    -1|\n",
            "|2018-05-10|우이신설선|성신여대입구(돈암)|        4456|        4396|    8852|    -1|\n",
            "|2018-05-10|우이신설선|              정릉|        4991|        4472|    9463|    -1|\n",
            "|2018-05-10|우이신설선|      북한산보국문|        6666|        6318|   12984|    -1|\n",
            "|2018-05-10|우이신설선|              솔샘|        6207|        5802|   12009|    -1|\n",
            "|2018-05-10|우이신설선|        삼양사거리|        2586|        2862|    5448|    -1|\n",
            "|2018-05-10|우이신설선|              삼양|        2314|        2535|    4849|    -1|\n",
            "|2018-05-10|우이신설선|              화계|        3455|        3287|    6742|    -1|\n",
            "|2018-05-10|우이신설선|            가오리|        4552|        4448|    9000|    -1|\n",
            "|2018-05-10|우이신설선|      4.19민주묘지|        4369|        4445|    8814|    -1|\n",
            "|2018-05-10|우이신설선|          솔밭공원|        2562|        2518|    5080|    -1|\n",
            "|2018-05-10|우이신설선|        북한산우이|        2964|        2676|    5640|    -1|\n",
            "|2018-05-10|     9호선|        종합운동장|        7551|        6109|   13660|    -1|\n",
            "|2018-05-10|     9호선|            봉은사|       16530|       16373|   32903|    -1|\n",
            "|2018-05-10|     9호선|          삼성중앙|        6240|        6624|   12864|    -1|\n",
            "|2018-05-10|     9호선|            선정릉|        8669|        9032|   17701|    -1|\n",
            "|2018-05-10|     9호선|              언주|        9749|        9899|   19648|    -1|\n",
            "+----------+----------+------------------+------------+------------+--------+------+\n",
            "only showing top 20 rows\n",
            "\n"
          ]
        }
      ]
    },
    {
      "cell_type": "markdown",
      "metadata": {
        "id": "ccBUm5_TscVs"
      },
      "source": [
        "case3은 이름이 변경된 두 역을 통합해주어야한다."
      ]
    },
    {
      "cell_type": "code",
      "metadata": {
        "id": "5wgDDm2NFQkm"
      },
      "source": [
        "change_target = ['낙성대', '동대문역사문화공원', '마곡나루', '용마산', '지제']"
      ],
      "execution_count": null,
      "outputs": []
    },
    {
      "cell_type": "code",
      "metadata": {
        "id": "PHHLCnMJsbze"
      },
      "source": [
        "df = df.withColumn(\"역명\", F.when(df.역명 == \"낙성대\",\"낙성대(강감찬)\").otherwise(df.역명))\n",
        "df = df.withColumn(\"역명\", F.when(df.역명 == \"동대문역사문화공원\",\"동대문역사문화공원(DDP)\").otherwise(df.역명))\n",
        "df = df.withColumn(\"역명\", F.when(df.역명 == \"마곡나루\",\"마곡나루(서울식물원)\").otherwise(df.역명))\n",
        "df = df.withColumn(\"역명\", F.when(df.역명 == \"용마산\",\"용마산(용마폭포공원)\").otherwise(df.역명))\n",
        "df = df.withColumn(\"역명\", F.when(df.역명 == \"지제\",\"평택지제\").otherwise(df.역명))"
      ],
      "execution_count": null,
      "outputs": []
    },
    {
      "cell_type": "markdown",
      "metadata": {
        "id": "otLsCWcdB_28"
      },
      "source": [
        "혹시 지워지지 않은 역이 있는지 확인"
      ]
    },
    {
      "cell_type": "code",
      "metadata": {
        "colab": {
          "base_uri": "https://localhost:8080/"
        },
        "id": "yHoS1l21HnTb",
        "outputId": "4a75edf0-aa71-4649-e594-5db3ee2803c6"
      },
      "source": [
        "df.filter(df.역명.isin(change_target)).show()"
      ],
      "execution_count": null,
      "outputs": [
        {
          "output_type": "stream",
          "name": "stdout",
          "text": [
            "+--------+------+----+------------+------------+--------+------+\n",
            "|사용일자|노선명|역명|승차총승객수|하차총승객수|이용객수|코로나|\n",
            "+--------+------+----+------------+------------+--------+------+\n",
            "+--------+------+----+------------+------------+--------+------+\n",
            "\n"
          ]
        }
      ]
    },
    {
      "cell_type": "markdown",
      "metadata": {
        "id": "yk8k7x2LH2mZ"
      },
      "source": [
        "case4는 통상적으로 있어선 안되는 데이터 이므로 제거를 해주어야 한다.(444 rows)\n",
        "case5는 "
      ]
    },
    {
      "cell_type": "code",
      "metadata": {
        "id": "NuveDQzFH_Bl"
      },
      "source": [
        "strange_target = ['검암', '계양', '김포공항']"
      ],
      "execution_count": null,
      "outputs": []
    },
    {
      "cell_type": "code",
      "metadata": {
        "id": "5s4yTsh_IYzZ"
      },
      "source": [
        "df = df.filter(~(df.노선명.isin('경의중앙선') & df.역명.isin(strange_target)))"
      ],
      "execution_count": null,
      "outputs": []
    },
    {
      "cell_type": "markdown",
      "metadata": {
        "id": "wl18dZvxCHd9"
      },
      "source": [
        "혹시 지워지지 않은 역이 있는지 확인(모두 경의중앙선이므로 한번에 확인할 수 있다.)"
      ]
    },
    {
      "cell_type": "code",
      "metadata": {
        "colab": {
          "base_uri": "https://localhost:8080/"
        },
        "id": "BylNidbiKDRe",
        "outputId": "5617019f-03b6-4da1-f1ef-2281c12f1de3"
      },
      "source": [
        "df.filter(df.역명.isin(strange_target)).filter(df.노선명.isin('경의중앙선')).show()"
      ],
      "execution_count": null,
      "outputs": [
        {
          "output_type": "stream",
          "name": "stdout",
          "text": [
            "+--------+------+----+------------+------------+--------+------+\n",
            "|사용일자|노선명|역명|승차총승객수|하차총승객수|이용객수|코로나|\n",
            "+--------+------+----+------------+------------+--------+------+\n",
            "+--------+------+----+------------+------------+--------+------+\n",
            "\n"
          ]
        }
      ]
    },
    {
      "cell_type": "markdown",
      "metadata": {
        "id": "MsYlPUlrOWir"
      },
      "source": [
        "이제 row개수를 확인하여 제대로 처리가 되었는지 검토한다.<br>\n",
        "우리는 총 734412 row 중 해당 역이 늦게 개통하여 사용할 수 없는 12359 row와 해당노선이 지나지 않는 역이 기록된 444 row를 제거하였다.<br>\n",
        "즉 총 721609의 row가 남아있어야한다."
      ]
    },
    {
      "cell_type": "code",
      "metadata": {
        "colab": {
          "base_uri": "https://localhost:8080/"
        },
        "id": "Nf9rjFMdOuCG",
        "outputId": "ce0aa1c4-d39c-4433-9f5d-f0dfff7bb5fe"
      },
      "source": [
        "df.count()"
      ],
      "execution_count": null,
      "outputs": [
        {
          "output_type": "execute_result",
          "data": {
            "text/plain": [
              "721609"
            ]
          },
          "metadata": {},
          "execution_count": 39
        }
      ]
    },
    {
      "cell_type": "markdown",
      "metadata": {
        "id": "8uao4F9XRd4e"
      },
      "source": [
        "특이 케이스(case5, case6)에서 잘못집계되는 지하철역(운행중지, 집계오류)의 존재를 인지하게 되었다.<br>\n",
        "filter를 통해 단순히 이용인원이 일정 수 이하인 노선을 제거할수도 있지만, 단순히 이용객이 적을 뿐인 노선일수도 있으므로 최소한의 검증을 해보았다.<br>\n",
        "통상적으로 최소한 10명 이상의 인원이 지하철역을 이용했으리라 기대되므로 10명을 기준으로 설정하였다."
      ]
    },
    {
      "cell_type": "code",
      "metadata": {
        "colab": {
          "base_uri": "https://localhost:8080/"
        },
        "id": "LNPqzdC8R4WM",
        "outputId": "0a23e383-9cc2-46bc-a15d-d59970991d02"
      },
      "source": [
        "df.filter(df.이용객수<10).select('노선명', '역명').distinct().show()"
      ],
      "execution_count": null,
      "outputs": [
        {
          "output_type": "stream",
          "name": "stdout",
          "text": [
            "+----------+----------------+\n",
            "|    노선명|            역명|\n",
            "+----------+----------------+\n",
            "|    경강선|            여주|\n",
            "|경의중앙선|디지털미디어시티|\n",
            "|    경강선|      세종대왕릉|\n",
            "|경의중앙선|            공덕|\n",
            "|수인분당선|            복정|\n",
            "|경의중앙선|          서울역|\n",
            "|경의중앙선|        홍대입구|\n",
            "|     6호선|          연신내|\n",
            "|     3호선|          충무로|\n",
            "|     1호선|            창동|\n",
            "|     6호선|            신내|\n",
            "|    경강선|            이천|\n",
            "|     3호선|            지축|\n",
            "|    경강선|            부발|\n",
            "+----------+----------------+\n",
            "\n"
          ]
        }
      ]
    },
    {
      "cell_type": "markdown",
      "metadata": {
        "id": "PEFSD6kAFGci"
      },
      "source": [
        "총 14개의 노선-역의 조합이 일간 사용자가 10명 미만으로 집계되었다.<br>\n",
        "이제 원본파일과 데이터프레임을 이용하여 이상치의 원인을 알아보면 된다."
      ]
    },
    {
      "cell_type": "code",
      "metadata": {
        "colab": {
          "base_uri": "https://localhost:8080/"
        },
        "id": "mF_eCI0ZXOGA",
        "outputId": "91ca3d41-f5e1-4dcb-d26d-d40100b32d11"
      },
      "source": [
        "# 각 역의 정보를 확인해보기 위한 코드\n",
        "df.filter(df.노선명.isin('1호선')).filter(df.역명.isin('창동')).show()"
      ],
      "execution_count": null,
      "outputs": [
        {
          "output_type": "stream",
          "name": "stdout",
          "text": [
            "+----------+------+----+------------+------------+--------+------+\n",
            "|  사용일자|노선명|역명|승차총승객수|하차총승객수|이용객수|코로나|\n",
            "+----------+------+----+------------+------------+--------+------+\n",
            "|2018-05-10| 1호선|창동|           1|           0|       1|    -1|\n",
            "|2018-05-12| 1호선|창동|           2|           0|       2|    -1|\n",
            "|2018-05-13| 1호선|창동|           2|           0|       2|    -1|\n",
            "|2018-05-16| 1호선|창동|           1|           0|       1|    -1|\n",
            "|2018-05-21| 1호선|창동|           1|           0|       1|    -1|\n",
            "|2018-05-25| 1호선|창동|           3|           0|       3|    -1|\n",
            "|2018-05-27| 1호선|창동|           1|           0|       1|    -1|\n",
            "|2018-05-30| 1호선|창동|           3|           0|       3|    -1|\n",
            "|2018-05-31| 1호선|창동|           1|           0|       1|    -1|\n",
            "|2018-06-01| 1호선|창동|           1|           0|       1|    -1|\n",
            "|2018-06-02| 1호선|창동|           3|           0|       3|    -1|\n",
            "|2018-06-04| 1호선|창동|           1|           0|       1|    -1|\n",
            "|2018-06-09| 1호선|창동|           1|           0|       1|    -1|\n",
            "|2018-06-10| 1호선|창동|           1|           0|       1|    -1|\n",
            "|2018-06-12| 1호선|창동|           1|           0|       1|    -1|\n",
            "|2018-06-14| 1호선|창동|           1|           0|       1|    -1|\n",
            "|2018-06-17| 1호선|창동|           2|           0|       2|    -1|\n",
            "|2018-06-18| 1호선|창동|           1|           0|       1|    -1|\n",
            "|2018-06-20| 1호선|창동|           1|           0|       1|    -1|\n",
            "|2018-06-22| 1호선|창동|           1|           0|       1|    -1|\n",
            "+----------+------+----+------------+------------+--------+------+\n",
            "only showing top 20 rows\n",
            "\n"
          ]
        }
      ]
    },
    {
      "cell_type": "markdown",
      "metadata": {
        "id": "w7RH58cUFmX6"
      },
      "source": [
        "확인결과 원인은 다음과 같았다.\n",
        "\n",
        "|노선명|역명|원인|\n",
        "|--|--|--|\n",
        "|3호선|지축|집계오류(같은날에 2건이 집계됨)|\n",
        "|경의중앙선|서울역|집계오류(같은날에 2건이 집계됨)|\n",
        "|경의중앙선|공덕|집계오류(같은날에 2건이 집계됨)|\n",
        "|경의중앙선|디지털미디어시티|집계오류(같은날에 2건이 집계됨)|\n",
        "|경의중앙선|홍대입구|집계오류(같은날에 2건이 집계됨)|\n",
        "|1호선|창동|해당 노선의 개찰구가 없는데 집계됨|\n",
        "|3호선|충무로|해당 노선의 개찰구가 없는데 집계됨|\n",
        "|6호선|신내|해당 노선의 개찰구가 없는데 집계됨|\n",
        "|6호선|연신내|해당 노선의 개찰구가 없는데 집계됨|\n",
        "|수인분당선|복정|해당 노선의 개찰구가 없는데 집계됨|\n",
        "|경강선|부발|폭우로 인한 운행 중지|\n",
        "|경강선|세종대왕릉|폭우로 인한 운행 중지|\n",
        "|경강선|여주|폭우로 인한 운행 중지|\n",
        "|경강선|이천|폭우로 인한 운행 중지|\n"
      ]
    },
    {
      "cell_type": "markdown",
      "metadata": {
        "id": "zhlXeQxSILKY"
      },
      "source": [
        "3호선 지축역~ 경의중앙선 홍대입구역은 원래 매일 하나의 이용객 데이터가 존재하여야하는데 2개 이상의 데이터가 존재한 경우다.<br>\n",
        "확인결과 10명 미만의 이용객이 추가로 집계된 데이터가 298건 존재하였다.<br>\n",
        "이는 비정상적인 데이터이므로 10명미만의 데이터를 삭제를 해주었다."
      ]
    },
    {
      "cell_type": "code",
      "metadata": {
        "id": "swuH5d8iL_6c"
      },
      "source": [
        "strange_station = ['지축', '서울역', '공덕', '디지털미디어시티', '홍대입구']"
      ],
      "execution_count": null,
      "outputs": []
    },
    {
      "cell_type": "code",
      "metadata": {
        "id": "dBrdoF5yFh-E"
      },
      "source": [
        "df = df.filter(~(df.노선명.isin(['3호선', '경의중앙선']) & df.역명.isin(strange_station) & df.이용객수.isin(list(range(10)))))"
      ],
      "execution_count": null,
      "outputs": []
    },
    {
      "cell_type": "code",
      "metadata": {
        "colab": {
          "base_uri": "https://localhost:8080/"
        },
        "id": "T9nJmKbXOu5M",
        "outputId": "e8dc2b04-64a5-444d-84a3-113b6ba67c3b"
      },
      "source": [
        "df.count()"
      ],
      "execution_count": null,
      "outputs": [
        {
          "output_type": "execute_result",
          "data": {
            "text/plain": [
              "721311"
            ]
          },
          "metadata": {},
          "execution_count": 44
        }
      ]
    },
    {
      "cell_type": "markdown",
      "metadata": {
        "id": "UlaKI_yJJ9ct"
      },
      "source": [
        "1호선 창동역 ~ 6호선 연신내역은 환승역이지만 한 종류의 개찰구 밖에 없어 단일노선만 집계되어야 하는 역이다.<br>\n",
        "그러나 확인결과 다른노선의 사용인원도 존재하였다.<br>\n",
        "이는 비정상적인 데이터이므로 전체를 삭제하였다."
      ]
    },
    {
      "cell_type": "code",
      "metadata": {
        "colab": {
          "base_uri": "https://localhost:8080/"
        },
        "id": "t2ujpb4pJ9re",
        "outputId": "a377d090-d101-4f9f-8694-a87f354e6bfa"
      },
      "source": [
        "df.filter((df.노선명.isin('1호선') & df.역명.isin('창동'))).count()"
      ],
      "execution_count": null,
      "outputs": [
        {
          "output_type": "execute_result",
          "data": {
            "text/plain": [
              "427"
            ]
          },
          "metadata": {},
          "execution_count": 45
        }
      ]
    },
    {
      "cell_type": "code",
      "metadata": {
        "id": "saXZHE4yQe-h"
      },
      "source": [
        "df = df.filter(~(df.노선명.isin('1호선') & df.역명.isin('창동')))"
      ],
      "execution_count": null,
      "outputs": []
    },
    {
      "cell_type": "code",
      "metadata": {
        "colab": {
          "base_uri": "https://localhost:8080/"
        },
        "id": "CKjsOHHsQkCH",
        "outputId": "5531cd2e-0f96-4588-8b66-8e5c4580733b"
      },
      "source": [
        "df.filter((df.노선명.isin('3호선') & df.역명.isin('충무로'))).count()"
      ],
      "execution_count": null,
      "outputs": [
        {
          "output_type": "execute_result",
          "data": {
            "text/plain": [
              "857"
            ]
          },
          "metadata": {},
          "execution_count": 47
        }
      ]
    },
    {
      "cell_type": "code",
      "metadata": {
        "id": "4MvZeD3TQ83y"
      },
      "source": [
        "df = df.filter(~(df.노선명.isin('3호선') & df.역명.isin('충무로')))"
      ],
      "execution_count": null,
      "outputs": []
    },
    {
      "cell_type": "code",
      "metadata": {
        "colab": {
          "base_uri": "https://localhost:8080/"
        },
        "id": "R0yFOO8cRBPz",
        "outputId": "a8348226-757d-48d6-e11f-264ccd26da7b"
      },
      "source": [
        "df.filter((df.노선명.isin('6호선') & df.역명.isin(['신내', '연신내']))).count()"
      ],
      "execution_count": null,
      "outputs": [
        {
          "output_type": "execute_result",
          "data": {
            "text/plain": [
              "665"
            ]
          },
          "metadata": {},
          "execution_count": 49
        }
      ]
    },
    {
      "cell_type": "code",
      "metadata": {
        "id": "Lma1NmfgRIrA"
      },
      "source": [
        "df = df.filter(~(df.노선명.isin('6호선') & df.역명.isin(['신내', '연신내'])))"
      ],
      "execution_count": null,
      "outputs": []
    },
    {
      "cell_type": "code",
      "metadata": {
        "colab": {
          "base_uri": "https://localhost:8080/"
        },
        "id": "-gKH27wtRNIA",
        "outputId": "367fd7f5-0e92-46d5-f5ec-47c5872b01f5"
      },
      "source": [
        "df.filter((df.노선명.isin('수인분당선') & df.역명.isin('복정'))).count()"
      ],
      "execution_count": null,
      "outputs": [
        {
          "output_type": "execute_result",
          "data": {
            "text/plain": [
              "477"
            ]
          },
          "metadata": {},
          "execution_count": 51
        }
      ]
    },
    {
      "cell_type": "code",
      "metadata": {
        "id": "6xLgBf9LfbGi"
      },
      "source": [
        "df = df.filter(~(df.노선명.isin('수인분당선') & df.역명.isin('복정')))"
      ],
      "execution_count": null,
      "outputs": []
    },
    {
      "cell_type": "markdown",
      "metadata": {
        "id": "oFNPE4XGfjFI"
      },
      "source": [
        "경강선 노선은 2020년 8월 3일의 호우로 인해 운행이 잠시 중단되었었다.<br>\n",
        "회귀를 통해 결측치를 메워볼까해서 팀원들의 의견을 모아본 결과, 결과분석에 주는 영향이 미미하므로 제거하기로 하였다."
      ]
    },
    {
      "cell_type": "code",
      "metadata": {
        "id": "kRx1u723-HrK",
        "colab": {
          "base_uri": "https://localhost:8080/"
        },
        "outputId": "f0da8e40-185e-4579-d656-f912cb46ec20"
      },
      "source": [
        "df.filter((df.이용객수.isin(list(range(10))) & df.노선명.isin('경강선') & df.역명.isin(['이천', '부발', '세종대왕릉', '여주']))).count()"
      ],
      "execution_count": null,
      "outputs": [
        {
          "output_type": "execute_result",
          "data": {
            "text/plain": [
              "6"
            ]
          },
          "metadata": {},
          "execution_count": 53
        }
      ]
    },
    {
      "cell_type": "code",
      "metadata": {
        "id": "YRx_gw2Rux_L"
      },
      "source": [
        "df = df.filter(~(df.이용객수.isin(list(range(10))) & df.노선명.isin('경강선') & df.역명.isin(['이천', '부발', '세종대왕릉', '여주'])))"
      ],
      "execution_count": null,
      "outputs": []
    },
    {
      "cell_type": "markdown",
      "metadata": {
        "id": "w_oMt-6B_kwb"
      },
      "source": [
        "남아있는 이상치(이용객수 10명 미만) 확인"
      ]
    },
    {
      "cell_type": "code",
      "metadata": {
        "colab": {
          "base_uri": "https://localhost:8080/"
        },
        "id": "MB-zKL_g-G2L",
        "outputId": "dd431de1-c2ce-492d-a7da-33877a6e7795"
      },
      "source": [
        "df.filter(df.이용객수<10).show()"
      ],
      "execution_count": null,
      "outputs": [
        {
          "output_type": "stream",
          "name": "stdout",
          "text": [
            "+--------+------+----+------------+------------+--------+------+\n",
            "|사용일자|노선명|역명|승차총승객수|하차총승객수|이용객수|코로나|\n",
            "+--------+------+----+------------+------------+--------+------+\n",
            "+--------+------+----+------------+------------+--------+------+\n",
            "\n"
          ]
        }
      ]
    },
    {
      "cell_type": "code",
      "metadata": {
        "id": "tjgGApnpjrJE"
      },
      "source": [
        "# 중간저장을 위한 코드\n",
        "# df.write.parquet('/content/drive/MyDrive/data/중간저장/preprocessing')"
      ],
      "execution_count": null,
      "outputs": []
    },
    {
      "cell_type": "code",
      "metadata": {
        "id": "pbujJ6KB_4J0",
        "colab": {
          "base_uri": "https://localhost:8080/"
        },
        "outputId": "215a4937-b3be-4cc0-ac82-c29de9109a47"
      },
      "source": [
        "# 중간저장을 불러오기 위한 코드\n",
        "df = spark.read.format(\"parquet\").option(\"header\", True).load(\"/content/drive/MyDrive/data/중간저장/preprocessing\")\n",
        "df"
      ],
      "execution_count": null,
      "outputs": [
        {
          "output_type": "execute_result",
          "data": {
            "text/plain": [
              "DataFrame[사용일자: date, 노선명: string, 역명: string, 승차총승객수: int, 하차총승객수: int, 이용객수: int, 코로나: int]"
            ]
          },
          "metadata": {},
          "execution_count": 3
        }
      ]
    },
    {
      "cell_type": "code",
      "metadata": {
        "colab": {
          "base_uri": "https://localhost:8080/"
        },
        "id": "bV3ZK4GnE6I4",
        "outputId": "ddcaed24-9217-40bc-f2dc-03ed5d373aba"
      },
      "source": [
        "df.show()"
      ],
      "execution_count": null,
      "outputs": [
        {
          "output_type": "stream",
          "name": "stdout",
          "text": [
            "+----------+----------+------------------+------------+------------+--------+------+\n",
            "|  사용일자|    노선명|              역명|승차총승객수|하차총승객수|이용객수|코로나|\n",
            "+----------+----------+------------------+------------+------------+--------+------+\n",
            "|2018-05-10|     1호선|            서울역|       58660|       56392|  115052|    -1|\n",
            "|2018-05-10|     1호선|              오산|       11629|       10918|   22547|    -1|\n",
            "|2018-05-10|우이신설선|            신설동|        1954|        2114|    4068|    -1|\n",
            "|2018-05-10|우이신설선|              보문|        1731|        1794|    3525|    -1|\n",
            "|2018-05-10|우이신설선|성신여대입구(돈암)|        4456|        4396|    8852|    -1|\n",
            "|2018-05-10|우이신설선|              정릉|        4991|        4472|    9463|    -1|\n",
            "|2018-05-10|우이신설선|      북한산보국문|        6666|        6318|   12984|    -1|\n",
            "|2018-05-10|우이신설선|              솔샘|        6207|        5802|   12009|    -1|\n",
            "|2018-05-10|우이신설선|        삼양사거리|        2586|        2862|    5448|    -1|\n",
            "|2018-05-10|우이신설선|              삼양|        2314|        2535|    4849|    -1|\n",
            "|2018-05-10|우이신설선|              화계|        3455|        3287|    6742|    -1|\n",
            "|2018-05-10|우이신설선|            가오리|        4552|        4448|    9000|    -1|\n",
            "|2018-05-10|우이신설선|      4.19민주묘지|        4369|        4445|    8814|    -1|\n",
            "|2018-05-10|우이신설선|          솔밭공원|        2562|        2518|    5080|    -1|\n",
            "|2018-05-10|우이신설선|        북한산우이|        2964|        2676|    5640|    -1|\n",
            "|2018-05-10|     9호선|        종합운동장|        7551|        6109|   13660|    -1|\n",
            "|2018-05-10|     9호선|            봉은사|       16530|       16373|   32903|    -1|\n",
            "|2018-05-10|     9호선|          삼성중앙|        6240|        6624|   12864|    -1|\n",
            "|2018-05-10|     9호선|            선정릉|        8669|        9032|   17701|    -1|\n",
            "|2018-05-10|     9호선|              언주|        9749|        9899|   19648|    -1|\n",
            "+----------+----------+------------------+------------+------------+--------+------+\n",
            "only showing top 20 rows\n",
            "\n"
          ]
        }
      ]
    },
    {
      "cell_type": "markdown",
      "metadata": {
        "id": "NZzC6x0vFiw1"
      },
      "source": [
        "지하철 위도, 경도를 저장한 파일을 불러옴"
      ]
    },
    {
      "cell_type": "code",
      "metadata": {
        "id": "SQJUkMIWFL4G"
      },
      "source": [
        "station_locate = spark.read.format(\"csv\").option(\"header\", True).load(\"/content/drive/MyDrive/data/station_coordinate.csv\", encoding='utf-8')"
      ],
      "execution_count": null,
      "outputs": []
    },
    {
      "cell_type": "code",
      "metadata": {
        "colab": {
          "base_uri": "https://localhost:8080/"
        },
        "id": "d3gLxfr_FrLc",
        "outputId": "3d84d121-336d-42ab-ace1-4e67d2d650fe"
      },
      "source": [
        "# 데이터확인. line: 노선명 | name: 역명 | code: 역코드 | lat: 위도 | lng: 경도\n",
        "station_locate"
      ],
      "execution_count": null,
      "outputs": [
        {
          "output_type": "execute_result",
          "data": {
            "text/plain": [
              "DataFrame[line: string, name: string, code: string, lat: string, lng: string]"
            ]
          },
          "metadata": {},
          "execution_count": 86
        }
      ]
    },
    {
      "cell_type": "code",
      "metadata": {
        "id": "_g1sQH_9FiD4"
      },
      "source": [
        "# 불러온 위치 데이터에서는 역명을 기록한 칼럼의 이름이 'name'이라 되어있다. 후에 join을 하기위해 컬럼명을 '역명'이라고 통일해준다.\n",
        "station_locate = station_locate.withColumnRenamed(\"name\", \"역명\")"
      ],
      "execution_count": null,
      "outputs": []
    },
    {
      "cell_type": "code",
      "metadata": {
        "id": "BuodcFrEHlMH"
      },
      "source": [
        "# 필요한 칼럼만 추려낸다.\n",
        "station_locate = station_locate.select('역명', 'lat', 'lng').distinct()"
      ],
      "execution_count": null,
      "outputs": []
    },
    {
      "cell_type": "code",
      "metadata": {
        "colab": {
          "base_uri": "https://localhost:8080/"
        },
        "id": "0nWO_8EFHdir",
        "outputId": "aff9fef2-484a-4db3-f1d4-b5d6e0aa2b79"
      },
      "source": [
        "station_locate.count()"
      ],
      "execution_count": null,
      "outputs": [
        {
          "output_type": "execute_result",
          "data": {
            "text/plain": [
              "616"
            ]
          },
          "metadata": {},
          "execution_count": 9
        }
      ]
    },
    {
      "cell_type": "code",
      "metadata": {
        "id": "6RkQ5pymJcDs"
      },
      "source": [
        "# 위치 데이터가 얼추 준비되었으므로 다시 역별 이용자수 데이터로 돌아옴.\n",
        "# 코로나 이전과 이후의 이용자 차이를 sum함수를 구하기위해 -1과 1로 구분된 '코로나' 칼럼을 이용함\n",
        "# 역별이용자수 칼럼은 코로나 이전의 이용자수를 음수로, 코로나 이후의 이용자수를 양수로 저장했다.\n",
        "df2 = df.withColumn('역별이용자수', F.col(\"이용객수\")*F.col(\"코로나\"))"
      ],
      "execution_count": null,
      "outputs": []
    },
    {
      "cell_type": "code",
      "metadata": {
        "id": "shuxKWerJptE"
      },
      "source": [
        "# sum을 이용해 코로나 이전과 이후의 역별이용자수차이를 구해주어 '이용자수차이' 칼럼에 저장한다.\n",
        "df2 = df2.groupby('`역명`').agg(F.sum('`역별이용자수`').alias('이용자수차이')).orderBy(F.asc('`역명`'))"
      ],
      "execution_count": null,
      "outputs": []
    },
    {
      "cell_type": "markdown",
      "metadata": {
        "id": "UEzMNoOfOBt1"
      },
      "source": [
        "이제 코로나 이후 이용자가 증가한 역을 조사해보자(놓친 오류가 있을수도 있으므로)"
      ]
    },
    {
      "cell_type": "code",
      "metadata": {
        "colab": {
          "base_uri": "https://localhost:8080/"
        },
        "id": "fu-lkNK1Km-l",
        "outputId": "c5931cbe-c8fb-41d5-e1d5-e0fa42302b23"
      },
      "source": [
        "df2.where(F.col('이용자수차이')>0).show()"
      ],
      "execution_count": null,
      "outputs": [
        {
          "output_type": "stream",
          "name": "stdout",
          "text": [
            "+--------------------+------------+\n",
            "|                역명|이용자수차이|\n",
            "+--------------------+------------+\n",
            "|                마곡|      524605|\n",
            "|마곡나루(서울식물원)|     1567607|\n",
            "|              상일동|      491220|\n",
            "|                신내|      489762|\n",
            "|                지축|     1805136|\n",
            "+--------------------+------------+\n",
            "\n"
          ]
        }
      ]
    },
    {
      "cell_type": "markdown",
      "metadata": {
        "id": "JmOPHSKQOEqj"
      },
      "source": [
        "조사결과 해당 역들의 이용객 증가 사유는 다음과 같다.\n",
        "\n",
        "|역명|이유|\n",
        "|--|--|\n",
        "|마곡|최근에도 개발중이 진행중인 지구로 이용자수가 점점 늘어나고있음|\n",
        "|마곡나루(서울식물원)|개발중인 지구 + 공항철도의 추가 개통으로 이용자수가 증가함|\n",
        "|상일동|출퇴근시간대에 미사강변도시나 강일동에서 상일동역을 이용하는데 그 입주민 수가 증가함(예측)|\n",
        "|신내|6호선의 추가 개통으로 이용자수가 증가함|\n",
        "|지축|기존엔 이용객이 저조한 편이였으나 주변일대의 개발로 이용자수가 늘어남|"
      ]
    },
    {
      "cell_type": "markdown",
      "metadata": {
        "id": "Ff1lKeFdeQl1"
      },
      "source": [
        "데이터는 이상이 없다 판단되므로, 이제 '역명' 칼럼에 left outer join을 이용해 위도와 경도 컬럼을 추가해 주자."
      ]
    },
    {
      "cell_type": "code",
      "metadata": {
        "id": "DG5fnS0yeeA4"
      },
      "source": [
        "df = df2.join(station_locate, on='역명', how='left')"
      ],
      "execution_count": null,
      "outputs": []
    },
    {
      "cell_type": "markdown",
      "metadata": {
        "id": "B0XawoENgchV"
      },
      "source": [
        "기존 데이터와 위도경도 데이터의 역명이 다르면(혹은 정보가 없다면) Null값이 생성되었을 것이다. 이러한 역들을 파악해보자."
      ]
    },
    {
      "cell_type": "code",
      "metadata": {
        "colab": {
          "base_uri": "https://localhost:8080/"
        },
        "id": "pRfjGrlIf4_n",
        "outputId": "40b77bc1-d0d6-4542-f89d-bf562ea85b0d"
      },
      "source": [
        "df.where(F.col('lat').isNull()==True).count()"
      ],
      "execution_count": null,
      "outputs": [
        {
          "output_type": "execute_result",
          "data": {
            "text/plain": [
              "63"
            ]
          },
          "metadata": {},
          "execution_count": 16
        }
      ]
    },
    {
      "cell_type": "markdown",
      "metadata": {
        "id": "Mu6fjo29gk-M"
      },
      "source": [
        "예상보다 많은 역이 나와 당황했다... 어떤 역들이 있는지 확인하여 처리하자."
      ]
    },
    {
      "cell_type": "code",
      "metadata": {
        "colab": {
          "base_uri": "https://localhost:8080/"
        },
        "id": "Dqy4SlJLgqU3",
        "outputId": "65f2d965-f6e2-406b-e1bc-8365232388e5"
      },
      "source": [
        "df.where(F.col('lat').isNull()==True).select('역명').show(63)"
      ],
      "execution_count": null,
      "outputs": [
        {
          "output_type": "stream",
          "name": "stdout",
          "text": [
            "+-----------------------------+\n",
            "|                         역명|\n",
            "+-----------------------------+\n",
            "|           충정로(경기대입구)|\n",
            "|             안암(고대병원앞)|\n",
            "|               천호(풍납토성)|\n",
            "|               신창(순천향대)|\n",
            "|           봉화산(서울의료원)|\n",
            "|         광화문(세종문화회관)|\n",
            "|         마곡나루(서울식물원)|\n",
            "|         어린이대공원(세종대)|\n",
            "|         경복궁(정부서울청사)|\n",
            "|         상봉(시외버스터미널)|\n",
            "|             왕십리(성동구청)|\n",
            "|            교대(법원.검찰청)|\n",
            "|남한산성입구(성남법원.검찰청)|\n",
            "|               수유(강북구청)|\n",
            "|           월드컵경기장(성산)|\n",
            "|               쌍용(나사렛대)|\n",
            "|       청량리(서울시립대입구)|\n",
            "|           숭실대입구(살피재)|\n",
            "|             총신대입구(이수)|\n",
            "|                 동작(현충원)|\n",
            "|                   새절(신사)|\n",
            "|           강변(동서울터미널)|\n",
            "|           몽촌토성(평화의문)|\n",
            "|     아차산(어린이대공원후문)|\n",
            "|                 고려대(종암)|\n",
            "|               증산(명지대앞)|\n",
            "|                 광흥창(서강)|\n",
            "|         서울대입구(관악구청)|\n",
            "|                   군자(능동)|\n",
            "|         오목교(목동운동장앞)|\n",
            "|                 신정(은행정)|\n",
            "|               잠실(송파구청)|\n",
            "|         미아(서울사이버대학)|\n",
            "|               삼성(무역센터)|\n",
            "|               대림(구로구청)|\n",
            "|             회현(남대문시장)|\n",
            "|                       서울역|\n",
            "|                 4.19민주묘지|\n",
            "|               구의(광진구청)|\n",
            "|         용마산(용마폭포공원)|\n",
            "|       남부터미널(예술의전당)|\n",
            "|         화랑대(서울여대입구)|\n",
            "|             녹사평(용산구청)|\n",
            "|              인천공항1터미널|\n",
            "|             용두(동대문구청)|\n",
            "|              인천공항2터미널|\n",
            "|               대흥(서강대앞)|\n",
            "|               낙성대(강감찬)|\n",
            "|               양재(서초구청)|\n",
            "|   상월곡(한국과학기술연구원)|\n",
            "|               숙대입구(갈월)|\n",
            "|               광나루(장신대)|\n",
            "|           온수(성공회대입구)|\n",
            "|         올림픽공원(한국체대)|\n",
            "|           한성대입구(삼선교)|\n",
            "|         이촌(국립중앙박물관)|\n",
            "|                     평택지제|\n",
            "|      동대문역사문화공원(DDP)|\n",
            "|         공릉(서울과학기술대)|\n",
            "|           성신여대입구(돈암)|\n",
            "|     굽은다리(강동구민회관앞)|\n",
            "|               월곡(동덕여대)|\n",
            "|             흑석(중앙대입구)|\n",
            "+-----------------------------+\n",
            "\n"
          ]
        }
      ]
    },
    {
      "cell_type": "markdown",
      "metadata": {
        "id": "9CuMOUkChMJ9"
      },
      "source": [
        "해당 63개 row의 역명에 대해 station_locate를 수정해주자. 대부분 병기역명이므로 처리자체는 어렵지 않을것으로 보인다."
      ]
    },
    {
      "cell_type": "markdown",
      "metadata": {
        "id": "WKxxImVtqXil"
      },
      "source": [
        "먼저 병기명을 가진 역들부터 처리하겠다."
      ]
    },
    {
      "cell_type": "code",
      "metadata": {
        "id": "fo5RReD9h3NK"
      },
      "source": [
        "# 해당하는 역이 많이므로 딕셔너리를 활용하려한다.(수작업)\n",
        "duel_name = {'충정로': '충정로(경기대입구)', '안암': '안암(고대병원앞)', '천호': '천호(풍납토성)',\n",
        "             '신창': '신창(순천향대)', '봉화산': '봉화산(서울의료원)', '광화문': '광화문(세종문화회관)',\n",
        "             '마곡나루': '마곡나루(서울식물원)', '어린이대공원': '어린이대공원(세종대)', '경복궁': '경복궁(정부서울청사)',\n",
        "             '상봉': '상봉(시외버스터미널)', '왕십리': '왕십리(성동구청)', '교대': '교대(법원.검찰청)',\n",
        "             '남한산성입구': '남한산성입구(성남법원.검찰청)', '수유': '수유(강북구청)', '월드컵경기장': '월드컵경기장(성산)',\n",
        "             '쌍용': '쌍용(나사렛대)', '청량리': '청량리(서울시립대입구)', '숭실대입구': '숭실대입구(살피재)',\n",
        "             '총신대입구': '총신대입구(이수)', '동작': '동작(현충원)', '새절': '새절(신사)', '강변': '강변(동서울터미널)',\n",
        "             '몽촌토성': '몽촌토성(평화의문)', '아차산': '아차산(어린이대공원후문)', '고려대': '고려대(종암)', '증산': '증산(명지대앞)',\n",
        "             '광흥창': '광흥창(서강)', '서울대입구': '서울대입구(관악구청)', '군자': '군자(능동)', '오목교': '오목교(목동운동장앞)',\n",
        "             '신정': '신정(은행정)', '잠실': '잠실(송파구청)', '미아': '미아(서울사이버대학)', '삼성': '삼성(무역센터)',\n",
        "             '대림': '대림(구로구청)', '회현': '회현(남대문시장)', '구의': '구의(광진구청)', '용마산': '용마산(용마폭포공원)',\n",
        "             '남부터미널': '남부터미널(예술의전당)', '화랑대': '화랑대(서울여대입구)', '녹사평': '녹사평(용산구청)',\n",
        "             '용두': '용두(동대문구청)', '대흥': '대흥(서강대앞)', '낙성대': '낙성대(강감찬)', '양재': '양재(서초구청)',\n",
        "             '상월곡': '상월곡(한국과학기술연구원)', '숙대입구': '숙대입구(갈월)', '광나루': '광나루(장신대)',\n",
        "             '온수': '온수(성공회대입구)', '올림픽공원': '올림픽공원(한국체대)', '한성대입구': '한성대입구(삼선교)',\n",
        "             '이촌': '이촌(국립중앙박물관)', '동대문역사문화공원': '동대문역사문화공원(DDP)', '공릉': '공릉(서울과학기술대)',\n",
        "             '성신여대입구': '성신여대입구(돈암)', '굽은다리': '굽은다리(강동구민회관앞)', '월곡': '월곡(동덕여대)', '흑석': '흑석(중앙대입구)'}"
      ],
      "execution_count": null,
      "outputs": []
    },
    {
      "cell_type": "code",
      "metadata": {
        "colab": {
          "base_uri": "https://localhost:8080/"
        },
        "id": "oQpFuhGKnPtg",
        "outputId": "885cd802-d81f-4aae-f626-cb0615658157"
      },
      "source": [
        "# 중간점검을 위한 코드. duel_name_list의 length와 아래 셀의 count결과가 같으면 문제가 없는 것이다.\n",
        "# 위 딕셔너리를 만드는 중간중간에 실행해주어 실수를 체크한다.\n",
        "duel_name_list = []\n",
        "for key in duel_name:\n",
        "    duel_name_list.append(key)\n",
        "print(len(duel_name_list))"
      ],
      "execution_count": null,
      "outputs": [
        {
          "output_type": "stream",
          "name": "stdout",
          "text": [
            "58\n"
          ]
        }
      ]
    },
    {
      "cell_type": "code",
      "metadata": {
        "colab": {
          "base_uri": "https://localhost:8080/"
        },
        "id": "hjmQcFL_hV4D",
        "outputId": "722442d7-9a1a-4da4-f501-16def053539c"
      },
      "source": [
        "# station_locate에 duel_name_list 안의 역이 얼마나 존재하는지 체크하는 코드\n",
        "station_locate.where(F.col('역명').isin(duel_name_list)).count()"
      ],
      "execution_count": null,
      "outputs": [
        {
          "output_type": "execute_result",
          "data": {
            "text/plain": [
              "58"
            ]
          },
          "metadata": {},
          "execution_count": 19
        }
      ]
    },
    {
      "cell_type": "code",
      "metadata": {
        "id": "zRR159cshB-U"
      },
      "source": [
        "# for문을 이용해 withColumn을 반복해주면 세션자체가 먹통이된다.\n",
        "# withColumn을 여러번 반복해서 사용한것이 원인이라 판단해 딕셔너리와 한번의 withColumn을 이용하여 바꾸어 줬더니 해결되었다.\n",
        "# create_map을 이용해 station_locate의 역명을 변경해주었다. chain과 create_map에 대한 자세한 내용은 일단 공식문서나 stackoverflow 참고바람. 저도 지금 보는중임\n",
        "from itertools import chain\n",
        "\n",
        "\n",
        "mapping_expr = F.create_map([F.lit(x) for x in chain(*duel_name.items())])\n",
        "station_locate = station_locate.withColumn(\"역명\", F.when(station_locate.역명.isin(duel_name_list), mapping_expr[F.col(\"역명\")]).otherwise(station_locate.역명))"
      ],
      "execution_count": null,
      "outputs": []
    },
    {
      "cell_type": "code",
      "metadata": {
        "id": "GDiwglOhvceD",
        "colab": {
          "base_uri": "https://localhost:8080/"
        },
        "outputId": "0124f18c-30e4-440c-ca5c-996b11a741d6"
      },
      "source": [
        "# 변경이 잘되었나 확인\n",
        "station_locate.where(F.col('역명').isin(duel_name_list)).select('역명').show()"
      ],
      "execution_count": null,
      "outputs": [
        {
          "output_type": "stream",
          "name": "stdout",
          "text": [
            "+----+\n",
            "|역명|\n",
            "+----+\n",
            "+----+\n",
            "\n"
          ]
        }
      ]
    },
    {
      "cell_type": "markdown",
      "metadata": {
        "id": "fGIChHcHsTUy"
      },
      "source": [
        "이제 한번 더 left outer join을 하여 null값을 확인해보자."
      ]
    },
    {
      "cell_type": "code",
      "metadata": {
        "id": "Bh4dTKcI5YeF"
      },
      "source": [
        "df = df2.join(station_locate, on='역명', how='left')"
      ],
      "execution_count": null,
      "outputs": []
    },
    {
      "cell_type": "code",
      "metadata": {
        "colab": {
          "base_uri": "https://localhost:8080/"
        },
        "id": "9ohyTBO33pgO",
        "outputId": "4f9c716d-7902-42b2-a74a-92c36987649d"
      },
      "source": [
        "df.where(F.col('lat').isNull()==True).select('역명').show()"
      ],
      "execution_count": null,
      "outputs": [
        {
          "output_type": "stream",
          "name": "stdout",
          "text": [
            "+---------------+\n",
            "|           역명|\n",
            "+---------------+\n",
            "|         서울역|\n",
            "|   4.19민주묘지|\n",
            "|인천공항1터미널|\n",
            "|인천공항2터미널|\n",
            "|       평택지제|\n",
            "+---------------+\n",
            "\n"
          ]
        }
      ]
    },
    {
      "cell_type": "markdown",
      "metadata": {
        "id": "nGv1CgaH89Fn"
      },
      "source": [
        "확인 결과 station_locate에는 '서울역'이 '서울'로, '4.19민주묘지'는 '419민주묘지'로, '평택지제'가 '지제'로 저장되어있었다.<br>\n",
        "인천공항1터미널과 인청공항2터미널은 원래부터 위치정보가 없었다.<br>\n",
        "먼저 역명부터 변경해주자"
      ]
    },
    {
      "cell_type": "code",
      "metadata": {
        "id": "YNBQ36CR-Ect"
      },
      "source": [
        "# 역명을 바꾸기 위한 딕셔너리와 리스트\n",
        "change_name = {'서울': '서울역', '419민주묘지': '4.19민주묘지', '지제': '평택지제'}\n",
        "change_name_list = []\n",
        "for key in change_name:\n",
        "    change_name_list.append(key)"
      ],
      "execution_count": null,
      "outputs": []
    },
    {
      "cell_type": "code",
      "metadata": {
        "id": "FkCEZcKX-1Zt"
      },
      "source": [
        "mapping_expr = F.create_map([F.lit(x) for x in chain(*change_name.items())])\n",
        "station_locate = station_locate.withColumn(\"역명\", F.when(station_locate.역명.isin(change_name_list), mapping_expr[F.col(\"역명\")]).otherwise(station_locate.역명))"
      ],
      "execution_count": null,
      "outputs": []
    },
    {
      "cell_type": "markdown",
      "metadata": {
        "id": "cOyQsu6s-_is"
      },
      "source": [
        "인천공항1터미널의 좌표는 37.447492, 126.452555이고<br>\n",
        "인천공항2터미널의 좌표는 37.467407, 126.434142이다.<br>\n",
        "이 정보를 추가해주자."
      ]
    },
    {
      "cell_type": "code",
      "metadata": {
        "id": "ICzpxWAfC_-O"
      },
      "source": [
        "# 1 터미널\n",
        "station_locate = station_locate.withColumn(\"lat\", F.when(station_locate.역명=='인천공항1터미널', '37.447492').otherwise(station_locate.lat))\n",
        "station_locate = station_locate.withColumn(\"lng\", F.when(station_locate.역명=='인천공항1터미널', '126.452555').otherwise(station_locate.lng))\n",
        "# 2터미널\n",
        "station_locate = station_locate.withColumn(\"lat\", F.when(station_locate.역명=='인천공항2터미널', '37.467407').otherwise(station_locate.lat))\n",
        "station_locate = station_locate.withColumn(\"lng\", F.when(station_locate.역명=='인천공항2터미널', '126.434142').otherwise(station_locate.lng))"
      ],
      "execution_count": null,
      "outputs": []
    },
    {
      "cell_type": "code",
      "metadata": {
        "id": "TNFY5RIK--CH"
      },
      "source": [
        "# 이제 완성된 station_locate을 join을 해준다.\n",
        "df = df2.join(station_locate, on='역명', how='left')"
      ],
      "execution_count": null,
      "outputs": []
    },
    {
      "cell_type": "markdown",
      "metadata": {
        "id": "z5XXA3VxD3hy"
      },
      "source": [
        "null값이 아직 있는지 확인"
      ]
    },
    {
      "cell_type": "code",
      "metadata": {
        "colab": {
          "base_uri": "https://localhost:8080/"
        },
        "id": "hJmpKNPB8XyE",
        "outputId": "9aab74e0-23f8-49f3-ea42-9a9083e1e3df"
      },
      "source": [
        "# 위도\n",
        "df.where(F.col('lat').isNull()==True).show()"
      ],
      "execution_count": null,
      "outputs": [
        {
          "output_type": "stream",
          "name": "stdout",
          "text": [
            "+----+------------+---+---+\n",
            "|역명|이용자수차이|lat|lng|\n",
            "+----+------------+---+---+\n",
            "+----+------------+---+---+\n",
            "\n"
          ]
        }
      ]
    },
    {
      "cell_type": "code",
      "metadata": {
        "colab": {
          "base_uri": "https://localhost:8080/"
        },
        "id": "xgC_-u6kEEa7",
        "outputId": "b9ea9324-3bca-4f64-a9bd-b08c22ad6283"
      },
      "source": [
        "# 경도\n",
        "df.where(F.col('lng').isNull()==True).show()"
      ],
      "execution_count": null,
      "outputs": [
        {
          "output_type": "stream",
          "name": "stdout",
          "text": [
            "+----+------------+---+---+\n",
            "|역명|이용자수차이|lat|lng|\n",
            "+----+------------+---+---+\n",
            "+----+------------+---+---+\n",
            "\n"
          ]
        }
      ]
    },
    {
      "cell_type": "markdown",
      "metadata": {
        "id": "cNBebD6_ELqW"
      },
      "source": [
        "이제 완성된 데이터를 저장하자."
      ]
    },
    {
      "cell_type": "code",
      "metadata": {
        "id": "iD_JkSJBELOr"
      },
      "source": [
        "df.write.parquet('/content/drive/MyDrive/data/contrast_metro_user/user_difference.parquet')"
      ],
      "execution_count": null,
      "outputs": []
    },
    {
      "cell_type": "code",
      "metadata": {
        "colab": {
          "base_uri": "https://localhost:8080/"
        },
        "id": "apVpzyCLFUH1",
        "outputId": "4328928f-21aa-408a-c891-47eae4eacdee"
      },
      "source": [
        "df = spark.read.format(\"parquet\").option(\"header\", True).load(\"/content/drive/MyDrive/data/contrast_metro_user/user_difference.parquet\")\n",
        "df.head()"
      ],
      "execution_count": null,
      "outputs": [
        {
          "output_type": "execute_result",
          "data": {
            "text/plain": [
              "Row(역명='역곡', 이용자수차이=-10650679, lat='37.485178', lng='126.811502')"
            ]
          },
          "metadata": {},
          "execution_count": 98
        }
      ]
    },
    {
      "cell_type": "code",
      "metadata": {
        "colab": {
          "base_uri": "https://localhost:8080/"
        },
        "id": "eb8ZIN_gHPTJ",
        "outputId": "1662456a-3be9-47c5-c242-ec753725d4e2"
      },
      "source": [
        "df.show()"
      ],
      "execution_count": null,
      "outputs": [
        {
          "output_type": "stream",
          "name": "stdout",
          "text": [
            "+------------------+------------+---------+----------+\n",
            "|              역명|이용자수차이|      lat|       lng|\n",
            "+------------------+------------+---------+----------+\n",
            "|              역곡|   -10650679|37.485178|126.811502|\n",
            "|              혜화|   -21611716|37.582336|127.001844|\n",
            "|            한양대|    -7469505|37.555273|127.043655|\n",
            "|              금호|    -2384938|37.548034|127.015872|\n",
            "|            노량진|   -16360036|37.514219|126.942454|\n",
            "|              판교|     -633626|37.394761|127.111217|\n",
            "|            신이문|    -2633818|37.601854|127.067325|\n",
            "|              신답|     -388636| 37.57004|127.046481|\n",
            "|              서현|   -10688432|37.385126|127.123592|\n",
            "|         을지로3가|   -11685301|37.566295| 126.99191|\n",
            "|              약수|    -5761539| 37.55434|127.010655|\n",
            "|              평촌|    -4465531|37.394287|126.963883|\n",
            "|            한대앞|    -2709565|37.309689| 126.85344|\n",
            "|충정로(경기대입구)|    -5034192|37.559973|126.963672|\n",
            "|              마두|    -3199123|37.652206| 126.77762|\n",
            "|        대모산입구|     -592505|37.491373| 127.07272|\n",
            "|              명동|   -31128301|37.560989|126.986325|\n",
            "|              반포|    -2209583|37.508178|127.011727|\n",
            "|  안암(고대병원앞)|    -7126122|37.586272|127.029005|\n",
            "|          버티고개|     -763814|37.548013|127.007055|\n",
            "+------------------+------------+---------+----------+\n",
            "only showing top 20 rows\n",
            "\n"
          ]
        }
      ]
    }
  ]
}