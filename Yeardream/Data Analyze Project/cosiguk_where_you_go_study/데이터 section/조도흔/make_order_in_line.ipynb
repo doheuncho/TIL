{
  "nbformat": 4,
  "nbformat_minor": 0,
  "metadata": {
    "colab": {
      "name": "make_order_in_line.ipynb",
      "provenance": [],
      "collapsed_sections": []
    },
    "kernelspec": {
      "name": "python3",
      "display_name": "Python 3"
    },
    "language_info": {
      "name": "python"
    }
  },
  "cells": [
    {
      "cell_type": "code",
      "metadata": {
        "colab": {
          "base_uri": "https://localhost:8080/"
        },
        "id": "OamZ47nh28kt",
        "outputId": "b15e6834-c5ad-45c2-8aa1-6d9e7062fb37"
      },
      "source": [
        "# 국룰 세팅1\n",
        "!pip install pyspark"
      ],
      "execution_count": null,
      "outputs": [
        {
          "output_type": "stream",
          "name": "stdout",
          "text": [
            "Collecting pyspark\n",
            "  Downloading pyspark-3.2.0.tar.gz (281.3 MB)\n",
            "\u001b[K     |████████████████████████████████| 281.3 MB 36 kB/s \n",
            "\u001b[?25hCollecting py4j==0.10.9.2\n",
            "  Downloading py4j-0.10.9.2-py2.py3-none-any.whl (198 kB)\n",
            "\u001b[K     |████████████████████████████████| 198 kB 37.5 MB/s \n",
            "\u001b[?25hBuilding wheels for collected packages: pyspark\n",
            "  Building wheel for pyspark (setup.py) ... \u001b[?25l\u001b[?25hdone\n",
            "  Created wheel for pyspark: filename=pyspark-3.2.0-py2.py3-none-any.whl size=281805912 sha256=6d7a7c93606fe4b36ec02f726898a7375d910bc8ad2dfea2d88a9b3b27b83651\n",
            "  Stored in directory: /root/.cache/pip/wheels/0b/de/d2/9be5d59d7331c6c2a7c1b6d1a4f463ce107332b1ecd4e80718\n",
            "Successfully built pyspark\n",
            "Installing collected packages: py4j, pyspark\n",
            "Successfully installed py4j-0.10.9.2 pyspark-3.2.0\n"
          ]
        }
      ]
    },
    {
      "cell_type": "code",
      "metadata": {
        "id": "SNeAcHDr3LRl"
      },
      "source": [
        "# 국룰 세팅2\n",
        "import pandas as pd\n",
        "from pyspark.sql import SparkSession\n",
        "\n",
        "\n",
        "spark = SparkSession.builder.getOrCreate()"
      ],
      "execution_count": null,
      "outputs": []
    },
    {
      "cell_type": "code",
      "metadata": {
        "colab": {
          "base_uri": "https://localhost:8080/",
          "height": 219
        },
        "id": "pkr7Fp7YZ7_W",
        "outputId": "0980393d-cc45-4e08-fb37-3ff0af173395"
      },
      "source": [
        "# 맥은 가끔 스파크세션이 제대로 생성되지 않아 확인을 한번 해줬다.\n",
        "spark"
      ],
      "execution_count": null,
      "outputs": [
        {
          "output_type": "execute_result",
          "data": {
            "text/html": [
              "\n",
              "            <div>\n",
              "                <p><b>SparkSession - in-memory</b></p>\n",
              "                \n",
              "        <div>\n",
              "            <p><b>SparkContext</b></p>\n",
              "\n",
              "            <p><a href=\"http://17ac654577ff:4040\">Spark UI</a></p>\n",
              "\n",
              "            <dl>\n",
              "              <dt>Version</dt>\n",
              "                <dd><code>v3.2.0</code></dd>\n",
              "              <dt>Master</dt>\n",
              "                <dd><code>local[*]</code></dd>\n",
              "              <dt>AppName</dt>\n",
              "                <dd><code>pyspark-shell</code></dd>\n",
              "            </dl>\n",
              "        </div>\n",
              "        \n",
              "            </div>\n",
              "        "
            ],
            "text/plain": [
              "<pyspark.sql.session.SparkSession at 0x7ff7f7755410>"
            ]
          },
          "metadata": {},
          "execution_count": 3
        }
      ]
    },
    {
      "cell_type": "code",
      "metadata": {
        "id": "1klP7BQs3N5g"
      },
      "source": [
        "# 국룰 세팅3\n",
        "import pyspark.sql.types as T\n",
        "import pyspark.sql.functions as F"
      ],
      "execution_count": null,
      "outputs": []
    },
    {
      "cell_type": "markdown",
      "metadata": {
        "id": "9Gd7PxcjQO1m"
      },
      "source": [
        "<h1>위치데이터 준비"
      ]
    },
    {
      "cell_type": "code",
      "metadata": {
        "id": "jxc_z2o2Jqya"
      },
      "source": [
        "station_locate = spark.read.format(\"csv\").option(\"header\", True).load(\"/content/drive/MyDrive/data/station_coordinate.csv\", encoding='utf-8')\n",
        "station_locate = station_locate.withColumnRenamed(\"name\", \"역명\")\n",
        "station_locate = station_locate.withColumnRenamed(\"line\", \"노선명\")\n",
        "station_locate = station_locate.select('노선명', '역명', 'lat', 'lng').distinct()"
      ],
      "execution_count": null,
      "outputs": []
    },
    {
      "cell_type": "markdown",
      "metadata": {
        "id": "cGK-bLeVLaij"
      },
      "source": [
        "병기역명 처리"
      ]
    },
    {
      "cell_type": "code",
      "metadata": {
        "id": "4Hgw7sGeqc0r"
      },
      "source": [
        "from itertools import chain"
      ],
      "execution_count": null,
      "outputs": []
    },
    {
      "cell_type": "markdown",
      "metadata": {
        "id": "t9s2IontLi3b"
      },
      "source": [
        "역명이 다른 case처리"
      ]
    },
    {
      "cell_type": "code",
      "metadata": {
        "id": "yEeka11ELio2"
      },
      "source": [
        "# 해당하는 역들로 dictionary를 만들고 그 key값들을 list에 저장\n",
        "change_name = {'서울': '서울역', '419민주묘지': '4.19민주묘지', '지제': '평택지제'}\n",
        "change_name_list = []\n",
        "for key in change_name:\n",
        "    change_name_list.append(key)"
      ],
      "execution_count": null,
      "outputs": []
    },
    {
      "cell_type": "code",
      "metadata": {
        "id": "V1FXuMb0Lib1"
      },
      "source": [
        "# 지난번에 설명을 덜한부분 보충 설명(A to Z)\n",
        "# 해당 작업(col 맵핑?)은 pandas로 하는것을 추천. spark 3.0이상을 사용하면 이렇게 해야함.\n",
        "# dictionary에 items()를 사용하면 (key, value)로 이루어진 list를 반환\n",
        "# list앞에 *를 붙이면 list의 원소들을 unpacking해준다. 이 경우에는 (key, value)로 이루어진 tuple들이 반환된다.\n",
        "# chain() : 해당 iterable들 내의 모든 iterable이 소진될 때 까지 순회함. 위의 tuple들을 차례로 순회하며 key와 value를 반환\n",
        "# lit() : literal한 값들로 이루어진 col을 생성한다.\n",
        "# creat_map() : key-value 쌍들로 이루어진 col을 생성한다. (key => value, key => value) 이런 느낌\n",
        "mapping_expr = F.create_map([F.lit(x) for x in chain(*change_name.items())])\n",
        "station_locate = station_locate.withColumn(\"역명\", F.when(station_locate.역명.isin(change_name_list), mapping_expr[F.col(\"역명\")]).otherwise(station_locate.역명))"
      ],
      "execution_count": null,
      "outputs": []
    },
    {
      "cell_type": "code",
      "metadata": {
        "colab": {
          "base_uri": "https://localhost:8080/"
        },
        "id": "kxHBYbfDPaaP",
        "outputId": "408b7eda-a0a1-40db-f917-38ccbb6bcd4a"
      },
      "source": [
        "# 참고\n",
        "print(*change_name.items())"
      ],
      "execution_count": null,
      "outputs": [
        {
          "output_type": "stream",
          "name": "stdout",
          "text": [
            "('서울', '서울역') ('419민주묘지', '4.19민주묘지') ('지제', '평택지제')\n"
          ]
        }
      ]
    },
    {
      "cell_type": "code",
      "metadata": {
        "colab": {
          "base_uri": "https://localhost:8080/"
        },
        "id": "55dIY22EZOGY",
        "outputId": "279d2381-ceba-4884-daf2-727bfa60df9c"
      },
      "source": [
        "# 참고\n",
        "print([F.lit(x) for x in chain(*change_name.items())])"
      ],
      "execution_count": null,
      "outputs": [
        {
          "output_type": "stream",
          "name": "stdout",
          "text": [
            "[Column<'서울'>, Column<'서울역'>, Column<'419민주묘지'>, Column<'4.19민주묘지'>, Column<'지제'>, Column<'평택지제'>]\n"
          ]
        }
      ]
    },
    {
      "cell_type": "code",
      "metadata": {
        "colab": {
          "base_uri": "https://localhost:8080/"
        },
        "id": "Ed-zWie8c5eY",
        "outputId": "6a52691e-e420-4e99-bd96-0ee75eedec17"
      },
      "source": [
        "# 참고\n",
        "mapping_expr"
      ],
      "execution_count": null,
      "outputs": [
        {
          "output_type": "execute_result",
          "data": {
            "text/plain": [
              "Column<'map(서울, 서울역, 419민주묘지, 4.19민주묘지, 지제, 평택지제)'>"
            ]
          },
          "metadata": {},
          "execution_count": 11
        }
      ]
    },
    {
      "cell_type": "markdown",
      "metadata": {
        "id": "ZmPfFo0wLuCA"
      },
      "source": [
        "잘못된 위치 데이터 갱신"
      ]
    },
    {
      "cell_type": "code",
      "metadata": {
        "id": "wSlfgCG2LiF-"
      },
      "source": [
        "# 인천공항1터미널\n",
        "station_locate = station_locate.withColumn(\"lat\", F.when(station_locate.역명=='인천공항1터미널', '37.447492').otherwise(station_locate.lat))\n",
        "station_locate = station_locate.withColumn(\"lng\", F.when(station_locate.역명=='인천공항1터미널', '126.452555').otherwise(station_locate.lng))\n",
        "# 인천공항2터미널\n",
        "station_locate = station_locate.withColumn(\"lat\", F.when(station_locate.역명=='인천공항2터미널', '37.467407').otherwise(station_locate.lat))\n",
        "station_locate = station_locate.withColumn(\"lng\", F.when(station_locate.역명=='인천공항2터미널', '126.434142').otherwise(station_locate.lng))\n",
        "# 경기광주역\n",
        "station_locate = station_locate.withColumn(\"lat\", F.when(station_locate.역명=='경기광주', '37.398775').otherwise(station_locate.lat))\n",
        "station_locate = station_locate.withColumn(\"lng\", F.when(station_locate.역명=='경기광주', '127.252308').otherwise(station_locate.lng))\n",
        "\n",
        "# 신촌역과 양평역은 동일한 이름의 역명이 2개 존재해서 위치 데이터가 잘못기록되어 있었다.\n",
        "# 신촌역(경의중앙)\n",
        "station_locate = station_locate.withColumn(\"lat\", F.when((station_locate.역명=='신촌') & (station_locate.노선명=='경의선'), '37.559864').otherwise(station_locate.lat))\n",
        "station_locate = station_locate.withColumn(\"lng\", F.when((station_locate.역명=='신촌') & (station_locate.노선명=='경의선'), '126.942571').otherwise(station_locate.lng))\n",
        "# 양평역(서울)\n",
        "station_locate = station_locate.withColumn(\"lat\", F.when((station_locate.역명=='양평') & (station_locate.노선명=='05호선'), '37.525338').otherwise(station_locate.lat))\n",
        "station_locate = station_locate.withColumn(\"lng\", F.when((station_locate.역명=='양평') & (station_locate.노선명=='05호선'), '126.886194').otherwise(station_locate.lng))"
      ],
      "execution_count": null,
      "outputs": []
    },
    {
      "cell_type": "code",
      "metadata": {
        "id": "9zbgkC2uPhWs"
      },
      "source": [
        "# 가짜 신촌역 이름 바꿔줌\n",
        "station_locate = station_locate.withColumn(\"역명\", F.when((station_locate.역명=='신촌') & (station_locate.노선명=='경의선'), '신촌(경의중앙)').otherwise(station_locate.역명))"
      ],
      "execution_count": null,
      "outputs": []
    },
    {
      "cell_type": "code",
      "metadata": {
        "id": "_MOBM5t-MFj0"
      },
      "source": [
        "# 양평역 이름 바꿔줌\n",
        "station_locate = station_locate.withColumn(\"역명\", F.when((station_locate.역명=='양평') & (station_locate.노선명=='05호선'), '양평(서울)').otherwise(station_locate.역명))"
      ],
      "execution_count": null,
      "outputs": []
    },
    {
      "cell_type": "code",
      "metadata": {
        "id": "FzXROzhqQCDH"
      },
      "source": [
        "station_locate = station_locate.select('역명', 'lat', 'lng').distinct()"
      ],
      "execution_count": null,
      "outputs": []
    },
    {
      "cell_type": "code",
      "metadata": {
        "colab": {
          "base_uri": "https://localhost:8080/"
        },
        "id": "_iq5LhZALvYT",
        "outputId": "316b13dd-7557-4d17-b3fd-4a21a456bd9c"
      },
      "source": [
        "# 양평이랑 신촌역 위치반영 제대로 되었는지 확인\n",
        "station_locate.where(F.col('역명')=='양평(서울)').show()"
      ],
      "execution_count": null,
      "outputs": [
        {
          "output_type": "stream",
          "name": "stdout",
          "text": [
            "+----------+---------+----------+\n",
            "|      역명|      lat|       lng|\n",
            "+----------+---------+----------+\n",
            "|양평(서울)|37.525338|126.886194|\n",
            "+----------+---------+----------+\n",
            "\n"
          ]
        }
      ]
    },
    {
      "cell_type": "code",
      "metadata": {
        "colab": {
          "base_uri": "https://localhost:8080/"
        },
        "id": "RaNx2u7QKumu",
        "outputId": "db8bcf63-fe59-425f-aec1-8fc4cfa682a4"
      },
      "source": [
        "station_locate.where(F.col('역명')=='양평').show()"
      ],
      "execution_count": null,
      "outputs": [
        {
          "output_type": "stream",
          "name": "stdout",
          "text": [
            "+----+---------+----------+\n",
            "|역명|      lat|       lng|\n",
            "+----+---------+----------+\n",
            "|양평|37.492832|127.491814|\n",
            "+----+---------+----------+\n",
            "\n"
          ]
        }
      ]
    },
    {
      "cell_type": "markdown",
      "metadata": {
        "id": "coul1WcNQtaW"
      },
      "source": [
        "<h1>역별 이용자수 차이 데이터 준비"
      ]
    },
    {
      "cell_type": "code",
      "metadata": {
        "colab": {
          "base_uri": "https://localhost:8080/"
        },
        "id": "0CYVRKSV3gfo",
        "outputId": "f295886c-905d-43ce-9b3b-a118bdb39b64"
      },
      "source": [
        "df = spark.read.format(\"parquet\").option(\"header\", True).load(\"/content/drive/MyDrive/data/중간저장/preprocessing\")\n",
        "df"
      ],
      "execution_count": null,
      "outputs": [
        {
          "output_type": "execute_result",
          "data": {
            "text/plain": [
              "DataFrame[사용일자: date, 노선명: string, 역명: string, 승차총승객수: int, 하차총승객수: int, 이용객수: int, 코로나: int]"
            ]
          },
          "metadata": {},
          "execution_count": 18
        }
      ]
    },
    {
      "cell_type": "code",
      "metadata": {
        "colab": {
          "base_uri": "https://localhost:8080/"
        },
        "id": "IMjfIsXNHONO",
        "outputId": "a6aa59e8-adee-4df3-ab49-eee87d5224a1"
      },
      "source": [
        "# 아까 동일한 역명이 존재함을 확인했음. 여기서도 확인해봄\n",
        "df.where(F.col('역명')=='양평').show()"
      ],
      "execution_count": null,
      "outputs": [
        {
          "output_type": "stream",
          "name": "stdout",
          "text": [
            "+----------+----------+----+------------+------------+--------+------+\n",
            "|  사용일자|    노선명|역명|승차총승객수|하차총승객수|이용객수|코로나|\n",
            "+----------+----------+----+------------+------------+--------+------+\n",
            "|2018-05-10|     5호선|양평|        8009|        8100|   16109|    -1|\n",
            "|2018-05-10|경의중앙선|양평|        3800|        3856|    7656|    -1|\n",
            "|2018-05-11|     5호선|양평|        8246|        8137|   16383|    -1|\n",
            "|2018-05-11|경의중앙선|양평|        4248|        4422|    8670|    -1|\n",
            "|2018-05-12|경의중앙선|양평|        3395|        3577|    6972|    -1|\n",
            "|2018-05-12|     5호선|양평|        4264|        4115|    8379|    -1|\n",
            "|2018-05-13|     5호선|양평|        3195|        3196|    6391|    -1|\n",
            "|2018-05-13|경의중앙선|양평|        4853|        4803|    9656|    -1|\n",
            "|2018-05-14|     5호선|양평|        8045|        7917|   15962|    -1|\n",
            "|2018-05-14|경의중앙선|양평|        3921|        3885|    7806|    -1|\n",
            "|2018-05-15|     5호선|양평|        8215|        8226|   16441|    -1|\n",
            "|2018-05-15|경의중앙선|양평|        3913|        3855|    7768|    -1|\n",
            "|2018-05-16|경의중앙선|양평|        3226|        3277|    6503|    -1|\n",
            "|2018-05-16|     5호선|양평|        7841|        7745|   15586|    -1|\n",
            "|2018-05-17|경의중앙선|양평|        3074|        3158|    6232|    -1|\n",
            "|2018-05-17|     5호선|양평|        7985|        8018|   16003|    -1|\n",
            "|2018-05-18|     5호선|양평|        8071|        7857|   15928|    -1|\n",
            "|2018-05-18|경의중앙선|양평|        4212|        4536|    8748|    -1|\n",
            "|2018-05-19|     5호선|양평|        4411|        4072|    8483|    -1|\n",
            "|2018-05-19|경의중앙선|양평|        4169|        4654|    8823|    -1|\n",
            "+----------+----------+----+------------+------------+--------+------+\n",
            "only showing top 20 rows\n",
            "\n"
          ]
        }
      ]
    },
    {
      "cell_type": "markdown",
      "metadata": {
        "id": "AH-iPcisRG30"
      },
      "source": [
        "신촌역이 2개 존재하므로 경의중앙선 신촌역을 신촌(경의중앙)으로 변경해줌<br>\n",
        "마찬가지로 5호선 양평역을 양평(서울)로 변경해줌<br>\n",
        "이름을 바꿔주지 않으면 나중에 역명 col을 이용해 join할 때 문제가 생긴다."
      ]
    },
    {
      "cell_type": "code",
      "metadata": {
        "id": "RagaTlUhRLGd"
      },
      "source": [
        "df = df.withColumn(\"역명\", F.when((df.역명=='신촌') & (df.노선명=='경의중앙선'), '신촌(경의중앙)').otherwise(df.역명))\n",
        "df = df.withColumn(\"역명\", F.when((df.역명=='양평') & (df.노선명=='5호선'), '양평(서울)').otherwise(df.역명))"
      ],
      "execution_count": null,
      "outputs": []
    },
    {
      "cell_type": "code",
      "metadata": {
        "id": "Ajsjs7MdSvKz"
      },
      "source": [
        "# 위치 데이터가 얼추 준비되었으므로 다시 역별 이용자수 데이터로 돌아옴.\n",
        "# 코로나 이전과 이후의 이용자 차이를 sum함수를 구하기위해 -1과 1로 구분된 '코로나' 칼럼을 이용함\n",
        "# 역별이용자수 칼럼은 코로나 이전의 이용자수를 음수로, 코로나 이후의 이용자수를 양수로 저장했다.\n",
        "df2 = df.withColumn('역별이용자수', F.col(\"이용객수\")*F.col(\"코로나\"))"
      ],
      "execution_count": null,
      "outputs": []
    },
    {
      "cell_type": "code",
      "metadata": {
        "id": "9AmqN1sqS2Dr"
      },
      "source": [
        "# sum을 이용해 코로나 이전과 이후의 역별이용자수차이를 구해주어 '이용자수차이' 칼럼에 저장한다.\n",
        "df2 = df2.groupby('`역명`').agg(F.sum('`역별이용자수`').alias('이용자수차이'))"
      ],
      "execution_count": null,
      "outputs": []
    },
    {
      "cell_type": "code",
      "metadata": {
        "id": "-ECaq86Rad3w"
      },
      "source": [
        "# 코로나 전후 620일의 데이터이므로 620으로 나누어 '일간이용자수차이' 칼럼에 저장한다.\n",
        "df2 = df2.withColumn('일간이용자수차이', (F.col('이용자수차이')/620).cast(T.IntegerType())).orderBy('역명')"
      ],
      "execution_count": null,
      "outputs": []
    },
    {
      "cell_type": "markdown",
      "metadata": {
        "id": "VsU8ndHUTFVu"
      },
      "source": [
        "<h1>노선별 역 순서 데이터</h1>"
      ]
    },
    {
      "cell_type": "code",
      "metadata": {
        "colab": {
          "base_uri": "https://localhost:8080/"
        },
        "id": "9jzokUx7TWYZ",
        "outputId": "d0725ffa-567c-494e-b3b2-560f0dbd2a31"
      },
      "source": [
        "# 우리가 다루고 있는 노선정보들을 확인하여 순서 데이터의 노선명을 수정해줌(물리)\n",
        "df.select('노선명').distinct().show()"
      ],
      "execution_count": null,
      "outputs": [
        {
          "output_type": "stream",
          "name": "stdout",
          "text": [
            "+----------+\n",
            "|    노선명|\n",
            "+----------+\n",
            "|우이신설선|\n",
            "|     7호선|\n",
            "|     4호선|\n",
            "|     1호선|\n",
            "|     3호선|\n",
            "|    경강선|\n",
            "|    경춘선|\n",
            "|     9호선|\n",
            "|     6호선|\n",
            "|경의중앙선|\n",
            "|     5호선|\n",
            "|     8호선|\n",
            "|  공항철도|\n",
            "|     2호선|\n",
            "|수인분당선|\n",
            "+----------+\n",
            "\n"
          ]
        }
      ]
    },
    {
      "cell_type": "markdown",
      "metadata": {
        "id": "vfr9TK1onako"
      },
      "source": [
        "또한 아래의 사유중, 운행을 시작한지 얼마되지않아 비교에서 제외할 역들을 제거해준다.(물리)<br>\n",
        "\n",
        "|역명|이유|\n",
        "|--|--|\n",
        "|                   강일|    2021년 3월 27일부터 운행하였다.|\n",
        "|                   검암|실제로 검암역을 지나지 않는 경의중앙선이 집계가 되어있었다.|\n",
        "|                   계양|실제로 계양역을 지나지 않는 경의중앙선이 집계가 되어있었다.|\n",
        "|                   고색|2020년 9월 12일부터 운행하였다.|\n",
        "|                   공덕|경의선과 중앙선을 경의중앙선으로 통합하면서 차이가 발생했다.|\n",
        "|               김포공항|실제로 김포공항역을 지나지 않는 경의중앙선이 집계가 되어있었다.|\n",
        "|                 낙성대|역명이 변경되었다.|\n",
        "|         낙성대(강감찬)|역명이 변경되었다.|\n",
        "|     동대문역사문화공원|역명이 변경되었다.|\n",
        "|동대문역사문화공원(DDP)|역명이 변경되었다.|\n",
        "|               둔촌오륜|2018년 12월 1일부터 운행하였다.|\n",
        "|       디지털미디어시티|경의선과 중앙선을 경의중앙선으로 통합하면서 차이가 발생했다.|\n",
        "|               마곡나루|역명이 변경되었다. + 2018년 9월 29일부터 공항철도 노선이 추가로 개통되었다.|\n",
        "|   마곡나루(서울식물원)|역명이 변경되었다. + 2018년 9월 29일부터 공항철도 노선이 추가로 개통되었다.|\n",
        "|                   미사|2020년 8월 8일부터 운행하였다.|\n",
        "|                   복정|수인선과 분당선을 수인분당선으로 통합하면서 차이가 발생하였다.|\n",
        "|                   부발|2020년 8월 3월에 큰 폭우가 내려 운행이 잠시 중단되었었다.|\n",
        "|                   사리|2020년 9월 12일부터 운행을 시작하였다.|\n",
        "|                   삼전|2018년 12월 1일부터 운행을 시작하였다.|\n",
        "|                 서울역|경의선과 중앙선을 경의중앙선으로 통합하면서 차이가 발생했다.|\n",
        "|                   석촌|2018년 12월 1일부터 운행을 시작하였다.|\n",
        "|               석촌고분|2018년 12월 1일부터 운행을 시작하였다.|\n",
        "|             세종대왕릉|2020년 8월 3월에 큰 폭우가 내려 운행이 잠시 중단되었었다.|\n",
        "|               송파나루|2018년 12월 1일부터 운행을 시작하였다.|\n",
        "|                   신내|2019년 12월 21일부터 6호선 노선이 추가로 개통되었다.|\n",
        "|                   야목|2020년 9월 12일부터 운행을 시작하였다.|\n",
        "|                   어천|2020년 9월 12일부터 운행을 시작하였다.|\n",
        "|                 연신내|이 역은 개찰구가 따로 마련되어 있지 않기때문에 모든 승하차인원이 3호선으로 집계된다. 때문에 6호선으로 집계되는 항목을 따로 처리해줘야한다.|\n",
        "|                 오목천|2020년 9월 12일부터 운행을 시작하였다.|\n",
        "|   올림픽공원(한국체대)|2018년 12월 1일부터 9호선 노선이 추가로 개통되었다.|\n",
        "|                 용마산|역명이 변경되었다.|\n",
        "|   용마산(용마폭포공원)|역명이 변경되었다.|\n",
        "|                 임진강|2020년 3월 28일부터 운행을 시작하였다.|\n",
        "|           중앙보훈병원|2018년 12월 1일부터 운행을 시작하였다.|\n",
        "|                   지제|역명이 변경되었다.|\n",
        "|                   지축|일산선 노선을 3호선으로 편입하면서 차이가 발생하였다.|\n",
        "|                   창동|이 역은 개찰구가 따로 마련되어 있지 않기때문에 모든 승하차인원이 4호선으로 집계된다. 때문에 1호선으로 집계되는 항목을 따로 처리해줘야한다.|\n",
        "|                 충무로|이 역은 개찰구가 따로 마련되어 있지 않기때문에 모든 승하차인원이 4호선으로 집계된다. 때문에 3호선으로 집계되는 항목을 따로 처리해줘야한다.|\n",
        "|               평택지제|역명이 변경되었다.|\n",
        "|             하남검단산|2021년 3월 27일부터 운행을 시작하였다.|\n",
        "|    하남시청(덕풍·신장)|2021년 3월 27일부터 운행을 시작하였다.|\n",
        "|               하남풍산|2020년 8월 8일부터 운행을 시작하였다.|\n",
        "|               한성백제|2018년 12월 1일부터 운행을 시작하였다.|\n",
        "|               홍대입구|경의선과 중앙선을 경의중앙선으로 통합하면서 차이가 발생했다.|"
      ]
    },
    {
      "cell_type": "code",
      "metadata": {
        "id": "OY2tdeWahkbQ"
      },
      "source": [
        "ordered = spark.read.format(\"csv\").option(\"header\", True).load(\"/content/drive/MyDrive/data/ordered_line(ver2).csv\", encoding='utf-8')"
      ],
      "execution_count": null,
      "outputs": []
    },
    {
      "cell_type": "code",
      "metadata": {
        "colab": {
          "base_uri": "https://localhost:8080/"
        },
        "id": "9lCSu8mZkaPf",
        "outputId": "eeb64d34-bdc7-48d3-8224-bf85f0b4ab04"
      },
      "source": [
        "ordered"
      ],
      "execution_count": null,
      "outputs": [
        {
          "output_type": "execute_result",
          "data": {
            "text/plain": [
              "DataFrame[노선명: string, 노선명(sub): string, 역명: string, 순번: string]"
            ]
          },
          "metadata": {},
          "execution_count": 65
        }
      ]
    },
    {
      "cell_type": "markdown",
      "metadata": {
        "id": "bS8_7ZFtkgPi"
      },
      "source": [
        "기본적인 데이터프레임이 모두 준비되었으므로 join을 해보자."
      ]
    },
    {
      "cell_type": "code",
      "metadata": {
        "id": "G6EduuDElNFI"
      },
      "source": [
        "# 먼저 역별 이용자수차이를 저장한 데이터프레임과 역별 위치를 기록한 데이터프레임을 합침\n",
        "# 이 두 데이터프레임은 앞서 다른 세션에서 역명을 다 통일했으므로 문제가 없을것으로 기대.\n",
        "df = df2.join(station_locate, on='역명', how='left')"
      ],
      "execution_count": null,
      "outputs": []
    },
    {
      "cell_type": "code",
      "metadata": {
        "colab": {
          "base_uri": "https://localhost:8080/"
        },
        "id": "xBqL9UcCloDb",
        "outputId": "b147b3ae-bf7c-42e1-9f97-e6170edd2efa"
      },
      "source": [
        "# 널값 확인\n",
        "df.where(F.col('lat').isNull()==True).show()"
      ],
      "execution_count": null,
      "outputs": [
        {
          "output_type": "stream",
          "name": "stdout",
          "text": [
            "+----+------------+---+---+\n",
            "|역명|이용자수차이|lat|lng|\n",
            "+----+------------+---+---+\n",
            "+----+------------+---+---+\n",
            "\n"
          ]
        }
      ]
    },
    {
      "cell_type": "markdown",
      "metadata": {
        "id": "6L1dVfGkluN-"
      },
      "source": [
        "이제 노선별 순서를 기록한 데이터프레임과 앞에서 합친 데이터 프레임을 합쳐보자<br>\n",
        "아마 두 데이터프레임의 역명이 달라 널값이 생길것이다."
      ]
    },
    {
      "cell_type": "code",
      "metadata": {
        "colab": {
          "base_uri": "https://localhost:8080/"
        },
        "id": "x8Z5p_-9oRoP",
        "outputId": "e861befd-c11b-45f2-c1bf-333776b8ebf4"
      },
      "source": [
        "ordered_df = ordered.join(df, on=\"역명\", how='left')\n",
        "ordered_df.select('역명').where(F.col('이용자수차이').isNull()==True).distinct().count()"
      ],
      "execution_count": null,
      "outputs": [
        {
          "output_type": "execute_result",
          "data": {
            "text/plain": [
              "80"
            ]
          },
          "metadata": {},
          "execution_count": 76
        }
      ]
    },
    {
      "cell_type": "markdown",
      "metadata": {
        "id": "Un-Z7YxHo_5-"
      },
      "source": [
        "...63개일줄 알았는데 80개가 나왔다."
      ]
    },
    {
      "cell_type": "code",
      "metadata": {
        "colab": {
          "base_uri": "https://localhost:8080/"
        },
        "id": "AhaipwXKpeB0",
        "outputId": "452ce4da-2a6f-41cb-9f20-e6caf2b57729"
      },
      "source": [
        "# 어떤역들이 있는지 확인.\n",
        "ordered_df.select('역명').where(F.col('이용자수차이').isNull()==True).distinct().show(80)"
      ],
      "execution_count": null,
      "outputs": [
        {
          "output_type": "stream",
          "name": "stdout",
          "text": [
            "+------------------+\n",
            "|              역명|\n",
            "+------------------+\n",
            "|       419민주묘지|\n",
            "|              강변|\n",
            "|              강일|\n",
            "|            경복궁|\n",
            "|            고려대|\n",
            "|              고색|\n",
            "|              공릉|\n",
            "|            광나루|\n",
            "|            광화문|\n",
            "|            광흥창|\n",
            "|              교대|\n",
            "|              구의|\n",
            "|              군자|\n",
            "|          굽은다리|\n",
            "|            낙성대|\n",
            "|        남부터미널|\n",
            "|      남한산성입구|\n",
            "|            녹사평|\n",
            "|              대림|\n",
            "|              대흥|\n",
            "|동대문역사문화공원|\n",
            "|              동작|\n",
            "|          둔촌오륜|\n",
            "|          마곡나루|\n",
            "|          몽촌토성|\n",
            "|              미사|\n",
            "|              미아|\n",
            "|            봉화산|\n",
            "|              사리|\n",
            "|              산곡|\n",
            "|              삼성|\n",
            "|              삼전|\n",
            "|              상봉|\n",
            "|            상월곡|\n",
            "|              새절|\n",
            "|        서울대입구|\n",
            "|              석남|\n",
            "|              석촌|\n",
            "|          석촌고분|\n",
            "|      성신여대입구|\n",
            "|          송파나루|\n",
            "|              수유|\n",
            "|          숙대입구|\n",
            "|        숭실대입구|\n",
            "|              신정|\n",
            "|              신창|\n",
            "|              쌍용|\n",
            "|            아차산|\n",
            "|              안암|\n",
            "|              야목|\n",
            "|              양재|\n",
            "|      어린이대공원|\n",
            "|              어천|\n",
            "|            오목교|\n",
            "|            오목천|\n",
            "|              온수|\n",
            "|        올림픽공원|\n",
            "|            왕십리|\n",
            "|              용두|\n",
            "|            용마산|\n",
            "|              월곡|\n",
            "|      월드컵경기장|\n",
            "|              이촌|\n",
            "|            임진강|\n",
            "|              잠실|\n",
            "|      중앙보훈병원|\n",
            "|              증산|\n",
            "|              천호|\n",
            "|            청량리|\n",
            "|        총신대입구|\n",
            "|            충정로|\n",
            "|              탕정|\n",
            "|        하남검단산|\n",
            "|          하남시청|\n",
            "|          하남풍산|\n",
            "|        한성대입구|\n",
            "|          한성백제|\n",
            "|            화랑대|\n",
            "|              회현|\n",
            "|              흑석|\n",
            "+------------------+\n",
            "\n"
          ]
        }
      ]
    },
    {
      "cell_type": "code",
      "metadata": {
        "colab": {
          "base_uri": "https://localhost:8080/"
        },
        "id": "ysM7x3pkqI7p",
        "outputId": "95e568d9-c5d1-489d-effe-a6f41011153d"
      },
      "source": [
        "# 419민주묘지 같이 병기역명이 아닌역들은 따로 확인을 해줘야한다.\n",
        "df.select('역명').distinct().orderBy('역명').show(600)"
      ],
      "execution_count": null,
      "outputs": [
        {
          "output_type": "stream",
          "name": "stdout",
          "text": [
            "+-----------------------------+\n",
            "|                         역명|\n",
            "+-----------------------------+\n",
            "|                 4.19민주묘지|\n",
            "|                         가능|\n",
            "|                     가락시장|\n",
            "|               가산디지털단지|\n",
            "|                         가양|\n",
            "|                       가오리|\n",
            "|                         가좌|\n",
            "|                       가천대|\n",
            "|                         가평|\n",
            "|                         간석|\n",
            "|                         갈매|\n",
            "|                         강남|\n",
            "|                     강남구청|\n",
            "|                         강동|\n",
            "|                     강동구청|\n",
            "|                         강매|\n",
            "|           강변(동서울터미널)|\n",
            "|                         강촌|\n",
            "|                         개롱|\n",
            "|                         개봉|\n",
            "|                       개포동|\n",
            "|                         개화|\n",
            "|                       개화산|\n",
            "|                         거여|\n",
            "|                     건대입구|\n",
            "|                         검암|\n",
            "|                     경기광주|\n",
            "|                     경마공원|\n",
            "|         경복궁(정부서울청사)|\n",
            "|                     경찰병원|\n",
            "|                         계양|\n",
            "|                         고덕|\n",
            "|                 고려대(종암)|\n",
            "|                   고속터미널|\n",
            "|                         고잔|\n",
            "|                         곡산|\n",
            "|                       곤지암|\n",
            "|                         공덕|\n",
            "|         공릉(서울과학기술대)|\n",
            "|                     공항시장|\n",
            "|                 공항화물청사|\n",
            "|                         과천|\n",
            "|                         관악|\n",
            "|               광나루(장신대)|\n",
            "|                         광명|\n",
            "|                   광명사거리|\n",
            "|                       광운대|\n",
            "|         광화문(세종문화회관)|\n",
            "|                 광흥창(서강)|\n",
            "|            교대(법원.검찰청)|\n",
            "|                         구로|\n",
            "|               구로디지털단지|\n",
            "|                         구룡|\n",
            "|                         구리|\n",
            "|                       구반포|\n",
            "|                         구산|\n",
            "|                         구성|\n",
            "|               구의(광진구청)|\n",
            "|                         구일|\n",
            "|                       구파발|\n",
            "|                         국수|\n",
            "|                   국회의사당|\n",
            "|                   군자(능동)|\n",
            "|                         군포|\n",
            "|                       굴봉산|\n",
            "|                       굴포천|\n",
            "|     굽은다리(강동구민회관앞)|\n",
            "|                         금곡|\n",
            "|                         금릉|\n",
            "|                         금정|\n",
            "|                     금천구청|\n",
            "|                         금촌|\n",
            "|                         금호|\n",
            "|                         기흥|\n",
            "|                         길동|\n",
            "|                         길음|\n",
            "|                       김유정|\n",
            "|                     김포공항|\n",
            "|                       까치산|\n",
            "|                       까치울|\n",
            "|               낙성대(강감찬)|\n",
            "|                       남구로|\n",
            "|               남동인더스파크|\n",
            "|       남부터미널(예술의전당)|\n",
            "|                         남성|\n",
            "|                         남영|\n",
            "|                       남춘천|\n",
            "|                       남태령|\n",
            "|남한산성입구(성남법원.검찰청)|\n",
            "|                         내방|\n",
            "|                         노들|\n",
            "|                       노량진|\n",
            "|                         노원|\n",
            "|                         녹번|\n",
            "|             녹사평(용산구청)|\n",
            "|                         녹양|\n",
            "|                         녹천|\n",
            "|                         논현|\n",
            "|                         능곡|\n",
            "|                   단대오거리|\n",
            "|                         달월|\n",
            "|                       답십리|\n",
            "|                       당고개|\n",
            "|                         당산|\n",
            "|                         당정|\n",
            "|                         대곡|\n",
            "|                       대공원|\n",
            "|               대림(구로구청)|\n",
            "|                   대모산입구|\n",
            "|                         대방|\n",
            "|                       대성리|\n",
            "|                       대야미|\n",
            "|                         대청|\n",
            "|                         대치|\n",
            "|                         대화|\n",
            "|               대흥(서강대앞)|\n",
            "|                         덕계|\n",
            "|                         덕소|\n",
            "|                         덕정|\n",
            "|                         도곡|\n",
            "|                         도농|\n",
            "|                       도림천|\n",
            "|                         도봉|\n",
            "|                       도봉산|\n",
            "|                         도심|\n",
            "|                         도원|\n",
            "|                         도화|\n",
            "|                       독립문|\n",
            "|                       독바위|\n",
            "|                         독산|\n",
            "|                       돌곶이|\n",
            "|                       동대문|\n",
            "|      동대문역사문화공원(DDP)|\n",
            "|                     동대입구|\n",
            "|                       동두천|\n",
            "|                   동두천중앙|\n",
            "|                       동묘앞|\n",
            "|                         동암|\n",
            "|                       동인천|\n",
            "|                 동작(현충원)|\n",
            "|                         두정|\n",
            "|                       둔촌동|\n",
            "|                         등촌|\n",
            "|             디지털미디어시티|\n",
            "|                         뚝섬|\n",
            "|                   뚝섬유원지|\n",
            "|                         마곡|\n",
            "|         마곡나루(서울식물원)|\n",
            "|                         마두|\n",
            "|                         마들|\n",
            "|                         마석|\n",
            "|                         마장|\n",
            "|                         마천|\n",
            "|                         마포|\n",
            "|                     마포구청|\n",
            "|                         망우|\n",
            "|                         망원|\n",
            "|                       망월사|\n",
            "|                         망포|\n",
            "|                         매교|\n",
            "|                         매봉|\n",
            "|                     매탄권선|\n",
            "|                         먹골|\n",
            "|                         면목|\n",
            "|                         명동|\n",
            "|                         명일|\n",
            "|                         명학|\n",
            "|                         모란|\n",
            "|                         목동|\n",
            "|           몽촌토성(평화의문)|\n",
            "|                       무악재|\n",
            "|                         문래|\n",
            "|                         문산|\n",
            "|                         문정|\n",
            "|                         미금|\n",
            "|         미아(서울사이버대학)|\n",
            "|                   미아사거리|\n",
            "|                         반월|\n",
            "|                         반포|\n",
            "|                         발산|\n",
            "|                         방배|\n",
            "|                         방이|\n",
            "|                         방학|\n",
            "|                         방화|\n",
            "|                         배방|\n",
            "|                         백마|\n",
            "|                         백석|\n",
            "|                       백양리|\n",
            "|                         백운|\n",
            "|                     버티고개|\n",
            "|                         범계|\n",
            "|                         별내|\n",
            "|                         병점|\n",
            "|                       보라매|\n",
            "|                         보문|\n",
            "|                         보산|\n",
            "|                         보정|\n",
            "|                         복정|\n",
            "|                         봉명|\n",
            "|                       봉은사|\n",
            "|                         봉천|\n",
            "|           봉화산(서울의료원)|\n",
            "|                         부개|\n",
            "|                         부발|\n",
            "|                         부천|\n",
            "|                     부천시청|\n",
            "|               부천종합운동장|\n",
            "|                         부평|\n",
            "|                     부평구청|\n",
            "|                 북한산보국문|\n",
            "|                   북한산우이|\n",
            "|                         불광|\n",
            "|                       사가정|\n",
            "|                         사당|\n",
            "|                         사릉|\n",
            "|                         사평|\n",
            "|                         산본|\n",
            "|                         산성|\n",
            "|                       삼각지|\n",
            "|                         삼동|\n",
            "|                   삼산체육관|\n",
            "|               삼성(무역센터)|\n",
            "|                     삼성중앙|\n",
            "|                         삼송|\n",
            "|                         삼양|\n",
            "|                   삼양사거리|\n",
            "|                         상갈|\n",
            "|                         상계|\n",
            "|                         상도|\n",
            "|                         상동|\n",
            "|                       상록수|\n",
            "|         상봉(시외버스터미널)|\n",
            "|                         상수|\n",
            "|                     상왕십리|\n",
            "|   상월곡(한국과학기술연구원)|\n",
            "|                       상일동|\n",
            "|                         상천|\n",
            "|                   새절(신사)|\n",
            "|                         샛강|\n",
            "|                       서강대|\n",
            "|                       서대문|\n",
            "|                       서동탄|\n",
            "|                       서빙고|\n",
            "|         서울대입구(관악구청)|\n",
            "|                       서울숲|\n",
            "|                       서울역|\n",
            "|                       서정리|\n",
            "|                         서초|\n",
            "|                         서현|\n",
            "|                         석계|\n",
            "|                         석수|\n",
            "|                         선릉|\n",
            "|                       선바위|\n",
            "|                       선유도|\n",
            "|                       선정릉|\n",
            "|                     성균관대|\n",
            "|                         성수|\n",
            "|           성신여대입구(돈암)|\n",
            "|                         성환|\n",
            "|                         세류|\n",
            "|                         세마|\n",
            "|                   세종대왕릉|\n",
            "|                     소래포구|\n",
            "|                         소사|\n",
            "|                       소요산|\n",
            "|                     솔밭공원|\n",
            "|                         솔샘|\n",
            "|                         송내|\n",
            "|                         송도|\n",
            "|                         송정|\n",
            "|                         송탄|\n",
            "|                         송파|\n",
            "|                         수내|\n",
            "|                       수락산|\n",
            "|                       수리산|\n",
            "|                         수색|\n",
            "|                         수서|\n",
            "|                         수원|\n",
            "|                     수원시청|\n",
            "|               수유(강북구청)|\n",
            "|                         수진|\n",
            "|               숙대입구(갈월)|\n",
            "|           숭실대입구(살피재)|\n",
            "|                         숭의|\n",
            "|                         시청|\n",
            "|                         신갈|\n",
            "|                       신금호|\n",
            "|                         신길|\n",
            "|                     신길온천|\n",
            "|                         신내|\n",
            "|                       신논현|\n",
            "|                         신답|\n",
            "|                         신당|\n",
            "|                       신대방|\n",
            "|                 신대방삼거리|\n",
            "|                       신도림|\n",
            "|                   신둔도예촌|\n",
            "|                         신림|\n",
            "|                       신목동|\n",
            "|                       신반포|\n",
            "|                       신방화|\n",
            "|                         신사|\n",
            "|                       신설동|\n",
            "|                       신용산|\n",
            "|                         신원|\n",
            "|                       신이문|\n",
            "|                 신정(은행정)|\n",
            "|                   신정네거리|\n",
            "|                       신중동|\n",
            "|               신창(순천향대)|\n",
            "|                         신촌|\n",
            "|               신촌(경의중앙)|\n",
            "|                         신포|\n",
            "|                         신풍|\n",
            "|                         신흥|\n",
            "|                         쌍문|\n",
            "|               쌍용(나사렛대)|\n",
            "|                         아산|\n",
            "|                         아신|\n",
            "|     아차산(어린이대공원후문)|\n",
            "|                         아현|\n",
            "|                         안국|\n",
            "|                         안산|\n",
            "|             안암(고대병원앞)|\n",
            "|                         안양|\n",
            "|                         암사|\n",
            "|                       압구정|\n",
            "|                 압구정로데오|\n",
            "|                       애오개|\n",
            "|                         야당|\n",
            "|                         야탑|\n",
            "|                         약수|\n",
            "|                         양수|\n",
            "|                         양원|\n",
            "|               양재(서초구청)|\n",
            "|                         양정|\n",
            "|                         양주|\n",
            "|                     양천구청|\n",
            "|                     양천향교|\n",
            "|                         양평|\n",
            "|         어린이대공원(세종대)|\n",
            "|                         언주|\n",
            "|                     여의나루|\n",
            "|                       여의도|\n",
            "|                         여주|\n",
            "|                         역곡|\n",
            "|                         역삼|\n",
            "|                         역촌|\n",
            "|                         연수|\n",
            "|                       연신내|\n",
            "|                         염창|\n",
            "|                       영등포|\n",
            "|                   영등포구청|\n",
            "|                   영등포시장|\n",
            "|                         영종|\n",
            "|                         영통|\n",
            "|                         오금|\n",
            "|                       오류동|\n",
            "|                         오리|\n",
            "|         오목교(목동운동장앞)|\n",
            "|                         오빈|\n",
            "|                         오산|\n",
            "|                       오산대|\n",
            "|                       오이도|\n",
            "|                         옥수|\n",
            "|           온수(성공회대입구)|\n",
            "|                     온양온천|\n",
            "|         올림픽공원(한국체대)|\n",
            "|             왕십리(성동구청)|\n",
            "|                       외대앞|\n",
            "|                         용답|\n",
            "|             용두(동대문구청)|\n",
            "|         용마산(용마폭포공원)|\n",
            "|                         용문|\n",
            "|                         용산|\n",
            "|                       우장산|\n",
            "|                       운길산|\n",
            "|                         운서|\n",
            "|                         운정|\n",
            "|                         원당|\n",
            "|                         원덕|\n",
            "|                       원인재|\n",
            "|                         원흥|\n",
            "|                         월계|\n",
            "|               월곡(동덕여대)|\n",
            "|                         월곶|\n",
            "|           월드컵경기장(성산)|\n",
            "|                         월롱|\n",
            "|                    을지로3가|\n",
            "|                    을지로4가|\n",
            "|                   을지로입구|\n",
            "|                         응봉|\n",
            "|                         응암|\n",
            "|                         의왕|\n",
            "|                       의정부|\n",
            "|                         이대|\n",
            "|                         이매|\n",
            "|                         이수|\n",
            "|                         이천|\n",
            "|         이촌(국립중앙박물관)|\n",
            "|                       이태원|\n",
            "|                       인덕원|\n",
            "|                         인천|\n",
            "|              인천공항1터미널|\n",
            "|              인천공항2터미널|\n",
            "|                     인천논현|\n",
            "|                       인하대|\n",
            "|                         일산|\n",
            "|                         일원|\n",
            "|               잠실(송파구청)|\n",
            "|                     잠실나루|\n",
            "|                     잠실새내|\n",
            "|                         잠원|\n",
            "|                     장승배기|\n",
            "|                         장암|\n",
            "|                         장지|\n",
            "|                       장한평|\n",
            "|                         정릉|\n",
            "|                       정발산|\n",
            "|                 정부과천청사|\n",
            "|                         정왕|\n",
            "|                         정자|\n",
            "|                       제기동|\n",
            "|                       제물포|\n",
            "|                         종각|\n",
            "|                      종로3가|\n",
            "|                      종로5가|\n",
            "|                   종합운동장|\n",
            "|                         주안|\n",
            "|                         주엽|\n",
            "|                         죽전|\n",
            "|                         중계|\n",
            "|                         중곡|\n",
            "|                         중동|\n",
            "|                         중랑|\n",
            "|                         중앙|\n",
            "|                         중화|\n",
            "|                         증미|\n",
            "|               증산(명지대앞)|\n",
            "|                         지축|\n",
            "|                         지평|\n",
            "|                         지행|\n",
            "|                         직산|\n",
            "|                         진위|\n",
            "|                         창동|\n",
            "|                         창신|\n",
            "|                       천마산|\n",
            "|                         천안|\n",
            "|                         천왕|\n",
            "|               천호(풍납토성)|\n",
            "|                         철산|\n",
            "|                         청구|\n",
            "|                         청담|\n",
            "|                 청라국제도시|\n",
            "|       청량리(서울시립대입구)|\n",
            "|                         청명|\n",
            "|                         청평|\n",
            "|                         초월|\n",
            "|                         초지|\n",
            "|             총신대입구(이수)|\n",
            "|                         춘의|\n",
            "|                         춘천|\n",
            "|                       충무로|\n",
            "|           충정로(경기대입구)|\n",
            "|                         탄현|\n",
            "|                     태릉입구|\n",
            "|                         태평|\n",
            "|                       퇴계원|\n",
            "|                         파주|\n",
            "|                         판교|\n",
            "|                         팔당|\n",
            "|                     평내호평|\n",
            "|                         평촌|\n",
            "|                         평택|\n",
            "|                     평택지제|\n",
            "|                         풍산|\n",
            "|                         하계|\n",
            "|                         학동|\n",
            "|                       학여울|\n",
            "|                       한강진|\n",
            "|                         한남|\n",
            "|                       한대앞|\n",
            "|           한성대입구(삼선교)|\n",
            "|                       한양대|\n",
            "|                         한티|\n",
            "|                         합정|\n",
            "|                         행당|\n",
            "|                         행신|\n",
            "|                         혜화|\n",
            "|                       호구포|\n",
            "|                     홍대입구|\n",
            "|                         홍제|\n",
            "|                         화계|\n",
            "|                         화곡|\n",
            "|         화랑대(서울여대입구)|\n",
            "|                         화서|\n",
            "|                         화전|\n",
            "|                         화정|\n",
            "|                         회기|\n",
            "|                         회룡|\n",
            "|             회현(남대문시장)|\n",
            "|                   효창공원앞|\n",
            "|             흑석(중앙대입구)|\n",
            "+-----------------------------+\n",
            "\n"
          ]
        }
      ]
    },
    {
      "cell_type": "markdown",
      "metadata": {
        "id": "Tvmvaf3XjpJV"
      },
      "source": [
        "<h1>여러 데이터프레임의 역명 통일하기</h1>\n",
        "우리는 지도에 표시한 역들에 대한 정보가 필요하므로 ordered에 left outer join을 실시한다.\n"
      ]
    },
    {
      "cell_type": "code",
      "metadata": {
        "id": "m7Z_PTtkXujI"
      },
      "source": [
        "# 원본데이터 확인용 데이터프레임\n",
        "origin = spark.read.parquet('/content/drive/MyDrive/data/all_metro')"
      ],
      "execution_count": null,
      "outputs": []
    },
    {
      "cell_type": "code",
      "metadata": {
        "colab": {
          "base_uri": "https://localhost:8080/"
        },
        "id": "OgvaUh5uX42y",
        "outputId": "e1575d90-4040-4ad6-c9e9-6822770b8dfd"
      },
      "source": [
        "# 필요한 역을 조회(필요할때마다 수시로 조회했음)\n",
        "origin.where(F.col('역명')=='계양').show()"
      ],
      "execution_count": null,
      "outputs": [
        {
          "output_type": "stream",
          "name": "stdout",
          "text": [
            "+----------+----------+----+------------+------------+--------+\n",
            "|  사용일자|    노선명|역명|승차총승객수|하차총승객수|이용객수|\n",
            "+----------+----------+----+------------+------------+--------+\n",
            "|2018-01-11|  공항철도|계양|       11127|       10299|   21426|\n",
            "|2018-01-12|  공항철도|계양|       11217|       10333|   21550|\n",
            "|2018-01-13|  공항철도|계양|        8678|        8073|   16751|\n",
            "|2018-01-14|  공항철도|계양|        6180|        6113|   12293|\n",
            "|2018-01-15|  공항철도|계양|       11795|       10832|   22627|\n",
            "|2018-01-16|  공항철도|계양|       11796|       10898|   22694|\n",
            "|2018-01-17|  공항철도|계양|       11769|       10860|   22629|\n",
            "|2018-01-18|  공항철도|계양|       11877|       11019|   22896|\n",
            "|2018-01-19|  공항철도|계양|       12186|       11355|   23541|\n",
            "|2018-01-20|  공항철도|계양|        9018|        8242|   17260|\n",
            "|2018-01-21|  공항철도|계양|        6499|        6480|   12979|\n",
            "|2018-01-22|  공항철도|계양|       11828|       11041|   22869|\n",
            "|2018-01-23|경의중앙선|계양|           1|           0|       1|\n",
            "|2018-01-23|  공항철도|계양|       11379|       10640|   22019|\n",
            "|2018-01-24|  공항철도|계양|       10904|       10215|   21119|\n",
            "|2018-01-25|  공항철도|계양|       11088|       10262|   21350|\n",
            "|2018-01-26|  공항철도|계양|       11094|       10220|   21314|\n",
            "|2018-01-27|  공항철도|계양|        7733|        7299|   15032|\n",
            "|2018-01-28|  공항철도|계양|        6064|        6227|   12291|\n",
            "|2018-01-29|경의중앙선|계양|           1|           0|       1|\n",
            "+----------+----------+----+------------+------------+--------+\n",
            "only showing top 20 rows\n",
            "\n"
          ]
        }
      ]
    },
    {
      "cell_type": "code",
      "metadata": {
        "id": "uMZ1uxdOjrEY"
      },
      "source": [
        "test = ordered.join(station_locate, on='역명', how='left')"
      ],
      "execution_count": null,
      "outputs": []
    },
    {
      "cell_type": "code",
      "metadata": {
        "colab": {
          "base_uri": "https://localhost:8080/"
        },
        "id": "Cgimw1EOj5Ua",
        "outputId": "c1808928-9a62-4cf0-ee89-1a8d1fb1c1e5"
      },
      "source": [
        "# ordered에는 있고 station_locate에는 없는 역을 확인\n",
        "test.select('역명', '노선명').where(F.col('lat').isNull()==True).distinct().orderBy('노선명').show()"
      ],
      "execution_count": null,
      "outputs": [
        {
          "output_type": "stream",
          "name": "stdout",
          "text": [
            "+----+------+\n",
            "|역명|노선명|\n",
            "+----+------+\n",
            "+----+------+\n",
            "\n"
          ]
        }
      ]
    },
    {
      "cell_type": "code",
      "metadata": {
        "colab": {
          "base_uri": "https://localhost:8080/"
        },
        "id": "a5VG3SzdsvXL",
        "outputId": "0c38fbb4-6ab2-4771-d9d1-0b9cd551f21d"
      },
      "source": [
        "# 이용자수를 기록한 데이터프레임은 병기역명들이 표기되어있다. 그러나 test에는 병기역명이 없다.\n",
        "test.where(F.col('노선명')=='2호선').orderBy('sub노선명').show()"
      ],
      "execution_count": null,
      "outputs": [
        {
          "output_type": "stream",
          "name": "stdout",
          "text": [
            "+------------------+------+---------+----+---------+----------+\n",
            "|              역명|노선명|sub노선명|순번|      lat|       lng|\n",
            "+------------------+------+---------+----+---------+----------+\n",
            "|              시청| 2호선|    2호선| 201|37.564718|126.977108|\n",
            "|        을지로입구| 2호선|    2호선| 202|37.566014|126.982618|\n",
            "|         을지로3가| 2호선|    2호선| 203|37.566295| 126.99191|\n",
            "|         을지로4가| 2호선|    2호선| 204|37.566941|126.998079|\n",
            "|동대문역사문화공원| 2호선|    2호선| 205|37.565138|127.007896|\n",
            "|              신당| 2호선|    2호선| 206|37.565972| 127.01782|\n",
            "|          상왕십리| 2호선|    2호선| 207|37.564354|127.029354|\n",
            "|            왕십리| 2호선|    2호선| 208|37.561533|127.037732|\n",
            "|            한양대| 2호선|    2호선| 209|37.555273|127.043655|\n",
            "|              뚝섬| 2호선|    2호선| 210|37.547184|127.047367|\n",
            "|              성수| 2호선|    2호선| 211|37.544581|127.055961|\n",
            "|          건대입구| 2호선|    2호선| 212|37.540693| 127.07023|\n",
            "|              구의| 2호선|    2호선| 213|37.537077|127.085916|\n",
            "|              강변| 2호선|    2호선| 214|37.535095|127.094681|\n",
            "|          잠실나루| 2호선|    2호선| 215|37.520733| 127.10379|\n",
            "|              잠실| 2호선|    2호선| 216| 37.51395|127.102234|\n",
            "|          잠실새내| 2호선|    2호선| 217|37.511687|127.086162|\n",
            "|        종합운동장| 2호선|    2호선| 218|37.510997|127.073642|\n",
            "|              삼성| 2호선|    2호선| 219|37.508844| 127.06316|\n",
            "|              선릉| 2호선|    2호선| 220|37.504503|127.049008|\n",
            "+------------------+------+---------+----+---------+----------+\n",
            "only showing top 20 rows\n",
            "\n"
          ]
        }
      ]
    },
    {
      "cell_type": "markdown",
      "metadata": {
        "id": "ZkWCq7U7f0uR"
      },
      "source": [
        "두 데이터프레임 모두 병기역명 표기가 안되어있다 변환이 필요하다."
      ]
    },
    {
      "cell_type": "code",
      "metadata": {
        "id": "IK3pmHANLPYk"
      },
      "source": [
        "# 해당하는 역이 많이므로 딕셔너리를 활용하려한다.(수작업)\n",
        "duel_name = {'충정로': '충정로(경기대입구)', '안암': '안암(고대병원앞)', '천호': '천호(풍납토성)',\n",
        "             '신창': '신창(순천향대)', '봉화산': '봉화산(서울의료원)', '광화문': '광화문(세종문화회관)',\n",
        "             '마곡나루': '마곡나루(서울식물원)', '어린이대공원': '어린이대공원(세종대)', '경복궁': '경복궁(정부서울청사)',\n",
        "             '상봉': '상봉(시외버스터미널)', '왕십리': '왕십리(성동구청)', '교대': '교대(법원.검찰청)',\n",
        "             '남한산성입구': '남한산성입구(성남법원.검찰청)', '수유': '수유(강북구청)', '월드컵경기장': '월드컵경기장(성산)',\n",
        "             '쌍용': '쌍용(나사렛대)', '청량리': '청량리(서울시립대입구)', '숭실대입구': '숭실대입구(살피재)',\n",
        "             '총신대입구': '총신대입구(이수)', '동작': '동작(현충원)', '새절': '새절(신사)', '강변': '강변(동서울터미널)',\n",
        "             '몽촌토성': '몽촌토성(평화의문)', '아차산': '아차산(어린이대공원후문)', '고려대': '고려대(종암)', '증산': '증산(명지대앞)',\n",
        "             '광흥창': '광흥창(서강)', '서울대입구': '서울대입구(관악구청)', '군자': '군자(능동)', '오목교': '오목교(목동운동장앞)',\n",
        "             '신정': '신정(은행정)', '잠실': '잠실(송파구청)', '미아': '미아(서울사이버대학)', '삼성': '삼성(무역센터)',\n",
        "             '대림': '대림(구로구청)', '회현': '회현(남대문시장)', '구의': '구의(광진구청)', '용마산': '용마산(용마폭포공원)',\n",
        "             '남부터미널': '남부터미널(예술의전당)', '화랑대': '화랑대(서울여대입구)', '녹사평': '녹사평(용산구청)',\n",
        "             '용두': '용두(동대문구청)', '대흥': '대흥(서강대앞)', '낙성대': '낙성대(강감찬)', '양재': '양재(서초구청)',\n",
        "             '상월곡': '상월곡(한국과학기술연구원)', '숙대입구': '숙대입구(갈월)', '광나루': '광나루(장신대)',\n",
        "             '온수': '온수(성공회대입구)', '올림픽공원': '올림픽공원(한국체대)', '한성대입구': '한성대입구(삼선교)',\n",
        "             '이촌': '이촌(국립중앙박물관)', '동대문역사문화공원': '동대문역사문화공원(DDP)', '공릉': '공릉(서울과학기술대)',\n",
        "             '성신여대입구': '성신여대입구(돈암)', '굽은다리': '굽은다리(강동구민회관앞)', '월곡': '월곡(동덕여대)', '흑석': '흑석(중앙대입구)'}"
      ],
      "execution_count": null,
      "outputs": []
    },
    {
      "cell_type": "code",
      "metadata": {
        "id": "9zt_E-L9LRG_"
      },
      "source": [
        "duel_name_list = []\n",
        "for key in duel_name:\n",
        "    duel_name_list.append(key)"
      ],
      "execution_count": null,
      "outputs": []
    },
    {
      "cell_type": "code",
      "metadata": {
        "id": "kQPrl57wLXXP"
      },
      "source": [
        "# test의 역명을 바꿔줌\n",
        "mapping_expr = F.create_map([F.lit(x) for x in chain(*duel_name.items())])\n",
        "test = test.withColumn(\"역명\", F.when(test.역명.isin(duel_name_list), mapping_expr[F.col(\"역명\")]).otherwise(test.역명))"
      ],
      "execution_count": null,
      "outputs": []
    },
    {
      "cell_type": "code",
      "metadata": {
        "id": "CVLlLIITtGkq",
        "colab": {
          "base_uri": "https://localhost:8080/"
        },
        "outputId": "2e3312b5-a278-463a-9976-0095659335aa"
      },
      "source": [
        "station_locate"
      ],
      "execution_count": null,
      "outputs": [
        {
          "output_type": "execute_result",
          "data": {
            "text/plain": [
              "DataFrame[역명: string, lat: string, lng: string]"
            ]
          },
          "metadata": {},
          "execution_count": 32
        }
      ]
    },
    {
      "cell_type": "markdown",
      "metadata": {
        "id": "oDkKf-E6mWpz"
      },
      "source": [
        "삭제해야 할 노선(최근에 개통하여 620일 동안의 평균 이용자를 구할 수 없음)<br>\n",
        "강일, 고색, 둔촌오륜, 미사, 사리, 산곡, 삼전, 석촌고분, 송파나루, 야목, 어천, 오목천, 임진강, 중앙보훈병원, 탕정, 하남검단산, 하남시청, 하남풍산, 한성백제<br>\n",
        "이름을 바꿔야 할 노선<br>\n",
        "419민주묘지 -> 4.19민주묘지"
      ]
    },
    {
      "cell_type": "code",
      "metadata": {
        "id": "fCWR0Kdgq00N"
      },
      "source": [
        "test2 = test.join(df2, on='역명', how='left')"
      ],
      "execution_count": null,
      "outputs": []
    },
    {
      "cell_type": "code",
      "metadata": {
        "colab": {
          "base_uri": "https://localhost:8080/"
        },
        "id": "gNXT80Meq_f5",
        "outputId": "a83fcf1d-ea74-45db-eb82-5fdc1807b0ed"
      },
      "source": [
        "# df2에 누락된 역이 있는지 확인\n",
        "test2.where(F.col('lat').isNull()==True).orderBy('역명').show()"
      ],
      "execution_count": null,
      "outputs": [
        {
          "output_type": "stream",
          "name": "stdout",
          "text": [
            "+----+------+---------+----+---+---+------------+----------------+\n",
            "|역명|노선명|sub노선명|순번|lat|lng|이용자수차이|일간이용자수차이|\n",
            "+----+------+---------+----+---+---+------------+----------------+\n",
            "+----+------+---------+----+---+---+------------+----------------+\n",
            "\n"
          ]
        }
      ]
    },
    {
      "cell_type": "code",
      "metadata": {
        "colab": {
          "base_uri": "https://localhost:8080/"
        },
        "id": "jvgvX_Xkga0i",
        "outputId": "f871536f-92a6-4c90-8a19-78f03e5f744f"
      },
      "source": [
        "# join을 반대로 해서 역으로 df2에는 있지만 test에는 없는 역이 있는지 확인\n",
        "df2.join(test, on='역명', how='left').where(F.col('lat').isNull()==True).show()"
      ],
      "execution_count": null,
      "outputs": [
        {
          "output_type": "stream",
          "name": "stdout",
          "text": [
            "+----+------------+----------------+------+---------+----+---+---+\n",
            "|역명|이용자수차이|일간이용자수차이|노선명|sub노선명|순번|lat|lng|\n",
            "+----+------------+----------------+------+---------+----+---+---+\n",
            "+----+------------+----------------+------+---------+----+---+---+\n",
            "\n"
          ]
        }
      ]
    },
    {
      "cell_type": "code",
      "metadata": {
        "id": "pfdINhGHdLv1"
      },
      "source": [
        "# 그래프 작업에 용이하게 sub노선명 기준으로 정렬한다.\n",
        "result = test2.orderBy('sub노선명')"
      ],
      "execution_count": null,
      "outputs": []
    },
    {
      "cell_type": "code",
      "metadata": {
        "colab": {
          "base_uri": "https://localhost:8080/"
        },
        "id": "mT_QryM1dRtF",
        "outputId": "67834f4d-113f-463d-bc51-f6c8fc48c1e9"
      },
      "source": [
        "result.show()"
      ],
      "execution_count": null,
      "outputs": [
        {
          "output_type": "stream",
          "name": "stdout",
          "text": [
            "+----------+------+---------+----+---------+----------+------------+----------------+\n",
            "|      역명|노선명|sub노선명|순번|      lat|       lng|이용자수차이|일간이용자수차이|\n",
            "+----------+------+---------+----+---------+----------+------------+----------------+\n",
            "|    소요산| 1호선|    1호선| 100|  37.9481|127.061034|    -1739870|           -2806|\n",
            "|    동두천| 1호선|    1호선| 101|37.927878| 127.05479|     -942065|           -1519|\n",
            "|      보산| 1호선|    1호선| 102|37.913702|127.057277|     -649745|           -1047|\n",
            "|동두천중앙| 1호선|    1호선| 103|37.901885|127.056482|    -1464693|           -2362|\n",
            "|      지행| 1호선|    1호선| 104|37.892334|127.055716|    -2745862|           -4428|\n",
            "|      덕정| 1호선|    1호선| 105|37.843188|127.061277|    -2721122|           -4388|\n",
            "|      덕계| 1호선|    1호선| 106|37.818486|127.056486|      -66368|            -107|\n",
            "|      양주| 1호선|    1호선| 107|37.774381|127.044708|    -3270023|           -5274|\n",
            "|      녹양| 1호선|    1호선| 108| 37.75938|127.042292|    -1494609|           -2410|\n",
            "|      가능| 1호선|    1호선| 109|37.748577|127.044213|    -2201086|           -3550|\n",
            "|    의정부| 1호선|    1호선| 110|37.738415|127.045958|    -8322218|          -13422|\n",
            "|      회룡| 1호선|    1호선| 111|37.724846|127.046895|    -3600293|           -5806|\n",
            "|    망월사| 1호선|    1호선| 112|37.709914|127.047455|    -3712710|           -5988|\n",
            "|    도봉산| 1호선|    1호선| 113|37.689313|127.046222|    -4224830|           -6814|\n",
            "|      도봉| 1호선|    1호선| 114|37.679563|127.045595|    -1711071|           -2759|\n",
            "|      방학| 1호선|    1호선| 115|37.667503|127.044273|    -2801605|           -4518|\n",
            "|      창동| 1호선|    1호선| 116|37.653166|127.047731|    -9770636|          -15759|\n",
            "|      녹천| 1호선|    1호선| 117|37.644799|127.051269|    -1355410|           -2186|\n",
            "|      월계| 1호선|    1호선| 118|37.633212|127.058831|    -1824722|           -2943|\n",
            "|    광운대| 1호선|    1호선| 119|37.623632|127.061835|    -3487219|           -5624|\n",
            "+----------+------+---------+----+---------+----------+------------+----------------+\n",
            "only showing top 20 rows\n",
            "\n"
          ]
        }
      ]
    },
    {
      "cell_type": "code",
      "metadata": {
        "colab": {
          "base_uri": "https://localhost:8080/"
        },
        "id": "Lv4Xjt0e7qAk",
        "outputId": "573471f0-553e-4227-8ec7-2629d5fa4ede"
      },
      "source": [
        "# 확인\n",
        "result.where(F.col('역명')=='시청').show()"
      ],
      "execution_count": null,
      "outputs": [
        {
          "output_type": "stream",
          "name": "stdout",
          "text": [
            "+----+------+---------+----+---------+----------+------------+----------------+\n",
            "|역명|노선명|sub노선명|순번|      lat|       lng|이용자수차이|일간이용자수차이|\n",
            "+----+------+---------+----+---------+----------+------------+----------------+\n",
            "|시청| 1호선|    1호선| 132|37.564718|126.977108|   -21519048|          -34708|\n",
            "|시청| 2호선|    2호선| 201|37.564718|126.977108|   -21519048|          -34708|\n",
            "|시청| 2호선|    2호선| 244|37.564718|126.977108|   -21519048|          -34708|\n",
            "+----+------+---------+----+---------+----------+------------+----------------+\n",
            "\n"
          ]
        }
      ]
    },
    {
      "cell_type": "code",
      "metadata": {
        "colab": {
          "base_uri": "https://localhost:8080/"
        },
        "id": "hQmeyjLmNrH0",
        "outputId": "a18c13d7-a0a0-4e3e-fd35-fb91c4660225"
      },
      "source": [
        "# 확인\n",
        "result.where(F.col('역명')=='양평').show()"
      ],
      "execution_count": null,
      "outputs": [
        {
          "output_type": "stream",
          "name": "stdout",
          "text": [
            "+----+----------+----------+----+---------+----------+------------+----------------+\n",
            "|역명|    노선명| sub노선명|순번|      lat|       lng|이용자수차이|일간이용자수차이|\n",
            "+----+----------+----------+----+---------+----------+------------+----------------+\n",
            "|양평|경의중앙선|경의중앙선| 135|37.492832|127.491814|    -1527195|           -2463|\n",
            "+----+----------+----------+----+---------+----------+------------+----------------+\n",
            "\n"
          ]
        }
      ]
    },
    {
      "cell_type": "code",
      "metadata": {
        "id": "1nyS4WJVeSJB"
      },
      "source": [
        "# 이러면 되나? 하고 테스트해본건데 작업이 잘되서 그냥 저장함\n",
        "result.write.parquet('/content/drive/MyDrive/data/contrast_metro_user/ordered_line_difference.parquet')"
      ],
      "execution_count": null,
      "outputs": []
    },
    {
      "cell_type": "code",
      "metadata": {
        "colab": {
          "base_uri": "https://localhost:8080/"
        },
        "id": "lP9pKG9ChVZ9",
        "outputId": "03fa07a3-26d1-46e3-ae31-c032c987465d"
      },
      "source": [
        "# 저장이 잘되었는지 확인\n",
        "df = spark.read.format(\"parquet\").option(\"header\", True).load(\"/content/drive/MyDrive/data/contrast_metro_user/ordered_line_difference.parquet\")\n",
        "df.head()"
      ],
      "execution_count": null,
      "outputs": [
        {
          "output_type": "execute_result",
          "data": {
            "text/plain": [
              "Row(역명='소요산', 노선명='1호선', sub노선명='1호선', 순번='100', lat='37.9481', lng='127.061034', 이용자수차이=-1739870, 일간이용자수차이=-2806)"
            ]
          },
          "metadata": {},
          "execution_count": 113
        }
      ]
    },
    {
      "cell_type": "code",
      "metadata": {
        "colab": {
          "base_uri": "https://localhost:8080/"
        },
        "id": "xbaq7Np5mHnU",
        "outputId": "d0d3e7d0-c962-4fe8-94ac-8919c88b2fca"
      },
      "source": [
        "# readme에 써야해서 row개수 세봄\n",
        "df.count()"
      ],
      "execution_count": null,
      "outputs": [
        {
          "output_type": "execute_result",
          "data": {
            "text/plain": [
              "619"
            ]
          },
          "metadata": {},
          "execution_count": 114
        }
      ]
    }
  ]
}