{
  "nbformat": 4,
  "nbformat_minor": 0,
  "metadata": {
    "colab": {
      "name": "change_to_ratio.ipynb",
      "provenance": []
    },
    "kernelspec": {
      "name": "python3",
      "display_name": "Python 3"
    },
    "language_info": {
      "name": "python"
    }
  },
  "cells": [
    {
      "cell_type": "code",
      "metadata": {
        "colab": {
          "base_uri": "https://localhost:8080/"
        },
        "id": "V3ZYRrIpROzc",
        "outputId": "0f9db192-078e-4144-c17b-04f9c29122b8"
      },
      "source": [
        "# 국룰 세팅1\n",
        "!pip install pyspark"
      ],
      "execution_count": 1,
      "outputs": [
        {
          "output_type": "stream",
          "name": "stdout",
          "text": [
            "Collecting pyspark\n",
            "  Downloading pyspark-3.2.0.tar.gz (281.3 MB)\n",
            "\u001b[K     |████████████████████████████████| 281.3 MB 40 kB/s \n",
            "\u001b[?25hCollecting py4j==0.10.9.2\n",
            "  Downloading py4j-0.10.9.2-py2.py3-none-any.whl (198 kB)\n",
            "\u001b[K     |████████████████████████████████| 198 kB 40.2 MB/s \n",
            "\u001b[?25hBuilding wheels for collected packages: pyspark\n",
            "  Building wheel for pyspark (setup.py) ... \u001b[?25l\u001b[?25hdone\n",
            "  Created wheel for pyspark: filename=pyspark-3.2.0-py2.py3-none-any.whl size=281805912 sha256=f07a8fc0faf417a405e14e86c915a1cf02a2a99612f789248424a11b49bc8412\n",
            "  Stored in directory: /root/.cache/pip/wheels/0b/de/d2/9be5d59d7331c6c2a7c1b6d1a4f463ce107332b1ecd4e80718\n",
            "Successfully built pyspark\n",
            "Installing collected packages: py4j, pyspark\n",
            "Successfully installed py4j-0.10.9.2 pyspark-3.2.0\n"
          ]
        }
      ]
    },
    {
      "cell_type": "code",
      "metadata": {
        "id": "g0rJVzVgRPtL"
      },
      "source": [
        "# 국룰 세팅2\n",
        "import pandas as pd\n",
        "from pyspark.sql import SparkSession\n",
        "\n",
        "\n",
        "spark = SparkSession.builder.getOrCreate()"
      ],
      "execution_count": 2,
      "outputs": []
    },
    {
      "cell_type": "code",
      "metadata": {
        "id": "EVMP4-UCRQrg"
      },
      "source": [
        "# 국룰 세팅3\n",
        "import pyspark.sql.types as T\n",
        "import pyspark.sql.functions as F"
      ],
      "execution_count": 3,
      "outputs": []
    },
    {
      "cell_type": "code",
      "metadata": {
        "colab": {
          "base_uri": "https://localhost:8080/"
        },
        "id": "Ble4LIrIULOC",
        "outputId": "91b41169-b542-41cf-c4a0-cc946889a8a6"
      },
      "source": [
        "# 이전에 작업했던 일별 이용자수 데이터를 가져왔다.\n",
        "# 이 dataframe은 필요한 col에 대한 작업은 해 두었지만, 일부 역명처리가 처리되지않았다.\n",
        "df = spark.read.format(\"parquet\").option(\"header\", True).load(\"/content/drive/MyDrive/data/중간저장/preprocessing\")\n",
        "df"
      ],
      "execution_count": 8,
      "outputs": [
        {
          "output_type": "execute_result",
          "data": {
            "text/plain": [
              "DataFrame[사용일자: date, 노선명: string, 역명: string, 승차총승객수: int, 하차총승객수: int, 이용객수: int, 코로나: int]"
            ]
          },
          "metadata": {},
          "execution_count": 8
        }
      ]
    },
    {
      "cell_type": "code",
      "metadata": {
        "id": "UbCqicu9ULLa"
      },
      "source": [
        "# 동명이역을 처리한다.(소속 노선으로 구분)\n",
        "df = df.withColumn(\"역명\", F.when((df.역명=='신촌') & (df.노선명=='경의중앙선'), '신촌(경의중앙)').otherwise(df.역명))\n",
        "df = df.withColumn(\"역명\", F.when((df.역명=='양평') & (df.노선명=='5호선'), '양평(서울)').otherwise(df.역명))"
      ],
      "execution_count": 9,
      "outputs": []
    },
    {
      "cell_type": "code",
      "metadata": {
        "id": "dAMxtfJ6ULIj"
      },
      "source": [
        "# 우리가 필요한 정보는 해당 시기(코로나 이전/이후)의 역별 총 승차인원이다.\n",
        "df = df.groupby('`코로나`', '`역명`').agg(F.sum('`승차총승객수`').alias('역별이용자수')).orderBy(F.desc('`역명`'))"
      ],
      "execution_count": 10,
      "outputs": []
    },
    {
      "cell_type": "code",
      "metadata": {
        "colab": {
          "base_uri": "https://localhost:8080/"
        },
        "id": "rY5B6QfxULFm",
        "outputId": "47329ec7-67db-437a-d6e2-3e24125de1e9"
      },
      "source": [
        "# 코로나 이전 이용자수를 새 df에 저장한다.\n",
        "df_previous = df.filter(df.코로나 == -1)\n",
        "df_previous = df_previous.withColumnRenamed('역별이용자수', '이전이용자수')\n",
        "df_previous.show()"
      ],
      "execution_count": 11,
      "outputs": [
        {
          "output_type": "stream",
          "name": "stdout",
          "text": [
            "+------+--------------------+------------+\n",
            "|코로나|                역명|이전이용자수|\n",
            "+------+--------------------+------------+\n",
            "|    -1|    흑석(중앙대입구)|     6155347|\n",
            "|    -1|          효창공원앞|     6218741|\n",
            "|    -1|    회현(남대문시장)|    18777734|\n",
            "|    -1|                회룡|     8164715|\n",
            "|    -1|                회기|    18265333|\n",
            "|    -1|                화정|    12214324|\n",
            "|    -1|                화전|     1603029|\n",
            "|    -1|                화서|     5251906|\n",
            "|    -1|화랑대(서울여대입구)|     8048587|\n",
            "|    -1|                화곡|    18541001|\n",
            "|    -1|                화계|     2038078|\n",
            "|    -1|                홍제|    12084790|\n",
            "|    -1|            홍대입구|    58440111|\n",
            "|    -1|              호구포|     2271433|\n",
            "|    -1|                혜화|    26035834|\n",
            "|    -1|                행신|     4940103|\n",
            "|    -1|                행당|     5299875|\n",
            "|    -1|                합정|    30452244|\n",
            "|    -1|                한티|     9224318|\n",
            "|    -1|              한양대|     6886558|\n",
            "+------+--------------------+------------+\n",
            "only showing top 20 rows\n",
            "\n"
          ]
        }
      ]
    },
    {
      "cell_type": "code",
      "metadata": {
        "colab": {
          "base_uri": "https://localhost:8080/"
        },
        "id": "ynS3qd6oUK-8",
        "outputId": "31f0efc3-fd1d-410f-ff3a-c8a11775aad2"
      },
      "source": [
        "# 코로나 이후 사용자수 또한 별도의 df에 저장한다.\n",
        "df_post = df.filter(df.코로나 == 1)\n",
        "df_post = df_post.withColumnRenamed('역별이용자수', '이후이용자수')\n",
        "df_post.show()"
      ],
      "execution_count": 12,
      "outputs": [
        {
          "output_type": "stream",
          "name": "stdout",
          "text": [
            "+------+--------------------+------------+\n",
            "|코로나|                역명|이후이용자수|\n",
            "+------+--------------------+------------+\n",
            "|     1|    흑석(중앙대입구)|     3816069|\n",
            "|     1|          효창공원앞|     4826514|\n",
            "|     1|    회현(남대문시장)|    11283181|\n",
            "|     1|                회룡|     6276987|\n",
            "|     1|                회기|    12044998|\n",
            "|     1|                화정|     8525525|\n",
            "|     1|                화전|      822115|\n",
            "|     1|                화서|     3647735|\n",
            "|     1|화랑대(서울여대입구)|     5573961|\n",
            "|     1|                화곡|    14273259|\n",
            "|     1|                화계|     1669995|\n",
            "|     1|                홍제|     8787302|\n",
            "|     1|            홍대입구|    32801540|\n",
            "|     1|              호구포|     1813329|\n",
            "|     1|                혜화|    15545701|\n",
            "|     1|                행신|     3803644|\n",
            "|     1|                행당|     4067437|\n",
            "|     1|                합정|    22145669|\n",
            "|     1|                한티|     6939102|\n",
            "|     1|              한양대|     3511069|\n",
            "+------+--------------------+------------+\n",
            "only showing top 20 rows\n",
            "\n"
          ]
        }
      ]
    },
    {
      "cell_type": "code",
      "metadata": {
        "id": "F1wqDDVpUba8"
      },
      "source": [
        "# 이제 두 df를 left join을 이용해 합친다. 같은 df에서 파생된 두 df이므로 데이터 손실은 걱정하지 않아도 된다.\n",
        "df_joined = df_previous.join(df_post, on='역명', how='left')"
      ],
      "execution_count": 13,
      "outputs": []
    },
    {
      "cell_type": "code",
      "metadata": {
        "id": "9V1ZXy57UbYc"
      },
      "source": [
        "# 이제 각 시기의 이용자수 col을 만들었으므로, 두 col을 이용해 코로나 이전 대비 이후 이용자수 변화율을 구해주자.\n",
        "df_joined = df_joined.withColumn('이용자변화율', F.col('이후이용자수') / F.col('이전이용자수') - 1)"
      ],
      "execution_count": 14,
      "outputs": []
    },
    {
      "cell_type": "code",
      "metadata": {
        "colab": {
          "base_uri": "https://localhost:8080/"
        },
        "id": "HkY_QZmxUbVe",
        "outputId": "631f858b-b1b2-4c5d-f78f-ee3ee3b5d572"
      },
      "source": [
        "df_joined.show()"
      ],
      "execution_count": 15,
      "outputs": [
        {
          "output_type": "stream",
          "name": "stdout",
          "text": [
            "+--------------------+------+------------+------+------------+--------------------+\n",
            "|                역명|코로나|이전이용자수|코로나|이후이용자수|        이용자변화율|\n",
            "+--------------------+------+------------+------+------------+--------------------+\n",
            "|    흑석(중앙대입구)|    -1|     6155347|     1|     3816069|-0.38003998799742733|\n",
            "|          효창공원앞|    -1|     6218741|     1|     4826514|-0.22387602249394212|\n",
            "|    회현(남대문시장)|    -1|    18777734|     1|    11283181| -0.3991191375913622|\n",
            "|                회룡|    -1|     8164715|     1|     6276987|-0.23120562077182116|\n",
            "|                회기|    -1|    18265333|     1|    12044998| -0.3405541525029957|\n",
            "|                화정|    -1|    12214324|     1|     8525525| -0.3020059890338589|\n",
            "|                화전|    -1|     1603029|     1|      822115| -0.4871490160190489|\n",
            "|                화서|    -1|     5251906|     1|     3647735| -0.3054454896945985|\n",
            "|화랑대(서울여대입구)|    -1|     8048587|     1|     5573961| -0.3074609245076185|\n",
            "|                화곡|    -1|    18541001|     1|    14273259|-0.23017861872721979|\n",
            "|                화계|    -1|     2038078|     1|     1669995|-0.18060299949265923|\n",
            "|                홍제|    -1|    12084790|     1|     8787302| -0.2728626645560246|\n",
            "|            홍대입구|    -1|    58440111|     1|    32801540|  -0.438715302919257|\n",
            "|              호구포|    -1|     2271433|     1|     1813329| -0.2016806130755343|\n",
            "|                혜화|    -1|    26035834|     1|    15545701| -0.4029113490276517|\n",
            "|                행신|    -1|     4940103|     1|     3803644|-0.23004763261008931|\n",
            "|                행당|    -1|     5299875|     1|     4067437|-0.23254095615462633|\n",
            "|                합정|    -1|    30452244|     1|    22145669|-0.27277382251370375|\n",
            "|                한티|    -1|     9224318|     1|     6939102|-0.24773820677040836|\n",
            "|              한양대|    -1|     6886558|     1|     3511069|   -0.49015618542674|\n",
            "+--------------------+------+------------+------+------------+--------------------+\n",
            "only showing top 20 rows\n",
            "\n"
          ]
        }
      ]
    },
    {
      "cell_type": "code",
      "metadata": {
        "colab": {
          "base_uri": "https://localhost:8080/"
        },
        "id": "2LhDMWpjUbSq",
        "outputId": "83e5a702-8c1c-4408-ccb5-935d820d72e3"
      },
      "source": [
        "# 보기편하게 역명 오름차순으로 재정렬\n",
        "df_joined = df_joined.select(['역명', '이용자변화율']).orderBy('역명')\n",
        "df_joined.show()"
      ],
      "execution_count": 16,
      "outputs": [
        {
          "output_type": "stream",
          "name": "stdout",
          "text": [
            "+------------------+--------------------+\n",
            "|              역명|        이용자변화율|\n",
            "+------------------+--------------------+\n",
            "|      4.19민주묘지| -0.2625318589341581|\n",
            "|              가능| -0.2599903937669372|\n",
            "|          가락시장| -0.2404176256996079|\n",
            "|    가산디지털단지| -0.1358371150297102|\n",
            "|              가양| -0.2190068185714824|\n",
            "|            가오리|-0.20101607740954452|\n",
            "|              가좌| -0.2075038932747617|\n",
            "|            가천대| -0.3859967071050384|\n",
            "|              가평| -0.3822845094559424|\n",
            "|              간석|-0.28193791382842914|\n",
            "|              갈매|-0.10071730504533882|\n",
            "|              강남| -0.3256539890517869|\n",
            "|          강남구청|-0.16275754284531496|\n",
            "|              강동|-0.22425780281891472|\n",
            "|          강동구청|-0.22524604129526749|\n",
            "|              강매|-0.15748086306509812|\n",
            "|강변(동서울터미널)| -0.4220370130679365|\n",
            "|              강촌| -0.3354668507836245|\n",
            "|              개롱|-0.25814490432094295|\n",
            "|              개봉|-0.27270737442298854|\n",
            "+------------------+--------------------+\n",
            "only showing top 20 rows\n",
            "\n"
          ]
        }
      ]
    },
    {
      "cell_type": "code",
      "metadata": {
        "id": "-Fec6kdCRTyi"
      },
      "source": [
        "# 역들의 위치를 기록한 데이터를 불러옴\n",
        "station_locate = spark.read.format(\"csv\").option(\"header\", True).load(\"/content/drive/MyDrive/data/station_coordinate.csv\", encoding='utf-8')\n",
        "station_locate = station_locate.withColumnRenamed(\"name\", \"역명\")\n",
        "station_locate = station_locate.withColumnRenamed(\"line\", \"노선명\")\n",
        "station_locate = station_locate.select('노선명', '역명', 'lat', 'lng').distinct()"
      ],
      "execution_count": 17,
      "outputs": []
    },
    {
      "cell_type": "code",
      "metadata": {
        "colab": {
          "base_uri": "https://localhost:8080/"
        },
        "id": "W9JBXvY8Rqc2",
        "outputId": "361338e9-08f3-4ec5-9258-010446fa0dab"
      },
      "source": [
        "station_locate.show()"
      ],
      "execution_count": 18,
      "outputs": [
        {
          "output_type": "stream",
          "name": "stdout",
          "text": [
            "+--------------+------------+---------+----------+\n",
            "|        노선명|        역명|      lat|       lng|\n",
            "+--------------+------------+---------+----------+\n",
            "|        02호선|        아현|37.557345|126.956141|\n",
            "|        03호선|        원당|37.653324|126.843041|\n",
            "|        03호선|        대곡|37.631626|126.811024|\n",
            "|우이신설경전철|        화계|37.634802|127.017519|\n",
            "|        05호선|        마곡|37.560183|126.825448|\n",
            "|        05호선|        방이|37.508857|127.126133|\n",
            "|        경춘선|        신내|37.612887|127.103218|\n",
            "|        분당선|        모란| 37.43213|127.129087|\n",
            "|        04호선|        사당| 37.47653|126.981685|\n",
            "|        06호선|        대흥|37.547771|126.942069|\n",
            "|        06호선|        증산|37.583876|126.909645|\n",
            "|        07호선|      보라매|37.499872|126.920428|\n",
            "|        08호선|        잠실| 37.51395|127.102234|\n",
            "|        서해선|        신현|     null|      null|\n",
            "|      신분당선|        판교|37.394761|127.111217|\n",
            "|        01호선|        덕계|37.818486|127.056486|\n",
            "|        02호선|        이대|37.556733|126.946013|\n",
            "|        경의선|        운정|37.725826|126.767257|\n",
            "|        인천선|경인교대입구|37.538157|126.722597|\n",
            "|        인천선|  센트럴파크|37.393054|126.634729|\n",
            "+--------------+------------+---------+----------+\n",
            "only showing top 20 rows\n",
            "\n"
          ]
        }
      ]
    },
    {
      "cell_type": "markdown",
      "metadata": {
        "id": "YYdwfcGjWye4"
      },
      "source": [
        "안타깝게도 위치데이터를 갱신한 df를 따로 저장하지 않았다."
      ]
    },
    {
      "cell_type": "code",
      "metadata": {
        "id": "MerAeetTTUSF"
      },
      "source": [
        "# null값 채워넣기\n",
        "# 인천공항1터미널\n",
        "station_locate = station_locate.withColumn(\"lat\", F.when(station_locate.역명=='인천공항1터미널', '37.447492').otherwise(station_locate.lat))\n",
        "station_locate = station_locate.withColumn(\"lng\", F.when(station_locate.역명=='인천공항1터미널', '126.452555').otherwise(station_locate.lng))\n",
        "# 인천공항2터미널\n",
        "station_locate = station_locate.withColumn(\"lat\", F.when(station_locate.역명=='인천공항2터미널', '37.467407').otherwise(station_locate.lat))\n",
        "station_locate = station_locate.withColumn(\"lng\", F.when(station_locate.역명=='인천공항2터미널', '126.434142').otherwise(station_locate.lng))\n",
        "# 경기광주역\n",
        "station_locate = station_locate.withColumn(\"lat\", F.when(station_locate.역명=='경기광주', '37.398775').otherwise(station_locate.lat))\n",
        "station_locate = station_locate.withColumn(\"lng\", F.when(station_locate.역명=='경기광주', '127.252308').otherwise(station_locate.lng))\n",
        "\n",
        "# 신촌역과 양평역은 동일한 이름의 역명이 2개 존재해서 위치 데이터가 잘못기록되어 있었다.\n",
        "# 신촌역(경의중앙)\n",
        "station_locate = station_locate.withColumn(\"lat\", F.when((station_locate.역명=='신촌') & (station_locate.노선명=='경의선'), '37.559864').otherwise(station_locate.lat))\n",
        "station_locate = station_locate.withColumn(\"lng\", F.when((station_locate.역명=='신촌') & (station_locate.노선명=='경의선'), '126.942571').otherwise(station_locate.lng))\n",
        "# 양평역(서울)\n",
        "station_locate = station_locate.withColumn(\"lat\", F.when((station_locate.역명=='양평') & (station_locate.노선명=='05호선'), '37.525338').otherwise(station_locate.lat))\n",
        "station_locate = station_locate.withColumn(\"lng\", F.when((station_locate.역명=='양평') & (station_locate.노선명=='05호선'), '126.886194').otherwise(station_locate.lng))"
      ],
      "execution_count": 19,
      "outputs": []
    },
    {
      "cell_type": "code",
      "metadata": {
        "id": "339S9HnxTlJx"
      },
      "source": [
        "# 이용자수 df와 다른 역명 처리\n",
        "# 해당하는 역들로 dictionary를 만들고 그 key값들을 list에 저장\n",
        "change_name = {'서울': '서울역', '419민주묘지': '4.19민주묘지', '지제': '평택지제'}\n",
        "change_name_list = []\n",
        "for key in change_name:\n",
        "    change_name_list.append(key)"
      ],
      "execution_count": 20,
      "outputs": []
    },
    {
      "cell_type": "code",
      "metadata": {
        "id": "fXxpdKszTm24"
      },
      "source": [
        "from itertools import chain\n",
        "\n",
        "\n",
        "mapping_expr = F.create_map([F.lit(x) for x in chain(*change_name.items())])\n",
        "station_locate = station_locate.withColumn(\"역명\", F.when(station_locate.역명.isin(change_name_list), mapping_expr[F.col(\"역명\")]).otherwise(station_locate.역명))"
      ],
      "execution_count": 21,
      "outputs": []
    },
    {
      "cell_type": "code",
      "metadata": {
        "id": "dWRSPDzhTvqC"
      },
      "source": [
        "# 동명이역 처리\n",
        "# 가짜 신촌역 이름 바꿔줌\n",
        "station_locate = station_locate.withColumn(\"역명\", F.when((station_locate.역명=='신촌') & (station_locate.노선명=='경의선'), '신촌(경의중앙)').otherwise(station_locate.역명))\n",
        "# 양평역 이름 바꿔줌\n",
        "station_locate = station_locate.withColumn(\"역명\", F.when((station_locate.역명=='양평') & (station_locate.노선명=='05호선'), '양평(서울)').otherwise(station_locate.역명))"
      ],
      "execution_count": 22,
      "outputs": []
    },
    {
      "cell_type": "code",
      "metadata": {
        "id": "viw7fF0qTypi"
      },
      "source": [
        "# 필요한 col만 추려냄\n",
        "station_locate = station_locate.select('역명', 'lat', 'lng').distinct()"
      ],
      "execution_count": 23,
      "outputs": []
    },
    {
      "cell_type": "code",
      "metadata": {
        "id": "Ce4SRwHoSAp_"
      },
      "source": [
        "# 각 노선내 순서를 기록해둔 데이터를 불러옴\n",
        "ordered = spark.read.format(\"csv\").option(\"header\", True).load(\"/content/drive/MyDrive/data/ordered_line(ver2).csv\", encoding='utf-8')"
      ],
      "execution_count": 24,
      "outputs": []
    },
    {
      "cell_type": "code",
      "metadata": {
        "colab": {
          "base_uri": "https://localhost:8080/"
        },
        "id": "BwPuNZcxSJ_V",
        "outputId": "11e35694-3992-41a0-a29e-752f4c6e8274"
      },
      "source": [
        "ordered.show()"
      ],
      "execution_count": 25,
      "outputs": [
        {
          "output_type": "stream",
          "name": "stdout",
          "text": [
            "+------+---------+----------+----+\n",
            "|노선명|sub노선명|      역명|순번|\n",
            "+------+---------+----------+----+\n",
            "| 1호선|    1호선|    소요산| 100|\n",
            "| 1호선|    1호선|    동두천| 101|\n",
            "| 1호선|    1호선|      보산| 102|\n",
            "| 1호선|    1호선|동두천중앙| 103|\n",
            "| 1호선|    1호선|      지행| 104|\n",
            "| 1호선|    1호선|      덕정| 105|\n",
            "| 1호선|    1호선|      덕계| 106|\n",
            "| 1호선|    1호선|      양주| 107|\n",
            "| 1호선|    1호선|      녹양| 108|\n",
            "| 1호선|    1호선|      가능| 109|\n",
            "| 1호선|    1호선|    의정부| 110|\n",
            "| 1호선|    1호선|      회룡| 111|\n",
            "| 1호선|    1호선|    망월사| 112|\n",
            "| 1호선|    1호선|    도봉산| 113|\n",
            "| 1호선|    1호선|      도봉| 114|\n",
            "| 1호선|    1호선|      방학| 115|\n",
            "| 1호선|    1호선|      창동| 116|\n",
            "| 1호선|    1호선|      녹천| 117|\n",
            "| 1호선|    1호선|      월계| 118|\n",
            "| 1호선|    1호선|    광운대| 119|\n",
            "+------+---------+----------+----+\n",
            "only showing top 20 rows\n",
            "\n"
          ]
        }
      ]
    },
    {
      "cell_type": "code",
      "metadata": {
        "id": "hNHhD17xSWpW"
      },
      "source": [
        "# 순서 df(그래프에 필요한 역들)에 위치 df를 left outer join으로 병합\n",
        "test = ordered.join(station_locate, on='역명', how='left')"
      ],
      "execution_count": 26,
      "outputs": []
    },
    {
      "cell_type": "code",
      "metadata": {
        "colab": {
          "base_uri": "https://localhost:8080/"
        },
        "id": "lWrtZHPFSUDN",
        "outputId": "79c5fbba-99bb-43ae-dbad-cfa1ae0b4387"
      },
      "source": [
        "# ordered에는 있고 station_locate에는 없는 역을 확인\n",
        "test.select('역명', '노선명').where(F.col('lat').isNull()==True).distinct().orderBy('노선명').show()"
      ],
      "execution_count": 27,
      "outputs": [
        {
          "output_type": "stream",
          "name": "stdout",
          "text": [
            "+----+------+\n",
            "|역명|노선명|\n",
            "+----+------+\n",
            "+----+------+\n",
            "\n"
          ]
        }
      ]
    },
    {
      "cell_type": "code",
      "metadata": {
        "id": "uf6ck-nASUAZ"
      },
      "source": [
        "# 이 df를 이용자수 df에 합치면 병기역명 때문에 문제가 생긴다. 이를 처리해주자.\n",
        "# 변경해야하는 병기역명이 많이므로 딕셔너리를 활용하려한다.(수작업)\n",
        "duel_name = {'충정로': '충정로(경기대입구)', '안암': '안암(고대병원앞)', '천호': '천호(풍납토성)',\n",
        "             '신창': '신창(순천향대)', '봉화산': '봉화산(서울의료원)', '광화문': '광화문(세종문화회관)',\n",
        "             '마곡나루': '마곡나루(서울식물원)', '어린이대공원': '어린이대공원(세종대)', '경복궁': '경복궁(정부서울청사)',\n",
        "             '상봉': '상봉(시외버스터미널)', '왕십리': '왕십리(성동구청)', '교대': '교대(법원.검찰청)',\n",
        "             '남한산성입구': '남한산성입구(성남법원.검찰청)', '수유': '수유(강북구청)', '월드컵경기장': '월드컵경기장(성산)',\n",
        "             '쌍용': '쌍용(나사렛대)', '청량리': '청량리(서울시립대입구)', '숭실대입구': '숭실대입구(살피재)',\n",
        "             '총신대입구': '총신대입구(이수)', '동작': '동작(현충원)', '새절': '새절(신사)', '강변': '강변(동서울터미널)',\n",
        "             '몽촌토성': '몽촌토성(평화의문)', '아차산': '아차산(어린이대공원후문)', '고려대': '고려대(종암)', '증산': '증산(명지대앞)',\n",
        "             '광흥창': '광흥창(서강)', '서울대입구': '서울대입구(관악구청)', '군자': '군자(능동)', '오목교': '오목교(목동운동장앞)',\n",
        "             '신정': '신정(은행정)', '잠실': '잠실(송파구청)', '미아': '미아(서울사이버대학)', '삼성': '삼성(무역센터)',\n",
        "             '대림': '대림(구로구청)', '회현': '회현(남대문시장)', '구의': '구의(광진구청)', '용마산': '용마산(용마폭포공원)',\n",
        "             '남부터미널': '남부터미널(예술의전당)', '화랑대': '화랑대(서울여대입구)', '녹사평': '녹사평(용산구청)',\n",
        "             '용두': '용두(동대문구청)', '대흥': '대흥(서강대앞)', '낙성대': '낙성대(강감찬)', '양재': '양재(서초구청)',\n",
        "             '상월곡': '상월곡(한국과학기술연구원)', '숙대입구': '숙대입구(갈월)', '광나루': '광나루(장신대)',\n",
        "             '온수': '온수(성공회대입구)', '올림픽공원': '올림픽공원(한국체대)', '한성대입구': '한성대입구(삼선교)',\n",
        "             '이촌': '이촌(국립중앙박물관)', '동대문역사문화공원': '동대문역사문화공원(DDP)', '공릉': '공릉(서울과학기술대)',\n",
        "             '성신여대입구': '성신여대입구(돈암)', '굽은다리': '굽은다리(강동구민회관앞)', '월곡': '월곡(동덕여대)', '흑석': '흑석(중앙대입구)'}"
      ],
      "execution_count": 28,
      "outputs": []
    },
    {
      "cell_type": "code",
      "metadata": {
        "id": "_UarAw-7ST9i"
      },
      "source": [
        "duel_name_list = []\n",
        "for key in duel_name:\n",
        "    duel_name_list.append(key)"
      ],
      "execution_count": 29,
      "outputs": []
    },
    {
      "cell_type": "code",
      "metadata": {
        "id": "212JcWzRST1P"
      },
      "source": [
        "# test의 역명을 바꿔줌\n",
        "mapping_expr = F.create_map([F.lit(x) for x in chain(*duel_name.items())])\n",
        "test = test.withColumn(\"역명\", F.when(test.역명.isin(duel_name_list), mapping_expr[F.col(\"역명\")]).otherwise(test.역명))"
      ],
      "execution_count": 30,
      "outputs": []
    },
    {
      "cell_type": "code",
      "metadata": {
        "id": "Qcu05REjRc9H"
      },
      "source": [
        "# 이용자수 df를 left outer join으로 합쳐줌\n",
        "test2 = test.join(df_joined, on='역명', how='left')"
      ],
      "execution_count": 31,
      "outputs": []
    },
    {
      "cell_type": "code",
      "metadata": {
        "colab": {
          "base_uri": "https://localhost:8080/"
        },
        "id": "_I8YzLbIUxAZ",
        "outputId": "3fa53b5c-b496-4e80-dcff-16b056f44d11"
      },
      "source": [
        "# null값 존재하는지 확인\n",
        "test2.where(F.col('lat').isNull()==True).orderBy('역명').show()"
      ],
      "execution_count": 32,
      "outputs": [
        {
          "output_type": "stream",
          "name": "stdout",
          "text": [
            "+----+------+---------+----+---+---+------------+\n",
            "|역명|노선명|sub노선명|순번|lat|lng|이용자변화율|\n",
            "+----+------+---------+----+---+---+------------+\n",
            "+----+------+---------+----+---+---+------------+\n",
            "\n"
          ]
        }
      ]
    },
    {
      "cell_type": "code",
      "metadata": {
        "colab": {
          "base_uri": "https://localhost:8080/"
        },
        "id": "z0gDClf_U1ib",
        "outputId": "f5d62f1a-9d1e-45d5-f969-be156535543a"
      },
      "source": [
        "# 반대 방향의 join을 실시하여 손실되는 data확인\n",
        "df_joined.join(test, on='역명', how='left').where(F.col('lat').isNull()==True).show()"
      ],
      "execution_count": 33,
      "outputs": [
        {
          "output_type": "stream",
          "name": "stdout",
          "text": [
            "+----+------------+------+---------+----+---+---+\n",
            "|역명|이용자변화율|노선명|sub노선명|순번|lat|lng|\n",
            "+----+------------+------+---------+----+---+---+\n",
            "+----+------------+------+---------+----+---+---+\n",
            "\n"
          ]
        }
      ]
    },
    {
      "cell_type": "code",
      "metadata": {
        "id": "UlrWozXVU6oV"
      },
      "source": [
        "result = test2.orderBy('sub노선명')"
      ],
      "execution_count": 34,
      "outputs": []
    },
    {
      "cell_type": "code",
      "metadata": {
        "colab": {
          "base_uri": "https://localhost:8080/"
        },
        "id": "etipOjouU8No",
        "outputId": "e950722f-e48d-4337-ba6e-43e4aa99f005"
      },
      "source": [
        "result.show()"
      ],
      "execution_count": 35,
      "outputs": [
        {
          "output_type": "stream",
          "name": "stdout",
          "text": [
            "+----------------------+------+---------+----+---------+----------+--------------------+\n",
            "|                  역명|노선명|sub노선명|순번|      lat|       lng|        이용자변화율|\n",
            "+----------------------+------+---------+----+---------+----------+--------------------+\n",
            "|                  용산| 1호선|    1호선| 135|37.529849|126.964561|-0.35582950083197395|\n",
            "|            동두천중앙| 1호선|    1호선| 103|37.901885|127.056482|-0.31707269927925985|\n",
            "|               종로3가| 1호선|    1호선| 130|37.571607|126.991806| -0.3702077446113671|\n",
            "|                신이문| 1호선|    1호선| 121|37.601854|127.067325|-0.24867124031403898|\n",
            "|청량리(서울시립대입구)| 1호선|    1호선| 124|37.580178|127.046835|-0.30873663723207145|\n",
            "|                  송내| 1호선|    1호선| 150|  37.4876|126.753664| -0.3069108566247968|\n",
            "|                광운대| 1호선|    1호선| 119|37.623632|127.061835| -0.3007307666340202|\n",
            "|                  구로| 1호선|    1호선| 141|37.503039|126.881966|-0.26640820730679904|\n",
            "|                동대문| 1호선|    1호선| 128| 37.57142|127.009745| -0.3471682452334497|\n",
            "|                오류동| 1호선|    1호선| 144|37.494526|126.845365| -0.2207469978782155|\n",
            "|                  백운| 1호선|    1호선| 153|37.483664|126.707704| -0.3371214025791375|\n",
            "|                  녹천| 1호선|    1호선| 117|37.644799|127.051269|-0.24372755988000194|\n",
            "|                  월계| 1호선|    1호선| 118|37.633212|127.058831|-0.23728663832360852|\n",
            "|                  덕정| 1호선|    1호선| 105|37.843188|127.061277| -0.3251041641731568|\n",
            "|                  덕계| 1호선|    1호선| 106|37.818486|127.056486|-0.03023717681291...|\n",
            "|                노량진| 1호선|    1호선| 136|37.514219|126.942454| -0.3144809812232925|\n",
            "|                  시청| 1호선|    1호선| 132|37.564718|126.977108| -0.3479647793136319|\n",
            "|                  신길| 1호선|    1호선| 138|37.517122|126.917169|-0.19813374820731655|\n",
            "|                신설동| 1호선|    1호선| 126|37.575297|127.025087|-0.28176501265873555|\n",
            "|                  역곡| 1호선|    1호선| 146|37.485178|126.811502| -0.2861709737302123|\n",
            "+----------------------+------+---------+----+---------+----------+--------------------+\n",
            "only showing top 20 rows\n",
            "\n"
          ]
        }
      ]
    },
    {
      "cell_type": "code",
      "metadata": {
        "id": "GOG8j3IyVHGW"
      },
      "source": [
        "# 문제가 없으니 저장\n",
        "result.write.parquet('/content/drive/MyDrive/data/contrast_metro_user/ordered_line_difference_ratio.parquet')"
      ],
      "execution_count": null,
      "outputs": []
    }
  ]
}