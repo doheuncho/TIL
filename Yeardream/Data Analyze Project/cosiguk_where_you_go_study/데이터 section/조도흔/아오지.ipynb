{
  "nbformat": 4,
  "nbformat_minor": 0,
  "metadata": {
    "colab": {
      "name": "아오지.ipynb",
      "provenance": [],
      "collapsed_sections": []
    },
    "kernelspec": {
      "name": "python3",
      "display_name": "Python 3"
    },
    "language_info": {
      "name": "python"
    }
  },
  "cells": [
    {
      "cell_type": "markdown",
      "metadata": {
        "id": "71pEq2hnJNeA"
      },
      "source": [
        "<h1>아오지"
      ]
    },
    {
      "cell_type": "code",
      "metadata": {
        "id": "2_AivsHjJzTP"
      },
      "source": [
        "import pandas as pd\n",
        "import matplotlib.pyplot as plt\n",
        "import numpy as np"
      ],
      "execution_count": null,
      "outputs": []
    },
    {
      "cell_type": "code",
      "metadata": {
        "id": "rx0ceiCXJzL3"
      },
      "source": [
        "# 훈련세트와 테스트를 나눠주는 모듈\n",
        "from sklearn.model_selection import train_test_split\n",
        "# 선형회귀를 이용할 모듈\n",
        "from sklearn.linear_model import LinearRegression\n",
        "# 주어진 특성들을 이용해 새로운 특성을 만들어주는 모듈\n",
        "from sklearn.preprocessing import PolynomialFeatures\n",
        "# 표준화를 하기 위한 모듈\n",
        "from sklearn.preprocessing import StandardScaler"
      ],
      "execution_count": null,
      "outputs": []
    },
    {
      "cell_type": "code",
      "metadata": {
        "id": "AmmkMMM1ZFHR"
      },
      "source": [
        "from datetime import datetime, timedelta"
      ],
      "execution_count": null,
      "outputs": []
    },
    {
      "cell_type": "markdown",
      "metadata": {
        "id": "PTIk5eWuBNZT"
      },
      "source": [
        "<h2>지하철 이용자 수 데이터</h2>"
      ]
    },
    {
      "cell_type": "code",
      "metadata": {
        "id": "TJ-SMQpfJL-i"
      },
      "source": [
        "# 일일 지하철 이용자 수 데이터\n",
        "metro_data = pd.read_csv(\"/content/drive/MyDrive/data/MLR/일간지하철승차량.csv\")\n",
        "metro_data = metro_data[metro_data['사용일자']>'2019-12-31']"
      ],
      "execution_count": null,
      "outputs": []
    },
    {
      "cell_type": "code",
      "metadata": {
        "id": "rZ42E3lPAoMl"
      },
      "source": [
        "metro_data = metro_data.reset_index(drop=True)"
      ],
      "execution_count": null,
      "outputs": []
    },
    {
      "cell_type": "code",
      "metadata": {
        "id": "4Fq6hXb6A7t6"
      },
      "source": [
        "metro_data.rename(columns={\"사용일자\": \"기준일\"}, inplace=True)"
      ],
      "execution_count": null,
      "outputs": []
    },
    {
      "cell_type": "code",
      "metadata": {
        "id": "0ooi6bZrXiYp"
      },
      "source": [
        "metro_data = metro_data.astype({'기준일': 'datetime64'})\n",
        "metro_data['요일'] = metro_data['기준일'].dt.dayofweek"
      ],
      "execution_count": null,
      "outputs": []
    },
    {
      "cell_type": "code",
      "metadata": {
        "colab": {
          "base_uri": "https://localhost:8080/",
          "height": 424
        },
        "id": "3o8FEvDwV2S2",
        "outputId": "cb7c350c-906d-4589-c1d3-9f8c3d43fcea"
      },
      "source": [
        "metro_data"
      ],
      "execution_count": null,
      "outputs": [
        {
          "output_type": "execute_result",
          "data": {
            "text/html": [
              "<div>\n",
              "<style scoped>\n",
              "    .dataframe tbody tr th:only-of-type {\n",
              "        vertical-align: middle;\n",
              "    }\n",
              "\n",
              "    .dataframe tbody tr th {\n",
              "        vertical-align: top;\n",
              "    }\n",
              "\n",
              "    .dataframe thead th {\n",
              "        text-align: right;\n",
              "    }\n",
              "</style>\n",
              "<table border=\"1\" class=\"dataframe\">\n",
              "  <thead>\n",
              "    <tr style=\"text-align: right;\">\n",
              "      <th></th>\n",
              "      <th>기준일</th>\n",
              "      <th>일별이용자수</th>\n",
              "    </tr>\n",
              "  </thead>\n",
              "  <tbody>\n",
              "    <tr>\n",
              "      <th>0</th>\n",
              "      <td>2020-01-01</td>\n",
              "      <td>3479698</td>\n",
              "    </tr>\n",
              "    <tr>\n",
              "      <th>1</th>\n",
              "      <td>2020-01-02</td>\n",
              "      <td>7691529</td>\n",
              "    </tr>\n",
              "    <tr>\n",
              "      <th>2</th>\n",
              "      <td>2020-01-03</td>\n",
              "      <td>8224917</td>\n",
              "    </tr>\n",
              "    <tr>\n",
              "      <th>3</th>\n",
              "      <td>2020-01-04</td>\n",
              "      <td>6042529</td>\n",
              "    </tr>\n",
              "    <tr>\n",
              "      <th>4</th>\n",
              "      <td>2020-01-05</td>\n",
              "      <td>4425521</td>\n",
              "    </tr>\n",
              "    <tr>\n",
              "      <th>...</th>\n",
              "      <td>...</td>\n",
              "      <td>...</td>\n",
              "    </tr>\n",
              "    <tr>\n",
              "      <th>665</th>\n",
              "      <td>2021-10-27</td>\n",
              "      <td>6788314</td>\n",
              "    </tr>\n",
              "    <tr>\n",
              "      <th>666</th>\n",
              "      <td>2021-10-28</td>\n",
              "      <td>6763319</td>\n",
              "    </tr>\n",
              "    <tr>\n",
              "      <th>667</th>\n",
              "      <td>2021-10-29</td>\n",
              "      <td>6975784</td>\n",
              "    </tr>\n",
              "    <tr>\n",
              "      <th>668</th>\n",
              "      <td>2021-10-30</td>\n",
              "      <td>5076792</td>\n",
              "    </tr>\n",
              "    <tr>\n",
              "      <th>669</th>\n",
              "      <td>2021-10-31</td>\n",
              "      <td>3730136</td>\n",
              "    </tr>\n",
              "  </tbody>\n",
              "</table>\n",
              "<p>670 rows × 2 columns</p>\n",
              "</div>"
            ],
            "text/plain": [
              "            기준일   일별이용자수\n",
              "0    2020-01-01  3479698\n",
              "1    2020-01-02  7691529\n",
              "2    2020-01-03  8224917\n",
              "3    2020-01-04  6042529\n",
              "4    2020-01-05  4425521\n",
              "..          ...      ...\n",
              "665  2021-10-27  6788314\n",
              "666  2021-10-28  6763319\n",
              "667  2021-10-29  6975784\n",
              "668  2021-10-30  5076792\n",
              "669  2021-10-31  3730136\n",
              "\n",
              "[670 rows x 2 columns]"
            ]
          },
          "metadata": {},
          "execution_count": 7
        }
      ]
    },
    {
      "cell_type": "markdown",
      "metadata": {
        "id": "xkyodFIYBUyV"
      },
      "source": [
        "<h2>확진자 수 데이터</h2>"
      ]
    },
    {
      "cell_type": "code",
      "metadata": {
        "colab": {
          "base_uri": "https://localhost:8080/",
          "height": 424
        },
        "id": "Jknxe1E2JXbN",
        "outputId": "00b433f8-3f1e-4d0b-e404-bbc1161f92c2"
      },
      "source": [
        "# 서울시 일일 신규 확진자수 데이터\n",
        "confirmed_data = pd.read_csv(\"/content/drive/MyDrive/data/MLR/서울시_신규확진자.csv\", encoding='euc-kr')\n",
        "confirmed_data"
      ],
      "execution_count": null,
      "outputs": [
        {
          "output_type": "execute_result",
          "data": {
            "text/html": [
              "<div>\n",
              "<style scoped>\n",
              "    .dataframe tbody tr th:only-of-type {\n",
              "        vertical-align: middle;\n",
              "    }\n",
              "\n",
              "    .dataframe tbody tr th {\n",
              "        vertical-align: top;\n",
              "    }\n",
              "\n",
              "    .dataframe thead th {\n",
              "        text-align: right;\n",
              "    }\n",
              "</style>\n",
              "<table border=\"1\" class=\"dataframe\">\n",
              "  <thead>\n",
              "    <tr style=\"text-align: right;\">\n",
              "      <th></th>\n",
              "      <th>기준일</th>\n",
              "      <th>신규확진자</th>\n",
              "    </tr>\n",
              "  </thead>\n",
              "  <tbody>\n",
              "    <tr>\n",
              "      <th>0</th>\n",
              "      <td>2020-01-20</td>\n",
              "      <td>0</td>\n",
              "    </tr>\n",
              "    <tr>\n",
              "      <th>1</th>\n",
              "      <td>2020-01-21</td>\n",
              "      <td>0</td>\n",
              "    </tr>\n",
              "    <tr>\n",
              "      <th>2</th>\n",
              "      <td>2020-01-22</td>\n",
              "      <td>0</td>\n",
              "    </tr>\n",
              "    <tr>\n",
              "      <th>3</th>\n",
              "      <td>2020-01-23</td>\n",
              "      <td>0</td>\n",
              "    </tr>\n",
              "    <tr>\n",
              "      <th>4</th>\n",
              "      <td>2020-01-24</td>\n",
              "      <td>0</td>\n",
              "    </tr>\n",
              "    <tr>\n",
              "      <th>...</th>\n",
              "      <td>...</td>\n",
              "      <td>...</td>\n",
              "    </tr>\n",
              "    <tr>\n",
              "      <th>666</th>\n",
              "      <td>2021-11-16</td>\n",
              "      <td>846</td>\n",
              "    </tr>\n",
              "    <tr>\n",
              "      <th>667</th>\n",
              "      <td>2021-11-17</td>\n",
              "      <td>1436</td>\n",
              "    </tr>\n",
              "    <tr>\n",
              "      <th>668</th>\n",
              "      <td>2021-11-18</td>\n",
              "      <td>1429</td>\n",
              "    </tr>\n",
              "    <tr>\n",
              "      <th>669</th>\n",
              "      <td>2021-11-19</td>\n",
              "      <td>1401</td>\n",
              "    </tr>\n",
              "    <tr>\n",
              "      <th>670</th>\n",
              "      <td>2021-11-20</td>\n",
              "      <td>1373</td>\n",
              "    </tr>\n",
              "  </tbody>\n",
              "</table>\n",
              "<p>671 rows × 2 columns</p>\n",
              "</div>"
            ],
            "text/plain": [
              "            기준일  신규확진자\n",
              "0    2020-01-20      0\n",
              "1    2020-01-21      0\n",
              "2    2020-01-22      0\n",
              "3    2020-01-23      0\n",
              "4    2020-01-24      0\n",
              "..          ...    ...\n",
              "666  2021-11-16    846\n",
              "667  2021-11-17   1436\n",
              "668  2021-11-18   1429\n",
              "669  2021-11-19   1401\n",
              "670  2021-11-20   1373\n",
              "\n",
              "[671 rows x 2 columns]"
            ]
          },
          "metadata": {},
          "execution_count": 8
        }
      ]
    },
    {
      "cell_type": "code",
      "metadata": {
        "id": "ykwu_LeaJXz8",
        "colab": {
          "base_uri": "https://localhost:8080/"
        },
        "outputId": "98a0c0e8-7f37-429a-bf81-cfd6b93dbbca"
      },
      "source": [
        "confirmed_data.dtypes"
      ],
      "execution_count": null,
      "outputs": [
        {
          "output_type": "execute_result",
          "data": {
            "text/plain": [
              "기준일      object\n",
              "신규확진자     int64\n",
              "dtype: object"
            ]
          },
          "metadata": {},
          "execution_count": 9
        }
      ]
    },
    {
      "cell_type": "markdown",
      "metadata": {
        "id": "wyDZefSiBYeA"
      },
      "source": [
        "<h2>백신 접종 데이터</h2>"
      ]
    },
    {
      "cell_type": "code",
      "metadata": {
        "id": "jNbvTAy-JYIg"
      },
      "source": [
        ""
      ],
      "execution_count": null,
      "outputs": []
    },
    {
      "cell_type": "markdown",
      "metadata": {
        "id": "b8tFznzYBqo3"
      },
      "source": [
        "<h2>그래프로 확인</h2>"
      ]
    },
    {
      "cell_type": "code",
      "metadata": {
        "colab": {
          "base_uri": "https://localhost:8080/",
          "height": 385
        },
        "id": "sKXdEZY5BtzG",
        "outputId": "f08901e7-baee-4398-d43d-8e378940ce3e"
      },
      "source": [
        "fig = plt.figure(figsize=(14, 6))\n",
        "ax = plt.subplot(1,1,1)\n",
        "\n",
        "ax.plot(confirmed_data['기준일'], confirmed_data['신규확진자'])\n",
        "\n",
        "ax2 = ax.twinx()\n",
        "ax2.plot(metro_data['사용일자'], metro_data['일별이용자수'], color='r')\n",
        "\n",
        "plt.show()"
      ],
      "execution_count": null,
      "outputs": [
        {
          "output_type": "display_data",
          "data": {
            "image/png": "[encoded data removed]",
            "text/plain": [
              "<Figure size 1008x432 with 2 Axes>"
            ]
          },
          "metadata": {
            "needs_background": "light"
          }
        }
      ]
    },
    {
      "cell_type": "markdown",
      "metadata": {
        "id": "PeeS_20WBfOZ"
      },
      "source": [
        "<h2>회귀분석</h2>"
      ]
    },
    {
      "cell_type": "markdown",
      "metadata": {
        "id": "V3OMiO1qi0PK"
      },
      "source": [
        "<h3>확진자 - 지하철 = 19일"
      ]
    },
    {
      "cell_type": "code",
      "metadata": {
        "colab": {
          "base_uri": "https://localhost:8080/",
          "height": 265
        },
        "id": "yFMh-UnRBjxV",
        "outputId": "7d15e572-e811-422e-dd00-df641db2afc4"
      },
      "source": [
        "# 지하철 : 2020-01-01 ~ 2021-10-31\n",
        "# 신규확진자 : 2020-01-20 ~ 2021-11-19\t\n",
        "x = metro_data[['일별이용자수']] / 10000\n",
        "y = confirmed_data[['신규확진자']].drop(670)\n",
        "\n",
        "plt.plot(x, y, 'o')\n",
        "plt.show()"
      ],
      "execution_count": null,
      "outputs": [
        {
          "output_type": "display_data",
          "data": {
            "image/png": "[encoded data removed]",
            "text/plain": [
              "<Figure size 432x288 with 1 Axes>"
            ]
          },
          "metadata": {
            "needs_background": "light"
          }
        }
      ]
    },
    {
      "cell_type": "markdown",
      "metadata": {
        "id": "kXqWvR8OHEMv"
      },
      "source": [
        "위의 산포도 그래프를 보면 유의미한 회귀가 힘들것으로 예상된다.\n"
      ]
    },
    {
      "cell_type": "markdown",
      "metadata": {
        "id": "K2IYQkAoi-DF"
      },
      "source": [
        "<h3>확진자 - 지하철 = 19일"
      ]
    },
    {
      "cell_type": "code",
      "metadata": {
        "colab": {
          "base_uri": "https://localhost:8080/",
          "height": 424
        },
        "id": "vJQwQaFmGeI0",
        "outputId": "5c9de486-84d2-4e0d-a14c-ad7c16869945"
      },
      "source": [
        "confirmed_data_201101 = confirmed_data[confirmed_data['기준일']>'2020-10-31']\n",
        "confirmed_data_201101 = confirmed_data_201101[confirmed_data_201101['기준일']<'2021-11-07']\n",
        "confirmed_data_201101 = confirmed_data_201101.reset_index(drop=True)\n",
        "confirmed_data_201101"
      ],
      "execution_count": null,
      "outputs": [
        {
          "output_type": "execute_result",
          "data": {
            "text/html": [
              "<div>\n",
              "<style scoped>\n",
              "    .dataframe tbody tr th:only-of-type {\n",
              "        vertical-align: middle;\n",
              "    }\n",
              "\n",
              "    .dataframe tbody tr th {\n",
              "        vertical-align: top;\n",
              "    }\n",
              "\n",
              "    .dataframe thead th {\n",
              "        text-align: right;\n",
              "    }\n",
              "</style>\n",
              "<table border=\"1\" class=\"dataframe\">\n",
              "  <thead>\n",
              "    <tr style=\"text-align: right;\">\n",
              "      <th></th>\n",
              "      <th>기준일</th>\n",
              "      <th>신규확진자</th>\n",
              "    </tr>\n",
              "  </thead>\n",
              "  <tbody>\n",
              "    <tr>\n",
              "      <th>0</th>\n",
              "      <td>2020-11-01</td>\n",
              "      <td>45</td>\n",
              "    </tr>\n",
              "    <tr>\n",
              "      <th>1</th>\n",
              "      <td>2020-11-02</td>\n",
              "      <td>25</td>\n",
              "    </tr>\n",
              "    <tr>\n",
              "      <th>2</th>\n",
              "      <td>2020-11-03</td>\n",
              "      <td>22</td>\n",
              "    </tr>\n",
              "    <tr>\n",
              "      <th>3</th>\n",
              "      <td>2020-11-04</td>\n",
              "      <td>42</td>\n",
              "    </tr>\n",
              "    <tr>\n",
              "      <th>4</th>\n",
              "      <td>2020-11-05</td>\n",
              "      <td>50</td>\n",
              "    </tr>\n",
              "    <tr>\n",
              "      <th>...</th>\n",
              "      <td>...</td>\n",
              "      <td>...</td>\n",
              "    </tr>\n",
              "    <tr>\n",
              "      <th>366</th>\n",
              "      <td>2021-11-02</td>\n",
              "      <td>600</td>\n",
              "    </tr>\n",
              "    <tr>\n",
              "      <th>367</th>\n",
              "      <td>2021-11-03</td>\n",
              "      <td>1004</td>\n",
              "    </tr>\n",
              "    <tr>\n",
              "      <th>368</th>\n",
              "      <td>2021-11-04</td>\n",
              "      <td>946</td>\n",
              "    </tr>\n",
              "    <tr>\n",
              "      <th>369</th>\n",
              "      <td>2021-11-05</td>\n",
              "      <td>979</td>\n",
              "    </tr>\n",
              "    <tr>\n",
              "      <th>370</th>\n",
              "      <td>2021-11-06</td>\n",
              "      <td>915</td>\n",
              "    </tr>\n",
              "  </tbody>\n",
              "</table>\n",
              "<p>371 rows × 2 columns</p>\n",
              "</div>"
            ],
            "text/plain": [
              "            기준일  신규확진자\n",
              "0    2020-11-01     45\n",
              "1    2020-11-02     25\n",
              "2    2020-11-03     22\n",
              "3    2020-11-04     42\n",
              "4    2020-11-05     50\n",
              "..          ...    ...\n",
              "366  2021-11-02    600\n",
              "367  2021-11-03   1004\n",
              "368  2021-11-04    946\n",
              "369  2021-11-05    979\n",
              "370  2021-11-06    915\n",
              "\n",
              "[371 rows x 2 columns]"
            ]
          },
          "metadata": {},
          "execution_count": 61
        }
      ]
    },
    {
      "cell_type": "code",
      "metadata": {
        "colab": {
          "base_uri": "https://localhost:8080/",
          "height": 424
        },
        "id": "FaMj2eGpHkOG",
        "outputId": "61793d4e-9d7f-4d6f-ab1c-3331a3d8a5f2"
      },
      "source": [
        "metro_data_201026 = metro_data[metro_data['기준일']>'2020-10-25']\n",
        "metro_data_201026 = metro_data_201026.reset_index(drop=True)\n",
        "metro_data_201026"
      ],
      "execution_count": null,
      "outputs": [
        {
          "output_type": "execute_result",
          "data": {
            "text/html": [
              "<div>\n",
              "<style scoped>\n",
              "    .dataframe tbody tr th:only-of-type {\n",
              "        vertical-align: middle;\n",
              "    }\n",
              "\n",
              "    .dataframe tbody tr th {\n",
              "        vertical-align: top;\n",
              "    }\n",
              "\n",
              "    .dataframe thead th {\n",
              "        text-align: right;\n",
              "    }\n",
              "</style>\n",
              "<table border=\"1\" class=\"dataframe\">\n",
              "  <thead>\n",
              "    <tr style=\"text-align: right;\">\n",
              "      <th></th>\n",
              "      <th>기준일</th>\n",
              "      <th>일별이용자수</th>\n",
              "      <th>요일</th>\n",
              "    </tr>\n",
              "  </thead>\n",
              "  <tbody>\n",
              "    <tr>\n",
              "      <th>0</th>\n",
              "      <td>2020-10-26</td>\n",
              "      <td>6696975</td>\n",
              "      <td>0</td>\n",
              "    </tr>\n",
              "    <tr>\n",
              "      <th>1</th>\n",
              "      <td>2020-10-27</td>\n",
              "      <td>6821817</td>\n",
              "      <td>1</td>\n",
              "    </tr>\n",
              "    <tr>\n",
              "      <th>2</th>\n",
              "      <td>2020-10-28</td>\n",
              "      <td>6898878</td>\n",
              "      <td>2</td>\n",
              "    </tr>\n",
              "    <tr>\n",
              "      <th>3</th>\n",
              "      <td>2020-10-29</td>\n",
              "      <td>6885557</td>\n",
              "      <td>3</td>\n",
              "    </tr>\n",
              "    <tr>\n",
              "      <th>4</th>\n",
              "      <td>2020-10-30</td>\n",
              "      <td>7161554</td>\n",
              "      <td>4</td>\n",
              "    </tr>\n",
              "    <tr>\n",
              "      <th>...</th>\n",
              "      <td>...</td>\n",
              "      <td>...</td>\n",
              "      <td>...</td>\n",
              "    </tr>\n",
              "    <tr>\n",
              "      <th>366</th>\n",
              "      <td>2021-10-27</td>\n",
              "      <td>6788314</td>\n",
              "      <td>2</td>\n",
              "    </tr>\n",
              "    <tr>\n",
              "      <th>367</th>\n",
              "      <td>2021-10-28</td>\n",
              "      <td>6763319</td>\n",
              "      <td>3</td>\n",
              "    </tr>\n",
              "    <tr>\n",
              "      <th>368</th>\n",
              "      <td>2021-10-29</td>\n",
              "      <td>6975784</td>\n",
              "      <td>4</td>\n",
              "    </tr>\n",
              "    <tr>\n",
              "      <th>369</th>\n",
              "      <td>2021-10-30</td>\n",
              "      <td>5076792</td>\n",
              "      <td>5</td>\n",
              "    </tr>\n",
              "    <tr>\n",
              "      <th>370</th>\n",
              "      <td>2021-10-31</td>\n",
              "      <td>3730136</td>\n",
              "      <td>6</td>\n",
              "    </tr>\n",
              "  </tbody>\n",
              "</table>\n",
              "<p>371 rows × 3 columns</p>\n",
              "</div>"
            ],
            "text/plain": [
              "           기준일   일별이용자수  요일\n",
              "0   2020-10-26  6696975   0\n",
              "1   2020-10-27  6821817   1\n",
              "2   2020-10-28  6898878   2\n",
              "3   2020-10-29  6885557   3\n",
              "4   2020-10-30  7161554   4\n",
              "..         ...      ...  ..\n",
              "366 2021-10-27  6788314   2\n",
              "367 2021-10-28  6763319   3\n",
              "368 2021-10-29  6975784   4\n",
              "369 2021-10-30  5076792   5\n",
              "370 2021-10-31  3730136   6\n",
              "\n",
              "[371 rows x 3 columns]"
            ]
          },
          "metadata": {},
          "execution_count": 62
        }
      ]
    },
    {
      "cell_type": "code",
      "metadata": {
        "id": "xa-D77gtV978"
      },
      "source": [
        "test0 = pd.merge(metro_data_201026, confirmed_data_201101, left_index=True, right_index=True, how='left')\n",
        "test1 = test0[test0['요일']<6]"
      ],
      "execution_count": null,
      "outputs": []
    },
    {
      "cell_type": "code",
      "metadata": {
        "colab": {
          "base_uri": "https://localhost:8080/",
          "height": 278
        },
        "id": "Un3K8nM-GeF7",
        "outputId": "999e608f-ca8f-43a9-d6c7-d591a5ed485a"
      },
      "source": [
        "# 지하철 : 2020-10-25 ~ 2021-10-31\n",
        "# 신규확진자 : 2020-10-31 ~ 2021-11-07\n",
        "# 주말은 제외\n",
        "x = test1[['일별이용자수']]\n",
        "y = test1[['신규확진자']]\n",
        "\n",
        "plt.plot(x, y, 'o')\n",
        "plt.show()"
      ],
      "execution_count": null,
      "outputs": [
        {
          "output_type": "display_data",
          "data": {
            "image/png": "[encoded data removed]",
            "text/plain": [
              "<Figure size 432x288 with 1 Axes>"
            ]
          },
          "metadata": {
            "needs_background": "light"
          }
        }
      ]
    },
    {
      "cell_type": "code",
      "metadata": {
        "colab": {
          "base_uri": "https://localhost:8080/"
        },
        "id": "Mk9M72wbBju5",
        "outputId": "a5d29fc0-e328-467f-9f8d-6490ff171ee2"
      },
      "source": [
        "x_train, x_test, y_train, y_test = train_test_split(x, y, test_size=0.2, random_state=42)\n",
        "\n",
        "line_fitter = LinearRegression()\n",
        "line_fitter.fit(x_train, y_train)"
      ],
      "execution_count": null,
      "outputs": [
        {
          "output_type": "execute_result",
          "data": {
            "text/plain": [
              "LinearRegression()"
            ]
          },
          "metadata": {},
          "execution_count": 71
        }
      ]
    },
    {
      "cell_type": "code",
      "metadata": {
        "colab": {
          "base_uri": "https://localhost:8080/"
        },
        "id": "6HiaGYJYbdPE",
        "outputId": "95c3b22e-dd79-444a-98e6-57413a3ae4e8"
      },
      "source": [
        "print(line_fitter.coef_, line_fitter.intercept_)"
      ],
      "execution_count": null,
      "outputs": [
        {
          "output_type": "stream",
          "name": "stdout",
          "text": [
            "[[-4.37974733e-05]] [580.18076912]\n"
          ]
        }
      ]
    },
    {
      "cell_type": "code",
      "metadata": {
        "colab": {
          "base_uri": "https://localhost:8080/"
        },
        "id": "Dzy7HCtAKY6D",
        "outputId": "ff55d015-3bcc-41f2-ce29-695d74b0e923"
      },
      "source": [
        "line_fitter.score(x_train, y_train)"
      ],
      "execution_count": null,
      "outputs": [
        {
          "output_type": "execute_result",
          "data": {
            "text/plain": [
              "0.04908138313292276"
            ]
          },
          "metadata": {},
          "execution_count": 72
        }
      ]
    },
    {
      "cell_type": "code",
      "metadata": {
        "colab": {
          "base_uri": "https://localhost:8080/"
        },
        "id": "elIn-eNTBjna",
        "outputId": "4aba3214-ddb3-499f-9d8f-5c0ac10f86de"
      },
      "source": [
        "line_fitter.score(x_test, y_test)"
      ],
      "execution_count": null,
      "outputs": [
        {
          "output_type": "execute_result",
          "data": {
            "text/plain": [
              "-0.13552769237251816"
            ]
          },
          "metadata": {},
          "execution_count": 73
        }
      ]
    },
    {
      "cell_type": "code",
      "metadata": {
        "id": "yQIWLESubvP1"
      },
      "source": [
        "train_poly = np.column_stack((x_train ** 2, x_train))\n",
        "test_poly = np.column_stack((x_test ** 2, x_test))"
      ],
      "execution_count": null,
      "outputs": []
    },
    {
      "cell_type": "code",
      "metadata": {
        "colab": {
          "base_uri": "https://localhost:8080/"
        },
        "id": "3P-KmShYb3Du",
        "outputId": "7aab763b-5561-4013-faba-3b3df75bf4cf"
      },
      "source": [
        "lr = LinearRegression()\n",
        "lr.fit(train_poly, y_train)"
      ],
      "execution_count": null,
      "outputs": [
        {
          "output_type": "execute_result",
          "data": {
            "text/plain": [
              "LinearRegression()"
            ]
          },
          "metadata": {},
          "execution_count": 76
        }
      ]
    },
    {
      "cell_type": "code",
      "metadata": {
        "colab": {
          "base_uri": "https://localhost:8080/"
        },
        "id": "do2P_dVDb7Ne",
        "outputId": "0052501d-690e-4d20-de2a-5f42d148e1f0"
      },
      "source": [
        "print(lr.coef_, lr.intercept_)"
      ],
      "execution_count": null,
      "outputs": [
        {
          "output_type": "stream",
          "name": "stdout",
          "text": [
            "[[-1.83467100e-11  1.39579545e-04]] [157.59320032]\n"
          ]
        }
      ]
    },
    {
      "cell_type": "markdown",
      "metadata": {
        "id": "eq0l2hH8c2Sr"
      },
      "source": [
        "역시 엉망....<br>\n",
        "일단 확진자수가 적으면 에러가 난다."
      ]
    },
    {
      "cell_type": "code",
      "metadata": {
        "id": "LtZEkq-gb270"
      },
      "source": [
        "# 2021년\n",
        "test2 = test1[test1['기준일_x']>'2020-12-31']"
      ],
      "execution_count": null,
      "outputs": []
    },
    {
      "cell_type": "code",
      "metadata": {
        "id": "EOb1nZM6dmnE"
      },
      "source": [
        "# 2020년\n",
        "test3 = test1[test1['기준일_x']<'2021-01-01']"
      ],
      "execution_count": null,
      "outputs": []
    },
    {
      "cell_type": "code",
      "metadata": {
        "id": "QiwPTvsuejDN"
      },
      "source": [
        "# 일요일\n",
        "test4 = test0[test0['요일']==6]"
      ],
      "execution_count": null,
      "outputs": []
    },
    {
      "cell_type": "code",
      "metadata": {
        "colab": {
          "base_uri": "https://localhost:8080/",
          "height": 424
        },
        "id": "AFTXFWdudUCa",
        "outputId": "e3c1ebf5-dcee-4246-bf5d-111daec0331a"
      },
      "source": [
        "test2"
      ],
      "execution_count": null,
      "outputs": [
        {
          "output_type": "execute_result",
          "data": {
            "text/html": [
              "<div>\n",
              "<style scoped>\n",
              "    .dataframe tbody tr th:only-of-type {\n",
              "        vertical-align: middle;\n",
              "    }\n",
              "\n",
              "    .dataframe tbody tr th {\n",
              "        vertical-align: top;\n",
              "    }\n",
              "\n",
              "    .dataframe thead th {\n",
              "        text-align: right;\n",
              "    }\n",
              "</style>\n",
              "<table border=\"1\" class=\"dataframe\">\n",
              "  <thead>\n",
              "    <tr style=\"text-align: right;\">\n",
              "      <th></th>\n",
              "      <th>기준일_x</th>\n",
              "      <th>일별이용자수</th>\n",
              "      <th>요일</th>\n",
              "      <th>기준일_y</th>\n",
              "      <th>신규확진자</th>\n",
              "    </tr>\n",
              "  </thead>\n",
              "  <tbody>\n",
              "    <tr>\n",
              "      <th>67</th>\n",
              "      <td>2021-01-01</td>\n",
              "      <td>1578935</td>\n",
              "      <td>4</td>\n",
              "      <td>2021-01-07</td>\n",
              "      <td>298</td>\n",
              "    </tr>\n",
              "    <tr>\n",
              "      <th>68</th>\n",
              "      <td>2021-01-02</td>\n",
              "      <td>2438627</td>\n",
              "      <td>5</td>\n",
              "      <td>2021-01-08</td>\n",
              "      <td>191</td>\n",
              "    </tr>\n",
              "    <tr>\n",
              "      <th>70</th>\n",
              "      <td>2021-01-04</td>\n",
              "      <td>5254470</td>\n",
              "      <td>0</td>\n",
              "      <td>2021-01-10</td>\n",
              "      <td>187</td>\n",
              "    </tr>\n",
              "    <tr>\n",
              "      <th>71</th>\n",
              "      <td>2021-01-05</td>\n",
              "      <td>5247518</td>\n",
              "      <td>1</td>\n",
              "      <td>2021-01-11</td>\n",
              "      <td>141</td>\n",
              "    </tr>\n",
              "    <tr>\n",
              "      <th>72</th>\n",
              "      <td>2021-01-06</td>\n",
              "      <td>5472595</td>\n",
              "      <td>2</td>\n",
              "      <td>2021-01-12</td>\n",
              "      <td>167</td>\n",
              "    </tr>\n",
              "    <tr>\n",
              "      <th>...</th>\n",
              "      <td>...</td>\n",
              "      <td>...</td>\n",
              "      <td>...</td>\n",
              "      <td>...</td>\n",
              "      <td>...</td>\n",
              "    </tr>\n",
              "    <tr>\n",
              "      <th>365</th>\n",
              "      <td>2021-10-26</td>\n",
              "      <td>6724725</td>\n",
              "      <td>1</td>\n",
              "      <td>2021-11-01</td>\n",
              "      <td>646</td>\n",
              "    </tr>\n",
              "    <tr>\n",
              "      <th>366</th>\n",
              "      <td>2021-10-27</td>\n",
              "      <td>6788314</td>\n",
              "      <td>2</td>\n",
              "      <td>2021-11-02</td>\n",
              "      <td>600</td>\n",
              "    </tr>\n",
              "    <tr>\n",
              "      <th>367</th>\n",
              "      <td>2021-10-28</td>\n",
              "      <td>6763319</td>\n",
              "      <td>3</td>\n",
              "      <td>2021-11-03</td>\n",
              "      <td>1004</td>\n",
              "    </tr>\n",
              "    <tr>\n",
              "      <th>368</th>\n",
              "      <td>2021-10-29</td>\n",
              "      <td>6975784</td>\n",
              "      <td>4</td>\n",
              "      <td>2021-11-04</td>\n",
              "      <td>946</td>\n",
              "    </tr>\n",
              "    <tr>\n",
              "      <th>369</th>\n",
              "      <td>2021-10-30</td>\n",
              "      <td>5076792</td>\n",
              "      <td>5</td>\n",
              "      <td>2021-11-05</td>\n",
              "      <td>979</td>\n",
              "    </tr>\n",
              "  </tbody>\n",
              "</table>\n",
              "<p>260 rows × 5 columns</p>\n",
              "</div>"
            ],
            "text/plain": [
              "         기준일_x   일별이용자수  요일       기준일_y  신규확진자\n",
              "67  2021-01-01  1578935   4  2021-01-07    298\n",
              "68  2021-01-02  2438627   5  2021-01-08    191\n",
              "70  2021-01-04  5254470   0  2021-01-10    187\n",
              "71  2021-01-05  5247518   1  2021-01-11    141\n",
              "72  2021-01-06  5472595   2  2021-01-12    167\n",
              "..         ...      ...  ..         ...    ...\n",
              "365 2021-10-26  6724725   1  2021-11-01    646\n",
              "366 2021-10-27  6788314   2  2021-11-02    600\n",
              "367 2021-10-28  6763319   3  2021-11-03   1004\n",
              "368 2021-10-29  6975784   4  2021-11-04    946\n",
              "369 2021-10-30  5076792   5  2021-11-05    979\n",
              "\n",
              "[260 rows x 5 columns]"
            ]
          },
          "metadata": {},
          "execution_count": 80
        }
      ]
    },
    {
      "cell_type": "code",
      "metadata": {
        "id": "v8bT_sojSrJP",
        "colab": {
          "base_uri": "https://localhost:8080/",
          "height": 278
        },
        "outputId": "d2f8297b-cbb7-4de2-f52c-642916e5b5e2"
      },
      "source": [
        "# 지하철 : 2021-01-01 ~ 2021-10-30\n",
        "# 신규확진자 : 2021-01-07 ~ 2021-11-05\n",
        "# 주말은 제외\n",
        "x = test2[['일별이용자수']]\n",
        "y = test2[['신규확진자']]\n",
        "\n",
        "x2 = test3[['일별이용자수']]\n",
        "y2 = test3[['신규확진자']]\n",
        "\n",
        "x3 = test4[['일별이용자수']]\n",
        "y3 = test4[['신규확진자']]\n",
        "\n",
        "plt.scatter(x, y)\n",
        "plt.scatter(x2, y2, marker='^')\n",
        "plt.scatter(x3, y3, marker='D')\n",
        "plt.show()"
      ],
      "execution_count": null,
      "outputs": [
        {
          "output_type": "display_data",
          "data": {
            "image/png": "[encoded data removed]",
            "text/plain": [
              "<Figure size 432x288 with 1 Axes>"
            ]
          },
          "metadata": {
            "needs_background": "light"
          }
        }
      ]
    },
    {
      "cell_type": "markdown",
      "metadata": {
        "id": "2F5rAVIewXBA"
      },
      "source": [
        "<h3>앞에서 여러가지를 시도해봤는데, 결국 모양은 다 비슷했음<br>\n",
        "지하철 이용자수는 코로나 이후 큰 변화가 없지만 코로나 신규 감염자 수는 우상향하기 때문인것으로 보임.<br>\n",
        "그렇다면 이용자수와 확진자수 모두 변화율을 통해 구해본다면 어떨까?"
      ]
    },
    {
      "cell_type": "code",
      "metadata": {
        "colab": {
          "base_uri": "https://localhost:8080/",
          "height": 424
        },
        "id": "o9UJJfTvOLEz",
        "outputId": "15a71452-95c1-413a-9ac2-0a7573aa3449"
      },
      "source": [
        "metro_data"
      ],
      "execution_count": null,
      "outputs": [
        {
          "output_type": "execute_result",
          "data": {
            "text/html": [
              "<div>\n",
              "<style scoped>\n",
              "    .dataframe tbody tr th:only-of-type {\n",
              "        vertical-align: middle;\n",
              "    }\n",
              "\n",
              "    .dataframe tbody tr th {\n",
              "        vertical-align: top;\n",
              "    }\n",
              "\n",
              "    .dataframe thead th {\n",
              "        text-align: right;\n",
              "    }\n",
              "</style>\n",
              "<table border=\"1\" class=\"dataframe\">\n",
              "  <thead>\n",
              "    <tr style=\"text-align: right;\">\n",
              "      <th></th>\n",
              "      <th>기준일</th>\n",
              "      <th>일별이용자수</th>\n",
              "    </tr>\n",
              "  </thead>\n",
              "  <tbody>\n",
              "    <tr>\n",
              "      <th>0</th>\n",
              "      <td>2020-01-01</td>\n",
              "      <td>3479698</td>\n",
              "    </tr>\n",
              "    <tr>\n",
              "      <th>1</th>\n",
              "      <td>2020-01-02</td>\n",
              "      <td>7691529</td>\n",
              "    </tr>\n",
              "    <tr>\n",
              "      <th>2</th>\n",
              "      <td>2020-01-03</td>\n",
              "      <td>8224917</td>\n",
              "    </tr>\n",
              "    <tr>\n",
              "      <th>3</th>\n",
              "      <td>2020-01-04</td>\n",
              "      <td>6042529</td>\n",
              "    </tr>\n",
              "    <tr>\n",
              "      <th>4</th>\n",
              "      <td>2020-01-05</td>\n",
              "      <td>4425521</td>\n",
              "    </tr>\n",
              "    <tr>\n",
              "      <th>...</th>\n",
              "      <td>...</td>\n",
              "      <td>...</td>\n",
              "    </tr>\n",
              "    <tr>\n",
              "      <th>665</th>\n",
              "      <td>2021-10-27</td>\n",
              "      <td>6788314</td>\n",
              "    </tr>\n",
              "    <tr>\n",
              "      <th>666</th>\n",
              "      <td>2021-10-28</td>\n",
              "      <td>6763319</td>\n",
              "    </tr>\n",
              "    <tr>\n",
              "      <th>667</th>\n",
              "      <td>2021-10-29</td>\n",
              "      <td>6975784</td>\n",
              "    </tr>\n",
              "    <tr>\n",
              "      <th>668</th>\n",
              "      <td>2021-10-30</td>\n",
              "      <td>5076792</td>\n",
              "    </tr>\n",
              "    <tr>\n",
              "      <th>669</th>\n",
              "      <td>2021-10-31</td>\n",
              "      <td>3730136</td>\n",
              "    </tr>\n",
              "  </tbody>\n",
              "</table>\n",
              "<p>670 rows × 2 columns</p>\n",
              "</div>"
            ],
            "text/plain": [
              "            기준일   일별이용자수\n",
              "0    2020-01-01  3479698\n",
              "1    2020-01-02  7691529\n",
              "2    2020-01-03  8224917\n",
              "3    2020-01-04  6042529\n",
              "4    2020-01-05  4425521\n",
              "..          ...      ...\n",
              "665  2021-10-27  6788314\n",
              "666  2021-10-28  6763319\n",
              "667  2021-10-29  6975784\n",
              "668  2021-10-30  5076792\n",
              "669  2021-10-31  3730136\n",
              "\n",
              "[670 rows x 2 columns]"
            ]
          },
          "metadata": {},
          "execution_count": 12
        }
      ]
    },
    {
      "cell_type": "code",
      "metadata": {
        "colab": {
          "base_uri": "https://localhost:8080/",
          "height": 424
        },
        "id": "crlsR5_8OLB7",
        "outputId": "7ed92a7b-57c5-4c04-8973-f8a42576240e"
      },
      "source": [
        "confirmed_data"
      ],
      "execution_count": null,
      "outputs": [
        {
          "output_type": "execute_result",
          "data": {
            "text/html": [
              "<div>\n",
              "<style scoped>\n",
              "    .dataframe tbody tr th:only-of-type {\n",
              "        vertical-align: middle;\n",
              "    }\n",
              "\n",
              "    .dataframe tbody tr th {\n",
              "        vertical-align: top;\n",
              "    }\n",
              "\n",
              "    .dataframe thead th {\n",
              "        text-align: right;\n",
              "    }\n",
              "</style>\n",
              "<table border=\"1\" class=\"dataframe\">\n",
              "  <thead>\n",
              "    <tr style=\"text-align: right;\">\n",
              "      <th></th>\n",
              "      <th>기준일</th>\n",
              "      <th>신규확진자</th>\n",
              "    </tr>\n",
              "  </thead>\n",
              "  <tbody>\n",
              "    <tr>\n",
              "      <th>0</th>\n",
              "      <td>2020-01-20</td>\n",
              "      <td>0</td>\n",
              "    </tr>\n",
              "    <tr>\n",
              "      <th>1</th>\n",
              "      <td>2020-01-21</td>\n",
              "      <td>0</td>\n",
              "    </tr>\n",
              "    <tr>\n",
              "      <th>2</th>\n",
              "      <td>2020-01-22</td>\n",
              "      <td>0</td>\n",
              "    </tr>\n",
              "    <tr>\n",
              "      <th>3</th>\n",
              "      <td>2020-01-23</td>\n",
              "      <td>0</td>\n",
              "    </tr>\n",
              "    <tr>\n",
              "      <th>4</th>\n",
              "      <td>2020-01-24</td>\n",
              "      <td>0</td>\n",
              "    </tr>\n",
              "    <tr>\n",
              "      <th>...</th>\n",
              "      <td>...</td>\n",
              "      <td>...</td>\n",
              "    </tr>\n",
              "    <tr>\n",
              "      <th>666</th>\n",
              "      <td>2021-11-16</td>\n",
              "      <td>846</td>\n",
              "    </tr>\n",
              "    <tr>\n",
              "      <th>667</th>\n",
              "      <td>2021-11-17</td>\n",
              "      <td>1436</td>\n",
              "    </tr>\n",
              "    <tr>\n",
              "      <th>668</th>\n",
              "      <td>2021-11-18</td>\n",
              "      <td>1429</td>\n",
              "    </tr>\n",
              "    <tr>\n",
              "      <th>669</th>\n",
              "      <td>2021-11-19</td>\n",
              "      <td>1401</td>\n",
              "    </tr>\n",
              "    <tr>\n",
              "      <th>670</th>\n",
              "      <td>2021-11-20</td>\n",
              "      <td>1373</td>\n",
              "    </tr>\n",
              "  </tbody>\n",
              "</table>\n",
              "<p>671 rows × 2 columns</p>\n",
              "</div>"
            ],
            "text/plain": [
              "            기준일  신규확진자\n",
              "0    2020-01-20      0\n",
              "1    2020-01-21      0\n",
              "2    2020-01-22      0\n",
              "3    2020-01-23      0\n",
              "4    2020-01-24      0\n",
              "..          ...    ...\n",
              "666  2021-11-16    846\n",
              "667  2021-11-17   1436\n",
              "668  2021-11-18   1429\n",
              "669  2021-11-19   1401\n",
              "670  2021-11-20   1373\n",
              "\n",
              "[671 rows x 2 columns]"
            ]
          },
          "metadata": {},
          "execution_count": 14
        }
      ]
    },
    {
      "cell_type": "markdown",
      "metadata": {
        "id": "7o8vihj4O-7J"
      },
      "source": [
        "<h3> 1.확진일 - 지하철이용일 = 7"
      ]
    },
    {
      "cell_type": "code",
      "metadata": {
        "id": "BaKKcjw4O8DX"
      },
      "source": [
        "metro_data_7_ago = metro_data[metro_data['기준일']>'2020-01-12'].reset_index(drop=True)"
      ],
      "execution_count": null,
      "outputs": []
    },
    {
      "cell_type": "code",
      "metadata": {
        "colab": {
          "base_uri": "https://localhost:8080/",
          "height": 424
        },
        "id": "hcCnQYgXPzfv",
        "outputId": "a6862c4b-beef-48bd-ea2f-b1cb0489fa2e"
      },
      "source": [
        "metro_data_7_ago"
      ],
      "execution_count": null,
      "outputs": [
        {
          "output_type": "execute_result",
          "data": {
            "text/html": [
              "<div>\n",
              "<style scoped>\n",
              "    .dataframe tbody tr th:only-of-type {\n",
              "        vertical-align: middle;\n",
              "    }\n",
              "\n",
              "    .dataframe tbody tr th {\n",
              "        vertical-align: top;\n",
              "    }\n",
              "\n",
              "    .dataframe thead th {\n",
              "        text-align: right;\n",
              "    }\n",
              "</style>\n",
              "<table border=\"1\" class=\"dataframe\">\n",
              "  <thead>\n",
              "    <tr style=\"text-align: right;\">\n",
              "      <th></th>\n",
              "      <th>기준일</th>\n",
              "      <th>일별이용자수</th>\n",
              "    </tr>\n",
              "  </thead>\n",
              "  <tbody>\n",
              "    <tr>\n",
              "      <th>0</th>\n",
              "      <td>2020-01-13</td>\n",
              "      <td>7931538</td>\n",
              "    </tr>\n",
              "    <tr>\n",
              "      <th>1</th>\n",
              "      <td>2020-01-14</td>\n",
              "      <td>8051486</td>\n",
              "    </tr>\n",
              "    <tr>\n",
              "      <th>2</th>\n",
              "      <td>2020-01-15</td>\n",
              "      <td>8124059</td>\n",
              "    </tr>\n",
              "    <tr>\n",
              "      <th>3</th>\n",
              "      <td>2020-01-16</td>\n",
              "      <td>8141415</td>\n",
              "    </tr>\n",
              "    <tr>\n",
              "      <th>4</th>\n",
              "      <td>2020-01-17</td>\n",
              "      <td>8492225</td>\n",
              "    </tr>\n",
              "    <tr>\n",
              "      <th>...</th>\n",
              "      <td>...</td>\n",
              "      <td>...</td>\n",
              "    </tr>\n",
              "    <tr>\n",
              "      <th>653</th>\n",
              "      <td>2021-10-27</td>\n",
              "      <td>6788314</td>\n",
              "    </tr>\n",
              "    <tr>\n",
              "      <th>654</th>\n",
              "      <td>2021-10-28</td>\n",
              "      <td>6763319</td>\n",
              "    </tr>\n",
              "    <tr>\n",
              "      <th>655</th>\n",
              "      <td>2021-10-29</td>\n",
              "      <td>6975784</td>\n",
              "    </tr>\n",
              "    <tr>\n",
              "      <th>656</th>\n",
              "      <td>2021-10-30</td>\n",
              "      <td>5076792</td>\n",
              "    </tr>\n",
              "    <tr>\n",
              "      <th>657</th>\n",
              "      <td>2021-10-31</td>\n",
              "      <td>3730136</td>\n",
              "    </tr>\n",
              "  </tbody>\n",
              "</table>\n",
              "<p>658 rows × 2 columns</p>\n",
              "</div>"
            ],
            "text/plain": [
              "            기준일   일별이용자수\n",
              "0    2020-01-13  7931538\n",
              "1    2020-01-14  8051486\n",
              "2    2020-01-15  8124059\n",
              "3    2020-01-16  8141415\n",
              "4    2020-01-17  8492225\n",
              "..          ...      ...\n",
              "653  2021-10-27  6788314\n",
              "654  2021-10-28  6763319\n",
              "655  2021-10-29  6975784\n",
              "656  2021-10-30  5076792\n",
              "657  2021-10-31  3730136\n",
              "\n",
              "[658 rows x 2 columns]"
            ]
          },
          "metadata": {},
          "execution_count": 103
        }
      ]
    },
    {
      "cell_type": "code",
      "metadata": {
        "id": "Z-AgxOPRQaCW"
      },
      "source": [
        "day_before_7 = pd.merge(metro_data_7_ago, confirmed_data, left_index=True, right_index=True, how='left')"
      ],
      "execution_count": null,
      "outputs": []
    },
    {
      "cell_type": "code",
      "metadata": {
        "id": "J0TGIufjUyXa"
      },
      "source": [
        "day_before_7[\"기준일_x\"] = pd.to_datetime(day_before_7[\"기준일_x\"])"
      ],
      "execution_count": null,
      "outputs": []
    },
    {
      "cell_type": "code",
      "metadata": {
        "id": "L-5dl9QRVNiE"
      },
      "source": [
        "day_before_7 = day_before_7.drop(columns='기준일_y')"
      ],
      "execution_count": null,
      "outputs": []
    },
    {
      "cell_type": "code",
      "metadata": {
        "colab": {
          "base_uri": "https://localhost:8080/",
          "height": 424
        },
        "id": "21tzyZlLUemN",
        "outputId": "3468859d-86ad-4b4b-bd14-d2feeb475bf5"
      },
      "source": [
        "day_before_7 = day_before_7.resample('W-Mon', on='기준일_x').sum().reset_index()\n",
        "day_before_7[\"기준일_x\"] = day_before_7['기준일_x'] - timedelta(days=7)\n",
        "day_before_7"
      ],
      "execution_count": null,
      "outputs": [
        {
          "output_type": "execute_result",
          "data": {
            "text/html": [
              "<div>\n",
              "<style scoped>\n",
              "    .dataframe tbody tr th:only-of-type {\n",
              "        vertical-align: middle;\n",
              "    }\n",
              "\n",
              "    .dataframe tbody tr th {\n",
              "        vertical-align: top;\n",
              "    }\n",
              "\n",
              "    .dataframe thead th {\n",
              "        text-align: right;\n",
              "    }\n",
              "</style>\n",
              "<table border=\"1\" class=\"dataframe\">\n",
              "  <thead>\n",
              "    <tr style=\"text-align: right;\">\n",
              "      <th></th>\n",
              "      <th>기준일_x</th>\n",
              "      <th>일별이용자수</th>\n",
              "      <th>신규확진자</th>\n",
              "    </tr>\n",
              "  </thead>\n",
              "  <tbody>\n",
              "    <tr>\n",
              "      <th>0</th>\n",
              "      <td>2020-01-06</td>\n",
              "      <td>7931538</td>\n",
              "      <td>0</td>\n",
              "    </tr>\n",
              "    <tr>\n",
              "      <th>1</th>\n",
              "      <td>2020-01-13</td>\n",
              "      <td>51766720</td>\n",
              "      <td>1</td>\n",
              "    </tr>\n",
              "    <tr>\n",
              "      <th>2</th>\n",
              "      <td>2020-01-20</td>\n",
              "      <td>37274813</td>\n",
              "      <td>7</td>\n",
              "    </tr>\n",
              "    <tr>\n",
              "      <th>3</th>\n",
              "      <td>2020-01-27</td>\n",
              "      <td>45239198</td>\n",
              "      <td>4</td>\n",
              "    </tr>\n",
              "    <tr>\n",
              "      <th>4</th>\n",
              "      <td>2020-02-03</td>\n",
              "      <td>43106598</td>\n",
              "      <td>2</td>\n",
              "    </tr>\n",
              "    <tr>\n",
              "      <th>...</th>\n",
              "      <td>...</td>\n",
              "      <td>...</td>\n",
              "      <td>...</td>\n",
              "    </tr>\n",
              "    <tr>\n",
              "      <th>90</th>\n",
              "      <td>2021-09-27</td>\n",
              "      <td>36905927</td>\n",
              "      <td>4630</td>\n",
              "    </tr>\n",
              "    <tr>\n",
              "      <th>91</th>\n",
              "      <td>2021-10-04</td>\n",
              "      <td>37010638</td>\n",
              "      <td>3941</td>\n",
              "    </tr>\n",
              "    <tr>\n",
              "      <th>92</th>\n",
              "      <td>2021-10-11</td>\n",
              "      <td>40517060</td>\n",
              "      <td>3353</td>\n",
              "    </tr>\n",
              "    <tr>\n",
              "      <th>93</th>\n",
              "      <td>2021-10-18</td>\n",
              "      <td>41611630</td>\n",
              "      <td>4826</td>\n",
              "    </tr>\n",
              "    <tr>\n",
              "      <th>94</th>\n",
              "      <td>2021-10-25</td>\n",
              "      <td>36059070</td>\n",
              "      <td>5292</td>\n",
              "    </tr>\n",
              "  </tbody>\n",
              "</table>\n",
              "<p>95 rows × 3 columns</p>\n",
              "</div>"
            ],
            "text/plain": [
              "        기준일_x    일별이용자수  신규확진자\n",
              "0  2020-01-06   7931538      0\n",
              "1  2020-01-13  51766720      1\n",
              "2  2020-01-20  37274813      7\n",
              "3  2020-01-27  45239198      4\n",
              "4  2020-02-03  43106598      2\n",
              "..        ...       ...    ...\n",
              "90 2021-09-27  36905927   4630\n",
              "91 2021-10-04  37010638   3941\n",
              "92 2021-10-11  40517060   3353\n",
              "93 2021-10-18  41611630   4826\n",
              "94 2021-10-25  36059070   5292\n",
              "\n",
              "[95 rows x 3 columns]"
            ]
          },
          "metadata": {},
          "execution_count": 107
        }
      ]
    },
    {
      "cell_type": "code",
      "metadata": {
        "id": "OcMVs73zabIJ"
      },
      "source": [
        "day_before_7.loc[day_before_7[\"기준일_x\"]==\"2020-01-20\", [\"일별이용자수\"]] = 48502959\n",
        "day_before_7.loc[day_before_7[\"기준일_x\"]==\"2020-09-28\", [\"일별이용자수\"]] = 37663267\n",
        "day_before_7.loc[day_before_7[\"기준일_x\"]==\"2021-02-08\", [\"일별이용자수\"]] = 38074803"
      ],
      "execution_count": null,
      "outputs": []
    },
    {
      "cell_type": "code",
      "metadata": {
        "colab": {
          "base_uri": "https://localhost:8080/",
          "height": 424
        },
        "id": "8pcQvyxgapC2",
        "outputId": "64370339-8fc3-404a-dc50-68fc4ddc5f25"
      },
      "source": [
        "day_before_7"
      ],
      "execution_count": null,
      "outputs": [
        {
          "output_type": "execute_result",
          "data": {
            "text/html": [
              "<div>\n",
              "<style scoped>\n",
              "    .dataframe tbody tr th:only-of-type {\n",
              "        vertical-align: middle;\n",
              "    }\n",
              "\n",
              "    .dataframe tbody tr th {\n",
              "        vertical-align: top;\n",
              "    }\n",
              "\n",
              "    .dataframe thead th {\n",
              "        text-align: right;\n",
              "    }\n",
              "</style>\n",
              "<table border=\"1\" class=\"dataframe\">\n",
              "  <thead>\n",
              "    <tr style=\"text-align: right;\">\n",
              "      <th></th>\n",
              "      <th>기준일_x</th>\n",
              "      <th>일별이용자수</th>\n",
              "      <th>신규확진자</th>\n",
              "    </tr>\n",
              "  </thead>\n",
              "  <tbody>\n",
              "    <tr>\n",
              "      <th>0</th>\n",
              "      <td>2020-01-06</td>\n",
              "      <td>7931538</td>\n",
              "      <td>0</td>\n",
              "    </tr>\n",
              "    <tr>\n",
              "      <th>1</th>\n",
              "      <td>2020-01-13</td>\n",
              "      <td>51766720</td>\n",
              "      <td>1</td>\n",
              "    </tr>\n",
              "    <tr>\n",
              "      <th>2</th>\n",
              "      <td>2020-01-20</td>\n",
              "      <td>48502959</td>\n",
              "      <td>7</td>\n",
              "    </tr>\n",
              "    <tr>\n",
              "      <th>3</th>\n",
              "      <td>2020-01-27</td>\n",
              "      <td>45239198</td>\n",
              "      <td>4</td>\n",
              "    </tr>\n",
              "    <tr>\n",
              "      <th>4</th>\n",
              "      <td>2020-02-03</td>\n",
              "      <td>43106598</td>\n",
              "      <td>2</td>\n",
              "    </tr>\n",
              "    <tr>\n",
              "      <th>...</th>\n",
              "      <td>...</td>\n",
              "      <td>...</td>\n",
              "      <td>...</td>\n",
              "    </tr>\n",
              "    <tr>\n",
              "      <th>90</th>\n",
              "      <td>2021-09-27</td>\n",
              "      <td>36905927</td>\n",
              "      <td>4630</td>\n",
              "    </tr>\n",
              "    <tr>\n",
              "      <th>91</th>\n",
              "      <td>2021-10-04</td>\n",
              "      <td>37010638</td>\n",
              "      <td>3941</td>\n",
              "    </tr>\n",
              "    <tr>\n",
              "      <th>92</th>\n",
              "      <td>2021-10-11</td>\n",
              "      <td>40517060</td>\n",
              "      <td>3353</td>\n",
              "    </tr>\n",
              "    <tr>\n",
              "      <th>93</th>\n",
              "      <td>2021-10-18</td>\n",
              "      <td>41611630</td>\n",
              "      <td>4826</td>\n",
              "    </tr>\n",
              "    <tr>\n",
              "      <th>94</th>\n",
              "      <td>2021-10-25</td>\n",
              "      <td>36059070</td>\n",
              "      <td>5292</td>\n",
              "    </tr>\n",
              "  </tbody>\n",
              "</table>\n",
              "<p>95 rows × 3 columns</p>\n",
              "</div>"
            ],
            "text/plain": [
              "        기준일_x    일별이용자수  신규확진자\n",
              "0  2020-01-06   7931538      0\n",
              "1  2020-01-13  51766720      1\n",
              "2  2020-01-20  48502959      7\n",
              "3  2020-01-27  45239198      4\n",
              "4  2020-02-03  43106598      2\n",
              "..        ...       ...    ...\n",
              "90 2021-09-27  36905927   4630\n",
              "91 2021-10-04  37010638   3941\n",
              "92 2021-10-11  40517060   3353\n",
              "93 2021-10-18  41611630   4826\n",
              "94 2021-10-25  36059070   5292\n",
              "\n",
              "[95 rows x 3 columns]"
            ]
          },
          "metadata": {},
          "execution_count": 190
        }
      ]
    },
    {
      "cell_type": "code",
      "metadata": {
        "colab": {
          "base_uri": "https://localhost:8080/",
          "height": 1000
        },
        "id": "Gu4ewVAhSQXj",
        "outputId": "5b2c8cd7-c1a4-4b37-bcc8-565b8c7bcf66"
      },
      "source": [
        "day_before_7 = day_before_7[day_before_7['기준일_x']>'2020-10-01'].reset_index(drop=True)\n",
        "day_before_7"
      ],
      "execution_count": null,
      "outputs": [
        {
          "output_type": "execute_result",
          "data": {
            "text/html": [
              "<div>\n",
              "<style scoped>\n",
              "    .dataframe tbody tr th:only-of-type {\n",
              "        vertical-align: middle;\n",
              "    }\n",
              "\n",
              "    .dataframe tbody tr th {\n",
              "        vertical-align: top;\n",
              "    }\n",
              "\n",
              "    .dataframe thead th {\n",
              "        text-align: right;\n",
              "    }\n",
              "</style>\n",
              "<table border=\"1\" class=\"dataframe\">\n",
              "  <thead>\n",
              "    <tr style=\"text-align: right;\">\n",
              "      <th></th>\n",
              "      <th>기준일_x</th>\n",
              "      <th>일별이용자수</th>\n",
              "      <th>신규확진자</th>\n",
              "    </tr>\n",
              "  </thead>\n",
              "  <tbody>\n",
              "    <tr>\n",
              "      <th>0</th>\n",
              "      <td>2020-10-05</td>\n",
              "      <td>37003821</td>\n",
              "      <td>138</td>\n",
              "    </tr>\n",
              "    <tr>\n",
              "      <th>1</th>\n",
              "      <td>2020-10-12</td>\n",
              "      <td>41383851</td>\n",
              "      <td>125</td>\n",
              "    </tr>\n",
              "    <tr>\n",
              "      <th>2</th>\n",
              "      <td>2020-10-19</td>\n",
              "      <td>42438651</td>\n",
              "      <td>255</td>\n",
              "    </tr>\n",
              "    <tr>\n",
              "      <th>3</th>\n",
              "      <td>2020-10-26</td>\n",
              "      <td>42744134</td>\n",
              "      <td>291</td>\n",
              "    </tr>\n",
              "    <tr>\n",
              "      <th>4</th>\n",
              "      <td>2020-11-02</td>\n",
              "      <td>42964633</td>\n",
              "      <td>442</td>\n",
              "    </tr>\n",
              "    <tr>\n",
              "      <th>5</th>\n",
              "      <td>2020-11-09</td>\n",
              "      <td>43138913</td>\n",
              "      <td>812</td>\n",
              "    </tr>\n",
              "    <tr>\n",
              "      <th>6</th>\n",
              "      <td>2020-11-16</td>\n",
              "      <td>40212746</td>\n",
              "      <td>1187</td>\n",
              "    </tr>\n",
              "    <tr>\n",
              "      <th>7</th>\n",
              "      <td>2020-11-23</td>\n",
              "      <td>36190911</td>\n",
              "      <td>1638</td>\n",
              "    </tr>\n",
              "    <tr>\n",
              "      <th>8</th>\n",
              "      <td>2020-11-30</td>\n",
              "      <td>35092084</td>\n",
              "      <td>1967</td>\n",
              "    </tr>\n",
              "    <tr>\n",
              "      <th>9</th>\n",
              "      <td>2020-12-07</td>\n",
              "      <td>32330785</td>\n",
              "      <td>2635</td>\n",
              "    </tr>\n",
              "    <tr>\n",
              "      <th>10</th>\n",
              "      <td>2020-12-14</td>\n",
              "      <td>30426305</td>\n",
              "      <td>2693</td>\n",
              "    </tr>\n",
              "    <tr>\n",
              "      <th>11</th>\n",
              "      <td>2020-12-21</td>\n",
              "      <td>27615891</td>\n",
              "      <td>2412</td>\n",
              "    </tr>\n",
              "    <tr>\n",
              "      <th>12</th>\n",
              "      <td>2020-12-28</td>\n",
              "      <td>25830232</td>\n",
              "      <td>1468</td>\n",
              "    </tr>\n",
              "    <tr>\n",
              "      <th>13</th>\n",
              "      <td>2021-01-04</td>\n",
              "      <td>32018898</td>\n",
              "      <td>1013</td>\n",
              "    </tr>\n",
              "    <tr>\n",
              "      <th>14</th>\n",
              "      <td>2021-01-11</td>\n",
              "      <td>34078209</td>\n",
              "      <td>846</td>\n",
              "    </tr>\n",
              "    <tr>\n",
              "      <th>15</th>\n",
              "      <td>2021-01-18</td>\n",
              "      <td>35374099</td>\n",
              "      <td>812</td>\n",
              "    </tr>\n",
              "    <tr>\n",
              "      <th>16</th>\n",
              "      <td>2021-01-25</td>\n",
              "      <td>36022780</td>\n",
              "      <td>1013</td>\n",
              "    </tr>\n",
              "    <tr>\n",
              "      <th>17</th>\n",
              "      <td>2021-02-01</td>\n",
              "      <td>37593977</td>\n",
              "      <td>1045</td>\n",
              "    </tr>\n",
              "    <tr>\n",
              "      <th>18</th>\n",
              "      <td>2021-02-08</td>\n",
              "      <td>38074803</td>\n",
              "      <td>1143</td>\n",
              "    </tr>\n",
              "    <tr>\n",
              "      <th>19</th>\n",
              "      <td>2021-02-15</td>\n",
              "      <td>38555628</td>\n",
              "      <td>867</td>\n",
              "    </tr>\n",
              "    <tr>\n",
              "      <th>20</th>\n",
              "      <td>2021-02-22</td>\n",
              "      <td>36344565</td>\n",
              "      <td>848</td>\n",
              "    </tr>\n",
              "    <tr>\n",
              "      <th>21</th>\n",
              "      <td>2021-03-01</td>\n",
              "      <td>40542068</td>\n",
              "      <td>882</td>\n",
              "    </tr>\n",
              "    <tr>\n",
              "      <th>22</th>\n",
              "      <td>2021-03-08</td>\n",
              "      <td>41022805</td>\n",
              "      <td>823</td>\n",
              "    </tr>\n",
              "    <tr>\n",
              "      <th>23</th>\n",
              "      <td>2021-03-15</td>\n",
              "      <td>41002835</td>\n",
              "      <td>855</td>\n",
              "    </tr>\n",
              "    <tr>\n",
              "      <th>24</th>\n",
              "      <td>2021-03-22</td>\n",
              "      <td>41014216</td>\n",
              "      <td>1125</td>\n",
              "    </tr>\n",
              "    <tr>\n",
              "      <th>25</th>\n",
              "      <td>2021-03-29</td>\n",
              "      <td>41209667</td>\n",
              "      <td>1381</td>\n",
              "    </tr>\n",
              "    <tr>\n",
              "      <th>26</th>\n",
              "      <td>2021-04-05</td>\n",
              "      <td>41574492</td>\n",
              "      <td>1397</td>\n",
              "    </tr>\n",
              "    <tr>\n",
              "      <th>27</th>\n",
              "      <td>2021-04-12</td>\n",
              "      <td>40690941</td>\n",
              "      <td>1382</td>\n",
              "    </tr>\n",
              "    <tr>\n",
              "      <th>28</th>\n",
              "      <td>2021-04-19</td>\n",
              "      <td>41338724</td>\n",
              "      <td>1333</td>\n",
              "    </tr>\n",
              "    <tr>\n",
              "      <th>29</th>\n",
              "      <td>2021-04-26</td>\n",
              "      <td>41345556</td>\n",
              "      <td>1391</td>\n",
              "    </tr>\n",
              "    <tr>\n",
              "      <th>30</th>\n",
              "      <td>2021-05-03</td>\n",
              "      <td>38042480</td>\n",
              "      <td>1506</td>\n",
              "    </tr>\n",
              "    <tr>\n",
              "      <th>31</th>\n",
              "      <td>2021-05-10</td>\n",
              "      <td>41337408</td>\n",
              "      <td>1363</td>\n",
              "    </tr>\n",
              "    <tr>\n",
              "      <th>32</th>\n",
              "      <td>2021-05-17</td>\n",
              "      <td>39700550</td>\n",
              "      <td>1316</td>\n",
              "    </tr>\n",
              "    <tr>\n",
              "      <th>33</th>\n",
              "      <td>2021-05-24</td>\n",
              "      <td>41312019</td>\n",
              "      <td>1441</td>\n",
              "    </tr>\n",
              "    <tr>\n",
              "      <th>34</th>\n",
              "      <td>2021-05-31</td>\n",
              "      <td>41209621</td>\n",
              "      <td>1245</td>\n",
              "    </tr>\n",
              "    <tr>\n",
              "      <th>35</th>\n",
              "      <td>2021-06-07</td>\n",
              "      <td>40983834</td>\n",
              "      <td>1230</td>\n",
              "    </tr>\n",
              "    <tr>\n",
              "      <th>36</th>\n",
              "      <td>2021-06-14</td>\n",
              "      <td>41727264</td>\n",
              "      <td>1579</td>\n",
              "    </tr>\n",
              "    <tr>\n",
              "      <th>37</th>\n",
              "      <td>2021-06-21</td>\n",
              "      <td>42245328</td>\n",
              "      <td>2216</td>\n",
              "    </tr>\n",
              "    <tr>\n",
              "      <th>38</th>\n",
              "      <td>2021-06-28</td>\n",
              "      <td>41248193</td>\n",
              "      <td>3377</td>\n",
              "    </tr>\n",
              "    <tr>\n",
              "      <th>39</th>\n",
              "      <td>2021-07-05</td>\n",
              "      <td>38314061</td>\n",
              "      <td>3649</td>\n",
              "    </tr>\n",
              "    <tr>\n",
              "      <th>40</th>\n",
              "      <td>2021-07-12</td>\n",
              "      <td>34263367</td>\n",
              "      <td>3312</td>\n",
              "    </tr>\n",
              "    <tr>\n",
              "      <th>41</th>\n",
              "      <td>2021-07-19</td>\n",
              "      <td>34134935</td>\n",
              "      <td>3241</td>\n",
              "    </tr>\n",
              "    <tr>\n",
              "      <th>42</th>\n",
              "      <td>2021-07-26</td>\n",
              "      <td>33431470</td>\n",
              "      <td>3095</td>\n",
              "    </tr>\n",
              "    <tr>\n",
              "      <th>43</th>\n",
              "      <td>2021-08-02</td>\n",
              "      <td>33900382</td>\n",
              "      <td>3438</td>\n",
              "    </tr>\n",
              "    <tr>\n",
              "      <th>44</th>\n",
              "      <td>2021-08-09</td>\n",
              "      <td>33119731</td>\n",
              "      <td>3420</td>\n",
              "    </tr>\n",
              "    <tr>\n",
              "      <th>45</th>\n",
              "      <td>2021-08-16</td>\n",
              "      <td>35786220</td>\n",
              "      <td>3772</td>\n",
              "    </tr>\n",
              "    <tr>\n",
              "      <th>46</th>\n",
              "      <td>2021-08-23</td>\n",
              "      <td>37077195</td>\n",
              "      <td>3760</td>\n",
              "    </tr>\n",
              "    <tr>\n",
              "      <th>47</th>\n",
              "      <td>2021-08-30</td>\n",
              "      <td>38017487</td>\n",
              "      <td>4363</td>\n",
              "    </tr>\n",
              "    <tr>\n",
              "      <th>48</th>\n",
              "      <td>2021-09-06</td>\n",
              "      <td>38915705</td>\n",
              "      <td>4840</td>\n",
              "    </tr>\n",
              "    <tr>\n",
              "      <th>49</th>\n",
              "      <td>2021-09-13</td>\n",
              "      <td>35178269</td>\n",
              "      <td>5800</td>\n",
              "    </tr>\n",
              "    <tr>\n",
              "      <th>50</th>\n",
              "      <td>2021-09-20</td>\n",
              "      <td>30632894</td>\n",
              "      <td>5860</td>\n",
              "    </tr>\n",
              "    <tr>\n",
              "      <th>51</th>\n",
              "      <td>2021-09-27</td>\n",
              "      <td>36905927</td>\n",
              "      <td>4630</td>\n",
              "    </tr>\n",
              "    <tr>\n",
              "      <th>52</th>\n",
              "      <td>2021-10-04</td>\n",
              "      <td>37010638</td>\n",
              "      <td>3941</td>\n",
              "    </tr>\n",
              "    <tr>\n",
              "      <th>53</th>\n",
              "      <td>2021-10-11</td>\n",
              "      <td>40517060</td>\n",
              "      <td>3353</td>\n",
              "    </tr>\n",
              "    <tr>\n",
              "      <th>54</th>\n",
              "      <td>2021-10-18</td>\n",
              "      <td>41611630</td>\n",
              "      <td>4826</td>\n",
              "    </tr>\n",
              "    <tr>\n",
              "      <th>55</th>\n",
              "      <td>2021-10-25</td>\n",
              "      <td>36059070</td>\n",
              "      <td>5292</td>\n",
              "    </tr>\n",
              "  </tbody>\n",
              "</table>\n",
              "</div>"
            ],
            "text/plain": [
              "        기준일_x    일별이용자수  신규확진자\n",
              "0  2020-10-05  37003821    138\n",
              "1  2020-10-12  41383851    125\n",
              "2  2020-10-19  42438651    255\n",
              "3  2020-10-26  42744134    291\n",
              "4  2020-11-02  42964633    442\n",
              "5  2020-11-09  43138913    812\n",
              "6  2020-11-16  40212746   1187\n",
              "7  2020-11-23  36190911   1638\n",
              "8  2020-11-30  35092084   1967\n",
              "9  2020-12-07  32330785   2635\n",
              "10 2020-12-14  30426305   2693\n",
              "11 2020-12-21  27615891   2412\n",
              "12 2020-12-28  25830232   1468\n",
              "13 2021-01-04  32018898   1013\n",
              "14 2021-01-11  34078209    846\n",
              "15 2021-01-18  35374099    812\n",
              "16 2021-01-25  36022780   1013\n",
              "17 2021-02-01  37593977   1045\n",
              "18 2021-02-08  38074803   1143\n",
              "19 2021-02-15  38555628    867\n",
              "20 2021-02-22  36344565    848\n",
              "21 2021-03-01  40542068    882\n",
              "22 2021-03-08  41022805    823\n",
              "23 2021-03-15  41002835    855\n",
              "24 2021-03-22  41014216   1125\n",
              "25 2021-03-29  41209667   1381\n",
              "26 2021-04-05  41574492   1397\n",
              "27 2021-04-12  40690941   1382\n",
              "28 2021-04-19  41338724   1333\n",
              "29 2021-04-26  41345556   1391\n",
              "30 2021-05-03  38042480   1506\n",
              "31 2021-05-10  41337408   1363\n",
              "32 2021-05-17  39700550   1316\n",
              "33 2021-05-24  41312019   1441\n",
              "34 2021-05-31  41209621   1245\n",
              "35 2021-06-07  40983834   1230\n",
              "36 2021-06-14  41727264   1579\n",
              "37 2021-06-21  42245328   2216\n",
              "38 2021-06-28  41248193   3377\n",
              "39 2021-07-05  38314061   3649\n",
              "40 2021-07-12  34263367   3312\n",
              "41 2021-07-19  34134935   3241\n",
              "42 2021-07-26  33431470   3095\n",
              "43 2021-08-02  33900382   3438\n",
              "44 2021-08-09  33119731   3420\n",
              "45 2021-08-16  35786220   3772\n",
              "46 2021-08-23  37077195   3760\n",
              "47 2021-08-30  38017487   4363\n",
              "48 2021-09-06  38915705   4840\n",
              "49 2021-09-13  35178269   5800\n",
              "50 2021-09-20  30632894   5860\n",
              "51 2021-09-27  36905927   4630\n",
              "52 2021-10-04  37010638   3941\n",
              "53 2021-10-11  40517060   3353\n",
              "54 2021-10-18  41611630   4826\n",
              "55 2021-10-25  36059070   5292"
            ]
          },
          "metadata": {},
          "execution_count": 191
        }
      ]
    },
    {
      "cell_type": "code",
      "metadata": {
        "id": "8advkLKsbeeE"
      },
      "source": [
        "# 변화량을 확인하기 위해 컬럼 추출\n",
        "metro_user = day_before_7['일별이용자수']\n",
        "confirmed = day_before_7['신규확진자']"
      ],
      "execution_count": null,
      "outputs": []
    },
    {
      "cell_type": "code",
      "metadata": {
        "id": "MObw2WoqdFzB"
      },
      "source": [
        "metro_user = metro_user.drop(metro_user.index[[55]])\n",
        "confirmed = confirmed.drop(confirmed.index[55])"
      ],
      "execution_count": null,
      "outputs": []
    },
    {
      "cell_type": "code",
      "metadata": {
        "id": "_kv9fq_QbeWr"
      },
      "source": [
        "day_before_7 = day_before_7.drop(day_before_7.index[[0]]).reset_index(drop=True)"
      ],
      "execution_count": null,
      "outputs": []
    },
    {
      "cell_type": "code",
      "metadata": {
        "id": "Kys1YJiOaucV"
      },
      "source": [
        "day_before_7['일별이용자수'] = day_before_7['일별이용자수'] - metro_user"
      ],
      "execution_count": null,
      "outputs": []
    },
    {
      "cell_type": "code",
      "metadata": {
        "id": "dMPjLgX1eYRp"
      },
      "source": [
        "day_before_7['신규확진자'] = day_before_7['신규확진자'] - confirmed"
      ],
      "execution_count": null,
      "outputs": []
    },
    {
      "cell_type": "code",
      "metadata": {
        "colab": {
          "base_uri": "https://localhost:8080/",
          "height": 1000
        },
        "id": "LuG1E03Hd1Ja",
        "outputId": "b7edac0f-1723-4f40-ab33-d959bd1c1dc9"
      },
      "source": [
        "day_before_7"
      ],
      "execution_count": null,
      "outputs": [
        {
          "output_type": "execute_result",
          "data": {
            "text/html": [
              "<div>\n",
              "<style scoped>\n",
              "    .dataframe tbody tr th:only-of-type {\n",
              "        vertical-align: middle;\n",
              "    }\n",
              "\n",
              "    .dataframe tbody tr th {\n",
              "        vertical-align: top;\n",
              "    }\n",
              "\n",
              "    .dataframe thead th {\n",
              "        text-align: right;\n",
              "    }\n",
              "</style>\n",
              "<table border=\"1\" class=\"dataframe\">\n",
              "  <thead>\n",
              "    <tr style=\"text-align: right;\">\n",
              "      <th></th>\n",
              "      <th>기준일_x</th>\n",
              "      <th>일별이용자수</th>\n",
              "      <th>신규확진자</th>\n",
              "    </tr>\n",
              "  </thead>\n",
              "  <tbody>\n",
              "    <tr>\n",
              "      <th>0</th>\n",
              "      <td>2020-10-12</td>\n",
              "      <td>4380030</td>\n",
              "      <td>-13</td>\n",
              "    </tr>\n",
              "    <tr>\n",
              "      <th>1</th>\n",
              "      <td>2020-10-19</td>\n",
              "      <td>1054800</td>\n",
              "      <td>130</td>\n",
              "    </tr>\n",
              "    <tr>\n",
              "      <th>2</th>\n",
              "      <td>2020-10-26</td>\n",
              "      <td>305483</td>\n",
              "      <td>36</td>\n",
              "    </tr>\n",
              "    <tr>\n",
              "      <th>3</th>\n",
              "      <td>2020-11-02</td>\n",
              "      <td>220499</td>\n",
              "      <td>151</td>\n",
              "    </tr>\n",
              "    <tr>\n",
              "      <th>4</th>\n",
              "      <td>2020-11-09</td>\n",
              "      <td>174280</td>\n",
              "      <td>370</td>\n",
              "    </tr>\n",
              "    <tr>\n",
              "      <th>5</th>\n",
              "      <td>2020-11-16</td>\n",
              "      <td>-2926167</td>\n",
              "      <td>375</td>\n",
              "    </tr>\n",
              "    <tr>\n",
              "      <th>6</th>\n",
              "      <td>2020-11-23</td>\n",
              "      <td>-4021835</td>\n",
              "      <td>451</td>\n",
              "    </tr>\n",
              "    <tr>\n",
              "      <th>7</th>\n",
              "      <td>2020-11-30</td>\n",
              "      <td>-1098827</td>\n",
              "      <td>329</td>\n",
              "    </tr>\n",
              "    <tr>\n",
              "      <th>8</th>\n",
              "      <td>2020-12-07</td>\n",
              "      <td>-2761299</td>\n",
              "      <td>668</td>\n",
              "    </tr>\n",
              "    <tr>\n",
              "      <th>9</th>\n",
              "      <td>2020-12-14</td>\n",
              "      <td>-1904480</td>\n",
              "      <td>58</td>\n",
              "    </tr>\n",
              "    <tr>\n",
              "      <th>10</th>\n",
              "      <td>2020-12-21</td>\n",
              "      <td>-2810414</td>\n",
              "      <td>-281</td>\n",
              "    </tr>\n",
              "    <tr>\n",
              "      <th>11</th>\n",
              "      <td>2020-12-28</td>\n",
              "      <td>-1785659</td>\n",
              "      <td>-944</td>\n",
              "    </tr>\n",
              "    <tr>\n",
              "      <th>12</th>\n",
              "      <td>2021-01-04</td>\n",
              "      <td>6188666</td>\n",
              "      <td>-455</td>\n",
              "    </tr>\n",
              "    <tr>\n",
              "      <th>13</th>\n",
              "      <td>2021-01-11</td>\n",
              "      <td>2059311</td>\n",
              "      <td>-167</td>\n",
              "    </tr>\n",
              "    <tr>\n",
              "      <th>14</th>\n",
              "      <td>2021-01-18</td>\n",
              "      <td>1295890</td>\n",
              "      <td>-34</td>\n",
              "    </tr>\n",
              "    <tr>\n",
              "      <th>15</th>\n",
              "      <td>2021-01-25</td>\n",
              "      <td>648681</td>\n",
              "      <td>201</td>\n",
              "    </tr>\n",
              "    <tr>\n",
              "      <th>16</th>\n",
              "      <td>2021-02-01</td>\n",
              "      <td>1571197</td>\n",
              "      <td>32</td>\n",
              "    </tr>\n",
              "    <tr>\n",
              "      <th>17</th>\n",
              "      <td>2021-02-08</td>\n",
              "      <td>480826</td>\n",
              "      <td>98</td>\n",
              "    </tr>\n",
              "    <tr>\n",
              "      <th>18</th>\n",
              "      <td>2021-02-15</td>\n",
              "      <td>480825</td>\n",
              "      <td>-276</td>\n",
              "    </tr>\n",
              "    <tr>\n",
              "      <th>19</th>\n",
              "      <td>2021-02-22</td>\n",
              "      <td>-2211063</td>\n",
              "      <td>-19</td>\n",
              "    </tr>\n",
              "    <tr>\n",
              "      <th>20</th>\n",
              "      <td>2021-03-01</td>\n",
              "      <td>4197503</td>\n",
              "      <td>34</td>\n",
              "    </tr>\n",
              "    <tr>\n",
              "      <th>21</th>\n",
              "      <td>2021-03-08</td>\n",
              "      <td>480737</td>\n",
              "      <td>-59</td>\n",
              "    </tr>\n",
              "    <tr>\n",
              "      <th>22</th>\n",
              "      <td>2021-03-15</td>\n",
              "      <td>-19970</td>\n",
              "      <td>32</td>\n",
              "    </tr>\n",
              "    <tr>\n",
              "      <th>23</th>\n",
              "      <td>2021-03-22</td>\n",
              "      <td>11381</td>\n",
              "      <td>270</td>\n",
              "    </tr>\n",
              "    <tr>\n",
              "      <th>24</th>\n",
              "      <td>2021-03-29</td>\n",
              "      <td>195451</td>\n",
              "      <td>256</td>\n",
              "    </tr>\n",
              "    <tr>\n",
              "      <th>25</th>\n",
              "      <td>2021-04-05</td>\n",
              "      <td>364825</td>\n",
              "      <td>16</td>\n",
              "    </tr>\n",
              "    <tr>\n",
              "      <th>26</th>\n",
              "      <td>2021-04-12</td>\n",
              "      <td>-883551</td>\n",
              "      <td>-15</td>\n",
              "    </tr>\n",
              "    <tr>\n",
              "      <th>27</th>\n",
              "      <td>2021-04-19</td>\n",
              "      <td>647783</td>\n",
              "      <td>-49</td>\n",
              "    </tr>\n",
              "    <tr>\n",
              "      <th>28</th>\n",
              "      <td>2021-04-26</td>\n",
              "      <td>6832</td>\n",
              "      <td>58</td>\n",
              "    </tr>\n",
              "    <tr>\n",
              "      <th>29</th>\n",
              "      <td>2021-05-03</td>\n",
              "      <td>-3303076</td>\n",
              "      <td>115</td>\n",
              "    </tr>\n",
              "    <tr>\n",
              "      <th>30</th>\n",
              "      <td>2021-05-10</td>\n",
              "      <td>3294928</td>\n",
              "      <td>-143</td>\n",
              "    </tr>\n",
              "    <tr>\n",
              "      <th>31</th>\n",
              "      <td>2021-05-17</td>\n",
              "      <td>-1636858</td>\n",
              "      <td>-47</td>\n",
              "    </tr>\n",
              "    <tr>\n",
              "      <th>32</th>\n",
              "      <td>2021-05-24</td>\n",
              "      <td>1611469</td>\n",
              "      <td>125</td>\n",
              "    </tr>\n",
              "    <tr>\n",
              "      <th>33</th>\n",
              "      <td>2021-05-31</td>\n",
              "      <td>-102398</td>\n",
              "      <td>-196</td>\n",
              "    </tr>\n",
              "    <tr>\n",
              "      <th>34</th>\n",
              "      <td>2021-06-07</td>\n",
              "      <td>-225787</td>\n",
              "      <td>-15</td>\n",
              "    </tr>\n",
              "    <tr>\n",
              "      <th>35</th>\n",
              "      <td>2021-06-14</td>\n",
              "      <td>743430</td>\n",
              "      <td>349</td>\n",
              "    </tr>\n",
              "    <tr>\n",
              "      <th>36</th>\n",
              "      <td>2021-06-21</td>\n",
              "      <td>518064</td>\n",
              "      <td>637</td>\n",
              "    </tr>\n",
              "    <tr>\n",
              "      <th>37</th>\n",
              "      <td>2021-06-28</td>\n",
              "      <td>-997135</td>\n",
              "      <td>1161</td>\n",
              "    </tr>\n",
              "    <tr>\n",
              "      <th>38</th>\n",
              "      <td>2021-07-05</td>\n",
              "      <td>-2934132</td>\n",
              "      <td>272</td>\n",
              "    </tr>\n",
              "    <tr>\n",
              "      <th>39</th>\n",
              "      <td>2021-07-12</td>\n",
              "      <td>-4050694</td>\n",
              "      <td>-337</td>\n",
              "    </tr>\n",
              "    <tr>\n",
              "      <th>40</th>\n",
              "      <td>2021-07-19</td>\n",
              "      <td>-128432</td>\n",
              "      <td>-71</td>\n",
              "    </tr>\n",
              "    <tr>\n",
              "      <th>41</th>\n",
              "      <td>2021-07-26</td>\n",
              "      <td>-703465</td>\n",
              "      <td>-146</td>\n",
              "    </tr>\n",
              "    <tr>\n",
              "      <th>42</th>\n",
              "      <td>2021-08-02</td>\n",
              "      <td>468912</td>\n",
              "      <td>343</td>\n",
              "    </tr>\n",
              "    <tr>\n",
              "      <th>43</th>\n",
              "      <td>2021-08-09</td>\n",
              "      <td>-780651</td>\n",
              "      <td>-18</td>\n",
              "    </tr>\n",
              "    <tr>\n",
              "      <th>44</th>\n",
              "      <td>2021-08-16</td>\n",
              "      <td>2666489</td>\n",
              "      <td>352</td>\n",
              "    </tr>\n",
              "    <tr>\n",
              "      <th>45</th>\n",
              "      <td>2021-08-23</td>\n",
              "      <td>1290975</td>\n",
              "      <td>-12</td>\n",
              "    </tr>\n",
              "    <tr>\n",
              "      <th>46</th>\n",
              "      <td>2021-08-30</td>\n",
              "      <td>940292</td>\n",
              "      <td>603</td>\n",
              "    </tr>\n",
              "    <tr>\n",
              "      <th>47</th>\n",
              "      <td>2021-09-06</td>\n",
              "      <td>898218</td>\n",
              "      <td>477</td>\n",
              "    </tr>\n",
              "    <tr>\n",
              "      <th>48</th>\n",
              "      <td>2021-09-13</td>\n",
              "      <td>-3737436</td>\n",
              "      <td>960</td>\n",
              "    </tr>\n",
              "    <tr>\n",
              "      <th>49</th>\n",
              "      <td>2021-09-20</td>\n",
              "      <td>-4545375</td>\n",
              "      <td>60</td>\n",
              "    </tr>\n",
              "    <tr>\n",
              "      <th>50</th>\n",
              "      <td>2021-09-27</td>\n",
              "      <td>6273033</td>\n",
              "      <td>-1230</td>\n",
              "    </tr>\n",
              "    <tr>\n",
              "      <th>51</th>\n",
              "      <td>2021-10-04</td>\n",
              "      <td>104711</td>\n",
              "      <td>-689</td>\n",
              "    </tr>\n",
              "    <tr>\n",
              "      <th>52</th>\n",
              "      <td>2021-10-11</td>\n",
              "      <td>3506422</td>\n",
              "      <td>-588</td>\n",
              "    </tr>\n",
              "    <tr>\n",
              "      <th>53</th>\n",
              "      <td>2021-10-18</td>\n",
              "      <td>1094570</td>\n",
              "      <td>1473</td>\n",
              "    </tr>\n",
              "    <tr>\n",
              "      <th>54</th>\n",
              "      <td>2021-10-25</td>\n",
              "      <td>-5552560</td>\n",
              "      <td>466</td>\n",
              "    </tr>\n",
              "  </tbody>\n",
              "</table>\n",
              "</div>"
            ],
            "text/plain": [
              "        기준일_x   일별이용자수  신규확진자\n",
              "0  2020-10-12  4380030    -13\n",
              "1  2020-10-19  1054800    130\n",
              "2  2020-10-26   305483     36\n",
              "3  2020-11-02   220499    151\n",
              "4  2020-11-09   174280    370\n",
              "5  2020-11-16 -2926167    375\n",
              "6  2020-11-23 -4021835    451\n",
              "7  2020-11-30 -1098827    329\n",
              "8  2020-12-07 -2761299    668\n",
              "9  2020-12-14 -1904480     58\n",
              "10 2020-12-21 -2810414   -281\n",
              "11 2020-12-28 -1785659   -944\n",
              "12 2021-01-04  6188666   -455\n",
              "13 2021-01-11  2059311   -167\n",
              "14 2021-01-18  1295890    -34\n",
              "15 2021-01-25   648681    201\n",
              "16 2021-02-01  1571197     32\n",
              "17 2021-02-08   480826     98\n",
              "18 2021-02-15   480825   -276\n",
              "19 2021-02-22 -2211063    -19\n",
              "20 2021-03-01  4197503     34\n",
              "21 2021-03-08   480737    -59\n",
              "22 2021-03-15   -19970     32\n",
              "23 2021-03-22    11381    270\n",
              "24 2021-03-29   195451    256\n",
              "25 2021-04-05   364825     16\n",
              "26 2021-04-12  -883551    -15\n",
              "27 2021-04-19   647783    -49\n",
              "28 2021-04-26     6832     58\n",
              "29 2021-05-03 -3303076    115\n",
              "30 2021-05-10  3294928   -143\n",
              "31 2021-05-17 -1636858    -47\n",
              "32 2021-05-24  1611469    125\n",
              "33 2021-05-31  -102398   -196\n",
              "34 2021-06-07  -225787    -15\n",
              "35 2021-06-14   743430    349\n",
              "36 2021-06-21   518064    637\n",
              "37 2021-06-28  -997135   1161\n",
              "38 2021-07-05 -2934132    272\n",
              "39 2021-07-12 -4050694   -337\n",
              "40 2021-07-19  -128432    -71\n",
              "41 2021-07-26  -703465   -146\n",
              "42 2021-08-02   468912    343\n",
              "43 2021-08-09  -780651    -18\n",
              "44 2021-08-16  2666489    352\n",
              "45 2021-08-23  1290975    -12\n",
              "46 2021-08-30   940292    603\n",
              "47 2021-09-06   898218    477\n",
              "48 2021-09-13 -3737436    960\n",
              "49 2021-09-20 -4545375     60\n",
              "50 2021-09-27  6273033  -1230\n",
              "51 2021-10-04   104711   -689\n",
              "52 2021-10-11  3506422   -588\n",
              "53 2021-10-18  1094570   1473\n",
              "54 2021-10-25 -5552560    466"
            ]
          },
          "metadata": {},
          "execution_count": 197
        }
      ]
    },
    {
      "cell_type": "code",
      "metadata": {
        "id": "8BcWrBPZgEYs"
      },
      "source": [
        "day_before_7 = day_before_7[day_before_7['기준일_x']>'2020-11-01'].reset_index(drop=True)"
      ],
      "execution_count": null,
      "outputs": []
    },
    {
      "cell_type": "code",
      "metadata": {
        "id": "uavw37NsfcNf"
      },
      "source": [
        "# 스케일러\n",
        "scaler = StandardScaler()"
      ],
      "execution_count": null,
      "outputs": []
    },
    {
      "cell_type": "code",
      "metadata": {
        "colab": {
          "base_uri": "https://localhost:8080/",
          "height": 385
        },
        "id": "WAHTRmMWevGG",
        "outputId": "2aa6b302-eaaa-458a-e384-dd7a2a1dd80f"
      },
      "source": [
        "fig = plt.figure(figsize=(14, 6))\n",
        "ax = plt.subplot(1,1,1)\n",
        "\n",
        "ax.plot(day_before_7['기준일_x'], day_before_7['신규확진자'])\n",
        "\n",
        "ax2 = ax.twinx()\n",
        "ax2.plot(day_before_7['기준일_x'], day_before_7['일별이용자수'], color='r')\n",
        "\n",
        "plt.show()"
      ],
      "execution_count": null,
      "outputs": [
        {
          "output_type": "display_data",
          "data": {
            "image/png": "[encoded data removed]",
            "text/plain": [
              "<Figure size 1008x432 with 2 Axes>"
            ]
          },
          "metadata": {
            "needs_background": "light"
          }
        }
      ]
    },
    {
      "cell_type": "code",
      "metadata": {
        "colab": {
          "base_uri": "https://localhost:8080/",
          "height": 265
        },
        "id": "PTPLXw75eeH7",
        "outputId": "e7577ac1-dcd2-4114-80e8-777dbeea4397"
      },
      "source": [
        "x = day_before_7[['일별이용자수']]\n",
        "y = day_before_7[['신규확진자']]\n",
        "\n",
        "scaler.fit(x)\n",
        "x = scaler.transform(x)\n",
        "\n",
        "scaler.fit(y)\n",
        "y = scaler.transform(y)\n",
        "\n",
        "\n",
        "plt.scatter(x, y)\n",
        "plt.show()"
      ],
      "execution_count": null,
      "outputs": [
        {
          "output_type": "display_data",
          "data": {
            "image/png": "[encoded data removed]",
            "text/plain": [
              "<Figure size 432x288 with 1 Axes>"
            ]
          },
          "metadata": {
            "needs_background": "light"
          }
        }
      ]
    },
    {
      "cell_type": "markdown",
      "metadata": {
        "id": "e-07DTjRh_GU"
      },
      "source": [
        "1주일차이는 망함"
      ]
    },
    {
      "cell_type": "markdown",
      "metadata": {
        "id": "JLgq8v-QiByn"
      },
      "source": [
        "<h3> 2.확진일 - 지하철이용일 = 14"
      ]
    },
    {
      "cell_type": "code",
      "metadata": {
        "id": "QtECVj5JiID2"
      },
      "source": [
        "metro_data_14_ago = metro_data[metro_data['기준일']>'2020-01-05'].reset_index(drop=True)"
      ],
      "execution_count": null,
      "outputs": []
    },
    {
      "cell_type": "code",
      "metadata": {
        "colab": {
          "base_uri": "https://localhost:8080/",
          "height": 424
        },
        "id": "lHao86NDiW_T",
        "outputId": "81ca4f7a-b845-4bb8-d858-bb86562c31b6"
      },
      "source": [
        "metro_data_14_ago"
      ],
      "execution_count": null,
      "outputs": [
        {
          "output_type": "execute_result",
          "data": {
            "text/html": [
              "<div>\n",
              "<style scoped>\n",
              "    .dataframe tbody tr th:only-of-type {\n",
              "        vertical-align: middle;\n",
              "    }\n",
              "\n",
              "    .dataframe tbody tr th {\n",
              "        vertical-align: top;\n",
              "    }\n",
              "\n",
              "    .dataframe thead th {\n",
              "        text-align: right;\n",
              "    }\n",
              "</style>\n",
              "<table border=\"1\" class=\"dataframe\">\n",
              "  <thead>\n",
              "    <tr style=\"text-align: right;\">\n",
              "      <th></th>\n",
              "      <th>기준일</th>\n",
              "      <th>일별이용자수</th>\n",
              "    </tr>\n",
              "  </thead>\n",
              "  <tbody>\n",
              "    <tr>\n",
              "      <th>0</th>\n",
              "      <td>2020-01-06</td>\n",
              "      <td>7819416</td>\n",
              "    </tr>\n",
              "    <tr>\n",
              "      <th>1</th>\n",
              "      <td>2020-01-07</td>\n",
              "      <td>7624873</td>\n",
              "    </tr>\n",
              "    <tr>\n",
              "      <th>2</th>\n",
              "      <td>2020-01-08</td>\n",
              "      <td>7995810</td>\n",
              "    </tr>\n",
              "    <tr>\n",
              "      <th>3</th>\n",
              "      <td>2020-01-09</td>\n",
              "      <td>8123002</td>\n",
              "    </tr>\n",
              "    <tr>\n",
              "      <th>4</th>\n",
              "      <td>2020-01-10</td>\n",
              "      <td>8464744</td>\n",
              "    </tr>\n",
              "    <tr>\n",
              "      <th>...</th>\n",
              "      <td>...</td>\n",
              "      <td>...</td>\n",
              "    </tr>\n",
              "    <tr>\n",
              "      <th>660</th>\n",
              "      <td>2021-10-27</td>\n",
              "      <td>6788314</td>\n",
              "    </tr>\n",
              "    <tr>\n",
              "      <th>661</th>\n",
              "      <td>2021-10-28</td>\n",
              "      <td>6763319</td>\n",
              "    </tr>\n",
              "    <tr>\n",
              "      <th>662</th>\n",
              "      <td>2021-10-29</td>\n",
              "      <td>6975784</td>\n",
              "    </tr>\n",
              "    <tr>\n",
              "      <th>663</th>\n",
              "      <td>2021-10-30</td>\n",
              "      <td>5076792</td>\n",
              "    </tr>\n",
              "    <tr>\n",
              "      <th>664</th>\n",
              "      <td>2021-10-31</td>\n",
              "      <td>3730136</td>\n",
              "    </tr>\n",
              "  </tbody>\n",
              "</table>\n",
              "<p>665 rows × 2 columns</p>\n",
              "</div>"
            ],
            "text/plain": [
              "            기준일   일별이용자수\n",
              "0    2020-01-06  7819416\n",
              "1    2020-01-07  7624873\n",
              "2    2020-01-08  7995810\n",
              "3    2020-01-09  8123002\n",
              "4    2020-01-10  8464744\n",
              "..          ...      ...\n",
              "660  2021-10-27  6788314\n",
              "661  2021-10-28  6763319\n",
              "662  2021-10-29  6975784\n",
              "663  2021-10-30  5076792\n",
              "664  2021-10-31  3730136\n",
              "\n",
              "[665 rows x 2 columns]"
            ]
          },
          "metadata": {},
          "execution_count": 287
        }
      ]
    },
    {
      "cell_type": "code",
      "metadata": {
        "id": "RYb8xRluiZDm"
      },
      "source": [
        "day_before_14 = pd.merge(metro_data_14_ago, confirmed_data, left_index=True, right_index=True, how='left')"
      ],
      "execution_count": null,
      "outputs": []
    },
    {
      "cell_type": "code",
      "metadata": {
        "id": "UCOUtORwicr4"
      },
      "source": [
        "day_before_14[\"기준일_x\"] = pd.to_datetime(day_before_14[\"기준일_x\"])"
      ],
      "execution_count": null,
      "outputs": []
    },
    {
      "cell_type": "code",
      "metadata": {
        "id": "DA3t51b8ic-r"
      },
      "source": [
        "day_before_14 = day_before_14.drop(columns='기준일_y')"
      ],
      "execution_count": null,
      "outputs": []
    },
    {
      "cell_type": "code",
      "metadata": {
        "colab": {
          "base_uri": "https://localhost:8080/",
          "height": 424
        },
        "id": "iSxhfMBAieXW",
        "outputId": "b850fb55-cace-4ed5-d99f-4530906a4dd4"
      },
      "source": [
        "day_before_14 = day_before_14.resample('W-Mon', on='기준일_x').sum().reset_index()\n",
        "day_before_14[\"기준일_x\"] = day_before_14['기준일_x'] - timedelta(days=7)\n",
        "day_before_14"
      ],
      "execution_count": null,
      "outputs": [
        {
          "output_type": "execute_result",
          "data": {
            "text/html": [
              "<div>\n",
              "<style scoped>\n",
              "    .dataframe tbody tr th:only-of-type {\n",
              "        vertical-align: middle;\n",
              "    }\n",
              "\n",
              "    .dataframe tbody tr th {\n",
              "        vertical-align: top;\n",
              "    }\n",
              "\n",
              "    .dataframe thead th {\n",
              "        text-align: right;\n",
              "    }\n",
              "</style>\n",
              "<table border=\"1\" class=\"dataframe\">\n",
              "  <thead>\n",
              "    <tr style=\"text-align: right;\">\n",
              "      <th></th>\n",
              "      <th>기준일_x</th>\n",
              "      <th>일별이용자수</th>\n",
              "      <th>신규확진자</th>\n",
              "    </tr>\n",
              "  </thead>\n",
              "  <tbody>\n",
              "    <tr>\n",
              "      <th>0</th>\n",
              "      <td>2019-12-30</td>\n",
              "      <td>7819416</td>\n",
              "      <td>0</td>\n",
              "    </tr>\n",
              "    <tr>\n",
              "      <th>1</th>\n",
              "      <td>2020-01-06</td>\n",
              "      <td>51210906</td>\n",
              "      <td>1</td>\n",
              "    </tr>\n",
              "    <tr>\n",
              "      <th>2</th>\n",
              "      <td>2020-01-13</td>\n",
              "      <td>51766720</td>\n",
              "      <td>7</td>\n",
              "    </tr>\n",
              "    <tr>\n",
              "      <th>3</th>\n",
              "      <td>2020-01-20</td>\n",
              "      <td>37274813</td>\n",
              "      <td>4</td>\n",
              "    </tr>\n",
              "    <tr>\n",
              "      <th>4</th>\n",
              "      <td>2020-01-27</td>\n",
              "      <td>45239198</td>\n",
              "      <td>2</td>\n",
              "    </tr>\n",
              "    <tr>\n",
              "      <th>...</th>\n",
              "      <td>...</td>\n",
              "      <td>...</td>\n",
              "      <td>...</td>\n",
              "    </tr>\n",
              "    <tr>\n",
              "      <th>91</th>\n",
              "      <td>2021-09-27</td>\n",
              "      <td>36905927</td>\n",
              "      <td>3941</td>\n",
              "    </tr>\n",
              "    <tr>\n",
              "      <th>92</th>\n",
              "      <td>2021-10-04</td>\n",
              "      <td>37010638</td>\n",
              "      <td>3353</td>\n",
              "    </tr>\n",
              "    <tr>\n",
              "      <th>93</th>\n",
              "      <td>2021-10-11</td>\n",
              "      <td>40517060</td>\n",
              "      <td>4826</td>\n",
              "    </tr>\n",
              "    <tr>\n",
              "      <th>94</th>\n",
              "      <td>2021-10-18</td>\n",
              "      <td>41611630</td>\n",
              "      <td>5999</td>\n",
              "    </tr>\n",
              "    <tr>\n",
              "      <th>95</th>\n",
              "      <td>2021-10-25</td>\n",
              "      <td>36059070</td>\n",
              "      <td>5569</td>\n",
              "    </tr>\n",
              "  </tbody>\n",
              "</table>\n",
              "<p>96 rows × 3 columns</p>\n",
              "</div>"
            ],
            "text/plain": [
              "        기준일_x    일별이용자수  신규확진자\n",
              "0  2019-12-30   7819416      0\n",
              "1  2020-01-06  51210906      1\n",
              "2  2020-01-13  51766720      7\n",
              "3  2020-01-20  37274813      4\n",
              "4  2020-01-27  45239198      2\n",
              "..        ...       ...    ...\n",
              "91 2021-09-27  36905927   3941\n",
              "92 2021-10-04  37010638   3353\n",
              "93 2021-10-11  40517060   4826\n",
              "94 2021-10-18  41611630   5999\n",
              "95 2021-10-25  36059070   5569\n",
              "\n",
              "[96 rows x 3 columns]"
            ]
          },
          "metadata": {},
          "execution_count": 291
        }
      ]
    },
    {
      "cell_type": "code",
      "metadata": {
        "id": "uUUt7b7bi3tT"
      },
      "source": [
        "day_before_14.loc[day_before_14[\"기준일_x\"]==\"2020-01-20\", [\"일별이용자수\"]] = 48502959\n",
        "day_before_14.loc[day_before_14[\"기준일_x\"]==\"2020-09-28\", [\"일별이용자수\"]] = 37663267\n",
        "day_before_14.loc[day_before_14[\"기준일_x\"]==\"2021-02-08\", [\"일별이용자수\"]] = 38074803"
      ],
      "execution_count": null,
      "outputs": []
    },
    {
      "cell_type": "code",
      "metadata": {
        "colab": {
          "base_uri": "https://localhost:8080/",
          "height": 424
        },
        "id": "n0AUqSzqi6vV",
        "outputId": "817b74eb-07ca-47bd-c4b4-de9d4b4e4344"
      },
      "source": [
        "day_before_14"
      ],
      "execution_count": null,
      "outputs": [
        {
          "output_type": "execute_result",
          "data": {
            "text/html": [
              "<div>\n",
              "<style scoped>\n",
              "    .dataframe tbody tr th:only-of-type {\n",
              "        vertical-align: middle;\n",
              "    }\n",
              "\n",
              "    .dataframe tbody tr th {\n",
              "        vertical-align: top;\n",
              "    }\n",
              "\n",
              "    .dataframe thead th {\n",
              "        text-align: right;\n",
              "    }\n",
              "</style>\n",
              "<table border=\"1\" class=\"dataframe\">\n",
              "  <thead>\n",
              "    <tr style=\"text-align: right;\">\n",
              "      <th></th>\n",
              "      <th>기준일_x</th>\n",
              "      <th>일별이용자수</th>\n",
              "      <th>신규확진자</th>\n",
              "    </tr>\n",
              "  </thead>\n",
              "  <tbody>\n",
              "    <tr>\n",
              "      <th>0</th>\n",
              "      <td>2019-12-30</td>\n",
              "      <td>7819416</td>\n",
              "      <td>0</td>\n",
              "    </tr>\n",
              "    <tr>\n",
              "      <th>1</th>\n",
              "      <td>2020-01-06</td>\n",
              "      <td>51210906</td>\n",
              "      <td>1</td>\n",
              "    </tr>\n",
              "    <tr>\n",
              "      <th>2</th>\n",
              "      <td>2020-01-13</td>\n",
              "      <td>51766720</td>\n",
              "      <td>7</td>\n",
              "    </tr>\n",
              "    <tr>\n",
              "      <th>3</th>\n",
              "      <td>2020-01-20</td>\n",
              "      <td>48502959</td>\n",
              "      <td>4</td>\n",
              "    </tr>\n",
              "    <tr>\n",
              "      <th>4</th>\n",
              "      <td>2020-01-27</td>\n",
              "      <td>45239198</td>\n",
              "      <td>2</td>\n",
              "    </tr>\n",
              "    <tr>\n",
              "      <th>...</th>\n",
              "      <td>...</td>\n",
              "      <td>...</td>\n",
              "      <td>...</td>\n",
              "    </tr>\n",
              "    <tr>\n",
              "      <th>91</th>\n",
              "      <td>2021-09-27</td>\n",
              "      <td>36905927</td>\n",
              "      <td>3941</td>\n",
              "    </tr>\n",
              "    <tr>\n",
              "      <th>92</th>\n",
              "      <td>2021-10-04</td>\n",
              "      <td>37010638</td>\n",
              "      <td>3353</td>\n",
              "    </tr>\n",
              "    <tr>\n",
              "      <th>93</th>\n",
              "      <td>2021-10-11</td>\n",
              "      <td>40517060</td>\n",
              "      <td>4826</td>\n",
              "    </tr>\n",
              "    <tr>\n",
              "      <th>94</th>\n",
              "      <td>2021-10-18</td>\n",
              "      <td>41611630</td>\n",
              "      <td>5999</td>\n",
              "    </tr>\n",
              "    <tr>\n",
              "      <th>95</th>\n",
              "      <td>2021-10-25</td>\n",
              "      <td>36059070</td>\n",
              "      <td>5569</td>\n",
              "    </tr>\n",
              "  </tbody>\n",
              "</table>\n",
              "<p>96 rows × 3 columns</p>\n",
              "</div>"
            ],
            "text/plain": [
              "        기준일_x    일별이용자수  신규확진자\n",
              "0  2019-12-30   7819416      0\n",
              "1  2020-01-06  51210906      1\n",
              "2  2020-01-13  51766720      7\n",
              "3  2020-01-20  48502959      4\n",
              "4  2020-01-27  45239198      2\n",
              "..        ...       ...    ...\n",
              "91 2021-09-27  36905927   3941\n",
              "92 2021-10-04  37010638   3353\n",
              "93 2021-10-11  40517060   4826\n",
              "94 2021-10-18  41611630   5999\n",
              "95 2021-10-25  36059070   5569\n",
              "\n",
              "[96 rows x 3 columns]"
            ]
          },
          "metadata": {},
          "execution_count": 293
        }
      ]
    },
    {
      "cell_type": "code",
      "metadata": {
        "id": "_zAboLxSi71O"
      },
      "source": [
        "# 변화량을 확인하기 위해 컬럼 추출\n",
        "metro_user = day_before_14['일별이용자수']\n",
        "confirmed = day_before_14['신규확진자']"
      ],
      "execution_count": null,
      "outputs": []
    },
    {
      "cell_type": "code",
      "metadata": {
        "id": "cYlyWvnPjDoK"
      },
      "source": [
        "metro_user = metro_user.drop(metro_user.index[[94]])\n",
        "confirmed = confirmed.drop(confirmed.index[[94]])"
      ],
      "execution_count": null,
      "outputs": []
    },
    {
      "cell_type": "code",
      "metadata": {
        "id": "5DRkHpe4jWXa"
      },
      "source": [
        "day_before_14 = day_before_14.drop(day_before_14.index[[0]]).reset_index(drop=True)"
      ],
      "execution_count": null,
      "outputs": []
    },
    {
      "cell_type": "code",
      "metadata": {
        "id": "3DRI8sJZjnY6"
      },
      "source": [
        "day_before_14['일별이용자수'] = day_before_14['일별이용자수'] - metro_user"
      ],
      "execution_count": null,
      "outputs": []
    },
    {
      "cell_type": "code",
      "metadata": {
        "id": "kDZ_g41RjnqM"
      },
      "source": [
        "day_before_14['신규확진자'] = day_before_14['신규확진자'] - confirmed"
      ],
      "execution_count": null,
      "outputs": []
    },
    {
      "cell_type": "code",
      "metadata": {
        "colab": {
          "base_uri": "https://localhost:8080/",
          "height": 424
        },
        "id": "1q4bv7aIjqeC",
        "outputId": "16fbc499-7037-4d2e-a972-ce4483fe9484"
      },
      "source": [
        "day_before_14"
      ],
      "execution_count": null,
      "outputs": [
        {
          "output_type": "execute_result",
          "data": {
            "text/html": [
              "<div>\n",
              "<style scoped>\n",
              "    .dataframe tbody tr th:only-of-type {\n",
              "        vertical-align: middle;\n",
              "    }\n",
              "\n",
              "    .dataframe tbody tr th {\n",
              "        vertical-align: top;\n",
              "    }\n",
              "\n",
              "    .dataframe thead th {\n",
              "        text-align: right;\n",
              "    }\n",
              "</style>\n",
              "<table border=\"1\" class=\"dataframe\">\n",
              "  <thead>\n",
              "    <tr style=\"text-align: right;\">\n",
              "      <th></th>\n",
              "      <th>기준일_x</th>\n",
              "      <th>일별이용자수</th>\n",
              "      <th>신규확진자</th>\n",
              "    </tr>\n",
              "  </thead>\n",
              "  <tbody>\n",
              "    <tr>\n",
              "      <th>0</th>\n",
              "      <td>2020-01-06</td>\n",
              "      <td>43391490.0</td>\n",
              "      <td>1.0</td>\n",
              "    </tr>\n",
              "    <tr>\n",
              "      <th>1</th>\n",
              "      <td>2020-01-13</td>\n",
              "      <td>555814.0</td>\n",
              "      <td>6.0</td>\n",
              "    </tr>\n",
              "    <tr>\n",
              "      <th>2</th>\n",
              "      <td>2020-01-20</td>\n",
              "      <td>-3263761.0</td>\n",
              "      <td>-3.0</td>\n",
              "    </tr>\n",
              "    <tr>\n",
              "      <th>3</th>\n",
              "      <td>2020-01-27</td>\n",
              "      <td>-3263761.0</td>\n",
              "      <td>-2.0</td>\n",
              "    </tr>\n",
              "    <tr>\n",
              "      <th>4</th>\n",
              "      <td>2020-02-03</td>\n",
              "      <td>-2132600.0</td>\n",
              "      <td>15.0</td>\n",
              "    </tr>\n",
              "    <tr>\n",
              "      <th>...</th>\n",
              "      <td>...</td>\n",
              "      <td>...</td>\n",
              "      <td>...</td>\n",
              "    </tr>\n",
              "    <tr>\n",
              "      <th>90</th>\n",
              "      <td>2021-09-27</td>\n",
              "      <td>6273033.0</td>\n",
              "      <td>-689.0</td>\n",
              "    </tr>\n",
              "    <tr>\n",
              "      <th>91</th>\n",
              "      <td>2021-10-04</td>\n",
              "      <td>104711.0</td>\n",
              "      <td>-588.0</td>\n",
              "    </tr>\n",
              "    <tr>\n",
              "      <th>92</th>\n",
              "      <td>2021-10-11</td>\n",
              "      <td>3506422.0</td>\n",
              "      <td>1473.0</td>\n",
              "    </tr>\n",
              "    <tr>\n",
              "      <th>93</th>\n",
              "      <td>2021-10-18</td>\n",
              "      <td>1094570.0</td>\n",
              "      <td>1173.0</td>\n",
              "    </tr>\n",
              "    <tr>\n",
              "      <th>94</th>\n",
              "      <td>2021-10-25</td>\n",
              "      <td>NaN</td>\n",
              "      <td>NaN</td>\n",
              "    </tr>\n",
              "  </tbody>\n",
              "</table>\n",
              "<p>95 rows × 3 columns</p>\n",
              "</div>"
            ],
            "text/plain": [
              "        기준일_x      일별이용자수   신규확진자\n",
              "0  2020-01-06  43391490.0     1.0\n",
              "1  2020-01-13    555814.0     6.0\n",
              "2  2020-01-20  -3263761.0    -3.0\n",
              "3  2020-01-27  -3263761.0    -2.0\n",
              "4  2020-02-03  -2132600.0    15.0\n",
              "..        ...         ...     ...\n",
              "90 2021-09-27   6273033.0  -689.0\n",
              "91 2021-10-04    104711.0  -588.0\n",
              "92 2021-10-11   3506422.0  1473.0\n",
              "93 2021-10-18   1094570.0  1173.0\n",
              "94 2021-10-25         NaN     NaN\n",
              "\n",
              "[95 rows x 3 columns]"
            ]
          },
          "metadata": {},
          "execution_count": 299
        }
      ]
    },
    {
      "cell_type": "code",
      "metadata": {
        "id": "dim5CXkWjwFI"
      },
      "source": [
        "day_before_14 = day_before_14[day_before_14['기준일_x']>'2020-10-01'].reset_index(drop=True)"
      ],
      "execution_count": null,
      "outputs": []
    },
    {
      "cell_type": "code",
      "metadata": {
        "colab": {
          "base_uri": "https://localhost:8080/",
          "height": 385
        },
        "id": "z3gTMBZwjz9m",
        "outputId": "6775022e-45b0-42ac-96b4-23d5d2c056c7"
      },
      "source": [
        "fig = plt.figure(figsize=(14, 6))\n",
        "ax = plt.subplot(1,1,1)\n",
        "\n",
        "ax.plot(day_before_14['기준일_x'], day_before_14['신규확진자'])\n",
        "\n",
        "ax2 = ax.twinx()\n",
        "ax2.plot(day_before_14['기준일_x'], day_before_14['일별이용자수'], color='r')\n",
        "\n",
        "plt.show()"
      ],
      "execution_count": null,
      "outputs": [
        {
          "output_type": "display_data",
          "data": {
            "image/png": "[encoded data removed]",
            "text/plain": [
              "<Figure size 1008x432 with 2 Axes>"
            ]
          },
          "metadata": {
            "needs_background": "light"
          }
        }
      ]
    },
    {
      "cell_type": "code",
      "metadata": {
        "colab": {
          "base_uri": "https://localhost:8080/",
          "height": 1000
        },
        "id": "GtSzlTO4snEM",
        "outputId": "ae26d27d-3c84-4141-8ca9-e99dac1c1961"
      },
      "source": [
        "day_before_14"
      ],
      "execution_count": null,
      "outputs": [
        {
          "output_type": "execute_result",
          "data": {
            "text/html": [
              "<div>\n",
              "<style scoped>\n",
              "    .dataframe tbody tr th:only-of-type {\n",
              "        vertical-align: middle;\n",
              "    }\n",
              "\n",
              "    .dataframe tbody tr th {\n",
              "        vertical-align: top;\n",
              "    }\n",
              "\n",
              "    .dataframe thead th {\n",
              "        text-align: right;\n",
              "    }\n",
              "</style>\n",
              "<table border=\"1\" class=\"dataframe\">\n",
              "  <thead>\n",
              "    <tr style=\"text-align: right;\">\n",
              "      <th></th>\n",
              "      <th>기준일_x</th>\n",
              "      <th>일별이용자수</th>\n",
              "      <th>신규확진자</th>\n",
              "    </tr>\n",
              "  </thead>\n",
              "  <tbody>\n",
              "    <tr>\n",
              "      <th>0</th>\n",
              "      <td>2020-10-05</td>\n",
              "      <td>-659446.0</td>\n",
              "      <td>-13.0</td>\n",
              "    </tr>\n",
              "    <tr>\n",
              "      <th>1</th>\n",
              "      <td>2020-10-12</td>\n",
              "      <td>4380030.0</td>\n",
              "      <td>130.0</td>\n",
              "    </tr>\n",
              "    <tr>\n",
              "      <th>2</th>\n",
              "      <td>2020-10-19</td>\n",
              "      <td>1054800.0</td>\n",
              "      <td>36.0</td>\n",
              "    </tr>\n",
              "    <tr>\n",
              "      <th>3</th>\n",
              "      <td>2020-10-26</td>\n",
              "      <td>305483.0</td>\n",
              "      <td>151.0</td>\n",
              "    </tr>\n",
              "    <tr>\n",
              "      <th>4</th>\n",
              "      <td>2020-11-02</td>\n",
              "      <td>220499.0</td>\n",
              "      <td>370.0</td>\n",
              "    </tr>\n",
              "    <tr>\n",
              "      <th>5</th>\n",
              "      <td>2020-11-09</td>\n",
              "      <td>174280.0</td>\n",
              "      <td>375.0</td>\n",
              "    </tr>\n",
              "    <tr>\n",
              "      <th>6</th>\n",
              "      <td>2020-11-16</td>\n",
              "      <td>-2926167.0</td>\n",
              "      <td>451.0</td>\n",
              "    </tr>\n",
              "    <tr>\n",
              "      <th>7</th>\n",
              "      <td>2020-11-23</td>\n",
              "      <td>-4021835.0</td>\n",
              "      <td>329.0</td>\n",
              "    </tr>\n",
              "    <tr>\n",
              "      <th>8</th>\n",
              "      <td>2020-11-30</td>\n",
              "      <td>-1098827.0</td>\n",
              "      <td>668.0</td>\n",
              "    </tr>\n",
              "    <tr>\n",
              "      <th>9</th>\n",
              "      <td>2020-12-07</td>\n",
              "      <td>-2761299.0</td>\n",
              "      <td>58.0</td>\n",
              "    </tr>\n",
              "    <tr>\n",
              "      <th>10</th>\n",
              "      <td>2020-12-14</td>\n",
              "      <td>-1904480.0</td>\n",
              "      <td>-281.0</td>\n",
              "    </tr>\n",
              "    <tr>\n",
              "      <th>11</th>\n",
              "      <td>2020-12-21</td>\n",
              "      <td>-2810414.0</td>\n",
              "      <td>-944.0</td>\n",
              "    </tr>\n",
              "    <tr>\n",
              "      <th>12</th>\n",
              "      <td>2020-12-28</td>\n",
              "      <td>-1785659.0</td>\n",
              "      <td>-455.0</td>\n",
              "    </tr>\n",
              "    <tr>\n",
              "      <th>13</th>\n",
              "      <td>2021-01-04</td>\n",
              "      <td>6188666.0</td>\n",
              "      <td>-167.0</td>\n",
              "    </tr>\n",
              "    <tr>\n",
              "      <th>14</th>\n",
              "      <td>2021-01-11</td>\n",
              "      <td>2059311.0</td>\n",
              "      <td>-34.0</td>\n",
              "    </tr>\n",
              "    <tr>\n",
              "      <th>15</th>\n",
              "      <td>2021-01-18</td>\n",
              "      <td>1295890.0</td>\n",
              "      <td>201.0</td>\n",
              "    </tr>\n",
              "    <tr>\n",
              "      <th>16</th>\n",
              "      <td>2021-01-25</td>\n",
              "      <td>648681.0</td>\n",
              "      <td>32.0</td>\n",
              "    </tr>\n",
              "    <tr>\n",
              "      <th>17</th>\n",
              "      <td>2021-02-01</td>\n",
              "      <td>1571197.0</td>\n",
              "      <td>98.0</td>\n",
              "    </tr>\n",
              "    <tr>\n",
              "      <th>18</th>\n",
              "      <td>2021-02-08</td>\n",
              "      <td>480826.0</td>\n",
              "      <td>-276.0</td>\n",
              "    </tr>\n",
              "    <tr>\n",
              "      <th>19</th>\n",
              "      <td>2021-02-15</td>\n",
              "      <td>480825.0</td>\n",
              "      <td>-19.0</td>\n",
              "    </tr>\n",
              "    <tr>\n",
              "      <th>20</th>\n",
              "      <td>2021-02-22</td>\n",
              "      <td>-2211063.0</td>\n",
              "      <td>34.0</td>\n",
              "    </tr>\n",
              "    <tr>\n",
              "      <th>21</th>\n",
              "      <td>2021-03-01</td>\n",
              "      <td>4197503.0</td>\n",
              "      <td>-59.0</td>\n",
              "    </tr>\n",
              "    <tr>\n",
              "      <th>22</th>\n",
              "      <td>2021-03-08</td>\n",
              "      <td>480737.0</td>\n",
              "      <td>32.0</td>\n",
              "    </tr>\n",
              "    <tr>\n",
              "      <th>23</th>\n",
              "      <td>2021-03-15</td>\n",
              "      <td>-19970.0</td>\n",
              "      <td>270.0</td>\n",
              "    </tr>\n",
              "    <tr>\n",
              "      <th>24</th>\n",
              "      <td>2021-03-22</td>\n",
              "      <td>11381.0</td>\n",
              "      <td>256.0</td>\n",
              "    </tr>\n",
              "    <tr>\n",
              "      <th>25</th>\n",
              "      <td>2021-03-29</td>\n",
              "      <td>195451.0</td>\n",
              "      <td>16.0</td>\n",
              "    </tr>\n",
              "    <tr>\n",
              "      <th>26</th>\n",
              "      <td>2021-04-05</td>\n",
              "      <td>364825.0</td>\n",
              "      <td>-15.0</td>\n",
              "    </tr>\n",
              "    <tr>\n",
              "      <th>27</th>\n",
              "      <td>2021-04-12</td>\n",
              "      <td>-883551.0</td>\n",
              "      <td>-49.0</td>\n",
              "    </tr>\n",
              "    <tr>\n",
              "      <th>28</th>\n",
              "      <td>2021-04-19</td>\n",
              "      <td>647783.0</td>\n",
              "      <td>58.0</td>\n",
              "    </tr>\n",
              "    <tr>\n",
              "      <th>29</th>\n",
              "      <td>2021-04-26</td>\n",
              "      <td>6832.0</td>\n",
              "      <td>115.0</td>\n",
              "    </tr>\n",
              "    <tr>\n",
              "      <th>30</th>\n",
              "      <td>2021-05-03</td>\n",
              "      <td>-3303076.0</td>\n",
              "      <td>-143.0</td>\n",
              "    </tr>\n",
              "    <tr>\n",
              "      <th>31</th>\n",
              "      <td>2021-05-10</td>\n",
              "      <td>3294928.0</td>\n",
              "      <td>-47.0</td>\n",
              "    </tr>\n",
              "    <tr>\n",
              "      <th>32</th>\n",
              "      <td>2021-05-17</td>\n",
              "      <td>-1636858.0</td>\n",
              "      <td>125.0</td>\n",
              "    </tr>\n",
              "    <tr>\n",
              "      <th>33</th>\n",
              "      <td>2021-05-24</td>\n",
              "      <td>1611469.0</td>\n",
              "      <td>-196.0</td>\n",
              "    </tr>\n",
              "    <tr>\n",
              "      <th>34</th>\n",
              "      <td>2021-05-31</td>\n",
              "      <td>-102398.0</td>\n",
              "      <td>-15.0</td>\n",
              "    </tr>\n",
              "    <tr>\n",
              "      <th>35</th>\n",
              "      <td>2021-06-07</td>\n",
              "      <td>-225787.0</td>\n",
              "      <td>349.0</td>\n",
              "    </tr>\n",
              "    <tr>\n",
              "      <th>36</th>\n",
              "      <td>2021-06-14</td>\n",
              "      <td>743430.0</td>\n",
              "      <td>637.0</td>\n",
              "    </tr>\n",
              "    <tr>\n",
              "      <th>37</th>\n",
              "      <td>2021-06-21</td>\n",
              "      <td>518064.0</td>\n",
              "      <td>1161.0</td>\n",
              "    </tr>\n",
              "    <tr>\n",
              "      <th>38</th>\n",
              "      <td>2021-06-28</td>\n",
              "      <td>-997135.0</td>\n",
              "      <td>272.0</td>\n",
              "    </tr>\n",
              "    <tr>\n",
              "      <th>39</th>\n",
              "      <td>2021-07-05</td>\n",
              "      <td>-2934132.0</td>\n",
              "      <td>-337.0</td>\n",
              "    </tr>\n",
              "    <tr>\n",
              "      <th>40</th>\n",
              "      <td>2021-07-12</td>\n",
              "      <td>-4050694.0</td>\n",
              "      <td>-71.0</td>\n",
              "    </tr>\n",
              "    <tr>\n",
              "      <th>41</th>\n",
              "      <td>2021-07-19</td>\n",
              "      <td>-128432.0</td>\n",
              "      <td>-146.0</td>\n",
              "    </tr>\n",
              "    <tr>\n",
              "      <th>42</th>\n",
              "      <td>2021-07-26</td>\n",
              "      <td>-703465.0</td>\n",
              "      <td>343.0</td>\n",
              "    </tr>\n",
              "    <tr>\n",
              "      <th>43</th>\n",
              "      <td>2021-08-02</td>\n",
              "      <td>468912.0</td>\n",
              "      <td>-18.0</td>\n",
              "    </tr>\n",
              "    <tr>\n",
              "      <th>44</th>\n",
              "      <td>2021-08-09</td>\n",
              "      <td>-780651.0</td>\n",
              "      <td>352.0</td>\n",
              "    </tr>\n",
              "    <tr>\n",
              "      <th>45</th>\n",
              "      <td>2021-08-16</td>\n",
              "      <td>2666489.0</td>\n",
              "      <td>-12.0</td>\n",
              "    </tr>\n",
              "    <tr>\n",
              "      <th>46</th>\n",
              "      <td>2021-08-23</td>\n",
              "      <td>1290975.0</td>\n",
              "      <td>603.0</td>\n",
              "    </tr>\n",
              "    <tr>\n",
              "      <th>47</th>\n",
              "      <td>2021-08-30</td>\n",
              "      <td>940292.0</td>\n",
              "      <td>477.0</td>\n",
              "    </tr>\n",
              "    <tr>\n",
              "      <th>48</th>\n",
              "      <td>2021-09-06</td>\n",
              "      <td>898218.0</td>\n",
              "      <td>960.0</td>\n",
              "    </tr>\n",
              "    <tr>\n",
              "      <th>49</th>\n",
              "      <td>2021-09-13</td>\n",
              "      <td>-3737436.0</td>\n",
              "      <td>60.0</td>\n",
              "    </tr>\n",
              "    <tr>\n",
              "      <th>50</th>\n",
              "      <td>2021-09-20</td>\n",
              "      <td>-4545375.0</td>\n",
              "      <td>-1230.0</td>\n",
              "    </tr>\n",
              "    <tr>\n",
              "      <th>51</th>\n",
              "      <td>2021-09-27</td>\n",
              "      <td>6273033.0</td>\n",
              "      <td>-689.0</td>\n",
              "    </tr>\n",
              "    <tr>\n",
              "      <th>52</th>\n",
              "      <td>2021-10-04</td>\n",
              "      <td>104711.0</td>\n",
              "      <td>-588.0</td>\n",
              "    </tr>\n",
              "    <tr>\n",
              "      <th>53</th>\n",
              "      <td>2021-10-11</td>\n",
              "      <td>3506422.0</td>\n",
              "      <td>1473.0</td>\n",
              "    </tr>\n",
              "    <tr>\n",
              "      <th>54</th>\n",
              "      <td>2021-10-18</td>\n",
              "      <td>1094570.0</td>\n",
              "      <td>1173.0</td>\n",
              "    </tr>\n",
              "    <tr>\n",
              "      <th>55</th>\n",
              "      <td>2021-10-25</td>\n",
              "      <td>NaN</td>\n",
              "      <td>NaN</td>\n",
              "    </tr>\n",
              "  </tbody>\n",
              "</table>\n",
              "</div>"
            ],
            "text/plain": [
              "        기준일_x     일별이용자수   신규확진자\n",
              "0  2020-10-05  -659446.0   -13.0\n",
              "1  2020-10-12  4380030.0   130.0\n",
              "2  2020-10-19  1054800.0    36.0\n",
              "3  2020-10-26   305483.0   151.0\n",
              "4  2020-11-02   220499.0   370.0\n",
              "5  2020-11-09   174280.0   375.0\n",
              "6  2020-11-16 -2926167.0   451.0\n",
              "7  2020-11-23 -4021835.0   329.0\n",
              "8  2020-11-30 -1098827.0   668.0\n",
              "9  2020-12-07 -2761299.0    58.0\n",
              "10 2020-12-14 -1904480.0  -281.0\n",
              "11 2020-12-21 -2810414.0  -944.0\n",
              "12 2020-12-28 -1785659.0  -455.0\n",
              "13 2021-01-04  6188666.0  -167.0\n",
              "14 2021-01-11  2059311.0   -34.0\n",
              "15 2021-01-18  1295890.0   201.0\n",
              "16 2021-01-25   648681.0    32.0\n",
              "17 2021-02-01  1571197.0    98.0\n",
              "18 2021-02-08   480826.0  -276.0\n",
              "19 2021-02-15   480825.0   -19.0\n",
              "20 2021-02-22 -2211063.0    34.0\n",
              "21 2021-03-01  4197503.0   -59.0\n",
              "22 2021-03-08   480737.0    32.0\n",
              "23 2021-03-15   -19970.0   270.0\n",
              "24 2021-03-22    11381.0   256.0\n",
              "25 2021-03-29   195451.0    16.0\n",
              "26 2021-04-05   364825.0   -15.0\n",
              "27 2021-04-12  -883551.0   -49.0\n",
              "28 2021-04-19   647783.0    58.0\n",
              "29 2021-04-26     6832.0   115.0\n",
              "30 2021-05-03 -3303076.0  -143.0\n",
              "31 2021-05-10  3294928.0   -47.0\n",
              "32 2021-05-17 -1636858.0   125.0\n",
              "33 2021-05-24  1611469.0  -196.0\n",
              "34 2021-05-31  -102398.0   -15.0\n",
              "35 2021-06-07  -225787.0   349.0\n",
              "36 2021-06-14   743430.0   637.0\n",
              "37 2021-06-21   518064.0  1161.0\n",
              "38 2021-06-28  -997135.0   272.0\n",
              "39 2021-07-05 -2934132.0  -337.0\n",
              "40 2021-07-12 -4050694.0   -71.0\n",
              "41 2021-07-19  -128432.0  -146.0\n",
              "42 2021-07-26  -703465.0   343.0\n",
              "43 2021-08-02   468912.0   -18.0\n",
              "44 2021-08-09  -780651.0   352.0\n",
              "45 2021-08-16  2666489.0   -12.0\n",
              "46 2021-08-23  1290975.0   603.0\n",
              "47 2021-08-30   940292.0   477.0\n",
              "48 2021-09-06   898218.0   960.0\n",
              "49 2021-09-13 -3737436.0    60.0\n",
              "50 2021-09-20 -4545375.0 -1230.0\n",
              "51 2021-09-27  6273033.0  -689.0\n",
              "52 2021-10-04   104711.0  -588.0\n",
              "53 2021-10-11  3506422.0  1473.0\n",
              "54 2021-10-18  1094570.0  1173.0\n",
              "55 2021-10-25        NaN     NaN"
            ]
          },
          "metadata": {},
          "execution_count": 307
        }
      ]
    },
    {
      "cell_type": "code",
      "metadata": {
        "id": "l-EmAr9XsGWb"
      },
      "source": [
        "day_before_14 = day_before_14.drop(day_before_14.index[[55]])"
      ],
      "execution_count": null,
      "outputs": []
    },
    {
      "cell_type": "code",
      "metadata": {
        "colab": {
          "base_uri": "https://localhost:8080/",
          "height": 265
        },
        "id": "AubAPJM2kMfi",
        "outputId": "72f80cfe-d880-436a-f8a9-71cf3dc7b658"
      },
      "source": [
        "x = day_before_14[['일별이용자수']]\n",
        "y = day_before_14[['신규확진자']]\n",
        "\n",
        "scaler.fit(x)\n",
        "x = scaler.transform(x)\n",
        "\n",
        "scaler.fit(y)\n",
        "y = scaler.transform(y)\n",
        "\n",
        "plt.scatter(x, y)\n",
        "plt.show()"
      ],
      "execution_count": null,
      "outputs": [
        {
          "output_type": "display_data",
          "data": {
            "image/png": "[encoded data removed]",
            "text/plain": [
              "<Figure size 432x288 with 1 Axes>"
            ]
          },
          "metadata": {
            "needs_background": "light"
          }
        }
      ]
    },
    {
      "cell_type": "code",
      "metadata": {
        "colab": {
          "base_uri": "https://localhost:8080/"
        },
        "id": "_DGvd3ofldw0",
        "outputId": "1fbf0557-52de-4b54-81e2-b1729496eb6d"
      },
      "source": [
        "x_train, x_test, y_train, y_test = train_test_split(x, y, test_size=0.2, random_state=13)\n",
        "\n",
        "line_fitter = LinearRegression()\n",
        "line_fitter.fit(x_train, y_train)"
      ],
      "execution_count": null,
      "outputs": [
        {
          "output_type": "execute_result",
          "data": {
            "text/plain": [
              "LinearRegression()"
            ]
          },
          "metadata": {},
          "execution_count": 314
        }
      ]
    },
    {
      "cell_type": "code",
      "metadata": {
        "colab": {
          "base_uri": "https://localhost:8080/"
        },
        "id": "OckZqmetlygg",
        "outputId": "44a5833a-a4b4-4448-c34e-14681196ffa6"
      },
      "source": [
        "print(line_fitter.coef_, line_fitter.intercept_)"
      ],
      "execution_count": null,
      "outputs": [
        {
          "output_type": "stream",
          "name": "stdout",
          "text": [
            "[[0.27811388]] [-0.03767837]\n"
          ]
        }
      ]
    },
    {
      "cell_type": "code",
      "metadata": {
        "colab": {
          "base_uri": "https://localhost:8080/"
        },
        "id": "a69P_cdQl3Fr",
        "outputId": "dc8f39b1-bb5a-4c5b-d09d-3705d6e9270f"
      },
      "source": [
        "line_fitter.score(x_train, y_train)"
      ],
      "execution_count": null,
      "outputs": [
        {
          "output_type": "execute_result",
          "data": {
            "text/plain": [
              "0.06842629273374767"
            ]
          },
          "metadata": {},
          "execution_count": 316
        }
      ]
    },
    {
      "cell_type": "code",
      "metadata": {
        "colab": {
          "base_uri": "https://localhost:8080/"
        },
        "id": "81gegcOTl85B",
        "outputId": "53d62190-af24-4c9b-c346-40a11fc00f4f"
      },
      "source": [
        "line_fitter.score(x_test, y_test)"
      ],
      "execution_count": null,
      "outputs": [
        {
          "output_type": "execute_result",
          "data": {
            "text/plain": [
              "-0.15077100639635055"
            ]
          },
          "metadata": {},
          "execution_count": 317
        }
      ]
    },
    {
      "cell_type": "code",
      "metadata": {
        "id": "Ni8HD_Ual-27"
      },
      "source": [
        "train_poly = np.column_stack((x_train ** 2, x_train))\n",
        "test_poly = np.column_stack((x_test ** 2, x_test))"
      ],
      "execution_count": null,
      "outputs": []
    },
    {
      "cell_type": "code",
      "metadata": {
        "colab": {
          "base_uri": "https://localhost:8080/"
        },
        "id": "C8z160vXl_oC",
        "outputId": "dfe5cb5e-a18d-437f-874d-1c65b00b0e44"
      },
      "source": [
        "lr = LinearRegression()\n",
        "lr.fit(train_poly, y_train)"
      ],
      "execution_count": null,
      "outputs": [
        {
          "output_type": "execute_result",
          "data": {
            "text/plain": [
              "LinearRegression()"
            ]
          },
          "metadata": {},
          "execution_count": 319
        }
      ]
    },
    {
      "cell_type": "code",
      "metadata": {
        "colab": {
          "base_uri": "https://localhost:8080/"
        },
        "id": "zKl-TntbmKSm",
        "outputId": "efcd6951-649d-4ffd-e9e5-387a127ab713"
      },
      "source": [
        "lr.score(train_poly, y_train)"
      ],
      "execution_count": null,
      "outputs": [
        {
          "output_type": "execute_result",
          "data": {
            "text/plain": [
              "0.23578132342829594"
            ]
          },
          "metadata": {},
          "execution_count": 320
        }
      ]
    },
    {
      "cell_type": "code",
      "metadata": {
        "colab": {
          "base_uri": "https://localhost:8080/"
        },
        "id": "TuvjceHDmCGd",
        "outputId": "c7c2d2da-079c-490d-f5cc-78ed17a35481"
      },
      "source": [
        "lr.score(test_poly, y_test)"
      ],
      "execution_count": null,
      "outputs": [
        {
          "output_type": "execute_result",
          "data": {
            "text/plain": [
              "-0.07487801809068384"
            ]
          },
          "metadata": {},
          "execution_count": 321
        }
      ]
    },
    {
      "cell_type": "markdown",
      "metadata": {
        "id": "-qK8L8tIojbG"
      },
      "source": [
        "<h3> 1.확진일 - 지하철이용일 = 0"
      ]
    },
    {
      "cell_type": "code",
      "metadata": {
        "id": "_qPb4BUgoidB"
      },
      "source": [
        "metro_data_0_ago = metro_data[metro_data['기준일']>'2020-01-19'].reset_index(drop=True)"
      ],
      "execution_count": null,
      "outputs": []
    },
    {
      "cell_type": "code",
      "metadata": {
        "id": "I2iQmXTPo0Gy"
      },
      "source": [
        "day_before_0 = pd.merge(metro_data_0_ago, confirmed_data, left_index=True, right_index=True, how='left')"
      ],
      "execution_count": null,
      "outputs": []
    },
    {
      "cell_type": "code",
      "metadata": {
        "id": "3S8YcE_mo2fG"
      },
      "source": [
        "day_before_0[\"기준일_x\"] = pd.to_datetime(day_before_0[\"기준일_x\"])"
      ],
      "execution_count": null,
      "outputs": []
    },
    {
      "cell_type": "code",
      "metadata": {
        "colab": {
          "base_uri": "https://localhost:8080/",
          "height": 424
        },
        "id": "OJAKE7AXQIqi",
        "outputId": "a03d0c99-c560-49d9-b943-1d4a5543ba2e"
      },
      "source": [
        "day_before_0"
      ],
      "execution_count": null,
      "outputs": [
        {
          "output_type": "execute_result",
          "data": {
            "text/html": [
              "<div>\n",
              "<style scoped>\n",
              "    .dataframe tbody tr th:only-of-type {\n",
              "        vertical-align: middle;\n",
              "    }\n",
              "\n",
              "    .dataframe tbody tr th {\n",
              "        vertical-align: top;\n",
              "    }\n",
              "\n",
              "    .dataframe thead th {\n",
              "        text-align: right;\n",
              "    }\n",
              "</style>\n",
              "<table border=\"1\" class=\"dataframe\">\n",
              "  <thead>\n",
              "    <tr style=\"text-align: right;\">\n",
              "      <th></th>\n",
              "      <th>기준일_x</th>\n",
              "      <th>일별이용자수</th>\n",
              "      <th>기준일_y</th>\n",
              "      <th>신규확진자</th>\n",
              "    </tr>\n",
              "  </thead>\n",
              "  <tbody>\n",
              "    <tr>\n",
              "      <th>0</th>\n",
              "      <td>2020-01-20</td>\n",
              "      <td>8023369</td>\n",
              "      <td>2020-01-20</td>\n",
              "      <td>0</td>\n",
              "    </tr>\n",
              "    <tr>\n",
              "      <th>1</th>\n",
              "      <td>2020-01-21</td>\n",
              "      <td>8063435</td>\n",
              "      <td>2020-01-21</td>\n",
              "      <td>0</td>\n",
              "    </tr>\n",
              "    <tr>\n",
              "      <th>2</th>\n",
              "      <td>2020-01-22</td>\n",
              "      <td>8058478</td>\n",
              "      <td>2020-01-22</td>\n",
              "      <td>0</td>\n",
              "    </tr>\n",
              "    <tr>\n",
              "      <th>3</th>\n",
              "      <td>2020-01-23</td>\n",
              "      <td>7641489</td>\n",
              "      <td>2020-01-23</td>\n",
              "      <td>0</td>\n",
              "    </tr>\n",
              "    <tr>\n",
              "      <th>4</th>\n",
              "      <td>2020-01-24</td>\n",
              "      <td>3266041</td>\n",
              "      <td>2020-01-24</td>\n",
              "      <td>0</td>\n",
              "    </tr>\n",
              "    <tr>\n",
              "      <th>...</th>\n",
              "      <td>...</td>\n",
              "      <td>...</td>\n",
              "      <td>...</td>\n",
              "      <td>...</td>\n",
              "    </tr>\n",
              "    <tr>\n",
              "      <th>646</th>\n",
              "      <td>2021-10-27</td>\n",
              "      <td>6788314</td>\n",
              "      <td>2021-10-27</td>\n",
              "      <td>729</td>\n",
              "    </tr>\n",
              "    <tr>\n",
              "      <th>647</th>\n",
              "      <td>2021-10-28</td>\n",
              "      <td>6763319</td>\n",
              "      <td>2021-10-28</td>\n",
              "      <td>788</td>\n",
              "    </tr>\n",
              "    <tr>\n",
              "      <th>648</th>\n",
              "      <td>2021-10-29</td>\n",
              "      <td>6975784</td>\n",
              "      <td>2021-10-29</td>\n",
              "      <td>770</td>\n",
              "    </tr>\n",
              "    <tr>\n",
              "      <th>649</th>\n",
              "      <td>2021-10-30</td>\n",
              "      <td>5076792</td>\n",
              "      <td>2021-10-30</td>\n",
              "      <td>706</td>\n",
              "    </tr>\n",
              "    <tr>\n",
              "      <th>650</th>\n",
              "      <td>2021-10-31</td>\n",
              "      <td>3730136</td>\n",
              "      <td>2021-10-31</td>\n",
              "      <td>760</td>\n",
              "    </tr>\n",
              "  </tbody>\n",
              "</table>\n",
              "<p>651 rows × 4 columns</p>\n",
              "</div>"
            ],
            "text/plain": [
              "         기준일_x   일별이용자수       기준일_y  신규확진자\n",
              "0   2020-01-20  8023369  2020-01-20      0\n",
              "1   2020-01-21  8063435  2020-01-21      0\n",
              "2   2020-01-22  8058478  2020-01-22      0\n",
              "3   2020-01-23  7641489  2020-01-23      0\n",
              "4   2020-01-24  3266041  2020-01-24      0\n",
              "..         ...      ...         ...    ...\n",
              "646 2021-10-27  6788314  2021-10-27    729\n",
              "647 2021-10-28  6763319  2021-10-28    788\n",
              "648 2021-10-29  6975784  2021-10-29    770\n",
              "649 2021-10-30  5076792  2021-10-30    706\n",
              "650 2021-10-31  3730136  2021-10-31    760\n",
              "\n",
              "[651 rows x 4 columns]"
            ]
          },
          "metadata": {},
          "execution_count": 42
        }
      ]
    },
    {
      "cell_type": "code",
      "metadata": {
        "id": "hEn5QGBwQH19"
      },
      "source": [
        "day_before_0 = day_before_0.drop(columns='기준일_y')"
      ],
      "execution_count": null,
      "outputs": []
    },
    {
      "cell_type": "code",
      "metadata": {
        "colab": {
          "base_uri": "https://localhost:8080/",
          "height": 424
        },
        "id": "FQngfpPoQLVd",
        "outputId": "7d6d66a2-2f8c-47ae-d061-df9392a5092d"
      },
      "source": [
        "day_before_0 = day_before_0.resample('W-Mon', on='기준일_x').sum().reset_index()\n",
        "day_before_0[\"기준일_x\"] = day_before_0['기준일_x'] - timedelta(days=7)\n",
        "day_before_0"
      ],
      "execution_count": null,
      "outputs": [
        {
          "output_type": "execute_result",
          "data": {
            "text/html": [
              "<div>\n",
              "<style scoped>\n",
              "    .dataframe tbody tr th:only-of-type {\n",
              "        vertical-align: middle;\n",
              "    }\n",
              "\n",
              "    .dataframe tbody tr th {\n",
              "        vertical-align: top;\n",
              "    }\n",
              "\n",
              "    .dataframe thead th {\n",
              "        text-align: right;\n",
              "    }\n",
              "</style>\n",
              "<table border=\"1\" class=\"dataframe\">\n",
              "  <thead>\n",
              "    <tr style=\"text-align: right;\">\n",
              "      <th></th>\n",
              "      <th>기준일_x</th>\n",
              "      <th>일별이용자수</th>\n",
              "      <th>신규확진자</th>\n",
              "    </tr>\n",
              "  </thead>\n",
              "  <tbody>\n",
              "    <tr>\n",
              "      <th>0</th>\n",
              "      <td>2020-01-13</td>\n",
              "      <td>8023369</td>\n",
              "      <td>0</td>\n",
              "    </tr>\n",
              "    <tr>\n",
              "      <th>1</th>\n",
              "      <td>2020-01-20</td>\n",
              "      <td>37274813</td>\n",
              "      <td>1</td>\n",
              "    </tr>\n",
              "    <tr>\n",
              "      <th>2</th>\n",
              "      <td>2020-01-27</td>\n",
              "      <td>45239198</td>\n",
              "      <td>7</td>\n",
              "    </tr>\n",
              "    <tr>\n",
              "      <th>3</th>\n",
              "      <td>2020-02-03</td>\n",
              "      <td>43106598</td>\n",
              "      <td>4</td>\n",
              "    </tr>\n",
              "    <tr>\n",
              "      <th>4</th>\n",
              "      <td>2020-02-10</td>\n",
              "      <td>45354541</td>\n",
              "      <td>2</td>\n",
              "    </tr>\n",
              "    <tr>\n",
              "      <th>...</th>\n",
              "      <td>...</td>\n",
              "      <td>...</td>\n",
              "      <td>...</td>\n",
              "    </tr>\n",
              "    <tr>\n",
              "      <th>89</th>\n",
              "      <td>2021-09-27</td>\n",
              "      <td>36905927</td>\n",
              "      <td>5860</td>\n",
              "    </tr>\n",
              "    <tr>\n",
              "      <th>90</th>\n",
              "      <td>2021-10-04</td>\n",
              "      <td>37010638</td>\n",
              "      <td>4630</td>\n",
              "    </tr>\n",
              "    <tr>\n",
              "      <th>91</th>\n",
              "      <td>2021-10-11</td>\n",
              "      <td>40517060</td>\n",
              "      <td>3941</td>\n",
              "    </tr>\n",
              "    <tr>\n",
              "      <th>92</th>\n",
              "      <td>2021-10-18</td>\n",
              "      <td>41611630</td>\n",
              "      <td>3353</td>\n",
              "    </tr>\n",
              "    <tr>\n",
              "      <th>93</th>\n",
              "      <td>2021-10-25</td>\n",
              "      <td>36059070</td>\n",
              "      <td>4180</td>\n",
              "    </tr>\n",
              "  </tbody>\n",
              "</table>\n",
              "<p>94 rows × 3 columns</p>\n",
              "</div>"
            ],
            "text/plain": [
              "        기준일_x    일별이용자수  신규확진자\n",
              "0  2020-01-13   8023369      0\n",
              "1  2020-01-20  37274813      1\n",
              "2  2020-01-27  45239198      7\n",
              "3  2020-02-03  43106598      4\n",
              "4  2020-02-10  45354541      2\n",
              "..        ...       ...    ...\n",
              "89 2021-09-27  36905927   5860\n",
              "90 2021-10-04  37010638   4630\n",
              "91 2021-10-11  40517060   3941\n",
              "92 2021-10-18  41611630   3353\n",
              "93 2021-10-25  36059070   4180\n",
              "\n",
              "[94 rows x 3 columns]"
            ]
          },
          "metadata": {},
          "execution_count": 44
        }
      ]
    },
    {
      "cell_type": "code",
      "metadata": {
        "id": "Xc9sH-mgQOR9"
      },
      "source": [
        "day_before_0.loc[day_before_0[\"기준일_x\"]==\"2020-01-20\", [\"일별이용자수\"]] = 48502959\n",
        "day_before_0.loc[day_before_0[\"기준일_x\"]==\"2020-09-28\", [\"일별이용자수\"]] = 37663267\n",
        "day_before_0.loc[day_before_0[\"기준일_x\"]==\"2021-02-08\", [\"일별이용자수\"]] = 38074803"
      ],
      "execution_count": null,
      "outputs": []
    },
    {
      "cell_type": "code",
      "metadata": {
        "id": "vBdrKCKjQSDT"
      },
      "source": [
        "# 변화량을 확인하기 위해 컬럼 추출\n",
        "metro_user = day_before_0['일별이용자수']\n",
        "confirmed = day_before_0['신규확진자']"
      ],
      "execution_count": null,
      "outputs": []
    },
    {
      "cell_type": "code",
      "metadata": {
        "id": "qfmqz-OFQTuL"
      },
      "source": [
        "metro_user = metro_user.drop(metro_user.index[[93]])\n",
        "confirmed = confirmed.drop(confirmed.index[[93]])"
      ],
      "execution_count": null,
      "outputs": []
    },
    {
      "cell_type": "code",
      "metadata": {
        "id": "S3HpX1RG-Roh"
      },
      "source": [
        "day_before_0['일별이용자수'] = day_before_0['일별이용자수'] - metro_user\n",
        "day_before_0['신규확진자'] = day_before_0['신규확진자'] - confirmed"
      ],
      "execution_count": null,
      "outputs": []
    },
    {
      "cell_type": "code",
      "metadata": {
        "id": "g4VALCazQfgk"
      },
      "source": [
        "day_before_0 = day_before_0[day_before_0['기준일_x']>'2020-10-01'].reset_index(drop=True)"
      ],
      "execution_count": null,
      "outputs": []
    },
    {
      "cell_type": "code",
      "metadata": {
        "colab": {
          "base_uri": "https://localhost:8080/",
          "height": 385
        },
        "id": "AqY_rapdQiQE",
        "outputId": "c11c4645-7fdc-42b6-eae3-8ceb10f964ef"
      },
      "source": [
        "fig = plt.figure(figsize=(14, 6))\n",
        "ax = plt.subplot(1,1,1)\n",
        "\n",
        "ax.plot(day_before_0['기준일_x'], day_before_0['신규확진자'])\n",
        "\n",
        "ax2 = ax.twinx()\n",
        "ax2.plot(day_before_0['기준일_x'], day_before_0['일별이용자수'], color='r')\n",
        "\n",
        "plt.show()"
      ],
      "execution_count": null,
      "outputs": [
        {
          "output_type": "display_data",
          "data": {
            "image/png": "[encoded data removed]",
            "text/plain": [
              "<Figure size 1008x432 with 2 Axes>"
            ]
          },
          "metadata": {
            "needs_background": "light"
          }
        }
      ]
    },
    {
      "cell_type": "code",
      "metadata": {
        "colab": {
          "base_uri": "https://localhost:8080/",
          "height": 265
        },
        "id": "UKvXN7J-Qlw0",
        "outputId": "4693716f-4ded-4338-d883-a6df01f44ccc"
      },
      "source": [
        "x = day_before_0[['일별이용자수']]\n",
        "y = day_before_0[['신규확진자']]\n",
        "\n",
        "scaler.fit(x)\n",
        "x = scaler.transform(x)\n",
        "\n",
        "scaler.fit(y)\n",
        "y = scaler.transform(y)\n",
        "\n",
        "plt.scatter(x, y)\n",
        "plt.show()"
      ],
      "execution_count": null,
      "outputs": [
        {
          "output_type": "display_data",
          "data": {
            "image/png": "[encoded data removed]",
            "text/plain": [
              "<Figure size 432x288 with 1 Axes>"
            ]
          },
          "metadata": {
            "needs_background": "light"
          }
        }
      ]
    },
    {
      "cell_type": "code",
      "metadata": {
        "colab": {
          "base_uri": "https://localhost:8080/"
        },
        "id": "A_UlR2i9Q0LM",
        "outputId": "abbe036e-d47b-4de7-ec7b-8dc14229f6cf"
      },
      "source": [
        "x_train, x_test, y_train, y_test = train_test_split(x, y, test_size=0.2, random_state=13)\n",
        "\n",
        "line_fitter = LinearRegression()\n",
        "line_fitter.fit(x_train, y_train)"
      ],
      "execution_count": null,
      "outputs": [
        {
          "output_type": "execute_result",
          "data": {
            "text/plain": [
              "LinearRegression()"
            ]
          },
          "metadata": {},
          "execution_count": 28
        }
      ]
    },
    {
      "cell_type": "code",
      "metadata": {
        "colab": {
          "base_uri": "https://localhost:8080/"
        },
        "id": "FM-PEJNgQ3NQ",
        "outputId": "d6e25866-d814-4caf-d5ba-0173839c1e41"
      },
      "source": [
        "print(line_fitter.coef_, line_fitter.intercept_)"
      ],
      "execution_count": null,
      "outputs": [
        {
          "output_type": "stream",
          "name": "stdout",
          "text": [
            "[[-0.27140706]] [-0.00176805]\n"
          ]
        }
      ]
    },
    {
      "cell_type": "code",
      "metadata": {
        "colab": {
          "base_uri": "https://localhost:8080/"
        },
        "id": "wUufINmZQ4bs",
        "outputId": "0d03c8c3-822a-49a3-8794-e169b2125282"
      },
      "source": [
        "line_fitter.score(x_train, y_train)"
      ],
      "execution_count": null,
      "outputs": [
        {
          "output_type": "execute_result",
          "data": {
            "text/plain": [
              "0.04752605826217393"
            ]
          },
          "metadata": {},
          "execution_count": 30
        }
      ]
    },
    {
      "cell_type": "code",
      "metadata": {
        "colab": {
          "base_uri": "https://localhost:8080/"
        },
        "id": "yzpxo7XgQ5UU",
        "outputId": "818791e3-83f9-40b1-b12f-8ef622e2b91b"
      },
      "source": [
        "line_fitter.score(x_test, y_test)"
      ],
      "execution_count": null,
      "outputs": [
        {
          "output_type": "execute_result",
          "data": {
            "text/plain": [
              "0.1627620833793122"
            ]
          },
          "metadata": {},
          "execution_count": 31
        }
      ]
    },
    {
      "cell_type": "code",
      "metadata": {
        "id": "eKB8KaabQ5Ov"
      },
      "source": [
        "train_poly = np.column_stack((x_train ** 2, x_train))\n",
        "test_poly = np.column_stack((x_test ** 2, x_test))"
      ],
      "execution_count": null,
      "outputs": []
    },
    {
      "cell_type": "code",
      "metadata": {
        "colab": {
          "base_uri": "https://localhost:8080/"
        },
        "id": "ovSM-sJeQ9Lw",
        "outputId": "ef03bf27-77d1-4477-c278-34f0447099d8"
      },
      "source": [
        "lr = LinearRegression()\n",
        "lr.fit(train_poly, y_train)"
      ],
      "execution_count": null,
      "outputs": [
        {
          "output_type": "execute_result",
          "data": {
            "text/plain": [
              "LinearRegression()"
            ]
          },
          "metadata": {},
          "execution_count": 37
        }
      ]
    },
    {
      "cell_type": "code",
      "metadata": {
        "colab": {
          "base_uri": "https://localhost:8080/"
        },
        "id": "_Io-2xb1Q_R-",
        "outputId": "a026aab5-be88-4c60-8c27-341bae015bee"
      },
      "source": [
        "lr.score(train_poly, y_train)"
      ],
      "execution_count": null,
      "outputs": [
        {
          "output_type": "execute_result",
          "data": {
            "text/plain": [
              "0.09014675452785137"
            ]
          },
          "metadata": {},
          "execution_count": 38
        }
      ]
    },
    {
      "cell_type": "code",
      "metadata": {
        "colab": {
          "base_uri": "https://localhost:8080/"
        },
        "id": "gzvv0GiOVvoX",
        "outputId": "bcdbd4e8-5cc9-406c-eb4a-4c20e2bf2cd0"
      },
      "source": [
        "lr.score(test_poly, y_test)"
      ],
      "execution_count": null,
      "outputs": [
        {
          "output_type": "execute_result",
          "data": {
            "text/plain": [
              "-2.0122086949257314"
            ]
          },
          "metadata": {},
          "execution_count": 39
        }
      ]
    },
    {
      "cell_type": "markdown",
      "metadata": {
        "id": "TAHlz__3vJ_o"
      },
      "source": [
        "<h4>우리의 가정은 현재의 지하철 이용자수가 미래의 코로나 확진자수에 영향을 준다는것이였다.<br>\n",
        "그러나 (코로나 확진일 - 지하철 이용일)이 14일 때, 7일 때, 0일 때를 비교했을 때 0일 때가 가장 점수가 높았다.<br>\n",
        "이유를 유추해 보니 코로나 신규 확진자 수는 자기상관관계에 있기 때문인것 같았다.<br>\n",
        "즉 어제의 신규확진자가 많다면, 그만큼 오늘의 신규확진자도 많을것으로 기대되기때문에 예측의 성능이 나빠지는 것이다.<br>\n",
        "(is the 전염)"
      ]
    },
    {
      "cell_type": "code",
      "metadata": {
        "id": "7FmipO3CZBiE",
        "colab": {
          "base_uri": "https://localhost:8080/",
          "height": 1000
        },
        "outputId": "80ee5227-04e1-4f69-cdbf-3b17c95749fe"
      },
      "source": [
        "# 확진자수의 자기상관을 알아보기위한 셀 그 0\n",
        "# 작업 이전의 day_before_0를 불러와줌\n",
        "day_before_0"
      ],
      "execution_count": null,
      "outputs": [
        {
          "output_type": "execute_result",
          "data": {
            "text/html": [
              "<div>\n",
              "<style scoped>\n",
              "    .dataframe tbody tr th:only-of-type {\n",
              "        vertical-align: middle;\n",
              "    }\n",
              "\n",
              "    .dataframe tbody tr th {\n",
              "        vertical-align: top;\n",
              "    }\n",
              "\n",
              "    .dataframe thead th {\n",
              "        text-align: right;\n",
              "    }\n",
              "</style>\n",
              "<table border=\"1\" class=\"dataframe\">\n",
              "  <thead>\n",
              "    <tr style=\"text-align: right;\">\n",
              "      <th></th>\n",
              "      <th>기준일_x</th>\n",
              "      <th>일별이용자수</th>\n",
              "      <th>신규확진자</th>\n",
              "    </tr>\n",
              "  </thead>\n",
              "  <tbody>\n",
              "    <tr>\n",
              "      <th>0</th>\n",
              "      <td>2020-10-05</td>\n",
              "      <td>37003821</td>\n",
              "      <td>169</td>\n",
              "    </tr>\n",
              "    <tr>\n",
              "      <th>1</th>\n",
              "      <td>2020-10-12</td>\n",
              "      <td>41383851</td>\n",
              "      <td>138</td>\n",
              "    </tr>\n",
              "    <tr>\n",
              "      <th>2</th>\n",
              "      <td>2020-10-19</td>\n",
              "      <td>42438651</td>\n",
              "      <td>125</td>\n",
              "    </tr>\n",
              "    <tr>\n",
              "      <th>3</th>\n",
              "      <td>2020-10-26</td>\n",
              "      <td>42744134</td>\n",
              "      <td>255</td>\n",
              "    </tr>\n",
              "    <tr>\n",
              "      <th>4</th>\n",
              "      <td>2020-11-02</td>\n",
              "      <td>42964633</td>\n",
              "      <td>291</td>\n",
              "    </tr>\n",
              "    <tr>\n",
              "      <th>5</th>\n",
              "      <td>2020-11-09</td>\n",
              "      <td>43138913</td>\n",
              "      <td>442</td>\n",
              "    </tr>\n",
              "    <tr>\n",
              "      <th>6</th>\n",
              "      <td>2020-11-16</td>\n",
              "      <td>40212746</td>\n",
              "      <td>812</td>\n",
              "    </tr>\n",
              "    <tr>\n",
              "      <th>7</th>\n",
              "      <td>2020-11-23</td>\n",
              "      <td>36190911</td>\n",
              "      <td>1187</td>\n",
              "    </tr>\n",
              "    <tr>\n",
              "      <th>8</th>\n",
              "      <td>2020-11-30</td>\n",
              "      <td>35092084</td>\n",
              "      <td>1638</td>\n",
              "    </tr>\n",
              "    <tr>\n",
              "      <th>9</th>\n",
              "      <td>2020-12-07</td>\n",
              "      <td>32330785</td>\n",
              "      <td>1967</td>\n",
              "    </tr>\n",
              "    <tr>\n",
              "      <th>10</th>\n",
              "      <td>2020-12-14</td>\n",
              "      <td>30426305</td>\n",
              "      <td>2635</td>\n",
              "    </tr>\n",
              "    <tr>\n",
              "      <th>11</th>\n",
              "      <td>2020-12-21</td>\n",
              "      <td>27615891</td>\n",
              "      <td>2693</td>\n",
              "    </tr>\n",
              "    <tr>\n",
              "      <th>12</th>\n",
              "      <td>2020-12-28</td>\n",
              "      <td>25830232</td>\n",
              "      <td>2412</td>\n",
              "    </tr>\n",
              "    <tr>\n",
              "      <th>13</th>\n",
              "      <td>2021-01-04</td>\n",
              "      <td>32018898</td>\n",
              "      <td>1468</td>\n",
              "    </tr>\n",
              "    <tr>\n",
              "      <th>14</th>\n",
              "      <td>2021-01-11</td>\n",
              "      <td>34078209</td>\n",
              "      <td>1013</td>\n",
              "    </tr>\n",
              "    <tr>\n",
              "      <th>15</th>\n",
              "      <td>2021-01-18</td>\n",
              "      <td>35374099</td>\n",
              "      <td>846</td>\n",
              "    </tr>\n",
              "    <tr>\n",
              "      <th>16</th>\n",
              "      <td>2021-01-25</td>\n",
              "      <td>36022780</td>\n",
              "      <td>812</td>\n",
              "    </tr>\n",
              "    <tr>\n",
              "      <th>17</th>\n",
              "      <td>2021-02-01</td>\n",
              "      <td>37593977</td>\n",
              "      <td>1013</td>\n",
              "    </tr>\n",
              "    <tr>\n",
              "      <th>18</th>\n",
              "      <td>2021-02-08</td>\n",
              "      <td>38074803</td>\n",
              "      <td>1045</td>\n",
              "    </tr>\n",
              "    <tr>\n",
              "      <th>19</th>\n",
              "      <td>2021-02-15</td>\n",
              "      <td>38555628</td>\n",
              "      <td>1143</td>\n",
              "    </tr>\n",
              "    <tr>\n",
              "      <th>20</th>\n",
              "      <td>2021-02-22</td>\n",
              "      <td>36344565</td>\n",
              "      <td>867</td>\n",
              "    </tr>\n",
              "    <tr>\n",
              "      <th>21</th>\n",
              "      <td>2021-03-01</td>\n",
              "      <td>40542068</td>\n",
              "      <td>848</td>\n",
              "    </tr>\n",
              "    <tr>\n",
              "      <th>22</th>\n",
              "      <td>2021-03-08</td>\n",
              "      <td>41022805</td>\n",
              "      <td>882</td>\n",
              "    </tr>\n",
              "    <tr>\n",
              "      <th>23</th>\n",
              "      <td>2021-03-15</td>\n",
              "      <td>41002835</td>\n",
              "      <td>823</td>\n",
              "    </tr>\n",
              "    <tr>\n",
              "      <th>24</th>\n",
              "      <td>2021-03-22</td>\n",
              "      <td>41014216</td>\n",
              "      <td>855</td>\n",
              "    </tr>\n",
              "    <tr>\n",
              "      <th>25</th>\n",
              "      <td>2021-03-29</td>\n",
              "      <td>41209667</td>\n",
              "      <td>1125</td>\n",
              "    </tr>\n",
              "    <tr>\n",
              "      <th>26</th>\n",
              "      <td>2021-04-05</td>\n",
              "      <td>41574492</td>\n",
              "      <td>1381</td>\n",
              "    </tr>\n",
              "    <tr>\n",
              "      <th>27</th>\n",
              "      <td>2021-04-12</td>\n",
              "      <td>40690941</td>\n",
              "      <td>1397</td>\n",
              "    </tr>\n",
              "    <tr>\n",
              "      <th>28</th>\n",
              "      <td>2021-04-19</td>\n",
              "      <td>41338724</td>\n",
              "      <td>1382</td>\n",
              "    </tr>\n",
              "    <tr>\n",
              "      <th>29</th>\n",
              "      <td>2021-04-26</td>\n",
              "      <td>41345556</td>\n",
              "      <td>1333</td>\n",
              "    </tr>\n",
              "    <tr>\n",
              "      <th>30</th>\n",
              "      <td>2021-05-03</td>\n",
              "      <td>38042480</td>\n",
              "      <td>1391</td>\n",
              "    </tr>\n",
              "    <tr>\n",
              "      <th>31</th>\n",
              "      <td>2021-05-10</td>\n",
              "      <td>41337408</td>\n",
              "      <td>1506</td>\n",
              "    </tr>\n",
              "    <tr>\n",
              "      <th>32</th>\n",
              "      <td>2021-05-17</td>\n",
              "      <td>39700550</td>\n",
              "      <td>1363</td>\n",
              "    </tr>\n",
              "    <tr>\n",
              "      <th>33</th>\n",
              "      <td>2021-05-24</td>\n",
              "      <td>41312019</td>\n",
              "      <td>1316</td>\n",
              "    </tr>\n",
              "    <tr>\n",
              "      <th>34</th>\n",
              "      <td>2021-05-31</td>\n",
              "      <td>41209621</td>\n",
              "      <td>1441</td>\n",
              "    </tr>\n",
              "    <tr>\n",
              "      <th>35</th>\n",
              "      <td>2021-06-07</td>\n",
              "      <td>40983834</td>\n",
              "      <td>1245</td>\n",
              "    </tr>\n",
              "    <tr>\n",
              "      <th>36</th>\n",
              "      <td>2021-06-14</td>\n",
              "      <td>41727264</td>\n",
              "      <td>1230</td>\n",
              "    </tr>\n",
              "    <tr>\n",
              "      <th>37</th>\n",
              "      <td>2021-06-21</td>\n",
              "      <td>42245328</td>\n",
              "      <td>1579</td>\n",
              "    </tr>\n",
              "    <tr>\n",
              "      <th>38</th>\n",
              "      <td>2021-06-28</td>\n",
              "      <td>41248193</td>\n",
              "      <td>2216</td>\n",
              "    </tr>\n",
              "    <tr>\n",
              "      <th>39</th>\n",
              "      <td>2021-07-05</td>\n",
              "      <td>38314061</td>\n",
              "      <td>3377</td>\n",
              "    </tr>\n",
              "    <tr>\n",
              "      <th>40</th>\n",
              "      <td>2021-07-12</td>\n",
              "      <td>34263367</td>\n",
              "      <td>3649</td>\n",
              "    </tr>\n",
              "    <tr>\n",
              "      <th>41</th>\n",
              "      <td>2021-07-19</td>\n",
              "      <td>34134935</td>\n",
              "      <td>3312</td>\n",
              "    </tr>\n",
              "    <tr>\n",
              "      <th>42</th>\n",
              "      <td>2021-07-26</td>\n",
              "      <td>33431470</td>\n",
              "      <td>3241</td>\n",
              "    </tr>\n",
              "    <tr>\n",
              "      <th>43</th>\n",
              "      <td>2021-08-02</td>\n",
              "      <td>33900382</td>\n",
              "      <td>3095</td>\n",
              "    </tr>\n",
              "    <tr>\n",
              "      <th>44</th>\n",
              "      <td>2021-08-09</td>\n",
              "      <td>33119731</td>\n",
              "      <td>3438</td>\n",
              "    </tr>\n",
              "    <tr>\n",
              "      <th>45</th>\n",
              "      <td>2021-08-16</td>\n",
              "      <td>35786220</td>\n",
              "      <td>3420</td>\n",
              "    </tr>\n",
              "    <tr>\n",
              "      <th>46</th>\n",
              "      <td>2021-08-23</td>\n",
              "      <td>37077195</td>\n",
              "      <td>3772</td>\n",
              "    </tr>\n",
              "    <tr>\n",
              "      <th>47</th>\n",
              "      <td>2021-08-30</td>\n",
              "      <td>38017487</td>\n",
              "      <td>3760</td>\n",
              "    </tr>\n",
              "    <tr>\n",
              "      <th>48</th>\n",
              "      <td>2021-09-06</td>\n",
              "      <td>38915705</td>\n",
              "      <td>4363</td>\n",
              "    </tr>\n",
              "    <tr>\n",
              "      <th>49</th>\n",
              "      <td>2021-09-13</td>\n",
              "      <td>35178269</td>\n",
              "      <td>4840</td>\n",
              "    </tr>\n",
              "    <tr>\n",
              "      <th>50</th>\n",
              "      <td>2021-09-20</td>\n",
              "      <td>30632894</td>\n",
              "      <td>5800</td>\n",
              "    </tr>\n",
              "    <tr>\n",
              "      <th>51</th>\n",
              "      <td>2021-09-27</td>\n",
              "      <td>36905927</td>\n",
              "      <td>5860</td>\n",
              "    </tr>\n",
              "    <tr>\n",
              "      <th>52</th>\n",
              "      <td>2021-10-04</td>\n",
              "      <td>37010638</td>\n",
              "      <td>4630</td>\n",
              "    </tr>\n",
              "    <tr>\n",
              "      <th>53</th>\n",
              "      <td>2021-10-11</td>\n",
              "      <td>40517060</td>\n",
              "      <td>3941</td>\n",
              "    </tr>\n",
              "    <tr>\n",
              "      <th>54</th>\n",
              "      <td>2021-10-18</td>\n",
              "      <td>41611630</td>\n",
              "      <td>3353</td>\n",
              "    </tr>\n",
              "    <tr>\n",
              "      <th>55</th>\n",
              "      <td>2021-10-25</td>\n",
              "      <td>36059070</td>\n",
              "      <td>4180</td>\n",
              "    </tr>\n",
              "  </tbody>\n",
              "</table>\n",
              "</div>"
            ],
            "text/plain": [
              "        기준일_x    일별이용자수  신규확진자\n",
              "0  2020-10-05  37003821    169\n",
              "1  2020-10-12  41383851    138\n",
              "2  2020-10-19  42438651    125\n",
              "3  2020-10-26  42744134    255\n",
              "4  2020-11-02  42964633    291\n",
              "5  2020-11-09  43138913    442\n",
              "6  2020-11-16  40212746    812\n",
              "7  2020-11-23  36190911   1187\n",
              "8  2020-11-30  35092084   1638\n",
              "9  2020-12-07  32330785   1967\n",
              "10 2020-12-14  30426305   2635\n",
              "11 2020-12-21  27615891   2693\n",
              "12 2020-12-28  25830232   2412\n",
              "13 2021-01-04  32018898   1468\n",
              "14 2021-01-11  34078209   1013\n",
              "15 2021-01-18  35374099    846\n",
              "16 2021-01-25  36022780    812\n",
              "17 2021-02-01  37593977   1013\n",
              "18 2021-02-08  38074803   1045\n",
              "19 2021-02-15  38555628   1143\n",
              "20 2021-02-22  36344565    867\n",
              "21 2021-03-01  40542068    848\n",
              "22 2021-03-08  41022805    882\n",
              "23 2021-03-15  41002835    823\n",
              "24 2021-03-22  41014216    855\n",
              "25 2021-03-29  41209667   1125\n",
              "26 2021-04-05  41574492   1381\n",
              "27 2021-04-12  40690941   1397\n",
              "28 2021-04-19  41338724   1382\n",
              "29 2021-04-26  41345556   1333\n",
              "30 2021-05-03  38042480   1391\n",
              "31 2021-05-10  41337408   1506\n",
              "32 2021-05-17  39700550   1363\n",
              "33 2021-05-24  41312019   1316\n",
              "34 2021-05-31  41209621   1441\n",
              "35 2021-06-07  40983834   1245\n",
              "36 2021-06-14  41727264   1230\n",
              "37 2021-06-21  42245328   1579\n",
              "38 2021-06-28  41248193   2216\n",
              "39 2021-07-05  38314061   3377\n",
              "40 2021-07-12  34263367   3649\n",
              "41 2021-07-19  34134935   3312\n",
              "42 2021-07-26  33431470   3241\n",
              "43 2021-08-02  33900382   3095\n",
              "44 2021-08-09  33119731   3438\n",
              "45 2021-08-16  35786220   3420\n",
              "46 2021-08-23  37077195   3772\n",
              "47 2021-08-30  38017487   3760\n",
              "48 2021-09-06  38915705   4363\n",
              "49 2021-09-13  35178269   4840\n",
              "50 2021-09-20  30632894   5800\n",
              "51 2021-09-27  36905927   5860\n",
              "52 2021-10-04  37010638   4630\n",
              "53 2021-10-11  40517060   3941\n",
              "54 2021-10-18  41611630   3353\n",
              "55 2021-10-25  36059070   4180"
            ]
          },
          "metadata": {},
          "execution_count": 24
        }
      ]
    },
    {
      "cell_type": "code",
      "metadata": {
        "colab": {
          "base_uri": "https://localhost:8080/",
          "height": 424
        },
        "id": "cvTMTOxX14iD",
        "outputId": "ea7d7465-b2a0-45ce-a5b9-ed4e8b168de2"
      },
      "source": [
        "# 확진자수의 자기상관을 알아보기위한 셀 그 1\n",
        "# 확진자수 데이터를 일주일 차이를 내서 그 경향을 분석함\n",
        "day_before_0 = day_before_0.drop(0).reset_index(drop=True)\n",
        "day_before_0 = pd.merge(day_before_0, confirmed, left_index=True, right_index=True, how='left')\n",
        "day_before_0"
      ],
      "execution_count": null,
      "outputs": [
        {
          "output_type": "execute_result",
          "data": {
            "text/html": [
              "<div>\n",
              "<style scoped>\n",
              "    .dataframe tbody tr th:only-of-type {\n",
              "        vertical-align: middle;\n",
              "    }\n",
              "\n",
              "    .dataframe tbody tr th {\n",
              "        vertical-align: top;\n",
              "    }\n",
              "\n",
              "    .dataframe thead th {\n",
              "        text-align: right;\n",
              "    }\n",
              "</style>\n",
              "<table border=\"1\" class=\"dataframe\">\n",
              "  <thead>\n",
              "    <tr style=\"text-align: right;\">\n",
              "      <th></th>\n",
              "      <th>기준일_x</th>\n",
              "      <th>일별이용자수</th>\n",
              "      <th>신규확진자_x</th>\n",
              "      <th>신규확진자_y</th>\n",
              "    </tr>\n",
              "  </thead>\n",
              "  <tbody>\n",
              "    <tr>\n",
              "      <th>0</th>\n",
              "      <td>2020-01-20</td>\n",
              "      <td>48502959</td>\n",
              "      <td>1</td>\n",
              "      <td>0</td>\n",
              "    </tr>\n",
              "    <tr>\n",
              "      <th>1</th>\n",
              "      <td>2020-01-27</td>\n",
              "      <td>45239198</td>\n",
              "      <td>7</td>\n",
              "      <td>1</td>\n",
              "    </tr>\n",
              "    <tr>\n",
              "      <th>2</th>\n",
              "      <td>2020-02-03</td>\n",
              "      <td>43106598</td>\n",
              "      <td>4</td>\n",
              "      <td>7</td>\n",
              "    </tr>\n",
              "    <tr>\n",
              "      <th>3</th>\n",
              "      <td>2020-02-10</td>\n",
              "      <td>45354541</td>\n",
              "      <td>2</td>\n",
              "      <td>4</td>\n",
              "    </tr>\n",
              "    <tr>\n",
              "      <th>4</th>\n",
              "      <td>2020-02-17</td>\n",
              "      <td>41549862</td>\n",
              "      <td>17</td>\n",
              "      <td>2</td>\n",
              "    </tr>\n",
              "    <tr>\n",
              "      <th>...</th>\n",
              "      <td>...</td>\n",
              "      <td>...</td>\n",
              "      <td>...</td>\n",
              "      <td>...</td>\n",
              "    </tr>\n",
              "    <tr>\n",
              "      <th>88</th>\n",
              "      <td>2021-09-27</td>\n",
              "      <td>36905927</td>\n",
              "      <td>5860</td>\n",
              "      <td>5800</td>\n",
              "    </tr>\n",
              "    <tr>\n",
              "      <th>89</th>\n",
              "      <td>2021-10-04</td>\n",
              "      <td>37010638</td>\n",
              "      <td>4630</td>\n",
              "      <td>5860</td>\n",
              "    </tr>\n",
              "    <tr>\n",
              "      <th>90</th>\n",
              "      <td>2021-10-11</td>\n",
              "      <td>40517060</td>\n",
              "      <td>3941</td>\n",
              "      <td>4630</td>\n",
              "    </tr>\n",
              "    <tr>\n",
              "      <th>91</th>\n",
              "      <td>2021-10-18</td>\n",
              "      <td>41611630</td>\n",
              "      <td>3353</td>\n",
              "      <td>3941</td>\n",
              "    </tr>\n",
              "    <tr>\n",
              "      <th>92</th>\n",
              "      <td>2021-10-25</td>\n",
              "      <td>36059070</td>\n",
              "      <td>4180</td>\n",
              "      <td>3353</td>\n",
              "    </tr>\n",
              "  </tbody>\n",
              "</table>\n",
              "<p>93 rows × 4 columns</p>\n",
              "</div>"
            ],
            "text/plain": [
              "        기준일_x    일별이용자수  신규확진자_x  신규확진자_y\n",
              "0  2020-01-20  48502959        1        0\n",
              "1  2020-01-27  45239198        7        1\n",
              "2  2020-02-03  43106598        4        7\n",
              "3  2020-02-10  45354541        2        4\n",
              "4  2020-02-17  41549862       17        2\n",
              "..        ...       ...      ...      ...\n",
              "88 2021-09-27  36905927     5860     5800\n",
              "89 2021-10-04  37010638     4630     5860\n",
              "90 2021-10-11  40517060     3941     4630\n",
              "91 2021-10-18  41611630     3353     3941\n",
              "92 2021-10-25  36059070     4180     3353\n",
              "\n",
              "[93 rows x 4 columns]"
            ]
          },
          "metadata": {},
          "execution_count": 48
        }
      ]
    },
    {
      "cell_type": "code",
      "metadata": {
        "colab": {
          "base_uri": "https://localhost:8080/",
          "height": 265
        },
        "id": "TgJXr2Ml2-tD",
        "outputId": "a094c5ed-9285-44d6-ec63-733cf9b6c817"
      },
      "source": [
        "# 확진자수의 자기상관을 알아보기위한 셀 그 2\n",
        "\n",
        "x = day_before_0[['신규확진자_x']]\n",
        "y = day_before_0[['신규확진자_y']]\n",
        "\n",
        "plt.scatter(x, y)\n",
        "plt.show()"
      ],
      "execution_count": null,
      "outputs": [
        {
          "output_type": "display_data",
          "data": {
            "image/png": "[encoded data removed]",
            "text/plain": [
              "<Figure size 432x288 with 1 Axes>"
            ]
          },
          "metadata": {
            "needs_background": "light"
          }
        }
      ]
    },
    {
      "cell_type": "code",
      "metadata": {
        "colab": {
          "base_uri": "https://localhost:8080/"
        },
        "id": "DzgWqbk83P3h",
        "outputId": "fd588027-b847-4e1b-e1e0-256f85240d3b"
      },
      "source": [
        "x_train, x_test, y_train, y_test = train_test_split(x, y, test_size=0.2, random_state=28)\n",
        "\n",
        "line_fitter = LinearRegression()\n",
        "line_fitter.fit(train_poly, y_train)"
      ],
      "execution_count": null,
      "outputs": [
        {
          "output_type": "execute_result",
          "data": {
            "text/plain": [
              "LinearRegression()"
            ]
          },
          "metadata": {},
          "execution_count": 54
        }
      ]
    },
    {
      "cell_type": "code",
      "metadata": {
        "id": "W2H_CCzk4Khc"
      },
      "source": [
        "train_poly = np.column_stack((x_train ** 2, x_train))\n",
        "test_poly = np.column_stack((x_test ** 2, x_test))"
      ],
      "execution_count": null,
      "outputs": []
    },
    {
      "cell_type": "code",
      "metadata": {
        "colab": {
          "base_uri": "https://localhost:8080/"
        },
        "id": "8pxNjhHy3Y9w",
        "outputId": "e328e8c9-ff1e-4d62-897f-1c0f4a4914ec"
      },
      "source": [
        "line_fitter.score(train_poly, y_train)"
      ],
      "execution_count": null,
      "outputs": [
        {
          "output_type": "execute_result",
          "data": {
            "text/plain": [
              "0.948227342661433"
            ]
          },
          "metadata": {},
          "execution_count": 55
        }
      ]
    },
    {
      "cell_type": "code",
      "metadata": {
        "colab": {
          "base_uri": "https://localhost:8080/"
        },
        "id": "vcLUa1_L3bbj",
        "outputId": "80475256-03c3-476f-bd0d-3eafed38fcfd"
      },
      "source": [
        "line_fitter.score(test_poly, y_test)"
      ],
      "execution_count": null,
      "outputs": [
        {
          "output_type": "execute_result",
          "data": {
            "text/plain": [
              "0.9679157293589337"
            ]
          },
          "metadata": {},
          "execution_count": 56
        }
      ]
    },
    {
      "cell_type": "code",
      "metadata": {
        "colab": {
          "base_uri": "https://localhost:8080/"
        },
        "id": "5g_2aZR8AxRU",
        "outputId": "be033468-dc06-4203-d203-3872ba4765ee"
      },
      "source": [
        "print(line_fitter.coef_, line_fitter.intercept_)"
      ],
      "execution_count": null,
      "outputs": [
        {
          "output_type": "stream",
          "name": "stdout",
          "text": [
            "[[-6.70052933e-06  9.88727260e-01]] [-0.36041055]\n"
          ]
        }
      ]
    },
    {
      "cell_type": "code",
      "metadata": {
        "colab": {
          "base_uri": "https://localhost:8080/",
          "height": 265
        },
        "id": "CfDcIffX-zOt",
        "outputId": "77e85cd7-c3dc-44d6-f7a1-835bf1442188"
      },
      "source": [
        "# 추세선 그려보기\n",
        "\n",
        "x = day_before_0[['신규확진자_x']]\n",
        "y = day_before_0[['신규확진자_y']]\n",
        "\n",
        "\n",
        "point = np.arange(0, 6000)\n",
        "\n",
        "plt.plot(point, -0.00000670052933*point**2 + 0.988727260*point + -0.36041055, color='red')\n",
        "\n",
        "plt.scatter(x, y)\n",
        "plt.show()"
      ],
      "execution_count": null,
      "outputs": [
        {
          "output_type": "display_data",
          "data": {
            "image/png": "[encoded data removed]",
            "text/plain": [
              "<Figure size 432x288 with 1 Axes>"
            ]
          },
          "metadata": {
            "needs_background": "light"
          }
        }
      ]
    },
    {
      "cell_type": "markdown",
      "metadata": {
        "id": "I0D7p9JHNxw5"
      },
      "source": [
        "시험삼아 일주일정도 시간을 비틀었더니 나쁘지 않은 상관관계가 나타났다."
      ]
    },
    {
      "cell_type": "code",
      "metadata": {
        "id": "QgKMrKWvNtDE"
      },
      "source": [
        "# 단순 수치를 이용한 회귀\n",
        "\n",
        "user_and_confirm = day_before_0[['일별이용자수', '신규확진자_y']]"
      ],
      "execution_count": null,
      "outputs": []
    },
    {
      "cell_type": "code",
      "metadata": {
        "id": "6OhnOfFkNs_1"
      },
      "source": [
        "independent = user_and_confirm.to_numpy()"
      ],
      "execution_count": null,
      "outputs": []
    },
    {
      "cell_type": "code",
      "metadata": {
        "id": "BDQ-C1DAQeGe"
      },
      "source": [
        "dependent = day_before_0[['신규확진자_x']].to_numpy()"
      ],
      "execution_count": null,
      "outputs": []
    },
    {
      "cell_type": "code",
      "metadata": {
        "id": "ywFV7J63Ns1G"
      },
      "source": [
        "train_input, test_input, train_target, test_target = train_test_split(independent, dependent, random_state=28)"
      ],
      "execution_count": null,
      "outputs": []
    },
    {
      "cell_type": "code",
      "metadata": {
        "colab": {
          "base_uri": "https://localhost:8080/"
        },
        "id": "itG4yZ6HapJJ",
        "outputId": "9c6c7bc2-4629-4abc-d983-0ee8cf5f4525"
      },
      "source": [
        "# 특성생성\n",
        "poly = PolynomialFeatures(include_bias=False)\n",
        "poly.fit(train_input)\n",
        "train_poly = poly.transform(train_input)\n",
        "print(train_poly.shape)"
      ],
      "execution_count": null,
      "outputs": [
        {
          "output_type": "stream",
          "name": "stdout",
          "text": [
            "(69, 5)\n"
          ]
        }
      ]
    },
    {
      "cell_type": "code",
      "metadata": {
        "id": "lyQt761oao-I"
      },
      "source": [
        "test_poly = poly.transform(test_input)"
      ],
      "execution_count": null,
      "outputs": []
    },
    {
      "cell_type": "code",
      "metadata": {
        "colab": {
          "base_uri": "https://localhost:8080/"
        },
        "id": "vCF-NK5vTIwn",
        "outputId": "b6bdd598-f112-4e96-db9b-fbb724234854"
      },
      "source": [
        "linear_regression = LinearRegression()\n",
        "linear_regression.fit(train_poly, train_target)\n",
        "print(linear_regression.score(train_poly, train_target))"
      ],
      "execution_count": null,
      "outputs": [
        {
          "output_type": "stream",
          "name": "stdout",
          "text": [
            "0.9576709961807365\n"
          ]
        }
      ]
    },
    {
      "cell_type": "code",
      "metadata": {
        "colab": {
          "base_uri": "https://localhost:8080/"
        },
        "id": "AIO7-SxOTbi2",
        "outputId": "94ac3187-b479-47d4-cf3d-7ec7b31b2cad"
      },
      "source": [
        "print(linear_regression.score(test_poly, test_target))"
      ],
      "execution_count": null,
      "outputs": [
        {
          "output_type": "stream",
          "name": "stdout",
          "text": [
            "0.9370108600427001\n"
          ]
        }
      ]
    },
    {
      "cell_type": "code",
      "metadata": {
        "colab": {
          "base_uri": "https://localhost:8080/"
        },
        "id": "oHQGzAYCUkO4",
        "outputId": "849f6c50-04b2-41b1-8707-7781dd50657a"
      },
      "source": [
        "# 계수와 상수항 확인\n",
        "print(linear_regression.coef_, linear_regression.intercept_)"
      ],
      "execution_count": null,
      "outputs": [
        {
          "output_type": "stream",
          "name": "stdout",
          "text": [
            "[[ 4.01079625e-04  1.99805286e+00 -5.03308506e-12 -2.25351105e-08\n",
            "  -4.00544139e-05]] [-7916.72241074]\n"
          ]
        }
      ]
    },
    {
      "cell_type": "code",
      "metadata": {
        "colab": {
          "base_uri": "https://localhost:8080/"
        },
        "id": "4ZNEMaylSLbK",
        "outputId": "c10baa42-8b32-4b06-890a-32077dcc20d2"
      },
      "source": [
        "# 생성된 특성 정보 확인(x0 = 지하철 이용자수 | x1 = 신규확진자수)\n",
        "poly.get_feature_names_out()"
      ],
      "execution_count": null,
      "outputs": [
        {
          "output_type": "execute_result",
          "data": {
            "text/plain": [
              "array(['x0', 'x1', 'x0^2', 'x0 x1', 'x1^2'], dtype=object)"
            ]
          },
          "metadata": {},
          "execution_count": 89
        }
      ]
    },
    {
      "cell_type": "markdown",
      "metadata": {
        "id": "lmy8M4_mU6Zk"
      },
      "source": [
        "계수를 확인한 결과 지하철 이용자수와 관련된 계수가 너무 낮게 나왔다.<br>\n",
        "이는 지하철 이용자수의 스케일이 신규확진자수의 스케일보다 월등히 크기 떄문이다.<br>\n",
        "표준화를 이용해 스케일링을 해주자."
      ]
    },
    {
      "cell_type": "code",
      "metadata": {
        "id": "H3wvkDdmUyow"
      },
      "source": [
        "# 범위 학습\n",
        "scaler.fit(train_input)\n",
        "\n",
        "# 훈련 세트 변환\n",
        "trans_train_input = scaler.transform(train_input)\n",
        "\n",
        "# 검증 세트 변환\n",
        "trans_test_input = scaler.transform(test_input)"
      ],
      "execution_count": null,
      "outputs": []
    },
    {
      "cell_type": "code",
      "metadata": {
        "colab": {
          "base_uri": "https://localhost:8080/"
        },
        "id": "oxBe4xp0Y1-G",
        "outputId": "a29cf218-4a7d-4699-f13c-3d3e2093e039"
      },
      "source": [
        "# 특성생성\n",
        "poly = PolynomialFeatures(include_bias=False)\n",
        "poly.fit(trans_train_input)\n",
        "train_poly = poly.transform(trans_train_input)\n",
        "print(train_poly.shape)"
      ],
      "execution_count": null,
      "outputs": [
        {
          "output_type": "stream",
          "name": "stdout",
          "text": [
            "(69, 5)\n"
          ]
        }
      ]
    },
    {
      "cell_type": "code",
      "metadata": {
        "id": "CQpQ9TIRY9Eb"
      },
      "source": [
        "test_poly = poly.transform(trans_test_input)"
      ],
      "execution_count": null,
      "outputs": []
    },
    {
      "cell_type": "code",
      "metadata": {
        "colab": {
          "base_uri": "https://localhost:8080/"
        },
        "id": "PMI4DhnZZE1f",
        "outputId": "fb44c09b-9abb-4421-c1bb-7ed3ac9c5422"
      },
      "source": [
        "# 계수와 상수항 확인\n",
        "print(linear_regression.coef_, linear_regression.intercept_)"
      ],
      "execution_count": null,
      "outputs": [
        {
          "output_type": "stream",
          "name": "stdout",
          "text": [
            "[[ -32.21017943 1616.68355236  -89.62652576 -147.59608519  -96.48139094]] [1577.85204012]\n"
          ]
        }
      ]
    },
    {
      "cell_type": "code",
      "metadata": {
        "colab": {
          "base_uri": "https://localhost:8080/"
        },
        "id": "SHmsZSRhZN8V",
        "outputId": "18a5bff7-89b2-4ee9-9b0d-ddda475a2dcf"
      },
      "source": [
        "# 생성된 특성 정보 확인(x0 = 지하철 이용자수 | x1 = 신규확진자수)\n",
        "poly.get_feature_names_out()"
      ],
      "execution_count": null,
      "outputs": [
        {
          "output_type": "execute_result",
          "data": {
            "text/plain": [
              "array(['x0', 'x1', 'x0^2', 'x0 x1', 'x1^2'], dtype=object)"
            ]
          },
          "metadata": {},
          "execution_count": 101
        }
      ]
    },
    {
      "cell_type": "markdown",
      "metadata": {
        "id": "WvTSHlOccxru"
      },
      "source": [
        "생각보다 괜찮게 나왔는데 생각해보니 독립변수의 신규확진자는 일주일 전의 데이터를 넣었는데, 지하철 이용자수는 같은 주의 데이터를 비교하였다."
      ]
    },
    {
      "cell_type": "code",
      "metadata": {
        "id": "H61cgNhFmMAK"
      },
      "source": [
        "metro_data_7_ago = metro_data[metro_data['기준일']>'2020-01-12'].reset_index(drop=True)"
      ],
      "execution_count": null,
      "outputs": []
    },
    {
      "cell_type": "code",
      "metadata": {
        "id": "gJItZ1GemL5Q"
      },
      "source": [
        "day_before_7 = pd.merge(metro_data_7_ago, confirmed_data, left_index=True, right_index=True, how='left')"
      ],
      "execution_count": null,
      "outputs": []
    },
    {
      "cell_type": "code",
      "metadata": {
        "id": "qoRJin4HmRAl"
      },
      "source": [
        "day_before_7[\"기준일_x\"] = pd.to_datetime(day_before_7[\"기준일_x\"])"
      ],
      "execution_count": null,
      "outputs": []
    },
    {
      "cell_type": "code",
      "metadata": {
        "id": "vNhwkKbWmQ9J"
      },
      "source": [
        "day_before_7 = day_before_7.drop(columns='기준일_y')"
      ],
      "execution_count": null,
      "outputs": []
    },
    {
      "cell_type": "code",
      "metadata": {
        "colab": {
          "base_uri": "https://localhost:8080/",
          "height": 424
        },
        "id": "LUyW0vi5mUvV",
        "outputId": "0cfe572d-e78c-4bd6-94c6-9b8c5d852038"
      },
      "source": [
        "day_before_7 = day_before_7.resample('W-Mon', on='기준일_x').sum().reset_index()\n",
        "day_before_7[\"기준일_x\"] = day_before_7['기준일_x'] - timedelta(days=7)\n",
        "day_before_7"
      ],
      "execution_count": null,
      "outputs": [
        {
          "output_type": "execute_result",
          "data": {
            "text/html": [
              "<div>\n",
              "<style scoped>\n",
              "    .dataframe tbody tr th:only-of-type {\n",
              "        vertical-align: middle;\n",
              "    }\n",
              "\n",
              "    .dataframe tbody tr th {\n",
              "        vertical-align: top;\n",
              "    }\n",
              "\n",
              "    .dataframe thead th {\n",
              "        text-align: right;\n",
              "    }\n",
              "</style>\n",
              "<table border=\"1\" class=\"dataframe\">\n",
              "  <thead>\n",
              "    <tr style=\"text-align: right;\">\n",
              "      <th></th>\n",
              "      <th>기준일_x</th>\n",
              "      <th>일별이용자수</th>\n",
              "      <th>신규확진자</th>\n",
              "    </tr>\n",
              "  </thead>\n",
              "  <tbody>\n",
              "    <tr>\n",
              "      <th>0</th>\n",
              "      <td>2020-01-06</td>\n",
              "      <td>7931538</td>\n",
              "      <td>0</td>\n",
              "    </tr>\n",
              "    <tr>\n",
              "      <th>1</th>\n",
              "      <td>2020-01-13</td>\n",
              "      <td>51766720</td>\n",
              "      <td>1</td>\n",
              "    </tr>\n",
              "    <tr>\n",
              "      <th>2</th>\n",
              "      <td>2020-01-20</td>\n",
              "      <td>37274813</td>\n",
              "      <td>7</td>\n",
              "    </tr>\n",
              "    <tr>\n",
              "      <th>3</th>\n",
              "      <td>2020-01-27</td>\n",
              "      <td>45239198</td>\n",
              "      <td>4</td>\n",
              "    </tr>\n",
              "    <tr>\n",
              "      <th>4</th>\n",
              "      <td>2020-02-03</td>\n",
              "      <td>43106598</td>\n",
              "      <td>2</td>\n",
              "    </tr>\n",
              "    <tr>\n",
              "      <th>...</th>\n",
              "      <td>...</td>\n",
              "      <td>...</td>\n",
              "      <td>...</td>\n",
              "    </tr>\n",
              "    <tr>\n",
              "      <th>90</th>\n",
              "      <td>2021-09-27</td>\n",
              "      <td>36905927</td>\n",
              "      <td>4630</td>\n",
              "    </tr>\n",
              "    <tr>\n",
              "      <th>91</th>\n",
              "      <td>2021-10-04</td>\n",
              "      <td>37010638</td>\n",
              "      <td>3941</td>\n",
              "    </tr>\n",
              "    <tr>\n",
              "      <th>92</th>\n",
              "      <td>2021-10-11</td>\n",
              "      <td>40517060</td>\n",
              "      <td>3353</td>\n",
              "    </tr>\n",
              "    <tr>\n",
              "      <th>93</th>\n",
              "      <td>2021-10-18</td>\n",
              "      <td>41611630</td>\n",
              "      <td>4826</td>\n",
              "    </tr>\n",
              "    <tr>\n",
              "      <th>94</th>\n",
              "      <td>2021-10-25</td>\n",
              "      <td>36059070</td>\n",
              "      <td>5292</td>\n",
              "    </tr>\n",
              "  </tbody>\n",
              "</table>\n",
              "<p>95 rows × 3 columns</p>\n",
              "</div>"
            ],
            "text/plain": [
              "        기준일_x    일별이용자수  신규확진자\n",
              "0  2020-01-06   7931538      0\n",
              "1  2020-01-13  51766720      1\n",
              "2  2020-01-20  37274813      7\n",
              "3  2020-01-27  45239198      4\n",
              "4  2020-02-03  43106598      2\n",
              "..        ...       ...    ...\n",
              "90 2021-09-27  36905927   4630\n",
              "91 2021-10-04  37010638   3941\n",
              "92 2021-10-11  40517060   3353\n",
              "93 2021-10-18  41611630   4826\n",
              "94 2021-10-25  36059070   5292\n",
              "\n",
              "[95 rows x 3 columns]"
            ]
          },
          "metadata": {},
          "execution_count": 184
        }
      ]
    },
    {
      "cell_type": "code",
      "metadata": {
        "id": "U_ZCZzP-mLxW"
      },
      "source": [
        "day_before_7.loc[day_before_7[\"기준일_x\"]==\"2020-01-20\", [\"일별이용자수\"]] = 48502959\n",
        "day_before_7.loc[day_before_7[\"기준일_x\"]==\"2020-09-28\", [\"일별이용자수\"]] = 37663267\n",
        "day_before_7.loc[day_before_7[\"기준일_x\"]==\"2021-02-08\", [\"일별이용자수\"]] = 38074803"
      ],
      "execution_count": null,
      "outputs": []
    },
    {
      "cell_type": "code",
      "metadata": {
        "colab": {
          "base_uri": "https://localhost:8080/",
          "height": 424
        },
        "id": "rMEy9C4kcxR0",
        "outputId": "648ae639-a7c3-4a95-eb7a-2ec4b60ddd19"
      },
      "source": [
        "day_before_7"
      ],
      "execution_count": null,
      "outputs": [
        {
          "output_type": "execute_result",
          "data": {
            "text/html": [
              "<div>\n",
              "<style scoped>\n",
              "    .dataframe tbody tr th:only-of-type {\n",
              "        vertical-align: middle;\n",
              "    }\n",
              "\n",
              "    .dataframe tbody tr th {\n",
              "        vertical-align: top;\n",
              "    }\n",
              "\n",
              "    .dataframe thead th {\n",
              "        text-align: right;\n",
              "    }\n",
              "</style>\n",
              "<table border=\"1\" class=\"dataframe\">\n",
              "  <thead>\n",
              "    <tr style=\"text-align: right;\">\n",
              "      <th></th>\n",
              "      <th>기준일_x</th>\n",
              "      <th>일별이용자수</th>\n",
              "      <th>신규확진자</th>\n",
              "    </tr>\n",
              "  </thead>\n",
              "  <tbody>\n",
              "    <tr>\n",
              "      <th>0</th>\n",
              "      <td>2020-01-06</td>\n",
              "      <td>7931538</td>\n",
              "      <td>0</td>\n",
              "    </tr>\n",
              "    <tr>\n",
              "      <th>1</th>\n",
              "      <td>2020-01-13</td>\n",
              "      <td>51766720</td>\n",
              "      <td>1</td>\n",
              "    </tr>\n",
              "    <tr>\n",
              "      <th>2</th>\n",
              "      <td>2020-01-20</td>\n",
              "      <td>48502959</td>\n",
              "      <td>7</td>\n",
              "    </tr>\n",
              "    <tr>\n",
              "      <th>3</th>\n",
              "      <td>2020-01-27</td>\n",
              "      <td>45239198</td>\n",
              "      <td>4</td>\n",
              "    </tr>\n",
              "    <tr>\n",
              "      <th>4</th>\n",
              "      <td>2020-02-03</td>\n",
              "      <td>43106598</td>\n",
              "      <td>2</td>\n",
              "    </tr>\n",
              "    <tr>\n",
              "      <th>...</th>\n",
              "      <td>...</td>\n",
              "      <td>...</td>\n",
              "      <td>...</td>\n",
              "    </tr>\n",
              "    <tr>\n",
              "      <th>90</th>\n",
              "      <td>2021-09-27</td>\n",
              "      <td>36905927</td>\n",
              "      <td>4630</td>\n",
              "    </tr>\n",
              "    <tr>\n",
              "      <th>91</th>\n",
              "      <td>2021-10-04</td>\n",
              "      <td>37010638</td>\n",
              "      <td>3941</td>\n",
              "    </tr>\n",
              "    <tr>\n",
              "      <th>92</th>\n",
              "      <td>2021-10-11</td>\n",
              "      <td>40517060</td>\n",
              "      <td>3353</td>\n",
              "    </tr>\n",
              "    <tr>\n",
              "      <th>93</th>\n",
              "      <td>2021-10-18</td>\n",
              "      <td>41611630</td>\n",
              "      <td>4826</td>\n",
              "    </tr>\n",
              "    <tr>\n",
              "      <th>94</th>\n",
              "      <td>2021-10-25</td>\n",
              "      <td>36059070</td>\n",
              "      <td>5292</td>\n",
              "    </tr>\n",
              "  </tbody>\n",
              "</table>\n",
              "<p>95 rows × 3 columns</p>\n",
              "</div>"
            ],
            "text/plain": [
              "        기준일_x    일별이용자수  신규확진자\n",
              "0  2020-01-06   7931538      0\n",
              "1  2020-01-13  51766720      1\n",
              "2  2020-01-20  48502959      7\n",
              "3  2020-01-27  45239198      4\n",
              "4  2020-02-03  43106598      2\n",
              "..        ...       ...    ...\n",
              "90 2021-09-27  36905927   4630\n",
              "91 2021-10-04  37010638   3941\n",
              "92 2021-10-11  40517060   3353\n",
              "93 2021-10-18  41611630   4826\n",
              "94 2021-10-25  36059070   5292\n",
              "\n",
              "[95 rows x 3 columns]"
            ]
          },
          "metadata": {},
          "execution_count": 186
        }
      ]
    },
    {
      "cell_type": "code",
      "metadata": {
        "id": "FJ5CHi_6eGLo"
      },
      "source": [
        "confirmed = day_before_7['신규확진자']"
      ],
      "execution_count": null,
      "outputs": []
    },
    {
      "cell_type": "code",
      "metadata": {
        "id": "znyXQiKcfWqT"
      },
      "source": [
        "day_before_7 = day_before_7.drop(0).reset_index(drop=True)"
      ],
      "execution_count": null,
      "outputs": []
    },
    {
      "cell_type": "code",
      "metadata": {
        "id": "CuT1u5jef7_1"
      },
      "source": [
        "day_before_7 = pd.merge(day_before_7, confirmed, left_index=True, right_index=True, how='left')"
      ],
      "execution_count": null,
      "outputs": []
    },
    {
      "cell_type": "code",
      "metadata": {
        "colab": {
          "base_uri": "https://localhost:8080/",
          "height": 424
        },
        "id": "pzXnngrzf97k",
        "outputId": "0bef845b-b358-4bb7-dac0-4beb97a0668a"
      },
      "source": [
        "day_before_7"
      ],
      "execution_count": null,
      "outputs": [
        {
          "output_type": "execute_result",
          "data": {
            "text/html": [
              "<div>\n",
              "<style scoped>\n",
              "    .dataframe tbody tr th:only-of-type {\n",
              "        vertical-align: middle;\n",
              "    }\n",
              "\n",
              "    .dataframe tbody tr th {\n",
              "        vertical-align: top;\n",
              "    }\n",
              "\n",
              "    .dataframe thead th {\n",
              "        text-align: right;\n",
              "    }\n",
              "</style>\n",
              "<table border=\"1\" class=\"dataframe\">\n",
              "  <thead>\n",
              "    <tr style=\"text-align: right;\">\n",
              "      <th></th>\n",
              "      <th>기준일_x</th>\n",
              "      <th>일별이용자수</th>\n",
              "      <th>신규확진자_x</th>\n",
              "      <th>신규확진자_y</th>\n",
              "    </tr>\n",
              "  </thead>\n",
              "  <tbody>\n",
              "    <tr>\n",
              "      <th>0</th>\n",
              "      <td>2020-01-13</td>\n",
              "      <td>51766720</td>\n",
              "      <td>1</td>\n",
              "      <td>0</td>\n",
              "    </tr>\n",
              "    <tr>\n",
              "      <th>1</th>\n",
              "      <td>2020-01-20</td>\n",
              "      <td>48502959</td>\n",
              "      <td>7</td>\n",
              "      <td>1</td>\n",
              "    </tr>\n",
              "    <tr>\n",
              "      <th>2</th>\n",
              "      <td>2020-01-27</td>\n",
              "      <td>45239198</td>\n",
              "      <td>4</td>\n",
              "      <td>7</td>\n",
              "    </tr>\n",
              "    <tr>\n",
              "      <th>3</th>\n",
              "      <td>2020-02-03</td>\n",
              "      <td>43106598</td>\n",
              "      <td>2</td>\n",
              "      <td>4</td>\n",
              "    </tr>\n",
              "    <tr>\n",
              "      <th>4</th>\n",
              "      <td>2020-02-10</td>\n",
              "      <td>45354541</td>\n",
              "      <td>17</td>\n",
              "      <td>2</td>\n",
              "    </tr>\n",
              "    <tr>\n",
              "      <th>...</th>\n",
              "      <td>...</td>\n",
              "      <td>...</td>\n",
              "      <td>...</td>\n",
              "      <td>...</td>\n",
              "    </tr>\n",
              "    <tr>\n",
              "      <th>89</th>\n",
              "      <td>2021-09-27</td>\n",
              "      <td>36905927</td>\n",
              "      <td>4630</td>\n",
              "      <td>5860</td>\n",
              "    </tr>\n",
              "    <tr>\n",
              "      <th>90</th>\n",
              "      <td>2021-10-04</td>\n",
              "      <td>37010638</td>\n",
              "      <td>3941</td>\n",
              "      <td>4630</td>\n",
              "    </tr>\n",
              "    <tr>\n",
              "      <th>91</th>\n",
              "      <td>2021-10-11</td>\n",
              "      <td>40517060</td>\n",
              "      <td>3353</td>\n",
              "      <td>3941</td>\n",
              "    </tr>\n",
              "    <tr>\n",
              "      <th>92</th>\n",
              "      <td>2021-10-18</td>\n",
              "      <td>41611630</td>\n",
              "      <td>4826</td>\n",
              "      <td>3353</td>\n",
              "    </tr>\n",
              "    <tr>\n",
              "      <th>93</th>\n",
              "      <td>2021-10-25</td>\n",
              "      <td>36059070</td>\n",
              "      <td>5292</td>\n",
              "      <td>4826</td>\n",
              "    </tr>\n",
              "  </tbody>\n",
              "</table>\n",
              "<p>94 rows × 4 columns</p>\n",
              "</div>"
            ],
            "text/plain": [
              "        기준일_x    일별이용자수  신규확진자_x  신규확진자_y\n",
              "0  2020-01-13  51766720        1        0\n",
              "1  2020-01-20  48502959        7        1\n",
              "2  2020-01-27  45239198        4        7\n",
              "3  2020-02-03  43106598        2        4\n",
              "4  2020-02-10  45354541       17        2\n",
              "..        ...       ...      ...      ...\n",
              "89 2021-09-27  36905927     4630     5860\n",
              "90 2021-10-04  37010638     3941     4630\n",
              "91 2021-10-11  40517060     3353     3941\n",
              "92 2021-10-18  41611630     4826     3353\n",
              "93 2021-10-25  36059070     5292     4826\n",
              "\n",
              "[94 rows x 4 columns]"
            ]
          },
          "metadata": {},
          "execution_count": 190
        }
      ]
    },
    {
      "cell_type": "code",
      "metadata": {
        "id": "rd1WC1iAgBy0"
      },
      "source": [
        "# 단순 수치를 이용한 회귀\n",
        "user_and_confirm = day_before_7[['일별이용자수', '신규확진자_y']]"
      ],
      "execution_count": null,
      "outputs": []
    },
    {
      "cell_type": "code",
      "metadata": {
        "id": "E0NIQsxngSC9"
      },
      "source": [
        "independent = user_and_confirm.to_numpy()"
      ],
      "execution_count": null,
      "outputs": []
    },
    {
      "cell_type": "code",
      "metadata": {
        "id": "ZczeZjdtgSsA"
      },
      "source": [
        "dependent = day_before_7[['신규확진자_x']].to_numpy()"
      ],
      "execution_count": null,
      "outputs": []
    },
    {
      "cell_type": "code",
      "metadata": {
        "id": "iL11MCc5gUHF"
      },
      "source": [
        "train_input, test_input, train_target, test_target = train_test_split(independent, dependent, random_state=28)"
      ],
      "execution_count": null,
      "outputs": []
    },
    {
      "cell_type": "code",
      "metadata": {
        "id": "ya50VcxggZKv"
      },
      "source": [
        "# 범위 학습\n",
        "scaler.fit(train_input)\n",
        "\n",
        "# 훈련 세트 변환\n",
        "trans_train_input = scaler.transform(train_input)\n",
        "\n",
        "# 검증 세트 변환\n",
        "trans_test_input = scaler.transform(test_input)"
      ],
      "execution_count": null,
      "outputs": []
    },
    {
      "cell_type": "code",
      "metadata": {
        "colab": {
          "base_uri": "https://localhost:8080/"
        },
        "id": "ORG6sFy7gmKI",
        "outputId": "6d5145e4-6d7e-48a5-ceb2-d81b557c7dc3"
      },
      "source": [
        "# 특성생성\n",
        "poly = PolynomialFeatures(include_bias=False)\n",
        "poly.fit(trans_train_input)\n",
        "train_poly = poly.transform(trans_train_input)\n",
        "print(train_poly.shape)"
      ],
      "execution_count": null,
      "outputs": [
        {
          "output_type": "stream",
          "name": "stdout",
          "text": [
            "(70, 5)\n"
          ]
        }
      ]
    },
    {
      "cell_type": "code",
      "metadata": {
        "id": "dE_sivLzgnfg"
      },
      "source": [
        "test_poly = poly.transform(trans_test_input)"
      ],
      "execution_count": null,
      "outputs": []
    },
    {
      "cell_type": "code",
      "metadata": {
        "colab": {
          "base_uri": "https://localhost:8080/"
        },
        "id": "IXESJZz4g__D",
        "outputId": "d3c98eaf-501e-47b5-c508-ab6a827449c3"
      },
      "source": [
        "# fit_intercept : 상수항 존재 유무\n",
        "linear_regression = LinearRegression(fit_intercept=True)\n",
        "linear_regression.fit(train_poly, train_target)\n",
        "print(linear_regression.score(train_poly, train_target))"
      ],
      "execution_count": null,
      "outputs": [
        {
          "output_type": "stream",
          "name": "stdout",
          "text": [
            "0.9505300933118842\n"
          ]
        }
      ]
    },
    {
      "cell_type": "code",
      "metadata": {
        "colab": {
          "base_uri": "https://localhost:8080/"
        },
        "id": "FOkAbA0yg40M",
        "outputId": "6da7a03f-11ec-41fb-fb55-3da3c4fcc6e8"
      },
      "source": [
        "print(linear_regression.score(test_poly, test_target))"
      ],
      "execution_count": null,
      "outputs": [
        {
          "output_type": "stream",
          "name": "stdout",
          "text": [
            "0.9726265196063248\n"
          ]
        }
      ]
    },
    {
      "cell_type": "code",
      "metadata": {
        "colab": {
          "base_uri": "https://localhost:8080/"
        },
        "id": "4UVkBsvOgpFm",
        "outputId": "18a8cfa5-f74d-4923-a9ac-c340fcc6b4b1"
      },
      "source": [
        "# 계수와 상수항 확인\n",
        "print(linear_regression.coef_, linear_regression.intercept_)"
      ],
      "execution_count": null,
      "outputs": [
        {
          "output_type": "stream",
          "name": "stdout",
          "text": [
            "[[ 9.51390737e+01  1.72920470e+03 -5.78793858e+01 -6.43294019e-01\n",
            "  -1.04539214e+02]] [1609.75484575]\n"
          ]
        }
      ]
    },
    {
      "cell_type": "code",
      "metadata": {
        "colab": {
          "base_uri": "https://localhost:8080/"
        },
        "id": "Ld9dUXjggrOI",
        "outputId": "e8bd097c-78d6-4c1e-ae3c-15b06e91548d"
      },
      "source": [
        "# 생성된 특성 정보 확인(x0 = 지하철 이용자수 | x1 = 신규확진자수)\n",
        "poly.get_feature_names_out()"
      ],
      "execution_count": null,
      "outputs": [
        {
          "output_type": "execute_result",
          "data": {
            "text/plain": [
              "array(['x0', 'x1', 'x0^2', 'x0 x1', 'x1^2'], dtype=object)"
            ]
          },
          "metadata": {},
          "execution_count": 201
        }
      ]
    },
    {
      "cell_type": "markdown",
      "metadata": {
        "id": "-Exerr4Io0p9"
      },
      "source": [
        "지하철이용자도 지하철이용자 변화량을 이용하도록 하겠다."
      ]
    },
    {
      "cell_type": "code",
      "metadata": {
        "id": "4nOVNJsEo6tT"
      },
      "source": [
        "metro_data_7_ago = metro_data[metro_data['기준일']>'2020-01-12'].reset_index(drop=True)"
      ],
      "execution_count": null,
      "outputs": []
    },
    {
      "cell_type": "code",
      "metadata": {
        "id": "ij6RdIhFp6-v"
      },
      "source": [
        "day_before_7 = pd.merge(metro_data_7_ago, confirmed_data, left_index=True, right_index=True, how='left')"
      ],
      "execution_count": null,
      "outputs": []
    },
    {
      "cell_type": "code",
      "metadata": {
        "id": "XTKyPA6Sp9QT"
      },
      "source": [
        "day_before_7[\"기준일_x\"] = pd.to_datetime(day_before_7[\"기준일_x\"])"
      ],
      "execution_count": null,
      "outputs": []
    },
    {
      "cell_type": "code",
      "metadata": {
        "colab": {
          "base_uri": "https://localhost:8080/",
          "height": 424
        },
        "id": "zFhhOcJyp-4_",
        "outputId": "51d8dc21-7010-4994-f481-ab2930b3ea93"
      },
      "source": [
        "day_before_7 = day_before_7.resample('W-Mon', on='기준일_x').sum().reset_index()\n",
        "day_before_7[\"기준일_x\"] = day_before_7['기준일_x'] - timedelta(days=7)\n",
        "day_before_7"
      ],
      "execution_count": null,
      "outputs": [
        {
          "output_type": "execute_result",
          "data": {
            "text/html": [
              "<div>\n",
              "<style scoped>\n",
              "    .dataframe tbody tr th:only-of-type {\n",
              "        vertical-align: middle;\n",
              "    }\n",
              "\n",
              "    .dataframe tbody tr th {\n",
              "        vertical-align: top;\n",
              "    }\n",
              "\n",
              "    .dataframe thead th {\n",
              "        text-align: right;\n",
              "    }\n",
              "</style>\n",
              "<table border=\"1\" class=\"dataframe\">\n",
              "  <thead>\n",
              "    <tr style=\"text-align: right;\">\n",
              "      <th></th>\n",
              "      <th>기준일_x</th>\n",
              "      <th>일별이용자수</th>\n",
              "      <th>신규확진자</th>\n",
              "    </tr>\n",
              "  </thead>\n",
              "  <tbody>\n",
              "    <tr>\n",
              "      <th>0</th>\n",
              "      <td>2020-01-06</td>\n",
              "      <td>7931538</td>\n",
              "      <td>0</td>\n",
              "    </tr>\n",
              "    <tr>\n",
              "      <th>1</th>\n",
              "      <td>2020-01-13</td>\n",
              "      <td>51766720</td>\n",
              "      <td>1</td>\n",
              "    </tr>\n",
              "    <tr>\n",
              "      <th>2</th>\n",
              "      <td>2020-01-20</td>\n",
              "      <td>37274813</td>\n",
              "      <td>7</td>\n",
              "    </tr>\n",
              "    <tr>\n",
              "      <th>3</th>\n",
              "      <td>2020-01-27</td>\n",
              "      <td>45239198</td>\n",
              "      <td>4</td>\n",
              "    </tr>\n",
              "    <tr>\n",
              "      <th>4</th>\n",
              "      <td>2020-02-03</td>\n",
              "      <td>43106598</td>\n",
              "      <td>2</td>\n",
              "    </tr>\n",
              "    <tr>\n",
              "      <th>...</th>\n",
              "      <td>...</td>\n",
              "      <td>...</td>\n",
              "      <td>...</td>\n",
              "    </tr>\n",
              "    <tr>\n",
              "      <th>90</th>\n",
              "      <td>2021-09-27</td>\n",
              "      <td>36905927</td>\n",
              "      <td>4630</td>\n",
              "    </tr>\n",
              "    <tr>\n",
              "      <th>91</th>\n",
              "      <td>2021-10-04</td>\n",
              "      <td>37010638</td>\n",
              "      <td>3941</td>\n",
              "    </tr>\n",
              "    <tr>\n",
              "      <th>92</th>\n",
              "      <td>2021-10-11</td>\n",
              "      <td>40517060</td>\n",
              "      <td>3353</td>\n",
              "    </tr>\n",
              "    <tr>\n",
              "      <th>93</th>\n",
              "      <td>2021-10-18</td>\n",
              "      <td>41611630</td>\n",
              "      <td>4826</td>\n",
              "    </tr>\n",
              "    <tr>\n",
              "      <th>94</th>\n",
              "      <td>2021-10-25</td>\n",
              "      <td>36059070</td>\n",
              "      <td>5292</td>\n",
              "    </tr>\n",
              "  </tbody>\n",
              "</table>\n",
              "<p>95 rows × 3 columns</p>\n",
              "</div>"
            ],
            "text/plain": [
              "        기준일_x    일별이용자수  신규확진자\n",
              "0  2020-01-06   7931538      0\n",
              "1  2020-01-13  51766720      1\n",
              "2  2020-01-20  37274813      7\n",
              "3  2020-01-27  45239198      4\n",
              "4  2020-02-03  43106598      2\n",
              "..        ...       ...    ...\n",
              "90 2021-09-27  36905927   4630\n",
              "91 2021-10-04  37010638   3941\n",
              "92 2021-10-11  40517060   3353\n",
              "93 2021-10-18  41611630   4826\n",
              "94 2021-10-25  36059070   5292\n",
              "\n",
              "[95 rows x 3 columns]"
            ]
          },
          "metadata": {},
          "execution_count": 258
        }
      ]
    },
    {
      "cell_type": "code",
      "metadata": {
        "id": "ZCbi93Z0qA6V"
      },
      "source": [
        "day_before_7.loc[day_before_7[\"기준일_x\"]==\"2020-01-20\", [\"일별이용자수\"]] = 48502959\n",
        "day_before_7.loc[day_before_7[\"기준일_x\"]==\"2020-09-28\", [\"일별이용자수\"]] = 37663267\n",
        "day_before_7.loc[day_before_7[\"기준일_x\"]==\"2021-02-08\", [\"일별이용자수\"]] = 38074803"
      ],
      "execution_count": null,
      "outputs": []
    },
    {
      "cell_type": "code",
      "metadata": {
        "id": "vGMpzKs2qDsT"
      },
      "source": [
        "# 변화량을 확인하기 위한 컬럼 추출\n",
        "metro_user = day_before_7['일별이용자수']\n",
        "confirmed = day_before_7['신규확진자']"
      ],
      "execution_count": null,
      "outputs": []
    },
    {
      "cell_type": "code",
      "metadata": {
        "id": "Sj1BtiJfqaRH"
      },
      "source": [
        "day_before_7 = day_before_7.drop(0).reset_index(drop=True)"
      ],
      "execution_count": null,
      "outputs": []
    },
    {
      "cell_type": "code",
      "metadata": {
        "id": "o7GHhmDQqdbQ"
      },
      "source": [
        "day_before_7 = pd.merge(day_before_7, confirmed, left_index=True, right_index=True, how='left')"
      ],
      "execution_count": null,
      "outputs": []
    },
    {
      "cell_type": "code",
      "metadata": {
        "colab": {
          "base_uri": "https://localhost:8080/",
          "height": 424
        },
        "id": "o-NGUZJmqetd",
        "outputId": "5c55b3ac-4621-4331-817d-5c0cceb4fc69"
      },
      "source": [
        "day_before_7"
      ],
      "execution_count": null,
      "outputs": [
        {
          "output_type": "execute_result",
          "data": {
            "text/html": [
              "<div>\n",
              "<style scoped>\n",
              "    .dataframe tbody tr th:only-of-type {\n",
              "        vertical-align: middle;\n",
              "    }\n",
              "\n",
              "    .dataframe tbody tr th {\n",
              "        vertical-align: top;\n",
              "    }\n",
              "\n",
              "    .dataframe thead th {\n",
              "        text-align: right;\n",
              "    }\n",
              "</style>\n",
              "<table border=\"1\" class=\"dataframe\">\n",
              "  <thead>\n",
              "    <tr style=\"text-align: right;\">\n",
              "      <th></th>\n",
              "      <th>기준일_x</th>\n",
              "      <th>일별이용자수</th>\n",
              "      <th>신규확진자_x</th>\n",
              "      <th>신규확진자_y</th>\n",
              "    </tr>\n",
              "  </thead>\n",
              "  <tbody>\n",
              "    <tr>\n",
              "      <th>0</th>\n",
              "      <td>2020-01-13</td>\n",
              "      <td>51766720</td>\n",
              "      <td>1</td>\n",
              "      <td>0</td>\n",
              "    </tr>\n",
              "    <tr>\n",
              "      <th>1</th>\n",
              "      <td>2020-01-20</td>\n",
              "      <td>48502959</td>\n",
              "      <td>7</td>\n",
              "      <td>1</td>\n",
              "    </tr>\n",
              "    <tr>\n",
              "      <th>2</th>\n",
              "      <td>2020-01-27</td>\n",
              "      <td>45239198</td>\n",
              "      <td>4</td>\n",
              "      <td>7</td>\n",
              "    </tr>\n",
              "    <tr>\n",
              "      <th>3</th>\n",
              "      <td>2020-02-03</td>\n",
              "      <td>43106598</td>\n",
              "      <td>2</td>\n",
              "      <td>4</td>\n",
              "    </tr>\n",
              "    <tr>\n",
              "      <th>4</th>\n",
              "      <td>2020-02-10</td>\n",
              "      <td>45354541</td>\n",
              "      <td>17</td>\n",
              "      <td>2</td>\n",
              "    </tr>\n",
              "    <tr>\n",
              "      <th>...</th>\n",
              "      <td>...</td>\n",
              "      <td>...</td>\n",
              "      <td>...</td>\n",
              "      <td>...</td>\n",
              "    </tr>\n",
              "    <tr>\n",
              "      <th>89</th>\n",
              "      <td>2021-09-27</td>\n",
              "      <td>36905927</td>\n",
              "      <td>4630</td>\n",
              "      <td>5860</td>\n",
              "    </tr>\n",
              "    <tr>\n",
              "      <th>90</th>\n",
              "      <td>2021-10-04</td>\n",
              "      <td>37010638</td>\n",
              "      <td>3941</td>\n",
              "      <td>4630</td>\n",
              "    </tr>\n",
              "    <tr>\n",
              "      <th>91</th>\n",
              "      <td>2021-10-11</td>\n",
              "      <td>40517060</td>\n",
              "      <td>3353</td>\n",
              "      <td>3941</td>\n",
              "    </tr>\n",
              "    <tr>\n",
              "      <th>92</th>\n",
              "      <td>2021-10-18</td>\n",
              "      <td>41611630</td>\n",
              "      <td>4826</td>\n",
              "      <td>3353</td>\n",
              "    </tr>\n",
              "    <tr>\n",
              "      <th>93</th>\n",
              "      <td>2021-10-25</td>\n",
              "      <td>36059070</td>\n",
              "      <td>5292</td>\n",
              "      <td>4826</td>\n",
              "    </tr>\n",
              "  </tbody>\n",
              "</table>\n",
              "<p>94 rows × 4 columns</p>\n",
              "</div>"
            ],
            "text/plain": [
              "        기준일_x    일별이용자수  신규확진자_x  신규확진자_y\n",
              "0  2020-01-13  51766720        1        0\n",
              "1  2020-01-20  48502959        7        1\n",
              "2  2020-01-27  45239198        4        7\n",
              "3  2020-02-03  43106598        2        4\n",
              "4  2020-02-10  45354541       17        2\n",
              "..        ...       ...      ...      ...\n",
              "89 2021-09-27  36905927     4630     5860\n",
              "90 2021-10-04  37010638     3941     4630\n",
              "91 2021-10-11  40517060     3353     3941\n",
              "92 2021-10-18  41611630     4826     3353\n",
              "93 2021-10-25  36059070     5292     4826\n",
              "\n",
              "[94 rows x 4 columns]"
            ]
          },
          "metadata": {},
          "execution_count": 263
        }
      ]
    },
    {
      "cell_type": "code",
      "metadata": {
        "id": "nhgpnfpRqiT1"
      },
      "source": [
        "metro_user = metro_user.drop(94)"
      ],
      "execution_count": null,
      "outputs": []
    },
    {
      "cell_type": "code",
      "metadata": {
        "id": "oLV8nmlIr8KQ"
      },
      "source": [
        "day_before_7['일별이용자수'] = day_before_7['일별이용자수'] - metro_user"
      ],
      "execution_count": null,
      "outputs": []
    },
    {
      "cell_type": "code",
      "metadata": {
        "colab": {
          "base_uri": "https://localhost:8080/",
          "height": 424
        },
        "id": "lZEcEFfxr9pZ",
        "outputId": "84cc110c-b2ac-4d05-e11e-d4e270f49717"
      },
      "source": [
        "day_before_7"
      ],
      "execution_count": null,
      "outputs": [
        {
          "output_type": "execute_result",
          "data": {
            "text/html": [
              "<div>\n",
              "<style scoped>\n",
              "    .dataframe tbody tr th:only-of-type {\n",
              "        vertical-align: middle;\n",
              "    }\n",
              "\n",
              "    .dataframe tbody tr th {\n",
              "        vertical-align: top;\n",
              "    }\n",
              "\n",
              "    .dataframe thead th {\n",
              "        text-align: right;\n",
              "    }\n",
              "</style>\n",
              "<table border=\"1\" class=\"dataframe\">\n",
              "  <thead>\n",
              "    <tr style=\"text-align: right;\">\n",
              "      <th></th>\n",
              "      <th>기준일_x</th>\n",
              "      <th>일별이용자수</th>\n",
              "      <th>신규확진자_x</th>\n",
              "      <th>신규확진자_y</th>\n",
              "    </tr>\n",
              "  </thead>\n",
              "  <tbody>\n",
              "    <tr>\n",
              "      <th>0</th>\n",
              "      <td>2020-01-13</td>\n",
              "      <td>43835182</td>\n",
              "      <td>1</td>\n",
              "      <td>0</td>\n",
              "    </tr>\n",
              "    <tr>\n",
              "      <th>1</th>\n",
              "      <td>2020-01-20</td>\n",
              "      <td>-3263761</td>\n",
              "      <td>7</td>\n",
              "      <td>1</td>\n",
              "    </tr>\n",
              "    <tr>\n",
              "      <th>2</th>\n",
              "      <td>2020-01-27</td>\n",
              "      <td>-3263761</td>\n",
              "      <td>4</td>\n",
              "      <td>7</td>\n",
              "    </tr>\n",
              "    <tr>\n",
              "      <th>3</th>\n",
              "      <td>2020-02-03</td>\n",
              "      <td>-2132600</td>\n",
              "      <td>2</td>\n",
              "      <td>4</td>\n",
              "    </tr>\n",
              "    <tr>\n",
              "      <th>4</th>\n",
              "      <td>2020-02-10</td>\n",
              "      <td>2247943</td>\n",
              "      <td>17</td>\n",
              "      <td>2</td>\n",
              "    </tr>\n",
              "    <tr>\n",
              "      <th>...</th>\n",
              "      <td>...</td>\n",
              "      <td>...</td>\n",
              "      <td>...</td>\n",
              "      <td>...</td>\n",
              "    </tr>\n",
              "    <tr>\n",
              "      <th>89</th>\n",
              "      <td>2021-09-27</td>\n",
              "      <td>6273033</td>\n",
              "      <td>4630</td>\n",
              "      <td>5860</td>\n",
              "    </tr>\n",
              "    <tr>\n",
              "      <th>90</th>\n",
              "      <td>2021-10-04</td>\n",
              "      <td>104711</td>\n",
              "      <td>3941</td>\n",
              "      <td>4630</td>\n",
              "    </tr>\n",
              "    <tr>\n",
              "      <th>91</th>\n",
              "      <td>2021-10-11</td>\n",
              "      <td>3506422</td>\n",
              "      <td>3353</td>\n",
              "      <td>3941</td>\n",
              "    </tr>\n",
              "    <tr>\n",
              "      <th>92</th>\n",
              "      <td>2021-10-18</td>\n",
              "      <td>1094570</td>\n",
              "      <td>4826</td>\n",
              "      <td>3353</td>\n",
              "    </tr>\n",
              "    <tr>\n",
              "      <th>93</th>\n",
              "      <td>2021-10-25</td>\n",
              "      <td>-5552560</td>\n",
              "      <td>5292</td>\n",
              "      <td>4826</td>\n",
              "    </tr>\n",
              "  </tbody>\n",
              "</table>\n",
              "<p>94 rows × 4 columns</p>\n",
              "</div>"
            ],
            "text/plain": [
              "        기준일_x    일별이용자수  신규확진자_x  신규확진자_y\n",
              "0  2020-01-13  43835182        1        0\n",
              "1  2020-01-20  -3263761        7        1\n",
              "2  2020-01-27  -3263761        4        7\n",
              "3  2020-02-03  -2132600        2        4\n",
              "4  2020-02-10   2247943       17        2\n",
              "..        ...       ...      ...      ...\n",
              "89 2021-09-27   6273033     4630     5860\n",
              "90 2021-10-04    104711     3941     4630\n",
              "91 2021-10-11   3506422     3353     3941\n",
              "92 2021-10-18   1094570     4826     3353\n",
              "93 2021-10-25  -5552560     5292     4826\n",
              "\n",
              "[94 rows x 4 columns]"
            ]
          },
          "metadata": {},
          "execution_count": 267
        }
      ]
    },
    {
      "cell_type": "code",
      "metadata": {
        "id": "5FGT33cqsAzf"
      },
      "source": [
        "day_before_7 = day_before_7.drop([0, 93]).reset_index(drop=True)"
      ],
      "execution_count": null,
      "outputs": []
    },
    {
      "cell_type": "code",
      "metadata": {
        "colab": {
          "base_uri": "https://localhost:8080/",
          "height": 424
        },
        "id": "gfRt73wIsJTt",
        "outputId": "c60da2e7-c13b-4534-e68a-a2320c0f9b46"
      },
      "source": [
        "day_before_7"
      ],
      "execution_count": null,
      "outputs": [
        {
          "output_type": "execute_result",
          "data": {
            "text/html": [
              "<div>\n",
              "<style scoped>\n",
              "    .dataframe tbody tr th:only-of-type {\n",
              "        vertical-align: middle;\n",
              "    }\n",
              "\n",
              "    .dataframe tbody tr th {\n",
              "        vertical-align: top;\n",
              "    }\n",
              "\n",
              "    .dataframe thead th {\n",
              "        text-align: right;\n",
              "    }\n",
              "</style>\n",
              "<table border=\"1\" class=\"dataframe\">\n",
              "  <thead>\n",
              "    <tr style=\"text-align: right;\">\n",
              "      <th></th>\n",
              "      <th>기준일_x</th>\n",
              "      <th>일별이용자수</th>\n",
              "      <th>신규확진자_x</th>\n",
              "      <th>신규확진자_y</th>\n",
              "    </tr>\n",
              "  </thead>\n",
              "  <tbody>\n",
              "    <tr>\n",
              "      <th>0</th>\n",
              "      <td>2020-01-20</td>\n",
              "      <td>-3263761</td>\n",
              "      <td>7</td>\n",
              "      <td>1</td>\n",
              "    </tr>\n",
              "    <tr>\n",
              "      <th>1</th>\n",
              "      <td>2020-01-27</td>\n",
              "      <td>-3263761</td>\n",
              "      <td>4</td>\n",
              "      <td>7</td>\n",
              "    </tr>\n",
              "    <tr>\n",
              "      <th>2</th>\n",
              "      <td>2020-02-03</td>\n",
              "      <td>-2132600</td>\n",
              "      <td>2</td>\n",
              "      <td>4</td>\n",
              "    </tr>\n",
              "    <tr>\n",
              "      <th>3</th>\n",
              "      <td>2020-02-10</td>\n",
              "      <td>2247943</td>\n",
              "      <td>17</td>\n",
              "      <td>2</td>\n",
              "    </tr>\n",
              "    <tr>\n",
              "      <th>4</th>\n",
              "      <td>2020-02-17</td>\n",
              "      <td>-3804679</td>\n",
              "      <td>61</td>\n",
              "      <td>17</td>\n",
              "    </tr>\n",
              "    <tr>\n",
              "      <th>...</th>\n",
              "      <td>...</td>\n",
              "      <td>...</td>\n",
              "      <td>...</td>\n",
              "      <td>...</td>\n",
              "    </tr>\n",
              "    <tr>\n",
              "      <th>87</th>\n",
              "      <td>2021-09-20</td>\n",
              "      <td>-4545375</td>\n",
              "      <td>5860</td>\n",
              "      <td>5800</td>\n",
              "    </tr>\n",
              "    <tr>\n",
              "      <th>88</th>\n",
              "      <td>2021-09-27</td>\n",
              "      <td>6273033</td>\n",
              "      <td>4630</td>\n",
              "      <td>5860</td>\n",
              "    </tr>\n",
              "    <tr>\n",
              "      <th>89</th>\n",
              "      <td>2021-10-04</td>\n",
              "      <td>104711</td>\n",
              "      <td>3941</td>\n",
              "      <td>4630</td>\n",
              "    </tr>\n",
              "    <tr>\n",
              "      <th>90</th>\n",
              "      <td>2021-10-11</td>\n",
              "      <td>3506422</td>\n",
              "      <td>3353</td>\n",
              "      <td>3941</td>\n",
              "    </tr>\n",
              "    <tr>\n",
              "      <th>91</th>\n",
              "      <td>2021-10-18</td>\n",
              "      <td>1094570</td>\n",
              "      <td>4826</td>\n",
              "      <td>3353</td>\n",
              "    </tr>\n",
              "  </tbody>\n",
              "</table>\n",
              "<p>92 rows × 4 columns</p>\n",
              "</div>"
            ],
            "text/plain": [
              "        기준일_x   일별이용자수  신규확진자_x  신규확진자_y\n",
              "0  2020-01-20 -3263761        7        1\n",
              "1  2020-01-27 -3263761        4        7\n",
              "2  2020-02-03 -2132600        2        4\n",
              "3  2020-02-10  2247943       17        2\n",
              "4  2020-02-17 -3804679       61       17\n",
              "..        ...      ...      ...      ...\n",
              "87 2021-09-20 -4545375     5860     5800\n",
              "88 2021-09-27  6273033     4630     5860\n",
              "89 2021-10-04   104711     3941     4630\n",
              "90 2021-10-11  3506422     3353     3941\n",
              "91 2021-10-18  1094570     4826     3353\n",
              "\n",
              "[92 rows x 4 columns]"
            ]
          },
          "metadata": {},
          "execution_count": 269
        }
      ]
    },
    {
      "cell_type": "code",
      "metadata": {
        "id": "7w61fybosKfA"
      },
      "source": [
        "user_and_confirm = day_before_7[['일별이용자수', '신규확진자_y']]"
      ],
      "execution_count": null,
      "outputs": []
    },
    {
      "cell_type": "code",
      "metadata": {
        "colab": {
          "base_uri": "https://localhost:8080/",
          "height": 424
        },
        "id": "ZujmhCM17qKv",
        "outputId": "507ae279-9dac-4c4d-9f77-e58a4556352a"
      },
      "source": [
        "user_and_confirm"
      ],
      "execution_count": null,
      "outputs": [
        {
          "output_type": "execute_result",
          "data": {
            "text/html": [
              "<div>\n",
              "<style scoped>\n",
              "    .dataframe tbody tr th:only-of-type {\n",
              "        vertical-align: middle;\n",
              "    }\n",
              "\n",
              "    .dataframe tbody tr th {\n",
              "        vertical-align: top;\n",
              "    }\n",
              "\n",
              "    .dataframe thead th {\n",
              "        text-align: right;\n",
              "    }\n",
              "</style>\n",
              "<table border=\"1\" class=\"dataframe\">\n",
              "  <thead>\n",
              "    <tr style=\"text-align: right;\">\n",
              "      <th></th>\n",
              "      <th>일별이용자수</th>\n",
              "      <th>신규확진자_y</th>\n",
              "    </tr>\n",
              "  </thead>\n",
              "  <tbody>\n",
              "    <tr>\n",
              "      <th>0</th>\n",
              "      <td>-3263761</td>\n",
              "      <td>1</td>\n",
              "    </tr>\n",
              "    <tr>\n",
              "      <th>1</th>\n",
              "      <td>-3263761</td>\n",
              "      <td>7</td>\n",
              "    </tr>\n",
              "    <tr>\n",
              "      <th>2</th>\n",
              "      <td>-2132600</td>\n",
              "      <td>4</td>\n",
              "    </tr>\n",
              "    <tr>\n",
              "      <th>3</th>\n",
              "      <td>2247943</td>\n",
              "      <td>2</td>\n",
              "    </tr>\n",
              "    <tr>\n",
              "      <th>4</th>\n",
              "      <td>-3804679</td>\n",
              "      <td>17</td>\n",
              "    </tr>\n",
              "    <tr>\n",
              "      <th>...</th>\n",
              "      <td>...</td>\n",
              "      <td>...</td>\n",
              "    </tr>\n",
              "    <tr>\n",
              "      <th>87</th>\n",
              "      <td>-4545375</td>\n",
              "      <td>5800</td>\n",
              "    </tr>\n",
              "    <tr>\n",
              "      <th>88</th>\n",
              "      <td>6273033</td>\n",
              "      <td>5860</td>\n",
              "    </tr>\n",
              "    <tr>\n",
              "      <th>89</th>\n",
              "      <td>104711</td>\n",
              "      <td>4630</td>\n",
              "    </tr>\n",
              "    <tr>\n",
              "      <th>90</th>\n",
              "      <td>3506422</td>\n",
              "      <td>3941</td>\n",
              "    </tr>\n",
              "    <tr>\n",
              "      <th>91</th>\n",
              "      <td>1094570</td>\n",
              "      <td>3353</td>\n",
              "    </tr>\n",
              "  </tbody>\n",
              "</table>\n",
              "<p>92 rows × 2 columns</p>\n",
              "</div>"
            ],
            "text/plain": [
              "     일별이용자수  신규확진자_y\n",
              "0  -3263761        1\n",
              "1  -3263761        7\n",
              "2  -2132600        4\n",
              "3   2247943        2\n",
              "4  -3804679       17\n",
              "..      ...      ...\n",
              "87 -4545375     5800\n",
              "88  6273033     5860\n",
              "89   104711     4630\n",
              "90  3506422     3941\n",
              "91  1094570     3353\n",
              "\n",
              "[92 rows x 2 columns]"
            ]
          },
          "metadata": {},
          "execution_count": 271
        }
      ]
    },
    {
      "cell_type": "code",
      "metadata": {
        "id": "FNGDwq-xsngn"
      },
      "source": [
        "independent = user_and_confirm.to_numpy()"
      ],
      "execution_count": null,
      "outputs": []
    },
    {
      "cell_type": "code",
      "metadata": {
        "id": "CktBoWbUsp_t"
      },
      "source": [
        "dependent = day_before_7[['신규확진자_x']].to_numpy()"
      ],
      "execution_count": null,
      "outputs": []
    },
    {
      "cell_type": "code",
      "metadata": {
        "id": "0F-ElNj9x9iH"
      },
      "source": [
        "train_input, test_input, train_target, test_target = train_test_split(independent, dependent, random_state=28)"
      ],
      "execution_count": null,
      "outputs": []
    },
    {
      "cell_type": "code",
      "metadata": {
        "id": "0RBzGGc08H1a"
      },
      "source": [
        "# 범위 학습\n",
        "scaler.fit(train_input)\n",
        "\n",
        "# 훈련 세트 변환\n",
        "trans_train_input = scaler.transform(train_input)\n",
        "\n",
        "# 검증 세트 변환\n",
        "trans_test_input = scaler.transform(test_input)"
      ],
      "execution_count": null,
      "outputs": []
    },
    {
      "cell_type": "code",
      "metadata": {
        "colab": {
          "base_uri": "https://localhost:8080/"
        },
        "id": "mVqKB4m88VSZ",
        "outputId": "8852d8a5-053b-45c3-c36d-9ea80dffb369"
      },
      "source": [
        "# 특성생성\n",
        "poly = PolynomialFeatures(include_bias=False)\n",
        "poly.fit(trans_train_input)\n",
        "train_poly = poly.transform(trans_train_input)\n",
        "print(train_poly.shape)"
      ],
      "execution_count": null,
      "outputs": [
        {
          "output_type": "stream",
          "name": "stdout",
          "text": [
            "(69, 5)\n"
          ]
        }
      ]
    },
    {
      "cell_type": "code",
      "metadata": {
        "id": "RKS2YGMf8WJ-"
      },
      "source": [
        "test_poly = poly.transform(trans_test_input)"
      ],
      "execution_count": null,
      "outputs": []
    },
    {
      "cell_type": "code",
      "metadata": {
        "colab": {
          "base_uri": "https://localhost:8080/"
        },
        "id": "j-XMM6xo8YP2",
        "outputId": "47211547-1959-46b0-f3cb-67a19ed507a3"
      },
      "source": [
        "# fit_intercept : 상수항 존재 유무\n",
        "linear_regression = LinearRegression()\n",
        "linear_regression.fit(train_poly, train_target)\n",
        "print(linear_regression.score(train_poly, train_target))"
      ],
      "execution_count": null,
      "outputs": [
        {
          "output_type": "stream",
          "name": "stdout",
          "text": [
            "0.9507127351534308\n"
          ]
        }
      ]
    },
    {
      "cell_type": "code",
      "metadata": {
        "colab": {
          "base_uri": "https://localhost:8080/"
        },
        "id": "guxnrfyY8aiy",
        "outputId": "c1b75767-9362-4c15-b73a-e654c2028df4"
      },
      "source": [
        "print(linear_regression.score(test_poly, test_target))"
      ],
      "execution_count": null,
      "outputs": [
        {
          "output_type": "stream",
          "name": "stdout",
          "text": [
            "0.9613511561655287\n"
          ]
        }
      ]
    },
    {
      "cell_type": "code",
      "metadata": {
        "colab": {
          "base_uri": "https://localhost:8080/"
        },
        "id": "CVwQvdvF8b_k",
        "outputId": "660e1798-711b-45f3-e6c1-f81ed28439ff"
      },
      "source": [
        "# 계수와 상수항 확인\n",
        "print(linear_regression.coef_, linear_regression.intercept_)"
      ],
      "execution_count": null,
      "outputs": [
        {
          "output_type": "stream",
          "name": "stdout",
          "text": [
            "[[ -85.85573679 1627.20190936  -25.20239418  -57.41641829  -62.84062882]] [1535.99134374]\n"
          ]
        }
      ]
    },
    {
      "cell_type": "code",
      "metadata": {
        "colab": {
          "base_uri": "https://localhost:8080/"
        },
        "id": "XKJVdkBt8erG",
        "outputId": "16086b1f-818f-431e-abcd-772354dea767"
      },
      "source": [
        "# 생성된 특성 정보 확인(x0 = 지하철 이용자수 | x1 = 신규확진자수)\n",
        "poly.get_feature_names_out()"
      ],
      "execution_count": null,
      "outputs": [
        {
          "output_type": "execute_result",
          "data": {
            "text/plain": [
              "array(['x0', 'x1', 'x0^2', 'x0 x1', 'x1^2'], dtype=object)"
            ]
          },
          "metadata": {},
          "execution_count": 281
        }
      ]
    },
    {
      "cell_type": "markdown",
      "metadata": {
        "id": "ROY3kBmb88Bb"
      },
      "source": [
        "비교적 최근의 샘플로 시도해봄"
      ]
    },
    {
      "cell_type": "code",
      "metadata": {
        "id": "Pt9vjh9w8-XS"
      },
      "source": [
        "day_before_7_2021 = day_before_7[day_before_7['기준일_x']>'2020-12-31']"
      ],
      "execution_count": null,
      "outputs": []
    },
    {
      "cell_type": "code",
      "metadata": {
        "id": "Xky4KNQr960i"
      },
      "source": [
        "user_and_confirm = day_before_7_2021[['일별이용자수', '신규확진자_y']]"
      ],
      "execution_count": null,
      "outputs": []
    },
    {
      "cell_type": "code",
      "metadata": {
        "id": "xYxafb2696sg"
      },
      "source": [
        "independent = user_and_confirm.to_numpy()"
      ],
      "execution_count": null,
      "outputs": []
    },
    {
      "cell_type": "code",
      "metadata": {
        "id": "Ujl-6LCq96kb"
      },
      "source": [
        "dependent = day_before_7_2021[['신규확진자_x']].to_numpy()"
      ],
      "execution_count": null,
      "outputs": []
    },
    {
      "cell_type": "code",
      "metadata": {
        "id": "uY1X8QHe95C4"
      },
      "source": [
        "train_input, test_input, train_target, test_target = train_test_split(independent, dependent, random_state=28)"
      ],
      "execution_count": null,
      "outputs": []
    },
    {
      "cell_type": "code",
      "metadata": {
        "id": "z4GkbSdD9wPN"
      },
      "source": [
        "# 범위 학습\n",
        "scaler.fit(train_input)\n",
        "\n",
        "# 훈련 세트 변환\n",
        "trans_train_input = scaler.transform(train_input)\n",
        "\n",
        "# 검증 세트 변환\n",
        "trans_test_input = scaler.transform(test_input)"
      ],
      "execution_count": null,
      "outputs": []
    },
    {
      "cell_type": "code",
      "metadata": {
        "colab": {
          "base_uri": "https://localhost:8080/"
        },
        "id": "y3DtjgCmA2HS",
        "outputId": "cc8f293b-a199-4819-b3fe-5452beea96bd"
      },
      "source": [
        "# 특성생성\n",
        "poly = PolynomialFeatures(include_bias=False)\n",
        "poly.fit(trans_train_input)\n",
        "train_poly = poly.transform(trans_train_input)\n",
        "print(train_poly.shape)"
      ],
      "execution_count": null,
      "outputs": [
        {
          "output_type": "stream",
          "name": "stdout",
          "text": [
            "(31, 5)\n"
          ]
        }
      ]
    },
    {
      "cell_type": "code",
      "metadata": {
        "id": "IjuQN0oYAgwk"
      },
      "source": [
        "test_poly = poly.transform(trans_test_input)"
      ],
      "execution_count": null,
      "outputs": []
    },
    {
      "cell_type": "code",
      "metadata": {
        "colab": {
          "base_uri": "https://localhost:8080/"
        },
        "id": "qsTGgG6d-umj",
        "outputId": "ca5b05cc-5b22-43c3-e5a6-feb7f86394a5"
      },
      "source": [
        "# fit_intercept : 상수항 존재 유무\n",
        "linear_regression = LinearRegression()\n",
        "linear_regression.fit(train_poly, train_target)\n",
        "print(linear_regression.score(train_poly, train_target))"
      ],
      "execution_count": null,
      "outputs": [
        {
          "output_type": "stream",
          "name": "stdout",
          "text": [
            "0.9376539988413919\n"
          ]
        }
      ]
    },
    {
      "cell_type": "code",
      "metadata": {
        "colab": {
          "base_uri": "https://localhost:8080/"
        },
        "id": "00AJGFOqAdtJ",
        "outputId": "55997dca-9136-45ad-a0c1-8d29ebb1f90f"
      },
      "source": [
        "print(linear_regression.score(test_poly, test_target))"
      ],
      "execution_count": null,
      "outputs": [
        {
          "output_type": "stream",
          "name": "stdout",
          "text": [
            "0.9200495767977489\n"
          ]
        }
      ]
    },
    {
      "cell_type": "code",
      "metadata": {
        "colab": {
          "base_uri": "https://localhost:8080/"
        },
        "id": "EiLrUb7mBYl5",
        "outputId": "3a699b15-76bf-403e-92f4-ba66f3296b7e"
      },
      "source": [
        "# 계수와 상수항 확인\n",
        "print(linear_regression.coef_, linear_regression.intercept_)"
      ],
      "execution_count": null,
      "outputs": [
        {
          "output_type": "stream",
          "name": "stdout",
          "text": [
            "[[-107.54786865 1568.30831884  -47.30795681 -107.06016524  -83.3643827 ]] [2431.62916249]\n"
          ]
        }
      ]
    },
    {
      "cell_type": "code",
      "metadata": {
        "colab": {
          "base_uri": "https://localhost:8080/"
        },
        "id": "2fM4_9MkBc2i",
        "outputId": "50f0de01-da3e-4bfa-ea4d-994ccd867605"
      },
      "source": [
        "# 생성된 특성 정보 확인(x0 = 지하철 이용자수 | x1 = 신규확진자수)\n",
        "poly.get_feature_names_out()"
      ],
      "execution_count": null,
      "outputs": [
        {
          "output_type": "execute_result",
          "data": {
            "text/plain": [
              "array(['x0', 'x1', 'x0^2', 'x0 x1', 'x1^2'], dtype=object)"
            ]
          },
          "metadata": {},
          "execution_count": 296
        }
      ]
    },
    {
      "cell_type": "code",
      "metadata": {
        "colab": {
          "base_uri": "https://localhost:8080/"
        },
        "id": "erpVQh1HDkuE",
        "outputId": "80d065e1-46f2-4fb9-805f-7e8ec7680ce7"
      },
      "source": [
        "sample = [[1094570,4826]]\n",
        "scaled_sample = scaler.transform(sample)\n",
        "scaled_sample_poly = poly.transform(scaled_sample)\n",
        "linear_regression.predict(scaled_sample_poly)"
      ],
      "execution_count": null,
      "outputs": [
        {
          "output_type": "execute_result",
          "data": {
            "text/plain": [
              "array([[4927.06962742]])"
            ]
          },
          "metadata": {},
          "execution_count": 303
        }
      ]
    }
  ]
}
