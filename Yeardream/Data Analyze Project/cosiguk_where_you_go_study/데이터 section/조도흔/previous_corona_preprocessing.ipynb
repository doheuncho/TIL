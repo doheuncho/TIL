{
  "nbformat": 4,
  "nbformat_minor": 0,
  "metadata": {
    "colab": {
      "name": "previous_corona_preprocessing.ipynb",
      "provenance": []
    },
    "kernelspec": {
      "name": "python3",
      "display_name": "Python 3"
    },
    "language_info": {
      "name": "python"
    }
  },
  "cells": [
    {
      "cell_type": "markdown",
      "metadata": {
        "id": "gGayKINS-RIh"
      },
      "source": [
        "<h1>1.사전 준비</h1>"
      ]
    },
    {
      "cell_type": "markdown",
      "metadata": {
        "id": "dRy4V_heD5ij"
      },
      "source": [
        "구글 드라이브에 연결한다."
      ]
    },
    {
      "cell_type": "code",
      "metadata": {
        "colab": {
          "base_uri": "https://localhost:8080/"
        },
        "id": "T1DTJIp1qqw-",
        "outputId": "1b57a14b-8772-4e37-c15d-cfbda395f846"
      },
      "source": [
        "from google.colab import drive\n",
        "drive.mount('/content/drive')"
      ],
      "execution_count": null,
      "outputs": [
        {
          "output_type": "stream",
          "name": "stdout",
          "text": [
            "Drive already mounted at /content/drive; to attempt to forcibly remount, call drive.mount(\"/content/drive\", force_remount=True).\n"
          ]
        }
      ]
    },
    {
      "cell_type": "markdown",
      "metadata": {
        "id": "aT3Dg8vQD8zI"
      },
      "source": [
        "필요한 모듈(pyspark, pandas)를 준비한다."
      ]
    },
    {
      "cell_type": "code",
      "metadata": {
        "colab": {
          "base_uri": "https://localhost:8080/"
        },
        "id": "3ZjYCIYYogZ5",
        "outputId": "f0e82515-9efc-4b2d-b795-79ed4a40e1cf"
      },
      "source": [
        "!pip install pyspark"
      ],
      "execution_count": null,
      "outputs": [
        {
          "output_type": "stream",
          "name": "stdout",
          "text": [
            "Collecting pyspark\n",
            "  Downloading pyspark-3.2.0.tar.gz (281.3 MB)\n",
            "\u001b[K     |████████████████████████████████| 281.3 MB 46 kB/s \n",
            "\u001b[?25hCollecting py4j==0.10.9.2\n",
            "  Downloading py4j-0.10.9.2-py2.py3-none-any.whl (198 kB)\n",
            "\u001b[K     |████████████████████████████████| 198 kB 83.8 MB/s \n",
            "\u001b[?25hBuilding wheels for collected packages: pyspark\n",
            "  Building wheel for pyspark (setup.py) ... \u001b[?25l\u001b[?25hdone\n",
            "  Created wheel for pyspark: filename=pyspark-3.2.0-py2.py3-none-any.whl size=281805912 sha256=2a63ad30af3c4ef158cf31dd680ecdf9e2ef70a3f6d95ed342a899d44a9b276d\n",
            "  Stored in directory: /root/.cache/pip/wheels/0b/de/d2/9be5d59d7331c6c2a7c1b6d1a4f463ce107332b1ecd4e80718\n",
            "Successfully built pyspark\n",
            "Installing collected packages: py4j, pyspark\n",
            "Successfully installed py4j-0.10.9.2 pyspark-3.2.0\n"
          ]
        }
      ]
    },
    {
      "cell_type": "code",
      "metadata": {
        "id": "AcT7ltHQrL4f"
      },
      "source": [
        "import pandas as pd"
      ],
      "execution_count": null,
      "outputs": []
    },
    {
      "cell_type": "markdown",
      "metadata": {
        "id": "nIFlcajZwa0U"
      },
      "source": [
        "기존 csv파일이 euc-kr형식으로 encoding되었기 때문에 utf-8형식으로 변환하여 코로나 이전(2018년-2019년)과 이후(2020년-2021년) csv파일을 합쳤다.<br>\n",
        "반복문을 이용하여 합쳤으며, 합칠때 이용한 코드는 아래와 같다.(로컬 IDE(a.k.a. 파이참)에서 했기때문에 아래 셀에서는 실행불가.)"
      ]
    },
    {
      "cell_type": "code",
      "metadata": {
        "id": "PS1FzXgRGOG6"
      },
      "source": [
        "import pandas as pd\n",
        "import glob\n",
        "import os\n",
        "\n",
        "\n",
        "input_file = r'D:\\공부\\2021 이어드림\\project\\csv\\2.일별\\2018_2019'\n",
        "output_file = r'D:\\공부\\2021 이어드림\\project\\csv\\2.일별\\2018_2019\\result.csv'\n",
        "\n",
        "allFile_list = glob.glob(os.path.join(input_file, 'CARD_SUBWAY_MONTH_*'))\n",
        "print(allFile_list)\n",
        "allData = []\n",
        "for file in allFile_list:\n",
        "    df = pd.read_csv(file, encoding='utf-8')\n",
        "    allData.append(df)\n",
        "\n",
        "dataCombine = pd.concat(allData, axis=0, ignore_index=True)\n",
        "dataCombine.to_csv(output_file, encoding='utf-8', index=False)\n"
      ],
      "execution_count": null,
      "outputs": []
    },
    {
      "cell_type": "markdown",
      "metadata": {
        "id": "RAfpdle6z24y"
      },
      "source": [
        "판다스로 합친 csv 파일을 구글 드라이브에 저장하고 pandas로 읽어옴. 아무래도 pandas가 보기에 더 좋다."
      ]
    },
    {
      "cell_type": "code",
      "metadata": {
        "id": "iN8CYTflrTin"
      },
      "source": [
        "data = pd.read_csv('/content/drive/MyDrive/data/previous_corona.csv', encoding='utf-8')"
      ],
      "execution_count": null,
      "outputs": []
    },
    {
      "cell_type": "code",
      "metadata": {
        "colab": {
          "base_uri": "https://localhost:8080/",
          "height": 419
        },
        "id": "re0FHSEur_yf",
        "outputId": "a285a84e-ea3e-451a-948c-96673824c4f0"
      },
      "source": [
        "data"
      ],
      "execution_count": null,
      "outputs": [
        {
          "output_type": "execute_result",
          "data": {
            "text/html": [
              "<div>\n",
              "<style scoped>\n",
              "    .dataframe tbody tr th:only-of-type {\n",
              "        vertical-align: middle;\n",
              "    }\n",
              "\n",
              "    .dataframe tbody tr th {\n",
              "        vertical-align: top;\n",
              "    }\n",
              "\n",
              "    .dataframe thead th {\n",
              "        text-align: right;\n",
              "    }\n",
              "</style>\n",
              "<table border=\"1\" class=\"dataframe\">\n",
              "  <thead>\n",
              "    <tr style=\"text-align: right;\">\n",
              "      <th></th>\n",
              "      <th>사용일자</th>\n",
              "      <th>노선명</th>\n",
              "      <th>역명</th>\n",
              "      <th>승차총승객수</th>\n",
              "      <th>하차총승객수</th>\n",
              "      <th>등록일자</th>\n",
              "    </tr>\n",
              "  </thead>\n",
              "  <tbody>\n",
              "    <tr>\n",
              "      <th>0</th>\n",
              "      <td>20180101</td>\n",
              "      <td>1호선</td>\n",
              "      <td>서울역</td>\n",
              "      <td>40213.0</td>\n",
              "      <td>34505.0</td>\n",
              "      <td>20180104</td>\n",
              "    </tr>\n",
              "    <tr>\n",
              "      <th>1</th>\n",
              "      <td>20180101</td>\n",
              "      <td>우이신설선</td>\n",
              "      <td>신설동</td>\n",
              "      <td>699.0</td>\n",
              "      <td>809.0</td>\n",
              "      <td>20180104</td>\n",
              "    </tr>\n",
              "    <tr>\n",
              "      <th>2</th>\n",
              "      <td>20180101</td>\n",
              "      <td>우이신설선</td>\n",
              "      <td>보문</td>\n",
              "      <td>754.0</td>\n",
              "      <td>803.0</td>\n",
              "      <td>20180104</td>\n",
              "    </tr>\n",
              "    <tr>\n",
              "      <th>3</th>\n",
              "      <td>20180101</td>\n",
              "      <td>우이신설선</td>\n",
              "      <td>성신여대입구(돈암)</td>\n",
              "      <td>2228.0</td>\n",
              "      <td>2276.0</td>\n",
              "      <td>20180104</td>\n",
              "    </tr>\n",
              "    <tr>\n",
              "      <th>4</th>\n",
              "      <td>20180101</td>\n",
              "      <td>우이신설선</td>\n",
              "      <td>정릉</td>\n",
              "      <td>1844.0</td>\n",
              "      <td>1685.0</td>\n",
              "      <td>20180104</td>\n",
              "    </tr>\n",
              "    <tr>\n",
              "      <th>...</th>\n",
              "      <td>...</td>\n",
              "      <td>...</td>\n",
              "      <td>...</td>\n",
              "      <td>...</td>\n",
              "      <td>...</td>\n",
              "      <td>...</td>\n",
              "    </tr>\n",
              "    <tr>\n",
              "      <th>428513</th>\n",
              "      <td>20191231</td>\n",
              "      <td>9호선</td>\n",
              "      <td>사평</td>\n",
              "      <td>3525.0</td>\n",
              "      <td>3391.0</td>\n",
              "      <td>20200103</td>\n",
              "    </tr>\n",
              "    <tr>\n",
              "      <th>428514</th>\n",
              "      <td>20191231</td>\n",
              "      <td>9호선</td>\n",
              "      <td>신논현</td>\n",
              "      <td>38032.0</td>\n",
              "      <td>38915.0</td>\n",
              "      <td>20200103</td>\n",
              "    </tr>\n",
              "    <tr>\n",
              "      <th>428515</th>\n",
              "      <td>20191231</td>\n",
              "      <td>공항철도 1호선</td>\n",
              "      <td>서울역</td>\n",
              "      <td>15568.0</td>\n",
              "      <td>13292.0</td>\n",
              "      <td>20200103</td>\n",
              "    </tr>\n",
              "    <tr>\n",
              "      <th>428516</th>\n",
              "      <td>20191231</td>\n",
              "      <td>공항철도 1호선</td>\n",
              "      <td>공덕</td>\n",
              "      <td>2488.0</td>\n",
              "      <td>3261.0</td>\n",
              "      <td>20200103</td>\n",
              "    </tr>\n",
              "    <tr>\n",
              "      <th>428517</th>\n",
              "      <td>20191231</td>\n",
              "      <td>공항철도 1호선</td>\n",
              "      <td>디지털미디어시티</td>\n",
              "      <td>12873.0</td>\n",
              "      <td>11392.0</td>\n",
              "      <td>20200103</td>\n",
              "    </tr>\n",
              "  </tbody>\n",
              "</table>\n",
              "<p>428518 rows × 6 columns</p>\n",
              "</div>"
            ],
            "text/plain": [
              "            사용일자       노선명          역명   승차총승객수   하차총승객수      등록일자\n",
              "0       20180101       1호선         서울역  40213.0  34505.0  20180104\n",
              "1       20180101     우이신설선         신설동    699.0    809.0  20180104\n",
              "2       20180101     우이신설선          보문    754.0    803.0  20180104\n",
              "3       20180101     우이신설선  성신여대입구(돈암)   2228.0   2276.0  20180104\n",
              "4       20180101     우이신설선          정릉   1844.0   1685.0  20180104\n",
              "...          ...       ...         ...      ...      ...       ...\n",
              "428513  20191231       9호선          사평   3525.0   3391.0  20200103\n",
              "428514  20191231       9호선         신논현  38032.0  38915.0  20200103\n",
              "428515  20191231  공항철도 1호선         서울역  15568.0  13292.0  20200103\n",
              "428516  20191231  공항철도 1호선          공덕   2488.0   3261.0  20200103\n",
              "428517  20191231  공항철도 1호선    디지털미디어시티  12873.0  11392.0  20200103\n",
              "\n",
              "[428518 rows x 6 columns]"
            ]
          },
          "metadata": {},
          "execution_count": 5
        }
      ]
    },
    {
      "cell_type": "code",
      "metadata": {
        "colab": {
          "base_uri": "https://localhost:8080/"
        },
        "id": "MdfkDN8kanpf",
        "outputId": "5136578a-8cd4-4826-c1b0-87e3bbf94956"
      },
      "source": [
        "data[\"노선명\"].unique()"
      ],
      "execution_count": null,
      "outputs": [
        {
          "output_type": "execute_result",
          "data": {
            "text/plain": [
              "array(['1호선', '우이신설선', '9호선2단계', '공항철도 1호선', '9호선', '8호선', '7호선', '6호선',\n",
              "       '5호선', '경강선', '수인선', '경춘선', '경의선', '장항선', '중앙선', '일산선', '분당선',\n",
              "       '과천선', '안산선', '경원선', '경인선', '경부선', '4호선', '3호선', '2호선', '9호선2~3단계'],\n",
              "      dtype=object)"
            ]
          },
          "metadata": {},
          "execution_count": 6
        }
      ]
    },
    {
      "cell_type": "markdown",
      "metadata": {
        "id": "Op5e_RlSDvOz"
      },
      "source": [
        "<h1>2.전처리"
      ]
    },
    {
      "cell_type": "markdown",
      "metadata": {
        "id": "y6-RhJS2EoSq"
      },
      "source": [
        "전처리를 위해 spark dataframe을 준비했다."
      ]
    },
    {
      "cell_type": "code",
      "metadata": {
        "id": "k4_QFA2_duXX"
      },
      "source": [
        "from pyspark.sql import SparkSession\n",
        "spark = SparkSession.builder.getOrCreate()"
      ],
      "execution_count": null,
      "outputs": []
    },
    {
      "cell_type": "code",
      "metadata": {
        "id": "JIyX-IHjd4Jc"
      },
      "source": [
        "df = spark.read.format(\"csv\").option(\"header\", True).load(\"/content/drive/MyDrive/data/previous_corona.csv\", encoding='utf-8')"
      ],
      "execution_count": null,
      "outputs": []
    },
    {
      "cell_type": "markdown",
      "metadata": {
        "id": "Gf3wPz2AEzua"
      },
      "source": [
        "스키마 확인결과, '사용일자'와 '승차총승객수', '하차총승객수'의 데이터 타입을 변환해야한다. 또한 '등록일자'는 단순히 데이터를 등록한 날짜를 입력한 데이터 이므로 이 칼럼을 삭제한다."
      ]
    },
    {
      "cell_type": "code",
      "metadata": {
        "colab": {
          "base_uri": "https://localhost:8080/"
        },
        "id": "sGcksgxVc9vm",
        "outputId": "3dd57dd5-b489-4639-c9a8-fc62e5be1927"
      },
      "source": [
        "# 타입 확인\n",
        "df.printSchema()"
      ],
      "execution_count": null,
      "outputs": [
        {
          "output_type": "stream",
          "name": "stdout",
          "text": [
            "root\n",
            " |-- 사용일자: string (nullable = true)\n",
            " |-- 노선명: string (nullable = true)\n",
            " |-- 역명: string (nullable = true)\n",
            " |-- 승차총승객수: string (nullable = true)\n",
            " |-- 하차총승객수: string (nullable = true)\n",
            " |-- 등록일자: string (nullable = true)\n",
            "\n"
          ]
        }
      ]
    },
    {
      "cell_type": "code",
      "metadata": {
        "colab": {
          "base_uri": "https://localhost:8080/"
        },
        "id": "jZhqfpyasvCS",
        "outputId": "c4321178-2629-4aa4-8685-34bb58e2a36c"
      },
      "source": [
        "# 데이터 확인\n",
        "df.show()"
      ],
      "execution_count": null,
      "outputs": [
        {
          "output_type": "stream",
          "name": "stdout",
          "text": [
            "+--------+--------------+------------------+------------+------------+--------+\n",
            "|사용일자|        노선명|              역명|승차총승객수|하차총승객수|등록일자|\n",
            "+--------+--------------+------------------+------------+------------+--------+\n",
            "|20180101|         1호선|            서울역|     40213.0|     34505.0|20180104|\n",
            "|20180101|    우이신설선|            신설동|       699.0|       809.0|20180104|\n",
            "|20180101|    우이신설선|              보문|       754.0|       803.0|20180104|\n",
            "|20180101|    우이신설선|성신여대입구(돈암)|      2228.0|      2276.0|20180104|\n",
            "|20180101|    우이신설선|              정릉|      1844.0|      1685.0|20180104|\n",
            "|20180101|    우이신설선|      북한산보국문|      2706.0|      2637.0|20180104|\n",
            "|20180101|    우이신설선|              솔샘|      2242.0|      2128.0|20180104|\n",
            "|20180101|    우이신설선|        삼양사거리|      1141.0|      1170.0|20180104|\n",
            "|20180101|    우이신설선|              삼양|      1079.0|      1206.0|20180104|\n",
            "|20180101|    우이신설선|              화계|      1492.0|      1418.0|20180104|\n",
            "|20180101|    우이신설선|            가오리|      1783.0|      1796.0|20180104|\n",
            "|20180101|    우이신설선|      4.19민주묘지|      1393.0|      1347.0|20180104|\n",
            "|20180101|    우이신설선|          솔밭공원|      1150.0|      1210.0|20180104|\n",
            "|20180101|    우이신설선|        북한산우이|      3317.0|      3038.0|20180104|\n",
            "|20180101|    9호선2단계|        종합운동장|      3222.0|      2244.0|20180104|\n",
            "|20180101|    9호선2단계|            봉은사|      6897.0|      6215.0|20180104|\n",
            "|20180101|    9호선2단계|          삼성중앙|      1256.0|      1445.0|20180104|\n",
            "|20180101|    9호선2단계|            선정릉|      1742.0|      1961.0|20180104|\n",
            "|20180101|    9호선2단계|              언주|      2821.0|      2513.0|20180104|\n",
            "|20180101|공항철도 1호선|              영종|      1266.0|      1370.0|20180104|\n",
            "+--------+--------------+------------------+------------+------------+--------+\n",
            "only showing top 20 rows\n",
            "\n"
          ]
        }
      ]
    },
    {
      "cell_type": "markdown",
      "metadata": {
        "id": "-yaOEIwXtDzb"
      },
      "source": [
        "필요없는 등록일자 컬럼 제거"
      ]
    },
    {
      "cell_type": "code",
      "metadata": {
        "colab": {
          "base_uri": "https://localhost:8080/"
        },
        "id": "lKi8zX6-G6ZK",
        "outputId": "9a4fc1a7-b445-44dc-d719-5e9645f4ac70"
      },
      "source": [
        "df = df.drop('등록일자')\n",
        "df.show()"
      ],
      "execution_count": null,
      "outputs": [
        {
          "output_type": "stream",
          "name": "stdout",
          "text": [
            "+--------+--------------+------------------+------------+------------+\n",
            "|사용일자|        노선명|              역명|승차총승객수|하차총승객수|\n",
            "+--------+--------------+------------------+------------+------------+\n",
            "|20180101|         1호선|            서울역|     40213.0|     34505.0|\n",
            "|20180101|    우이신설선|            신설동|       699.0|       809.0|\n",
            "|20180101|    우이신설선|              보문|       754.0|       803.0|\n",
            "|20180101|    우이신설선|성신여대입구(돈암)|      2228.0|      2276.0|\n",
            "|20180101|    우이신설선|              정릉|      1844.0|      1685.0|\n",
            "|20180101|    우이신설선|      북한산보국문|      2706.0|      2637.0|\n",
            "|20180101|    우이신설선|              솔샘|      2242.0|      2128.0|\n",
            "|20180101|    우이신설선|        삼양사거리|      1141.0|      1170.0|\n",
            "|20180101|    우이신설선|              삼양|      1079.0|      1206.0|\n",
            "|20180101|    우이신설선|              화계|      1492.0|      1418.0|\n",
            "|20180101|    우이신설선|            가오리|      1783.0|      1796.0|\n",
            "|20180101|    우이신설선|      4.19민주묘지|      1393.0|      1347.0|\n",
            "|20180101|    우이신설선|          솔밭공원|      1150.0|      1210.0|\n",
            "|20180101|    우이신설선|        북한산우이|      3317.0|      3038.0|\n",
            "|20180101|    9호선2단계|        종합운동장|      3222.0|      2244.0|\n",
            "|20180101|    9호선2단계|            봉은사|      6897.0|      6215.0|\n",
            "|20180101|    9호선2단계|          삼성중앙|      1256.0|      1445.0|\n",
            "|20180101|    9호선2단계|            선정릉|      1742.0|      1961.0|\n",
            "|20180101|    9호선2단계|              언주|      2821.0|      2513.0|\n",
            "|20180101|공항철도 1호선|              영종|      1266.0|      1370.0|\n",
            "+--------+--------------+------------------+------------+------------+\n",
            "only showing top 20 rows\n",
            "\n"
          ]
        }
      ]
    },
    {
      "cell_type": "code",
      "metadata": {
        "id": "bV5ijar_eGdM"
      },
      "source": [
        "import pyspark.sql.types as T\n",
        "import pyspark.sql.functions as F"
      ],
      "execution_count": null,
      "outputs": []
    },
    {
      "cell_type": "markdown",
      "metadata": {
        "id": "bagIQfwD_8b7"
      },
      "source": [
        "컬럼 DataType 변환"
      ]
    },
    {
      "cell_type": "code",
      "metadata": {
        "id": "VaY1OO5ifMtU"
      },
      "source": [
        "df = df.withColumn('사용일자',F.to_date(F.col(\"사용일자\"),\"yyyyMMdd\"))\\\n",
        ".withColumn('승차총승객수',F.col('승차총승객수').cast(T.IntegerType()))\\\n",
        ".withColumn('하차총승객수',F.col('하차총승객수').cast(T.IntegerType()))"
      ],
      "execution_count": null,
      "outputs": []
    },
    {
      "cell_type": "markdown",
      "metadata": {
        "id": "fqlYWrpLtIUg"
      },
      "source": [
        "스키마 확인 결과 제대로 변경이 됨"
      ]
    },
    {
      "cell_type": "code",
      "metadata": {
        "colab": {
          "base_uri": "https://localhost:8080/"
        },
        "id": "6CDIg2BQfg0E",
        "outputId": "1b46e24b-627d-4f14-fe65-44d37361810e"
      },
      "source": [
        "df.printSchema()"
      ],
      "execution_count": null,
      "outputs": [
        {
          "output_type": "stream",
          "name": "stdout",
          "text": [
            "root\n",
            " |-- 사용일자: date (nullable = true)\n",
            " |-- 노선명: string (nullable = true)\n",
            " |-- 역명: string (nullable = true)\n",
            " |-- 승차총승객수: integer (nullable = true)\n",
            " |-- 하차총승객수: integer (nullable = true)\n",
            "\n"
          ]
        }
      ]
    },
    {
      "cell_type": "code",
      "metadata": {
        "colab": {
          "base_uri": "https://localhost:8080/"
        },
        "id": "VF7h1cqugY8t",
        "outputId": "f46251e2-6df8-4bcf-ec02-75abec39da4e"
      },
      "source": [
        "df.show()"
      ],
      "execution_count": null,
      "outputs": [
        {
          "output_type": "stream",
          "name": "stdout",
          "text": [
            "+----------+--------------+------------------+------------+------------+\n",
            "|  사용일자|        노선명|              역명|승차총승객수|하차총승객수|\n",
            "+----------+--------------+------------------+------------+------------+\n",
            "|2018-01-01|         1호선|            서울역|       40213|       34505|\n",
            "|2018-01-01|    우이신설선|            신설동|         699|         809|\n",
            "|2018-01-01|    우이신설선|              보문|         754|         803|\n",
            "|2018-01-01|    우이신설선|성신여대입구(돈암)|        2228|        2276|\n",
            "|2018-01-01|    우이신설선|              정릉|        1844|        1685|\n",
            "|2018-01-01|    우이신설선|      북한산보국문|        2706|        2637|\n",
            "|2018-01-01|    우이신설선|              솔샘|        2242|        2128|\n",
            "|2018-01-01|    우이신설선|        삼양사거리|        1141|        1170|\n",
            "|2018-01-01|    우이신설선|              삼양|        1079|        1206|\n",
            "|2018-01-01|    우이신설선|              화계|        1492|        1418|\n",
            "|2018-01-01|    우이신설선|            가오리|        1783|        1796|\n",
            "|2018-01-01|    우이신설선|      4.19민주묘지|        1393|        1347|\n",
            "|2018-01-01|    우이신설선|          솔밭공원|        1150|        1210|\n",
            "|2018-01-01|    우이신설선|        북한산우이|        3317|        3038|\n",
            "|2018-01-01|    9호선2단계|        종합운동장|        3222|        2244|\n",
            "|2018-01-01|    9호선2단계|            봉은사|        6897|        6215|\n",
            "|2018-01-01|    9호선2단계|          삼성중앙|        1256|        1445|\n",
            "|2018-01-01|    9호선2단계|            선정릉|        1742|        1961|\n",
            "|2018-01-01|    9호선2단계|              언주|        2821|        2513|\n",
            "|2018-01-01|공항철도 1호선|              영종|        1266|        1370|\n",
            "+----------+--------------+------------------+------------+------------+\n",
            "only showing top 20 rows\n",
            "\n"
          ]
        }
      ]
    },
    {
      "cell_type": "markdown",
      "metadata": {
        "id": "nUFDJaDG_tq_"
      },
      "source": [
        "Null값 확인 결과 없음(모든 칼럼)"
      ]
    },
    {
      "cell_type": "code",
      "metadata": {
        "colab": {
          "base_uri": "https://localhost:8080/"
        },
        "id": "3IaRa6fwl2qc",
        "outputId": "42ed419c-d90c-4a9f-eeac-e28b14a7c9c3"
      },
      "source": [
        "df.where(F.col('하차총승객수').isNull()==True).count()"
      ],
      "execution_count": null,
      "outputs": [
        {
          "output_type": "execute_result",
          "data": {
            "text/plain": [
              "0"
            ]
          },
          "metadata": {},
          "execution_count": 19
        }
      ]
    },
    {
      "cell_type": "markdown",
      "metadata": {
        "id": "7EdTSpS17n8i"
      },
      "source": [
        "이상치 확인결과 없음(승객수 칼럼)"
      ]
    },
    {
      "cell_type": "code",
      "metadata": {
        "colab": {
          "base_uri": "https://localhost:8080/"
        },
        "id": "BPy9VFvr7nHE",
        "outputId": "fb45c573-5c68-45c3-8128-1b48513f7efe"
      },
      "source": [
        "df.where(F.col('하차총승객수')<0).count()"
      ],
      "execution_count": null,
      "outputs": [
        {
          "output_type": "execute_result",
          "data": {
            "text/plain": [
              "0"
            ]
          },
          "metadata": {},
          "execution_count": 20
        }
      ]
    },
    {
      "cell_type": "markdown",
      "metadata": {
        "id": "PPyJiQBvtPWi"
      },
      "source": [
        "'승차총승객수'와 '하차총승객수'를 더한 '이용자수' 칼럼 생성."
      ]
    },
    {
      "cell_type": "code",
      "metadata": {
        "id": "5UXvioLeA38g"
      },
      "source": [
        "df = df.withColumn('이용자수', sum([df[col] for col in [\"`승차총승객수`\",\"`하차총승객수`\"]]))"
      ],
      "execution_count": null,
      "outputs": []
    },
    {
      "cell_type": "code",
      "metadata": {
        "colab": {
          "base_uri": "https://localhost:8080/"
        },
        "id": "uUDJBbGHGc8P",
        "outputId": "cfe6847f-f77c-48e8-f75c-ef3420fdabcd"
      },
      "source": [
        "df.show()"
      ],
      "execution_count": null,
      "outputs": [
        {
          "output_type": "stream",
          "name": "stdout",
          "text": [
            "+----------+--------------+------------------+------------+------------+--------+\n",
            "|  사용일자|        노선명|              역명|승차총승객수|하차총승객수|이용자수|\n",
            "+----------+--------------+------------------+------------+------------+--------+\n",
            "|2018-01-01|         1호선|            서울역|       40213|       34505|   74718|\n",
            "|2018-01-01|    우이신설선|            신설동|         699|         809|    1508|\n",
            "|2018-01-01|    우이신설선|              보문|         754|         803|    1557|\n",
            "|2018-01-01|    우이신설선|성신여대입구(돈암)|        2228|        2276|    4504|\n",
            "|2018-01-01|    우이신설선|              정릉|        1844|        1685|    3529|\n",
            "|2018-01-01|    우이신설선|      북한산보국문|        2706|        2637|    5343|\n",
            "|2018-01-01|    우이신설선|              솔샘|        2242|        2128|    4370|\n",
            "|2018-01-01|    우이신설선|        삼양사거리|        1141|        1170|    2311|\n",
            "|2018-01-01|    우이신설선|              삼양|        1079|        1206|    2285|\n",
            "|2018-01-01|    우이신설선|              화계|        1492|        1418|    2910|\n",
            "|2018-01-01|    우이신설선|            가오리|        1783|        1796|    3579|\n",
            "|2018-01-01|    우이신설선|      4.19민주묘지|        1393|        1347|    2740|\n",
            "|2018-01-01|    우이신설선|          솔밭공원|        1150|        1210|    2360|\n",
            "|2018-01-01|    우이신설선|        북한산우이|        3317|        3038|    6355|\n",
            "|2018-01-01|    9호선2단계|        종합운동장|        3222|        2244|    5466|\n",
            "|2018-01-01|    9호선2단계|            봉은사|        6897|        6215|   13112|\n",
            "|2018-01-01|    9호선2단계|          삼성중앙|        1256|        1445|    2701|\n",
            "|2018-01-01|    9호선2단계|            선정릉|        1742|        1961|    3703|\n",
            "|2018-01-01|    9호선2단계|              언주|        2821|        2513|    5334|\n",
            "|2018-01-01|공항철도 1호선|              영종|        1266|        1370|    2636|\n",
            "+----------+--------------+------------------+------------+------------+--------+\n",
            "only showing top 20 rows\n",
            "\n"
          ]
        }
      ]
    },
    {
      "cell_type": "markdown",
      "metadata": {
        "id": "AcIqZ2T9tcqL"
      },
      "source": [
        "중복되는 노선(9호선, 9호선2~3단계, 9호선2단계)를 하나의 노선으로 통합하고, '공항철도 1호선' 노선은 '공항철도' 노선으로 수정했다."
      ]
    },
    {
      "cell_type": "markdown",
      "metadata": {
        "id": "WCpcEW2vtzFx"
      },
      "source": [
        "먼저 '9호선 2단계'와 '9호선 2~3단계' 를 '9호선'으로 바꿔주고"
      ]
    },
    {
      "cell_type": "code",
      "metadata": {
        "id": "F47fEWljkbWE"
      },
      "source": [
        "df2 = df.withColumn(\"노선명\", F.when(df.노선명 == \"9호선2~3단계\",\"9호선\").otherwise(df.노선명))"
      ],
      "execution_count": null,
      "outputs": []
    },
    {
      "cell_type": "code",
      "metadata": {
        "id": "vabfVZKlq3_y"
      },
      "source": [
        "df3 = df2.withColumn(\"노선명\", F.when(df2.노선명 == \"9호선2단계\",\"9호선\").otherwise(df2.노선명))"
      ],
      "execution_count": null,
      "outputs": []
    },
    {
      "cell_type": "markdown",
      "metadata": {
        "id": "p6Wr4sHXt7fM"
      },
      "source": [
        "'공항철도 1호선'을 '공항철도'로 변경했다"
      ]
    },
    {
      "cell_type": "code",
      "metadata": {
        "colab": {
          "base_uri": "https://localhost:8080/"
        },
        "id": "EmXjC465swiV",
        "outputId": "486ff75e-85fc-47e7-fa08-9b3515a9f5b1"
      },
      "source": [
        "df = df3.withColumn(\"노선명\", F.when(df3.노선명 == \"공항철도 1호선\",\"공항철도\").otherwise(df3.노선명))\n",
        "df.show()"
      ],
      "execution_count": null,
      "outputs": [
        {
          "output_type": "stream",
          "name": "stdout",
          "text": [
            "+----------+----------+------------------+------------+------------+--------+\n",
            "|  사용일자|    노선명|              역명|승차총승객수|하차총승객수|이용자수|\n",
            "+----------+----------+------------------+------------+------------+--------+\n",
            "|2018-01-01|     1호선|            서울역|       40213|       34505|   74718|\n",
            "|2018-01-01|우이신설선|            신설동|         699|         809|    1508|\n",
            "|2018-01-01|우이신설선|              보문|         754|         803|    1557|\n",
            "|2018-01-01|우이신설선|성신여대입구(돈암)|        2228|        2276|    4504|\n",
            "|2018-01-01|우이신설선|              정릉|        1844|        1685|    3529|\n",
            "|2018-01-01|우이신설선|      북한산보국문|        2706|        2637|    5343|\n",
            "|2018-01-01|우이신설선|              솔샘|        2242|        2128|    4370|\n",
            "|2018-01-01|우이신설선|        삼양사거리|        1141|        1170|    2311|\n",
            "|2018-01-01|우이신설선|              삼양|        1079|        1206|    2285|\n",
            "|2018-01-01|우이신설선|              화계|        1492|        1418|    2910|\n",
            "|2018-01-01|우이신설선|            가오리|        1783|        1796|    3579|\n",
            "|2018-01-01|우이신설선|      4.19민주묘지|        1393|        1347|    2740|\n",
            "|2018-01-01|우이신설선|          솔밭공원|        1150|        1210|    2360|\n",
            "|2018-01-01|우이신설선|        북한산우이|        3317|        3038|    6355|\n",
            "|2018-01-01|     9호선|        종합운동장|        3222|        2244|    5466|\n",
            "|2018-01-01|     9호선|            봉은사|        6897|        6215|   13112|\n",
            "|2018-01-01|     9호선|          삼성중앙|        1256|        1445|    2701|\n",
            "|2018-01-01|     9호선|            선정릉|        1742|        1961|    3703|\n",
            "|2018-01-01|     9호선|              언주|        2821|        2513|    5334|\n",
            "|2018-01-01|  공항철도|              영종|        1266|        1370|    2636|\n",
            "+----------+----------+------------------+------------+------------+--------+\n",
            "only showing top 20 rows\n",
            "\n"
          ]
        }
      ]
    },
    {
      "cell_type": "markdown",
      "metadata": {
        "id": "kPYzrKfyt_Ul"
      },
      "source": [
        "잘 변경되었는지 확인"
      ]
    },
    {
      "cell_type": "code",
      "metadata": {
        "colab": {
          "base_uri": "https://localhost:8080/"
        },
        "id": "a3PEzpJLrTr5",
        "outputId": "c6920d03-d727-4f2c-8c78-07866979393f"
      },
      "source": [
        "df.select('노선명').distinct().show(30)"
      ],
      "execution_count": null,
      "outputs": [
        {
          "output_type": "stream",
          "name": "stdout",
          "text": [
            "+----------+\n",
            "|    노선명|\n",
            "+----------+\n",
            "|    일산선|\n",
            "|    장항선|\n",
            "|    경부선|\n",
            "|우이신설선|\n",
            "|    분당선|\n",
            "|     7호선|\n",
            "|    수인선|\n",
            "|    안산선|\n",
            "|     4호선|\n",
            "|     1호선|\n",
            "|    경의선|\n",
            "|     3호선|\n",
            "|    경강선|\n",
            "|    경춘선|\n",
            "|     9호선|\n",
            "|     6호선|\n",
            "|     5호선|\n",
            "|     8호선|\n",
            "|  공항철도|\n",
            "|    과천선|\n",
            "|    경인선|\n",
            "|    중앙선|\n",
            "|     2호선|\n",
            "|    경원선|\n",
            "+----------+\n",
            "\n"
          ]
        }
      ]
    },
    {
      "cell_type": "markdown",
      "metadata": {
        "id": "YDSHWwPn4rYR"
      },
      "source": [
        "parquet 파일로 저장"
      ]
    },
    {
      "cell_type": "code",
      "metadata": {
        "id": "xtaByK7X0WhO"
      },
      "source": [
        "df.write.parquet('previous_corona')"
      ],
      "execution_count": null,
      "outputs": []
    },
    {
      "cell_type": "markdown",
      "metadata": {
        "id": "DIsAicXH4vZM"
      },
      "source": [
        "잘 저장되었는지 확인사살"
      ]
    },
    {
      "cell_type": "code",
      "metadata": {
        "colab": {
          "base_uri": "https://localhost:8080/"
        },
        "id": "-G6pWrkD2KxN",
        "outputId": "0061f2d3-c838-498c-8024-83678a772967"
      },
      "source": [
        "pq = spark.read.parquet('previous_corona')\n",
        "pq.show()"
      ],
      "execution_count": null,
      "outputs": [
        {
          "output_type": "stream",
          "name": "stdout",
          "text": [
            "+----------+----------+------------------+------------+------------+--------+\n",
            "|  사용일자|    노선명|              역명|승차총승객수|하차총승객수|이용자수|\n",
            "+----------+----------+------------------+------------+------------+--------+\n",
            "|2018-01-01|     1호선|            서울역|       40213|       34505|   74718|\n",
            "|2018-01-01|우이신설선|            신설동|         699|         809|    1508|\n",
            "|2018-01-01|우이신설선|              보문|         754|         803|    1557|\n",
            "|2018-01-01|우이신설선|성신여대입구(돈암)|        2228|        2276|    4504|\n",
            "|2018-01-01|우이신설선|              정릉|        1844|        1685|    3529|\n",
            "|2018-01-01|우이신설선|      북한산보국문|        2706|        2637|    5343|\n",
            "|2018-01-01|우이신설선|              솔샘|        2242|        2128|    4370|\n",
            "|2018-01-01|우이신설선|        삼양사거리|        1141|        1170|    2311|\n",
            "|2018-01-01|우이신설선|              삼양|        1079|        1206|    2285|\n",
            "|2018-01-01|우이신설선|              화계|        1492|        1418|    2910|\n",
            "|2018-01-01|우이신설선|            가오리|        1783|        1796|    3579|\n",
            "|2018-01-01|우이신설선|      4.19민주묘지|        1393|        1347|    2740|\n",
            "|2018-01-01|우이신설선|          솔밭공원|        1150|        1210|    2360|\n",
            "|2018-01-01|우이신설선|        북한산우이|        3317|        3038|    6355|\n",
            "|2018-01-01|     9호선|        종합운동장|        3222|        2244|    5466|\n",
            "|2018-01-01|     9호선|            봉은사|        6897|        6215|   13112|\n",
            "|2018-01-01|     9호선|          삼성중앙|        1256|        1445|    2701|\n",
            "|2018-01-01|     9호선|            선정릉|        1742|        1961|    3703|\n",
            "|2018-01-01|     9호선|              언주|        2821|        2513|    5334|\n",
            "|2018-01-01|  공항철도|              영종|        1266|        1370|    2636|\n",
            "+----------+----------+------------------+------------+------------+--------+\n",
            "only showing top 20 rows\n",
            "\n"
          ]
        }
      ]
    },
    {
      "cell_type": "markdown",
      "metadata": {
        "id": "TVQnxdJv4x8R"
      },
      "source": [
        "스키마도 살아있는지 확인사살"
      ]
    },
    {
      "cell_type": "code",
      "metadata": {
        "colab": {
          "base_uri": "https://localhost:8080/"
        },
        "id": "XVwHLM0j2hiA",
        "outputId": "e691fe78-c696-4b6e-88f4-d416f4dba1b8"
      },
      "source": [
        "pq.schema"
      ],
      "execution_count": null,
      "outputs": [
        {
          "output_type": "execute_result",
          "data": {
            "text/plain": [
              "StructType(List(StructField(사용일자,DateType,true),StructField(노선명,StringType,true),StructField(역명,StringType,true),StructField(승차총승객수,IntegerType,true),StructField(하차총승객수,IntegerType,true),StructField(이용자수,IntegerType,true)))"
            ]
          },
          "metadata": {},
          "execution_count": 282
        }
      ]
    },
    {
      "cell_type": "markdown",
      "metadata": {
        "id": "wNrAOj7l47t5"
      },
      "source": [
        "손실된 칼럼 있는지 확인"
      ]
    },
    {
      "cell_type": "code",
      "metadata": {
        "colab": {
          "base_uri": "https://localhost:8080/"
        },
        "id": "xzoP_SNx49_x",
        "outputId": "9656e474-b346-4ceb-c47b-5aa98e6b1aa6"
      },
      "source": [
        "df.count()"
      ],
      "execution_count": null,
      "outputs": [
        {
          "output_type": "execute_result",
          "data": {
            "text/plain": [
              "428518"
            ]
          },
          "metadata": {},
          "execution_count": 287
        }
      ]
    },
    {
      "cell_type": "code",
      "metadata": {
        "colab": {
          "base_uri": "https://localhost:8080/"
        },
        "id": "wuSwLt_545Kc",
        "outputId": "f57286a1-0682-45c2-c694-a7cb2fbdd5d2"
      },
      "source": [
        "pq.count()"
      ],
      "execution_count": null,
      "outputs": [
        {
          "output_type": "execute_result",
          "data": {
            "text/plain": [
              "428518"
            ]
          },
          "metadata": {},
          "execution_count": 286
        }
      ]
    },
    {
      "cell_type": "code",
      "metadata": {
        "id": "MDJx1qplv9uJ"
      },
      "source": [
        "pdf = df.select(\"*\").toPandas()"
      ],
      "execution_count": null,
      "outputs": []
    },
    {
      "cell_type": "code",
      "metadata": {
        "colab": {
          "base_uri": "https://localhost:8080/",
          "height": 419
        },
        "id": "AB-fWUeoznZK",
        "outputId": "dc18eb18-71f9-4fb0-9990-1610cfabac9c"
      },
      "source": [
        "pdf"
      ],
      "execution_count": null,
      "outputs": [
        {
          "output_type": "execute_result",
          "data": {
            "text/html": [
              "<div>\n",
              "<style scoped>\n",
              "    .dataframe tbody tr th:only-of-type {\n",
              "        vertical-align: middle;\n",
              "    }\n",
              "\n",
              "    .dataframe tbody tr th {\n",
              "        vertical-align: top;\n",
              "    }\n",
              "\n",
              "    .dataframe thead th {\n",
              "        text-align: right;\n",
              "    }\n",
              "</style>\n",
              "<table border=\"1\" class=\"dataframe\">\n",
              "  <thead>\n",
              "    <tr style=\"text-align: right;\">\n",
              "      <th></th>\n",
              "      <th>사용일자</th>\n",
              "      <th>노선명</th>\n",
              "      <th>역명</th>\n",
              "      <th>승차총승객수</th>\n",
              "      <th>하차총승객수</th>\n",
              "      <th>이용자수</th>\n",
              "    </tr>\n",
              "  </thead>\n",
              "  <tbody>\n",
              "    <tr>\n",
              "      <th>0</th>\n",
              "      <td>2018-01-01</td>\n",
              "      <td>1호선</td>\n",
              "      <td>서울역</td>\n",
              "      <td>40213</td>\n",
              "      <td>34505</td>\n",
              "      <td>74718</td>\n",
              "    </tr>\n",
              "    <tr>\n",
              "      <th>1</th>\n",
              "      <td>2018-01-01</td>\n",
              "      <td>우이신설선</td>\n",
              "      <td>신설동</td>\n",
              "      <td>699</td>\n",
              "      <td>809</td>\n",
              "      <td>1508</td>\n",
              "    </tr>\n",
              "    <tr>\n",
              "      <th>2</th>\n",
              "      <td>2018-01-01</td>\n",
              "      <td>우이신설선</td>\n",
              "      <td>보문</td>\n",
              "      <td>754</td>\n",
              "      <td>803</td>\n",
              "      <td>1557</td>\n",
              "    </tr>\n",
              "    <tr>\n",
              "      <th>3</th>\n",
              "      <td>2018-01-01</td>\n",
              "      <td>우이신설선</td>\n",
              "      <td>성신여대입구(돈암)</td>\n",
              "      <td>2228</td>\n",
              "      <td>2276</td>\n",
              "      <td>4504</td>\n",
              "    </tr>\n",
              "    <tr>\n",
              "      <th>4</th>\n",
              "      <td>2018-01-01</td>\n",
              "      <td>우이신설선</td>\n",
              "      <td>정릉</td>\n",
              "      <td>1844</td>\n",
              "      <td>1685</td>\n",
              "      <td>3529</td>\n",
              "    </tr>\n",
              "    <tr>\n",
              "      <th>...</th>\n",
              "      <td>...</td>\n",
              "      <td>...</td>\n",
              "      <td>...</td>\n",
              "      <td>...</td>\n",
              "      <td>...</td>\n",
              "      <td>...</td>\n",
              "    </tr>\n",
              "    <tr>\n",
              "      <th>428513</th>\n",
              "      <td>2019-12-31</td>\n",
              "      <td>9호선</td>\n",
              "      <td>사평</td>\n",
              "      <td>3525</td>\n",
              "      <td>3391</td>\n",
              "      <td>6916</td>\n",
              "    </tr>\n",
              "    <tr>\n",
              "      <th>428514</th>\n",
              "      <td>2019-12-31</td>\n",
              "      <td>9호선</td>\n",
              "      <td>신논현</td>\n",
              "      <td>38032</td>\n",
              "      <td>38915</td>\n",
              "      <td>76947</td>\n",
              "    </tr>\n",
              "    <tr>\n",
              "      <th>428515</th>\n",
              "      <td>2019-12-31</td>\n",
              "      <td>공항철도</td>\n",
              "      <td>서울역</td>\n",
              "      <td>15568</td>\n",
              "      <td>13292</td>\n",
              "      <td>28860</td>\n",
              "    </tr>\n",
              "    <tr>\n",
              "      <th>428516</th>\n",
              "      <td>2019-12-31</td>\n",
              "      <td>공항철도</td>\n",
              "      <td>공덕</td>\n",
              "      <td>2488</td>\n",
              "      <td>3261</td>\n",
              "      <td>5749</td>\n",
              "    </tr>\n",
              "    <tr>\n",
              "      <th>428517</th>\n",
              "      <td>2019-12-31</td>\n",
              "      <td>공항철도</td>\n",
              "      <td>디지털미디어시티</td>\n",
              "      <td>12873</td>\n",
              "      <td>11392</td>\n",
              "      <td>24265</td>\n",
              "    </tr>\n",
              "  </tbody>\n",
              "</table>\n",
              "<p>428518 rows × 6 columns</p>\n",
              "</div>"
            ],
            "text/plain": [
              "              사용일자    노선명          역명  승차총승객수  하차총승객수   이용자수\n",
              "0       2018-01-01    1호선         서울역   40213   34505  74718\n",
              "1       2018-01-01  우이신설선         신설동     699     809   1508\n",
              "2       2018-01-01  우이신설선          보문     754     803   1557\n",
              "3       2018-01-01  우이신설선  성신여대입구(돈암)    2228    2276   4504\n",
              "4       2018-01-01  우이신설선          정릉    1844    1685   3529\n",
              "...            ...    ...         ...     ...     ...    ...\n",
              "428513  2019-12-31    9호선          사평    3525    3391   6916\n",
              "428514  2019-12-31    9호선         신논현   38032   38915  76947\n",
              "428515  2019-12-31   공항철도         서울역   15568   13292  28860\n",
              "428516  2019-12-31   공항철도          공덕    2488    3261   5749\n",
              "428517  2019-12-31   공항철도    디지털미디어시티   12873   11392  24265\n",
              "\n",
              "[428518 rows x 6 columns]"
            ]
          },
          "metadata": {},
          "execution_count": 276
        }
      ]
    },
    {
      "cell_type": "markdown",
      "metadata": {
        "id": "Qw8GNgvBuTz4"
      },
      "source": [
        "<h1>3.그래프를 통해 데이터 확인해보기"
      ]
    },
    {
      "cell_type": "code",
      "metadata": {
        "id": "xz_kzCTZMdIn"
      },
      "source": [
        "# 그래프 legend가 보기 흉해서 없애려는데 ticker가 필요했었다.\n",
        "import matplotlib.pyplot as plt\n",
        "import matplotlib.ticker as mticker"
      ],
      "execution_count": null,
      "outputs": []
    },
    {
      "cell_type": "code",
      "metadata": {
        "colab": {
          "base_uri": "https://localhost:8080/"
        },
        "id": "hUGxhmIGH_yz",
        "outputId": "9f70650e-4420-4dac-ccf2-edf525e83081"
      },
      "source": [
        "# df에 덮어씌우기 전에 제대로 된건지 확인 필수(안되면 처음 읽은 셀부터 다시해야됨)\n",
        "df.groupby('`사용일자`').agg(F.sum('`승차총승객수`').alias('일별이용자수')).orderBy(F.desc('`사용일자`')).show()"
      ],
      "execution_count": null,
      "outputs": [
        {
          "output_type": "stream",
          "name": "stdout",
          "text": [
            "+----------+------------+\n",
            "|  사용일자|일별이용자수|\n",
            "+----------+------------+\n",
            "|2019-12-31|     7704492|\n",
            "|2019-12-30|     8059114|\n",
            "|2019-12-29|     4756871|\n",
            "|2019-12-28|     6567343|\n",
            "|2019-12-27|     8641121|\n",
            "|2019-12-26|     8270786|\n",
            "|2019-12-25|     5383807|\n",
            "|2019-12-24|     8843820|\n",
            "|2019-12-23|     8410199|\n",
            "|2019-12-22|     5108439|\n",
            "|2019-12-21|     7139298|\n",
            "|2019-12-20|     9169870|\n",
            "|2019-12-19|     8679111|\n",
            "|2019-12-18|     8589967|\n",
            "|2019-12-17|     8265848|\n",
            "|2019-12-16|     8296050|\n",
            "|2019-12-15|     4968511|\n",
            "|2019-12-14|     7177937|\n",
            "|2019-12-13|     8993812|\n",
            "|2019-12-12|     8609254|\n",
            "+----------+------------+\n",
            "only showing top 20 rows\n",
            "\n"
          ]
        }
      ]
    },
    {
      "cell_type": "code",
      "metadata": {
        "id": "XmTe7F-6OQQl"
      },
      "source": [
        "# groupby만 했더니 정렬이 망가졌다. orderBy를 통해 재정렬하였다.\n",
        "user_per_date = df.groupby('`사용일자`').agg(F.sum('`승차총승객수`').alias('일별이용자수')).orderBy(F.asc('`사용일자`'))"
      ],
      "execution_count": null,
      "outputs": []
    },
    {
      "cell_type": "code",
      "metadata": {
        "id": "x0OBN_LoOg3f"
      },
      "source": [
        "# 그래프를 그리기 위해 판다스로 변환\n",
        "user_per_date = user_per_date.select(\"*\").toPandas()"
      ],
      "execution_count": null,
      "outputs": []
    },
    {
      "cell_type": "code",
      "metadata": {
        "colab": {
          "base_uri": "https://localhost:8080/",
          "height": 419
        },
        "id": "atUASoegQIJF",
        "outputId": "9a50e93f-ed0f-432e-cb47-5ec6fee52c78"
      },
      "source": [
        "user_per_date"
      ],
      "execution_count": null,
      "outputs": [
        {
          "output_type": "execute_result",
          "data": {
            "text/html": [
              "<div>\n",
              "<style scoped>\n",
              "    .dataframe tbody tr th:only-of-type {\n",
              "        vertical-align: middle;\n",
              "    }\n",
              "\n",
              "    .dataframe tbody tr th {\n",
              "        vertical-align: top;\n",
              "    }\n",
              "\n",
              "    .dataframe thead th {\n",
              "        text-align: right;\n",
              "    }\n",
              "</style>\n",
              "<table border=\"1\" class=\"dataframe\">\n",
              "  <thead>\n",
              "    <tr style=\"text-align: right;\">\n",
              "      <th></th>\n",
              "      <th>사용일자</th>\n",
              "      <th>일별이용자수</th>\n",
              "    </tr>\n",
              "  </thead>\n",
              "  <tbody>\n",
              "    <tr>\n",
              "      <th>0</th>\n",
              "      <td>2018-01-01</td>\n",
              "      <td>3520929</td>\n",
              "    </tr>\n",
              "    <tr>\n",
              "      <th>1</th>\n",
              "      <td>2018-01-02</td>\n",
              "      <td>7505016</td>\n",
              "    </tr>\n",
              "    <tr>\n",
              "      <th>2</th>\n",
              "      <td>2018-01-03</td>\n",
              "      <td>7681469</td>\n",
              "    </tr>\n",
              "    <tr>\n",
              "      <th>3</th>\n",
              "      <td>2018-01-04</td>\n",
              "      <td>7705415</td>\n",
              "    </tr>\n",
              "    <tr>\n",
              "      <th>4</th>\n",
              "      <td>2018-01-05</td>\n",
              "      <td>8134256</td>\n",
              "    </tr>\n",
              "    <tr>\n",
              "      <th>...</th>\n",
              "      <td>...</td>\n",
              "      <td>...</td>\n",
              "    </tr>\n",
              "    <tr>\n",
              "      <th>725</th>\n",
              "      <td>2019-12-27</td>\n",
              "      <td>8641121</td>\n",
              "    </tr>\n",
              "    <tr>\n",
              "      <th>726</th>\n",
              "      <td>2019-12-28</td>\n",
              "      <td>6567343</td>\n",
              "    </tr>\n",
              "    <tr>\n",
              "      <th>727</th>\n",
              "      <td>2019-12-29</td>\n",
              "      <td>4756871</td>\n",
              "    </tr>\n",
              "    <tr>\n",
              "      <th>728</th>\n",
              "      <td>2019-12-30</td>\n",
              "      <td>8059114</td>\n",
              "    </tr>\n",
              "    <tr>\n",
              "      <th>729</th>\n",
              "      <td>2019-12-31</td>\n",
              "      <td>7704492</td>\n",
              "    </tr>\n",
              "  </tbody>\n",
              "</table>\n",
              "<p>730 rows × 2 columns</p>\n",
              "</div>"
            ],
            "text/plain": [
              "           사용일자   일별이용자수\n",
              "0    2018-01-01  3520929\n",
              "1    2018-01-02  7505016\n",
              "2    2018-01-03  7681469\n",
              "3    2018-01-04  7705415\n",
              "4    2018-01-05  8134256\n",
              "..          ...      ...\n",
              "725  2019-12-27  8641121\n",
              "726  2019-12-28  6567343\n",
              "727  2019-12-29  4756871\n",
              "728  2019-12-30  8059114\n",
              "729  2019-12-31  7704492\n",
              "\n",
              "[730 rows x 2 columns]"
            ]
          },
          "metadata": {},
          "execution_count": 171
        }
      ]
    },
    {
      "cell_type": "markdown",
      "metadata": {
        "id": "BGFPXSGFDkIi"
      },
      "source": [
        "그래프 그리기"
      ]
    },
    {
      "cell_type": "code",
      "metadata": {
        "colab": {
          "base_uri": "https://localhost:8080/",
          "height": 378
        },
        "id": "sVn2CKM1QZLP",
        "outputId": "43f15b30-362e-449b-90a6-44652cff94ac"
      },
      "source": [
        "fig, ax = plt.subplots(figsize=(16,6))\n",
        "\n",
        "ax.plot(user_per_date.사용일자, user_per_date.일별이용자수/1000, label='expoential')\n",
        "\n",
        "plt.ylim([1000, 10000])\n",
        "plt.gca().yaxis.set_major_formatter(mticker.FormatStrFormatter('%i K'))\n",
        "leg = plt.legend()\n",
        "ax.get_legend().remove()\n",
        "\n",
        "plt.show() "
      ],
      "execution_count": null,
      "outputs": [
        {
          "output_type": "display_data",
          "data": {
            "image/png": "[encoded data removed]",
            "text/plain": [
              "<Figure size 1152x432 with 1 Axes>"
            ]
          },
          "metadata": {
            "needs_background": "light"
          }
        }
      ]
    }
  ]
}