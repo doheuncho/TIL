{
  "nbformat": 4,
  "nbformat_minor": 0,
  "metadata": {
    "colab": {
      "name": "week3_rotate_image_solutions.ipynb",
      "provenance": []
    },
    "kernelspec": {
      "name": "python3",
      "display_name": "Python 3"
    },
    "language_info": {
      "name": "python"
    }
  },
  "cells": [
    {
      "cell_type": "markdown",
      "metadata": {
        "id": "blnwco7VBMVI"
      },
      "source": [
        "<h1>이미지 회전</h1>\n",
        "<p>leetcode 48번 [링크](https://leetcode.com/problems/rotate-image/)</p>\n",
        "<br>\n",
        "<br>\n",
        "<h2>문제</h2>\n",
        "<p>n x n 크기의 2차원 배열이 주어졌을 때, 그 배열을 시계방향으로 90도 회전 시켜라.<br>\n",
        "단 회전은 [in-place](https://en.wikipedia.org/wiki/In-place_algorithm)방식으로 이루어져야 한다(즉, 회전을 위해 임의의 다른 배열을 생성하면 안된다.).</p>\n",
        "<br>\n",
        "<h2>INPUT</h2>\n",
        "<p>정수로 이루어진 nxn 배열 matrix를 입력받는다.</p>\n",
        "<h2>OUTPUT</h2>\n",
        "<p>시계방향으로 90도 회전시킨 후의 배열을 반환한다.</p>\n",
        "<br>\n",
        "<h2>입출력 예시</h2>\n",
        "<p>\n",
        "Input: matrix = [[1,2,3],[4,5,6],[7,8,9]]<br>\n",
        "Output: [[7,4,1],[8,5,2],[9,6,3]]<br>\n",
        "<br>\n",
        "Input: matrix = [[5,1,9,11],[2,4,8,10],[13,3,6,7],[15,14,12,16]]<br>\n",
        "Output: [[15,13,2,5],[14,3,4,1],[12,6,8,9],[16,7,10,11]]<br>\n",
        "<br>\n",
        "Input: matrix = [[1]]<br>\n",
        "Output: [[1]]<br>\n",
        "<br>\n",
        "Input: matrix = [[1,2],[3,4]]<br>\n",
        "Output: [[3,1],[4,2]]<br>\n",
        "</p>\n",
        "<br>\n",
        "<h2>제약조건</h2>\n",
        "<p>\n",
        "matrix.length == n<br>\n",
        "matrix[i].length == n<br>\n",
        "1 <= n <= 20<br>\n",
        "-1000 <= matrix[i][j] <= 1000<br>\n",
        "</p>\n",
        "<br>\n",
        "<br>"
      ]
    },
    {
      "cell_type": "markdown",
      "metadata": {
        "id": "0jHTHyWhBPDh"
      },
      "source": [
        "<h1>1.파이썬 다운 방식</h1>\n",
        "\n",
        "<p>파이썬의 내장함수 zip()을 이용하면 간단하게 구현할 수 있다. zip()과 배열의 회전에 관한 내용은 [이곳](https://velog.io/@shelly/python-zip-%EC%9C%BC%EB%A1%9C-%EB%B0%B0%EC%97%B4-%ED%9A%8C%EC%A0%84)에 잘 정리되어 있다.</p>"
      ]
    },
    {
      "cell_type": "code",
      "metadata": {
        "id": "_tFzVBOKBIV5"
      },
      "source": [
        "# 메모리 : 14.1 MB\n",
        "# 시간 : 31 ms\n",
        "\n",
        "\n",
        "class Solution:\n",
        "    def rotate(self, matrix: List[List[int]]) -> None:\n",
        "        matrix[:] = map(list, zip(*matrix[::-1]))"
      ],
      "execution_count": null,
      "outputs": []
    },
    {
      "cell_type": "markdown",
      "metadata": {
        "id": "MbjOd5j2M2P-"
      },
      "source": [
        "<h1>2.리스트 컴프리헨션</h1>\n",
        "\n",
        "<p>zip()함수가 생소해 마음에 들지 않는다면 리스트 컴프리헨션을 이용해 구현할 수도 있다.</p>"
      ]
    },
    {
      "cell_type": "code",
      "metadata": {
        "id": "w2SS8EuQM2jB"
      },
      "source": [
        "# 메모리 : 14.2 MB\n",
        "# 시간 : 43 ms\n",
        "\n",
        "\n",
        "class Solution:\n",
        "    def rotate(self, matrix: List[List[int]]) -> None:\n",
        "        matrix[:] = [[row[i] for row in matrix[::-1]] for i in range(len(matrix))]\n"
      ],
      "execution_count": null,
      "outputs": []
    },
    {
      "cell_type": "markdown",
      "metadata": {
        "id": "IYIWrdn6D2Zp"
      },
      "source": [
        "<h1>3.그룹으로 묶어 회전</h1>\n",
        "\n",
        "<p>90도로 회전시키는 작업은, 4개의 원소씩 묶어 서로 위치를 바꾸어주는 작업을 여러번 반복함으로써 끝낼 수 있다(정사각행렬의 네 꼭지점을 생각하면 쉽다.).</p>"
      ]
    },
    {
      "cell_type": "code",
      "metadata": {
        "id": "9Nin4TdsD19N"
      },
      "source": [
        "# 메모리 : 14.0 MB\n",
        "# 시간 : 36 ms\n",
        "\n",
        "\n",
        "class Solution:\n",
        "    def rotate(self, matrix: List[List[int]]) -> None:\n",
        "        n = len(matrix[0])\n",
        "        # 주어진 행렬을 4분할 하여 그중 한 분할의 셀을 temp에 저장하고 나머지 3개 분할의 셀 3개와 함께 서로 위치를 바꾸어줌.\n",
        "        for i in range(n // 2 + n % 2):\n",
        "            for j in range(n // 2):\n",
        "                temp = matrix[n - 1 - j][i]\n",
        "                matrix[n - 1 - j][i] = matrix[n - 1 - i][n - j - 1]\n",
        "                matrix[n - 1 - i][n - j - 1] = matrix[j][n - 1 -i]\n",
        "                matrix[j][n - 1 - i] = matrix[i][j]\n",
        "                matrix[i][j] = temp\n"
      ],
      "execution_count": null,
      "outputs": []
    },
    {
      "cell_type": "markdown",
      "metadata": {
        "id": "iPNvvNg7Ks-K"
      },
      "source": [
        "<h1>4-1.전치 후 뒤집기.</h1>\n",
        "\n",
        "<p>조금 수학적으로 접근한다면, 시계방향으로 90도로 회전시키는 행위는 주 대각선을 기준으로 뒤집은 다음(전치), 행을 기준으로 뒤집어주는 것과 같다(뒤집는 순서는 상관없다.).</p>"
      ]
    },
    {
      "cell_type": "code",
      "metadata": {
        "id": "OunjpjKqKtRQ"
      },
      "source": [
        "# 메모리 : 14.4 MB\n",
        "# 시간 : 36 ms\n",
        "\n",
        "\n",
        "class Solution:\n",
        "    def rotate(self, matrix: List[List[int]]) -> None:\n",
        "        self.transpose(matrix)\n",
        "        self.reflect(matrix)\n",
        "    \n",
        "    # 전치\n",
        "    def transpose(self, matrix):\n",
        "        n = len(matrix)\n",
        "        for i in range(n):\n",
        "            for j in range(i, n):\n",
        "                matrix[j][i], matrix[i][j] = matrix[i][j], matrix[j][i]\n",
        "\n",
        "    # 뒤집기\n",
        "    def reflect(self, matrix):\n",
        "        n = len(matrix)\n",
        "        for i in range(n):\n",
        "            for j in range(n // 2):\n",
        "                matrix[i][j], matrix[i][-j - 1] = matrix[i][-j - 1], matrix[i][j]\n"
      ],
      "execution_count": null,
      "outputs": []
    },
    {
      "cell_type": "markdown",
      "metadata": {
        "id": "oAkfq87aOOSD"
      },
      "source": [
        "<h1>4-2.전치 후 뒤집기.</h1>\n",
        "\n",
        "<p>따로 함수를 정의하기 싫다면 아래와 같이 reverse()를 이용해 뒤집어도 된다.</p>"
      ]
    },
    {
      "cell_type": "code",
      "metadata": {
        "id": "OUQFIL4bOOje"
      },
      "source": [
        "# 메모리 : 14.4 MB\n",
        "# 시간 : 47 ms\n",
        "\n",
        "\n",
        "class Solution:\n",
        "    def rotate(self, matrix: List[List[int]]) -> None:\n",
        "        # 뒤집기\n",
        "        matrix.reverse()\n",
        "        # 전치\n",
        "        for i in range(len(matrix)):\n",
        "            for j in range(i):\n",
        "                matrix[i][j], matrix[j][i] = matrix[j][i], matrix[i][j]\n"
      ],
      "execution_count": null,
      "outputs": []
    }
  ]
}