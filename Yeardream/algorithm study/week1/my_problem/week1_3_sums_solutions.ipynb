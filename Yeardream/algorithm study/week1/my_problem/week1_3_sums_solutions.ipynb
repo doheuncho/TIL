{
  "cells": [
    {
      "cell_type": "markdown",
      "metadata": {
        "id": "uRlWCB0szLBj"
      },
      "source": [
        "<h1>3.세 수의 합</h1>\n",
        "<p>leetcode 15번 [링크](https://leetcode.com/problems/3sum/)</p>\n",
        "\n",
        "</br>\n",
        "<h2>INPUT</h2>\n",
        "<p>정수로 이루어진 배열 nums를 입력받는다.</p>\n",
        "\n",
        "<h2>OUTPUT</h2>\n",
        "<p>세 수를 더한 합이 0이되는 가능한 모든 원소의 조합을 반환한다.(단, 중복된 조합의 세 쌍은 제외한다.)<br>\n",
        "가능한 조합이 없을경우 빈 리스트를 반환한다.\n",
        "</p>\n",
        "<h2>입출력 예시</h2>\n",
        "<p>\n",
        "Input: nums = [-1,0,1,2,-1,-4]<br>\n",
        "Output: [[-1,-1,2],[-1,0,1]]<br><br>\n",
        "Input: nums = []<br>\n",
        "Output: []<br><br>\n",
        "Input: nums = [0]<br>\n",
        "Output: []<br>\n",
        "</p>"
      ]
    },
    {
      "cell_type": "markdown",
      "metadata": {
        "id": "xk00uX1l90BE"
      },
      "source": [
        "<h1>0.완전 탐색을 이용한 풀이</h1>\n",
        "\n",
        "<p>시간복잡도 O(n log n + n^3) = O(n^3)으로 이대로 풀 경우 제한시간을 초과한다.</p>"
      ]
    },
    {
      "cell_type": "code",
      "execution_count": null,
      "metadata": {
        "id": "NsqW-z8rzKmP"
      },
      "outputs": [],
      "source": [
        "# 아래 모듈은 leetcode 에디터에 이미 import 되어있다.\n",
        "from typing import *\n",
        "\n",
        "\n",
        "class Solution:\n",
        "    def threeSum(self, nums: List[int]) -> List[List[int]]:\n",
        "        result = []\n",
        "        nums_length = len(nums)\n",
        "        # 중복 케이스처리를 위해 정렬\n",
        "        nums.sort()\n",
        "\n",
        "        # 반복문을 통한 완전탐색, i <= j <= k 순으로 선택한다.\n",
        "        for i in range(nums_length - 2):\n",
        "            # 합이 0이 되려면 최소 1개의 원소는 0 이하여야 한다.\n",
        "            if nums[i] > 0:\n",
        "                break\n",
        "            # i 에 대한 중복 케이스 처리\n",
        "            if i > 0 and nums[i] == nums[i-1]:\n",
        "                continue\n",
        "            for j in range(i + 1, nums_length - 1):\n",
        "                # j 에 대한 중복 케이스 처리\n",
        "                if j > i + 1 and nums[j] == nums[j-1]:\n",
        "                    continue\n",
        "                for k in range(j + 1, nums_length):\n",
        "                    # k 에 대한 중복 케이스 처리\n",
        "                    if k > j + 1 and nums[k] == nums[k-1]:\n",
        "                        continue\n",
        "                    if nums[i] + nums[j] + nums[k] == 0:\n",
        "                        result.append([nums[i], nums[j], nums[k]])\n",
        "        return result\n"
      ]
    },
    {
      "cell_type": "markdown",
      "metadata": {
        "id": "Z_P0yX7m_tLp"
      },
      "source": [
        "<h1>1.투 포인터를 이용한 풀이</h1>\n",
        "\n",
        "<p>배열을 정렬 한 후, 가장 작은 숫자를 먼저 선택하고 나머지 숫자들 중 가장 작은수를 left포인터에, 가장 큰 수를 right포인터에 할당한다.<br>\n",
        "그 후 세 수의 합이 0보다 작다면 left포인터를 증가시키고, 0보다 크다면 right 포인터를 감소시켜 합이 0이 되는 조합을 찾는 과정을 반복한다.<br>\n",
        "시간복잡도 O(n log n + n^2) = O(n^2)로 제한시간 내에 풀이가 가능하다.</p>"
      ]
    },
    {
      "cell_type": "code",
      "execution_count": null,
      "metadata": {
        "id": "OSEM6LKl_tcE"
      },
      "outputs": [],
      "source": [
        "# 아래 모듈은 leetcode 에디터에 이미 import 되어있다.\n",
        "from typing import *\n",
        "\n",
        "\n",
        "class Solution:\n",
        "    def threeSum(self, nums: List[int]) -> List[List[int]]:\n",
        "        results = []\n",
        "        nums_length = len(nums)\n",
        "        # 중복 케이스처리를 위해 정렬\n",
        "        nums.sort()\n",
        "\n",
        "        for i in range(nums_length - 2):\n",
        "            # 합이 0이 되려면 최소 1개의 원소는 0 이하여야 한다.\n",
        "            if nums[i] > 0:\n",
        "                break\n",
        "            # i에 대한 중복 케이스 처리\n",
        "            if i > 0 and nums[i] == nums[i - 1]:\n",
        "                continue\n",
        "            # 투 포인터 생성\n",
        "            left, right = i + 1, nums_length - 1\n",
        "            while left < right:\n",
        "                sum = nums[i] + nums[left] + nums[right]\n",
        "                if sum < 0:\n",
        "                    left += 1\n",
        "                elif sum > 0:\n",
        "                    right -= 1\n",
        "                else:\n",
        "                    results.append([nums[i], nums[left], nums[right]])\n",
        "                    # 각 pointer 에 대한 중복 케이스 처리\n",
        "                    while left < right and nums[left] == nums[left + 1]:\n",
        "                        left += 1\n",
        "                    while left < right and nums[right] == nums[right - 1]:\n",
        "                        right -= 1\n",
        "                    left += 1\n",
        "                    right -= 1\n",
        "\n",
        "        return results\n"
      ]
    },
    {
      "cell_type": "markdown",
      "metadata": {
        "id": "EafqEQwk_xfo"
      },
      "source": [
        "<h1>2.집합(set)을 이용한 풀이</h1>\n",
        "\n",
        "<p>정렬 후 가장 작은 수를 택하고 투 포인터를 이용한 풀이처럼 나머지 두 수를 선택하는 방식으로 접근한다.<br>\n",
        "함수 twosum은 주어진 배열 nums와 현재 선택한 숫자의 주소 i, 결과를 저장할 배열 result를 입력받는다.<br>\n",
        "twosum에서는 반복문을 통해 nums내의 다른 숫자 nums[j]를 탐색하고 아래 조건을 확인한 후 nums[j]를 집합 seen에 저장한다.<br>\n",
        "만약 -(nums[i] + nums[j])가 이미 집합 seen의 원소라면, nums[i], nums[j] 그리고 그 원소를 result에 저장해 준다.<br>\n",
        "이 풀이도 마찬가지로 시간복잡도 O(n log n + n^2) = O(n^2)로 제한시간 내에 풀이가 가능하다.</p>"
      ]
    },
    {
      "cell_type": "code",
      "execution_count": null,
      "metadata": {
        "id": "dUZGl0et_wxX"
      },
      "outputs": [],
      "source": [
        "# 아래 모듈은 leetcode 에디터에 이미 import 되어있다.\n",
        "from typing import *\n",
        "\n",
        "\n",
        "class Solution:\n",
        "    def threeSum(self, nums: List[int]) -> List[List[int]]:\n",
        "        result = []\n",
        "        # 케이스 처리를 위해 정렬한다.\n",
        "        nums.sort()\n",
        "        for i in range(len(nums)):\n",
        "            # 합이 0이 되려면 최소 1개의 원소는 0 이하여야 한다.\n",
        "            if nums[i] > 0:\n",
        "                break\n",
        "            # 중복 케이스 처리\n",
        "            if i == 0 or nums[i - 1] != nums[i]:\n",
        "                self.twosum(nums, i, result)\n",
        "        return result\n",
        "\n",
        "    # 나머지 두 수의 합을 구해 세 수의 합이 0이면 result에 결과를 추가하는 함수.\n",
        "    def twosum(self, nums: List[int], i: int, result: List[List[int]]):\n",
        "        # 이전에 살펴본 nums[j]값들을 저장할 set 을 만든다.\n",
        "        seen = set()\n",
        "        j = i + 1\n",
        "        while j < len(nums):\n",
        "            complement = -(nums[i] + nums[j])\n",
        "            # 만약 complement가 seen의 원소라면, nums[i] + nums[j] + complement = 0이다.\n",
        "            if complement in seen:\n",
        "                result.append([nums[i], nums[j], complement])\n",
        "                # 중복 케이스 처리\n",
        "                while j + 1 < len(nums) and nums[j] == nums[j + 1]:\n",
        "                    j += 1\n",
        "            seen.add(nums[j])\n",
        "            j += 1\n"
      ]
    },
    {
      "cell_type": "markdown",
      "metadata": {
        "id": "aGQ4Z5f9DiOA"
      },
      "source": [
        "<h1>3.정렬을 사용하지 않은 풀이</h1>\n",
        "\n",
        "<p>앞의 집합을 이용한 풀이에서 정렬을 사용하지 않고, 집합과 딕셔너리를 이용해 위 풀이에서의 함수 twosum을 구현한다.<br>\n",
        "정렬을 사용하지 않았기 때문에 시간복잡도 O(n^2)의 값을 가진다.</p>"
      ]
    },
    {
      "cell_type": "code",
      "execution_count": null,
      "metadata": {
        "id": "GFUVOosnDigA"
      },
      "outputs": [],
      "source": [
        "# 아래 모듈은 leetcode 에디터에 이미 import 되어있다.\n",
        "from typing import *\n",
        "\n",
        "\n",
        "class Solution:\n",
        "    def threeSum(self, nums: List[int]) -> List[List[int]]:\n",
        "        # 결과를 저장할 set과 중복 케이스 처리를 위한 set 생성.\n",
        "        result, duplicate = set(), set()\n",
        "        # 합이 0인 케이스를 판단하기 위한 dictionary 생성\n",
        "        seen = {}\n",
        "        for i, val1 in enumerate(nums):\n",
        "            # 중복 케이스 처리\n",
        "            if val1 not in duplicate:\n",
        "                duplicate.add(val1)\n",
        "                for j, val2 in enumerate(nums[i+1:]):\n",
        "                    complement = -val1 - val2\n",
        "                    # 만약 complement가 seen의 key값 중 하나고, 그 value가 i라면, nums[i] + nums[j] + complement = 0이다.\n",
        "                    if complement in seen and seen[complement] == i:\n",
        "                        result.add(tuple(sorted((val1, val2, complement))))\n",
        "                    # nums[j] 값을 key로, i값을 value로 가지는 원소 추가.\n",
        "                    seen[val2] = i\n",
        "        return result\n"
      ]
    }
  ],
  "metadata": {
    "colab": {
      "collapsed_sections": [],
      "name": "week1_3_sums_solutions.ipynb",
      "provenance": []
    },
    "kernelspec": {
      "display_name": "Python 3",
      "name": "python3"
    },
    "language_info": {
      "name": "python"
    }
  },
  "nbformat": 4,
  "nbformat_minor": 0
}
