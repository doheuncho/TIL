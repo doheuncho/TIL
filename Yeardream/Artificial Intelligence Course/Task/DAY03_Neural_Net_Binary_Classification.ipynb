{
  "cells": [
    {
      "cell_type": "markdown",
      "metadata": {
        "id": "IvNKy8wnIWnC"
      },
      "source": [
        "## Binary Classification - Titanic: Machine Learning from Disaster\n",
        "\n",
        "https://www.kaggle.com/c/titanic\n",
        "\n",
        "- 유명한 자료인 타이타닉 데이터 셋으로 생존과 사망에 대한 분류 문제를 풀어보도록 하겠습니다."
      ]
    },
    {
      "cell_type": "code",
      "source": [
        "from google.colab import drive\n",
        "drive.mount('/content/drive')"
      ],
      "metadata": {
        "colab": {
          "base_uri": "https://localhost:8080/"
        },
        "id": "HtKL7Uo405JL",
        "outputId": "3fe1a3e3-7457-4ad8-a832-0e8585cf9f7a"
      },
      "execution_count": 1,
      "outputs": [
        {
          "output_type": "stream",
          "name": "stdout",
          "text": [
            "Mounted at /content/drive\n"
          ]
        }
      ]
    },
    {
      "cell_type": "markdown",
      "metadata": {
        "id": "e_E7j0LNIWnL"
      },
      "source": [
        "![대체 텍스트](./figures/binary.png)"
      ]
    },
    {
      "cell_type": "code",
      "execution_count": 2,
      "metadata": {
        "ExecuteTime": {
          "end_time": "2018-10-28T07:34:29.202719Z",
          "start_time": "2018-10-28T07:34:29.192102Z"
        },
        "id": "agnpS74dIWnN",
        "scrolled": true,
        "colab": {
          "base_uri": "https://localhost:8080/"
        },
        "outputId": "8466f4bd-8551-4762-9701-10c235ac91c7"
      },
      "outputs": [
        {
          "output_type": "execute_result",
          "data": {
            "text/plain": [
              "<torch._C.Generator at 0x7f01dfd6b710>"
            ]
          },
          "metadata": {},
          "execution_count": 2
        }
      ],
      "source": [
        "import torch\n",
        "import torch.nn as nn\n",
        "import torch.optim as optim\n",
        "import numpy as np\n",
        "import random\n",
        "import pandas as pd\n",
        "import matplotlib.pyplot as plt \n",
        "\n",
        "\n",
        "random.seed(1215)\n",
        "torch.manual_seed(1215)"
      ]
    },
    {
      "cell_type": "code",
      "execution_count": 3,
      "metadata": {
        "ExecuteTime": {
          "end_time": "2018-10-28T06:53:30.685976Z",
          "start_time": "2018-10-28T06:53:25.255348Z"
        },
        "id": "u7zoHxKMIWnR"
      },
      "outputs": [],
      "source": [
        "from torch.utils.data import Dataset\n",
        "from torch.utils.data import DataLoader\n",
        "from sklearn.preprocessing import StandardScaler\n",
        "from sklearn.metrics import accuracy_score\n",
        "from sklearn.model_selection import train_test_split"
      ]
    },
    {
      "cell_type": "markdown",
      "metadata": {
        "id": "_PNAJqoBIWnS"
      },
      "source": [
        "# Load Data"
      ]
    },
    {
      "cell_type": "code",
      "execution_count": 6,
      "metadata": {
        "ExecuteTime": {
          "end_time": "2018-10-28T07:48:19.716052Z",
          "start_time": "2018-10-28T07:48:19.695224Z"
        },
        "id": "cKCmYPNKIWnT"
      },
      "outputs": [],
      "source": [
        "import pandas as pd\n",
        "import os\n",
        "\n",
        "\n",
        "os.chdir('/content/drive/MyDrive/Colab Notebooks/수업/20211223(deeplearning)') \n",
        "train_data = pd.read_csv(\"./data/titanic/train.csv\")\n",
        "test_data = pd.read_csv(\"./data/titanic/test.csv\")"
      ]
    },
    {
      "cell_type": "code",
      "execution_count": 7,
      "metadata": {
        "ExecuteTime": {
          "end_time": "2018-10-28T07:48:20.005530Z",
          "start_time": "2018-10-28T07:48:19.985459Z"
        },
        "id": "mrFf4fedIWnU",
        "colab": {
          "base_uri": "https://localhost:8080/",
          "height": 407
        },
        "outputId": "716eeed7-6892-4a85-f2ac-7dbfb99fed7c"
      },
      "outputs": [
        {
          "output_type": "execute_result",
          "data": {
            "text/html": [
              "\n",
              "  <div id=\"df-5cbc2b9c-9f59-43a2-aab0-65af8dd12c80\">\n",
              "    <div class=\"colab-df-container\">\n",
              "      <div>\n",
              "<style scoped>\n",
              "    .dataframe tbody tr th:only-of-type {\n",
              "        vertical-align: middle;\n",
              "    }\n",
              "\n",
              "    .dataframe tbody tr th {\n",
              "        vertical-align: top;\n",
              "    }\n",
              "\n",
              "    .dataframe thead th {\n",
              "        text-align: right;\n",
              "    }\n",
              "</style>\n",
              "<table border=\"1\" class=\"dataframe\">\n",
              "  <thead>\n",
              "    <tr style=\"text-align: right;\">\n",
              "      <th></th>\n",
              "      <th>PassengerId</th>\n",
              "      <th>Survived</th>\n",
              "      <th>Pclass</th>\n",
              "      <th>Name</th>\n",
              "      <th>Sex</th>\n",
              "      <th>Age</th>\n",
              "      <th>SibSp</th>\n",
              "      <th>Parch</th>\n",
              "      <th>Ticket</th>\n",
              "      <th>Fare</th>\n",
              "      <th>Cabin</th>\n",
              "      <th>Embarked</th>\n",
              "    </tr>\n",
              "  </thead>\n",
              "  <tbody>\n",
              "    <tr>\n",
              "      <th>0</th>\n",
              "      <td>1</td>\n",
              "      <td>0</td>\n",
              "      <td>3</td>\n",
              "      <td>Braund, Mr. Owen Harris</td>\n",
              "      <td>male</td>\n",
              "      <td>22.0</td>\n",
              "      <td>1</td>\n",
              "      <td>0</td>\n",
              "      <td>A/5 21171</td>\n",
              "      <td>7.2500</td>\n",
              "      <td>NaN</td>\n",
              "      <td>S</td>\n",
              "    </tr>\n",
              "    <tr>\n",
              "      <th>1</th>\n",
              "      <td>2</td>\n",
              "      <td>1</td>\n",
              "      <td>1</td>\n",
              "      <td>Cumings, Mrs. John Bradley (Florence Briggs Th...</td>\n",
              "      <td>female</td>\n",
              "      <td>38.0</td>\n",
              "      <td>1</td>\n",
              "      <td>0</td>\n",
              "      <td>PC 17599</td>\n",
              "      <td>71.2833</td>\n",
              "      <td>C85</td>\n",
              "      <td>C</td>\n",
              "    </tr>\n",
              "    <tr>\n",
              "      <th>2</th>\n",
              "      <td>3</td>\n",
              "      <td>1</td>\n",
              "      <td>3</td>\n",
              "      <td>Heikkinen, Miss. Laina</td>\n",
              "      <td>female</td>\n",
              "      <td>26.0</td>\n",
              "      <td>0</td>\n",
              "      <td>0</td>\n",
              "      <td>STON/O2. 3101282</td>\n",
              "      <td>7.9250</td>\n",
              "      <td>NaN</td>\n",
              "      <td>S</td>\n",
              "    </tr>\n",
              "    <tr>\n",
              "      <th>3</th>\n",
              "      <td>4</td>\n",
              "      <td>1</td>\n",
              "      <td>1</td>\n",
              "      <td>Futrelle, Mrs. Jacques Heath (Lily May Peel)</td>\n",
              "      <td>female</td>\n",
              "      <td>35.0</td>\n",
              "      <td>1</td>\n",
              "      <td>0</td>\n",
              "      <td>113803</td>\n",
              "      <td>53.1000</td>\n",
              "      <td>C123</td>\n",
              "      <td>S</td>\n",
              "    </tr>\n",
              "    <tr>\n",
              "      <th>4</th>\n",
              "      <td>5</td>\n",
              "      <td>0</td>\n",
              "      <td>3</td>\n",
              "      <td>Allen, Mr. William Henry</td>\n",
              "      <td>male</td>\n",
              "      <td>35.0</td>\n",
              "      <td>0</td>\n",
              "      <td>0</td>\n",
              "      <td>373450</td>\n",
              "      <td>8.0500</td>\n",
              "      <td>NaN</td>\n",
              "      <td>S</td>\n",
              "    </tr>\n",
              "    <tr>\n",
              "      <th>5</th>\n",
              "      <td>6</td>\n",
              "      <td>0</td>\n",
              "      <td>3</td>\n",
              "      <td>Moran, Mr. James</td>\n",
              "      <td>male</td>\n",
              "      <td>NaN</td>\n",
              "      <td>0</td>\n",
              "      <td>0</td>\n",
              "      <td>330877</td>\n",
              "      <td>8.4583</td>\n",
              "      <td>NaN</td>\n",
              "      <td>Q</td>\n",
              "    </tr>\n",
              "    <tr>\n",
              "      <th>6</th>\n",
              "      <td>7</td>\n",
              "      <td>0</td>\n",
              "      <td>1</td>\n",
              "      <td>McCarthy, Mr. Timothy J</td>\n",
              "      <td>male</td>\n",
              "      <td>54.0</td>\n",
              "      <td>0</td>\n",
              "      <td>0</td>\n",
              "      <td>17463</td>\n",
              "      <td>51.8625</td>\n",
              "      <td>E46</td>\n",
              "      <td>S</td>\n",
              "    </tr>\n",
              "    <tr>\n",
              "      <th>7</th>\n",
              "      <td>8</td>\n",
              "      <td>0</td>\n",
              "      <td>3</td>\n",
              "      <td>Palsson, Master. Gosta Leonard</td>\n",
              "      <td>male</td>\n",
              "      <td>2.0</td>\n",
              "      <td>3</td>\n",
              "      <td>1</td>\n",
              "      <td>349909</td>\n",
              "      <td>21.0750</td>\n",
              "      <td>NaN</td>\n",
              "      <td>S</td>\n",
              "    </tr>\n",
              "    <tr>\n",
              "      <th>8</th>\n",
              "      <td>9</td>\n",
              "      <td>1</td>\n",
              "      <td>3</td>\n",
              "      <td>Johnson, Mrs. Oscar W (Elisabeth Vilhelmina Berg)</td>\n",
              "      <td>female</td>\n",
              "      <td>27.0</td>\n",
              "      <td>0</td>\n",
              "      <td>2</td>\n",
              "      <td>347742</td>\n",
              "      <td>11.1333</td>\n",
              "      <td>NaN</td>\n",
              "      <td>S</td>\n",
              "    </tr>\n",
              "    <tr>\n",
              "      <th>9</th>\n",
              "      <td>10</td>\n",
              "      <td>1</td>\n",
              "      <td>2</td>\n",
              "      <td>Nasser, Mrs. Nicholas (Adele Achem)</td>\n",
              "      <td>female</td>\n",
              "      <td>14.0</td>\n",
              "      <td>1</td>\n",
              "      <td>0</td>\n",
              "      <td>237736</td>\n",
              "      <td>30.0708</td>\n",
              "      <td>NaN</td>\n",
              "      <td>C</td>\n",
              "    </tr>\n",
              "  </tbody>\n",
              "</table>\n",
              "</div>\n",
              "      <button class=\"colab-df-convert\" onclick=\"convertToInteractive('df-5cbc2b9c-9f59-43a2-aab0-65af8dd12c80')\"\n",
              "              title=\"Convert this dataframe to an interactive table.\"\n",
              "              style=\"display:none;\">\n",
              "        \n",
              "  <svg xmlns=\"http://www.w3.org/2000/svg\" height=\"24px\"viewBox=\"0 0 24 24\"\n",
              "       width=\"24px\">\n",
              "    <path d=\"M0 0h24v24H0V0z\" fill=\"none\"/>\n",
              "    <path d=\"M18.56 5.44l.94 2.06.94-2.06 2.06-.94-2.06-.94-.94-2.06-.94 2.06-2.06.94zm-11 1L8.5 8.5l.94-2.06 2.06-.94-2.06-.94L8.5 2.5l-.94 2.06-2.06.94zm10 10l.94 2.06.94-2.06 2.06-.94-2.06-.94-.94-2.06-.94 2.06-2.06.94z\"/><path d=\"M17.41 7.96l-1.37-1.37c-.4-.4-.92-.59-1.43-.59-.52 0-1.04.2-1.43.59L10.3 9.45l-7.72 7.72c-.78.78-.78 2.05 0 2.83L4 21.41c.39.39.9.59 1.41.59.51 0 1.02-.2 1.41-.59l7.78-7.78 2.81-2.81c.8-.78.8-2.07 0-2.86zM5.41 20L4 18.59l7.72-7.72 1.47 1.35L5.41 20z\"/>\n",
              "  </svg>\n",
              "      </button>\n",
              "      \n",
              "  <style>\n",
              "    .colab-df-container {\n",
              "      display:flex;\n",
              "      flex-wrap:wrap;\n",
              "      gap: 12px;\n",
              "    }\n",
              "\n",
              "    .colab-df-convert {\n",
              "      background-color: #E8F0FE;\n",
              "      border: none;\n",
              "      border-radius: 50%;\n",
              "      cursor: pointer;\n",
              "      display: none;\n",
              "      fill: #1967D2;\n",
              "      height: 32px;\n",
              "      padding: 0 0 0 0;\n",
              "      width: 32px;\n",
              "    }\n",
              "\n",
              "    .colab-df-convert:hover {\n",
              "      background-color: #E2EBFA;\n",
              "      box-shadow: 0px 1px 2px rgba(60, 64, 67, 0.3), 0px 1px 3px 1px rgba(60, 64, 67, 0.15);\n",
              "      fill: #174EA6;\n",
              "    }\n",
              "\n",
              "    [theme=dark] .colab-df-convert {\n",
              "      background-color: #3B4455;\n",
              "      fill: #D2E3FC;\n",
              "    }\n",
              "\n",
              "    [theme=dark] .colab-df-convert:hover {\n",
              "      background-color: #434B5C;\n",
              "      box-shadow: 0px 1px 3px 1px rgba(0, 0, 0, 0.15);\n",
              "      filter: drop-shadow(0px 1px 2px rgba(0, 0, 0, 0.3));\n",
              "      fill: #FFFFFF;\n",
              "    }\n",
              "  </style>\n",
              "\n",
              "      <script>\n",
              "        const buttonEl =\n",
              "          document.querySelector('#df-5cbc2b9c-9f59-43a2-aab0-65af8dd12c80 button.colab-df-convert');\n",
              "        buttonEl.style.display =\n",
              "          google.colab.kernel.accessAllowed ? 'block' : 'none';\n",
              "\n",
              "        async function convertToInteractive(key) {\n",
              "          const element = document.querySelector('#df-5cbc2b9c-9f59-43a2-aab0-65af8dd12c80');\n",
              "          const dataTable =\n",
              "            await google.colab.kernel.invokeFunction('convertToInteractive',\n",
              "                                                     [key], {});\n",
              "          if (!dataTable) return;\n",
              "\n",
              "          const docLinkHtml = 'Like what you see? Visit the ' +\n",
              "            '<a target=\"_blank\" href=https://colab.research.google.com/notebooks/data_table.ipynb>data table notebook</a>'\n",
              "            + ' to learn more about interactive tables.';\n",
              "          element.innerHTML = '';\n",
              "          dataTable['output_type'] = 'display_data';\n",
              "          await google.colab.output.renderOutput(dataTable, element);\n",
              "          const docLink = document.createElement('div');\n",
              "          docLink.innerHTML = docLinkHtml;\n",
              "          element.appendChild(docLink);\n",
              "        }\n",
              "      </script>\n",
              "    </div>\n",
              "  </div>\n",
              "  "
            ],
            "text/plain": [
              "   PassengerId  Survived  Pclass  ...     Fare Cabin  Embarked\n",
              "0            1         0       3  ...   7.2500   NaN         S\n",
              "1            2         1       1  ...  71.2833   C85         C\n",
              "2            3         1       3  ...   7.9250   NaN         S\n",
              "3            4         1       1  ...  53.1000  C123         S\n",
              "4            5         0       3  ...   8.0500   NaN         S\n",
              "5            6         0       3  ...   8.4583   NaN         Q\n",
              "6            7         0       1  ...  51.8625   E46         S\n",
              "7            8         0       3  ...  21.0750   NaN         S\n",
              "8            9         1       3  ...  11.1333   NaN         S\n",
              "9           10         1       2  ...  30.0708   NaN         C\n",
              "\n",
              "[10 rows x 12 columns]"
            ]
          },
          "metadata": {},
          "execution_count": 7
        }
      ],
      "source": [
        "train_data.head(10)"
      ]
    },
    {
      "cell_type": "code",
      "execution_count": 8,
      "metadata": {
        "id": "r_q5oZyMIWnW",
        "colab": {
          "base_uri": "https://localhost:8080/",
          "height": 363
        },
        "outputId": "fad701b8-84dc-4322-8426-32275f8025bf"
      },
      "outputs": [
        {
          "output_type": "execute_result",
          "data": {
            "text/html": [
              "\n",
              "  <div id=\"df-d0804e43-8e22-4663-b1ff-cef695f28d69\">\n",
              "    <div class=\"colab-df-container\">\n",
              "      <div>\n",
              "<style scoped>\n",
              "    .dataframe tbody tr th:only-of-type {\n",
              "        vertical-align: middle;\n",
              "    }\n",
              "\n",
              "    .dataframe tbody tr th {\n",
              "        vertical-align: top;\n",
              "    }\n",
              "\n",
              "    .dataframe thead th {\n",
              "        text-align: right;\n",
              "    }\n",
              "</style>\n",
              "<table border=\"1\" class=\"dataframe\">\n",
              "  <thead>\n",
              "    <tr style=\"text-align: right;\">\n",
              "      <th></th>\n",
              "      <th>PassengerId</th>\n",
              "      <th>Pclass</th>\n",
              "      <th>Name</th>\n",
              "      <th>Sex</th>\n",
              "      <th>Age</th>\n",
              "      <th>SibSp</th>\n",
              "      <th>Parch</th>\n",
              "      <th>Ticket</th>\n",
              "      <th>Fare</th>\n",
              "      <th>Cabin</th>\n",
              "      <th>Embarked</th>\n",
              "    </tr>\n",
              "  </thead>\n",
              "  <tbody>\n",
              "    <tr>\n",
              "      <th>0</th>\n",
              "      <td>892</td>\n",
              "      <td>3</td>\n",
              "      <td>Kelly, Mr. James</td>\n",
              "      <td>male</td>\n",
              "      <td>34.5</td>\n",
              "      <td>0</td>\n",
              "      <td>0</td>\n",
              "      <td>330911</td>\n",
              "      <td>7.8292</td>\n",
              "      <td>NaN</td>\n",
              "      <td>Q</td>\n",
              "    </tr>\n",
              "    <tr>\n",
              "      <th>1</th>\n",
              "      <td>893</td>\n",
              "      <td>3</td>\n",
              "      <td>Wilkes, Mrs. James (Ellen Needs)</td>\n",
              "      <td>female</td>\n",
              "      <td>47.0</td>\n",
              "      <td>1</td>\n",
              "      <td>0</td>\n",
              "      <td>363272</td>\n",
              "      <td>7.0000</td>\n",
              "      <td>NaN</td>\n",
              "      <td>S</td>\n",
              "    </tr>\n",
              "    <tr>\n",
              "      <th>2</th>\n",
              "      <td>894</td>\n",
              "      <td>2</td>\n",
              "      <td>Myles, Mr. Thomas Francis</td>\n",
              "      <td>male</td>\n",
              "      <td>62.0</td>\n",
              "      <td>0</td>\n",
              "      <td>0</td>\n",
              "      <td>240276</td>\n",
              "      <td>9.6875</td>\n",
              "      <td>NaN</td>\n",
              "      <td>Q</td>\n",
              "    </tr>\n",
              "    <tr>\n",
              "      <th>3</th>\n",
              "      <td>895</td>\n",
              "      <td>3</td>\n",
              "      <td>Wirz, Mr. Albert</td>\n",
              "      <td>male</td>\n",
              "      <td>27.0</td>\n",
              "      <td>0</td>\n",
              "      <td>0</td>\n",
              "      <td>315154</td>\n",
              "      <td>8.6625</td>\n",
              "      <td>NaN</td>\n",
              "      <td>S</td>\n",
              "    </tr>\n",
              "    <tr>\n",
              "      <th>4</th>\n",
              "      <td>896</td>\n",
              "      <td>3</td>\n",
              "      <td>Hirvonen, Mrs. Alexander (Helga E Lindqvist)</td>\n",
              "      <td>female</td>\n",
              "      <td>22.0</td>\n",
              "      <td>1</td>\n",
              "      <td>1</td>\n",
              "      <td>3101298</td>\n",
              "      <td>12.2875</td>\n",
              "      <td>NaN</td>\n",
              "      <td>S</td>\n",
              "    </tr>\n",
              "    <tr>\n",
              "      <th>5</th>\n",
              "      <td>897</td>\n",
              "      <td>3</td>\n",
              "      <td>Svensson, Mr. Johan Cervin</td>\n",
              "      <td>male</td>\n",
              "      <td>14.0</td>\n",
              "      <td>0</td>\n",
              "      <td>0</td>\n",
              "      <td>7538</td>\n",
              "      <td>9.2250</td>\n",
              "      <td>NaN</td>\n",
              "      <td>S</td>\n",
              "    </tr>\n",
              "    <tr>\n",
              "      <th>6</th>\n",
              "      <td>898</td>\n",
              "      <td>3</td>\n",
              "      <td>Connolly, Miss. Kate</td>\n",
              "      <td>female</td>\n",
              "      <td>30.0</td>\n",
              "      <td>0</td>\n",
              "      <td>0</td>\n",
              "      <td>330972</td>\n",
              "      <td>7.6292</td>\n",
              "      <td>NaN</td>\n",
              "      <td>Q</td>\n",
              "    </tr>\n",
              "    <tr>\n",
              "      <th>7</th>\n",
              "      <td>899</td>\n",
              "      <td>2</td>\n",
              "      <td>Caldwell, Mr. Albert Francis</td>\n",
              "      <td>male</td>\n",
              "      <td>26.0</td>\n",
              "      <td>1</td>\n",
              "      <td>1</td>\n",
              "      <td>248738</td>\n",
              "      <td>29.0000</td>\n",
              "      <td>NaN</td>\n",
              "      <td>S</td>\n",
              "    </tr>\n",
              "    <tr>\n",
              "      <th>8</th>\n",
              "      <td>900</td>\n",
              "      <td>3</td>\n",
              "      <td>Abrahim, Mrs. Joseph (Sophie Halaut Easu)</td>\n",
              "      <td>female</td>\n",
              "      <td>18.0</td>\n",
              "      <td>0</td>\n",
              "      <td>0</td>\n",
              "      <td>2657</td>\n",
              "      <td>7.2292</td>\n",
              "      <td>NaN</td>\n",
              "      <td>C</td>\n",
              "    </tr>\n",
              "    <tr>\n",
              "      <th>9</th>\n",
              "      <td>901</td>\n",
              "      <td>3</td>\n",
              "      <td>Davies, Mr. John Samuel</td>\n",
              "      <td>male</td>\n",
              "      <td>21.0</td>\n",
              "      <td>2</td>\n",
              "      <td>0</td>\n",
              "      <td>A/4 48871</td>\n",
              "      <td>24.1500</td>\n",
              "      <td>NaN</td>\n",
              "      <td>S</td>\n",
              "    </tr>\n",
              "  </tbody>\n",
              "</table>\n",
              "</div>\n",
              "      <button class=\"colab-df-convert\" onclick=\"convertToInteractive('df-d0804e43-8e22-4663-b1ff-cef695f28d69')\"\n",
              "              title=\"Convert this dataframe to an interactive table.\"\n",
              "              style=\"display:none;\">\n",
              "        \n",
              "  <svg xmlns=\"http://www.w3.org/2000/svg\" height=\"24px\"viewBox=\"0 0 24 24\"\n",
              "       width=\"24px\">\n",
              "    <path d=\"M0 0h24v24H0V0z\" fill=\"none\"/>\n",
              "    <path d=\"M18.56 5.44l.94 2.06.94-2.06 2.06-.94-2.06-.94-.94-2.06-.94 2.06-2.06.94zm-11 1L8.5 8.5l.94-2.06 2.06-.94-2.06-.94L8.5 2.5l-.94 2.06-2.06.94zm10 10l.94 2.06.94-2.06 2.06-.94-2.06-.94-.94-2.06-.94 2.06-2.06.94z\"/><path d=\"M17.41 7.96l-1.37-1.37c-.4-.4-.92-.59-1.43-.59-.52 0-1.04.2-1.43.59L10.3 9.45l-7.72 7.72c-.78.78-.78 2.05 0 2.83L4 21.41c.39.39.9.59 1.41.59.51 0 1.02-.2 1.41-.59l7.78-7.78 2.81-2.81c.8-.78.8-2.07 0-2.86zM5.41 20L4 18.59l7.72-7.72 1.47 1.35L5.41 20z\"/>\n",
              "  </svg>\n",
              "      </button>\n",
              "      \n",
              "  <style>\n",
              "    .colab-df-container {\n",
              "      display:flex;\n",
              "      flex-wrap:wrap;\n",
              "      gap: 12px;\n",
              "    }\n",
              "\n",
              "    .colab-df-convert {\n",
              "      background-color: #E8F0FE;\n",
              "      border: none;\n",
              "      border-radius: 50%;\n",
              "      cursor: pointer;\n",
              "      display: none;\n",
              "      fill: #1967D2;\n",
              "      height: 32px;\n",
              "      padding: 0 0 0 0;\n",
              "      width: 32px;\n",
              "    }\n",
              "\n",
              "    .colab-df-convert:hover {\n",
              "      background-color: #E2EBFA;\n",
              "      box-shadow: 0px 1px 2px rgba(60, 64, 67, 0.3), 0px 1px 3px 1px rgba(60, 64, 67, 0.15);\n",
              "      fill: #174EA6;\n",
              "    }\n",
              "\n",
              "    [theme=dark] .colab-df-convert {\n",
              "      background-color: #3B4455;\n",
              "      fill: #D2E3FC;\n",
              "    }\n",
              "\n",
              "    [theme=dark] .colab-df-convert:hover {\n",
              "      background-color: #434B5C;\n",
              "      box-shadow: 0px 1px 3px 1px rgba(0, 0, 0, 0.15);\n",
              "      filter: drop-shadow(0px 1px 2px rgba(0, 0, 0, 0.3));\n",
              "      fill: #FFFFFF;\n",
              "    }\n",
              "  </style>\n",
              "\n",
              "      <script>\n",
              "        const buttonEl =\n",
              "          document.querySelector('#df-d0804e43-8e22-4663-b1ff-cef695f28d69 button.colab-df-convert');\n",
              "        buttonEl.style.display =\n",
              "          google.colab.kernel.accessAllowed ? 'block' : 'none';\n",
              "\n",
              "        async function convertToInteractive(key) {\n",
              "          const element = document.querySelector('#df-d0804e43-8e22-4663-b1ff-cef695f28d69');\n",
              "          const dataTable =\n",
              "            await google.colab.kernel.invokeFunction('convertToInteractive',\n",
              "                                                     [key], {});\n",
              "          if (!dataTable) return;\n",
              "\n",
              "          const docLinkHtml = 'Like what you see? Visit the ' +\n",
              "            '<a target=\"_blank\" href=https://colab.research.google.com/notebooks/data_table.ipynb>data table notebook</a>'\n",
              "            + ' to learn more about interactive tables.';\n",
              "          element.innerHTML = '';\n",
              "          dataTable['output_type'] = 'display_data';\n",
              "          await google.colab.output.renderOutput(dataTable, element);\n",
              "          const docLink = document.createElement('div');\n",
              "          docLink.innerHTML = docLinkHtml;\n",
              "          element.appendChild(docLink);\n",
              "        }\n",
              "      </script>\n",
              "    </div>\n",
              "  </div>\n",
              "  "
            ],
            "text/plain": [
              "   PassengerId  Pclass  ... Cabin Embarked\n",
              "0          892       3  ...   NaN        Q\n",
              "1          893       3  ...   NaN        S\n",
              "2          894       2  ...   NaN        Q\n",
              "3          895       3  ...   NaN        S\n",
              "4          896       3  ...   NaN        S\n",
              "5          897       3  ...   NaN        S\n",
              "6          898       3  ...   NaN        Q\n",
              "7          899       2  ...   NaN        S\n",
              "8          900       3  ...   NaN        C\n",
              "9          901       3  ...   NaN        S\n",
              "\n",
              "[10 rows x 11 columns]"
            ]
          },
          "metadata": {},
          "execution_count": 8
        }
      ],
      "source": [
        "test_data.head(10)"
      ]
    },
    {
      "cell_type": "markdown",
      "metadata": {
        "id": "yYihLkpKIWnX"
      },
      "source": [
        "# Preprocessing\n",
        "- Pclass, Sex, Age, SibSp, Parch, Fare 총 6개의 feature를 사용하겠습니다.\n",
        "- 별도의 feature engineering은 하지 않겠습니다.\n",
        "- kaggle data이기 때문에 test_data의 \"Survived\" 열은 없습니다.\n",
        "- 우리가 예측한 결과를 csv 파일로 제출하는 형태입니다."
      ]
    },
    {
      "cell_type": "markdown",
      "metadata": {
        "id": "d6Vc2-lyIWnY"
      },
      "source": [
        "### categorical variable 처리"
      ]
    },
    {
      "cell_type": "code",
      "execution_count": 9,
      "metadata": {
        "id": "7an9HpYhIWnZ",
        "colab": {
          "base_uri": "https://localhost:8080/"
        },
        "outputId": "ed720843-1387-4660-b660-add693369e0b"
      },
      "outputs": [
        {
          "output_type": "execute_result",
          "data": {
            "text/plain": [
              "0      male\n",
              "1    female\n",
              "2    female\n",
              "3    female\n",
              "4      male\n",
              "5      male\n",
              "6      male\n",
              "7      male\n",
              "8    female\n",
              "9    female\n",
              "Name: Sex, dtype: object"
            ]
          },
          "metadata": {},
          "execution_count": 9
        }
      ],
      "source": [
        "train_data[\"Sex\"].head(10)"
      ]
    },
    {
      "cell_type": "code",
      "execution_count": 10,
      "metadata": {
        "id": "CNufUnrUIWnZ"
      },
      "outputs": [],
      "source": [
        "train_data[\"Sex\"] = train_data[\"Sex\"].map({\"male\": 1, \"female\": 0})\n",
        "test_data[\"Sex\"] = test_data[\"Sex\"].map({\"male\": 1, \"female\": 0})"
      ]
    },
    {
      "cell_type": "code",
      "execution_count": 11,
      "metadata": {
        "id": "JPv-O0k1IWna",
        "colab": {
          "base_uri": "https://localhost:8080/"
        },
        "outputId": "e9a81ec8-feb8-4523-98e8-2b09e6d622b3"
      },
      "outputs": [
        {
          "output_type": "execute_result",
          "data": {
            "text/plain": [
              "0    1\n",
              "1    0\n",
              "2    0\n",
              "3    0\n",
              "4    1\n",
              "5    1\n",
              "6    1\n",
              "7    1\n",
              "8    0\n",
              "9    0\n",
              "Name: Sex, dtype: int64"
            ]
          },
          "metadata": {},
          "execution_count": 11
        }
      ],
      "source": [
        "train_data[\"Sex\"].head(10)"
      ]
    },
    {
      "cell_type": "markdown",
      "metadata": {
        "id": "_5vPQ8CTIWnb"
      },
      "source": [
        "### 데이터셋 구성"
      ]
    },
    {
      "cell_type": "code",
      "execution_count": 12,
      "metadata": {
        "ExecuteTime": {
          "end_time": "2018-10-28T07:48:21.754377Z",
          "start_time": "2018-10-28T07:48:21.739961Z"
        },
        "id": "TQZS1Y07IWnb"
      },
      "outputs": [],
      "source": [
        "data_X = train_data[[\"Pclass\", \"Sex\", \"Age\", \"SibSp\", \"Parch\", \"Fare\"]]\n",
        "data_y = train_data[\"Survived\"]"
      ]
    },
    {
      "cell_type": "code",
      "execution_count": 13,
      "metadata": {
        "id": "1T29NlfMIWnc",
        "colab": {
          "base_uri": "https://localhost:8080/"
        },
        "outputId": "c7d9cc6c-88b4-47d2-acbc-dd049a3c9342"
      },
      "outputs": [
        {
          "output_type": "execute_result",
          "data": {
            "text/plain": [
              "891"
            ]
          },
          "metadata": {},
          "execution_count": 13
        }
      ],
      "source": [
        "len(data_X)"
      ]
    },
    {
      "cell_type": "code",
      "execution_count": 14,
      "metadata": {
        "id": "ZQM82nxWIWnc"
      },
      "outputs": [],
      "source": [
        "train_X, test_X, train_y, test_y = train_test_split(data_X, data_y, test_size=0.3)"
      ]
    },
    {
      "cell_type": "code",
      "execution_count": 15,
      "metadata": {
        "id": "1t6EyPQKIWnd",
        "colab": {
          "base_uri": "https://localhost:8080/"
        },
        "outputId": "7d0ed90e-bc5d-475b-9087-58d83be22f97"
      },
      "outputs": [
        {
          "output_type": "execute_result",
          "data": {
            "text/plain": [
              "(623, 623.6999999999999)"
            ]
          },
          "metadata": {},
          "execution_count": 15
        }
      ],
      "source": [
        "len(train_X), len(data_X)*.7"
      ]
    },
    {
      "cell_type": "code",
      "execution_count": 16,
      "metadata": {
        "id": "__8HHWx_IWnd",
        "colab": {
          "base_uri": "https://localhost:8080/"
        },
        "outputId": "3c467ec4-a51a-4645-8d1e-3673eb5491aa"
      },
      "outputs": [
        {
          "output_type": "execute_result",
          "data": {
            "text/plain": [
              "(268, 267.3)"
            ]
          },
          "metadata": {},
          "execution_count": 16
        }
      ],
      "source": [
        "len(test_X), len(data_X)*.3"
      ]
    },
    {
      "cell_type": "markdown",
      "metadata": {
        "id": "xMbyXoCwIWnd"
      },
      "source": [
        "### null 값 확인 (결측값)"
      ]
    },
    {
      "cell_type": "code",
      "execution_count": 17,
      "metadata": {
        "ExecuteTime": {
          "end_time": "2018-10-28T07:48:22.020698Z",
          "start_time": "2018-10-28T07:48:22.006813Z"
        },
        "id": "wkDUFZzeIWne",
        "colab": {
          "base_uri": "https://localhost:8080/"
        },
        "outputId": "0a8f092d-a04a-4f85-a9fd-c0c752a6b25a"
      },
      "outputs": [
        {
          "output_type": "stream",
          "name": "stdout",
          "text": [
            "Number of null in train_X: Pclass      0\n",
            "Sex         0\n",
            "Age       135\n",
            "SibSp       0\n",
            "Parch       0\n",
            "Fare        0\n",
            "dtype: int64\n",
            "\n",
            " Number of null in test_X: Pclass     0\n",
            "Sex        0\n",
            "Age       42\n",
            "SibSp      0\n",
            "Parch      0\n",
            "Fare       0\n",
            "dtype: int64\n",
            "\n",
            " Number of nullin train y: 0\n",
            "\n",
            " Number of nullin train y: 0\n",
            "\n",
            " 29.088975409836067\n"
          ]
        }
      ],
      "source": [
        "print('Number of null in train_X:', train_X.isnull().sum())\n",
        "print(\"\\n\",'Number of null in test_X:', test_X.isnull().sum())\n",
        "print(\"\\n\",'Number of nullin train y:', train_y.isnull().sum())\n",
        "print(\"\\n\",'Number of nullin train y:', test_y.isnull().sum())\n",
        "\n",
        "print(\"\\n\",np.mean(train_X[\"Age\"]))"
      ]
    },
    {
      "cell_type": "markdown",
      "metadata": {
        "id": "TiPNWr54IWnf"
      },
      "source": [
        "- 간단하게 age와 fare의 na 값은 평균으로 대체"
      ]
    },
    {
      "cell_type": "code",
      "execution_count": 18,
      "metadata": {
        "ExecuteTime": {
          "end_time": "2018-10-28T07:48:23.836865Z",
          "start_time": "2018-10-28T07:48:23.823969Z"
        },
        "id": "tHBvPlH-IWnf",
        "scrolled": false
      },
      "outputs": [],
      "source": [
        "pd.options.mode.chained_assignment = None\n",
        "\n",
        "train_X.loc[:,\"Age\"] = train_X.loc[:,\"Age\"].replace(np.nan,30)\n",
        "test_X.loc[:,\"Age\"] = test_X.loc[:,\"Age\"].replace(np.nan,30)"
      ]
    },
    {
      "cell_type": "code",
      "execution_count": 19,
      "metadata": {
        "ExecuteTime": {
          "end_time": "2018-10-28T07:48:24.418285Z",
          "start_time": "2018-10-28T07:48:24.406782Z"
        },
        "id": "SVlMFybQIWng",
        "colab": {
          "base_uri": "https://localhost:8080/"
        },
        "outputId": "d5047c77-3b89-4953-c5ed-7b8929795ee1"
      },
      "outputs": [
        {
          "output_type": "stream",
          "name": "stdout",
          "text": [
            "Number of null: Pclass    0\n",
            "Sex       0\n",
            "Age       0\n",
            "SibSp     0\n",
            "Parch     0\n",
            "Fare      0\n",
            "dtype: int64\n",
            "\n",
            " Number of null: Pclass    0\n",
            "Sex       0\n",
            "Age       0\n",
            "SibSp     0\n",
            "Parch     0\n",
            "Fare      0\n",
            "dtype: int64\n"
          ]
        }
      ],
      "source": [
        "print('Number of null:', train_X.isnull().sum())\n",
        "print(\"\\n\",'Number of null:', test_X.isnull().sum())"
      ]
    },
    {
      "cell_type": "code",
      "execution_count": 20,
      "metadata": {
        "ExecuteTime": {
          "end_time": "2018-10-28T07:48:26.498112Z",
          "start_time": "2018-10-28T07:48:26.492656Z"
        },
        "id": "gY--K_7NIWng",
        "colab": {
          "base_uri": "https://localhost:8080/"
        },
        "outputId": "ccc4ee98-2e53-4400-bc9f-548c71726775"
      },
      "outputs": [
        {
          "output_type": "execute_result",
          "data": {
            "text/plain": [
              "534    0\n",
              "193    1\n",
              "569    1\n",
              "749    0\n",
              "721    0\n",
              "Name: Survived, dtype: int64"
            ]
          },
          "metadata": {},
          "execution_count": 20
        }
      ],
      "source": [
        "train_y.head()"
      ]
    },
    {
      "cell_type": "code",
      "execution_count": 21,
      "metadata": {
        "ExecuteTime": {
          "end_time": "2018-10-28T07:48:27.198668Z",
          "start_time": "2018-10-28T07:48:27.192577Z"
        },
        "id": "V4hSGO6JIWnh",
        "colab": {
          "base_uri": "https://localhost:8080/"
        },
        "outputId": "cb72d2d8-a597-4f97-a54f-e271bff5b292"
      },
      "outputs": [
        {
          "output_type": "execute_result",
          "data": {
            "text/plain": [
              "(623, 268, 623, 268)"
            ]
          },
          "metadata": {},
          "execution_count": 21
        }
      ],
      "source": [
        "len(train_X), len(test_X), len(train_y), len(test_y)"
      ]
    },
    {
      "cell_type": "markdown",
      "metadata": {
        "id": "9YyBT2WpIWnh"
      },
      "source": [
        "# Train model (PyTorch)\n",
        "1. dataset, dataloader 정의\n",
        "2. 모델 정의\n",
        "3. 모델 학습 \n",
        "4. 모델 평가"
      ]
    },
    {
      "cell_type": "markdown",
      "metadata": {
        "id": "ogKQzIswIWnh"
      },
      "source": [
        "- train, test dataset을 출력할 수 있는 class를 만듭니다."
      ]
    },
    {
      "cell_type": "code",
      "execution_count": 22,
      "metadata": {
        "ExecuteTime": {
          "end_time": "2018-10-28T07:48:30.938583Z",
          "start_time": "2018-10-28T07:48:30.931143Z"
        },
        "id": "JU8tNqFHIWni"
      },
      "outputs": [],
      "source": [
        "class simple_dataset(Dataset):\n",
        "    \n",
        "    def __init__(self, X_data, y_data):\n",
        "        self.X_data = X_data\n",
        "        self.y_data = y_data\n",
        "        \n",
        "    def __getitem__(self, index):\n",
        "        return self.X_data[index], self.y_data[index]\n",
        "        \n",
        "    def __len__ (self):\n",
        "        return len(self.X_data)"
      ]
    },
    {
      "cell_type": "code",
      "execution_count": 23,
      "metadata": {
        "id": "Ho6fpa9NIWni",
        "colab": {
          "base_uri": "https://localhost:8080/"
        },
        "outputId": "17eadbfd-9478-4fc9-dc02-283628ebfcdd"
      },
      "outputs": [
        {
          "output_type": "execute_result",
          "data": {
            "text/plain": [
              "pandas.core.frame.DataFrame"
            ]
          },
          "metadata": {},
          "execution_count": 23
        }
      ],
      "source": [
        "type(test_X)"
      ]
    },
    {
      "cell_type": "code",
      "execution_count": 24,
      "metadata": {
        "ExecuteTime": {
          "end_time": "2018-10-28T07:48:32.125111Z",
          "start_time": "2018-10-28T07:48:32.117187Z"
        },
        "id": "ute7KeA2IWnj"
      },
      "outputs": [],
      "source": [
        "# 정규화합니다\n",
        "scaler = StandardScaler()\n",
        "train_data = simple_dataset(torch.FloatTensor(scaler.fit_transform(train_X.to_numpy())), torch.LongTensor(train_y.to_numpy()))\n",
        "test_data = simple_dataset(torch.FloatTensor(scaler.fit_transform(test_X.to_numpy())), torch.LongTensor(test_y.to_numpy()))"
      ]
    },
    {
      "cell_type": "code",
      "execution_count": 25,
      "metadata": {
        "id": "twkMiNWqIWnj",
        "colab": {
          "base_uri": "https://localhost:8080/"
        },
        "outputId": "ed220891-48dc-4f43-d1ee-d346c513ad5b"
      },
      "outputs": [
        {
          "output_type": "execute_result",
          "data": {
            "text/plain": [
              "(623, 268)"
            ]
          },
          "metadata": {},
          "execution_count": 25
        }
      ],
      "source": [
        "len(train_data), len(test_data)"
      ]
    },
    {
      "cell_type": "code",
      "execution_count": 26,
      "metadata": {
        "ExecuteTime": {
          "end_time": "2018-10-28T07:48:51.854783Z",
          "start_time": "2018-10-28T07:48:51.849359Z"
        },
        "id": "zczxV0qXIWnj",
        "colab": {
          "base_uri": "https://localhost:8080/"
        },
        "outputId": "b64fe60b-bfdd-4770-fd2e-3bff7c8ac4d5"
      },
      "outputs": [
        {
          "output_type": "execute_result",
          "data": {
            "text/plain": [
              "(tensor([ 0.8272, -1.3727,  0.0552, -0.4742, -0.4857, -0.4784]), tensor(0))"
            ]
          },
          "metadata": {},
          "execution_count": 26
        }
      ],
      "source": [
        "train_data.__getitem__(0)"
      ]
    },
    {
      "cell_type": "code",
      "execution_count": 27,
      "metadata": {
        "id": "-A9dtRJHIWnk",
        "colab": {
          "base_uri": "https://localhost:8080/"
        },
        "outputId": "38b95f9d-b732-46d5-84c4-8467537283ee"
      },
      "outputs": [
        {
          "output_type": "execute_result",
          "data": {
            "text/plain": [
              "(tensor([ 0.8272, -1.3727,  0.0552, -0.4742, -0.4857, -0.4784]), tensor(0))"
            ]
          },
          "metadata": {},
          "execution_count": 27
        }
      ],
      "source": [
        "train_data[0]"
      ]
    },
    {
      "cell_type": "code",
      "execution_count": 27,
      "metadata": {
        "id": "XEkoBp4MIWnk"
      },
      "outputs": [],
      "source": [
        ""
      ]
    },
    {
      "cell_type": "markdown",
      "metadata": {
        "id": "DhyjBTm0IWnl"
      },
      "source": [
        "## Modeling"
      ]
    },
    {
      "cell_type": "code",
      "execution_count": 28,
      "metadata": {
        "ExecuteTime": {
          "end_time": "2018-10-28T08:24:00.698892Z",
          "start_time": "2018-10-28T08:24:00.685532Z"
        },
        "id": "ulVgLBTmIWnl"
      },
      "outputs": [],
      "source": [
        "class Binary_Classification(nn.Module):\n",
        "    \n",
        "    def __init__(self, num_features, num_classes):\n",
        "        super(Binary_Classification, self).__init__()\n",
        "        \n",
        "        self.Layer_1 = nn.Linear(num_features, 30)\n",
        "\n",
        "        ################################################\n",
        "        #       TODO                                   #\n",
        "        ################################################\n",
        "        self.Layer_2 = nn.Linear(30, 15)\n",
        "        self.Layer_3 = nn.Linear(15, 8)\n",
        "        self.Layer_out = nn.Linear(8, num_classes)\n",
        "        \n",
        "        self.relu = nn.ReLU()\n",
        "        \n",
        "    def forward(self, inputs):\n",
        "        \n",
        "        x = self.Layer_1(inputs)\n",
        "        x = self.relu(x)\n",
        "        ################################################\n",
        "        #       TODO                                   #\n",
        "        ################################################\n",
        "        x = self.Layer_2(x)\n",
        "        x = self.relu(x)\n",
        "\n",
        "        x = self.Layer_3(x)\n",
        "        x = self.relu(x)\n",
        "\n",
        "        x = self.Layer_out(x)\n",
        "\n",
        "        return x"
      ]
    },
    {
      "cell_type": "code",
      "execution_count": 28,
      "metadata": {
        "id": "4VJiDT-aIWnl"
      },
      "outputs": [],
      "source": [
        ""
      ]
    },
    {
      "cell_type": "markdown",
      "metadata": {
        "id": "z_APaY49IWnm"
      },
      "source": [
        "## Training"
      ]
    },
    {
      "cell_type": "code",
      "execution_count": 29,
      "metadata": {
        "id": "18Nsx8XHIWnm"
      },
      "outputs": [],
      "source": [
        "EPOCHS = 3000\n",
        "BATCH_SIZE = 891\n",
        "\n",
        "train_loader = DataLoader(dataset=train_data, batch_size=BATCH_SIZE, shuffle=True)\n",
        "test_loader = DataLoader(dataset=test_data, batch_size=1, shuffle=False)\n",
        "\n",
        "model = Binary_Classification(num_features=6, num_classes=2)\n",
        "\n",
        "criterion = nn.CrossEntropyLoss() # https://pytorch.org/docs/stable/nn.html\n",
        "optimizer = optim.Adam(model.parameters(), lr=0.001)"
      ]
    },
    {
      "cell_type": "markdown",
      "metadata": {
        "id": "uo4sqcq2IWnm"
      },
      "source": [
        "### 데이터 사이즈 확인 "
      ]
    },
    {
      "cell_type": "code",
      "execution_count": 30,
      "metadata": {
        "id": "68y7M5JSIWnn",
        "colab": {
          "base_uri": "https://localhost:8080/"
        },
        "outputId": "c351a9f8-517e-401f-9693-5a846e37bfe7"
      },
      "outputs": [
        {
          "output_type": "stream",
          "name": "stdout",
          "text": [
            "torch.Size([623, 6]) torch.Size([623])\n"
          ]
        }
      ],
      "source": [
        "for epoch in range(EPOCHS):\n",
        "    for X_batch, y_batch in train_loader:\n",
        "        print(X_batch.size(), y_batch.size())\n",
        "        break\n",
        "    break"
      ]
    },
    {
      "cell_type": "code",
      "execution_count": 31,
      "metadata": {
        "ExecuteTime": {
          "end_time": "2018-10-28T08:26:29.145512Z",
          "start_time": "2018-10-28T08:24:02.302520Z"
        },
        "id": "oYWDKFQTIWnn",
        "scrolled": true,
        "colab": {
          "base_uri": "https://localhost:8080/"
        },
        "outputId": "e1a84865-8ba5-4aac-c058-6c4fb3f69b92"
      },
      "outputs": [
        {
          "output_type": "stream",
          "name": "stdout",
          "text": [
            "Epoch [30/3000] Step [1/1] Loss: [0.6872] Train ACC [42.54%]\n",
            "Epoch [60/3000] Step [1/1] Loss: [0.6037] Train ACC [77.69%]\n",
            "Epoch [90/3000] Step [1/1] Loss: [0.4859] Train ACC [80.42%]\n",
            "Epoch [120/3000] Step [1/1] Loss: [0.4373] Train ACC [81.22%]\n",
            "Epoch [150/3000] Step [1/1] Loss: [0.4233] Train ACC [82.02%]\n",
            "Epoch [180/3000] Step [1/1] Loss: [0.4151] Train ACC [82.50%]\n",
            "Epoch [210/3000] Step [1/1] Loss: [0.4081] Train ACC [82.83%]\n",
            "Epoch [240/3000] Step [1/1] Loss: [0.4020] Train ACC [83.15%]\n",
            "Epoch [270/3000] Step [1/1] Loss: [0.3961] Train ACC [82.99%]\n",
            "Epoch [300/3000] Step [1/1] Loss: [0.3895] Train ACC [83.63%]\n",
            "Epoch [330/3000] Step [1/1] Loss: [0.3829] Train ACC [83.31%]\n",
            "Epoch [360/3000] Step [1/1] Loss: [0.3763] Train ACC [83.63%]\n",
            "Epoch [390/3000] Step [1/1] Loss: [0.3698] Train ACC [83.63%]\n",
            "Epoch [420/3000] Step [1/1] Loss: [0.3639] Train ACC [84.43%]\n",
            "Epoch [450/3000] Step [1/1] Loss: [0.3575] Train ACC [84.91%]\n",
            "Epoch [480/3000] Step [1/1] Loss: [0.3515] Train ACC [84.91%]\n",
            "Epoch [510/3000] Step [1/1] Loss: [0.3459] Train ACC [85.39%]\n",
            "Epoch [540/3000] Step [1/1] Loss: [0.3406] Train ACC [85.71%]\n",
            "Epoch [570/3000] Step [1/1] Loss: [0.3348] Train ACC [85.39%]\n",
            "Epoch [600/3000] Step [1/1] Loss: [0.3292] Train ACC [85.39%]\n",
            "Epoch [630/3000] Step [1/1] Loss: [0.3238] Train ACC [85.23%]\n",
            "Epoch [660/3000] Step [1/1] Loss: [0.3184] Train ACC [86.20%]\n",
            "Epoch [690/3000] Step [1/1] Loss: [0.3138] Train ACC [86.20%]\n",
            "Epoch [720/3000] Step [1/1] Loss: [0.3098] Train ACC [86.20%]\n",
            "Epoch [750/3000] Step [1/1] Loss: [0.3062] Train ACC [86.36%]\n",
            "Epoch [780/3000] Step [1/1] Loss: [0.3026] Train ACC [86.36%]\n",
            "Epoch [810/3000] Step [1/1] Loss: [0.2990] Train ACC [86.68%]\n",
            "Epoch [840/3000] Step [1/1] Loss: [0.2956] Train ACC [87.00%]\n",
            "Epoch [870/3000] Step [1/1] Loss: [0.2917] Train ACC [87.64%]\n",
            "Epoch [900/3000] Step [1/1] Loss: [0.2884] Train ACC [87.64%]\n",
            "Epoch [930/3000] Step [1/1] Loss: [0.2854] Train ACC [88.12%]\n",
            "Epoch [960/3000] Step [1/1] Loss: [0.2809] Train ACC [88.44%]\n",
            "Epoch [990/3000] Step [1/1] Loss: [0.2772] Train ACC [88.12%]\n",
            "Epoch [1020/3000] Step [1/1] Loss: [0.2739] Train ACC [88.28%]\n",
            "Epoch [1050/3000] Step [1/1] Loss: [0.2706] Train ACC [88.60%]\n",
            "Epoch [1080/3000] Step [1/1] Loss: [0.2678] Train ACC [88.28%]\n",
            "Epoch [1110/3000] Step [1/1] Loss: [0.2651] Train ACC [88.76%]\n",
            "Epoch [1140/3000] Step [1/1] Loss: [0.2629] Train ACC [88.76%]\n",
            "Epoch [1170/3000] Step [1/1] Loss: [0.2605] Train ACC [89.41%]\n",
            "Epoch [1200/3000] Step [1/1] Loss: [0.2582] Train ACC [88.92%]\n",
            "Epoch [1230/3000] Step [1/1] Loss: [0.2564] Train ACC [89.73%]\n",
            "Epoch [1260/3000] Step [1/1] Loss: [0.2540] Train ACC [89.73%]\n",
            "Epoch [1290/3000] Step [1/1] Loss: [0.2520] Train ACC [89.41%]\n",
            "Epoch [1320/3000] Step [1/1] Loss: [0.2499] Train ACC [90.37%]\n",
            "Epoch [1350/3000] Step [1/1] Loss: [0.2480] Train ACC [90.05%]\n",
            "Epoch [1380/3000] Step [1/1] Loss: [0.2462] Train ACC [89.73%]\n",
            "Epoch [1410/3000] Step [1/1] Loss: [0.2445] Train ACC [90.05%]\n",
            "Epoch [1440/3000] Step [1/1] Loss: [0.2432] Train ACC [90.53%]\n",
            "Epoch [1470/3000] Step [1/1] Loss: [0.2416] Train ACC [90.53%]\n",
            "Epoch [1500/3000] Step [1/1] Loss: [0.2404] Train ACC [90.53%]\n",
            "Epoch [1530/3000] Step [1/1] Loss: [0.2387] Train ACC [90.53%]\n",
            "Epoch [1560/3000] Step [1/1] Loss: [0.2374] Train ACC [90.53%]\n",
            "Epoch [1590/3000] Step [1/1] Loss: [0.2359] Train ACC [90.05%]\n",
            "Epoch [1620/3000] Step [1/1] Loss: [0.2346] Train ACC [90.05%]\n",
            "Epoch [1650/3000] Step [1/1] Loss: [0.2337] Train ACC [90.37%]\n",
            "Epoch [1680/3000] Step [1/1] Loss: [0.2322] Train ACC [90.53%]\n",
            "Epoch [1710/3000] Step [1/1] Loss: [0.2308] Train ACC [90.53%]\n",
            "Epoch [1740/3000] Step [1/1] Loss: [0.2293] Train ACC [90.69%]\n",
            "Epoch [1770/3000] Step [1/1] Loss: [0.2282] Train ACC [90.37%]\n",
            "Epoch [1800/3000] Step [1/1] Loss: [0.2268] Train ACC [90.53%]\n",
            "Epoch [1830/3000] Step [1/1] Loss: [0.2253] Train ACC [90.69%]\n",
            "Epoch [1860/3000] Step [1/1] Loss: [0.2239] Train ACC [90.53%]\n",
            "Epoch [1890/3000] Step [1/1] Loss: [0.2231] Train ACC [90.53%]\n",
            "Epoch [1920/3000] Step [1/1] Loss: [0.2216] Train ACC [90.69%]\n",
            "Epoch [1950/3000] Step [1/1] Loss: [0.2204] Train ACC [90.69%]\n",
            "Epoch [1980/3000] Step [1/1] Loss: [0.2191] Train ACC [90.53%]\n",
            "Epoch [2010/3000] Step [1/1] Loss: [0.2181] Train ACC [90.37%]\n",
            "Epoch [2040/3000] Step [1/1] Loss: [0.2172] Train ACC [90.21%]\n",
            "Epoch [2070/3000] Step [1/1] Loss: [0.2161] Train ACC [90.21%]\n",
            "Epoch [2100/3000] Step [1/1] Loss: [0.2148] Train ACC [90.21%]\n",
            "Epoch [2130/3000] Step [1/1] Loss: [0.2136] Train ACC [90.69%]\n",
            "Epoch [2160/3000] Step [1/1] Loss: [0.2127] Train ACC [90.53%]\n",
            "Epoch [2190/3000] Step [1/1] Loss: [0.2117] Train ACC [91.17%]\n",
            "Epoch [2220/3000] Step [1/1] Loss: [0.2115] Train ACC [91.17%]\n",
            "Epoch [2250/3000] Step [1/1] Loss: [0.2098] Train ACC [90.53%]\n",
            "Epoch [2280/3000] Step [1/1] Loss: [0.2087] Train ACC [91.17%]\n",
            "Epoch [2310/3000] Step [1/1] Loss: [0.2078] Train ACC [90.69%]\n",
            "Epoch [2340/3000] Step [1/1] Loss: [0.2068] Train ACC [91.01%]\n",
            "Epoch [2370/3000] Step [1/1] Loss: [0.2057] Train ACC [90.85%]\n",
            "Epoch [2400/3000] Step [1/1] Loss: [0.2047] Train ACC [90.85%]\n",
            "Epoch [2430/3000] Step [1/1] Loss: [0.2042] Train ACC [90.85%]\n",
            "Epoch [2460/3000] Step [1/1] Loss: [0.2032] Train ACC [90.85%]\n",
            "Epoch [2490/3000] Step [1/1] Loss: [0.2023] Train ACC [90.85%]\n",
            "Epoch [2520/3000] Step [1/1] Loss: [0.2013] Train ACC [91.01%]\n",
            "Epoch [2550/3000] Step [1/1] Loss: [0.2010] Train ACC [91.49%]\n",
            "Epoch [2580/3000] Step [1/1] Loss: [0.1998] Train ACC [91.33%]\n",
            "Epoch [2610/3000] Step [1/1] Loss: [0.1988] Train ACC [91.49%]\n",
            "Epoch [2640/3000] Step [1/1] Loss: [0.1975] Train ACC [91.33%]\n",
            "Epoch [2670/3000] Step [1/1] Loss: [0.1965] Train ACC [91.17%]\n",
            "Epoch [2700/3000] Step [1/1] Loss: [0.1958] Train ACC [91.49%]\n",
            "Epoch [2730/3000] Step [1/1] Loss: [0.1950] Train ACC [91.17%]\n",
            "Epoch [2760/3000] Step [1/1] Loss: [0.1941] Train ACC [91.49%]\n",
            "Epoch [2790/3000] Step [1/1] Loss: [0.1932] Train ACC [91.65%]\n",
            "Epoch [2820/3000] Step [1/1] Loss: [0.1922] Train ACC [91.65%]\n",
            "Epoch [2850/3000] Step [1/1] Loss: [0.1913] Train ACC [91.81%]\n",
            "Epoch [2880/3000] Step [1/1] Loss: [0.1909] Train ACC [91.97%]\n",
            "Epoch [2910/3000] Step [1/1] Loss: [0.1906] Train ACC [91.97%]\n",
            "Epoch [2940/3000] Step [1/1] Loss: [0.1891] Train ACC [91.65%]\n",
            "Epoch [2970/3000] Step [1/1] Loss: [0.1883] Train ACC [91.81%]\n",
            "Epoch [3000/3000] Step [1/1] Loss: [0.1877] Train ACC [91.97%]\n"
          ]
        }
      ],
      "source": [
        "loss_list = []\n",
        "acc_list = []\n",
        "for epoch in range(EPOCHS):\n",
        "    for i, (X_batch, y_batch) in enumerate(train_loader):\n",
        "        \n",
        "        #Forward \n",
        "        y_output = model(X_batch)\n",
        "        loss = criterion(y_output, y_batch) #CELoss: The input is expected to contain raw, unnormalized scores for each class.\n",
        "        \n",
        "        #Backward\n",
        "        optimizer.zero_grad()\n",
        "        loss.backward()\n",
        "        optimizer.step()\n",
        "        \n",
        "        #misc (acc 계산, etc) \n",
        "        y_pred = torch.max(y_output, 1)[1]\n",
        "        acc = accuracy_score(y_pred.data.cpu(), y_batch.data.cpu())\n",
        "        loss_list.append(loss.item())\n",
        "        acc_list.append(acc)\n",
        "\n",
        "    if (epoch+1) % 30 == 0:\n",
        "        print('Epoch [{}/{}] Step [{}/{}] Loss: [{:.4f}] Train ACC [{:.2f}%]'.format(epoch+1, EPOCHS, \\\n",
        "                                                                                   i+1, len(train_loader), loss.item(), acc*100))"
      ]
    },
    {
      "cell_type": "code",
      "execution_count": 32,
      "metadata": {
        "id": "nt8_rTpKIWnn",
        "colab": {
          "base_uri": "https://localhost:8080/",
          "height": 283
        },
        "outputId": "307cc859-97c8-46e5-8291-55fb05383a31"
      },
      "outputs": [
        {
          "output_type": "execute_result",
          "data": {
            "text/plain": [
              "[<matplotlib.lines.Line2D at 0x7f01cf060a50>]"
            ]
          },
          "metadata": {},
          "execution_count": 32
        },
        {
          "output_type": "display_data",
          "data": {
            "image/png": "[encoded data removed]",
            "text/plain": [
              "<Figure size 432x288 with 1 Axes>"
            ]
          },
          "metadata": {
            "needs_background": "light"
          }
        }
      ],
      "source": [
        "plt.plot(loss_list)"
      ]
    },
    {
      "cell_type": "code",
      "execution_count": 33,
      "metadata": {
        "id": "UNyiCLTaIWno",
        "colab": {
          "base_uri": "https://localhost:8080/",
          "height": 283
        },
        "outputId": "a07e6bda-f9fc-43d7-e78e-8a21c66354af"
      },
      "outputs": [
        {
          "output_type": "execute_result",
          "data": {
            "text/plain": [
              "[<matplotlib.lines.Line2D at 0x7f01cf94c090>]"
            ]
          },
          "metadata": {},
          "execution_count": 33
        },
        {
          "output_type": "display_data",
          "data": {
            "image/png": "[encoded data removed]",
            "text/plain": [
              "<Figure size 432x288 with 1 Axes>"
            ]
          },
          "metadata": {
            "needs_background": "light"
          }
        }
      ],
      "source": [
        "plt.plot(acc_list)"
      ]
    },
    {
      "cell_type": "markdown",
      "metadata": {
        "id": "EQnDA546IWno"
      },
      "source": [
        "## Test"
      ]
    },
    {
      "cell_type": "code",
      "execution_count": 34,
      "metadata": {
        "ExecuteTime": {
          "end_time": "2018-10-28T08:26:31.968976Z",
          "start_time": "2018-10-28T08:26:31.839523Z"
        },
        "id": "rc7KvXo9IWno",
        "colab": {
          "base_uri": "https://localhost:8080/"
        },
        "outputId": "04769845-26fa-4ecc-c1c2-b1df98d80a11"
      },
      "outputs": [
        {
          "output_type": "stream",
          "name": "stdout",
          "text": [
            "Test ACC: [77.99%]\n"
          ]
        }
      ],
      "source": [
        "test_y_pred = []\n",
        "test_acc_list = []\n",
        "with torch.no_grad():\n",
        "\n",
        "    for X_batch, y_batch in test_loader:    \n",
        "        #Forward\n",
        "        y_output = model(X_batch)\n",
        "        \n",
        "        #misc (acc 계산, etc) \n",
        "        y_pred = torch.max(y_output, 1)[1]\n",
        "        test_y_pred.append(y_pred) ##\n",
        "        \n",
        "        acc = accuracy_score(y_pred.data.cpu(), y_batch.data.cpu())\n",
        "        test_acc_list.append(acc)\n",
        "    test_acc = np.mean(test_acc_list)\n",
        "print('Test ACC: [{:.2f}%]'.format(test_acc*100))"
      ]
    },
    {
      "cell_type": "code",
      "execution_count": null,
      "metadata": {
        "id": "Nprk6vB0IWnp"
      },
      "outputs": [],
      "source": [
        ""
      ]
    },
    {
      "cell_type": "code",
      "execution_count": 35,
      "metadata": {
        "id": "Fyd662TbIWnp",
        "colab": {
          "base_uri": "https://localhost:8080/"
        },
        "outputId": "3a8c6596-a829-4999-f61e-1a6964c0c539"
      },
      "outputs": [
        {
          "output_type": "execute_result",
          "data": {
            "text/plain": [
              "(268,\n",
              " [tensor([1]),\n",
              "  tensor([1]),\n",
              "  tensor([0]),\n",
              "  tensor([0]),\n",
              "  tensor([1]),\n",
              "  tensor([1]),\n",
              "  tensor([0]),\n",
              "  tensor([0]),\n",
              "  tensor([0]),\n",
              "  tensor([1])])"
            ]
          },
          "metadata": {},
          "execution_count": 35
        }
      ],
      "source": [
        "len(test_y_pred), test_y_pred[:10]"
      ]
    },
    {
      "cell_type": "code",
      "execution_count": null,
      "metadata": {
        "id": "CNq2fjt0IWnp"
      },
      "outputs": [],
      "source": [
        ""
      ]
    },
    {
      "cell_type": "markdown",
      "metadata": {
        "id": "Jxs6VnCWIWnp"
      },
      "source": [
        "# Assignment"
      ]
    },
    {
      "cell_type": "code",
      "execution_count": 50,
      "metadata": {
        "id": "xHUn8ZzFIWnp"
      },
      "outputs": [],
      "source": [
        "class Binary_Classification_layer(nn.Module):\n",
        "    \n",
        "    def __init__(self, num_features, num_classes):\n",
        "        super(Binary_Classification_layer, self).__init__()\n",
        "        \n",
        "        self.Layer_1 = nn.Sequential(\n",
        "                                nn.Linear(num_features, 32),\n",
        "                                nn.ReLU()\n",
        "                            )\n",
        "        \n",
        "        ################################################\n",
        "        #       TODO                                   #\n",
        "        ################################################\n",
        "        self.Layer_2 = nn.Sequential(\n",
        "                                nn.Linear(32, 64),\n",
        "                                nn.ReLU()\n",
        "                            )\n",
        "        \n",
        "        self.Layer_3 = nn.Sequential(\n",
        "                                nn.Linear(64, 32),\n",
        "                                nn.ReLU()\n",
        "                            )\n",
        "        \n",
        "        self.Layer_4 = nn.Sequential(\n",
        "                                nn.Linear(32, 16),\n",
        "                                nn.ReLU()\n",
        "                            )\n",
        "        \n",
        "        self.Layer_5 = nn.Sequential(\n",
        "                                nn.Linear(16, 8),\n",
        "                                nn.ReLU()\n",
        "                            )\n",
        "        \n",
        "        self.Layer_out = nn.Linear(8, 2)\n",
        "        \n",
        "        self.dropout = nn.Dropout(0.1)\n",
        "        self.sigmoid = nn.Sigmoid()\n",
        "\n",
        "    def forward(self, inputs):\n",
        "        \n",
        "        x = self.Layer_1(inputs)      \n",
        "        \n",
        "        ################################################\n",
        "        #       TODO                                   #\n",
        "        ################################################\n",
        "        x = self.Layer_2(x)\n",
        "        x = self.Layer_3(x)\n",
        "        x = self.Layer_4(x)\n",
        "        x = self.Layer_5(x)\n",
        "        x = self.dropout(x)\n",
        "        x = self.Layer_out(x)\n",
        "        x = self.sigmoid(x)\n",
        "\n",
        "        return x"
      ]
    },
    {
      "cell_type": "code",
      "execution_count": 51,
      "metadata": {
        "id": "-t6i8Xn_IWnq"
      },
      "outputs": [],
      "source": [
        "EPOCHS = 3000\n",
        "BATCH_SIZE = 64\n",
        "\n",
        "train_loader = DataLoader(dataset=train_data, batch_size=BATCH_SIZE, shuffle=True)\n",
        "test_loader = DataLoader(dataset=test_data, batch_size=1, shuffle=False)\n",
        "\n",
        "model = Binary_Classification_layer(num_features=6, num_classes=2)\n",
        "\n",
        "criterion = nn.CrossEntropyLoss() # https://pytorch.org/docs/stable/nn.html\n",
        "optimizer = optim.Adam(model.parameters(), lr=0.001)"
      ]
    },
    {
      "cell_type": "code",
      "source": [
        "import copy"
      ],
      "metadata": {
        "id": "J8y714U6TaBH"
      },
      "execution_count": 52,
      "outputs": []
    },
    {
      "cell_type": "code",
      "execution_count": 53,
      "metadata": {
        "id": "LU_anXJlIWnq",
        "colab": {
          "base_uri": "https://localhost:8080/"
        },
        "outputId": "189b5cd5-3eeb-4cb2-a8f1-d7e4c560bc6d"
      },
      "outputs": [
        {
          "output_type": "stream",
          "name": "stdout",
          "text": [
            "Epoch [30/3000] Step [10/10] Loss: [0.5449] Train avg ACC [75.07%] Test ACC [82.84%]\n",
            "Epoch [60/3000] Step [10/10] Loss: [0.5141] Train avg ACC [78.99%] Test ACC [85.45%]\n",
            "Epoch [90/3000] Step [10/10] Loss: [0.5010] Train avg ACC [80.53%] Test ACC [82.09%]\n",
            "Epoch [120/3000] Step [10/10] Loss: [0.4927] Train avg ACC [81.56%] Test ACC [83.21%]\n",
            "Epoch [150/3000] Step [10/10] Loss: [0.4868] Train avg ACC [82.26%] Test ACC [81.34%]\n",
            "Epoch [180/3000] Step [10/10] Loss: [0.4824] Train avg ACC [82.79%] Test ACC [83.21%]\n",
            "Epoch [210/3000] Step [10/10] Loss: [0.4787] Train avg ACC [83.22%] Test ACC [82.84%]\n",
            "Epoch [240/3000] Step [10/10] Loss: [0.4755] Train avg ACC [83.59%] Test ACC [82.09%]\n",
            "Epoch [270/3000] Step [10/10] Loss: [0.4728] Train avg ACC [83.94%] Test ACC [82.46%]\n",
            "Epoch [300/3000] Step [10/10] Loss: [0.4706] Train avg ACC [84.18%] Test ACC [82.09%]\n",
            "Epoch [330/3000] Step [10/10] Loss: [0.4687] Train avg ACC [84.39%] Test ACC [82.84%]\n",
            "Epoch [360/3000] Step [10/10] Loss: [0.4671] Train avg ACC [84.59%] Test ACC [85.07%]\n",
            "Epoch [390/3000] Step [10/10] Loss: [0.4657] Train avg ACC [84.74%] Test ACC [82.84%]\n",
            "Epoch [420/3000] Step [10/10] Loss: [0.4646] Train avg ACC [84.85%] Test ACC [83.58%]\n",
            "Epoch [450/3000] Step [10/10] Loss: [0.4635] Train avg ACC [84.98%] Test ACC [81.72%]\n",
            "Epoch [480/3000] Step [10/10] Loss: [0.4624] Train avg ACC [85.10%] Test ACC [82.46%]\n",
            "Epoch [510/3000] Step [10/10] Loss: [0.4617] Train avg ACC [85.18%] Test ACC [82.46%]\n",
            "Epoch [540/3000] Step [10/10] Loss: [0.4608] Train avg ACC [85.27%] Test ACC [81.72%]\n",
            "Epoch [570/3000] Step [10/10] Loss: [0.4600] Train avg ACC [85.35%] Test ACC [83.21%]\n",
            "Epoch [600/3000] Step [10/10] Loss: [0.4593] Train avg ACC [85.44%] Test ACC [81.72%]\n",
            "Epoch [630/3000] Step [10/10] Loss: [0.4586] Train avg ACC [85.51%] Test ACC [82.46%]\n",
            "Epoch [660/3000] Step [10/10] Loss: [0.4579] Train avg ACC [85.58%] Test ACC [82.09%]\n",
            "Epoch [690/3000] Step [10/10] Loss: [0.4574] Train avg ACC [85.63%] Test ACC [82.84%]\n",
            "Epoch [720/3000] Step [10/10] Loss: [0.4568] Train avg ACC [85.69%] Test ACC [81.34%]\n",
            "Epoch [750/3000] Step [10/10] Loss: [0.4564] Train avg ACC [85.73%] Test ACC [82.46%]\n",
            "Epoch [780/3000] Step [10/10] Loss: [0.4559] Train avg ACC [85.78%] Test ACC [82.09%]\n",
            "Epoch [810/3000] Step [10/10] Loss: [0.4554] Train avg ACC [85.83%] Test ACC [82.84%]\n",
            "Epoch [840/3000] Step [10/10] Loss: [0.4550] Train avg ACC [85.87%] Test ACC [82.46%]\n",
            "Epoch [870/3000] Step [10/10] Loss: [0.4547] Train avg ACC [85.90%] Test ACC [83.21%]\n",
            "Epoch [900/3000] Step [10/10] Loss: [0.4544] Train avg ACC [85.93%] Test ACC [82.09%]\n",
            "Epoch [930/3000] Step [10/10] Loss: [0.4541] Train avg ACC [85.96%] Test ACC [81.72%]\n",
            "Epoch [960/3000] Step [10/10] Loss: [0.4538] Train avg ACC [85.99%] Test ACC [81.72%]\n",
            "Epoch [990/3000] Step [10/10] Loss: [0.4534] Train avg ACC [86.03%] Test ACC [82.09%]\n",
            "Epoch [1020/3000] Step [10/10] Loss: [0.4531] Train avg ACC [86.06%] Test ACC [82.09%]\n",
            "Epoch [1050/3000] Step [10/10] Loss: [0.4528] Train avg ACC [86.09%] Test ACC [82.09%]\n",
            "Epoch [1080/3000] Step [10/10] Loss: [0.4525] Train avg ACC [86.11%] Test ACC [82.84%]\n",
            "Epoch [1110/3000] Step [10/10] Loss: [0.4524] Train avg ACC [86.13%] Test ACC [82.84%]\n",
            "Epoch [1140/3000] Step [10/10] Loss: [0.4521] Train avg ACC [86.16%] Test ACC [82.09%]\n",
            "Epoch [1170/3000] Step [10/10] Loss: [0.4518] Train avg ACC [86.19%] Test ACC [83.21%]\n",
            "Epoch [1200/3000] Step [10/10] Loss: [0.4517] Train avg ACC [86.20%] Test ACC [83.21%]\n",
            "Epoch [1230/3000] Step [10/10] Loss: [0.4517] Train avg ACC [86.20%] Test ACC [82.46%]\n",
            "Epoch [1260/3000] Step [10/10] Loss: [0.4516] Train avg ACC [86.20%] Test ACC [82.46%]\n",
            "Epoch [1290/3000] Step [10/10] Loss: [0.4515] Train avg ACC [86.21%] Test ACC [80.60%]\n",
            "Epoch [1320/3000] Step [10/10] Loss: [0.4513] Train avg ACC [86.23%] Test ACC [82.09%]\n",
            "Epoch [1350/3000] Step [10/10] Loss: [0.4514] Train avg ACC [86.23%] Test ACC [82.09%]\n",
            "Epoch [1380/3000] Step [10/10] Loss: [0.4513] Train avg ACC [86.23%] Test ACC [82.46%]\n",
            "Epoch [1410/3000] Step [10/10] Loss: [0.4510] Train avg ACC [86.26%] Test ACC [82.84%]\n",
            "Epoch [1440/3000] Step [10/10] Loss: [0.4509] Train avg ACC [86.27%] Test ACC [82.84%]\n",
            "Epoch [1470/3000] Step [10/10] Loss: [0.4508] Train avg ACC [86.28%] Test ACC [83.58%]\n",
            "Epoch [1500/3000] Step [10/10] Loss: [0.4509] Train avg ACC [86.27%] Test ACC [82.84%]\n",
            "Epoch [1530/3000] Step [10/10] Loss: [0.4508] Train avg ACC [86.28%] Test ACC [82.46%]\n",
            "Epoch [1560/3000] Step [10/10] Loss: [0.4508] Train avg ACC [86.28%] Test ACC [82.84%]\n",
            "Epoch [1590/3000] Step [10/10] Loss: [0.4508] Train avg ACC [86.28%] Test ACC [82.46%]\n",
            "Epoch [1620/3000] Step [10/10] Loss: [0.4508] Train avg ACC [86.28%] Test ACC [82.84%]\n",
            "Epoch [1650/3000] Step [10/10] Loss: [0.4507] Train avg ACC [86.29%] Test ACC [81.72%]\n",
            "Epoch [1680/3000] Step [10/10] Loss: [0.4507] Train avg ACC [86.29%] Test ACC [81.34%]\n",
            "Epoch [1710/3000] Step [10/10] Loss: [0.4507] Train avg ACC [86.29%] Test ACC [81.72%]\n",
            "Epoch [1740/3000] Step [10/10] Loss: [0.4506] Train avg ACC [86.29%] Test ACC [82.84%]\n",
            "Epoch [1770/3000] Step [10/10] Loss: [0.4506] Train avg ACC [86.29%] Test ACC [82.09%]\n",
            "Epoch [1800/3000] Step [10/10] Loss: [0.4506] Train avg ACC [86.30%] Test ACC [81.72%]\n",
            "Epoch [1830/3000] Step [10/10] Loss: [0.4505] Train avg ACC [86.31%] Test ACC [81.72%]\n",
            "Epoch [1860/3000] Step [10/10] Loss: [0.4504] Train avg ACC [86.31%] Test ACC [79.85%]\n",
            "Epoch [1890/3000] Step [10/10] Loss: [0.4505] Train avg ACC [86.30%] Test ACC [82.84%]\n",
            "Epoch [1920/3000] Step [10/10] Loss: [0.4505] Train avg ACC [86.31%] Test ACC [83.21%]\n",
            "Epoch [1950/3000] Step [10/10] Loss: [0.4504] Train avg ACC [86.31%] Test ACC [82.46%]\n",
            "Epoch [1980/3000] Step [10/10] Loss: [0.4503] Train avg ACC [86.32%] Test ACC [82.84%]\n",
            "Epoch [2010/3000] Step [10/10] Loss: [0.4502] Train avg ACC [86.33%] Test ACC [82.09%]\n",
            "Epoch [2040/3000] Step [10/10] Loss: [0.4501] Train avg ACC [86.34%] Test ACC [82.84%]\n",
            "Epoch [2070/3000] Step [10/10] Loss: [0.4500] Train avg ACC [86.35%] Test ACC [82.84%]\n",
            "Epoch [2100/3000] Step [10/10] Loss: [0.4500] Train avg ACC [86.36%] Test ACC [82.84%]\n",
            "Epoch [2130/3000] Step [10/10] Loss: [0.4499] Train avg ACC [86.36%] Test ACC [82.84%]\n",
            "Epoch [2160/3000] Step [10/10] Loss: [0.4498] Train avg ACC [86.37%] Test ACC [82.46%]\n",
            "Epoch [2190/3000] Step [10/10] Loss: [0.4497] Train avg ACC [86.38%] Test ACC [82.84%]\n",
            "Epoch [2220/3000] Step [10/10] Loss: [0.4496] Train avg ACC [86.39%] Test ACC [82.09%]\n",
            "Epoch [2250/3000] Step [10/10] Loss: [0.4495] Train avg ACC [86.40%] Test ACC [83.21%]\n",
            "Epoch [2280/3000] Step [10/10] Loss: [0.4495] Train avg ACC [86.40%] Test ACC [81.72%]\n",
            "Epoch [2310/3000] Step [10/10] Loss: [0.4494] Train avg ACC [86.41%] Test ACC [80.97%]\n",
            "Epoch [2340/3000] Step [10/10] Loss: [0.4494] Train avg ACC [86.41%] Test ACC [81.72%]\n",
            "Epoch [2370/3000] Step [10/10] Loss: [0.4493] Train avg ACC [86.41%] Test ACC [83.21%]\n",
            "Epoch [2400/3000] Step [10/10] Loss: [0.4493] Train avg ACC [86.42%] Test ACC [83.21%]\n",
            "Epoch [2430/3000] Step [10/10] Loss: [0.4492] Train avg ACC [86.42%] Test ACC [82.46%]\n",
            "Epoch [2460/3000] Step [10/10] Loss: [0.4491] Train avg ACC [86.43%] Test ACC [82.46%]\n",
            "Epoch [2490/3000] Step [10/10] Loss: [0.4490] Train avg ACC [86.44%] Test ACC [82.46%]\n",
            "Epoch [2520/3000] Step [10/10] Loss: [0.4490] Train avg ACC [86.44%] Test ACC [83.21%]\n",
            "Epoch [2550/3000] Step [10/10] Loss: [0.4489] Train avg ACC [86.45%] Test ACC [82.46%]\n",
            "Epoch [2580/3000] Step [10/10] Loss: [0.4488] Train avg ACC [86.46%] Test ACC [82.09%]\n",
            "Epoch [2610/3000] Step [10/10] Loss: [0.4487] Train avg ACC [86.47%] Test ACC [83.21%]\n",
            "Epoch [2640/3000] Step [10/10] Loss: [0.4486] Train avg ACC [86.48%] Test ACC [83.21%]\n",
            "Epoch [2670/3000] Step [10/10] Loss: [0.4485] Train avg ACC [86.48%] Test ACC [82.09%]\n",
            "Epoch [2700/3000] Step [10/10] Loss: [0.4484] Train avg ACC [86.49%] Test ACC [82.09%]\n",
            "Epoch [2730/3000] Step [10/10] Loss: [0.4484] Train avg ACC [86.50%] Test ACC [82.46%]\n",
            "Epoch [2760/3000] Step [10/10] Loss: [0.4483] Train avg ACC [86.50%] Test ACC [82.46%]\n",
            "Epoch [2790/3000] Step [10/10] Loss: [0.4482] Train avg ACC [86.51%] Test ACC [82.09%]\n",
            "Epoch [2820/3000] Step [10/10] Loss: [0.4481] Train avg ACC [86.52%] Test ACC [82.09%]\n",
            "Epoch [2850/3000] Step [10/10] Loss: [0.4481] Train avg ACC [86.52%] Test ACC [82.09%]\n",
            "Epoch [2880/3000] Step [10/10] Loss: [0.4480] Train avg ACC [86.53%] Test ACC [81.72%]\n",
            "Epoch [2910/3000] Step [10/10] Loss: [0.4479] Train avg ACC [86.54%] Test ACC [82.09%]\n",
            "Epoch [2940/3000] Step [10/10] Loss: [0.4479] Train avg ACC [86.54%] Test ACC [82.46%]\n",
            "Epoch [2970/3000] Step [10/10] Loss: [0.4478] Train avg ACC [86.55%] Test ACC [81.72%]\n",
            "Epoch [3000/3000] Step [10/10] Loss: [0.4478] Train avg ACC [86.55%] Test ACC [82.09%]\n"
          ]
        }
      ],
      "source": [
        "train_loss_list = []\n",
        "train_acc_list = []\n",
        "\n",
        "best_acc = 0\n",
        "\n",
        "for epoch in range(EPOCHS):\n",
        "    # train\n",
        "    for i, (X_batch, y_batch) in enumerate(train_loader):\n",
        "        ################################################\n",
        "        #       TODO                                   #\n",
        "        ################################################ \n",
        "\n",
        "        #Forward \n",
        "        y_output = model(X_batch)\n",
        "        #CELoss: The input is expected to contain raw, unnormalized scores for each class.\n",
        "        loss = criterion(y_output, y_batch)\n",
        "        \n",
        "        #Backward\n",
        "        optimizer.zero_grad()\n",
        "        loss.backward()\n",
        "        optimizer.step()\n",
        "        \n",
        "        #misc (acc 계산, etc) \n",
        "        y_pred = torch.max(y_output, 1)[1]\n",
        "        train_acc = accuracy_score(y_pred.data.cpu(), y_batch.data.cpu())\n",
        "        \n",
        "        train_loss_list.append(loss.item())\n",
        "        train_acc_list.append(train_acc)\n",
        "\n",
        "    \n",
        "        \n",
        "    # test\n",
        "    with torch.no_grad():\n",
        "        ################################################\n",
        "        #       TODO                                   #\n",
        "        ################################################\n",
        "        test_acc_list = []\n",
        "        for X_batch, y_batch in test_loader: \n",
        "        #Forward\n",
        "            y_output = model(X_batch)\n",
        "        #misc (acc 계산, etc)\n",
        "            y_pred = torch.max(y_output, 1)[1]\n",
        "            \n",
        "            acc = accuracy_score(y_pred.data.cpu(), y_batch.data.cpu())\n",
        "            test_acc_list.append(acc)\n",
        "        test_acc = np.mean(test_acc_list)\n",
        "    \n",
        "    if test_acc > best_acc and np.mean(train_acc_list) > test_acc:\n",
        "        best_acc = test_acc\n",
        "        best_model_wts = copy.deepcopy(model.state_dict())\n",
        "\n",
        "    if (epoch+1) % 30 == 0:\n",
        "        print('Epoch [{}/{}] Step [{}/{}] Loss: [{:.4f}] Train avg ACC [{:.2f}%] Test ACC [{:.2f}%]'.format(epoch+1, EPOCHS, \\\n",
        "                                                                                   i+1, len(train_loader), np.mean(train_loss_list), \\\n",
        "                                                                                                        np.mean(train_acc_list)*100, test_acc*100))\n",
        "\n",
        "torch.save(best_model_wts, 'best_model_weight.pth')"
      ]
    },
    {
      "cell_type": "code",
      "source": [
        ""
      ],
      "metadata": {
        "id": "rbMEh154Pqht"
      },
      "execution_count": null,
      "outputs": []
    },
    {
      "cell_type": "code",
      "source": [
        "best_model = Binary_Classification_layer(num_features=6, num_classes=2)\n",
        "best_model.load_state_dict(torch.load('./best_model_weight.pth'))\n",
        "best_model.eval()\n",
        "\n",
        "test_y_pred = []\n",
        "test_acc_list = []\n",
        "with torch.no_grad():\n",
        "\n",
        "    for X_batch, y_batch in test_loader:    \n",
        "        #Forward\n",
        "        y_output = best_model(X_batch)\n",
        "        \n",
        "        #misc (acc 계산, etc) \n",
        "        y_pred = torch.max(y_output, 1)[1]\n",
        "        test_y_pred.append(y_pred) ##\n",
        "        \n",
        "        acc = accuracy_score(y_pred.data.cpu(), y_batch.data.cpu())\n",
        "        test_acc_list.append(acc)\n",
        "    test_acc = np.mean(test_acc_list)\n",
        "print('Test ACC: [{:.2f}%]'.format(test_acc*100))"
      ],
      "metadata": {
        "colab": {
          "base_uri": "https://localhost:8080/"
        },
        "id": "cPOPa9WnWuBY",
        "outputId": "67d77f77-9864-4953-b1d9-276d9f1ad0c3"
      },
      "execution_count": 54,
      "outputs": [
        {
          "output_type": "stream",
          "name": "stdout",
          "text": [
            "Test ACC: [84.70%]\n"
          ]
        }
      ]
    }
  ],
  "metadata": {
    "colab": {
      "name": "3_neural_net_binary_classification.ipynb",
      "provenance": []
    },
    "kernelspec": {
      "display_name": "Python 3 (ipykernel)",
      "language": "python",
      "name": "python3"
    },
    "language_info": {
      "codemirror_mode": {
        "name": "ipython",
        "version": 3
      },
      "file_extension": ".py",
      "mimetype": "text/x-python",
      "name": "python",
      "nbconvert_exporter": "python",
      "pygments_lexer": "ipython3",
      "version": "3.8.12"
    },
    "latex_envs": {
      "LaTeX_envs_menu_present": true,
      "autoclose": false,
      "autocomplete": true,
      "bibliofile": "biblio.bib",
      "cite_by": "apalike",
      "current_citInitial": 1,
      "eqLabelWithNumbers": true,
      "eqNumInitial": 1,
      "hotkeys": {
        "equation": "Ctrl-E",
        "itemize": "Ctrl-I"
      },
      "labels_anchors": false,
      "latex_user_defs": false,
      "report_style_numbering": false,
      "user_envs_cfg": false
    },
    "toc": {
      "base_numbering": 1,
      "nav_menu": {},
      "number_sections": true,
      "sideBar": true,
      "skip_h1_title": false,
      "title_cell": "Table of Contents",
      "title_sidebar": "Contents",
      "toc_cell": false,
      "toc_position": {},
      "toc_section_display": true,
      "toc_window_display": false
    },
    "varInspector": {
      "cols": {
        "lenName": 16,
        "lenType": 16,
        "lenVar": 40
      },
      "kernels_config": {
        "python": {
          "delete_cmd_postfix": "",
          "delete_cmd_prefix": "del ",
          "library": "var_list.py",
          "varRefreshCmd": "print(var_dic_list())"
        },
        "r": {
          "delete_cmd_postfix": ") ",
          "delete_cmd_prefix": "rm(",
          "library": "var_list.r",
          "varRefreshCmd": "cat(var_dic_list()) "
        }
      },
      "types_to_exclude": [
        "module",
        "function",
        "builtin_function_or_method",
        "instance",
        "_Feature"
      ],
      "window_display": false
    },
    "accelerator": "TPU"
  },
  "nbformat": 4,
  "nbformat_minor": 0
}