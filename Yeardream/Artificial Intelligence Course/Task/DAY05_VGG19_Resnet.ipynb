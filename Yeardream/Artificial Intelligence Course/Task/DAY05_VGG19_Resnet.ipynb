{
  "cells": [
    {
      "cell_type": "markdown",
      "metadata": {
        "id": "4MEGc-cfUbVj"
      },
      "source": [
        "Copyright @ cb_park@korea.ac.kr (Cheonbok Park), joonleesky@kaist.ac.kr (Hojoon Lee)"
      ]
    },
    {
      "cell_type": "markdown",
      "metadata": {
        "id": "JFBme9kOUbVm"
      },
      "source": [
        "## Convolutional Neural Network"
      ]
    },
    {
      "cell_type": "code",
      "execution_count": 1,
      "metadata": {
        "id": "kbrl4jxKGFo8"
      },
      "outputs": [],
      "source": [
        "import torch\n",
        "import torch.nn as nn\n",
        "import torchvision.datasets as datasets\n",
        "import torchvision.transforms as transforms"
      ]
    },
    {
      "cell_type": "code",
      "metadata": {
        "id": "w5ac4lIO1BHI"
      },
      "source": [
        "## Below are the all identical neural network with different expression"
      ],
      "execution_count": null,
      "outputs": []
    },
    {
      "cell_type": "markdown",
      "source": [
        "recap : [link](https://stats.stackexchange.com/questions/295397/what-is-the-difference-between-conv1d-and-conv2d)\n",
        "\n",
        "output size = `(((W - K + 2P)/S) + 1)`\n",
        "\n",
        "      - Here W = Input size\n",
        "      - K = Filter size\n",
        "      - S = Stride\n",
        "      - P = Padding "
      ],
      "metadata": {
        "id": "WV1CbAdeQKRj"
      }
    },
    {
      "cell_type": "code",
      "execution_count": 2,
      "metadata": {
        "id": "8KKIXyHOHmt0"
      },
      "outputs": [],
      "source": [
        "class CNN1(nn.Module):\n",
        "    def __init__(self): # input image = batch_size x 3 x 32 x 32\n",
        "        super(CNN1, self).__init__()\n",
        "        # in_channels, out_channels, kernel_size, stride=1, padding=0\n",
        "        self.conv = nn.Conv2d(3, 64, kernel_size=3, padding=1) # todo : check the parameter\n",
        "        self.relu = nn.ReLU() #\n",
        "        self.maxpool = nn.MaxPool2d(2) # todo : check the parameter\n",
        "\n",
        "    def forward(self, x):\n",
        "        out = self.conv(x)\n",
        "        out = self.relu(out)\n",
        "        out = self.maxpool(out)\n",
        "        return out  # input image = batch_size x 3 x 16 x 16\n",
        "\n",
        "    \n",
        "class CNN2(nn.Module):\n",
        "    def __init__(self): # input image = batch_size x 3 x 32 x 32\n",
        "        super(CNN2, self).__init__()\n",
        "\n",
        "        self.layer = nn.Sequential(\n",
        "            nn.Conv2d(3, 64, kernel_size=3, padding=1),\n",
        "            nn.ReLU(),\n",
        "            nn.MaxPool2d(2))\n",
        "\n",
        "    def forward(self, x):\n",
        "        out = self.layer(x)\n",
        "        return out  # input image = batch_size x 3 x 16 x 16      \n",
        "      \n",
        "\n",
        "class CNN3(nn.Module):\n",
        "    def __init__(self): # input image = batch_size x 3 x 32 x 32\n",
        "        super(CNN3, self).__init__()\n",
        "        layer = []\n",
        "        \n",
        "        layer.append(nn.Conv2d(3, 64, kernel_size=3, padding=1))\n",
        "        layer.append(nn.ReLU())\n",
        "        layer.append(nn.MaxPool2d(2))\n",
        "        \n",
        "        self.layer = nn.Sequential(*layer)\n",
        "\n",
        "    def forward(self, x):\n",
        "        out = self.layer(x)\n",
        "        return out  # input image = batch_size x 3 x 16 x 16"
      ]
    },
    {
      "cell_type": "code",
      "execution_count": 5,
      "metadata": {
        "id": "zUe1jul0UbVq"
      },
      "outputs": [],
      "source": [
        "sample_image = torch.zeros(16, 3, 32, 32) # batch. 3 x H x W"
      ]
    },
    {
      "cell_type": "code",
      "execution_count": 6,
      "metadata": {
        "colab": {
          "base_uri": "https://localhost:8080/"
        },
        "id": "AyKFlPpoH4SS",
        "outputId": "f17a2c32-f918-48d9-cffc-cf9cbe9c4e9c"
      },
      "outputs": [
        {
          "output_type": "stream",
          "name": "stdout",
          "text": [
            "CNN1(\n",
            "  (conv): Conv2d(3, 64, kernel_size=(3, 3), stride=(1, 1), padding=(1, 1))\n",
            "  (relu): ReLU()\n",
            "  (maxpool): MaxPool2d(kernel_size=2, stride=2, padding=0, dilation=1, ceil_mode=False)\n",
            ")\n",
            "torch.Size([16, 64, 16, 16])\n"
          ]
        }
      ],
      "source": [
        "cnn = CNN1()\n",
        "print(cnn)\n",
        "output = cnn(sample_image) # 16. 64. 32. 32.\n",
        "print(output.size())"
      ]
    },
    {
      "cell_type": "code",
      "execution_count": 7,
      "metadata": {
        "colab": {
          "base_uri": "https://localhost:8080/"
        },
        "id": "pWioOF2KJYtT",
        "outputId": "5a816a7f-aeea-4817-da36-d18b4533d5b6"
      },
      "outputs": [
        {
          "output_type": "stream",
          "name": "stdout",
          "text": [
            "CNN2(\n",
            "  (layer): Sequential(\n",
            "    (0): Conv2d(3, 64, kernel_size=(3, 3), stride=(1, 1), padding=(1, 1))\n",
            "    (1): ReLU()\n",
            "    (2): MaxPool2d(kernel_size=2, stride=2, padding=0, dilation=1, ceil_mode=False)\n",
            "  )\n",
            ")\n",
            "torch.Size([16, 64, 16, 16])\n"
          ]
        }
      ],
      "source": [
        "cnn = CNN2()\n",
        "print(cnn)\n",
        "output = cnn(sample_image)\n",
        "print(output.size())"
      ]
    },
    {
      "cell_type": "code",
      "execution_count": 8,
      "metadata": {
        "colab": {
          "base_uri": "https://localhost:8080/"
        },
        "id": "_ZZc7uUVJY1Y",
        "outputId": "1a5cea61-b4d4-4dcc-a2f8-b3dc45c2aefd"
      },
      "outputs": [
        {
          "output_type": "stream",
          "name": "stdout",
          "text": [
            "CNN3(\n",
            "  (layer): Sequential(\n",
            "    (0): Conv2d(3, 64, kernel_size=(3, 3), stride=(1, 1), padding=(1, 1))\n",
            "    (1): ReLU()\n",
            "    (2): MaxPool2d(kernel_size=2, stride=2, padding=0, dilation=1, ceil_mode=False)\n",
            "  )\n",
            ")\n",
            "torch.Size([16, 64, 16, 16])\n"
          ]
        }
      ],
      "source": [
        "cnn = CNN3()\n",
        "print(cnn)\n",
        "output = cnn(sample_image)\n",
        "print(output.size())"
      ]
    },
    {
      "cell_type": "markdown",
      "metadata": {
        "id": "Xc34AFr-EtJ7"
      },
      "source": [
        "### Let's practice creating the Convolutional Neural Network"
      ]
    },
    {
      "cell_type": "code",
      "execution_count": 17,
      "metadata": {
        "id": "Fc-cfHRxEwab"
      },
      "outputs": [],
      "source": [
        "class CNN_prac(nn.Module):\n",
        "    def __init__(self): # input image = batch_size x 3 x 32 x 32\n",
        "        super(CNN_prac, self).__init__()\n",
        "        # torch.nn.Conv2d(in_channels, out_channels, kernel_size, stride=1, padding=0, ...)\n",
        "        self.conv1 = nn.Conv2d(3, 512, 3, 1, 1)  # expected output shape : [batch, 512, 32, 32]\n",
        "        self.conv2 = nn.Conv2d(512, 256, 3, 1, 1) # expected output shape : [batch, 256, 32, 32]\n",
        "        self.conv3 = nn.Conv2d(256, 256, 3, 2, 1) # expected output shape : [batch, 256, 16, 16]\n",
        "        self.conv4 = nn.Conv2d(256, 256, 3, 4, 1) # todo : change to nn.Conv2d(?, ?, ?, ?, ?) (((W - K + 2P)/S) + 1)\n",
        "\n",
        "        self.linear = nn.Linear(256*4*4, 10)\n",
        "    def forward(self, x):\n",
        "        out=self.conv1(x)\n",
        "        out=self.conv2(out)\n",
        "        out=self.conv3(out)\n",
        "        out=self.conv4(out)\n",
        "        # contiguous : 연속적인 메모리 공간 할당(효율적인 메모리 할당)\n",
        "        out = out.contiguous().view(-1, 256*4*4) # output size should be [batch, 256, 4, 4]\n",
        "        out = self.linear(out)\n",
        "        return out"
      ]
    },
    {
      "cell_type": "code",
      "execution_count": 18,
      "metadata": {
        "id": "gFpbf_4cKUdG",
        "colab": {
          "base_uri": "https://localhost:8080/"
        },
        "outputId": "7a6cfc02-d272-42d1-9698-756c9a2ff5fd"
      },
      "outputs": [
        {
          "output_type": "stream",
          "name": "stdout",
          "text": [
            "torch.Size([64, 10])\n",
            "CNN_prac(\n",
            "  (conv1): Conv2d(3, 512, kernel_size=(3, 3), stride=(1, 1), padding=(1, 1))\n",
            "  (conv2): Conv2d(512, 256, kernel_size=(3, 3), stride=(1, 1), padding=(1, 1))\n",
            "  (conv3): Conv2d(256, 256, kernel_size=(3, 3), stride=(2, 2), padding=(1, 1))\n",
            "  (conv4): Conv2d(256, 256, kernel_size=(3, 3), stride=(4, 4), padding=(1, 1))\n",
            "  (linear): Linear(in_features=4096, out_features=10, bias=True)\n",
            ")\n"
          ]
        }
      ],
      "source": [
        "cnn_prac=CNN_prac()\n",
        "sample_image = torch.zeros(64, 3, 32, 32)\n",
        "output=cnn_prac(sample_image)\n",
        "print(output.size()) \n",
        "print(cnn_prac)"
      ]
    },
    {
      "cell_type": "markdown",
      "metadata": {
        "id": "f0oDpcezKlYK"
      },
      "source": [
        "## 2.1 VGG-19"
      ]
    },
    {
      "cell_type": "markdown",
      "metadata": {
        "id": "yYrJlv_6UbVu"
      },
      "source": [
        "### Let's create by yourself"
      ]
    },
    {
      "cell_type": "code",
      "execution_count": 20,
      "metadata": {
        "id": "EAZWOam78RgJ"
      },
      "outputs": [],
      "source": [
        "# https://iq.opengenus.org/vgg19-architecture/\n",
        "# ConvBlock1 : [conv -> batchnorm -> relu] x 2\n",
        "class ConvBlock1(nn.Module):\n",
        "\n",
        "    def __init__(self, in_dim, out_dim):\n",
        "        super(ConvBlock1, self).__init__()\n",
        "        \n",
        "        self.in_dim = in_dim\n",
        "        self.out_dim = out_dim\n",
        "\n",
        "        self.main = nn.Sequential(nn.Conv2d(self.in_dim, self.out_dim, kernel_size=3, padding=1),                    \n",
        "                                  nn.BatchNorm2d(self.out_dim),\n",
        "                                  nn.ReLU(),\n",
        "                                  nn.Conv2d(self.out_dim, self.out_dim, kernel_size=3, padding=1),                    \n",
        "                                  nn.BatchNorm2d(self.out_dim),\n",
        "                                  nn.ReLU(),\n",
        "                                  nn.MaxPool2d(2)\n",
        "                                 )\n",
        "        \n",
        "    def forward(self, x):\n",
        "        out = self.main(x)\n",
        "        return out"
      ]
    },
    {
      "cell_type": "code",
      "execution_count": 21,
      "metadata": {
        "id": "mGFf0M428Y90"
      },
      "outputs": [],
      "source": [
        "# ConvBlock2 : [conv -> batchnorm -> relu] x 4\n",
        "class ConvBlock2(nn.Module):\n",
        "\n",
        "    def __init__(self, in_dim, out_dim):\n",
        "        super(ConvBlock2, self).__init__()\n",
        "        \n",
        "        self.in_dim = in_dim\n",
        "        self.out_dim = out_dim\n",
        "        \n",
        "        self.main = nn.Sequential(nn.Conv2d(self.in_dim, self.out_dim, kernel_size=3, padding=1),                    \n",
        "                                  nn.BatchNorm2d(self.out_dim),\n",
        "                                  nn.ReLU(),\n",
        "                                  nn.Conv2d(self.out_dim, self.out_dim, kernel_size=3, padding=1),                    \n",
        "                                  nn.BatchNorm2d(self.out_dim),\n",
        "                                  nn.ReLU(),\n",
        "                                  nn.Conv2d(self.out_dim, self.out_dim, kernel_size=3, padding=1),                    \n",
        "                                  nn.BatchNorm2d(self.out_dim),\n",
        "                                  nn.ReLU(),\n",
        "                                  nn.Conv2d(self.out_dim, self.out_dim, kernel_size=3, padding=1),                    \n",
        "                                  nn.BatchNorm2d(self.out_dim),\n",
        "                                  nn.ReLU(),\n",
        "                                  nn.MaxPool2d(2) \n",
        "                                 )\n",
        "        \n",
        "    def forward(self, x):\n",
        "        out = self.main(x)\n",
        "        return out"
      ]
    },
    {
      "cell_type": "code",
      "execution_count": 22,
      "metadata": {
        "id": "t64ZySpa-4uH"
      },
      "outputs": [],
      "source": [
        "class VGG19(nn.Module):\n",
        "    def __init__(self):\n",
        "        super(VGG19, self).__init__()\n",
        "        \n",
        "        self.convlayer1 = ConvBlock1(3, 64)\n",
        "        self.convlayer2 = ConvBlock1(64, 128)\n",
        "        self.convlayer3 = ConvBlock2(128, 256)\n",
        "        self.convlayer4 = ConvBlock2(256, 512)\n",
        "        self.convlayer5 = ConvBlock2(512, 512)\n",
        "        self.linear = nn.Sequential(\n",
        "            nn.Linear(512, 512),\n",
        "            nn.ReLU(),\n",
        "            nn.Linear(512, 128),\n",
        "            nn.ReLU(),\n",
        "            nn.Linear(128, 10),\n",
        "        )\n",
        "    def forward(self, input):\n",
        "        out = self.convlayer1(input)    \n",
        "        out = self.convlayer2(out)\n",
        "        out = self.convlayer3(out)\n",
        "        out = self.convlayer4(out)\n",
        "        out = self.convlayer5(out).squeeze() # 16 x 512 x 1 x 1에서 뒤 1 x 1 축약 \n",
        "        out = self.linear(out)\n",
        "        return out\n"
      ]
    },
    {
      "cell_type": "markdown",
      "metadata": {
        "id": "3OJ3AF42UbVw"
      },
      "source": [
        "## Test Your Impelemetation"
      ]
    },
    {
      "cell_type": "code",
      "execution_count": 23,
      "metadata": {
        "id": "JD3mx_XCJudH",
        "colab": {
          "base_uri": "https://localhost:8080/"
        },
        "outputId": "62520984-8ddc-4b1b-90ab-61728f4d056f"
      },
      "outputs": [
        {
          "output_type": "stream",
          "name": "stdout",
          "text": [
            "VGG19(\n",
            "  (convlayer1): ConvBlock1(\n",
            "    (main): Sequential(\n",
            "      (0): Conv2d(3, 64, kernel_size=(3, 3), stride=(1, 1), padding=(1, 1))\n",
            "      (1): BatchNorm2d(64, eps=1e-05, momentum=0.1, affine=True, track_running_stats=True)\n",
            "      (2): ReLU()\n",
            "      (3): Conv2d(64, 64, kernel_size=(3, 3), stride=(1, 1), padding=(1, 1))\n",
            "      (4): BatchNorm2d(64, eps=1e-05, momentum=0.1, affine=True, track_running_stats=True)\n",
            "      (5): ReLU()\n",
            "      (6): MaxPool2d(kernel_size=2, stride=2, padding=0, dilation=1, ceil_mode=False)\n",
            "    )\n",
            "  )\n",
            "  (convlayer2): ConvBlock1(\n",
            "    (main): Sequential(\n",
            "      (0): Conv2d(64, 128, kernel_size=(3, 3), stride=(1, 1), padding=(1, 1))\n",
            "      (1): BatchNorm2d(128, eps=1e-05, momentum=0.1, affine=True, track_running_stats=True)\n",
            "      (2): ReLU()\n",
            "      (3): Conv2d(128, 128, kernel_size=(3, 3), stride=(1, 1), padding=(1, 1))\n",
            "      (4): BatchNorm2d(128, eps=1e-05, momentum=0.1, affine=True, track_running_stats=True)\n",
            "      (5): ReLU()\n",
            "      (6): MaxPool2d(kernel_size=2, stride=2, padding=0, dilation=1, ceil_mode=False)\n",
            "    )\n",
            "  )\n",
            "  (convlayer3): ConvBlock2(\n",
            "    (main): Sequential(\n",
            "      (0): Conv2d(128, 256, kernel_size=(3, 3), stride=(1, 1), padding=(1, 1))\n",
            "      (1): BatchNorm2d(256, eps=1e-05, momentum=0.1, affine=True, track_running_stats=True)\n",
            "      (2): ReLU()\n",
            "      (3): Conv2d(256, 256, kernel_size=(3, 3), stride=(1, 1), padding=(1, 1))\n",
            "      (4): BatchNorm2d(256, eps=1e-05, momentum=0.1, affine=True, track_running_stats=True)\n",
            "      (5): ReLU()\n",
            "      (6): Conv2d(256, 256, kernel_size=(3, 3), stride=(1, 1), padding=(1, 1))\n",
            "      (7): BatchNorm2d(256, eps=1e-05, momentum=0.1, affine=True, track_running_stats=True)\n",
            "      (8): ReLU()\n",
            "      (9): Conv2d(256, 256, kernel_size=(3, 3), stride=(1, 1), padding=(1, 1))\n",
            "      (10): BatchNorm2d(256, eps=1e-05, momentum=0.1, affine=True, track_running_stats=True)\n",
            "      (11): ReLU()\n",
            "      (12): MaxPool2d(kernel_size=2, stride=2, padding=0, dilation=1, ceil_mode=False)\n",
            "    )\n",
            "  )\n",
            "  (convlayer4): ConvBlock2(\n",
            "    (main): Sequential(\n",
            "      (0): Conv2d(256, 512, kernel_size=(3, 3), stride=(1, 1), padding=(1, 1))\n",
            "      (1): BatchNorm2d(512, eps=1e-05, momentum=0.1, affine=True, track_running_stats=True)\n",
            "      (2): ReLU()\n",
            "      (3): Conv2d(512, 512, kernel_size=(3, 3), stride=(1, 1), padding=(1, 1))\n",
            "      (4): BatchNorm2d(512, eps=1e-05, momentum=0.1, affine=True, track_running_stats=True)\n",
            "      (5): ReLU()\n",
            "      (6): Conv2d(512, 512, kernel_size=(3, 3), stride=(1, 1), padding=(1, 1))\n",
            "      (7): BatchNorm2d(512, eps=1e-05, momentum=0.1, affine=True, track_running_stats=True)\n",
            "      (8): ReLU()\n",
            "      (9): Conv2d(512, 512, kernel_size=(3, 3), stride=(1, 1), padding=(1, 1))\n",
            "      (10): BatchNorm2d(512, eps=1e-05, momentum=0.1, affine=True, track_running_stats=True)\n",
            "      (11): ReLU()\n",
            "      (12): MaxPool2d(kernel_size=2, stride=2, padding=0, dilation=1, ceil_mode=False)\n",
            "    )\n",
            "  )\n",
            "  (convlayer5): ConvBlock2(\n",
            "    (main): Sequential(\n",
            "      (0): Conv2d(512, 512, kernel_size=(3, 3), stride=(1, 1), padding=(1, 1))\n",
            "      (1): BatchNorm2d(512, eps=1e-05, momentum=0.1, affine=True, track_running_stats=True)\n",
            "      (2): ReLU()\n",
            "      (3): Conv2d(512, 512, kernel_size=(3, 3), stride=(1, 1), padding=(1, 1))\n",
            "      (4): BatchNorm2d(512, eps=1e-05, momentum=0.1, affine=True, track_running_stats=True)\n",
            "      (5): ReLU()\n",
            "      (6): Conv2d(512, 512, kernel_size=(3, 3), stride=(1, 1), padding=(1, 1))\n",
            "      (7): BatchNorm2d(512, eps=1e-05, momentum=0.1, affine=True, track_running_stats=True)\n",
            "      (8): ReLU()\n",
            "      (9): Conv2d(512, 512, kernel_size=(3, 3), stride=(1, 1), padding=(1, 1))\n",
            "      (10): BatchNorm2d(512, eps=1e-05, momentum=0.1, affine=True, track_running_stats=True)\n",
            "      (11): ReLU()\n",
            "      (12): MaxPool2d(kernel_size=2, stride=2, padding=0, dilation=1, ceil_mode=False)\n",
            "    )\n",
            "  )\n",
            "  (linear): Sequential(\n",
            "    (0): Linear(in_features=512, out_features=512, bias=True)\n",
            "    (1): ReLU()\n",
            "    (2): Linear(in_features=512, out_features=128, bias=True)\n",
            "    (3): ReLU()\n",
            "    (4): Linear(in_features=128, out_features=10, bias=True)\n",
            "  )\n",
            ")\n",
            "torch.Size([64, 10])\n"
          ]
        }
      ],
      "source": [
        "vgg19 = VGG19()\n",
        "print(vgg19)\n",
        "\n",
        "output = vgg19(sample_image)\n",
        "print(output.size())"
      ]
    },
    {
      "cell_type": "code",
      "execution_count": 24,
      "metadata": {
        "colab": {
          "base_uri": "https://localhost:8080/"
        },
        "id": "LhsmJFl3J_ur",
        "outputId": "50efbf21-31a8-4ac5-d6f9-ec279f4bd637"
      },
      "outputs": [
        {
          "output_type": "stream",
          "name": "stdout",
          "text": [
            "success!\n"
          ]
        }
      ],
      "source": [
        "def count_parameters(model):\n",
        "    return sum(p.numel() for p in model.parameters() if p.requires_grad)\n",
        "if count_parameters(vgg19) == 20365002:\n",
        "    print('success!')"
      ]
    },
    {
      "cell_type": "markdown",
      "metadata": {
        "id": "gf4OKtLe5mbx"
      },
      "source": [
        "# 2.2 CIFAR-10 Dataset\n",
        "\n",
        "50000 training images  \\\n",
        "10000 validation images \\\n",
        "\\\n",
        "10 classes = [airplane, car, truck, frog, ...]\n",
        "\\\n",
        "for more info, https://www.cs.toronto.edu/~kriz/cifar.html \n",
        "\n"
      ]
    },
    {
      "cell_type": "code",
      "source": [
        "# colab에서 상대경로를 이용하기 위한 코드. 과제 시연땐 무시해주세요\n",
        "from google.colab import drive\n",
        "import os\n",
        "\n",
        "\n",
        "drive.mount('/content/drive')\n",
        "os.chdir('/content/drive/MyDrive/Colab Notebooks/수업/20211224(CNN)') "
      ],
      "metadata": {
        "colab": {
          "base_uri": "https://localhost:8080/"
        },
        "id": "AO4WB51LNiz2",
        "outputId": "1086c770-4569-4108-d3c6-972bcc5d63b9"
      },
      "execution_count": 27,
      "outputs": [
        {
          "output_type": "stream",
          "name": "stdout",
          "text": [
            "Drive already mounted at /content/drive; to attempt to forcibly remount, call drive.mount(\"/content/drive\", force_remount=True).\n"
          ]
        }
      ]
    },
    {
      "cell_type": "code",
      "execution_count": 104,
      "metadata": {
        "id": "-f1-pzCsPq6W"
      },
      "outputs": [],
      "source": [
        "# set hyperparameters\n",
        "batch_size = 64\n",
        "learning_rate = 0.0001\n",
        "num_epochs = 1"
      ]
    },
    {
      "cell_type": "code",
      "execution_count": 105,
      "metadata": {
        "colab": {
          "base_uri": "https://localhost:8080/"
        },
        "id": "qajNxxseGGB6",
        "outputId": "75812701-bc76-4057-9844-a1bab523781a"
      },
      "outputs": [
        {
          "output_type": "stream",
          "name": "stdout",
          "text": [
            "Files already downloaded and verified\n"
          ]
        }
      ],
      "source": [
        "# import torchvision.datasets as datasets\n",
        "\n",
        "train_dataset = datasets.CIFAR10(root='./data/',       # 50000장\n",
        "                            train=True, \n",
        "                            transform=transforms.ToTensor(),\n",
        "                            download=True)\n",
        "\n",
        "test_dataset = datasets.CIFAR10(root='./data/',        # 10000장\n",
        "                           train=False, \n",
        "                           transform=transforms.ToTensor())\n",
        "\n",
        "# 데이터 로더\n",
        "train_loader = torch.utils.data.DataLoader(dataset=train_dataset,\n",
        "                                           batch_size=batch_size, \n",
        "                                           shuffle=True)\n",
        "\n",
        "test_loader = torch.utils.data.DataLoader(dataset=test_dataset,\n",
        "                                          batch_size=batch_size, \n",
        "                                          shuffle=True)"
      ]
    },
    {
      "cell_type": "code",
      "execution_count": 89,
      "metadata": {
        "id": "vdz7yTsFOtuf"
      },
      "outputs": [],
      "source": [
        "import matplotlib.pyplot as plt\n",
        "import numpy as np\n",
        "\n",
        "\n",
        "def show_cifar10():\n",
        "    for images, _ in train_loader:\n",
        "        plt.figure(figsize=(8,8))\n",
        "        images_to_show = images.numpy().transpose((0,2,3,1))\n",
        "\n",
        "        for a in range(331, 340):  \n",
        "            plt.subplot(a)\n",
        "            plt.imshow(images_to_show[a-331])\n",
        "            plt.xticks([])\n",
        "            plt.yticks([])    \n",
        "            plt.show()   \n",
        "        break\n",
        "    return 0\n",
        "\n",
        "\n",
        "def loss_plot(acc):  \n",
        "    plt.plot(acc)\n",
        "    plt.xlabel('log')\n",
        "    plt.ylabel('accuracy')\n",
        "    plt.grid(True)\n",
        "    plt.show()\n",
        "    return 0\n",
        "\n",
        "import time\n",
        "class Timer():    \n",
        "    def __init__(self):\n",
        "        self.cur_t = time.time()\n",
        "\n",
        "    def tic(self):\n",
        "        self.cur_t = time.time()\n",
        "\n",
        "    def toc(self):\n",
        "        return time.time() - self.cur_t\n",
        "\n",
        "    def tocStr(self, t=-1):\n",
        "        if (t == -1):\n",
        "            return str(datetime.timedelta(seconds=np.round(time.time() - self.cur_t, 3)))[:-4]\n",
        "        else:\n",
        "            return str(datetime.timedelta(seconds=np.round(t, 3)))[:-4]\n",
        "          \n",
        "\n",
        "def test_on_cifar10(model, accuracy_list):  \n",
        "    # Test the Model       \n",
        "    model.eval()    # Change model to 'eval' mode (BN uses moving mean/var).\n",
        "    correct = 0\n",
        "    total = 0\n",
        "    for j, (images, labels) in enumerate(test_loader):\n",
        "        images = images.cuda()\n",
        "        outputs = model(images)\n",
        "        _, predicted = torch.max(outputs.data, 1)\n",
        "        total += labels.size(0)\n",
        "        correct += (predicted.cpu() == labels).sum()\n",
        "        if (j+1)%100==0:\n",
        "            break\n",
        "\n",
        "    print('Test Accuracy of the model on the 100 test images: %d %%' % (100 * correct.float() / total))\n",
        "    accuracy_list.append(100 * correct.float() / total) \n",
        "    return accuracy_list"
      ]
    },
    {
      "cell_type": "code",
      "execution_count": 31,
      "metadata": {
        "id": "ZVfe387o5eVm",
        "colab": {
          "base_uri": "https://localhost:8080/",
          "height": 828
        },
        "outputId": "41afe551-1678-43f2-ece5-9cb615cddb9d"
      },
      "outputs": [
        {
          "output_type": "display_data",
          "data": {
            "image/png": "[encoded data removed]",
            "text/plain": [
              "<Figure size 576x576 with 1 Axes>"
            ]
          },
          "metadata": {}
        },
        {
          "output_type": "display_data",
          "data": {
            "image/png": "[encoded data removed]",
            "text/plain": [
              "<Figure size 432x288 with 1 Axes>"
            ]
          },
          "metadata": {}
        },
        {
          "output_type": "display_data",
          "data": {
            "image/png": "[encoded data removed]",
            "text/plain": [
              "<Figure size 432x288 with 1 Axes>"
            ]
          },
          "metadata": {}
        },
        {
          "output_type": "display_data",
          "data": {
            "image/png": "[encoded data removed]",
            "text/plain": [
              "<Figure size 432x288 with 1 Axes>"
            ]
          },
          "metadata": {}
        },
        {
          "output_type": "display_data",
          "data": {
            "image/png": "[encoded data removed]",
            "text/plain": [
              "<Figure size 432x288 with 1 Axes>"
            ]
          },
          "metadata": {}
        },
        {
          "output_type": "display_data",
          "data": {
            "image/png": "[encoded data removed]",
            "text/plain": [
              "<Figure size 432x288 with 1 Axes>"
            ]
          },
          "metadata": {}
        },
        {
          "output_type": "display_data",
          "data": {
            "image/png": "[encoded data removed]",
            "text/plain": [
              "<Figure size 432x288 with 1 Axes>"
            ]
          },
          "metadata": {}
        },
        {
          "output_type": "display_data",
          "data": {
            "image/png": "[encoded data removed]",
            "text/plain": [
              "<Figure size 432x288 with 1 Axes>"
            ]
          },
          "metadata": {}
        },
        {
          "output_type": "display_data",
          "data": {
            "image/png": "[encoded data removed]",
            "text/plain": [
              "<Figure size 432x288 with 1 Axes>"
            ]
          },
          "metadata": {}
        },
        {
          "output_type": "execute_result",
          "data": {
            "text/plain": [
              "0"
            ]
          },
          "metadata": {},
          "execution_count": 31
        }
      ],
      "source": [
        "show_cifar10()"
      ]
    },
    {
      "cell_type": "markdown",
      "metadata": {
        "id": "1sITqCxfOWjv"
      },
      "source": [
        "## Train Cifar-10 with your VGG-19"
      ]
    },
    {
      "cell_type": "code",
      "execution_count": 90,
      "metadata": {
        "id": "bd15jgp-Thej",
        "colab": {
          "base_uri": "https://localhost:8080/",
          "height": 536
        },
        "outputId": "a6bef472-d1f3-4eba-d018-38cd3dd83c0e"
      },
      "outputs": [
        {
          "output_type": "stream",
          "name": "stdout",
          "text": [
            "Epoch [1/1], Iter [100/781] Loss: 2.0960, iter_time: 21.95\n",
            "Test Accuracy of the model on the 100 test images: 23 %\n",
            "Epoch [1/1], Iter [200/781] Loss: 1.9329, iter_time: 27.27\n",
            "Test Accuracy of the model on the 100 test images: 30 %\n",
            "Epoch [1/1], Iter [300/781] Loss: 1.8100, iter_time: 27.28\n",
            "Test Accuracy of the model on the 100 test images: 37 %\n",
            "Epoch [1/1], Iter [400/781] Loss: 1.7002, iter_time: 27.27\n",
            "Test Accuracy of the model on the 100 test images: 38 %\n",
            "Epoch [1/1], Iter [500/781] Loss: 1.5990, iter_time: 27.27\n",
            "Test Accuracy of the model on the 100 test images: 43 %\n",
            "Epoch [1/1], Iter [600/781] Loss: 1.2822, iter_time: 27.28\n",
            "Test Accuracy of the model on the 100 test images: 40 %\n",
            "Epoch [1/1], Iter [700/781] Loss: 1.6012, iter_time: 27.33\n",
            "Test Accuracy of the model on the 100 test images: 45 %\n"
          ]
        },
        {
          "output_type": "display_data",
          "data": {
            "image/png": "[encoded data removed]",
            "text/plain": [
              "<Figure size 432x288 with 1 Axes>"
            ]
          },
          "metadata": {
            "needs_background": "light"
          }
        }
      ],
      "source": [
        "import torchvision.models as models\n",
        "vgg19 = models.vgg19_bn(pretrained=False)\n",
        "\n",
        "tell_time = Timer()\n",
        "iter_time = 0\n",
        "\n",
        "vgg19 = vgg19.cuda()\n",
        "criterion = nn.CrossEntropyLoss()\n",
        "optimizer = torch.optim.Adam(vgg19.parameters(), lr=learning_rate)\n",
        "\n",
        "accuracy_list = []\n",
        "for epoch in range(num_epochs):\n",
        "    vgg19.train()\n",
        "    for i, (images, labels) in enumerate(train_loader):\n",
        "        images = images.cuda()\n",
        "        labels = labels.cuda()\n",
        "\n",
        "        # Forward + Backward + Optimize\n",
        "        optimizer.zero_grad()\n",
        "        outputs = vgg19(images)\n",
        "        loss = criterion(outputs, labels)\n",
        "        loss.backward()\n",
        "        optimizer.step()\n",
        "\n",
        "        if (i+1) % 100 == 0:\n",
        "            print ('Epoch [%d/%d], Iter [%d/%d] Loss: %.4f, iter_time: %2.2f' \n",
        "                 %(epoch+1, num_epochs, i+1, len(train_dataset)//batch_size, loss.item(), tell_time.toc()-iter_time))\n",
        "            iter_time = tell_time.toc()    \n",
        "            accuracy_list = test_on_cifar10(vgg19, accuracy_list)\n",
        "\n",
        "    loss_plot(accuracy_list)"
      ]
    },
    {
      "cell_type": "markdown",
      "metadata": {
        "id": "ODBzyGVkUbVy"
      },
      "source": [
        "## Train Cifar-10 with pre-trained VGG-19"
      ]
    },
    {
      "cell_type": "code",
      "execution_count": 92,
      "metadata": {
        "id": "2wszStGbThqT"
      },
      "outputs": [],
      "source": [
        "import torchvision.models as models\n",
        "pre_vgg=models.vgg19_bn(pretrained=True)"
      ]
    },
    {
      "cell_type": "code",
      "source": [
        "pre_vgg"
      ],
      "metadata": {
        "colab": {
          "base_uri": "https://localhost:8080/"
        },
        "id": "MYu6L2wDk7-l",
        "outputId": "d2729ff3-767a-449b-9ce6-effb3d120e5b"
      },
      "execution_count": 93,
      "outputs": [
        {
          "output_type": "execute_result",
          "data": {
            "text/plain": [
              "VGG(\n",
              "  (features): Sequential(\n",
              "    (0): Conv2d(3, 64, kernel_size=(3, 3), stride=(1, 1), padding=(1, 1))\n",
              "    (1): BatchNorm2d(64, eps=1e-05, momentum=0.1, affine=True, track_running_stats=True)\n",
              "    (2): ReLU(inplace=True)\n",
              "    (3): Conv2d(64, 64, kernel_size=(3, 3), stride=(1, 1), padding=(1, 1))\n",
              "    (4): BatchNorm2d(64, eps=1e-05, momentum=0.1, affine=True, track_running_stats=True)\n",
              "    (5): ReLU(inplace=True)\n",
              "    (6): MaxPool2d(kernel_size=2, stride=2, padding=0, dilation=1, ceil_mode=False)\n",
              "    (7): Conv2d(64, 128, kernel_size=(3, 3), stride=(1, 1), padding=(1, 1))\n",
              "    (8): BatchNorm2d(128, eps=1e-05, momentum=0.1, affine=True, track_running_stats=True)\n",
              "    (9): ReLU(inplace=True)\n",
              "    (10): Conv2d(128, 128, kernel_size=(3, 3), stride=(1, 1), padding=(1, 1))\n",
              "    (11): BatchNorm2d(128, eps=1e-05, momentum=0.1, affine=True, track_running_stats=True)\n",
              "    (12): ReLU(inplace=True)\n",
              "    (13): MaxPool2d(kernel_size=2, stride=2, padding=0, dilation=1, ceil_mode=False)\n",
              "    (14): Conv2d(128, 256, kernel_size=(3, 3), stride=(1, 1), padding=(1, 1))\n",
              "    (15): BatchNorm2d(256, eps=1e-05, momentum=0.1, affine=True, track_running_stats=True)\n",
              "    (16): ReLU(inplace=True)\n",
              "    (17): Conv2d(256, 256, kernel_size=(3, 3), stride=(1, 1), padding=(1, 1))\n",
              "    (18): BatchNorm2d(256, eps=1e-05, momentum=0.1, affine=True, track_running_stats=True)\n",
              "    (19): ReLU(inplace=True)\n",
              "    (20): Conv2d(256, 256, kernel_size=(3, 3), stride=(1, 1), padding=(1, 1))\n",
              "    (21): BatchNorm2d(256, eps=1e-05, momentum=0.1, affine=True, track_running_stats=True)\n",
              "    (22): ReLU(inplace=True)\n",
              "    (23): Conv2d(256, 256, kernel_size=(3, 3), stride=(1, 1), padding=(1, 1))\n",
              "    (24): BatchNorm2d(256, eps=1e-05, momentum=0.1, affine=True, track_running_stats=True)\n",
              "    (25): ReLU(inplace=True)\n",
              "    (26): MaxPool2d(kernel_size=2, stride=2, padding=0, dilation=1, ceil_mode=False)\n",
              "    (27): Conv2d(256, 512, kernel_size=(3, 3), stride=(1, 1), padding=(1, 1))\n",
              "    (28): BatchNorm2d(512, eps=1e-05, momentum=0.1, affine=True, track_running_stats=True)\n",
              "    (29): ReLU(inplace=True)\n",
              "    (30): Conv2d(512, 512, kernel_size=(3, 3), stride=(1, 1), padding=(1, 1))\n",
              "    (31): BatchNorm2d(512, eps=1e-05, momentum=0.1, affine=True, track_running_stats=True)\n",
              "    (32): ReLU(inplace=True)\n",
              "    (33): Conv2d(512, 512, kernel_size=(3, 3), stride=(1, 1), padding=(1, 1))\n",
              "    (34): BatchNorm2d(512, eps=1e-05, momentum=0.1, affine=True, track_running_stats=True)\n",
              "    (35): ReLU(inplace=True)\n",
              "    (36): Conv2d(512, 512, kernel_size=(3, 3), stride=(1, 1), padding=(1, 1))\n",
              "    (37): BatchNorm2d(512, eps=1e-05, momentum=0.1, affine=True, track_running_stats=True)\n",
              "    (38): ReLU(inplace=True)\n",
              "    (39): MaxPool2d(kernel_size=2, stride=2, padding=0, dilation=1, ceil_mode=False)\n",
              "    (40): Conv2d(512, 512, kernel_size=(3, 3), stride=(1, 1), padding=(1, 1))\n",
              "    (41): BatchNorm2d(512, eps=1e-05, momentum=0.1, affine=True, track_running_stats=True)\n",
              "    (42): ReLU(inplace=True)\n",
              "    (43): Conv2d(512, 512, kernel_size=(3, 3), stride=(1, 1), padding=(1, 1))\n",
              "    (44): BatchNorm2d(512, eps=1e-05, momentum=0.1, affine=True, track_running_stats=True)\n",
              "    (45): ReLU(inplace=True)\n",
              "    (46): Conv2d(512, 512, kernel_size=(3, 3), stride=(1, 1), padding=(1, 1))\n",
              "    (47): BatchNorm2d(512, eps=1e-05, momentum=0.1, affine=True, track_running_stats=True)\n",
              "    (48): ReLU(inplace=True)\n",
              "    (49): Conv2d(512, 512, kernel_size=(3, 3), stride=(1, 1), padding=(1, 1))\n",
              "    (50): BatchNorm2d(512, eps=1e-05, momentum=0.1, affine=True, track_running_stats=True)\n",
              "    (51): ReLU(inplace=True)\n",
              "    (52): MaxPool2d(kernel_size=2, stride=2, padding=0, dilation=1, ceil_mode=False)\n",
              "  )\n",
              "  (avgpool): AdaptiveAvgPool2d(output_size=(7, 7))\n",
              "  (classifier): Sequential(\n",
              "    (0): Linear(in_features=25088, out_features=4096, bias=True)\n",
              "    (1): ReLU(inplace=True)\n",
              "    (2): Dropout(p=0.5, inplace=False)\n",
              "    (3): Linear(in_features=4096, out_features=4096, bias=True)\n",
              "    (4): ReLU(inplace=True)\n",
              "    (5): Dropout(p=0.5, inplace=False)\n",
              "    (6): Linear(in_features=4096, out_features=1000, bias=True)\n",
              "  )\n",
              ")"
            ]
          },
          "metadata": {},
          "execution_count": 93
        }
      ]
    },
    {
      "cell_type": "code",
      "source": [
        "a = torch.zeros((4,3,32,32))\n",
        "pre_vgg.features(a).shape"
      ],
      "metadata": {
        "id": "07csXSfZgEJF",
        "colab": {
          "base_uri": "https://localhost:8080/"
        },
        "outputId": "5d333584-2af3-4c15-99cc-28baea6c96d8"
      },
      "execution_count": 94,
      "outputs": [
        {
          "output_type": "execute_result",
          "data": {
            "text/plain": [
              "torch.Size([4, 512, 1, 1])"
            ]
          },
          "metadata": {},
          "execution_count": 94
        }
      ]
    },
    {
      "cell_type": "code",
      "execution_count": 95,
      "metadata": {
        "id": "JBjKGJ7_lJxK"
      },
      "outputs": [],
      "source": [
        "class pretrained_vgg(nn.Module):\n",
        "    def __init__(self, pre_vgg):\n",
        "        super(pretrained_vgg, self).__init__()\n",
        "        self.features = nn.Sequential(   \n",
        "            *list(pre_vgg.features.children())\n",
        "        )\n",
        "        self.linear = nn.Sequential(\n",
        "            nn.Linear(512, 512),\n",
        "            nn.ReLU(),\n",
        "            nn.Linear(512, 128),\n",
        "            nn.ReLU(),\n",
        "            nn.Linear(128, 10),\n",
        "        )\n",
        "    def forward(self, x):\n",
        "        out = self.features(x).squeeze()\n",
        "        out = self.linear(out)\n",
        "        return out"
      ]
    },
    {
      "cell_type": "code",
      "execution_count": 36,
      "metadata": {
        "colab": {
          "base_uri": "https://localhost:8080/",
          "height": 536
        },
        "id": "8BWlG9AWlT3k",
        "outputId": "3740ef9b-b2f0-4f3c-ccdb-7d3f95c7cb6e"
      },
      "outputs": [
        {
          "output_type": "stream",
          "name": "stdout",
          "text": [
            "Epoch [1/1], Iter [100/781] Loss: 0.9402, iter_time: 11.93\n",
            "Test Accuracy of the model on the 100 test images: 69 %\n",
            "Epoch [1/1], Iter [200/781] Loss: 0.7927, iter_time: 15.87\n",
            "Test Accuracy of the model on the 100 test images: 73 %\n",
            "Epoch [1/1], Iter [300/781] Loss: 0.7378, iter_time: 15.87\n",
            "Test Accuracy of the model on the 100 test images: 75 %\n",
            "Epoch [1/1], Iter [400/781] Loss: 0.5879, iter_time: 15.87\n",
            "Test Accuracy of the model on the 100 test images: 81 %\n",
            "Epoch [1/1], Iter [500/781] Loss: 0.4533, iter_time: 15.85\n",
            "Test Accuracy of the model on the 100 test images: 81 %\n",
            "Epoch [1/1], Iter [600/781] Loss: 0.4639, iter_time: 15.85\n",
            "Test Accuracy of the model on the 100 test images: 80 %\n",
            "Epoch [1/1], Iter [700/781] Loss: 0.5240, iter_time: 15.85\n",
            "Test Accuracy of the model on the 100 test images: 84 %\n"
          ]
        },
        {
          "output_type": "display_data",
          "data": {
            "image/png": "[encoded data removed]",
            "text/plain": [
              "<Figure size 432x288 with 1 Axes>"
            ]
          },
          "metadata": {
            "needs_background": "light"
          }
        }
      ],
      "source": [
        "vgg19 = pretrained_vgg(pre_vgg)\n",
        "\n",
        "tell_time = Timer()\n",
        "iter_time = 0\n",
        "\n",
        "vgg19 = vgg19.cuda()\n",
        "criterion = nn.CrossEntropyLoss()\n",
        "optimizer = torch.optim.Adam(vgg19.parameters(), lr=learning_rate)\n",
        "\n",
        "accuracy_list = []\n",
        "for epoch in range(num_epochs):\n",
        "    vgg19.train()\n",
        "    for i, (images, labels) in enumerate(train_loader):\n",
        "        images = images.cuda()\n",
        "        labels = labels.cuda()\n",
        "\n",
        "        # Forward + Backward + Optimize\n",
        "        optimizer.zero_grad()\n",
        "        outputs = vgg19(images) # batch, 10\n",
        "        loss = criterion(outputs, labels)\n",
        "        loss.backward()\n",
        "        optimizer.step()\n",
        "\n",
        "        if (i+1) % 100 == 0:\n",
        "            print ('Epoch [%d/%d], Iter [%d/%d] Loss: %.4f, iter_time: %2.2f' \n",
        "                 %(epoch+1, num_epochs, i+1, len(train_dataset)//batch_size, loss.item(), tell_time.toc()-iter_time))\n",
        "            iter_time = tell_time.toc()    \n",
        "            accuracy_list = test_on_cifar10(vgg19, accuracy_list)\n",
        "\n",
        "    loss_plot(accuracy_list)"
      ]
    },
    {
      "cell_type": "markdown",
      "source": [
        "# ASSIGNMENT : Change the vgg model to resnet model and re-training"
      ],
      "metadata": {
        "collapsed": false,
        "pycharm": {
          "name": "#%% md\n"
        },
        "id": "cUIR0LHlUbVz"
      }
    },
    {
      "cell_type": "code",
      "source": [
        "# https://github.com/pytorch/vision/blob/main/torchvision/models/resnet.py\n",
        "resnet18 = models.resnet18(pretrained=True)"
      ],
      "metadata": {
        "id": "PqcsVSVTiDcz"
      },
      "execution_count": 160,
      "outputs": []
    },
    {
      "cell_type": "code",
      "source": [
        "a = torch.zeros((64,3,32,32))\n",
        "o = resnet18(a)\n",
        "print(o.shape)"
      ],
      "metadata": {
        "colab": {
          "base_uri": "https://localhost:8080/"
        },
        "id": "TcRiEKBwh57k",
        "outputId": "94304bb6-2dcd-40bb-e536-f4164f82e253"
      },
      "execution_count": 161,
      "outputs": [
        {
          "output_type": "stream",
          "name": "stdout",
          "text": [
            "torch.Size([64, 1000])\n"
          ]
        }
      ]
    },
    {
      "cell_type": "code",
      "source": [
        "# hint !!!\n",
        "test_layers = nn.Sequential(   \n",
        "            *list(resnet18.children())\n",
        "        )\n",
        "for i in range(len(test_layers)):\n",
        "    o = test_layers[:i](a)\n",
        "    print(i, o.shape)"
      ],
      "metadata": {
        "colab": {
          "base_uri": "https://localhost:8080/"
        },
        "id": "YBC2UHD4j5AU",
        "outputId": "b9070230-fbcd-4074-be80-47586accf059"
      },
      "execution_count": 162,
      "outputs": [
        {
          "output_type": "stream",
          "name": "stdout",
          "text": [
            "0 torch.Size([64, 3, 32, 32])\n",
            "1 torch.Size([64, 64, 16, 16])\n",
            "2 torch.Size([64, 64, 16, 16])\n",
            "3 torch.Size([64, 64, 16, 16])\n",
            "4 torch.Size([64, 64, 8, 8])\n",
            "5 torch.Size([64, 64, 8, 8])\n",
            "6 torch.Size([64, 128, 4, 4])\n",
            "7 torch.Size([64, 256, 2, 2])\n",
            "8 torch.Size([64, 512, 1, 1])\n",
            "9 torch.Size([64, 512, 1, 1])\n"
          ]
        }
      ]
    },
    {
      "cell_type": "code",
      "source": [
        "test_layers"
      ],
      "metadata": {
        "colab": {
          "base_uri": "https://localhost:8080/"
        },
        "id": "FqtQOxAMR2gD",
        "outputId": "48df06c2-e128-41dc-c66e-068943bc0554"
      },
      "execution_count": 163,
      "outputs": [
        {
          "output_type": "execute_result",
          "data": {
            "text/plain": [
              "Sequential(\n",
              "  (0): Conv2d(3, 64, kernel_size=(7, 7), stride=(2, 2), padding=(3, 3), bias=False)\n",
              "  (1): BatchNorm2d(64, eps=1e-05, momentum=0.1, affine=True, track_running_stats=True)\n",
              "  (2): ReLU(inplace=True)\n",
              "  (3): MaxPool2d(kernel_size=3, stride=2, padding=1, dilation=1, ceil_mode=False)\n",
              "  (4): Sequential(\n",
              "    (0): BasicBlock(\n",
              "      (conv1): Conv2d(64, 64, kernel_size=(3, 3), stride=(1, 1), padding=(1, 1), bias=False)\n",
              "      (bn1): BatchNorm2d(64, eps=1e-05, momentum=0.1, affine=True, track_running_stats=True)\n",
              "      (relu): ReLU(inplace=True)\n",
              "      (conv2): Conv2d(64, 64, kernel_size=(3, 3), stride=(1, 1), padding=(1, 1), bias=False)\n",
              "      (bn2): BatchNorm2d(64, eps=1e-05, momentum=0.1, affine=True, track_running_stats=True)\n",
              "    )\n",
              "    (1): BasicBlock(\n",
              "      (conv1): Conv2d(64, 64, kernel_size=(3, 3), stride=(1, 1), padding=(1, 1), bias=False)\n",
              "      (bn1): BatchNorm2d(64, eps=1e-05, momentum=0.1, affine=True, track_running_stats=True)\n",
              "      (relu): ReLU(inplace=True)\n",
              "      (conv2): Conv2d(64, 64, kernel_size=(3, 3), stride=(1, 1), padding=(1, 1), bias=False)\n",
              "      (bn2): BatchNorm2d(64, eps=1e-05, momentum=0.1, affine=True, track_running_stats=True)\n",
              "    )\n",
              "  )\n",
              "  (5): Sequential(\n",
              "    (0): BasicBlock(\n",
              "      (conv1): Conv2d(64, 128, kernel_size=(3, 3), stride=(2, 2), padding=(1, 1), bias=False)\n",
              "      (bn1): BatchNorm2d(128, eps=1e-05, momentum=0.1, affine=True, track_running_stats=True)\n",
              "      (relu): ReLU(inplace=True)\n",
              "      (conv2): Conv2d(128, 128, kernel_size=(3, 3), stride=(1, 1), padding=(1, 1), bias=False)\n",
              "      (bn2): BatchNorm2d(128, eps=1e-05, momentum=0.1, affine=True, track_running_stats=True)\n",
              "      (downsample): Sequential(\n",
              "        (0): Conv2d(64, 128, kernel_size=(1, 1), stride=(2, 2), bias=False)\n",
              "        (1): BatchNorm2d(128, eps=1e-05, momentum=0.1, affine=True, track_running_stats=True)\n",
              "      )\n",
              "    )\n",
              "    (1): BasicBlock(\n",
              "      (conv1): Conv2d(128, 128, kernel_size=(3, 3), stride=(1, 1), padding=(1, 1), bias=False)\n",
              "      (bn1): BatchNorm2d(128, eps=1e-05, momentum=0.1, affine=True, track_running_stats=True)\n",
              "      (relu): ReLU(inplace=True)\n",
              "      (conv2): Conv2d(128, 128, kernel_size=(3, 3), stride=(1, 1), padding=(1, 1), bias=False)\n",
              "      (bn2): BatchNorm2d(128, eps=1e-05, momentum=0.1, affine=True, track_running_stats=True)\n",
              "    )\n",
              "  )\n",
              "  (6): Sequential(\n",
              "    (0): BasicBlock(\n",
              "      (conv1): Conv2d(128, 256, kernel_size=(3, 3), stride=(2, 2), padding=(1, 1), bias=False)\n",
              "      (bn1): BatchNorm2d(256, eps=1e-05, momentum=0.1, affine=True, track_running_stats=True)\n",
              "      (relu): ReLU(inplace=True)\n",
              "      (conv2): Conv2d(256, 256, kernel_size=(3, 3), stride=(1, 1), padding=(1, 1), bias=False)\n",
              "      (bn2): BatchNorm2d(256, eps=1e-05, momentum=0.1, affine=True, track_running_stats=True)\n",
              "      (downsample): Sequential(\n",
              "        (0): Conv2d(128, 256, kernel_size=(1, 1), stride=(2, 2), bias=False)\n",
              "        (1): BatchNorm2d(256, eps=1e-05, momentum=0.1, affine=True, track_running_stats=True)\n",
              "      )\n",
              "    )\n",
              "    (1): BasicBlock(\n",
              "      (conv1): Conv2d(256, 256, kernel_size=(3, 3), stride=(1, 1), padding=(1, 1), bias=False)\n",
              "      (bn1): BatchNorm2d(256, eps=1e-05, momentum=0.1, affine=True, track_running_stats=True)\n",
              "      (relu): ReLU(inplace=True)\n",
              "      (conv2): Conv2d(256, 256, kernel_size=(3, 3), stride=(1, 1), padding=(1, 1), bias=False)\n",
              "      (bn2): BatchNorm2d(256, eps=1e-05, momentum=0.1, affine=True, track_running_stats=True)\n",
              "    )\n",
              "  )\n",
              "  (7): Sequential(\n",
              "    (0): BasicBlock(\n",
              "      (conv1): Conv2d(256, 512, kernel_size=(3, 3), stride=(2, 2), padding=(1, 1), bias=False)\n",
              "      (bn1): BatchNorm2d(512, eps=1e-05, momentum=0.1, affine=True, track_running_stats=True)\n",
              "      (relu): ReLU(inplace=True)\n",
              "      (conv2): Conv2d(512, 512, kernel_size=(3, 3), stride=(1, 1), padding=(1, 1), bias=False)\n",
              "      (bn2): BatchNorm2d(512, eps=1e-05, momentum=0.1, affine=True, track_running_stats=True)\n",
              "      (downsample): Sequential(\n",
              "        (0): Conv2d(256, 512, kernel_size=(1, 1), stride=(2, 2), bias=False)\n",
              "        (1): BatchNorm2d(512, eps=1e-05, momentum=0.1, affine=True, track_running_stats=True)\n",
              "      )\n",
              "    )\n",
              "    (1): BasicBlock(\n",
              "      (conv1): Conv2d(512, 512, kernel_size=(3, 3), stride=(1, 1), padding=(1, 1), bias=False)\n",
              "      (bn1): BatchNorm2d(512, eps=1e-05, momentum=0.1, affine=True, track_running_stats=True)\n",
              "      (relu): ReLU(inplace=True)\n",
              "      (conv2): Conv2d(512, 512, kernel_size=(3, 3), stride=(1, 1), padding=(1, 1), bias=False)\n",
              "      (bn2): BatchNorm2d(512, eps=1e-05, momentum=0.1, affine=True, track_running_stats=True)\n",
              "    )\n",
              "  )\n",
              "  (8): AdaptiveAvgPool2d(output_size=(1, 1))\n",
              "  (9): Linear(in_features=512, out_features=1000, bias=True)\n",
              ")"
            ]
          },
          "metadata": {},
          "execution_count": 163
        }
      ]
    },
    {
      "cell_type": "code",
      "source": [
        "class pretrained_resnet(nn.Module):\n",
        "    def __init__(self, resnet18):\n",
        "        super(pretrained_resnet, self).__init__()\n",
        "        self.features = nn.Sequential(   \n",
        "            *list(resnet18.children())\n",
        "        )\n",
        "        self.features = self.features[:7]\n",
        "\n",
        "        self.linear = nn.Sequential(\n",
        "            nn.Linear(1024, 512),\n",
        "            nn.ReLU(),\n",
        "            nn.Linear(512, 128),\n",
        "            nn.ReLU(),\n",
        "            nn.Linear(128, 10),\n",
        "        )\n",
        "    \n",
        "    def forward(self, x):\n",
        "        out = self.features(x).view(-1, 256 * 2 * 2)\n",
        "        out = self.linear(out)\n",
        "        return out"
      ],
      "metadata": {
        "id": "F33a8Fw7hR5l"
      },
      "execution_count": 165,
      "outputs": []
    },
    {
      "cell_type": "code",
      "source": [
        "# set hyperparameters\n",
        "learning_rate = 0.00005\n",
        "num_epochs = 2"
      ],
      "metadata": {
        "id": "2VFORmPNlCvs"
      },
      "execution_count": 166,
      "outputs": []
    },
    {
      "cell_type": "code",
      "source": [
        "resnet_our = pretrained_resnet(resnet18)\n",
        "\n",
        "tell_time = Timer()\n",
        "iter_time = 0\n",
        "\n",
        "resnet_our = resnet_our.cuda()\n",
        "criterion = nn.CrossEntropyLoss()\n",
        "optimizer = torch.optim.Adam(resnet_our.parameters(), lr=learning_rate)\n",
        "\n",
        "accuracy_list = []\n",
        "for epoch in range(num_epochs):\n",
        "    resnet_our.train()\n",
        "    for i, (images, labels) in enumerate(train_loader):\n",
        "        images = images.cuda()\n",
        "        labels = labels.cuda()\n",
        "\n",
        "        # Forward + Backward + Optimize\n",
        "        optimizer.zero_grad()\n",
        "        outputs = resnet_our(images)\n",
        "        loss = criterion(outputs, labels)\n",
        "        loss.backward()\n",
        "        optimizer.step()\n",
        "\n",
        "        if (i+1) % 100 == 0:\n",
        "            print ('Epoch [%d/%d], Iter [%d/%d] Loss: %.4f, iter_time: %2.2f' \n",
        "                 %(epoch+1, num_epochs, i+1, len(train_dataset)//batch_size, loss.item(), tell_time.toc()-iter_time))\n",
        "            iter_time = tell_time.toc()    \n",
        "            accuracy_list = test_on_cifar10(resnet_our, accuracy_list)\n",
        "\n",
        "    loss_plot(accuracy_list)"
      ],
      "metadata": {
        "id": "Q30NJhaOkwOS",
        "colab": {
          "base_uri": "https://localhost:8080/",
          "height": 1000
        },
        "outputId": "ce1a0dea-ea0d-4027-b520-6a1bde075724"
      },
      "execution_count": 167,
      "outputs": [
        {
          "output_type": "stream",
          "name": "stdout",
          "text": [
            "Epoch [1/2], Iter [100/781] Loss: 1.8220, iter_time: 3.45\n",
            "Test Accuracy of the model on the 100 test images: 43 %\n",
            "Epoch [1/2], Iter [200/781] Loss: 1.1620, iter_time: 5.20\n",
            "Test Accuracy of the model on the 100 test images: 63 %\n",
            "Epoch [1/2], Iter [300/781] Loss: 0.7695, iter_time: 5.23\n",
            "Test Accuracy of the model on the 100 test images: 69 %\n",
            "Epoch [1/2], Iter [400/781] Loss: 0.7130, iter_time: 5.23\n",
            "Test Accuracy of the model on the 100 test images: 72 %\n",
            "Epoch [1/2], Iter [500/781] Loss: 0.7716, iter_time: 5.24\n",
            "Test Accuracy of the model on the 100 test images: 73 %\n",
            "Epoch [1/2], Iter [600/781] Loss: 0.8081, iter_time: 5.22\n",
            "Test Accuracy of the model on the 100 test images: 74 %\n",
            "Epoch [1/2], Iter [700/781] Loss: 0.7579, iter_time: 5.22\n",
            "Test Accuracy of the model on the 100 test images: 75 %\n"
          ]
        },
        {
          "output_type": "display_data",
          "data": {
            "image/png": "[encoded data removed]",
            "text/plain": [
              "<Figure size 432x288 with 1 Axes>"
            ]
          },
          "metadata": {
            "needs_background": "light"
          }
        },
        {
          "output_type": "stream",
          "name": "stdout",
          "text": [
            "Epoch [2/2], Iter [100/781] Loss: 1.2831, iter_time: 8.07\n",
            "Test Accuracy of the model on the 100 test images: 71 %\n",
            "Epoch [2/2], Iter [200/781] Loss: 0.8056, iter_time: 5.22\n",
            "Test Accuracy of the model on the 100 test images: 76 %\n",
            "Epoch [2/2], Iter [300/781] Loss: 0.8351, iter_time: 5.25\n",
            "Test Accuracy of the model on the 100 test images: 77 %\n",
            "Epoch [2/2], Iter [400/781] Loss: 0.6325, iter_time: 5.24\n",
            "Test Accuracy of the model on the 100 test images: 77 %\n",
            "Epoch [2/2], Iter [500/781] Loss: 0.6044, iter_time: 5.23\n",
            "Test Accuracy of the model on the 100 test images: 76 %\n",
            "Epoch [2/2], Iter [600/781] Loss: 0.6497, iter_time: 5.26\n",
            "Test Accuracy of the model on the 100 test images: 76 %\n",
            "Epoch [2/2], Iter [700/781] Loss: 0.6343, iter_time: 5.25\n",
            "Test Accuracy of the model on the 100 test images: 77 %\n"
          ]
        },
        {
          "output_type": "display_data",
          "data": {
            "image/png": "[encoded data removed]",
            "text/plain": [
              "<Figure size 432x288 with 1 Axes>"
            ]
          },
          "metadata": {
            "needs_background": "light"
          }
        }
      ]
    },
    {
      "cell_type": "code",
      "source": [
        ""
      ],
      "metadata": {
        "id": "4NBVmcTYlAki"
      },
      "execution_count": null,
      "outputs": []
    }
  ],
  "metadata": {
    "accelerator": "GPU",
    "colab": {
      "collapsed_sections": [],
      "name": "1_VGG.ipynb",
      "provenance": [],
      "toc_visible": true
    },
    "kernelspec": {
      "display_name": "Python 3",
      "language": "python",
      "name": "python3"
    },
    "language_info": {
      "codemirror_mode": {
        "name": "ipython",
        "version": 3
      },
      "file_extension": ".py",
      "mimetype": "text/x-python",
      "name": "python",
      "nbconvert_exporter": "python",
      "pygments_lexer": "ipython3",
      "version": "3.7.8"
    }
  },
  "nbformat": 4,
  "nbformat_minor": 0
}