{
  "cells": [
    {
      "cell_type": "markdown",
      "metadata": {
        "id": "oLaBt6g0FmT0"
      },
      "source": [
        "## HW1\n",
        "### 주어진 ./data/minidata안의 파일 안에서 64x64 사이즈의 고양이와 128X128 사이즈의 강아지, 그리고 각각의 파일 명을 내 뱉는 Dataloader를 만드시오\n",
        "### Data augmentation은 train일 경우 Horizon Flip, 랜덤90도 rotation, 랜덤 Crop을, train이 아닌 경우 하지 않도록 작성하시오"
      ]
    },
    {
      "cell_type": "code",
      "execution_count": null,
      "metadata": {
        "id": "kmqNG7wKFmT2"
      },
      "outputs": [],
      "source": [
        "from torchvision import datasets\n",
        "from torch.utils.data import Dataset\n",
        "from torchvision import datasets, transforms\n",
        "\n",
        "from PIL import Image\n",
        "import os\n",
        "from glob import glob"
      ]
    },
    {
      "cell_type": "code",
      "source": [
        "# colab에서 상대경로를 이용하기 위한 코드. 과제 시연땐 무시해주세요\n",
        "from google.colab import drive\n",
        "\n",
        "\n",
        "drive.mount('/content/drive')\n",
        "os.chdir('/content/drive/MyDrive/Colab Notebooks/수업/20211224') "
      ],
      "metadata": {
        "colab": {
          "base_uri": "https://localhost:8080/"
        },
        "id": "c2PjrW5gGhLv",
        "outputId": "67f70ecf-1aa9-4413-cf8d-af6a8c65de88"
      },
      "execution_count": null,
      "outputs": [
        {
          "output_type": "stream",
          "name": "stdout",
          "text": [
            "Mounted at /content/drive\n"
          ]
        }
      ]
    },
    {
      "cell_type": "code",
      "source": [
        "class HwDataset(Dataset):\n",
        "    def __init__(self, train_dir = './data/minidata/train', train = False):\n",
        "        self.train_dir = train_dir\n",
        "        self.train = train\n",
        "        self.dog_data = glob(os.path.join(self.train_dir, 'dog', '*'))\n",
        "        self.cat_data = glob(os.path.join(self.train_dir, 'cat', '*'))\n",
        "        self.train_transform = transforms.Compose([transforms.RandomResizedCrop(128),\n",
        "                                             transforms.RandomRotation((-90, 90)),\n",
        "                                             transforms.RandomHorizontalFlip(),\n",
        "                                             ])\n",
        "        self.cat_transform = transforms.Compose([transforms.Resize((64, 64)),\n",
        "                                                 transforms.ToTensor(),\n",
        "                                                  ])\n",
        "        self.dog_transform = transforms.Compose([transforms.Resize((128, 128)),\n",
        "                                                 transforms.ToTensor(),\n",
        "                                                  ])\n",
        "        \n",
        "\n",
        "    def __len__(self):\n",
        "        return len(self.dog_data) + len(self.cat_data)\n",
        "    \n",
        "\n",
        "    def __getitem__(self, index):\n",
        "        dog = Image.open(self.dog_data[index]).convert('RGB')\n",
        "        cat = Image.open(self.cat_data[index]).convert('RGB')\n",
        "        dogname = self.dog_data[index].split('/')[-1]\n",
        "        catname = self.cat_data[index].split('/')[-1]\n",
        "        if self.train:\n",
        "            dog = self.train_transform(dog)\n",
        "            cat = self.train_transform(cat)\n",
        "        dog = self.dog_transform(dog)\n",
        "        cat = self.cat_transform(cat)\n",
        "        \n",
        "        return cat, dog, catname, dogname\n"
      ],
      "metadata": {
        "id": "EjlJ7BmuGWyV"
      },
      "execution_count": null,
      "outputs": []
    },
    {
      "cell_type": "code",
      "execution_count": null,
      "metadata": {
        "id": "Z7yn-tAzFmT4"
      },
      "outputs": [],
      "source": [
        "train_dataset = HwDataset('./data/minidata/train',train=True)\n",
        "val_dataset = HwDataset('./data/minidata/val',train=False)"
      ]
    },
    {
      "cell_type": "markdown",
      "metadata": {
        "id": "F8SovWbtFmT4"
      },
      "source": [
        "## HW2\n",
        "### 2_NeuralNetwork.ipynb의 Let's Do It 코드를 작성해서 결과를 확인하시오"
      ]
    },
    {
      "cell_type": "code",
      "execution_count": null,
      "metadata": {
        "id": "ojJ1rKtEFmT4"
      },
      "outputs": [],
      "source": [
        "# 필요한 train test코드를 다 작성하세요"
      ]
    },
    {
      "cell_type": "code",
      "source": [
        "import torch\n",
        "import torch.nn as nn\n",
        "import torch.nn.functional as F\n",
        "import torchvision\n",
        "import torchvision.datasets as vision_dsets\n",
        "import torchvision.transforms as T\n",
        "import torch.optim as optim\n",
        "from torch.utils import data\n",
        "\n",
        "from torchvision import datasets\n",
        "from torch.utils.data import Dataset\n",
        "from torchvision import datasets, transforms\n",
        "\n",
        "\n",
        "os.environ['CUDA_VISIBLE_DEVICES'] = '0'"
      ],
      "metadata": {
        "id": "4MHmwzlgigwR"
      },
      "execution_count": null,
      "outputs": []
    },
    {
      "cell_type": "code",
      "source": [
        "def MNIST_DATA(root='./data',train =True,transforms=None ,download =True,batch_size = 32,num_worker = 1):\n",
        "    print (\"[+] Get the MNIST DATA\")\n",
        "    mnist_train = vision_dsets.MNIST(root = root,\n",
        "                                    train = True,\n",
        "                                    transform = T.ToTensor(),\n",
        "                                    download = True)\n",
        "    mnist_test = vision_dsets.MNIST(root = root,\n",
        "                                    train = False,\n",
        "                                    transform = T.ToTensor(),\n",
        "                                    download = True)\n",
        " \n",
        "    trainDataLoader = data.DataLoader(dataset = mnist_train,\n",
        "                                      batch_size = batch_size,\n",
        "                                      shuffle =True,\n",
        "                                      num_workers = 1)\n",
        "\n",
        "    testDataLoader = data.DataLoader(dataset = mnist_test,\n",
        "                                    batch_size = batch_size,\n",
        "                                    shuffle = False,\n",
        "                                    num_workers = 1)\n",
        "    print (\"[+] Finished loading data & Preprocessing\")\n",
        "    \n",
        "    return mnist_train,mnist_test,trainDataLoader,testDataLoader"
      ],
      "metadata": {
        "id": "pURLet_5jW34"
      },
      "execution_count": null,
      "outputs": []
    },
    {
      "cell_type": "code",
      "source": [
        "trainDset, testDset, trainDataLoader, testDataLoader= MNIST_DATA(batch_size = 32)"
      ],
      "metadata": {
        "colab": {
          "base_uri": "https://localhost:8080/"
        },
        "id": "s7-8W-AtkWpU",
        "outputId": "a8253753-060f-4ddd-e489-d68110b7a9fa"
      },
      "execution_count": null,
      "outputs": [
        {
          "output_type": "stream",
          "name": "stdout",
          "text": [
            "[+] Get the MNIST DATA\n",
            "[+] Finished loading data & Preprocessing\n"
          ]
        }
      ]
    },
    {
      "cell_type": "code",
      "source": [
        "class Trainer():\n",
        "    def __init__(self, trainloader, testloader, net, optimizer, criterion):\n",
        "        self.trainloader = trainloader\n",
        "        self.testloader = testloader\n",
        "        self.net = net\n",
        "        self.optimizer = optimizer\n",
        "        self.criterion = criterion\n",
        "        \n",
        "    def train(self, epoch = 1):\n",
        "        self.net.train()\n",
        "        for e in range(epoch):\n",
        "            running_loss = 0.0\n",
        "            for i, data in enumerate(self.trainloader, 0):\n",
        "                # get the inputs\n",
        "                inputs, labels = data\n",
        "                inputs = inputs.cuda()\n",
        "                labels = labels.cuda()\n",
        "                self.optimizer.zero_grad()\n",
        "\n",
        "                outputs = self.net(inputs)\n",
        "                loss = self.criterion(outputs, labels)\n",
        "                loss.backward()\n",
        "                self.optimizer.step()\n",
        "\n",
        "                running_loss += loss.item()\n",
        "                if (i+1) % 500 == 0:\n",
        "                    print('[%d, %5d] loss: %.3f' % (e + 1, i + 1, running_loss / 500))\n",
        "                    running_loss = 0.0\n",
        "\n",
        "        print('Finished Training')\n",
        "        \n",
        "    def test(self):\n",
        "        self.net.eval()\n",
        "        test_loss = 0\n",
        "        correct = 0\n",
        "        for inputs, labels in self.testloader:\n",
        "            inputs = inputs.cuda()\n",
        "            labels = labels.cuda() \n",
        "            output = self.net(inputs) \n",
        "            pred = output.max(1, keepdim=True)[1]\n",
        "            correct += pred.eq(labels.view_as(pred)).sum().item()\n",
        "\n",
        "            test_loss /= len(self.testloader.dataset)\n",
        "        print('\\nTest set:  Accuracy: {}/{} ({:.0f}%)\\n'.\n",
        "                format(correct, len(self.testloader.dataset),\n",
        "                100.* correct / len(self.testloader.dataset)))"
      ],
      "metadata": {
        "id": "aQ53XpU6kxJ0"
      },
      "execution_count": null,
      "outputs": []
    },
    {
      "cell_type": "code",
      "source": [
        "def count_parameters(model):\n",
        "    return sum(p.numel() for p in model.parameters() if p.requires_grad)"
      ],
      "metadata": {
        "id": "jw7mv_6Akywf"
      },
      "execution_count": null,
      "outputs": []
    },
    {
      "cell_type": "code",
      "source": [
        "class MNIST_Net(nn.Module):\n",
        "    def __init__(self):\n",
        "        super(MNIST_Net, self).__init__()\n",
        "        self.cnn1 = nn.Conv2d(in_channels=1, out_channels=8, kernel_size=5, stride=1, padding=0)\n",
        "        self.relu1 = nn.ReLU()\n",
        "        \n",
        "        # Max pool 1\n",
        "        self.maxpool1 = nn.MaxPool2d(kernel_size=2)\n",
        "     \n",
        "        # Convolution 2\n",
        "        self.cnn2 = nn.Conv2d(in_channels=8, out_channels=16, kernel_size=5, stride=1, padding=0)\n",
        "        self.relu2 = nn.ReLU()\n",
        "        \n",
        "        # Max pool 2\n",
        "        self.maxpool2 = nn.MaxPool2d(kernel_size=2)\n",
        "        \n",
        "        # Fully connected 1\n",
        "        self.fc1 = nn.Linear(16 * 4 * 4, 10) \n",
        "    \n",
        "    def forward(self, x):\n",
        "        # Convolution 1\n",
        "        x = self.cnn1(x)\n",
        "        x = self.relu1(x)\n",
        "        \n",
        "        # Max pool 1\n",
        "        x = self.maxpool1(x)\n",
        "        \n",
        "        # Convolution 2 \n",
        "        x = self.cnn2(x)\n",
        "        x = self.relu2(x)\n",
        "        \n",
        "        # Max pool 2 \n",
        "        x = self.maxpool2(x)\n",
        "        \n",
        "        # flatten\n",
        "        x = x.view(x.shape[0], -1)\n",
        "\n",
        "        # Linear function\n",
        "        x = self.fc1(x)\n",
        "        \n",
        "        return x"
      ],
      "metadata": {
        "id": "TpZBLUFTk_Aa"
      },
      "execution_count": null,
      "outputs": []
    },
    {
      "cell_type": "code",
      "source": [
        "mnist_net = MNIST_Net().cuda()\n",
        "criterion = nn.CrossEntropyLoss()\n",
        "optimizer = optim.Adam(mnist_net.parameters(), lr=0.001)"
      ],
      "metadata": {
        "id": "T2KTSSJGl5q6"
      },
      "execution_count": null,
      "outputs": []
    },
    {
      "cell_type": "code",
      "source": [
        "count_parameters(mnist_net)"
      ],
      "metadata": {
        "colab": {
          "base_uri": "https://localhost:8080/"
        },
        "id": "9GiFAxF11_3j",
        "outputId": "d82def99-e027-4b7e-af06-c98eac7e3005"
      },
      "execution_count": null,
      "outputs": [
        {
          "output_type": "execute_result",
          "data": {
            "text/plain": [
              "5994"
            ]
          },
          "metadata": {},
          "execution_count": 14
        }
      ]
    },
    {
      "cell_type": "code",
      "source": [
        "trainer = Trainer(trainloader = trainDataLoader,\n",
        "                  testloader = testDataLoader,\n",
        "                  net = mnist_net,\n",
        "                  criterion = criterion,\n",
        "                  optimizer = optimizer)"
      ],
      "metadata": {
        "id": "v078SOyhl935"
      },
      "execution_count": null,
      "outputs": []
    },
    {
      "cell_type": "code",
      "source": [
        "trainer.train(epoch = 4)"
      ],
      "metadata": {
        "colab": {
          "base_uri": "https://localhost:8080/"
        },
        "id": "YxMsJOy6l_SB",
        "outputId": "bacbbab9-ab05-42cf-c218-bcd594c2de12"
      },
      "execution_count": null,
      "outputs": [
        {
          "output_type": "stream",
          "name": "stdout",
          "text": [
            "[1,   500] loss: 0.530\n",
            "[1,  1000] loss: 0.195\n",
            "[1,  1500] loss: 0.134\n",
            "[2,   500] loss: 0.103\n",
            "[2,  1000] loss: 0.091\n",
            "[2,  1500] loss: 0.085\n",
            "[3,   500] loss: 0.071\n",
            "[3,  1000] loss: 0.064\n",
            "[3,  1500] loss: 0.063\n",
            "[4,   500] loss: 0.054\n",
            "[4,  1000] loss: 0.054\n",
            "[4,  1500] loss: 0.049\n",
            "Finished Training\n"
          ]
        }
      ]
    },
    {
      "cell_type": "code",
      "source": [
        "trainer.test()"
      ],
      "metadata": {
        "colab": {
          "base_uri": "https://localhost:8080/"
        },
        "id": "EMuv9dzumAji",
        "outputId": "cfe3219a-8441-49c7-c98c-15d458374fd4"
      },
      "execution_count": null,
      "outputs": [
        {
          "output_type": "stream",
          "name": "stdout",
          "text": [
            "\n",
            "Test set:  Accuracy: 9869/10000 (99%)\n",
            "\n"
          ]
        }
      ]
    },
    {
      "cell_type": "markdown",
      "metadata": {
        "id": "yYs8wUnfFmT5"
      },
      "source": [
        "## (Optional) HW3\n",
        "### 3_VGG.ipynb를 참조해 VGG16을 구현하세요"
      ]
    },
    {
      "cell_type": "code",
      "source": [
        "class ConvBlock1(nn.Module):\n",
        "\n",
        "    def __init__(self, in_dim, out_dim):\n",
        "        super(ConvBlock1, self).__init__()\n",
        "        \n",
        "        self.in_dim = in_dim\n",
        "        self.out_dim = out_dim\n",
        "        \n",
        "        self.main = nn.Sequential(nn.Conv2d(self.in_dim, self.out_dim, kernel_size=3, padding=1),                    \n",
        "                                  nn.BatchNorm2d(self.out_dim, eps=1e-05, momentum=0.1, affine=True),\n",
        "                                  nn.ReLU(),\n",
        "                                  nn.Conv2d(self.out_dim, self.out_dim, kernel_size=3, padding=1),                    \n",
        "                                  nn.BatchNorm2d(self.out_dim, eps=1e-05, momentum=0.1, affine=True),\n",
        "                                  nn.ReLU(),\n",
        "                                  nn.MaxPool2d(kernel_size=2, stride=2),\n",
        "                                 )\n",
        "        \n",
        "    def forward(self, x):\n",
        "        out = self.main(x)\n",
        "        return out"
      ],
      "metadata": {
        "id": "wnp2p-uinWN0"
      },
      "execution_count": null,
      "outputs": []
    },
    {
      "cell_type": "code",
      "source": [
        "class ConvBlock2(nn.Module):\n",
        "\n",
        "    def __init__(self, in_dim, out_dim):\n",
        "        super(ConvBlock2, self).__init__()\n",
        "        \n",
        "        self.in_dim = in_dim\n",
        "        self.out_dim = out_dim\n",
        "        \n",
        "        self.main = nn.Sequential(nn.Conv2d(self.in_dim, self.out_dim, kernel_size=3, padding=1),                    \n",
        "                                  nn.BatchNorm2d(self.out_dim, eps=1e-05, momentum=0.1, affine=True),\n",
        "                                  nn.ReLU(),\n",
        "                                  nn.Conv2d(self.out_dim, self.out_dim, kernel_size=3, padding=1),                    \n",
        "                                  nn.BatchNorm2d(self.out_dim, eps=1e-05, momentum=0.1, affine=True),\n",
        "                                  nn.ReLU(),\n",
        "                                  nn.Conv2d(self.out_dim, self.out_dim, kernel_size=3, padding=1),                    \n",
        "                                  nn.BatchNorm2d(self.out_dim, eps=1e-05, momentum=0.1, affine=True),\n",
        "                                  nn.ReLU(),\n",
        "                                  nn.MaxPool2d(kernel_size=2, stride=2),\n",
        "                                 )\n",
        "        \n",
        "    def forward(self, x):\n",
        "        out = self.main(x)\n",
        "        return out"
      ],
      "metadata": {
        "id": "8N6kIFwq_akk"
      },
      "execution_count": null,
      "outputs": []
    },
    {
      "cell_type": "code",
      "source": [
        "class VGG16(nn.Module):\n",
        "  \n",
        "    def __init__(self):\n",
        "        super(VGG16, self).__init__()\n",
        "        \n",
        "        self.convlayer1 = ConvBlock1(3, 64)\n",
        "        self.convlayer2 = ConvBlock1(64, 128)\n",
        "        self.convlayer3 = ConvBlock2(128, 256)\n",
        "        self.convlayer4 = ConvBlock2(256, 512)\n",
        "        self.convlayer5 = ConvBlock2(512, 512)\n",
        "        self.linear = nn.Sequential(\n",
        "            nn.Dropout(0.5),\n",
        "            nn.Linear(512, 512),\n",
        "            nn.ReLU(),\n",
        "            nn.Dropout(0.5),\n",
        "            nn.Linear(512, 128),\n",
        "            nn.ReLU(),\n",
        "            nn.Linear(128, 10),\n",
        "        )\n",
        "    def forward(self, input):\n",
        "        out = self.convlayer1(input)    \n",
        "        out = self.convlayer2(out)\n",
        "        out = self.convlayer3(out)\n",
        "        out = self.convlayer4(out)\n",
        "        out = self.convlayer5(out).squeeze() # 16 x 512 x 1 x 1에서 뒤 1 x 1 축약\n",
        "        out = out.view(out.shape[0], -1)\n",
        "        out = self.linear(out)\n",
        "        return out\n"
      ],
      "metadata": {
        "id": "-pkxv1gv_bxW"
      },
      "execution_count": null,
      "outputs": []
    },
    {
      "cell_type": "code",
      "source": [
        "vgg16 = VGG16()\n",
        "print(vgg16)"
      ],
      "metadata": {
        "colab": {
          "base_uri": "https://localhost:8080/"
        },
        "id": "HWs7M8ZPH0Z2",
        "outputId": "6afb4c09-cf5a-4681-8271-f1f9ef48663c"
      },
      "execution_count": null,
      "outputs": [
        {
          "output_type": "stream",
          "name": "stdout",
          "text": [
            "VGG16(\n",
            "  (convlayer1): ConvBlock1(\n",
            "    (main): Sequential(\n",
            "      (0): Conv2d(3, 64, kernel_size=(3, 3), stride=(1, 1), padding=(1, 1))\n",
            "      (1): BatchNorm2d(64, eps=1e-05, momentum=0.1, affine=True, track_running_stats=True)\n",
            "      (2): ReLU()\n",
            "      (3): Conv2d(64, 64, kernel_size=(3, 3), stride=(1, 1), padding=(1, 1))\n",
            "      (4): BatchNorm2d(64, eps=1e-05, momentum=0.1, affine=True, track_running_stats=True)\n",
            "      (5): ReLU()\n",
            "      (6): MaxPool2d(kernel_size=2, stride=2, padding=0, dilation=1, ceil_mode=False)\n",
            "    )\n",
            "  )\n",
            "  (convlayer2): ConvBlock1(\n",
            "    (main): Sequential(\n",
            "      (0): Conv2d(64, 128, kernel_size=(3, 3), stride=(1, 1), padding=(1, 1))\n",
            "      (1): BatchNorm2d(128, eps=1e-05, momentum=0.1, affine=True, track_running_stats=True)\n",
            "      (2): ReLU()\n",
            "      (3): Conv2d(128, 128, kernel_size=(3, 3), stride=(1, 1), padding=(1, 1))\n",
            "      (4): BatchNorm2d(128, eps=1e-05, momentum=0.1, affine=True, track_running_stats=True)\n",
            "      (5): ReLU()\n",
            "      (6): MaxPool2d(kernel_size=2, stride=2, padding=0, dilation=1, ceil_mode=False)\n",
            "    )\n",
            "  )\n",
            "  (convlayer3): ConvBlock2(\n",
            "    (main): Sequential(\n",
            "      (0): Conv2d(128, 256, kernel_size=(3, 3), stride=(1, 1), padding=(1, 1))\n",
            "      (1): BatchNorm2d(256, eps=1e-05, momentum=0.1, affine=True, track_running_stats=True)\n",
            "      (2): ReLU()\n",
            "      (3): Conv2d(256, 256, kernel_size=(3, 3), stride=(1, 1), padding=(1, 1))\n",
            "      (4): BatchNorm2d(256, eps=1e-05, momentum=0.1, affine=True, track_running_stats=True)\n",
            "      (5): ReLU()\n",
            "      (6): Conv2d(256, 256, kernel_size=(3, 3), stride=(1, 1), padding=(1, 1))\n",
            "      (7): BatchNorm2d(256, eps=1e-05, momentum=0.1, affine=True, track_running_stats=True)\n",
            "      (8): ReLU()\n",
            "      (9): MaxPool2d(kernel_size=2, stride=2, padding=0, dilation=1, ceil_mode=False)\n",
            "    )\n",
            "  )\n",
            "  (convlayer4): ConvBlock2(\n",
            "    (main): Sequential(\n",
            "      (0): Conv2d(256, 512, kernel_size=(3, 3), stride=(1, 1), padding=(1, 1))\n",
            "      (1): BatchNorm2d(512, eps=1e-05, momentum=0.1, affine=True, track_running_stats=True)\n",
            "      (2): ReLU()\n",
            "      (3): Conv2d(512, 512, kernel_size=(3, 3), stride=(1, 1), padding=(1, 1))\n",
            "      (4): BatchNorm2d(512, eps=1e-05, momentum=0.1, affine=True, track_running_stats=True)\n",
            "      (5): ReLU()\n",
            "      (6): Conv2d(512, 512, kernel_size=(3, 3), stride=(1, 1), padding=(1, 1))\n",
            "      (7): BatchNorm2d(512, eps=1e-05, momentum=0.1, affine=True, track_running_stats=True)\n",
            "      (8): ReLU()\n",
            "      (9): MaxPool2d(kernel_size=2, stride=2, padding=0, dilation=1, ceil_mode=False)\n",
            "    )\n",
            "  )\n",
            "  (convlayer5): ConvBlock2(\n",
            "    (main): Sequential(\n",
            "      (0): Conv2d(512, 512, kernel_size=(3, 3), stride=(1, 1), padding=(1, 1))\n",
            "      (1): BatchNorm2d(512, eps=1e-05, momentum=0.1, affine=True, track_running_stats=True)\n",
            "      (2): ReLU()\n",
            "      (3): Conv2d(512, 512, kernel_size=(3, 3), stride=(1, 1), padding=(1, 1))\n",
            "      (4): BatchNorm2d(512, eps=1e-05, momentum=0.1, affine=True, track_running_stats=True)\n",
            "      (5): ReLU()\n",
            "      (6): Conv2d(512, 512, kernel_size=(3, 3), stride=(1, 1), padding=(1, 1))\n",
            "      (7): BatchNorm2d(512, eps=1e-05, momentum=0.1, affine=True, track_running_stats=True)\n",
            "      (8): ReLU()\n",
            "      (9): MaxPool2d(kernel_size=2, stride=2, padding=0, dilation=1, ceil_mode=False)\n",
            "    )\n",
            "  )\n",
            "  (linear): Sequential(\n",
            "    (0): Dropout(p=0.5, inplace=False)\n",
            "    (1): Linear(in_features=512, out_features=512, bias=True)\n",
            "    (2): ReLU()\n",
            "    (3): Dropout(p=0.5, inplace=False)\n",
            "    (4): Linear(in_features=512, out_features=128, bias=True)\n",
            "    (5): ReLU()\n",
            "    (6): Linear(in_features=128, out_features=10, bias=True)\n",
            "  )\n",
            ")\n"
          ]
        }
      ]
    },
    {
      "cell_type": "markdown",
      "source": [
        "# CIFAR-10 Dataset"
      ],
      "metadata": {
        "id": "sG8MXIgCK-cd"
      }
    },
    {
      "cell_type": "code",
      "source": [
        "# set hyperparameters\n",
        "batch_size = 64\n",
        "learning_rate = 0.0001\n",
        "num_epochs = 4"
      ],
      "metadata": {
        "id": "Cnz2WoWHLBLw"
      },
      "execution_count": null,
      "outputs": []
    },
    {
      "cell_type": "code",
      "source": [
        "# import torchvision.datasets as datasets\n",
        "\n",
        "train_dataset = datasets.CIFAR10(root='./data/cifar/',       # 50000장\n",
        "                            train=True, \n",
        "                            transform=transforms.ToTensor(),\n",
        "                            download=True)\n",
        "\n",
        "test_dataset = datasets.CIFAR10(root='./data/cifar/',        # 10000장\n",
        "                           train=False, \n",
        "                           transform=transforms.ToTensor())\n",
        "\n",
        "# 데이터 로더\n",
        "train_loader = torch.utils.data.DataLoader(dataset=train_dataset,\n",
        "                                           batch_size=batch_size, \n",
        "                                           shuffle=True)\n",
        "\n",
        "test_loader = torch.utils.data.DataLoader(dataset=test_dataset,\n",
        "                                          batch_size=batch_size, \n",
        "                                          shuffle=True)"
      ],
      "metadata": {
        "colab": {
          "base_uri": "https://localhost:8080/"
        },
        "id": "kQh7CkA9LLSx",
        "outputId": "3ef05d33-0d38-46cc-bf20-132e46b8ce8d"
      },
      "execution_count": null,
      "outputs": [
        {
          "output_type": "stream",
          "name": "stdout",
          "text": [
            "Files already downloaded and verified\n"
          ]
        }
      ]
    },
    {
      "cell_type": "code",
      "source": [
        "import matplotlib.pyplot as plt\n",
        "import numpy as np\n",
        "import time\n",
        "import datetime\n",
        "from torch.autograd import Variable\n",
        "\n",
        "\n",
        "def show_cifar10():\n",
        "    for images, _ in train_loader:\n",
        "        plt.figure(figsize=(8,8))\n",
        "        images_to_show = images.numpy().transpose((0,2,3,1))\n",
        "\n",
        "        for a in range(331, 340):  \n",
        "            plt.subplot(a)\n",
        "            plt.imshow(images_to_show[a-331])\n",
        "            plt.xticks([])\n",
        "            plt.yticks([])    \n",
        "            plt.show()   \n",
        "        break\n",
        "    return 0\n",
        "\n",
        "\n",
        "def loss_plot(acc):  \n",
        "    plt.plot(acc)\n",
        "    plt.xlabel('log')\n",
        "    plt.ylabel('accuracy')\n",
        "    plt.grid(True)\n",
        "    plt.show()\n",
        "    return 0\n",
        "\n",
        "\n",
        "class Timer():    \n",
        "    def __init__(self):\n",
        "        self.cur_t = time.time()\n",
        "\n",
        "    def tic(self):\n",
        "        self.cur_t = time.time()\n",
        "\n",
        "    def toc(self):\n",
        "        return time.time() - self.cur_t\n",
        "\n",
        "    def tocStr(self, t=-1):\n",
        "        if (t == -1):\n",
        "            return str(datetime.timedelta(seconds=np.round(time.time() - self.cur_t, 3)))[:-4]\n",
        "        else:\n",
        "            return str(datetime.timedelta(seconds=np.round(t, 3)))[:-4]\n",
        "          \n",
        "\n",
        "def test_on_cifar10(model, accuracy_list):  \n",
        "    # Test the Model       \n",
        "    model.eval()    # Change model to 'eval' mode (BN uses moving mean/var).\n",
        "    correct = 0\n",
        "    total = 0\n",
        "    for j, (images, labels) in enumerate(test_loader):\n",
        "        images = Variable(images).cuda()\n",
        "        outputs = model(images)\n",
        "        _, predicted = torch.max(outputs.data, 1)\n",
        "        total += labels.size(0)\n",
        "        correct += (predicted.cpu() == labels).sum()\n",
        "        if (j+1)%100==0:\n",
        "            break\n",
        "\n",
        "    print('Test Accuracy of the model on the 100 test images: %d %%' % (100 * correct.float() / total))\n",
        "    accuracy_list.append(100 * correct.float() / total) \n",
        "    return accuracy_list"
      ],
      "metadata": {
        "id": "wOb_0x2wL0E7"
      },
      "execution_count": null,
      "outputs": []
    },
    {
      "cell_type": "code",
      "source": [
        "import torchvision.models as models\n",
        "\n",
        "\n",
        "vgg16 = VGG16()\n",
        "\n",
        "tell_time = Timer()\n",
        "iter_time = 0\n",
        "\n",
        "vgg16 = vgg16.cuda()\n",
        "criterion = nn.CrossEntropyLoss()\n",
        "optimizer = torch.optim.Adam(vgg16.parameters(), lr=learning_rate)\n",
        "\n",
        "accuracy_list = []\n",
        "for epoch in range(num_epochs):\n",
        "    vgg16.train()\n",
        "    for i, (images, labels) in enumerate(train_loader):\n",
        "        images = Variable(images).cuda()\n",
        "        labels = Variable(labels).cuda()\n",
        "\n",
        "        # Forward + Backward + Optimize\n",
        "        optimizer.zero_grad()\n",
        "        outputs = vgg16(images)\n",
        "        loss = criterion(outputs, labels)\n",
        "        loss.backward()\n",
        "        optimizer.step()\n",
        "\n",
        "        if (i+1) % 100 == 0:\n",
        "            print ('Epoch [%d/%d], Iter [%d/%d] Loss: %.4f, iter_time: %2.2f' \n",
        "                 %(epoch+1, num_epochs, i+1, len(train_dataset)//batch_size, loss.item(), tell_time.toc()-iter_time))\n",
        "            iter_time = tell_time.toc()    \n",
        "            accuracy_list = test_on_cifar10(vgg16, accuracy_list)\n",
        "\n",
        "    loss_plot(accuracy_list)"
      ],
      "metadata": {
        "colab": {
          "base_uri": "https://localhost:8080/",
          "height": 1000
        },
        "id": "WnEsz7z1LgIm",
        "outputId": "24a84187-bb35-401e-82d9-d26b5bd12669"
      },
      "execution_count": null,
      "outputs": [
        {
          "output_type": "stream",
          "name": "stdout",
          "text": [
            "Epoch [1/4], Iter [100/781] Loss: 1.7202, iter_time: 10.42\n",
            "Test Accuracy of the model on the 100 test images: 32 %\n",
            "Epoch [1/4], Iter [200/781] Loss: 1.9861, iter_time: 13.81\n",
            "Test Accuracy of the model on the 100 test images: 23 %\n",
            "Epoch [1/4], Iter [300/781] Loss: 1.8951, iter_time: 13.79\n",
            "Test Accuracy of the model on the 100 test images: 30 %\n",
            "Epoch [1/4], Iter [400/781] Loss: 1.4835, iter_time: 13.79\n",
            "Test Accuracy of the model on the 100 test images: 35 %\n",
            "Epoch [1/4], Iter [500/781] Loss: 1.5304, iter_time: 13.78\n",
            "Test Accuracy of the model on the 100 test images: 33 %\n",
            "Epoch [1/4], Iter [600/781] Loss: 1.5655, iter_time: 13.75\n",
            "Test Accuracy of the model on the 100 test images: 41 %\n",
            "Epoch [1/4], Iter [700/781] Loss: 1.7714, iter_time: 13.72\n",
            "Test Accuracy of the model on the 100 test images: 44 %\n"
          ]
        },
        {
          "output_type": "display_data",
          "data": {
            "image/png": "[encoded data removed]",
            "text/plain": [
              "<Figure size 432x288 with 1 Axes>"
            ]
          },
          "metadata": {
            "needs_background": "light"
          }
        },
        {
          "output_type": "stream",
          "name": "stdout",
          "text": [
            "Epoch [2/4], Iter [100/781] Loss: 1.4763, iter_time: 22.28\n",
            "Test Accuracy of the model on the 100 test images: 47 %\n",
            "Epoch [2/4], Iter [200/781] Loss: 1.2833, iter_time: 13.77\n",
            "Test Accuracy of the model on the 100 test images: 49 %\n",
            "Epoch [2/4], Iter [300/781] Loss: 1.0583, iter_time: 13.78\n",
            "Test Accuracy of the model on the 100 test images: 53 %\n",
            "Epoch [2/4], Iter [400/781] Loss: 1.3873, iter_time: 13.82\n",
            "Test Accuracy of the model on the 100 test images: 54 %\n",
            "Epoch [2/4], Iter [500/781] Loss: 1.0705, iter_time: 13.83\n",
            "Test Accuracy of the model on the 100 test images: 54 %\n",
            "Epoch [2/4], Iter [600/781] Loss: 1.1892, iter_time: 13.80\n",
            "Test Accuracy of the model on the 100 test images: 57 %\n",
            "Epoch [2/4], Iter [700/781] Loss: 1.0345, iter_time: 13.80\n",
            "Test Accuracy of the model on the 100 test images: 58 %\n"
          ]
        },
        {
          "output_type": "display_data",
          "data": {
            "image/png": "[encoded data removed]",
            "text/plain": [
              "<Figure size 432x288 with 1 Axes>"
            ]
          },
          "metadata": {
            "needs_background": "light"
          }
        },
        {
          "output_type": "stream",
          "name": "stdout",
          "text": [
            "Epoch [3/4], Iter [100/781] Loss: 0.9314, iter_time: 22.29\n",
            "Test Accuracy of the model on the 100 test images: 61 %\n",
            "Epoch [3/4], Iter [200/781] Loss: 1.2471, iter_time: 13.80\n",
            "Test Accuracy of the model on the 100 test images: 58 %\n",
            "Epoch [3/4], Iter [300/781] Loss: 0.8749, iter_time: 13.81\n",
            "Test Accuracy of the model on the 100 test images: 65 %\n",
            "Epoch [3/4], Iter [400/781] Loss: 1.1770, iter_time: 13.79\n",
            "Test Accuracy of the model on the 100 test images: 61 %\n",
            "Epoch [3/4], Iter [500/781] Loss: 0.9371, iter_time: 13.82\n",
            "Test Accuracy of the model on the 100 test images: 65 %\n",
            "Epoch [3/4], Iter [600/781] Loss: 1.0491, iter_time: 13.84\n",
            "Test Accuracy of the model on the 100 test images: 65 %\n",
            "Epoch [3/4], Iter [700/781] Loss: 1.0391, iter_time: 13.88\n",
            "Test Accuracy of the model on the 100 test images: 66 %\n"
          ]
        },
        {
          "output_type": "display_data",
          "data": {
            "image/png": "[encoded data removed]",
            "text/plain": [
              "<Figure size 432x288 with 1 Axes>"
            ]
          },
          "metadata": {
            "needs_background": "light"
          }
        },
        {
          "output_type": "stream",
          "name": "stdout",
          "text": [
            "Epoch [4/4], Iter [100/781] Loss: 0.7455, iter_time: 22.27\n",
            "Test Accuracy of the model on the 100 test images: 69 %\n",
            "Epoch [4/4], Iter [200/781] Loss: 0.8286, iter_time: 13.81\n",
            "Test Accuracy of the model on the 100 test images: 66 %\n",
            "Epoch [4/4], Iter [300/781] Loss: 0.4526, iter_time: 13.80\n",
            "Test Accuracy of the model on the 100 test images: 69 %\n",
            "Epoch [4/4], Iter [400/781] Loss: 0.8849, iter_time: 13.80\n",
            "Test Accuracy of the model on the 100 test images: 69 %\n",
            "Epoch [4/4], Iter [500/781] Loss: 0.6477, iter_time: 13.80\n",
            "Test Accuracy of the model on the 100 test images: 70 %\n",
            "Epoch [4/4], Iter [600/781] Loss: 0.8593, iter_time: 13.83\n",
            "Test Accuracy of the model on the 100 test images: 68 %\n",
            "Epoch [4/4], Iter [700/781] Loss: 1.0260, iter_time: 13.80\n",
            "Test Accuracy of the model on the 100 test images: 69 %\n"
          ]
        },
        {
          "output_type": "display_data",
          "data": {
            "image/png": "[encoded data removed]",
            "text/plain": [
              "<Figure size 432x288 with 1 Axes>"
            ]
          },
          "metadata": {
            "needs_background": "light"
          }
        }
      ]
    },
    {
      "cell_type": "markdown",
      "metadata": {
        "id": "271TS4C4FmT5"
      },
      "source": [
        ""
      ]
    }
  ],
  "metadata": {
    "interpreter": {
      "hash": "45d64d8f19a3a5b7048eaedc346d295eb6474eab36a46e2bd6124f8b3a721145"
    },
    "kernelspec": {
      "display_name": "Python 3.7.9 64-bit ('t': conda)",
      "language": "python",
      "name": "python3"
    },
    "language_info": {
      "codemirror_mode": {
        "name": "ipython",
        "version": 3
      },
      "file_extension": ".py",
      "mimetype": "text/x-python",
      "name": "python",
      "nbconvert_exporter": "python",
      "pygments_lexer": "ipython3",
      "version": "3.7.9"
    },
    "orig_nbformat": 4,
    "colab": {
      "name": "HW_1224.ipynb",
      "provenance": []
    },
    "accelerator": "GPU"
  },
  "nbformat": 4,
  "nbformat_minor": 0
}