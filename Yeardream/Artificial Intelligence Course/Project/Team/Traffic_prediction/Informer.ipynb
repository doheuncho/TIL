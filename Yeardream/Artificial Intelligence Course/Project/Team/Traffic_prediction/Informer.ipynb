{
  "nbformat": 4,
  "nbformat_minor": 0,
  "metadata": {
    "colab": {
      "name": "Informer.ipynb의 사본",
      "provenance": [],
      "machine_shape": "hm",
      "collapsed_sections": [],
      "toc_visible": true
    },
    "kernelspec": {
      "name": "python3",
      "display_name": "Python 3"
    },
    "language_info": {
      "name": "python"
    },
    "accelerator": "GPU"
  },
  "cells": [
    {
      "cell_type": "markdown",
      "source": [
        "# 1. Preparation"
      ],
      "metadata": {
        "id": "zLQOVV7O9N3q"
      }
    },
    {
      "cell_type": "markdown",
      "source": [
        "## Clone model's git"
      ],
      "metadata": {
        "id": "6qUJPBzM9Odv"
      }
    },
    {
      "cell_type": "code",
      "source": [
        "!git clone https://github.com/zhouhaoyi/Informer2020.git"
      ],
      "metadata": {
        "colab": {
          "base_uri": "https://localhost:8080/"
        },
        "id": "czHRYoUj1ZRy",
        "outputId": "fc6520fb-be2a-4c5d-eb0a-a2f103e32dbe"
      },
      "execution_count": 1,
      "outputs": [
        {
          "output_type": "stream",
          "name": "stdout",
          "text": [
            "Cloning into 'Informer2020'...\n",
            "remote: Enumerating objects: 560, done.\u001b[K\n",
            "remote: Counting objects: 100% (25/25), done.\u001b[K\n",
            "remote: Compressing objects: 100% (21/21), done.\u001b[K\n",
            "remote: Total 560 (delta 10), reused 15 (delta 4), pack-reused 535\u001b[K\n",
            "Receiving objects: 100% (560/560), 6.48 MiB | 18.60 MiB/s, done.\n",
            "Resolving deltas: 100% (316/316), done.\n"
          ]
        }
      ]
    },
    {
      "cell_type": "markdown",
      "source": [
        "## Import Libraries"
      ],
      "metadata": {
        "id": "QuNxTxOV9R0f"
      }
    },
    {
      "cell_type": "code",
      "source": [
        "import pandas as pd\n",
        "import numpy as np\n",
        "import matplotlib.pyplot as plt\n",
        "from sklearn.preprocessing import MinMaxScaler\n",
        "\n",
        "from datetime import timedelta\n",
        "import torch\n",
        "from torch import nn\n",
        "from torch import optim\n",
        "from torch.utils.data import DataLoader, Dataset\n",
        "import os\n",
        "\n",
        "from tqdm import tqdm\n",
        "\n",
        "# model을 import(clone한 파일들 중 models와 utils를 옮겨주어야 한다.)\n",
        "from models.model import Informer"
      ],
      "metadata": {
        "id": "B3LDLMsS1aXj"
      },
      "execution_count": 2,
      "outputs": []
    },
    {
      "cell_type": "code",
      "source": [
        "from google.colab import drive\n",
        "\n",
        "\n",
        "drive.mount('/content/drive')\n",
        "os.chdir('/content/drive/MyDrive/Colab Notebooks/팀 프로젝트/Traffic_prediction/')"
      ],
      "metadata": {
        "colab": {
          "base_uri": "https://localhost:8080/"
        },
        "id": "eKJC7KnZ2nte",
        "outputId": "f8857e5a-f9fe-47b8-d9a7-b21225a6780f"
      },
      "execution_count": 4,
      "outputs": [
        {
          "output_type": "stream",
          "name": "stdout",
          "text": [
            "Mounted at /content/drive\n"
          ]
        }
      ]
    },
    {
      "cell_type": "markdown",
      "source": [
        "## Define Scaler & Dataset"
      ],
      "metadata": {
        "id": "IJh_bSw59S2f"
      }
    },
    {
      "cell_type": "code",
      "source": [
        "class StandardScaler():\n",
        "    def __init__(self):\n",
        "        self.mean = 0.\n",
        "        self.std = 1.\n",
        "    \n",
        "    def fit(self, data):\n",
        "        self.mean = data.mean(0)\n",
        "        self.std = data.std(0)\n",
        "\n",
        "    def transform(self, data):\n",
        "        mean = torch.from_numpy(self.mean).type_as(data).to(data.device) if torch.is_tensor(data) else self.mean\n",
        "        std = torch.from_numpy(self.std).type_as(data).to(data.device) if torch.is_tensor(data) else self.std\n",
        "        return (data - mean) / std\n",
        "\n",
        "    def inverse_transform(self, data):\n",
        "        mean = torch.from_numpy(self.mean).type_as(data).to(data.device) if torch.is_tensor(data) else self.mean\n",
        "        std = torch.from_numpy(self.std).type_as(data).to(data.device) if torch.is_tensor(data) else self.std\n",
        "        return (data * std) + mean\n",
        "        \n",
        "\n",
        "# 시간 특징을 freq에 따라 추출\n",
        "def time_features(dates, freq='h'):\n",
        "    dates['month'] = dates.date.apply(lambda row:row.month,1)\n",
        "    dates['day'] = dates.date.apply(lambda row:row.day,1)\n",
        "    dates['weekday'] = dates.date.apply(lambda row:row.weekday(),1)\n",
        "    dates['hour'] = dates.date.apply(lambda row:row.hour,1)\n",
        "    freq_map = {\n",
        "        'y':[],'m':['month'],'w':['month'],'d':['month','day','weekday'],\n",
        "        'b':['month','day','weekday'],'h':['month','day','weekday','hour'],\n",
        "        't':['month','day','weekday','hour'],\n",
        "    }\n",
        "    return dates[freq_map[freq.lower()]].values\n",
        "\n",
        "\n",
        "# 한번의 batch를 실행하는 코드\n",
        "def _process_one_batch(batch_x, batch_y, batch_x_mark, batch_y_mark):\n",
        "    batch_x = batch_x.float().to(device)\n",
        "    batch_y = batch_y.float()\n",
        "    batch_x_mark = batch_x_mark.float().to(device)\n",
        "    batch_y_mark = batch_y_mark.float().to(device)\n",
        "    dec_inp = torch.zeros([batch_y.shape[0], pred_len, batch_y.shape[-1]]).float()\n",
        "    dec_inp = torch.cat([batch_y[:,:label_len,:], dec_inp], dim=1).float().to(device)\n",
        "    outputs = model(batch_x, batch_x_mark, dec_inp, batch_y_mark)\n",
        "    batch_y = batch_y[:,-pred_len:,0:].to(device)\n",
        "    return outputs, batch_y"
      ],
      "metadata": {
        "id": "5lmRc-P610nW"
      },
      "execution_count": 39,
      "outputs": []
    },
    {
      "cell_type": "code",
      "source": [
        "class Dataset_Pred(Dataset):\n",
        "    def __init__(self, dataframe, size=None):\n",
        "        self.seq_len = size[0]\n",
        "        self.label_len = size[1]\n",
        "        self.pred_len = size[2]\n",
        "        self.dataframe = dataframe\n",
        "        \n",
        "        self.__read_data__()\n",
        "\n",
        "    def __read_data__(self):\n",
        "        df_raw = self.dataframe\n",
        "        df_raw[\"date\"] = pd.to_datetime(df_raw[\"date\"])\n",
        "\n",
        "        delta = df_raw[\"date\"].iloc[1] - df_raw[\"date\"].iloc[0]\n",
        "        if delta>=timedelta(hours=1):\n",
        "            self.freq='h'\n",
        "        else:\n",
        "            self.freq='t'\n",
        "\n",
        "        border1 = 0\n",
        "        border2 = len(df_raw)\n",
        "        cols_data = df_raw.columns[1:]\n",
        "        df_data = df_raw[cols_data]\n",
        "        data = df_data.values\n",
        "            \n",
        "        tmp_stamp = df_raw[['date']][border1:border2]\n",
        "        tmp_stamp['date'] = pd.to_datetime(tmp_stamp.date)\n",
        "        pred_dates = pd.date_range(tmp_stamp.date.values[-1], periods=self.pred_len+1, freq=self.freq)\n",
        "        \n",
        "        df_stamp = pd.DataFrame(columns = ['date'])\n",
        "        df_stamp.date = list(tmp_stamp.date.values) + list(pred_dates[1:])\n",
        "        data_stamp = time_features(df_stamp, freq=self.freq)\n",
        "\n",
        "        self.data_x = data[border1:border2]\n",
        "        self.data_y = data[border1:border2]\n",
        "        self.data_stamp = data_stamp\n",
        "    \n",
        "    def __getitem__(self, index):\n",
        "        s_begin = index\n",
        "        s_end = s_begin + self.seq_len\n",
        "        r_begin = s_end - self.label_len\n",
        "        r_end = r_begin + self.label_len + self.pred_len\n",
        "\n",
        "        seq_x = self.data_x[s_begin:s_end]\n",
        "        seq_y = self.data_y[r_begin:r_end]\n",
        "        seq_x_mark = self.data_stamp[s_begin:s_end]\n",
        "        seq_y_mark = self.data_stamp[r_begin:r_end]\n",
        "        return seq_x, seq_y, seq_x_mark, seq_y_mark\n",
        "\n",
        "    def __len__(self):\n",
        "        return len(self.data_x) - self.seq_len- self.pred_len + 1"
      ],
      "metadata": {
        "id": "Im6Mj3ia2mOm"
      },
      "execution_count": 40,
      "outputs": []
    },
    {
      "cell_type": "markdown",
      "source": [
        "## Load data"
      ],
      "metadata": {
        "id": "waCjEVzt9cyN"
      }
    },
    {
      "cell_type": "code",
      "source": [
        "data_train = pd.read_csv(\"fill_NA(mean)_ver2.csv\")"
      ],
      "metadata": {
        "id": "W7eR7paBoaFH"
      },
      "execution_count": 41,
      "outputs": []
    },
    {
      "cell_type": "code",
      "source": [
        "data_train = data_train[data_train['날짜'] > 20200131]"
      ],
      "metadata": {
        "id": "KdBr7-nDobD_"
      },
      "execution_count": 42,
      "outputs": []
    },
    {
      "cell_type": "code",
      "source": [
        "plt.figure(figsize=(20,5))\n",
        "plt.plot(data_train[\"10\"])\n",
        "plt.show()\n",
        "data_train.head()"
      ],
      "metadata": {
        "colab": {
          "base_uri": "https://localhost:8080/",
          "height": 734
        },
        "id": "Piqji0PW3mc4",
        "outputId": "a3e78ea0-d952-4e55-cf36-94c914ceeed5"
      },
      "execution_count": 43,
      "outputs": [
        {
          "output_type": "display_data",
          "data": {
            "image/png": "[encoded data removed]",
            "text/plain": [
              "<Figure size 1440x360 with 1 Axes>"
            ]
          },
          "metadata": {
            "needs_background": "light"
          }
        },
        {
          "output_type": "execute_result",
          "data": {
            "text/html": [
              "\n",
              "  <div id=\"df-fa4e0b99-bf85-42ee-bb69-8b0a30d3ed4a\">\n",
              "    <div class=\"colab-df-container\">\n",
              "      <div>\n",
              "<style scoped>\n",
              "    .dataframe tbody tr th:only-of-type {\n",
              "        vertical-align: middle;\n",
              "    }\n",
              "\n",
              "    .dataframe tbody tr th {\n",
              "        vertical-align: top;\n",
              "    }\n",
              "\n",
              "    .dataframe thead th {\n",
              "        text-align: right;\n",
              "    }\n",
              "</style>\n",
              "<table border=\"1\" class=\"dataframe\">\n",
              "  <thead>\n",
              "    <tr style=\"text-align: right;\">\n",
              "      <th></th>\n",
              "      <th>datetime</th>\n",
              "      <th>날짜</th>\n",
              "      <th>시간</th>\n",
              "      <th>10</th>\n",
              "      <th>100</th>\n",
              "      <th>101</th>\n",
              "      <th>120</th>\n",
              "      <th>121</th>\n",
              "      <th>140</th>\n",
              "      <th>150</th>\n",
              "      <th>160</th>\n",
              "      <th>200</th>\n",
              "      <th>201</th>\n",
              "      <th>251</th>\n",
              "      <th>270</th>\n",
              "      <th>300</th>\n",
              "      <th>301</th>\n",
              "      <th>351</th>\n",
              "      <th>352</th>\n",
              "      <th>370</th>\n",
              "      <th>400</th>\n",
              "      <th>450</th>\n",
              "      <th>500</th>\n",
              "      <th>550</th>\n",
              "      <th>600</th>\n",
              "      <th>650</th>\n",
              "      <th>652</th>\n",
              "      <th>1000</th>\n",
              "      <th>1020</th>\n",
              "      <th>1040</th>\n",
              "      <th>1100</th>\n",
              "      <th>1200</th>\n",
              "      <th>1510</th>\n",
              "      <th>2510</th>\n",
              "      <th>3000</th>\n",
              "      <th>4510</th>\n",
              "      <th>5510</th>\n",
              "      <th>6000</th>\n",
              "    </tr>\n",
              "  </thead>\n",
              "  <tbody>\n",
              "    <tr>\n",
              "      <th>744</th>\n",
              "      <td>2020-02-01 00:00:00</td>\n",
              "      <td>20200201</td>\n",
              "      <td>0</td>\n",
              "      <td>100593</td>\n",
              "      <td>17577</td>\n",
              "      <td>1307</td>\n",
              "      <td>4066</td>\n",
              "      <td>1434</td>\n",
              "      <td>968</td>\n",
              "      <td>34278</td>\n",
              "      <td>1267</td>\n",
              "      <td>2758</td>\n",
              "      <td>2004</td>\n",
              "      <td>16679</td>\n",
              "      <td>3841</td>\n",
              "      <td>5879</td>\n",
              "      <td>2369</td>\n",
              "      <td>7925</td>\n",
              "      <td>12179</td>\n",
              "      <td>1919</td>\n",
              "      <td>5766</td>\n",
              "      <td>22839</td>\n",
              "      <td>27713</td>\n",
              "      <td>13100</td>\n",
              "      <td>3213</td>\n",
              "      <td>2415</td>\n",
              "      <td>1201</td>\n",
              "      <td>43369</td>\n",
              "      <td>1069</td>\n",
              "      <td>3713</td>\n",
              "      <td>10662</td>\n",
              "      <td>7370</td>\n",
              "      <td>1220</td>\n",
              "      <td>4440</td>\n",
              "      <td>725</td>\n",
              "      <td>3012</td>\n",
              "      <td>1783</td>\n",
              "      <td>2623</td>\n",
              "    </tr>\n",
              "    <tr>\n",
              "      <th>745</th>\n",
              "      <td>2020-02-01 01:00:00</td>\n",
              "      <td>20200201</td>\n",
              "      <td>1</td>\n",
              "      <td>70732</td>\n",
              "      <td>12314</td>\n",
              "      <td>871</td>\n",
              "      <td>3441</td>\n",
              "      <td>846</td>\n",
              "      <td>821</td>\n",
              "      <td>25208</td>\n",
              "      <td>908</td>\n",
              "      <td>1860</td>\n",
              "      <td>1219</td>\n",
              "      <td>11236</td>\n",
              "      <td>3074</td>\n",
              "      <td>4264</td>\n",
              "      <td>1591</td>\n",
              "      <td>6828</td>\n",
              "      <td>8784</td>\n",
              "      <td>1567</td>\n",
              "      <td>4227</td>\n",
              "      <td>17295</td>\n",
              "      <td>19233</td>\n",
              "      <td>8831</td>\n",
              "      <td>2051</td>\n",
              "      <td>1591</td>\n",
              "      <td>900</td>\n",
              "      <td>29100</td>\n",
              "      <td>747</td>\n",
              "      <td>2568</td>\n",
              "      <td>7071</td>\n",
              "      <td>5153</td>\n",
              "      <td>881</td>\n",
              "      <td>3184</td>\n",
              "      <td>548</td>\n",
              "      <td>2029</td>\n",
              "      <td>1271</td>\n",
              "      <td>1905</td>\n",
              "    </tr>\n",
              "    <tr>\n",
              "      <th>746</th>\n",
              "      <td>2020-02-01 02:00:00</td>\n",
              "      <td>20200201</td>\n",
              "      <td>2</td>\n",
              "      <td>53857</td>\n",
              "      <td>8421</td>\n",
              "      <td>784</td>\n",
              "      <td>2863</td>\n",
              "      <td>612</td>\n",
              "      <td>548</td>\n",
              "      <td>18179</td>\n",
              "      <td>593</td>\n",
              "      <td>1697</td>\n",
              "      <td>1090</td>\n",
              "      <td>8375</td>\n",
              "      <td>2317</td>\n",
              "      <td>3251</td>\n",
              "      <td>1447</td>\n",
              "      <td>5352</td>\n",
              "      <td>7462</td>\n",
              "      <td>864</td>\n",
              "      <td>3743</td>\n",
              "      <td>13037</td>\n",
              "      <td>14562</td>\n",
              "      <td>7157</td>\n",
              "      <td>1461</td>\n",
              "      <td>1188</td>\n",
              "      <td>590</td>\n",
              "      <td>20426</td>\n",
              "      <td>523</td>\n",
              "      <td>1960</td>\n",
              "      <td>5254</td>\n",
              "      <td>3655</td>\n",
              "      <td>855</td>\n",
              "      <td>2597</td>\n",
              "      <td>447</td>\n",
              "      <td>1629</td>\n",
              "      <td>948</td>\n",
              "      <td>1587</td>\n",
              "    </tr>\n",
              "    <tr>\n",
              "      <th>747</th>\n",
              "      <td>2020-02-01 03:00:00</td>\n",
              "      <td>20200201</td>\n",
              "      <td>3</td>\n",
              "      <td>47215</td>\n",
              "      <td>9347</td>\n",
              "      <td>664</td>\n",
              "      <td>2097</td>\n",
              "      <td>515</td>\n",
              "      <td>548</td>\n",
              "      <td>15601</td>\n",
              "      <td>575</td>\n",
              "      <td>1534</td>\n",
              "      <td>1304</td>\n",
              "      <td>7488</td>\n",
              "      <td>2353</td>\n",
              "      <td>3371</td>\n",
              "      <td>1337</td>\n",
              "      <td>4839</td>\n",
              "      <td>7046</td>\n",
              "      <td>894</td>\n",
              "      <td>3842</td>\n",
              "      <td>11363</td>\n",
              "      <td>14935</td>\n",
              "      <td>6635</td>\n",
              "      <td>915</td>\n",
              "      <td>961</td>\n",
              "      <td>679</td>\n",
              "      <td>18000</td>\n",
              "      <td>456</td>\n",
              "      <td>1721</td>\n",
              "      <td>5111</td>\n",
              "      <td>3206</td>\n",
              "      <td>931</td>\n",
              "      <td>2502</td>\n",
              "      <td>393</td>\n",
              "      <td>1726</td>\n",
              "      <td>828</td>\n",
              "      <td>1553</td>\n",
              "    </tr>\n",
              "    <tr>\n",
              "      <th>748</th>\n",
              "      <td>2020-02-01 04:00:00</td>\n",
              "      <td>20200201</td>\n",
              "      <td>4</td>\n",
              "      <td>55504</td>\n",
              "      <td>14248</td>\n",
              "      <td>931</td>\n",
              "      <td>3109</td>\n",
              "      <td>640</td>\n",
              "      <td>616</td>\n",
              "      <td>20125</td>\n",
              "      <td>813</td>\n",
              "      <td>1565</td>\n",
              "      <td>1400</td>\n",
              "      <td>9032</td>\n",
              "      <td>3301</td>\n",
              "      <td>3681</td>\n",
              "      <td>1708</td>\n",
              "      <td>5441</td>\n",
              "      <td>8282</td>\n",
              "      <td>1388</td>\n",
              "      <td>5219</td>\n",
              "      <td>13254</td>\n",
              "      <td>19910</td>\n",
              "      <td>8583</td>\n",
              "      <td>1154</td>\n",
              "      <td>1143</td>\n",
              "      <td>1020</td>\n",
              "      <td>22647</td>\n",
              "      <td>665</td>\n",
              "      <td>2490</td>\n",
              "      <td>7075</td>\n",
              "      <td>3802</td>\n",
              "      <td>801</td>\n",
              "      <td>2609</td>\n",
              "      <td>556</td>\n",
              "      <td>2511</td>\n",
              "      <td>1233</td>\n",
              "      <td>2165</td>\n",
              "    </tr>\n",
              "  </tbody>\n",
              "</table>\n",
              "</div>\n",
              "      <button class=\"colab-df-convert\" onclick=\"convertToInteractive('df-fa4e0b99-bf85-42ee-bb69-8b0a30d3ed4a')\"\n",
              "              title=\"Convert this dataframe to an interactive table.\"\n",
              "              style=\"display:none;\">\n",
              "        \n",
              "  <svg xmlns=\"http://www.w3.org/2000/svg\" height=\"24px\"viewBox=\"0 0 24 24\"\n",
              "       width=\"24px\">\n",
              "    <path d=\"M0 0h24v24H0V0z\" fill=\"none\"/>\n",
              "    <path d=\"M18.56 5.44l.94 2.06.94-2.06 2.06-.94-2.06-.94-.94-2.06-.94 2.06-2.06.94zm-11 1L8.5 8.5l.94-2.06 2.06-.94-2.06-.94L8.5 2.5l-.94 2.06-2.06.94zm10 10l.94 2.06.94-2.06 2.06-.94-2.06-.94-.94-2.06-.94 2.06-2.06.94z\"/><path d=\"M17.41 7.96l-1.37-1.37c-.4-.4-.92-.59-1.43-.59-.52 0-1.04.2-1.43.59L10.3 9.45l-7.72 7.72c-.78.78-.78 2.05 0 2.83L4 21.41c.39.39.9.59 1.41.59.51 0 1.02-.2 1.41-.59l7.78-7.78 2.81-2.81c.8-.78.8-2.07 0-2.86zM5.41 20L4 18.59l7.72-7.72 1.47 1.35L5.41 20z\"/>\n",
              "  </svg>\n",
              "      </button>\n",
              "      \n",
              "  <style>\n",
              "    .colab-df-container {\n",
              "      display:flex;\n",
              "      flex-wrap:wrap;\n",
              "      gap: 12px;\n",
              "    }\n",
              "\n",
              "    .colab-df-convert {\n",
              "      background-color: #E8F0FE;\n",
              "      border: none;\n",
              "      border-radius: 50%;\n",
              "      cursor: pointer;\n",
              "      display: none;\n",
              "      fill: #1967D2;\n",
              "      height: 32px;\n",
              "      padding: 0 0 0 0;\n",
              "      width: 32px;\n",
              "    }\n",
              "\n",
              "    .colab-df-convert:hover {\n",
              "      background-color: #E2EBFA;\n",
              "      box-shadow: 0px 1px 2px rgba(60, 64, 67, 0.3), 0px 1px 3px 1px rgba(60, 64, 67, 0.15);\n",
              "      fill: #174EA6;\n",
              "    }\n",
              "\n",
              "    [theme=dark] .colab-df-convert {\n",
              "      background-color: #3B4455;\n",
              "      fill: #D2E3FC;\n",
              "    }\n",
              "\n",
              "    [theme=dark] .colab-df-convert:hover {\n",
              "      background-color: #434B5C;\n",
              "      box-shadow: 0px 1px 3px 1px rgba(0, 0, 0, 0.15);\n",
              "      filter: drop-shadow(0px 1px 2px rgba(0, 0, 0, 0.3));\n",
              "      fill: #FFFFFF;\n",
              "    }\n",
              "  </style>\n",
              "\n",
              "      <script>\n",
              "        const buttonEl =\n",
              "          document.querySelector('#df-fa4e0b99-bf85-42ee-bb69-8b0a30d3ed4a button.colab-df-convert');\n",
              "        buttonEl.style.display =\n",
              "          google.colab.kernel.accessAllowed ? 'block' : 'none';\n",
              "\n",
              "        async function convertToInteractive(key) {\n",
              "          const element = document.querySelector('#df-fa4e0b99-bf85-42ee-bb69-8b0a30d3ed4a');\n",
              "          const dataTable =\n",
              "            await google.colab.kernel.invokeFunction('convertToInteractive',\n",
              "                                                     [key], {});\n",
              "          if (!dataTable) return;\n",
              "\n",
              "          const docLinkHtml = 'Like what you see? Visit the ' +\n",
              "            '<a target=\"_blank\" href=https://colab.research.google.com/notebooks/data_table.ipynb>data table notebook</a>'\n",
              "            + ' to learn more about interactive tables.';\n",
              "          element.innerHTML = '';\n",
              "          dataTable['output_type'] = 'display_data';\n",
              "          await google.colab.output.renderOutput(dataTable, element);\n",
              "          const docLink = document.createElement('div');\n",
              "          docLink.innerHTML = docLinkHtml;\n",
              "          element.appendChild(docLink);\n",
              "        }\n",
              "      </script>\n",
              "    </div>\n",
              "  </div>\n",
              "  "
            ],
            "text/plain": [
              "                datetime        날짜  시간      10  ...  3000  4510  5510  6000\n",
              "744  2020-02-01 00:00:00  20200201   0  100593  ...   725  3012  1783  2623\n",
              "745  2020-02-01 01:00:00  20200201   1   70732  ...   548  2029  1271  1905\n",
              "746  2020-02-01 02:00:00  20200201   2   53857  ...   447  1629   948  1587\n",
              "747  2020-02-01 03:00:00  20200201   3   47215  ...   393  1726   828  1553\n",
              "748  2020-02-01 04:00:00  20200201   4   55504  ...   556  2511  1233  2165\n",
              "\n",
              "[5 rows x 38 columns]"
            ]
          },
          "metadata": {},
          "execution_count": 43
        }
      ]
    },
    {
      "cell_type": "code",
      "source": [
        "data_train[\"date\"] = data_train[\"datetime\"]\n",
        "data_train[\"date\"] = pd.to_datetime(data_train[\"date\"], format = '%Y-%m-%d %H')\n",
        "data_train[\"value\"] = data_train[\"10\"]\n",
        "\n",
        "scaler = StandardScaler()\n",
        "scaler.fit(data_train[\"value\"].to_numpy().reshape(-1,1))\n",
        "data_train[\"value\"] = scaler.transform(data_train[\"value\"].to_numpy().reshape(-1,1)).reshape(-1)\n",
        "data_train = data_train[[\"date\", \"value\"]]"
      ],
      "metadata": {
        "id": "zYjJZ4f93maB"
      },
      "execution_count": 44,
      "outputs": []
    },
    {
      "cell_type": "code",
      "source": [
        "data_val = pd.read_csv(\"val_고침.csv\")\n",
        "\n",
        "data_val['날짜'] = data_val[\"날짜\"].astype('int')\n",
        "data_val['시간'] = data_val[\"시간\"].astype('int')\n",
        "data_val['date'] = data_val[\"날짜\"] * 100 + data_val[\"시간\"]\n",
        "\n",
        "data_val['date'] = pd.to_datetime(data_val['date'], format=\"%Y%m%d%H\")\n",
        "data_val[\"value\"] = data_val[\"10\"]\n",
        "\n",
        "data_val[\"value\"] = scaler.transform(data_val[\"value\"].to_numpy().reshape(-1,1)).reshape(-1)\n",
        "data_val = data_val[[\"date\", \"value\"]]"
      ],
      "metadata": {
        "id": "_wTJKB2o3mTs"
      },
      "execution_count": 45,
      "outputs": []
    },
    {
      "cell_type": "code",
      "source": [
        "merged_data = pd.concat([data_train,data_val], ignore_index=True)"
      ],
      "metadata": {
        "id": "6lIRHRB-7pfi"
      },
      "execution_count": 46,
      "outputs": []
    },
    {
      "cell_type": "markdown",
      "source": [
        "# 2. Train Model"
      ],
      "metadata": {
        "id": "mcO8Ndbw9qNS"
      }
    },
    {
      "cell_type": "markdown",
      "source": [
        "## Set parameters & dataset"
      ],
      "metadata": {
        "id": "OHFMqfepCUch"
      }
    },
    {
      "cell_type": "code",
      "source": [
        "pred_len = 24*7\n",
        "\n",
        "seq_len = pred_len # 인풋 크기\n",
        "label_len = pred_len # 디코더에서 참고할 크기\n",
        "pred_len = pred_len # 예측할 크기\n",
        "\n",
        "batch_size = 16\n",
        "shuffle_flag = True\n",
        "num_workers = 0\n",
        "drop_last = True\n",
        "\n",
        "dataset = Dataset_Pred(dataframe=merged_data, size = (seq_len, label_len, pred_len))\n",
        "data_loader = DataLoader(dataset,batch_size=batch_size,shuffle=shuffle_flag,num_workers=num_workers,drop_last=drop_last)"
      ],
      "metadata": {
        "id": "HuEG1xmq74MY"
      },
      "execution_count": 47,
      "outputs": []
    },
    {
      "cell_type": "code",
      "source": [
        "enc_in = 1\n",
        "dec_in = 1\n",
        "c_out = 1\n",
        "EARLY_STOPPING_PATIENCE = 10\n",
        "device = torch.device(\"cuda:0\")\n",
        "\n",
        "model = Informer(enc_in=enc_in, dec_in=dec_in, c_out=c_out, seq_len=seq_len, label_len=label_len, out_len=pred_len, d_ff=2048, device = device).to(device)\n",
        "learning_rate = 1e-4\n",
        "\n",
        "eps = 1e-6\n",
        "criterion =  nn.MSELoss()\n",
        "\n",
        "model_optim = optim.Adam(model.parameters(), lr=learning_rate)"
      ],
      "metadata": {
        "id": "AvMg1bMx833a"
      },
      "execution_count": 48,
      "outputs": []
    },
    {
      "cell_type": "code",
      "source": [
        "class LossEarlyStopper():\n",
        "    \"\"\"Early stopper\n",
        "    \n",
        "    Attributes:\n",
        "        patience (int): loss가 줄어들지 않아도 학습할 epoch 수\n",
        "        patience_counter (int): loss 가 줄어들지 않을 때 마다 1씩 증가, 감소 시 0으로 리셋\n",
        "        min_loss (float): 최소 loss\n",
        "        stop (bool): True 일 때 학습 중단\n",
        "\n",
        "    \"\"\"\n",
        "\n",
        "    def __init__(self, patience: int)-> None:\n",
        "        self.patience = patience\n",
        "\n",
        "        self.patience_counter = 0\n",
        "        self.min_loss = np.Inf\n",
        "        self.stop = False\n",
        "        self.save_model = False\n",
        "\n",
        "    def check_early_stopping(self, loss: float)-> None:\n",
        "        \"\"\"Early stopping 여부 판단\"\"\"  \n",
        "\n",
        "        if self.min_loss == np.Inf:\n",
        "            self.min_loss = loss\n",
        "            return None\n",
        "\n",
        "        elif loss > self.min_loss:\n",
        "            self.patience_counter += 1\n",
        "            msg = f\"Early stopping counter {self.patience_counter}/{self.patience}\"\n",
        "\n",
        "            if self.patience_counter == self.patience:\n",
        "                self.stop = True\n",
        "                \n",
        "        elif loss <= self.min_loss:\n",
        "            self.patience_counter = 0\n",
        "            self.save_model = True\n",
        "            msg = f\"Validation loss decreased {self.min_loss} -> {loss}\"\n",
        "            self.min_loss = loss\n",
        "        \n",
        "        print(msg)"
      ],
      "metadata": {
        "id": "J4XHdMKKQjCS"
      },
      "execution_count": 49,
      "outputs": []
    },
    {
      "cell_type": "code",
      "source": [
        "early_stopper = LossEarlyStopper(patience=EARLY_STOPPING_PATIENCE)"
      ],
      "metadata": {
        "id": "RFcq0hgBQ19o"
      },
      "execution_count": 50,
      "outputs": []
    },
    {
      "cell_type": "code",
      "source": [
        "train_epochs = 1000\n",
        "model.train()\n",
        "progress = tqdm(range(train_epochs))\n",
        "for epoch in progress:\n",
        "    train_loss = []\n",
        "    for i, (batch_x,batch_y,batch_x_mark,batch_y_mark) in enumerate(data_loader):\n",
        "        model_optim.zero_grad()\n",
        "        pred, true = _process_one_batch(batch_x, batch_y, batch_x_mark, batch_y_mark)\n",
        "        loss = torch.sqrt(criterion(pred, true) + eps)\n",
        "        train_loss.append(loss.item())\n",
        "        loss.backward()\n",
        "        model_optim.step()\n",
        "    train_loss = np.average(train_loss)\n",
        "\n",
        "    early_stopper.check_early_stopping(loss=train_loss)\n",
        "\n",
        "    if early_stopper.stop:\n",
        "        print('Early stopped')\n",
        "        break\n",
        "\n",
        "    if early_stopper.save_model:\n",
        "        torch.save(model.state_dict(), \"informer_10.pt\")\n",
        "        early_stopper.save_model = False\n",
        "\n",
        "    progress.set_description(\"loss: {:0.6f}\".format(train_loss))"
      ],
      "metadata": {
        "colab": {
          "base_uri": "https://localhost:8080/"
        },
        "id": "tla08IVQ-9BK",
        "outputId": "ab626e94-cf4c-49f7-f748-059f75863bc0"
      },
      "execution_count": 51,
      "outputs": [
        {
          "output_type": "stream",
          "name": "stderr",
          "text": [
            "loss: 0.843793:   0%|          | 1/1000 [00:17<4:59:16, 17.97s/it]"
          ]
        },
        {
          "output_type": "stream",
          "name": "stdout",
          "text": [
            "Validation loss decreased 0.8437927518039942 -> 0.362832416780293\n"
          ]
        },
        {
          "output_type": "stream",
          "name": "stderr",
          "text": [
            "loss: 0.362832:   0%|          | 2/1000 [00:36<5:01:49, 18.15s/it]"
          ]
        },
        {
          "output_type": "stream",
          "name": "stdout",
          "text": [
            "Validation loss decreased 0.362832416780293 -> 0.2894507163204253\n"
          ]
        },
        {
          "output_type": "stream",
          "name": "stderr",
          "text": [
            "loss: 0.289451:   0%|          | 3/1000 [00:54<5:02:25, 18.20s/it]"
          ]
        },
        {
          "output_type": "stream",
          "name": "stdout",
          "text": [
            "Validation loss decreased 0.2894507163204253 -> 0.23483005044981836\n"
          ]
        },
        {
          "output_type": "stream",
          "name": "stderr",
          "text": [
            "loss: 0.234830:   0%|          | 4/1000 [01:12<5:02:31, 18.22s/it]"
          ]
        },
        {
          "output_type": "stream",
          "name": "stdout",
          "text": [
            "Validation loss decreased 0.23483005044981836 -> 0.2062765029259026\n"
          ]
        },
        {
          "output_type": "stream",
          "name": "stderr",
          "text": [
            "loss: 0.206277:   0%|          | 5/1000 [01:30<5:02:15, 18.23s/it]"
          ]
        },
        {
          "output_type": "stream",
          "name": "stdout",
          "text": [
            "Validation loss decreased 0.2062765029259026 -> 0.17777438852936028\n"
          ]
        },
        {
          "output_type": "stream",
          "name": "stderr",
          "text": [
            "loss: 0.177774:   1%|          | 6/1000 [01:49<5:02:06, 18.24s/it]"
          ]
        },
        {
          "output_type": "stream",
          "name": "stdout",
          "text": [
            "Validation loss decreased 0.17777438852936028 -> 0.16010304130613803\n"
          ]
        },
        {
          "output_type": "stream",
          "name": "stderr",
          "text": [
            "loss: 0.160103:   1%|          | 7/1000 [02:07<5:01:50, 18.24s/it]"
          ]
        },
        {
          "output_type": "stream",
          "name": "stdout",
          "text": [
            "Validation loss decreased 0.16010304130613803 -> 0.1499609389808029\n"
          ]
        },
        {
          "output_type": "stream",
          "name": "stderr",
          "text": [
            "loss: 0.149961:   1%|          | 8/1000 [02:25<5:01:37, 18.24s/it]"
          ]
        },
        {
          "output_type": "stream",
          "name": "stdout",
          "text": [
            "Validation loss decreased 0.1499609389808029 -> 0.1423294170293957\n"
          ]
        },
        {
          "output_type": "stream",
          "name": "stderr",
          "text": [
            "loss: 0.142329:   1%|          | 9/1000 [02:44<5:01:29, 18.25s/it]"
          ]
        },
        {
          "output_type": "stream",
          "name": "stdout",
          "text": [
            "Validation loss decreased 0.1423294170293957 -> 0.13013990460895003\n"
          ]
        },
        {
          "output_type": "stream",
          "name": "stderr",
          "text": [
            "loss: 0.130140:   1%|          | 10/1000 [03:02<5:01:17, 18.26s/it]"
          ]
        },
        {
          "output_type": "stream",
          "name": "stdout",
          "text": [
            "Validation loss decreased 0.13013990460895003 -> 0.12679078681394457\n"
          ]
        },
        {
          "output_type": "stream",
          "name": "stderr",
          "text": [
            "loss: 0.126791:   1%|          | 11/1000 [03:20<5:00:53, 18.25s/it]"
          ]
        },
        {
          "output_type": "stream",
          "name": "stdout",
          "text": [
            "Validation loss decreased 0.12679078681394457 -> 0.12050817012786866\n"
          ]
        },
        {
          "output_type": "stream",
          "name": "stderr",
          "text": [
            "loss: 0.120508:   1%|          | 12/1000 [03:38<5:00:31, 18.25s/it]"
          ]
        },
        {
          "output_type": "stream",
          "name": "stdout",
          "text": [
            "Validation loss decreased 0.12050817012786866 -> 0.11180918673053383\n"
          ]
        },
        {
          "output_type": "stream",
          "name": "stderr",
          "text": [
            "loss: 0.111809:   1%|▏         | 13/1000 [03:57<5:00:12, 18.25s/it]"
          ]
        },
        {
          "output_type": "stream",
          "name": "stdout",
          "text": [
            "Validation loss decreased 0.11180918673053383 -> 0.11152780209667981\n"
          ]
        },
        {
          "output_type": "stream",
          "name": "stderr",
          "text": [
            "loss: 0.111528:   1%|▏         | 14/1000 [04:15<5:00:02, 18.26s/it]"
          ]
        },
        {
          "output_type": "stream",
          "name": "stdout",
          "text": [
            "Validation loss decreased 0.11152780209667981 -> 0.11038413341157138\n"
          ]
        },
        {
          "output_type": "stream",
          "name": "stderr",
          "text": [
            "loss: 0.110384:   2%|▏         | 15/1000 [04:33<4:59:42, 18.26s/it]"
          ]
        },
        {
          "output_type": "stream",
          "name": "stdout",
          "text": [
            "Validation loss decreased 0.11038413341157138 -> 0.10336366854608059\n"
          ]
        },
        {
          "output_type": "stream",
          "name": "stderr",
          "text": [
            "loss: 0.103364:   2%|▏         | 16/1000 [04:51<4:59:27, 18.26s/it]"
          ]
        },
        {
          "output_type": "stream",
          "name": "stdout",
          "text": [
            "Validation loss decreased 0.10336366854608059 -> 0.09618960660882295\n"
          ]
        },
        {
          "output_type": "stream",
          "name": "stderr",
          "text": [
            "loss: 0.103051:   2%|▏         | 18/1000 [05:28<4:57:37, 18.19s/it]"
          ]
        },
        {
          "output_type": "stream",
          "name": "stdout",
          "text": [
            "Early stopping counter 1/10\n"
          ]
        },
        {
          "output_type": "stream",
          "name": "stderr",
          "text": [
            "loss: 0.097443:   2%|▏         | 19/1000 [05:46<4:56:14, 18.12s/it]"
          ]
        },
        {
          "output_type": "stream",
          "name": "stdout",
          "text": [
            "Early stopping counter 2/10\n",
            "Validation loss decreased 0.09618960660882295 -> 0.08672939497046173\n"
          ]
        },
        {
          "output_type": "stream",
          "name": "stderr",
          "text": [
            "loss: 0.090033:   2%|▏         | 21/1000 [06:22<4:55:22, 18.10s/it]"
          ]
        },
        {
          "output_type": "stream",
          "name": "stdout",
          "text": [
            "Early stopping counter 1/10\n"
          ]
        },
        {
          "output_type": "stream",
          "name": "stderr",
          "text": [
            "loss: 0.090608:   2%|▏         | 22/1000 [06:40<4:54:24, 18.06s/it]"
          ]
        },
        {
          "output_type": "stream",
          "name": "stdout",
          "text": [
            "Early stopping counter 2/10\n",
            "Validation loss decreased 0.08672939497046173 -> 0.08672094303183257\n"
          ]
        },
        {
          "output_type": "stream",
          "name": "stderr",
          "text": [
            "loss: 0.086721:   2%|▏         | 23/1000 [06:58<4:54:59, 18.12s/it]"
          ]
        },
        {
          "output_type": "stream",
          "name": "stdout",
          "text": [
            "Validation loss decreased 0.08672094303183257 -> 0.08557227030396461\n"
          ]
        },
        {
          "output_type": "stream",
          "name": "stderr",
          "text": [
            "loss: 0.086543:   2%|▎         | 25/1000 [07:34<4:54:17, 18.11s/it]"
          ]
        },
        {
          "output_type": "stream",
          "name": "stdout",
          "text": [
            "Early stopping counter 1/10\n",
            "Validation loss decreased 0.08557227030396461 -> 0.08455782770179213\n"
          ]
        },
        {
          "output_type": "stream",
          "name": "stderr",
          "text": [
            "loss: 0.084558:   3%|▎         | 26/1000 [07:52<4:54:38, 18.15s/it]"
          ]
        },
        {
          "output_type": "stream",
          "name": "stdout",
          "text": [
            "Validation loss decreased 0.08455782770179213 -> 0.08198773032054305\n"
          ]
        },
        {
          "output_type": "stream",
          "name": "stderr",
          "text": [
            "loss: 0.081988:   3%|▎         | 27/1000 [08:11<4:54:52, 18.18s/it]"
          ]
        },
        {
          "output_type": "stream",
          "name": "stdout",
          "text": [
            "Validation loss decreased 0.08198773032054305 -> 0.07751874295063317\n"
          ]
        },
        {
          "output_type": "stream",
          "name": "stderr",
          "text": [
            "loss: 0.077519:   3%|▎         | 28/1000 [08:29<4:55:06, 18.22s/it]"
          ]
        },
        {
          "output_type": "stream",
          "name": "stdout",
          "text": [
            "Validation loss decreased 0.07751874295063317 -> 0.07563773372676223\n"
          ]
        },
        {
          "output_type": "stream",
          "name": "stderr",
          "text": [
            "loss: 0.077728:   3%|▎         | 30/1000 [09:05<4:53:37, 18.16s/it]"
          ]
        },
        {
          "output_type": "stream",
          "name": "stdout",
          "text": [
            "Early stopping counter 1/10\n",
            "Validation loss decreased 0.07563773372676223 -> 0.07545871611218899\n"
          ]
        },
        {
          "output_type": "stream",
          "name": "stderr",
          "text": [
            "loss: 0.075459:   3%|▎         | 31/1000 [09:24<4:53:43, 18.19s/it]"
          ]
        },
        {
          "output_type": "stream",
          "name": "stdout",
          "text": [
            "Validation loss decreased 0.07545871611218899 -> 0.07545558344572782\n"
          ]
        },
        {
          "output_type": "stream",
          "name": "stderr",
          "text": [
            "loss: 0.075456:   3%|▎         | 32/1000 [09:42<4:53:44, 18.21s/it]"
          ]
        },
        {
          "output_type": "stream",
          "name": "stdout",
          "text": [
            "Validation loss decreased 0.07545558344572782 -> 0.07010229190345854\n"
          ]
        },
        {
          "output_type": "stream",
          "name": "stderr",
          "text": [
            "loss: 0.074882:   3%|▎         | 34/1000 [10:18<4:52:13, 18.15s/it]"
          ]
        },
        {
          "output_type": "stream",
          "name": "stdout",
          "text": [
            "Early stopping counter 1/10\n",
            "Validation loss decreased 0.07010229190345854 -> 0.06867914407048374\n"
          ]
        },
        {
          "output_type": "stream",
          "name": "stderr",
          "text": [
            "loss: 0.070308:   4%|▎         | 36/1000 [10:54<4:51:15, 18.13s/it]"
          ]
        },
        {
          "output_type": "stream",
          "name": "stdout",
          "text": [
            "Early stopping counter 1/10\n"
          ]
        },
        {
          "output_type": "stream",
          "name": "stderr",
          "text": [
            "loss: 0.072513:   4%|▎         | 37/1000 [11:12<4:50:08, 18.08s/it]"
          ]
        },
        {
          "output_type": "stream",
          "name": "stdout",
          "text": [
            "Early stopping counter 2/10\n"
          ]
        },
        {
          "output_type": "stream",
          "name": "stderr",
          "text": [
            "loss: 0.068874:   4%|▍         | 38/1000 [11:30<4:49:14, 18.04s/it]"
          ]
        },
        {
          "output_type": "stream",
          "name": "stdout",
          "text": [
            "Early stopping counter 3/10\n",
            "Validation loss decreased 0.06867914407048374 -> 0.06637336167041212\n"
          ]
        },
        {
          "output_type": "stream",
          "name": "stderr",
          "text": [
            "loss: 0.066488:   4%|▍         | 40/1000 [12:06<4:48:59, 18.06s/it]"
          ]
        },
        {
          "output_type": "stream",
          "name": "stdout",
          "text": [
            "Early stopping counter 1/10\n",
            "Validation loss decreased 0.06637336167041212 -> 0.0638845736393705\n"
          ]
        },
        {
          "output_type": "stream",
          "name": "stderr",
          "text": [
            "loss: 0.063885:   4%|▍         | 41/1000 [12:25<4:49:39, 18.12s/it]"
          ]
        },
        {
          "output_type": "stream",
          "name": "stdout",
          "text": [
            "Validation loss decreased 0.0638845736393705 -> 0.06373036776203662\n"
          ]
        },
        {
          "output_type": "stream",
          "name": "stderr",
          "text": [
            "loss: 0.063730:   4%|▍         | 42/1000 [12:43<4:50:13, 18.18s/it]"
          ]
        },
        {
          "output_type": "stream",
          "name": "stdout",
          "text": [
            "Validation loss decreased 0.06373036776203662 -> 0.059033584082499146\n"
          ]
        },
        {
          "output_type": "stream",
          "name": "stderr",
          "text": [
            "loss: 0.060584:   4%|▍         | 44/1000 [13:19<4:49:14, 18.15s/it]"
          ]
        },
        {
          "output_type": "stream",
          "name": "stdout",
          "text": [
            "Early stopping counter 1/10\n"
          ]
        },
        {
          "output_type": "stream",
          "name": "stderr",
          "text": [
            "loss: 0.060354:   4%|▍         | 45/1000 [13:37<4:48:01, 18.10s/it]"
          ]
        },
        {
          "output_type": "stream",
          "name": "stdout",
          "text": [
            "Early stopping counter 2/10\n"
          ]
        },
        {
          "output_type": "stream",
          "name": "stderr",
          "text": [
            "loss: 0.060189:   5%|▍         | 46/1000 [13:55<4:47:01, 18.05s/it]"
          ]
        },
        {
          "output_type": "stream",
          "name": "stdout",
          "text": [
            "Early stopping counter 3/10\n"
          ]
        },
        {
          "output_type": "stream",
          "name": "stderr",
          "text": [
            "loss: 0.060293:   5%|▍         | 47/1000 [14:13<4:46:17, 18.02s/it]"
          ]
        },
        {
          "output_type": "stream",
          "name": "stdout",
          "text": [
            "Early stopping counter 4/10\n"
          ]
        },
        {
          "output_type": "stream",
          "name": "stderr",
          "text": [
            "loss: 0.059103:   5%|▍         | 48/1000 [14:31<4:45:43, 18.01s/it]"
          ]
        },
        {
          "output_type": "stream",
          "name": "stdout",
          "text": [
            "Early stopping counter 5/10\n",
            "Validation loss decreased 0.059033584082499146 -> 0.05722723782528192\n"
          ]
        },
        {
          "output_type": "stream",
          "name": "stderr",
          "text": [
            "loss: 0.057227:   5%|▍         | 49/1000 [14:49<4:46:36, 18.08s/it]"
          ]
        },
        {
          "output_type": "stream",
          "name": "stdout",
          "text": [
            "Validation loss decreased 0.05722723782528192 -> 0.056290153856389226\n"
          ]
        },
        {
          "output_type": "stream",
          "name": "stderr",
          "text": [
            "loss: 0.056290:   5%|▌         | 50/1000 [15:08<4:47:15, 18.14s/it]"
          ]
        },
        {
          "output_type": "stream",
          "name": "stdout",
          "text": [
            "Validation loss decreased 0.056290153856389226 -> 0.05540868490934372\n"
          ]
        },
        {
          "output_type": "stream",
          "name": "stderr",
          "text": [
            "loss: 0.055533:   5%|▌         | 52/1000 [15:44<4:46:21, 18.12s/it]"
          ]
        },
        {
          "output_type": "stream",
          "name": "stdout",
          "text": [
            "Early stopping counter 1/10\n",
            "Validation loss decreased 0.05540868490934372 -> 0.05517266874667257\n"
          ]
        },
        {
          "output_type": "stream",
          "name": "stderr",
          "text": [
            "loss: 0.055173:   5%|▌         | 53/1000 [16:02<4:46:31, 18.15s/it]"
          ]
        },
        {
          "output_type": "stream",
          "name": "stdout",
          "text": [
            "Validation loss decreased 0.05517266874667257 -> 0.052644889312796296\n"
          ]
        },
        {
          "output_type": "stream",
          "name": "stderr",
          "text": [
            "loss: 0.052955:   6%|▌         | 55/1000 [16:38<4:45:40, 18.14s/it]"
          ]
        },
        {
          "output_type": "stream",
          "name": "stdout",
          "text": [
            "Early stopping counter 1/10\n"
          ]
        },
        {
          "output_type": "stream",
          "name": "stderr",
          "text": [
            "loss: 0.055932:   6%|▌         | 56/1000 [16:56<4:44:34, 18.09s/it]"
          ]
        },
        {
          "output_type": "stream",
          "name": "stdout",
          "text": [
            "Early stopping counter 2/10\n"
          ]
        },
        {
          "output_type": "stream",
          "name": "stderr",
          "text": [
            "loss: 0.054394:   6%|▌         | 57/1000 [17:14<4:43:40, 18.05s/it]"
          ]
        },
        {
          "output_type": "stream",
          "name": "stdout",
          "text": [
            "Early stopping counter 3/10\n",
            "Validation loss decreased 0.052644889312796296 -> 0.05064222814980894\n"
          ]
        },
        {
          "output_type": "stream",
          "name": "stderr",
          "text": [
            "loss: 0.050642:   6%|▌         | 58/1000 [17:33<4:44:07, 18.10s/it]"
          ]
        },
        {
          "output_type": "stream",
          "name": "stdout",
          "text": [
            "Validation loss decreased 0.05064222814980894 -> 0.04953637078870088\n"
          ]
        },
        {
          "output_type": "stream",
          "name": "stderr",
          "text": [
            "loss: 0.051084:   6%|▌         | 60/1000 [18:09<4:43:44, 18.11s/it]"
          ]
        },
        {
          "output_type": "stream",
          "name": "stdout",
          "text": [
            "Early stopping counter 1/10\n"
          ]
        },
        {
          "output_type": "stream",
          "name": "stderr",
          "text": [
            "loss: 0.049931:   6%|▌         | 61/1000 [18:27<4:42:51, 18.07s/it]"
          ]
        },
        {
          "output_type": "stream",
          "name": "stdout",
          "text": [
            "Early stopping counter 2/10\n",
            "Validation loss decreased 0.04953637078870088 -> 0.0469064406119287\n"
          ]
        },
        {
          "output_type": "stream",
          "name": "stderr",
          "text": [
            "loss: 0.047914:   6%|▋         | 63/1000 [19:03<4:42:39, 18.10s/it]"
          ]
        },
        {
          "output_type": "stream",
          "name": "stdout",
          "text": [
            "Early stopping counter 1/10\n"
          ]
        },
        {
          "output_type": "stream",
          "name": "stderr",
          "text": [
            "loss: 0.049718:   6%|▋         | 64/1000 [19:21<4:41:42, 18.06s/it]"
          ]
        },
        {
          "output_type": "stream",
          "name": "stdout",
          "text": [
            "Early stopping counter 2/10\n"
          ]
        },
        {
          "output_type": "stream",
          "name": "stderr",
          "text": [
            "loss: 0.046987:   6%|▋         | 65/1000 [19:39<4:41:04, 18.04s/it]"
          ]
        },
        {
          "output_type": "stream",
          "name": "stdout",
          "text": [
            "Early stopping counter 3/10\n",
            "Validation loss decreased 0.0469064406119287 -> 0.04581263535656035\n"
          ]
        },
        {
          "output_type": "stream",
          "name": "stderr",
          "text": [
            "loss: 0.045813:   7%|▋         | 66/1000 [19:57<4:41:44, 18.10s/it]"
          ]
        },
        {
          "output_type": "stream",
          "name": "stdout",
          "text": [
            "Validation loss decreased 0.04581263535656035 -> 0.04368049504701048\n"
          ]
        },
        {
          "output_type": "stream",
          "name": "stderr",
          "text": [
            "loss: 0.045490:   7%|▋         | 68/1000 [20:34<4:41:20, 18.11s/it]"
          ]
        },
        {
          "output_type": "stream",
          "name": "stdout",
          "text": [
            "Early stopping counter 1/10\n"
          ]
        },
        {
          "output_type": "stream",
          "name": "stderr",
          "text": [
            "loss: 0.047705:   7%|▋         | 69/1000 [20:52<4:40:23, 18.07s/it]"
          ]
        },
        {
          "output_type": "stream",
          "name": "stdout",
          "text": [
            "Early stopping counter 2/10\n"
          ]
        },
        {
          "output_type": "stream",
          "name": "stderr",
          "text": [
            "loss: 0.060738:   7%|▋         | 70/1000 [21:10<4:39:44, 18.05s/it]"
          ]
        },
        {
          "output_type": "stream",
          "name": "stdout",
          "text": [
            "Early stopping counter 3/10\n"
          ]
        },
        {
          "output_type": "stream",
          "name": "stderr",
          "text": [
            "loss: 0.053487:   7%|▋         | 71/1000 [21:28<4:38:58, 18.02s/it]"
          ]
        },
        {
          "output_type": "stream",
          "name": "stdout",
          "text": [
            "Early stopping counter 4/10\n"
          ]
        },
        {
          "output_type": "stream",
          "name": "stderr",
          "text": [
            "loss: 0.047979:   7%|▋         | 72/1000 [21:46<4:38:22, 18.00s/it]"
          ]
        },
        {
          "output_type": "stream",
          "name": "stdout",
          "text": [
            "Early stopping counter 5/10\n"
          ]
        },
        {
          "output_type": "stream",
          "name": "stderr",
          "text": [
            "loss: 0.045612:   7%|▋         | 73/1000 [22:03<4:37:58, 17.99s/it]"
          ]
        },
        {
          "output_type": "stream",
          "name": "stdout",
          "text": [
            "Early stopping counter 6/10\n"
          ]
        },
        {
          "output_type": "stream",
          "name": "stderr",
          "text": [
            "loss: 0.046200:   7%|▋         | 74/1000 [22:21<4:37:31, 17.98s/it]"
          ]
        },
        {
          "output_type": "stream",
          "name": "stdout",
          "text": [
            "Early stopping counter 7/10\n"
          ]
        },
        {
          "output_type": "stream",
          "name": "stderr",
          "text": [
            "loss: 0.046414:   8%|▊         | 75/1000 [22:39<4:36:57, 17.97s/it]"
          ]
        },
        {
          "output_type": "stream",
          "name": "stdout",
          "text": [
            "Early stopping counter 8/10\n"
          ]
        },
        {
          "output_type": "stream",
          "name": "stderr",
          "text": [
            "loss: 0.046228:   8%|▊         | 76/1000 [22:57<4:36:30, 17.96s/it]"
          ]
        },
        {
          "output_type": "stream",
          "name": "stdout",
          "text": [
            "Early stopping counter 9/10\n"
          ]
        },
        {
          "output_type": "stream",
          "name": "stderr",
          "text": [
            "\rloss: 0.046228:   8%|▊         | 76/1000 [23:15<4:42:49, 18.37s/it]"
          ]
        },
        {
          "output_type": "stream",
          "name": "stdout",
          "text": [
            "Early stopping counter 10/10\n",
            "Early stopped\n"
          ]
        },
        {
          "output_type": "stream",
          "name": "stderr",
          "text": [
            "\n"
          ]
        }
      ]
    },
    {
      "cell_type": "markdown",
      "source": [
        "# 3. Prediction"
      ],
      "metadata": {
        "id": "FjsdIuIrCZdY"
      }
    },
    {
      "cell_type": "markdown",
      "source": [
        "## Load model"
      ],
      "metadata": {
        "id": "42-ux6waCcjx"
      }
    },
    {
      "cell_type": "code",
      "source": [
        "model = Informer(enc_in=enc_in, dec_in=dec_in, c_out=c_out, seq_len=seq_len, label_len=label_len, out_len=pred_len, d_ff=2048, device = device).to(device)\n",
        "model.load_state_dict(torch.load(\"informer_10.pt\", map_location='cpu'))"
      ],
      "metadata": {
        "colab": {
          "base_uri": "https://localhost:8080/"
        },
        "id": "YXJtrlNad4gB",
        "outputId": "381dd179-b567-48de-ebb6-640225f3ae96"
      },
      "execution_count": 52,
      "outputs": [
        {
          "output_type": "execute_result",
          "data": {
            "text/plain": [
              "<All keys matched successfully>"
            ]
          },
          "metadata": {},
          "execution_count": 52
        }
      ]
    },
    {
      "cell_type": "markdown",
      "source": [
        "## Load test data & prediction"
      ],
      "metadata": {
        "id": "hl13fsjhCehE"
      }
    },
    {
      "cell_type": "code",
      "source": [
        "df_test = merged_data.copy()\n",
        "df_test[\"date\"] = pd.to_datetime(df_test[\"date\"].values)\n",
        "\n",
        "delta = df_test[\"date\"][1] - df_test[\"date\"][0]\n",
        "for i in range(pred_len):\n",
        "    df_test = df_test.append({\"date\":df_test[\"date\"].iloc[-1]+delta}, ignore_index=True)\n",
        "df_test = df_test.fillna(0)\n",
        "\n",
        "df_test_x = df_test.iloc[-seq_len-pred_len:-pred_len].copy()\n",
        "df_test_y = df_test.iloc[-label_len-pred_len:].copy()\n",
        "\n",
        "df_test_numpy = df_test.to_numpy()[:,1:].astype(\"float\")\n",
        "test_time_x = time_features(df_test_x, freq=dataset.freq) # 인풋 타임 스템프\n",
        "test_data_x = df_test_numpy[-seq_len-pred_len:-pred_len] # 인풋 데이터\n",
        "\n",
        "test_time_y = time_features(df_test_y, freq=dataset.freq) # 아웃풋 타임스템프\n",
        "test_data_y =df_test_numpy[-label_len-pred_len:]\n",
        "test_data_y[-pred_len:] = np.zeros_like(test_data_y[-pred_len:]) #예측하는 부분을 0으로 채워준다.\n",
        "\n",
        "test_time_x = test_time_x\n",
        "test_time_y = test_time_y\n",
        "test_data_y = test_data_y.astype(np.float64)\n",
        "test_data_x = test_data_x.astype(np.float64)\n",
        "\n",
        "_test = [(test_data_x,test_data_y,test_time_x,test_time_y)]\n",
        "_test_loader = DataLoader(_test,batch_size=1,shuffle=False)\n",
        "\n",
        "preds = []\n",
        "\n",
        "for i, (batch_x,batch_y,batch_x_mark,batch_y_mark) in enumerate(_test_loader):\n",
        "\n",
        "    batch_x = batch_x.float().to(device)\n",
        "    batch_y = batch_y.float().to(device)\n",
        "\n",
        "    batch_x_mark = batch_x_mark.float().to(device)\n",
        "    batch_y_mark = batch_y_mark.float().to(device)\n",
        "\n",
        "    outputs = model(batch_x, batch_x_mark, batch_y, batch_y_mark)\n",
        "    preds = outputs.detach().cpu().numpy()\n",
        "\n",
        "df_test['value'] = scaler.inverse_transform(df_test['value'])\n",
        "preds = scaler.inverse_transform(preds[0])\n",
        "\n",
        "df_test.iloc[-pred_len:, 1:] = preds"
      ],
      "metadata": {
        "id": "Z22NcnbLCZg1"
      },
      "execution_count": 58,
      "outputs": []
    },
    {
      "cell_type": "markdown",
      "source": [
        "## See result"
      ],
      "metadata": {
        "id": "cMKJt35hC3au"
      }
    },
    {
      "cell_type": "code",
      "source": [
        "real = df_test[\"value\"].iloc[:-24*7].to_numpy()\n",
        "result = df_test[\"value\"].iloc[-24*7:].to_numpy()\n",
        "\n",
        "plt.figure(figsize=(20,5))\n",
        "plt.plot(real[-812-+24*7:-24*7], label=\"real\")\n",
        "plt.plot(range(812,812+24*7), result, label=\"predict\")\n",
        "plt.legend()\n",
        "plt.show()"
      ],
      "metadata": {
        "colab": {
          "base_uri": "https://localhost:8080/",
          "height": 340
        },
        "id": "MMwuJ1dAEcK4",
        "outputId": "af91dad2-b688-4f4f-d2b4-026cdb28de03"
      },
      "execution_count": 61,
      "outputs": [
        {
          "output_type": "display_data",
          "data": {
            "image/png": "[encoded data removed]",
            "text/plain": [
              "<Figure size 1440x360 with 1 Axes>"
            ]
          },
          "metadata": {
            "needs_background": "light"
          }
        }
      ]
    },
    {
      "cell_type": "markdown",
      "source": [
        "# 4. Save result"
      ],
      "metadata": {
        "id": "rIsV7mjgC75E"
      }
    },
    {
      "cell_type": "code",
      "source": [
        "result10 = pd.DataFrame(result)"
      ],
      "metadata": {
        "id": "pMTQKqfYJukN"
      },
      "execution_count": 62,
      "outputs": []
    },
    {
      "cell_type": "code",
      "source": [
        "result10"
      ],
      "metadata": {
        "id": "Ibgr19gpeaHS",
        "colab": {
          "base_uri": "https://localhost:8080/",
          "height": 424
        },
        "outputId": "f01f9cd6-89cf-4d76-d356-a70a5f2e5799"
      },
      "execution_count": 63,
      "outputs": [
        {
          "output_type": "execute_result",
          "data": {
            "text/html": [
              "\n",
              "  <div id=\"df-e04b3047-5bc7-4f7c-be64-39d7ceaf3100\">\n",
              "    <div class=\"colab-df-container\">\n",
              "      <div>\n",
              "<style scoped>\n",
              "    .dataframe tbody tr th:only-of-type {\n",
              "        vertical-align: middle;\n",
              "    }\n",
              "\n",
              "    .dataframe tbody tr th {\n",
              "        vertical-align: top;\n",
              "    }\n",
              "\n",
              "    .dataframe thead th {\n",
              "        text-align: right;\n",
              "    }\n",
              "</style>\n",
              "<table border=\"1\" class=\"dataframe\">\n",
              "  <thead>\n",
              "    <tr style=\"text-align: right;\">\n",
              "      <th></th>\n",
              "      <th>0</th>\n",
              "    </tr>\n",
              "  </thead>\n",
              "  <tbody>\n",
              "    <tr>\n",
              "      <th>0</th>\n",
              "      <td>73742.431820</td>\n",
              "    </tr>\n",
              "    <tr>\n",
              "      <th>1</th>\n",
              "      <td>43510.480091</td>\n",
              "    </tr>\n",
              "    <tr>\n",
              "      <th>2</th>\n",
              "      <td>32776.136804</td>\n",
              "    </tr>\n",
              "    <tr>\n",
              "      <th>3</th>\n",
              "      <td>40949.475299</td>\n",
              "    </tr>\n",
              "    <tr>\n",
              "      <th>4</th>\n",
              "      <td>68074.422278</td>\n",
              "    </tr>\n",
              "    <tr>\n",
              "      <th>...</th>\n",
              "      <td>...</td>\n",
              "    </tr>\n",
              "    <tr>\n",
              "      <th>163</th>\n",
              "      <td>307744.459491</td>\n",
              "    </tr>\n",
              "    <tr>\n",
              "      <th>164</th>\n",
              "      <td>284728.514887</td>\n",
              "    </tr>\n",
              "    <tr>\n",
              "      <th>165</th>\n",
              "      <td>285580.543575</td>\n",
              "    </tr>\n",
              "    <tr>\n",
              "      <th>166</th>\n",
              "      <td>214649.314970</td>\n",
              "    </tr>\n",
              "    <tr>\n",
              "      <th>167</th>\n",
              "      <td>133148.752516</td>\n",
              "    </tr>\n",
              "  </tbody>\n",
              "</table>\n",
              "<p>168 rows × 1 columns</p>\n",
              "</div>\n",
              "      <button class=\"colab-df-convert\" onclick=\"convertToInteractive('df-e04b3047-5bc7-4f7c-be64-39d7ceaf3100')\"\n",
              "              title=\"Convert this dataframe to an interactive table.\"\n",
              "              style=\"display:none;\">\n",
              "        \n",
              "  <svg xmlns=\"http://www.w3.org/2000/svg\" height=\"24px\"viewBox=\"0 0 24 24\"\n",
              "       width=\"24px\">\n",
              "    <path d=\"M0 0h24v24H0V0z\" fill=\"none\"/>\n",
              "    <path d=\"M18.56 5.44l.94 2.06.94-2.06 2.06-.94-2.06-.94-.94-2.06-.94 2.06-2.06.94zm-11 1L8.5 8.5l.94-2.06 2.06-.94-2.06-.94L8.5 2.5l-.94 2.06-2.06.94zm10 10l.94 2.06.94-2.06 2.06-.94-2.06-.94-.94-2.06-.94 2.06-2.06.94z\"/><path d=\"M17.41 7.96l-1.37-1.37c-.4-.4-.92-.59-1.43-.59-.52 0-1.04.2-1.43.59L10.3 9.45l-7.72 7.72c-.78.78-.78 2.05 0 2.83L4 21.41c.39.39.9.59 1.41.59.51 0 1.02-.2 1.41-.59l7.78-7.78 2.81-2.81c.8-.78.8-2.07 0-2.86zM5.41 20L4 18.59l7.72-7.72 1.47 1.35L5.41 20z\"/>\n",
              "  </svg>\n",
              "      </button>\n",
              "      \n",
              "  <style>\n",
              "    .colab-df-container {\n",
              "      display:flex;\n",
              "      flex-wrap:wrap;\n",
              "      gap: 12px;\n",
              "    }\n",
              "\n",
              "    .colab-df-convert {\n",
              "      background-color: #E8F0FE;\n",
              "      border: none;\n",
              "      border-radius: 50%;\n",
              "      cursor: pointer;\n",
              "      display: none;\n",
              "      fill: #1967D2;\n",
              "      height: 32px;\n",
              "      padding: 0 0 0 0;\n",
              "      width: 32px;\n",
              "    }\n",
              "\n",
              "    .colab-df-convert:hover {\n",
              "      background-color: #E2EBFA;\n",
              "      box-shadow: 0px 1px 2px rgba(60, 64, 67, 0.3), 0px 1px 3px 1px rgba(60, 64, 67, 0.15);\n",
              "      fill: #174EA6;\n",
              "    }\n",
              "\n",
              "    [theme=dark] .colab-df-convert {\n",
              "      background-color: #3B4455;\n",
              "      fill: #D2E3FC;\n",
              "    }\n",
              "\n",
              "    [theme=dark] .colab-df-convert:hover {\n",
              "      background-color: #434B5C;\n",
              "      box-shadow: 0px 1px 3px 1px rgba(0, 0, 0, 0.15);\n",
              "      filter: drop-shadow(0px 1px 2px rgba(0, 0, 0, 0.3));\n",
              "      fill: #FFFFFF;\n",
              "    }\n",
              "  </style>\n",
              "\n",
              "      <script>\n",
              "        const buttonEl =\n",
              "          document.querySelector('#df-e04b3047-5bc7-4f7c-be64-39d7ceaf3100 button.colab-df-convert');\n",
              "        buttonEl.style.display =\n",
              "          google.colab.kernel.accessAllowed ? 'block' : 'none';\n",
              "\n",
              "        async function convertToInteractive(key) {\n",
              "          const element = document.querySelector('#df-e04b3047-5bc7-4f7c-be64-39d7ceaf3100');\n",
              "          const dataTable =\n",
              "            await google.colab.kernel.invokeFunction('convertToInteractive',\n",
              "                                                     [key], {});\n",
              "          if (!dataTable) return;\n",
              "\n",
              "          const docLinkHtml = 'Like what you see? Visit the ' +\n",
              "            '<a target=\"_blank\" href=https://colab.research.google.com/notebooks/data_table.ipynb>data table notebook</a>'\n",
              "            + ' to learn more about interactive tables.';\n",
              "          element.innerHTML = '';\n",
              "          dataTable['output_type'] = 'display_data';\n",
              "          await google.colab.output.renderOutput(dataTable, element);\n",
              "          const docLink = document.createElement('div');\n",
              "          docLink.innerHTML = docLinkHtml;\n",
              "          element.appendChild(docLink);\n",
              "        }\n",
              "      </script>\n",
              "    </div>\n",
              "  </div>\n",
              "  "
            ],
            "text/plain": [
              "                 0\n",
              "0     73742.431820\n",
              "1     43510.480091\n",
              "2     32776.136804\n",
              "3     40949.475299\n",
              "4     68074.422278\n",
              "..             ...\n",
              "163  307744.459491\n",
              "164  284728.514887\n",
              "165  285580.543575\n",
              "166  214649.314970\n",
              "167  133148.752516\n",
              "\n",
              "[168 rows x 1 columns]"
            ]
          },
          "metadata": {},
          "execution_count": 63
        }
      ]
    },
    {
      "cell_type": "code",
      "source": [
        "result10.to_csv('10.csv')"
      ],
      "metadata": {
        "id": "yoVJlXsRKAAh"
      },
      "execution_count": null,
      "outputs": []
    }
  ]
}