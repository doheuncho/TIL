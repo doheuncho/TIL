{
  "nbformat": 4,
  "nbformat_minor": 0,
  "metadata": {
    "colab": {
      "name": "2021_12_23.ipynb",
      "provenance": [],
      "collapsed_sections": [
        "0muCnInpfnMT",
        "da5uL4hd9Ms8"
      ]
    },
    "kernelspec": {
      "name": "python3",
      "display_name": "Python 3"
    },
    "language_info": {
      "name": "python"
    },
    "accelerator": "GPU"
  },
  "cells": [
    {
      "cell_type": "markdown",
      "source": [
        "<h1>Pytorch</h1>\n",
        "\n",
        "- Define by Run (cf. Tensorflow : Define and Run)"
      ],
      "metadata": {
        "id": "h9xWAkeCt9Ww"
      }
    },
    {
      "cell_type": "markdown",
      "source": [
        "<h1>Pytorch Packages</h1>\n",
        "\n",
        " - [**torch**](https://pytorch.org/docs/stable/torch.html)\n",
        " - [torch.autograd](https://pytorch.org/docs/stable/autograd.html)\n",
        " - [torch.nn](https://pytorch.org/docs/stable/nn.html)\n",
        " - [torch.optim](https://pytorch.org/docs/stable/optim.html)\n",
        " - [torch.multiprocessing](https://pytorch.org/docs/stable/multiprocessing.html)\n",
        " - torch.utils\n",
        " - torch.legact"
      ],
      "metadata": {
        "id": "mQZcv0tdcIvd"
      }
    },
    {
      "cell_type": "markdown",
      "source": [
        "# Pytorch Tensor Basic Usage\n",
        "\n",
        "1. Create Tensor\n",
        "2. Math Operations\n",
        "3. Tensor to Numpy, Numpy to Tensor\n",
        "4. Tensor on GPU\n",
        "5. Indexing, Joining, Slicing\n",
        "6. Initialization"
      ],
      "metadata": {
        "id": "0muCnInpfnMT"
      }
    },
    {
      "cell_type": "markdown",
      "source": [
        "<br> \n",
        "## 1. Create Tensor"
      ],
      "metadata": {
        "id": "saThSo9ZfwKL"
      }
    },
    {
      "cell_type": "markdown",
      "source": [
        "### 1) Random numbers"
      ],
      "metadata": {
        "id": "Vyzo2AEcke5n"
      }
    },
    {
      "cell_type": "code",
      "execution_count": 1,
      "metadata": {
        "id": "xswhjY7YrZCt"
      },
      "outputs": [],
      "source": [
        "import torch"
      ]
    },
    {
      "cell_type": "code",
      "source": [
        "# torch.rand(size)\n",
        "# make tensor from X ~ U(0, 1)\n",
        "x = torch.rand(2, 3)\n",
        "x"
      ],
      "metadata": {
        "colab": {
          "base_uri": "https://localhost:8080/"
        },
        "id": "ZRp5dq1rlPIs",
        "outputId": "049e67ad-6603-48f6-c382-1653744b3ce4"
      },
      "execution_count": 2,
      "outputs": [
        {
          "output_type": "execute_result",
          "data": {
            "text/plain": [
              "tensor([[0.2926, 0.5586, 0.4849],\n",
              "        [0.2292, 0.3932, 0.6602]])"
            ]
          },
          "metadata": {},
          "execution_count": 2
        }
      ]
    },
    {
      "cell_type": "code",
      "source": [
        "# torch.randn(size)\n",
        "# make tensor from X ~ Z(0, 1)\n",
        "x = torch.randn(2,3)\n",
        "x"
      ],
      "metadata": {
        "colab": {
          "base_uri": "https://localhost:8080/"
        },
        "id": "KJTREVXjlqgw",
        "outputId": "9be8b564-9bb7-48dc-943e-cd7a1a914d95"
      },
      "execution_count": 3,
      "outputs": [
        {
          "output_type": "execute_result",
          "data": {
            "text/plain": [
              "tensor([[-0.6716, -0.9535, -0.8025],\n",
              "        [-1.5024,  1.1510,  0.3891]])"
            ]
          },
          "metadata": {},
          "execution_count": 3
        }
      ]
    },
    {
      "cell_type": "code",
      "source": [
        "# torch.randperm(n)\n",
        "# permutation n elements\n",
        "x = torch.randperm(5)\n",
        "x"
      ],
      "metadata": {
        "colab": {
          "base_uri": "https://localhost:8080/"
        },
        "id": "BSoXb7F9lxkC",
        "outputId": "be80ea21-22a2-4266-8614-17418f92484b"
      },
      "execution_count": 4,
      "outputs": [
        {
          "output_type": "execute_result",
          "data": {
            "text/plain": [
              "tensor([1, 4, 2, 3, 0])"
            ]
          },
          "metadata": {},
          "execution_count": 4
        }
      ]
    },
    {
      "cell_type": "markdown",
      "source": [
        "### 2) Empty, Zeros, Ones, Arange, Max"
      ],
      "metadata": {
        "id": "2OqN1JJ2mOdu"
      }
    },
    {
      "cell_type": "code",
      "source": [
        "# torch.empty(size)\n",
        "# make tensor with trash uninitialized data\n",
        "x = torch.empty(2,3)\n",
        "x"
      ],
      "metadata": {
        "id": "sOsZ7YQamIVp",
        "colab": {
          "base_uri": "https://localhost:8080/"
        },
        "outputId": "67e53375-9cd1-47d8-afbc-bf4d85c82385"
      },
      "execution_count": 5,
      "outputs": [
        {
          "output_type": "execute_result",
          "data": {
            "text/plain": [
              "tensor([[2.1822e-01, 3.0722e-41, 3.3631e-44],\n",
              "        [0.0000e+00,        nan, 3.8910e-01]])"
            ]
          },
          "metadata": {},
          "execution_count": 5
        }
      ]
    },
    {
      "cell_type": "code",
      "source": [
        "# torch.zeros(size)\n",
        "# make tensor with 0\n",
        "x = torch.zeros(2, 3)\n",
        "x"
      ],
      "metadata": {
        "colab": {
          "base_uri": "https://localhost:8080/"
        },
        "id": "9wAmX5NQoKzp",
        "outputId": "3105fcc4-d033-487a-e936-8d946e4a4680"
      },
      "execution_count": 6,
      "outputs": [
        {
          "output_type": "execute_result",
          "data": {
            "text/plain": [
              "tensor([[0., 0., 0.],\n",
              "        [0., 0., 0.]])"
            ]
          },
          "metadata": {},
          "execution_count": 6
        }
      ]
    },
    {
      "cell_type": "code",
      "source": [
        "# torch.ones(size)\n",
        "# make tensor with 1\n",
        "x = torch.ones(2, 3)\n",
        "x"
      ],
      "metadata": {
        "colab": {
          "base_uri": "https://localhost:8080/"
        },
        "id": "XnXBtFz-o18A",
        "outputId": "03569d74-0b8e-4fd5-96a6-04001486ad4a"
      },
      "execution_count": 7,
      "outputs": [
        {
          "output_type": "execute_result",
          "data": {
            "text/plain": [
              "tensor([[1., 1., 1.],\n",
              "        [1., 1., 1.]])"
            ]
          },
          "metadata": {},
          "execution_count": 7
        }
      ]
    },
    {
      "cell_type": "code",
      "source": [
        "# torch.arange(start=0, end, step= 1)\n",
        "# make arithmetic sequence tensor\n",
        "x = torch.arange(0, 3, step=0.3)\n",
        "x"
      ],
      "metadata": {
        "id": "b0WFrlLDo8fh",
        "colab": {
          "base_uri": "https://localhost:8080/"
        },
        "outputId": "713e5590-1569-429f-e19d-8a72cbcbcf26"
      },
      "execution_count": 8,
      "outputs": [
        {
          "output_type": "execute_result",
          "data": {
            "text/plain": [
              "tensor([0.0000, 0.3000, 0.6000, 0.9000, 1.2000, 1.5000, 1.8000, 2.1000, 2.4000,\n",
              "        2.7000])"
            ]
          },
          "metadata": {},
          "execution_count": 8
        }
      ]
    },
    {
      "cell_type": "code",
      "source": [
        "# check size of tensor\n",
        "x.size()"
      ],
      "metadata": {
        "colab": {
          "base_uri": "https://localhost:8080/"
        },
        "id": "jqATZWEmpbEQ",
        "outputId": "8d1fa09c-235f-42f6-ef16-2d6ca7ef36c1"
      },
      "execution_count": 9,
      "outputs": [
        {
          "output_type": "execute_result",
          "data": {
            "text/plain": [
              "torch.Size([10])"
            ]
          },
          "metadata": {},
          "execution_count": 9
        }
      ]
    },
    {
      "cell_type": "code",
      "source": [
        "# torch.max(input, dim, keepdim=False, out=None) -> (Tensor, LongTensor)\n",
        "# find max of tensor\n",
        "x = torch.rand(2, 3)\n",
        "print(x)\n",
        "print()\n",
        "print('max is', torch.max(x))\n",
        "print()\n",
        "print('position of max value in 0 dim is\\n', torch.max(x, 0))\n",
        "print()\n",
        "print('position of max value in 1 dim is\\n', torch.max(x, 1))"
      ],
      "metadata": {
        "colab": {
          "base_uri": "https://localhost:8080/"
        },
        "id": "hApeERyFpnIy",
        "outputId": "ca9625ff-ad90-44fa-b773-376c7d33cc15"
      },
      "execution_count": 10,
      "outputs": [
        {
          "output_type": "stream",
          "name": "stdout",
          "text": [
            "tensor([[0.4356, 0.4372, 0.7418],\n",
            "        [0.2238, 0.4011, 0.6099]])\n",
            "\n",
            "max is tensor(0.7418)\n",
            "\n",
            "position of max value in 0 dim is\n",
            " torch.return_types.max(\n",
            "values=tensor([0.4356, 0.4372, 0.7418]),\n",
            "indices=tensor([0, 0, 0]))\n",
            "\n",
            "position of max value in 1 dim is\n",
            " torch.return_types.max(\n",
            "values=tensor([0.7418, 0.6099]),\n",
            "indices=tensor([2, 2]))\n"
          ]
        }
      ]
    },
    {
      "cell_type": "markdown",
      "source": [
        "### 3) Tensor Data Type"
      ],
      "metadata": {
        "id": "ZmoBHA00r1Iy"
      }
    },
    {
      "cell_type": "markdown",
      "source": [
        "| Data type               | dtype                                         | Tensor types                 |\n",
        "|:-------------------------|:-----------------------------------------------|:------------------------------|\n",
        "| 32-bit floating point   | ``` torch.float32 ``` or ``` torch.float ```  | ``` torch.*.FloatTensor ```  |\n",
        "| 64-bit floating point   | ``` torch.float64 ``` or ``` torch.double ``` | ``` torch.*.DoubleTensor ``` |\n",
        "| 16-bit floating point   | ``` torch.float16 ``` or ``` torch.half ```   | ``` torch.*.HalfTensor ```   |\n",
        "| 16-bit integer (signed) | ``` torch.int16 ``` or ``` torch.short ```    | ``` torch.*.ShortTensor ```  |\n",
        "| 32-bit integer (signed) | ``` torch.int32 ``` or ``` torch.int ```      | ``` torch.*.IntTensor ```    |\n",
        "| 64-bit integer (signed) | ``` torch.int64 ``` or ``` torch.long ```     | ``` torch.*.LongTensor ```   |"
      ],
      "metadata": {
        "id": "kkTVJsd0r7p5"
      }
    },
    {
      "cell_type": "code",
      "source": [
        "# torch.tensor(size or list, dtype=torch.floattensor)\n",
        "x = torch.tensor([5.4, 3])\n",
        "x"
      ],
      "metadata": {
        "colab": {
          "base_uri": "https://localhost:8080/"
        },
        "id": "HQn76tn03CwB",
        "outputId": "64cef2db-1125-4954-df3f-e1c5244959f5"
      },
      "execution_count": 11,
      "outputs": [
        {
          "output_type": "execute_result",
          "data": {
            "text/plain": [
              "tensor([5.4000, 3.0000])"
            ]
          },
          "metadata": {},
          "execution_count": 11
        }
      ]
    },
    {
      "cell_type": "code",
      "source": [
        "# torch.FloatTensor(size or list)\n",
        "x = torch.FloatTensor(2, 3)\n",
        "print(x)\n",
        "print()\n",
        "x = torch.FloatTensor([2, 3])\n",
        "print(x)"
      ],
      "metadata": {
        "colab": {
          "base_uri": "https://localhost:8080/"
        },
        "id": "XyaB9Ps-4jku",
        "outputId": "40247138-649a-4454-f6f9-3864385cf15d"
      },
      "execution_count": 12,
      "outputs": [
        {
          "output_type": "stream",
          "name": "stdout",
          "text": [
            "tensor([[2.1823e-01, 3.0722e-41, 3.7835e-44],\n",
            "        [0.0000e+00,        nan, 0.0000e+00]])\n",
            "\n",
            "tensor([2., 3.])\n"
          ]
        }
      ]
    },
    {
      "cell_type": "code",
      "source": [
        "x = torch.empty(2, 3, dtype=torch.float)\n",
        "y = torch.zeros(2, 3, dtype = torch.long)\n",
        "z = torch.arange(0, 3, step=0.5, dtype=torch.double)\n",
        "\n",
        "print(x)\n",
        "print(y)\n",
        "print(z)"
      ],
      "metadata": {
        "id": "T8sFgW4Hr3wE",
        "outputId": "dfe75942-6765-4917-cbd8-ed46572c465f",
        "colab": {
          "base_uri": "https://localhost:8080/"
        }
      },
      "execution_count": 13,
      "outputs": [
        {
          "output_type": "stream",
          "name": "stdout",
          "text": [
            "tensor([[2.1823e-01, 3.0722e-41, 3.7835e-44],\n",
            "        [0.0000e+00,        nan, 0.0000e+00]])\n",
            "tensor([[0, 0, 0],\n",
            "        [0, 0, 0]])\n",
            "tensor([0.0000, 0.5000, 1.0000, 1.5000, 2.0000, 2.5000], dtype=torch.float64)\n"
          ]
        }
      ]
    },
    {
      "cell_type": "code",
      "source": [
        "# tensor.type_as(tensor_type)\n",
        "x = torch.FloatTensor([2, 3])\n",
        "print(x)\n",
        "print(x)\n",
        "x = x.type_as(torch.IntTensor())\n",
        "print(x)"
      ],
      "metadata": {
        "colab": {
          "base_uri": "https://localhost:8080/"
        },
        "id": "6Iln9oDK3OLV",
        "outputId": "18154666-85f2-434f-bbf7-289beaa78bf8"
      },
      "execution_count": 14,
      "outputs": [
        {
          "output_type": "stream",
          "name": "stdout",
          "text": [
            "tensor([2., 3.])\n",
            "tensor([2., 3.])\n",
            "tensor([2, 3], dtype=torch.int32)\n"
          ]
        }
      ]
    },
    {
      "cell_type": "markdown",
      "source": [
        "### 4) Tensor Size"
      ],
      "metadata": {
        "id": "86FeHHu-Asaw"
      }
    },
    {
      "cell_type": "code",
      "source": [
        "#5,3 차원의 새로운 텐서를 생성합니다.\n",
        "x = x.new_ones(5,3, dtype=torch.double)\n",
        "print(x)\n",
        "print()\n",
        "# x와 같은 size에서 랜덤한 숫자로 채워진 텐서를 생성합니다\n",
        "y = torch.randn_like(x,dtype=torch.float)\n",
        "print(y)"
      ],
      "metadata": {
        "colab": {
          "base_uri": "https://localhost:8080/"
        },
        "id": "G74Od5NqAt9r",
        "outputId": "a5514c3a-664d-4697-a911-dab5a77ea162"
      },
      "execution_count": 15,
      "outputs": [
        {
          "output_type": "stream",
          "name": "stdout",
          "text": [
            "tensor([[1., 1., 1.],\n",
            "        [1., 1., 1.],\n",
            "        [1., 1., 1.],\n",
            "        [1., 1., 1.],\n",
            "        [1., 1., 1.]], dtype=torch.float64)\n",
            "\n",
            "tensor([[-1.3207,  0.2037, -0.4571],\n",
            "        [-0.8858, -1.0157, -0.0705],\n",
            "        [ 1.5296,  1.1297,  0.2432],\n",
            "        [ 0.3710,  1.0527,  2.0284],\n",
            "        [ 1.9539,  0.5699,  0.6649]])\n"
          ]
        }
      ]
    },
    {
      "cell_type": "markdown",
      "source": [
        "## 2. Math Operations"
      ],
      "metadata": {
        "id": "o5cOks-6BYXl"
      }
    },
    {
      "cell_type": "markdown",
      "source": [
        "### 1) add, mul, div"
      ],
      "metadata": {
        "id": "1ZWhzyXVBbYo"
      }
    },
    {
      "cell_type": "code",
      "source": [
        "# torch.add(input, other)\n",
        "\n",
        "x1 = torch.FloatTensor([[1, 2, 3], [4, 5, 6]])\n",
        "x2 = torch.FloatTensor([[0, 3, 6], [10, 20, 30]])\n",
        "\n",
        "add = torch.add(x1, x2)\n",
        "\n",
        "print(add)\n",
        "print(x1 + x2)"
      ],
      "metadata": {
        "colab": {
          "base_uri": "https://localhost:8080/"
        },
        "id": "Vilzy6ChBcP7",
        "outputId": "ea6be02b-244a-43c5-8cd6-5a39504893eb"
      },
      "execution_count": 16,
      "outputs": [
        {
          "output_type": "stream",
          "name": "stdout",
          "text": [
            "tensor([[ 1.,  5.,  9.],\n",
            "        [14., 25., 36.]])\n",
            "tensor([[ 1.,  5.,  9.],\n",
            "        [14., 25., 36.]])\n"
          ]
        }
      ]
    },
    {
      "cell_type": "code",
      "source": [
        "# 차원이 다르더라도 안쪽 차원만 같으면 연산이 가능합니다.\n",
        "x = torch.rand(1, 5, 3)\n",
        "y = torch.rand(5, 3)\n",
        "print(x)\n",
        "print()\n",
        "print(y)\n",
        "print()\n",
        "print(torch.add(x, y))"
      ],
      "metadata": {
        "colab": {
          "base_uri": "https://localhost:8080/"
        },
        "id": "_UjOtXumC-DJ",
        "outputId": "de200b56-1e00-4e12-a802-c30a4d01f359"
      },
      "execution_count": 17,
      "outputs": [
        {
          "output_type": "stream",
          "name": "stdout",
          "text": [
            "tensor([[[0.6853, 0.8599, 0.7059],\n",
            "         [0.9432, 0.9434, 0.9197],\n",
            "         [0.6869, 0.7558, 0.6794],\n",
            "         [0.1522, 0.1239, 0.6906],\n",
            "         [0.2626, 0.6868, 0.2044]]])\n",
            "\n",
            "tensor([[0.6721, 0.7710, 0.1007],\n",
            "        [0.9399, 0.1696, 0.4442],\n",
            "        [0.7750, 0.4620, 0.9187],\n",
            "        [0.8260, 0.1979, 0.7134],\n",
            "        [0.6356, 0.8564, 0.8192]])\n",
            "\n",
            "tensor([[[1.3573, 1.6309, 0.8066],\n",
            "         [1.8830, 1.1129, 1.3639],\n",
            "         [1.4619, 1.2178, 1.5982],\n",
            "         [0.9782, 0.3217, 1.4040],\n",
            "         [0.8982, 1.5432, 1.0235]]])\n"
          ]
        }
      ]
    },
    {
      "cell_type": "code",
      "source": [
        "# torch.add 말고 add_의 경우에는 이러한 연산 기능이 지원되지 않습니다. 따라서 먼저 x를 같은 차원으로 바꿔줍니다.\n",
        "print(y.add_(x))"
      ],
      "metadata": {
        "colab": {
          "base_uri": "https://localhost:8080/",
          "height": 193
        },
        "id": "WHZYbCKDEPbt",
        "outputId": "b1154b4e-fbf5-4ac1-8088-ac836b7bb917"
      },
      "execution_count": 18,
      "outputs": [
        {
          "output_type": "error",
          "ename": "RuntimeError",
          "evalue": "ignored",
          "traceback": [
            "\u001b[0;31m---------------------------------------------------------------------------\u001b[0m",
            "\u001b[0;31mRuntimeError\u001b[0m                              Traceback (most recent call last)",
            "\u001b[0;32m<ipython-input-18-96a07aa34d56>\u001b[0m in \u001b[0;36m<module>\u001b[0;34m()\u001b[0m\n\u001b[1;32m      1\u001b[0m \u001b[0;31m# torch.add 말고 add_의 경우에는 이러한 연산 기능이 지원되지 않습니다. 따라서 먼저 x를 같은 차원으로 바꿔줍니다.\u001b[0m\u001b[0;34m\u001b[0m\u001b[0;34m\u001b[0m\u001b[0;34m\u001b[0m\u001b[0m\n\u001b[0;32m----> 2\u001b[0;31m \u001b[0mprint\u001b[0m\u001b[0;34m(\u001b[0m\u001b[0my\u001b[0m\u001b[0;34m.\u001b[0m\u001b[0madd_\u001b[0m\u001b[0;34m(\u001b[0m\u001b[0mx\u001b[0m\u001b[0;34m)\u001b[0m\u001b[0;34m)\u001b[0m\u001b[0;34m\u001b[0m\u001b[0;34m\u001b[0m\u001b[0m\n\u001b[0m",
            "\u001b[0;31mRuntimeError\u001b[0m: output with shape [5, 3] doesn't match the broadcast shape [1, 5, 3]"
          ]
        }
      ]
    },
    {
      "cell_type": "code",
      "source": [
        "x = torch.rand(5,3)\n",
        "y.add_(x)\n",
        "print(y)"
      ],
      "metadata": {
        "colab": {
          "base_uri": "https://localhost:8080/"
        },
        "id": "D56sFRd7Eu2z",
        "outputId": "afe88673-c078-414b-ba3b-c7b93d288fe7"
      },
      "execution_count": 19,
      "outputs": [
        {
          "output_type": "stream",
          "name": "stdout",
          "text": [
            "tensor([[1.1117, 1.7169, 0.3773],\n",
            "        [0.9585, 1.0737, 0.6946],\n",
            "        [1.2316, 0.6550, 1.4193],\n",
            "        [1.6979, 0.6967, 1.1381],\n",
            "        [1.0826, 1.4433, 1.1854]])\n"
          ]
        }
      ]
    },
    {
      "cell_type": "code",
      "source": [
        "# x 텐서의 2열을 불러옵니다. numpy 연산이 지원됩니다.\n",
        "\n",
        "print(x)\n",
        "print(x.shape)\n",
        "print(x[:,1])\n",
        "print(x[:,1].shape)"
      ],
      "metadata": {
        "colab": {
          "base_uri": "https://localhost:8080/"
        },
        "id": "H_uW7KChFRD6",
        "outputId": "2aa44870-7dc2-4699-fc90-ddc496b1b82f"
      },
      "execution_count": 20,
      "outputs": [
        {
          "output_type": "stream",
          "name": "stdout",
          "text": [
            "tensor([[0.4396, 0.9459, 0.2766],\n",
            "        [0.0187, 0.9041, 0.2504],\n",
            "        [0.4566, 0.1930, 0.5006],\n",
            "        [0.8719, 0.4989, 0.4246],\n",
            "        [0.4470, 0.5870, 0.3662]])\n",
            "torch.Size([5, 3])\n",
            "tensor([0.9459, 0.9041, 0.1930, 0.4989, 0.5870])\n",
            "torch.Size([5])\n"
          ]
        }
      ]
    },
    {
      "cell_type": "code",
      "source": [
        "# torch.mul(input, other)\n",
        "x1 = torch.FloatTensor([[1, 2, 3], [4, 5, 6]])\n",
        "x2 = torch.FloatTensor([[1, 2, 3], [4, 5, 6]])\n",
        "\n",
        "print(torch.mul(x1, x2))"
      ],
      "metadata": {
        "colab": {
          "base_uri": "https://localhost:8080/"
        },
        "id": "cydc7RZZN-cr",
        "outputId": "86934169-308f-480e-bb22-b2432b1b2aef"
      },
      "execution_count": 21,
      "outputs": [
        {
          "output_type": "stream",
          "name": "stdout",
          "text": [
            "tensor([[ 1.,  4.,  9.],\n",
            "        [16., 25., 36.]])\n"
          ]
        }
      ]
    },
    {
      "cell_type": "code",
      "source": [
        "print(torch.mul(x1, 10))"
      ],
      "metadata": {
        "colab": {
          "base_uri": "https://localhost:8080/"
        },
        "id": "iJLgH1M2OQom",
        "outputId": "e020a843-5633-464d-d723-5bc7dccac62e"
      },
      "execution_count": 22,
      "outputs": [
        {
          "output_type": "stream",
          "name": "stdout",
          "text": [
            "tensor([[10., 20., 30.],\n",
            "        [40., 50., 60.]])\n"
          ]
        }
      ]
    },
    {
      "cell_type": "code",
      "source": [
        "# torch.div(input, other)\n",
        "print(torch.div(x1, x2))"
      ],
      "metadata": {
        "colab": {
          "base_uri": "https://localhost:8080/"
        },
        "id": "Fdj2-GYMOUn8",
        "outputId": "ec2c994c-23f0-496b-d4fa-7621d94fadcf"
      },
      "execution_count": 23,
      "outputs": [
        {
          "output_type": "stream",
          "name": "stdout",
          "text": [
            "tensor([[1., 1., 1.],\n",
            "        [1., 1., 1.]])\n"
          ]
        }
      ]
    },
    {
      "cell_type": "code",
      "source": [
        "print(torch.div(x1, 5))"
      ],
      "metadata": {
        "colab": {
          "base_uri": "https://localhost:8080/"
        },
        "id": "6hpTruGyOcoS",
        "outputId": "50c45eab-0cd3-4d9d-9f4a-71a7a10e1525"
      },
      "execution_count": 24,
      "outputs": [
        {
          "output_type": "stream",
          "name": "stdout",
          "text": [
            "tensor([[0.2000, 0.4000, 0.6000],\n",
            "        [0.8000, 1.0000, 1.2000]])\n"
          ]
        }
      ]
    },
    {
      "cell_type": "markdown",
      "source": [
        "### 2) pow, exp, log"
      ],
      "metadata": {
        "id": "tvYYeuvoP_c2"
      }
    },
    {
      "cell_type": "code",
      "source": [
        "# torch.pow(input, exponent)\n",
        "x = torch.rand(3, 4)\n",
        "\n",
        "print(x)\n",
        "print()\n",
        "print(torch.pow(x, 3))"
      ],
      "metadata": {
        "colab": {
          "base_uri": "https://localhost:8080/"
        },
        "id": "gs70itnEOhUg",
        "outputId": "73ffda67-44cd-4bf2-b20a-2c35576265b2"
      },
      "execution_count": 25,
      "outputs": [
        {
          "output_type": "stream",
          "name": "stdout",
          "text": [
            "tensor([[0.3952, 0.8534, 0.7093, 0.7955],\n",
            "        [0.7825, 0.3196, 0.0910, 0.4737],\n",
            "        [0.4315, 0.0304, 0.7692, 0.7370]])\n",
            "\n",
            "tensor([[6.1737e-02, 6.2160e-01, 3.5682e-01, 5.0338e-01],\n",
            "        [4.7911e-01, 3.2638e-02, 7.5436e-04, 1.0628e-01],\n",
            "        [8.0362e-02, 2.7970e-05, 4.5517e-01, 4.0038e-01]])\n"
          ]
        }
      ]
    },
    {
      "cell_type": "code",
      "source": [
        "# torch.exp(input, out=None)\n",
        "x = torch.rand(3, 4)\n",
        "\n",
        "print(x)\n",
        "print()\n",
        "print(torch.exp(x))"
      ],
      "metadata": {
        "colab": {
          "base_uri": "https://localhost:8080/"
        },
        "id": "2_3OwVnfRB-z",
        "outputId": "a738f306-ad05-45c4-94d4-1ad80e4420c2"
      },
      "execution_count": 26,
      "outputs": [
        {
          "output_type": "stream",
          "name": "stdout",
          "text": [
            "tensor([[0.7862, 0.0964, 0.0584, 0.5243],\n",
            "        [0.1039, 0.0034, 0.9350, 0.4851],\n",
            "        [0.2066, 0.9026, 0.4371, 0.6185]])\n",
            "\n",
            "tensor([[2.1951, 1.1012, 1.0602, 1.6893],\n",
            "        [1.1095, 1.0034, 2.5471, 1.6243],\n",
            "        [1.2295, 2.4661, 1.5482, 1.8562]])\n"
          ]
        }
      ]
    },
    {
      "cell_type": "code",
      "source": [
        "# torch.log(input, out)\n",
        "# ln\n",
        "x = torch.rand(3, 4)\n",
        "\n",
        "print(x)\n",
        "print()\n",
        "print(torch.log(x))"
      ],
      "metadata": {
        "colab": {
          "base_uri": "https://localhost:8080/"
        },
        "id": "x2YmoiVsRu90",
        "outputId": "095b65da-7ec1-4e8d-addb-6eec48061120"
      },
      "execution_count": 27,
      "outputs": [
        {
          "output_type": "stream",
          "name": "stdout",
          "text": [
            "tensor([[0.4831, 0.4223, 0.2509, 0.6203],\n",
            "        [0.5448, 0.1375, 0.8465, 0.0101],\n",
            "        [0.3418, 0.3863, 0.1622, 0.7418]])\n",
            "\n",
            "tensor([[-0.7276, -0.8620, -1.3825, -0.4775],\n",
            "        [-0.6073, -1.9843, -0.1667, -4.5910],\n",
            "        [-1.0736, -0.9510, -1.8188, -0.2987]])\n"
          ]
        }
      ]
    },
    {
      "cell_type": "code",
      "source": [
        "# torch.mm(input, mat2)\n",
        "# matrix multiplication\n",
        "x1 = torch.rand(3, 4)\n",
        "x2 = torch.rand(4, 5)\n",
        "\n",
        "print(x1)\n",
        "print(x2)\n",
        "print()\n",
        "print(torch.mm(x1, x2))"
      ],
      "metadata": {
        "colab": {
          "base_uri": "https://localhost:8080/"
        },
        "id": "lllZxNXzSV7I",
        "outputId": "acd59317-4e75-4527-b6bd-235891bbde94"
      },
      "execution_count": 28,
      "outputs": [
        {
          "output_type": "stream",
          "name": "stdout",
          "text": [
            "tensor([[0.7067, 0.3864, 0.5334, 0.3829],\n",
            "        [0.8394, 0.8952, 0.5240, 0.2926],\n",
            "        [0.0032, 0.4960, 0.9991, 0.0528]])\n",
            "tensor([[0.3597, 0.6862, 0.7440, 0.7204, 0.6992],\n",
            "        [0.7917, 0.3698, 0.5707, 0.2274, 0.8478],\n",
            "        [0.5404, 0.6442, 0.9370, 0.9779, 0.4107],\n",
            "        [0.3775, 0.2816, 0.0464, 0.6320, 0.2114]])\n",
            "\n",
            "tensor([[0.9929, 1.0793, 1.2639, 1.3605, 1.1217],\n",
            "        [1.4042, 1.3270, 1.6400, 1.5056, 1.6229],\n",
            "        [0.9537, 0.8441, 1.2241, 1.1255, 0.8443]])\n"
          ]
        }
      ]
    },
    {
      "cell_type": "code",
      "source": [
        "# torch.bmm(input, mat2)\n",
        "# batch matrix - matirx product\n",
        "\n",
        "x1 = torch.rand(10, 3, 4)\n",
        "x2 = torch.rand(10, 4, 5)\n",
        "\n",
        "torch.bmm(x1, x2).size()"
      ],
      "metadata": {
        "colab": {
          "base_uri": "https://localhost:8080/"
        },
        "id": "kDTsSScWSuzt",
        "outputId": "ceb4a380-82ec-482c-b934-60d4b39602d8"
      },
      "execution_count": 29,
      "outputs": [
        {
          "output_type": "execute_result",
          "data": {
            "text/plain": [
              "torch.Size([10, 3, 5])"
            ]
          },
          "metadata": {},
          "execution_count": 29
        }
      ]
    },
    {
      "cell_type": "code",
      "source": [
        "# torch.dot(input, other)\n",
        "# dot product\n",
        "torch.dot(torch.tensor([2, 3]), torch.tensor([3, 4]))"
      ],
      "metadata": {
        "colab": {
          "base_uri": "https://localhost:8080/"
        },
        "id": "WZUehyX9TZi0",
        "outputId": "b56106b0-18ac-42e6-93f9-91125ee7ba2f"
      },
      "execution_count": 30,
      "outputs": [
        {
          "output_type": "execute_result",
          "data": {
            "text/plain": [
              "tensor(18)"
            ]
          },
          "metadata": {},
          "execution_count": 30
        }
      ]
    },
    {
      "cell_type": "code",
      "source": [
        "# torch.t(input)\n",
        "# transpose\n",
        "x = torch.rand(3, 4)\n",
        "print(x.size(), x.t().size())"
      ],
      "metadata": {
        "colab": {
          "base_uri": "https://localhost:8080/"
        },
        "id": "RaXX1SneTl78",
        "outputId": "e19f9be2-328f-422c-a7f2-3bbab9bc6b96"
      },
      "execution_count": 31,
      "outputs": [
        {
          "output_type": "stream",
          "name": "stdout",
          "text": [
            "torch.Size([3, 4]) torch.Size([4, 3])\n"
          ]
        }
      ]
    },
    {
      "cell_type": "code",
      "source": [
        "# torch.transpose(input, dim0, dim1)\n",
        "x = torch.rand(3, 2, 4)\n",
        "print(x)\n",
        "print()\n",
        "print(torch.transpose(x, 1, 2))\n",
        "print()\n",
        "print(x.transpose(1,2))"
      ],
      "metadata": {
        "colab": {
          "base_uri": "https://localhost:8080/"
        },
        "id": "aEfCZHFstBVb",
        "outputId": "0cd38547-acf4-4cad-d6a9-175d28221522"
      },
      "execution_count": 32,
      "outputs": [
        {
          "output_type": "stream",
          "name": "stdout",
          "text": [
            "tensor([[[0.3357, 0.6025, 0.9860, 0.9729],\n",
            "         [0.7820, 0.1930, 0.2071, 0.1485]],\n",
            "\n",
            "        [[0.9765, 0.2750, 0.7225, 0.5592],\n",
            "         [0.4651, 0.0800, 0.9279, 0.6707]],\n",
            "\n",
            "        [[0.1343, 0.6826, 0.7093, 0.2829],\n",
            "         [0.9960, 0.6354, 0.5812, 0.4405]]])\n",
            "\n",
            "tensor([[[0.3357, 0.7820],\n",
            "         [0.6025, 0.1930],\n",
            "         [0.9860, 0.2071],\n",
            "         [0.9729, 0.1485]],\n",
            "\n",
            "        [[0.9765, 0.4651],\n",
            "         [0.2750, 0.0800],\n",
            "         [0.7225, 0.9279],\n",
            "         [0.5592, 0.6707]],\n",
            "\n",
            "        [[0.1343, 0.9960],\n",
            "         [0.6826, 0.6354],\n",
            "         [0.7093, 0.5812],\n",
            "         [0.2829, 0.4405]]])\n",
            "\n",
            "tensor([[[0.3357, 0.7820],\n",
            "         [0.6025, 0.1930],\n",
            "         [0.9860, 0.2071],\n",
            "         [0.9729, 0.1485]],\n",
            "\n",
            "        [[0.9765, 0.4651],\n",
            "         [0.2750, 0.0800],\n",
            "         [0.7225, 0.9279],\n",
            "         [0.5592, 0.6707]],\n",
            "\n",
            "        [[0.1343, 0.9960],\n",
            "         [0.6826, 0.6354],\n",
            "         [0.7093, 0.5812],\n",
            "         [0.2829, 0.4405]]])\n"
          ]
        }
      ]
    },
    {
      "cell_type": "code",
      "source": [
        "# torch.eig(a, eigenvectors=False)\n",
        "# eigen value, eigen vector\n",
        "x = torch.rand(2, 2)\n",
        "print(x)\n",
        "print()\n",
        "print(torch.eig(x, True))"
      ],
      "metadata": {
        "colab": {
          "base_uri": "https://localhost:8080/"
        },
        "id": "KuQWA7mHtVkL",
        "outputId": "c13c800d-e1d2-40ce-89d6-5cebcdbcebce"
      },
      "execution_count": 33,
      "outputs": [
        {
          "output_type": "stream",
          "name": "stdout",
          "text": [
            "tensor([[0.5583, 0.8665],\n",
            "        [0.4806, 0.9913]])\n",
            "\n",
            "torch.return_types.eig(\n",
            "eigenvalues=tensor([[0.0941, 0.0000],\n",
            "        [1.4555, 0.0000]]),\n",
            "eigenvectors=tensor([[-0.8815, -0.6947],\n",
            "        [ 0.4722, -0.7193]]))\n"
          ]
        },
        {
          "output_type": "stream",
          "name": "stderr",
          "text": [
            "/usr/local/lib/python3.7/dist-packages/ipykernel_launcher.py:6: UserWarning: torch.eig is deprecated in favor of torch.linalg.eig and will be removed in a future PyTorch release.\n",
            "torch.linalg.eig returns complex tensors of dtype cfloat or cdouble rather than real tensors mimicking complex tensors.\n",
            "L, _ = torch.eig(A)\n",
            "should be replaced with\n",
            "L_complex = torch.linalg.eigvals(A)\n",
            "and\n",
            "L, V = torch.eig(A, eigenvectors=True)\n",
            "should be replaced with\n",
            "L_complex, V_complex = torch.linalg.eig(A) (Triggered internally at  ../aten/src/ATen/native/BatchLinearAlgebra.cpp:2894.)\n",
            "  \n"
          ]
        }
      ]
    },
    {
      "cell_type": "markdown",
      "source": [
        "## 3. Tensor to Numpy, Numpy to Tensor"
      ],
      "metadata": {
        "id": "uAuoONwsvfus"
      }
    },
    {
      "cell_type": "code",
      "source": [
        "import numpy as np"
      ],
      "metadata": {
        "id": "pBG-RewkuAH7"
      },
      "execution_count": 34,
      "outputs": []
    },
    {
      "cell_type": "code",
      "source": [
        "a = torch.ones(5)"
      ],
      "metadata": {
        "id": "ZdC9r_Frx5Gj"
      },
      "execution_count": 35,
      "outputs": []
    },
    {
      "cell_type": "code",
      "source": [
        "# tensor.numpy()\n",
        "b = a.numpy()\n",
        "print(b)"
      ],
      "metadata": {
        "colab": {
          "base_uri": "https://localhost:8080/"
        },
        "id": "OtYw67fIx7zd",
        "outputId": "36e6393d-8cb5-42a5-fad3-b3126f2c6fe5"
      },
      "execution_count": 36,
      "outputs": [
        {
          "output_type": "stream",
          "name": "stdout",
          "text": [
            "[1. 1. 1. 1. 1.]\n"
          ]
        }
      ]
    },
    {
      "cell_type": "code",
      "source": [
        "# torch.from_numpy(ndarray)\n",
        "a = np.ones(5)\n",
        "b = torch.from_numpy(a)\n",
        "\n",
        "print(a)\n",
        "print(b)"
      ],
      "metadata": {
        "colab": {
          "base_uri": "https://localhost:8080/"
        },
        "id": "CzAeIztPyCE6",
        "outputId": "14b0985f-083c-46d7-9077-5a6fe77e293f"
      },
      "execution_count": 37,
      "outputs": [
        {
          "output_type": "stream",
          "name": "stdout",
          "text": [
            "[1. 1. 1. 1. 1.]\n",
            "tensor([1., 1., 1., 1., 1.], dtype=torch.float64)\n"
          ]
        }
      ]
    },
    {
      "cell_type": "code",
      "source": [
        "np.add(a, 1, out=a)\n",
        "\n",
        "print(a)\n",
        "print(b)"
      ],
      "metadata": {
        "colab": {
          "base_uri": "https://localhost:8080/"
        },
        "id": "xkMIuCICyFtS",
        "outputId": "863c8ed4-4f6f-4f3d-c05e-925bed0799c2"
      },
      "execution_count": 38,
      "outputs": [
        {
          "output_type": "stream",
          "name": "stdout",
          "text": [
            "[2. 2. 2. 2. 2.]\n",
            "tensor([2., 2., 2., 2., 2.], dtype=torch.float64)\n"
          ]
        }
      ]
    },
    {
      "cell_type": "markdown",
      "source": [
        "## 4. Tensor to Numpy, Numpy to Tensor"
      ],
      "metadata": {
        "id": "l-baGerUyfqb"
      }
    },
    {
      "cell_type": "code",
      "source": [
        "x= torch.FloatTensor([[1,2,3],[4,5,6]])\n",
        "\n",
        "if torch.cuda.is_available():\n",
        "    x_cuda = x.cuda()\n",
        "    print(\"sap able\")\n",
        "else:\n",
        "    x_cuda = x.cpu()\n",
        "    print(\"bul able\")\n",
        "    \n",
        "print(x_cuda)"
      ],
      "metadata": {
        "colab": {
          "base_uri": "https://localhost:8080/"
        },
        "id": "cTKxxjOTyUD1",
        "outputId": "4e0c62d1-9009-4809-8fa2-416d08037edd"
      },
      "execution_count": 39,
      "outputs": [
        {
          "output_type": "stream",
          "name": "stdout",
          "text": [
            "sap able\n",
            "tensor([[1., 2., 3.],\n",
            "        [4., 5., 6.]], device='cuda:0')\n"
          ]
        }
      ]
    },
    {
      "cell_type": "code",
      "source": [
        "if torch.cuda.is_available():\n",
        "    device = torch.device(\"cuda\")\n",
        "    \n",
        "    y = torch.ones_like(x,device=device)\n",
        "    x = x.to(device)\n",
        "    z = x+y\n",
        "    print(z)\n",
        "    print(z.to(\"cpu\")) #.to 기능을 tensor를 GPU로 연산할 수 있습니다\n",
        "    print(z.to(\"cuda\"))"
      ],
      "metadata": {
        "id": "H5HEA0hryicv",
        "colab": {
          "base_uri": "https://localhost:8080/"
        },
        "outputId": "2a37a6a2-ea1a-4f60-8c64-3dc0df786453"
      },
      "execution_count": 40,
      "outputs": [
        {
          "output_type": "stream",
          "name": "stdout",
          "text": [
            "tensor([[2., 3., 4.],\n",
            "        [5., 6., 7.]], device='cuda:0')\n",
            "tensor([[2., 3., 4.],\n",
            "        [5., 6., 7.]])\n",
            "tensor([[2., 3., 4.],\n",
            "        [5., 6., 7.]], device='cuda:0')\n"
          ]
        }
      ]
    },
    {
      "cell_type": "markdown",
      "source": [
        "## 5. Indexing, Slicing, Joining"
      ],
      "metadata": {
        "id": "QpaLgAMqynz-"
      }
    },
    {
      "cell_type": "markdown",
      "source": [
        "### 1) Indexing"
      ],
      "metadata": {
        "id": "wUTYkd_4ypTP"
      }
    },
    {
      "cell_type": "code",
      "source": [
        "# tensor.index_select(input, dim, index)\n",
        "# index must be Longtensor\n",
        "x = torch.rand(4, 3)\n",
        "y = torch.index_select(x, 0, torch.LongTensor([0, 3]))\n",
        "\n",
        "print(x)\n",
        "print()\n",
        "print(y)"
      ],
      "metadata": {
        "colab": {
          "base_uri": "https://localhost:8080/"
        },
        "id": "iqhgdv8K3diN",
        "outputId": "029afd95-1f67-4456-bd48-b66a9dd90110"
      },
      "execution_count": 41,
      "outputs": [
        {
          "output_type": "stream",
          "name": "stdout",
          "text": [
            "tensor([[0.1657, 0.1739, 0.8958],\n",
            "        [0.8609, 0.5698, 0.4341],\n",
            "        [0.6706, 0.3232, 0.4731],\n",
            "        [0.9792, 0.0852, 0.1092]])\n",
            "\n",
            "tensor([[0.1657, 0.1739, 0.8958],\n",
            "        [0.9792, 0.0852, 0.1092]])\n"
          ]
        }
      ]
    },
    {
      "cell_type": "code",
      "source": [
        "print(x[:, 0])\n",
        "print()\n",
        "print(x[0, :])\n",
        "print()\n",
        "print(x[0:2, 0:2])"
      ],
      "metadata": {
        "colab": {
          "base_uri": "https://localhost:8080/"
        },
        "id": "UAYscH253yB9",
        "outputId": "14ab723d-9696-4f4d-b080-6b23d6de64dc"
      },
      "execution_count": 42,
      "outputs": [
        {
          "output_type": "stream",
          "name": "stdout",
          "text": [
            "tensor([0.1657, 0.8609, 0.6706, 0.9792])\n",
            "\n",
            "tensor([0.1657, 0.1739, 0.8958])\n",
            "\n",
            "tensor([[0.1657, 0.1739],\n",
            "        [0.8609, 0.5698]])\n"
          ]
        }
      ]
    },
    {
      "cell_type": "markdown",
      "source": [
        "### 2) Joining"
      ],
      "metadata": {
        "id": "p4uacQmN4V_W"
      }
    },
    {
      "cell_type": "code",
      "source": [
        "# torch.cat(tensors, dim)\n",
        "x = torch.FloatTensor([[1, 2, 3],\n",
        "                       [4, 5, 6]])\n",
        "y = torch.FloatTensor([[7, 8, 9],\n",
        "                       [10, 11, 12]])\n",
        "\n",
        "print(torch.cat([x, y], dim=0))\n",
        "print(torch.cat([x, y], dim=1))"
      ],
      "metadata": {
        "colab": {
          "base_uri": "https://localhost:8080/"
        },
        "id": "zDDN5TT94SLE",
        "outputId": "fe926661-877f-401d-a799-076f3bed0d1d"
      },
      "execution_count": 43,
      "outputs": [
        {
          "output_type": "stream",
          "name": "stdout",
          "text": [
            "tensor([[ 1.,  2.,  3.],\n",
            "        [ 4.,  5.,  6.],\n",
            "        [ 7.,  8.,  9.],\n",
            "        [10., 11., 12.]])\n",
            "tensor([[ 1.,  2.,  3.,  7.,  8.,  9.],\n",
            "        [ 4.,  5.,  6., 10., 11., 12.]])\n"
          ]
        }
      ]
    },
    {
      "cell_type": "code",
      "source": [
        "# torch.stack(tensors, dim=0)\n",
        "print(torch.stack([x, y], dim=0))\n",
        "print()\n",
        "print(torch.stack([x, y], dim=1))\n",
        "print()\n",
        "print(torch.stack([x, y], dim=2))"
      ],
      "metadata": {
        "colab": {
          "base_uri": "https://localhost:8080/"
        },
        "id": "mbOGG85g4trV",
        "outputId": "c515a7c2-e46d-4412-afa4-615e98a7d58b"
      },
      "execution_count": 44,
      "outputs": [
        {
          "output_type": "stream",
          "name": "stdout",
          "text": [
            "tensor([[[ 1.,  2.,  3.],\n",
            "         [ 4.,  5.,  6.]],\n",
            "\n",
            "        [[ 7.,  8.,  9.],\n",
            "         [10., 11., 12.]]])\n",
            "\n",
            "tensor([[[ 1.,  2.,  3.],\n",
            "         [ 7.,  8.,  9.]],\n",
            "\n",
            "        [[ 4.,  5.,  6.],\n",
            "         [10., 11., 12.]]])\n",
            "\n",
            "tensor([[[ 1.,  7.],\n",
            "         [ 2.,  8.],\n",
            "         [ 3.,  9.]],\n",
            "\n",
            "        [[ 4., 10.],\n",
            "         [ 5., 11.],\n",
            "         [ 6., 12.]]])\n"
          ]
        }
      ]
    },
    {
      "cell_type": "markdown",
      "source": [
        "### 3) Slicing"
      ],
      "metadata": {
        "id": "TtXYYbI08StG"
      }
    },
    {
      "cell_type": "code",
      "source": [
        "# torch.chunk(tensor, chunks, dim=0)\n",
        "# tensor를 chunk 단위로 쪼갭니다. chunk 개수 만큼 생성합니다.\n",
        "\n",
        "x = torch.FloatTensor([[1,2,3],\n",
        "                       [4,5,6]])\n",
        "y = torch.FloatTensor([[7,8,9],\n",
        "                       [10,11,12]])\n",
        "z1 = torch.cat([x,y],dim = 0)\n",
        "\n",
        "x_1, x_2 = torch.chunk(z1,2,dim=0)\n",
        "y_1, y_2, y_3 = torch.chunk(z1,3,dim=1)\n",
        "\n",
        "print(z1)\n",
        "print(x_1)\n",
        "print(x_2)\n",
        "print(y_1)\n",
        "print(y_2)\n",
        "print(y_3)"
      ],
      "metadata": {
        "colab": {
          "base_uri": "https://localhost:8080/"
        },
        "id": "c84un1Sp5QNV",
        "outputId": "831438b8-0f10-4452-908f-01ca59e4d9d8"
      },
      "execution_count": 45,
      "outputs": [
        {
          "output_type": "stream",
          "name": "stdout",
          "text": [
            "tensor([[ 1.,  2.,  3.],\n",
            "        [ 4.,  5.,  6.],\n",
            "        [ 7.,  8.,  9.],\n",
            "        [10., 11., 12.]])\n",
            "tensor([[1., 2., 3.],\n",
            "        [4., 5., 6.]])\n",
            "tensor([[ 7.,  8.,  9.],\n",
            "        [10., 11., 12.]])\n",
            "tensor([[ 1.],\n",
            "        [ 4.],\n",
            "        [ 7.],\n",
            "        [10.]])\n",
            "tensor([[ 2.],\n",
            "        [ 5.],\n",
            "        [ 8.],\n",
            "        [11.]])\n",
            "tensor([[ 3.],\n",
            "        [ 6.],\n",
            "        [ 9.],\n",
            "        [12.]])\n"
          ]
        }
      ]
    },
    {
      "cell_type": "code",
      "source": [
        "# torch.split(tensor,split_size,dim=0) 각 size가 split_size만큼인 것을 생성합니다.\n",
        "x = torch.FloatTensor([[1,2,3],\n",
        "                       [4,5,6]])\n",
        "y = torch.FloatTensor([[7,8,9],\n",
        "                       [10,11,12]])\n",
        "z1 = torch.cat([x,y],dim = 0)\n",
        "\n",
        "x1,x2 = torch.split(z1,2,dim=0)\n",
        "y1,y2 = torch.split(z1,2,dim=1)\n",
        "\n",
        "print(z1)\n",
        "print(x1)\n",
        "print(x2)\n",
        "print(y1)\n",
        "print(y2)"
      ],
      "metadata": {
        "colab": {
          "base_uri": "https://localhost:8080/"
        },
        "id": "d_Vhaj5j8jWJ",
        "outputId": "a80f06db-5e67-44e8-d337-6040a1b9ece5"
      },
      "execution_count": 46,
      "outputs": [
        {
          "output_type": "stream",
          "name": "stdout",
          "text": [
            "tensor([[ 1.,  2.,  3.],\n",
            "        [ 4.,  5.,  6.],\n",
            "        [ 7.,  8.,  9.],\n",
            "        [10., 11., 12.]])\n",
            "tensor([[1., 2., 3.],\n",
            "        [4., 5., 6.]])\n",
            "tensor([[ 7.,  8.,  9.],\n",
            "        [10., 11., 12.]])\n",
            "tensor([[ 1.,  2.],\n",
            "        [ 4.,  5.],\n",
            "        [ 7.,  8.],\n",
            "        [10., 11.]])\n",
            "tensor([[ 3.],\n",
            "        [ 6.],\n",
            "        [ 9.],\n",
            "        [12.]])\n"
          ]
        }
      ]
    },
    {
      "cell_type": "markdown",
      "source": [
        "### 4) squeezing"
      ],
      "metadata": {
        "id": "fWQb1hbk8l0s"
      }
    },
    {
      "cell_type": "code",
      "source": [
        "# torch.squeeze(input, dim=None)\n",
        "# 1짜리 차원을 줄입니다.\n",
        "x1 = torch.FloatTensor(10,1,3,1,4)\n",
        "x2 = torch.squeeze(x1)\n",
        "\n",
        "x1.size(), x2.size()"
      ],
      "metadata": {
        "colab": {
          "base_uri": "https://localhost:8080/"
        },
        "id": "58deH7wK8mqm",
        "outputId": "7070860f-a9b8-422b-85de-fb5e1dfe2a20"
      },
      "execution_count": 47,
      "outputs": [
        {
          "output_type": "execute_result",
          "data": {
            "text/plain": [
              "(torch.Size([10, 1, 3, 1, 4]), torch.Size([10, 3, 4]))"
            ]
          },
          "metadata": {},
          "execution_count": 47
        }
      ]
    },
    {
      "cell_type": "code",
      "source": [
        "# torch.unsqueeze(input,dim=None)\n",
        "# 1짜리 차원을 더합니다.\n",
        "x1 = torch.FloatTensor(10,3,4)\n",
        "x2 = torch.unsqueeze(x1,dim=0)\n",
        "\n",
        "x.size(), x2.size()"
      ],
      "metadata": {
        "colab": {
          "base_uri": "https://localhost:8080/"
        },
        "id": "bXyfL4Iq8qk3",
        "outputId": "40df29a2-6ac3-48c6-d95b-d9a70b740f82"
      },
      "execution_count": 48,
      "outputs": [
        {
          "output_type": "execute_result",
          "data": {
            "text/plain": [
              "(torch.Size([2, 3]), torch.Size([1, 10, 3, 4]))"
            ]
          },
          "metadata": {},
          "execution_count": 48
        }
      ]
    },
    {
      "cell_type": "markdown",
      "source": [
        "## 6. Initialization"
      ],
      "metadata": {
        "id": "iEkHZjrs8wjE"
      }
    },
    {
      "cell_type": "code",
      "source": [
        "import torch.nn.init as init\n",
        "\n",
        "\n",
        "x1 = init.uniform_(torch.FloatTensor(3,4),a=0,b=9) \n",
        "x2 = init.normal_(torch.FloatTensor(3,4),std=0.2)\n",
        "x3 = init.constant_(torch.FloatTensor(3,4),3.1415)\n",
        "\n",
        "x1, x2, x3"
      ],
      "metadata": {
        "colab": {
          "base_uri": "https://localhost:8080/"
        },
        "id": "-RWbm7gM82MW",
        "outputId": "506132ba-1efc-415b-b7eb-400a3f718810"
      },
      "execution_count": 49,
      "outputs": [
        {
          "output_type": "execute_result",
          "data": {
            "text/plain": [
              "(tensor([[7.4343, 2.5757, 2.9748, 6.1057],\n",
              "         [7.0012, 8.4568, 3.8159, 1.2852],\n",
              "         [2.5544, 8.8383, 0.8613, 1.8796]]),\n",
              " tensor([[ 0.0875, -0.1597,  0.0812,  0.1461],\n",
              "         [-0.0445, -0.2527,  0.0195, -0.1608],\n",
              "         [-0.0926,  0.1048,  0.2773,  0.0004]]),\n",
              " tensor([[3.1415, 3.1415, 3.1415, 3.1415],\n",
              "         [3.1415, 3.1415, 3.1415, 3.1415],\n",
              "         [3.1415, 3.1415, 3.1415, 3.1415]]))"
            ]
          },
          "metadata": {},
          "execution_count": 49
        }
      ]
    },
    {
      "cell_type": "markdown",
      "source": [
        "# Autograd Package"
      ],
      "metadata": {
        "id": "da5uL4hd9Ms8"
      }
    },
    {
      "cell_type": "markdown",
      "source": [
        "- Autograd 패키지는 tensor의 모든 연산에 자동 미분을 제공합니다. 이는 define-by-run의 프레임워크로 코드를 어떻게 작성하느냐에 따라 역전파가 정의된다는 뜻입니다. 역전파는 학습과정의 매 단계마다 달라집니다.\n",
        "- requires_grad 속성을 True로 설정하면 해당 tensor의 모든 연산을 추적합니다. 계산이 완료된 후 .backward()를 호출해 gradient를 자동으로 계산할 수 있습니다. 이 tensor의 gradient는 .grad에 누적됩니다.\n",
        "- 연산 기록을 추적하는 것을 멈추기 위해 코드 블럭을 with torch.no_grad():로 감쌀 수 있습니다. gradient는 필요 없지만 requires_grad=True가 설정되어 학습 가능한 Parameter(매개변수)를 갖는 모델을 평가할 때 유용합니다."
      ],
      "metadata": {
        "id": "iPqaX8f39Sg-"
      }
    },
    {
      "cell_type": "markdown",
      "source": [
        "## 예시 1"
      ],
      "metadata": {
        "id": "HzPAx533YSdt"
      }
    },
    {
      "cell_type": "code",
      "source": [
        "a = torch.randn(2,2)\n",
        "a = ((a*3)/(a-1)) \n",
        "print(a.requires_grad)\n",
        "print(a.grad_fn)"
      ],
      "metadata": {
        "id": "rQWkPKWp9wTk",
        "colab": {
          "base_uri": "https://localhost:8080/"
        },
        "outputId": "4ccfc863-a94e-462e-e0f9-505e15aee780"
      },
      "execution_count": 50,
      "outputs": [
        {
          "output_type": "stream",
          "name": "stdout",
          "text": [
            "False\n",
            "None\n"
          ]
        }
      ]
    },
    {
      "cell_type": "code",
      "source": [
        "a.requires_grad_(True)\n",
        "print(a.requires_grad)\n",
        "print(a.grad_fn)"
      ],
      "metadata": {
        "id": "J-KWU2RS90HS",
        "colab": {
          "base_uri": "https://localhost:8080/"
        },
        "outputId": "d1f745f1-bd0e-481e-c1c8-9b06f76f3c41"
      },
      "execution_count": 51,
      "outputs": [
        {
          "output_type": "stream",
          "name": "stdout",
          "text": [
            "True\n",
            "None\n"
          ]
        }
      ]
    },
    {
      "cell_type": "code",
      "source": [
        "b = (a*a).sum()\n",
        "print(b.grad_fn)"
      ],
      "metadata": {
        "colab": {
          "base_uri": "https://localhost:8080/"
        },
        "id": "cByGOVmwXx8Y",
        "outputId": "eba675d3-5126-4079-db1d-9f929d702107"
      },
      "execution_count": 52,
      "outputs": [
        {
          "output_type": "stream",
          "name": "stdout",
          "text": [
            "<SumBackward0 object at 0x7fe1220862d0>\n"
          ]
        }
      ]
    },
    {
      "cell_type": "markdown",
      "source": [
        "## 예시 2"
      ],
      "metadata": {
        "id": "4ehlk4kyYUje"
      }
    },
    {
      "cell_type": "code",
      "source": [
        "x = torch.ones(2, 2, requires_grad=True)\n",
        "y = x + 2\n",
        "print(y)"
      ],
      "metadata": {
        "colab": {
          "base_uri": "https://localhost:8080/"
        },
        "id": "lef25xVNYYvn",
        "outputId": "4902df01-8195-4b77-8b77-fc81e68edd61"
      },
      "execution_count": 53,
      "outputs": [
        {
          "output_type": "stream",
          "name": "stdout",
          "text": [
            "tensor([[3., 3.],\n",
            "        [3., 3.]], grad_fn=<AddBackward0>)\n"
          ]
        }
      ]
    },
    {
      "cell_type": "code",
      "source": [
        "z = y*y*3\n",
        "out = z.mean()\n",
        "print(z, out)"
      ],
      "metadata": {
        "colab": {
          "base_uri": "https://localhost:8080/"
        },
        "id": "X2wpj3xFZMiy",
        "outputId": "860032c7-0878-4128-bff9-02c45e6ae93f"
      },
      "execution_count": 54,
      "outputs": [
        {
          "output_type": "stream",
          "name": "stdout",
          "text": [
            "tensor([[27., 27.],\n",
            "        [27., 27.]], grad_fn=<MulBackward0>) tensor(27., grad_fn=<MeanBackward0>)\n"
          ]
        }
      ]
    },
    {
      "cell_type": "markdown",
      "source": [
        "### Gradient"
      ],
      "metadata": {
        "id": "Vkq72A0BZ6dP"
      }
    },
    {
      "cell_type": "markdown",
      "source": [
        "- 직접 계산"
      ],
      "metadata": {
        "id": "YP6h9f_MZ_Gv"
      }
    },
    {
      "cell_type": "code",
      "source": [
        "x_grad = 1.5 * (x+2)\n",
        "x_grad"
      ],
      "metadata": {
        "colab": {
          "base_uri": "https://localhost:8080/"
        },
        "id": "lr6Gg3vuZmUP",
        "outputId": "08314866-99b9-4c0a-8b2c-373a37521019"
      },
      "execution_count": 55,
      "outputs": [
        {
          "output_type": "execute_result",
          "data": {
            "text/plain": [
              "tensor([[4.5000, 4.5000],\n",
              "        [4.5000, 4.5000]], grad_fn=<MulBackward0>)"
            ]
          },
          "metadata": {},
          "execution_count": 55
        }
      ]
    },
    {
      "cell_type": "markdown",
      "source": [
        "- Autograd 이용"
      ],
      "metadata": {
        "id": "6o1eqP0paElH"
      }
    },
    {
      "cell_type": "code",
      "source": [
        "# out = 3 * (x + 2) ^ 2\n",
        "print(out)\n",
        "out.backward()"
      ],
      "metadata": {
        "colab": {
          "base_uri": "https://localhost:8080/"
        },
        "id": "GuW85ABOaDvh",
        "outputId": "9933ec32-bb5a-4f30-c4a3-244f1e25537c"
      },
      "execution_count": 56,
      "outputs": [
        {
          "output_type": "stream",
          "name": "stdout",
          "text": [
            "tensor(27., grad_fn=<MeanBackward0>)\n"
          ]
        }
      ]
    },
    {
      "cell_type": "code",
      "source": [
        "print(x)\n",
        "print(x.grad)"
      ],
      "metadata": {
        "colab": {
          "base_uri": "https://localhost:8080/"
        },
        "id": "nYy68YQrauB1",
        "outputId": "b330ca27-e079-4a2a-9850-05bd4abff3a0"
      },
      "execution_count": 57,
      "outputs": [
        {
          "output_type": "stream",
          "name": "stdout",
          "text": [
            "tensor([[1., 1.],\n",
            "        [1., 1.]], requires_grad=True)\n",
            "tensor([[4.5000, 4.5000],\n",
            "        [4.5000, 4.5000]])\n"
          ]
        }
      ]
    },
    {
      "cell_type": "markdown",
      "source": [
        "## 예시 3"
      ],
      "metadata": {
        "id": "9rhsgG4wcTuT"
      }
    },
    {
      "cell_type": "code",
      "source": [
        "x = torch.randn(3, requires_grad=True)\n",
        "\n",
        "y = x*2\n",
        "i = 1\n",
        "\n",
        "while y.data.norm() < 1000:\n",
        "    i += 1\n",
        "    y *= 2\n",
        "\n",
        "    print(y, y.data.norm())\n",
        "    print(i)"
      ],
      "metadata": {
        "colab": {
          "base_uri": "https://localhost:8080/"
        },
        "id": "xestUcavcVr8",
        "outputId": "0bfe938c-6c0f-4cf5-f7b7-2511a5e0b884"
      },
      "execution_count": 58,
      "outputs": [
        {
          "output_type": "stream",
          "name": "stdout",
          "text": [
            "tensor([-0.7201,  0.0412,  4.4323], grad_fn=<MulBackward0>) tensor(4.4906)\n",
            "2\n",
            "tensor([-1.4401,  0.0824,  8.8647], grad_fn=<MulBackward0>) tensor(8.9812)\n",
            "3\n",
            "tensor([-2.8803,  0.1648, 17.7293], grad_fn=<MulBackward0>) tensor(17.9625)\n",
            "4\n",
            "tensor([-5.7606,  0.3295, 35.4586], grad_fn=<MulBackward0>) tensor(35.9250)\n",
            "5\n",
            "tensor([-11.5212,   0.6590,  70.9172], grad_fn=<MulBackward0>) tensor(71.8500)\n",
            "6\n",
            "tensor([-23.0424,   1.3180, 141.8344], grad_fn=<MulBackward0>) tensor(143.7000)\n",
            "7\n",
            "tensor([-46.0847,   2.6361, 283.6688], grad_fn=<MulBackward0>) tensor(287.4000)\n",
            "8\n",
            "tensor([-92.1694,   5.2722, 567.3376], grad_fn=<MulBackward0>) tensor(574.8000)\n",
            "9\n",
            "tensor([-184.3389,   10.5443, 1134.6753], grad_fn=<MulBackward0>) tensor(1149.6000)\n",
            "10\n"
          ]
        }
      ]
    },
    {
      "cell_type": "code",
      "source": [
        "print(y)\n",
        "gradients = torch.tensor([0.1, 1.0, 0.0001], dtype=torch.float)\n",
        "y.backward(gradients)\n",
        "\n",
        "print(x.grad)"
      ],
      "metadata": {
        "colab": {
          "base_uri": "https://localhost:8080/"
        },
        "id": "4JIXJUCucodH",
        "outputId": "0b006adf-cdef-49a5-8661-eb76a22014cd"
      },
      "execution_count": 59,
      "outputs": [
        {
          "output_type": "stream",
          "name": "stdout",
          "text": [
            "tensor([-184.3389,   10.5443, 1134.6753], grad_fn=<MulBackward0>)\n",
            "tensor([1.0240e+02, 1.0240e+03, 1.0240e-01])\n"
          ]
        }
      ]
    },
    {
      "cell_type": "markdown",
      "source": [
        "## 예시 4"
      ],
      "metadata": {
        "id": "qli4ZlKudRE0"
      }
    },
    {
      "cell_type": "code",
      "source": [
        "print(x.requires_grad)\n",
        "print((x**2).requires_grad)\n",
        "\n",
        "with torch.no_grad():\n",
        "    print((x**2).requires_grad)\n",
        "\n",
        "print((x**2).requires_grad)"
      ],
      "metadata": {
        "colab": {
          "base_uri": "https://localhost:8080/"
        },
        "id": "oQs5Cb_9dAIY",
        "outputId": "6b45cbe6-f357-4caa-d21f-2ad587815959"
      },
      "execution_count": 60,
      "outputs": [
        {
          "output_type": "stream",
          "name": "stdout",
          "text": [
            "True\n",
            "True\n",
            "False\n",
            "True\n"
          ]
        }
      ]
    },
    {
      "cell_type": "markdown",
      "source": [
        "# Binary Classification - Titanic: Machine Learning from Disaster"
      ],
      "metadata": {
        "id": "GPjqjwRod4xg"
      }
    },
    {
      "cell_type": "markdown",
      "source": [
        "https://www.kaggle.com/c/titanic\n",
        "\n",
        "- 유명한 자료인 타이타닉 데이터 셋으로 생존과 사망에 대한 분류 문제를 풀어보도록 하겠습니다."
      ],
      "metadata": {
        "id": "O4weLAc1d2mx"
      }
    },
    {
      "cell_type": "markdown",
      "source": [
        "## Prepare data"
      ],
      "metadata": {
        "id": "0SjcQzxPNXp7"
      }
    },
    {
      "cell_type": "code",
      "source": [
        "import os\n",
        "from google.colab import drive\n",
        "\n",
        "\n",
        "drive.mount('/content/drive')\n",
        "os.chdir('/content/drive/MyDrive/Colab Notebooks/수업/20211223(deeplearning)') "
      ],
      "metadata": {
        "id": "eeq1eL2tduYO",
        "colab": {
          "base_uri": "https://localhost:8080/"
        },
        "outputId": "26f624c7-d549-4a02-cf41-78364a656dbb"
      },
      "execution_count": 61,
      "outputs": [
        {
          "output_type": "stream",
          "name": "stdout",
          "text": [
            "Mounted at /content/drive\n"
          ]
        }
      ]
    },
    {
      "cell_type": "code",
      "source": [
        "import torch\n",
        "import torch.nn as nn\n",
        "import torch.optim as optim\n",
        "import numpy as np\n",
        "import random\n",
        "import pandas as pd\n",
        "import matplotlib.pyplot as plt\n",
        "from torch.utils.data import Dataset\n",
        "from torch.utils.data import DataLoader\n",
        "from sklearn.preprocessing import StandardScaler\n",
        "from sklearn.metrics import accuracy_score\n",
        "from sklearn.model_selection import train_test_split\n",
        "\n",
        "\n",
        "random.seed(42)\n",
        "torch.manual_seed(42)"
      ],
      "metadata": {
        "colab": {
          "base_uri": "https://localhost:8080/"
        },
        "id": "n8sFE90JMu_7",
        "outputId": "ba3ebf98-3c9f-405a-8932-8f65963a4036"
      },
      "execution_count": 72,
      "outputs": [
        {
          "output_type": "execute_result",
          "data": {
            "text/plain": [
              "<torch._C.Generator at 0x7fe1231d87f0>"
            ]
          },
          "metadata": {},
          "execution_count": 72
        }
      ]
    },
    {
      "cell_type": "code",
      "source": [
        "train_data = pd.read_csv(\"./data/titanic/train.csv\")\n",
        "test_data = pd.read_csv(\"./data/titanic/test.csv\")"
      ],
      "metadata": {
        "id": "lsOoaDXpNIYH"
      },
      "execution_count": 73,
      "outputs": []
    },
    {
      "cell_type": "code",
      "source": [
        "train_data.head()"
      ],
      "metadata": {
        "colab": {
          "base_uri": "https://localhost:8080/",
          "height": 206
        },
        "id": "HqXs7ipbNMK1",
        "outputId": "69b141d5-2b2e-471f-83a6-567d2f04cc78"
      },
      "execution_count": 74,
      "outputs": [
        {
          "output_type": "execute_result",
          "data": {
            "text/html": [
              "\n",
              "  <div id=\"df-c476b96e-f740-4a30-92ad-9d282581f023\">\n",
              "    <div class=\"colab-df-container\">\n",
              "      <div>\n",
              "<style scoped>\n",
              "    .dataframe tbody tr th:only-of-type {\n",
              "        vertical-align: middle;\n",
              "    }\n",
              "\n",
              "    .dataframe tbody tr th {\n",
              "        vertical-align: top;\n",
              "    }\n",
              "\n",
              "    .dataframe thead th {\n",
              "        text-align: right;\n",
              "    }\n",
              "</style>\n",
              "<table border=\"1\" class=\"dataframe\">\n",
              "  <thead>\n",
              "    <tr style=\"text-align: right;\">\n",
              "      <th></th>\n",
              "      <th>PassengerId</th>\n",
              "      <th>Survived</th>\n",
              "      <th>Pclass</th>\n",
              "      <th>Name</th>\n",
              "      <th>Sex</th>\n",
              "      <th>Age</th>\n",
              "      <th>SibSp</th>\n",
              "      <th>Parch</th>\n",
              "      <th>Ticket</th>\n",
              "      <th>Fare</th>\n",
              "      <th>Cabin</th>\n",
              "      <th>Embarked</th>\n",
              "    </tr>\n",
              "  </thead>\n",
              "  <tbody>\n",
              "    <tr>\n",
              "      <th>0</th>\n",
              "      <td>1</td>\n",
              "      <td>0</td>\n",
              "      <td>3</td>\n",
              "      <td>Braund, Mr. Owen Harris</td>\n",
              "      <td>male</td>\n",
              "      <td>22.0</td>\n",
              "      <td>1</td>\n",
              "      <td>0</td>\n",
              "      <td>A/5 21171</td>\n",
              "      <td>7.2500</td>\n",
              "      <td>NaN</td>\n",
              "      <td>S</td>\n",
              "    </tr>\n",
              "    <tr>\n",
              "      <th>1</th>\n",
              "      <td>2</td>\n",
              "      <td>1</td>\n",
              "      <td>1</td>\n",
              "      <td>Cumings, Mrs. John Bradley (Florence Briggs Th...</td>\n",
              "      <td>female</td>\n",
              "      <td>38.0</td>\n",
              "      <td>1</td>\n",
              "      <td>0</td>\n",
              "      <td>PC 17599</td>\n",
              "      <td>71.2833</td>\n",
              "      <td>C85</td>\n",
              "      <td>C</td>\n",
              "    </tr>\n",
              "    <tr>\n",
              "      <th>2</th>\n",
              "      <td>3</td>\n",
              "      <td>1</td>\n",
              "      <td>3</td>\n",
              "      <td>Heikkinen, Miss. Laina</td>\n",
              "      <td>female</td>\n",
              "      <td>26.0</td>\n",
              "      <td>0</td>\n",
              "      <td>0</td>\n",
              "      <td>STON/O2. 3101282</td>\n",
              "      <td>7.9250</td>\n",
              "      <td>NaN</td>\n",
              "      <td>S</td>\n",
              "    </tr>\n",
              "    <tr>\n",
              "      <th>3</th>\n",
              "      <td>4</td>\n",
              "      <td>1</td>\n",
              "      <td>1</td>\n",
              "      <td>Futrelle, Mrs. Jacques Heath (Lily May Peel)</td>\n",
              "      <td>female</td>\n",
              "      <td>35.0</td>\n",
              "      <td>1</td>\n",
              "      <td>0</td>\n",
              "      <td>113803</td>\n",
              "      <td>53.1000</td>\n",
              "      <td>C123</td>\n",
              "      <td>S</td>\n",
              "    </tr>\n",
              "    <tr>\n",
              "      <th>4</th>\n",
              "      <td>5</td>\n",
              "      <td>0</td>\n",
              "      <td>3</td>\n",
              "      <td>Allen, Mr. William Henry</td>\n",
              "      <td>male</td>\n",
              "      <td>35.0</td>\n",
              "      <td>0</td>\n",
              "      <td>0</td>\n",
              "      <td>373450</td>\n",
              "      <td>8.0500</td>\n",
              "      <td>NaN</td>\n",
              "      <td>S</td>\n",
              "    </tr>\n",
              "  </tbody>\n",
              "</table>\n",
              "</div>\n",
              "      <button class=\"colab-df-convert\" onclick=\"convertToInteractive('df-c476b96e-f740-4a30-92ad-9d282581f023')\"\n",
              "              title=\"Convert this dataframe to an interactive table.\"\n",
              "              style=\"display:none;\">\n",
              "        \n",
              "  <svg xmlns=\"http://www.w3.org/2000/svg\" height=\"24px\"viewBox=\"0 0 24 24\"\n",
              "       width=\"24px\">\n",
              "    <path d=\"M0 0h24v24H0V0z\" fill=\"none\"/>\n",
              "    <path d=\"M18.56 5.44l.94 2.06.94-2.06 2.06-.94-2.06-.94-.94-2.06-.94 2.06-2.06.94zm-11 1L8.5 8.5l.94-2.06 2.06-.94-2.06-.94L8.5 2.5l-.94 2.06-2.06.94zm10 10l.94 2.06.94-2.06 2.06-.94-2.06-.94-.94-2.06-.94 2.06-2.06.94z\"/><path d=\"M17.41 7.96l-1.37-1.37c-.4-.4-.92-.59-1.43-.59-.52 0-1.04.2-1.43.59L10.3 9.45l-7.72 7.72c-.78.78-.78 2.05 0 2.83L4 21.41c.39.39.9.59 1.41.59.51 0 1.02-.2 1.41-.59l7.78-7.78 2.81-2.81c.8-.78.8-2.07 0-2.86zM5.41 20L4 18.59l7.72-7.72 1.47 1.35L5.41 20z\"/>\n",
              "  </svg>\n",
              "      </button>\n",
              "      \n",
              "  <style>\n",
              "    .colab-df-container {\n",
              "      display:flex;\n",
              "      flex-wrap:wrap;\n",
              "      gap: 12px;\n",
              "    }\n",
              "\n",
              "    .colab-df-convert {\n",
              "      background-color: #E8F0FE;\n",
              "      border: none;\n",
              "      border-radius: 50%;\n",
              "      cursor: pointer;\n",
              "      display: none;\n",
              "      fill: #1967D2;\n",
              "      height: 32px;\n",
              "      padding: 0 0 0 0;\n",
              "      width: 32px;\n",
              "    }\n",
              "\n",
              "    .colab-df-convert:hover {\n",
              "      background-color: #E2EBFA;\n",
              "      box-shadow: 0px 1px 2px rgba(60, 64, 67, 0.3), 0px 1px 3px 1px rgba(60, 64, 67, 0.15);\n",
              "      fill: #174EA6;\n",
              "    }\n",
              "\n",
              "    [theme=dark] .colab-df-convert {\n",
              "      background-color: #3B4455;\n",
              "      fill: #D2E3FC;\n",
              "    }\n",
              "\n",
              "    [theme=dark] .colab-df-convert:hover {\n",
              "      background-color: #434B5C;\n",
              "      box-shadow: 0px 1px 3px 1px rgba(0, 0, 0, 0.15);\n",
              "      filter: drop-shadow(0px 1px 2px rgba(0, 0, 0, 0.3));\n",
              "      fill: #FFFFFF;\n",
              "    }\n",
              "  </style>\n",
              "\n",
              "      <script>\n",
              "        const buttonEl =\n",
              "          document.querySelector('#df-c476b96e-f740-4a30-92ad-9d282581f023 button.colab-df-convert');\n",
              "        buttonEl.style.display =\n",
              "          google.colab.kernel.accessAllowed ? 'block' : 'none';\n",
              "\n",
              "        async function convertToInteractive(key) {\n",
              "          const element = document.querySelector('#df-c476b96e-f740-4a30-92ad-9d282581f023');\n",
              "          const dataTable =\n",
              "            await google.colab.kernel.invokeFunction('convertToInteractive',\n",
              "                                                     [key], {});\n",
              "          if (!dataTable) return;\n",
              "\n",
              "          const docLinkHtml = 'Like what you see? Visit the ' +\n",
              "            '<a target=\"_blank\" href=https://colab.research.google.com/notebooks/data_table.ipynb>data table notebook</a>'\n",
              "            + ' to learn more about interactive tables.';\n",
              "          element.innerHTML = '';\n",
              "          dataTable['output_type'] = 'display_data';\n",
              "          await google.colab.output.renderOutput(dataTable, element);\n",
              "          const docLink = document.createElement('div');\n",
              "          docLink.innerHTML = docLinkHtml;\n",
              "          element.appendChild(docLink);\n",
              "        }\n",
              "      </script>\n",
              "    </div>\n",
              "  </div>\n",
              "  "
            ],
            "text/plain": [
              "   PassengerId  Survived  Pclass  ...     Fare Cabin  Embarked\n",
              "0            1         0       3  ...   7.2500   NaN         S\n",
              "1            2         1       1  ...  71.2833   C85         C\n",
              "2            3         1       3  ...   7.9250   NaN         S\n",
              "3            4         1       1  ...  53.1000  C123         S\n",
              "4            5         0       3  ...   8.0500   NaN         S\n",
              "\n",
              "[5 rows x 12 columns]"
            ]
          },
          "metadata": {},
          "execution_count": 74
        }
      ]
    },
    {
      "cell_type": "code",
      "source": [
        "test_data.head()"
      ],
      "metadata": {
        "colab": {
          "base_uri": "https://localhost:8080/",
          "height": 206
        },
        "id": "d-9aNrgmNPCj",
        "outputId": "70c324bf-cc59-4220-c5ed-ff846f438367"
      },
      "execution_count": 75,
      "outputs": [
        {
          "output_type": "execute_result",
          "data": {
            "text/html": [
              "\n",
              "  <div id=\"df-6d19f25c-9d70-481a-892d-fad3f0a315b5\">\n",
              "    <div class=\"colab-df-container\">\n",
              "      <div>\n",
              "<style scoped>\n",
              "    .dataframe tbody tr th:only-of-type {\n",
              "        vertical-align: middle;\n",
              "    }\n",
              "\n",
              "    .dataframe tbody tr th {\n",
              "        vertical-align: top;\n",
              "    }\n",
              "\n",
              "    .dataframe thead th {\n",
              "        text-align: right;\n",
              "    }\n",
              "</style>\n",
              "<table border=\"1\" class=\"dataframe\">\n",
              "  <thead>\n",
              "    <tr style=\"text-align: right;\">\n",
              "      <th></th>\n",
              "      <th>PassengerId</th>\n",
              "      <th>Pclass</th>\n",
              "      <th>Name</th>\n",
              "      <th>Sex</th>\n",
              "      <th>Age</th>\n",
              "      <th>SibSp</th>\n",
              "      <th>Parch</th>\n",
              "      <th>Ticket</th>\n",
              "      <th>Fare</th>\n",
              "      <th>Cabin</th>\n",
              "      <th>Embarked</th>\n",
              "    </tr>\n",
              "  </thead>\n",
              "  <tbody>\n",
              "    <tr>\n",
              "      <th>0</th>\n",
              "      <td>892</td>\n",
              "      <td>3</td>\n",
              "      <td>Kelly, Mr. James</td>\n",
              "      <td>male</td>\n",
              "      <td>34.5</td>\n",
              "      <td>0</td>\n",
              "      <td>0</td>\n",
              "      <td>330911</td>\n",
              "      <td>7.8292</td>\n",
              "      <td>NaN</td>\n",
              "      <td>Q</td>\n",
              "    </tr>\n",
              "    <tr>\n",
              "      <th>1</th>\n",
              "      <td>893</td>\n",
              "      <td>3</td>\n",
              "      <td>Wilkes, Mrs. James (Ellen Needs)</td>\n",
              "      <td>female</td>\n",
              "      <td>47.0</td>\n",
              "      <td>1</td>\n",
              "      <td>0</td>\n",
              "      <td>363272</td>\n",
              "      <td>7.0000</td>\n",
              "      <td>NaN</td>\n",
              "      <td>S</td>\n",
              "    </tr>\n",
              "    <tr>\n",
              "      <th>2</th>\n",
              "      <td>894</td>\n",
              "      <td>2</td>\n",
              "      <td>Myles, Mr. Thomas Francis</td>\n",
              "      <td>male</td>\n",
              "      <td>62.0</td>\n",
              "      <td>0</td>\n",
              "      <td>0</td>\n",
              "      <td>240276</td>\n",
              "      <td>9.6875</td>\n",
              "      <td>NaN</td>\n",
              "      <td>Q</td>\n",
              "    </tr>\n",
              "    <tr>\n",
              "      <th>3</th>\n",
              "      <td>895</td>\n",
              "      <td>3</td>\n",
              "      <td>Wirz, Mr. Albert</td>\n",
              "      <td>male</td>\n",
              "      <td>27.0</td>\n",
              "      <td>0</td>\n",
              "      <td>0</td>\n",
              "      <td>315154</td>\n",
              "      <td>8.6625</td>\n",
              "      <td>NaN</td>\n",
              "      <td>S</td>\n",
              "    </tr>\n",
              "    <tr>\n",
              "      <th>4</th>\n",
              "      <td>896</td>\n",
              "      <td>3</td>\n",
              "      <td>Hirvonen, Mrs. Alexander (Helga E Lindqvist)</td>\n",
              "      <td>female</td>\n",
              "      <td>22.0</td>\n",
              "      <td>1</td>\n",
              "      <td>1</td>\n",
              "      <td>3101298</td>\n",
              "      <td>12.2875</td>\n",
              "      <td>NaN</td>\n",
              "      <td>S</td>\n",
              "    </tr>\n",
              "  </tbody>\n",
              "</table>\n",
              "</div>\n",
              "      <button class=\"colab-df-convert\" onclick=\"convertToInteractive('df-6d19f25c-9d70-481a-892d-fad3f0a315b5')\"\n",
              "              title=\"Convert this dataframe to an interactive table.\"\n",
              "              style=\"display:none;\">\n",
              "        \n",
              "  <svg xmlns=\"http://www.w3.org/2000/svg\" height=\"24px\"viewBox=\"0 0 24 24\"\n",
              "       width=\"24px\">\n",
              "    <path d=\"M0 0h24v24H0V0z\" fill=\"none\"/>\n",
              "    <path d=\"M18.56 5.44l.94 2.06.94-2.06 2.06-.94-2.06-.94-.94-2.06-.94 2.06-2.06.94zm-11 1L8.5 8.5l.94-2.06 2.06-.94-2.06-.94L8.5 2.5l-.94 2.06-2.06.94zm10 10l.94 2.06.94-2.06 2.06-.94-2.06-.94-.94-2.06-.94 2.06-2.06.94z\"/><path d=\"M17.41 7.96l-1.37-1.37c-.4-.4-.92-.59-1.43-.59-.52 0-1.04.2-1.43.59L10.3 9.45l-7.72 7.72c-.78.78-.78 2.05 0 2.83L4 21.41c.39.39.9.59 1.41.59.51 0 1.02-.2 1.41-.59l7.78-7.78 2.81-2.81c.8-.78.8-2.07 0-2.86zM5.41 20L4 18.59l7.72-7.72 1.47 1.35L5.41 20z\"/>\n",
              "  </svg>\n",
              "      </button>\n",
              "      \n",
              "  <style>\n",
              "    .colab-df-container {\n",
              "      display:flex;\n",
              "      flex-wrap:wrap;\n",
              "      gap: 12px;\n",
              "    }\n",
              "\n",
              "    .colab-df-convert {\n",
              "      background-color: #E8F0FE;\n",
              "      border: none;\n",
              "      border-radius: 50%;\n",
              "      cursor: pointer;\n",
              "      display: none;\n",
              "      fill: #1967D2;\n",
              "      height: 32px;\n",
              "      padding: 0 0 0 0;\n",
              "      width: 32px;\n",
              "    }\n",
              "\n",
              "    .colab-df-convert:hover {\n",
              "      background-color: #E2EBFA;\n",
              "      box-shadow: 0px 1px 2px rgba(60, 64, 67, 0.3), 0px 1px 3px 1px rgba(60, 64, 67, 0.15);\n",
              "      fill: #174EA6;\n",
              "    }\n",
              "\n",
              "    [theme=dark] .colab-df-convert {\n",
              "      background-color: #3B4455;\n",
              "      fill: #D2E3FC;\n",
              "    }\n",
              "\n",
              "    [theme=dark] .colab-df-convert:hover {\n",
              "      background-color: #434B5C;\n",
              "      box-shadow: 0px 1px 3px 1px rgba(0, 0, 0, 0.15);\n",
              "      filter: drop-shadow(0px 1px 2px rgba(0, 0, 0, 0.3));\n",
              "      fill: #FFFFFF;\n",
              "    }\n",
              "  </style>\n",
              "\n",
              "      <script>\n",
              "        const buttonEl =\n",
              "          document.querySelector('#df-6d19f25c-9d70-481a-892d-fad3f0a315b5 button.colab-df-convert');\n",
              "        buttonEl.style.display =\n",
              "          google.colab.kernel.accessAllowed ? 'block' : 'none';\n",
              "\n",
              "        async function convertToInteractive(key) {\n",
              "          const element = document.querySelector('#df-6d19f25c-9d70-481a-892d-fad3f0a315b5');\n",
              "          const dataTable =\n",
              "            await google.colab.kernel.invokeFunction('convertToInteractive',\n",
              "                                                     [key], {});\n",
              "          if (!dataTable) return;\n",
              "\n",
              "          const docLinkHtml = 'Like what you see? Visit the ' +\n",
              "            '<a target=\"_blank\" href=https://colab.research.google.com/notebooks/data_table.ipynb>data table notebook</a>'\n",
              "            + ' to learn more about interactive tables.';\n",
              "          element.innerHTML = '';\n",
              "          dataTable['output_type'] = 'display_data';\n",
              "          await google.colab.output.renderOutput(dataTable, element);\n",
              "          const docLink = document.createElement('div');\n",
              "          docLink.innerHTML = docLinkHtml;\n",
              "          element.appendChild(docLink);\n",
              "        }\n",
              "      </script>\n",
              "    </div>\n",
              "  </div>\n",
              "  "
            ],
            "text/plain": [
              "   PassengerId  Pclass  ... Cabin Embarked\n",
              "0          892       3  ...   NaN        Q\n",
              "1          893       3  ...   NaN        S\n",
              "2          894       2  ...   NaN        Q\n",
              "3          895       3  ...   NaN        S\n",
              "4          896       3  ...   NaN        S\n",
              "\n",
              "[5 rows x 11 columns]"
            ]
          },
          "metadata": {},
          "execution_count": 75
        }
      ]
    },
    {
      "cell_type": "markdown",
      "source": [
        "## Preprocessing"
      ],
      "metadata": {
        "id": "4d-FE5ejNbNy"
      }
    },
    {
      "cell_type": "markdown",
      "source": [
        "### categorical variable processing"
      ],
      "metadata": {
        "id": "IDw8YitHNh3L"
      }
    },
    {
      "cell_type": "code",
      "source": [
        "train_data['Sex'].head()"
      ],
      "metadata": {
        "colab": {
          "base_uri": "https://localhost:8080/"
        },
        "id": "CUx3n4zLNSC3",
        "outputId": "adc81d3b-1594-4e16-d94a-c7521bf18550"
      },
      "execution_count": 76,
      "outputs": [
        {
          "output_type": "execute_result",
          "data": {
            "text/plain": [
              "0      male\n",
              "1    female\n",
              "2    female\n",
              "3    female\n",
              "4      male\n",
              "Name: Sex, dtype: object"
            ]
          },
          "metadata": {},
          "execution_count": 76
        }
      ]
    },
    {
      "cell_type": "code",
      "source": [
        "# One-hot encoding\n",
        "train_data['Sex'] = train_data['Sex'].map({'male': 1, 'female': 0})\n",
        "test_data['Sex'] = test_data['Sex'].map({'male': 1, 'female': 0})"
      ],
      "metadata": {
        "id": "MgAz1aEeNnoI"
      },
      "execution_count": 77,
      "outputs": []
    },
    {
      "cell_type": "code",
      "source": [
        "train_data['Sex'].head()"
      ],
      "metadata": {
        "colab": {
          "base_uri": "https://localhost:8080/"
        },
        "id": "V8-CZXU_OCbA",
        "outputId": "6550aab0-dfdd-4c75-d827-d19adbe1632f"
      },
      "execution_count": 78,
      "outputs": [
        {
          "output_type": "execute_result",
          "data": {
            "text/plain": [
              "0    1\n",
              "1    0\n",
              "2    0\n",
              "3    0\n",
              "4    1\n",
              "Name: Sex, dtype: int64"
            ]
          },
          "metadata": {},
          "execution_count": 78
        }
      ]
    },
    {
      "cell_type": "markdown",
      "source": [
        "### Select feature"
      ],
      "metadata": {
        "id": "OAOp3bOgOIpy"
      }
    },
    {
      "cell_type": "code",
      "source": [
        "data_X = train_data[['Pclass', 'Sex', 'Age', 'SibSp', 'Parch', 'Fare']]\n",
        "data_y = train_data['Survived']"
      ],
      "metadata": {
        "id": "C6BOEryZOEn2"
      },
      "execution_count": 79,
      "outputs": []
    },
    {
      "cell_type": "code",
      "source": [
        "len(data_X)"
      ],
      "metadata": {
        "colab": {
          "base_uri": "https://localhost:8080/"
        },
        "id": "fLT7C3WtOX3z",
        "outputId": "7d49a8de-6c66-45f8-95f3-d4b077f3df9a"
      },
      "execution_count": 80,
      "outputs": [
        {
          "output_type": "execute_result",
          "data": {
            "text/plain": [
              "891"
            ]
          },
          "metadata": {},
          "execution_count": 80
        }
      ]
    },
    {
      "cell_type": "code",
      "source": [
        "train_X, test_X, train_y, test_y = train_test_split(data_X, data_y, test_size=0.3, random_state=42)"
      ],
      "metadata": {
        "id": "2xpqr00sOZVs"
      },
      "execution_count": 81,
      "outputs": []
    },
    {
      "cell_type": "code",
      "source": [
        "len(train_X), len(data_X) * 0.7"
      ],
      "metadata": {
        "colab": {
          "base_uri": "https://localhost:8080/"
        },
        "id": "ZPxLB76GO0U_",
        "outputId": "25ce58e1-8be2-4cd4-f0a7-7611879041fd"
      },
      "execution_count": 82,
      "outputs": [
        {
          "output_type": "execute_result",
          "data": {
            "text/plain": [
              "(623, 623.6999999999999)"
            ]
          },
          "metadata": {},
          "execution_count": 82
        }
      ]
    },
    {
      "cell_type": "code",
      "source": [
        "len(test_X), len(data_X) * 0.3"
      ],
      "metadata": {
        "colab": {
          "base_uri": "https://localhost:8080/"
        },
        "id": "vi2w_54tO4iK",
        "outputId": "41bb23e1-fbb5-463e-dc83-580009e4319d"
      },
      "execution_count": 83,
      "outputs": [
        {
          "output_type": "execute_result",
          "data": {
            "text/plain": [
              "(268, 267.3)"
            ]
          },
          "metadata": {},
          "execution_count": 83
        }
      ]
    },
    {
      "cell_type": "markdown",
      "source": [
        "### Check null"
      ],
      "metadata": {
        "id": "kce8QtkLO9bU"
      }
    },
    {
      "cell_type": "code",
      "source": [
        "print('Number of null in train_X:', train_X.isnull().sum())\n",
        "print(\"\\n\",'Number of null in test_X:', test_X.isnull().sum())\n",
        "print(\"\\n\",'Number of nullin train y:', train_y.isnull().sum())\n",
        "print(\"\\n\",'Number of nullin train y:', test_y.isnull().sum())\n",
        "\n",
        "print(\"\\n\",np.mean(data_X[\"Age\"]))"
      ],
      "metadata": {
        "colab": {
          "base_uri": "https://localhost:8080/"
        },
        "id": "JzakgjIqO7yE",
        "outputId": "98103af9-c03e-4166-f69f-4c2a39255047"
      },
      "execution_count": 85,
      "outputs": [
        {
          "output_type": "stream",
          "name": "stdout",
          "text": [
            "Number of null in train_X: Pclass      0\n",
            "Sex         0\n",
            "Age       124\n",
            "SibSp       0\n",
            "Parch       0\n",
            "Fare        0\n",
            "dtype: int64\n",
            "\n",
            " Number of null in test_X: Pclass     0\n",
            "Sex        0\n",
            "Age       53\n",
            "SibSp      0\n",
            "Parch      0\n",
            "Fare       0\n",
            "dtype: int64\n",
            "\n",
            " Number of nullin train y: 0\n",
            "\n",
            " Number of nullin train y: 0\n",
            "\n",
            " 29.69911764705882\n"
          ]
        }
      ]
    },
    {
      "cell_type": "code",
      "source": [
        "# interpolation null value of age and fare to mean\n",
        "train_X.loc[:, 'Age'] = train_X.loc[:, 'Age'].replace(np.nan, 30)\n",
        "test_X.loc[:, 'Age'] = test_X.loc[:, 'Age'].replace(np.nan, 30)"
      ],
      "metadata": {
        "id": "ahTeLAUuPDOQ"
      },
      "execution_count": 86,
      "outputs": []
    },
    {
      "cell_type": "code",
      "source": [
        "print('Number of null in train:', train_X.isnull().sum())\n",
        "print('Number of null in test:', test_X.isnull().sum())"
      ],
      "metadata": {
        "colab": {
          "base_uri": "https://localhost:8080/"
        },
        "id": "2k-PaNBbRkO8",
        "outputId": "06f8ded6-79a4-4743-9eff-8b235bae3351"
      },
      "execution_count": 87,
      "outputs": [
        {
          "output_type": "stream",
          "name": "stdout",
          "text": [
            "Number of null in train: Pclass    0\n",
            "Sex       0\n",
            "Age       0\n",
            "SibSp     0\n",
            "Parch     0\n",
            "Fare      0\n",
            "dtype: int64\n",
            "Number of null in test: Pclass    0\n",
            "Sex       0\n",
            "Age       0\n",
            "SibSp     0\n",
            "Parch     0\n",
            "Fare      0\n",
            "dtype: int64\n"
          ]
        }
      ]
    },
    {
      "cell_type": "code",
      "source": [
        "len(train_X), len(train_y), len(test_X), len(test_y)"
      ],
      "metadata": {
        "colab": {
          "base_uri": "https://localhost:8080/"
        },
        "id": "VrO57zmLRxIA",
        "outputId": "b4c019e4-d35a-4ae0-8b8c-dbd50c0f2196"
      },
      "execution_count": 88,
      "outputs": [
        {
          "output_type": "execute_result",
          "data": {
            "text/plain": [
              "(623, 623, 268, 268)"
            ]
          },
          "metadata": {},
          "execution_count": 88
        }
      ]
    },
    {
      "cell_type": "markdown",
      "source": [
        "## Train model (Pytorch)"
      ],
      "metadata": {
        "id": "ipPQ6hnmR9qt"
      }
    },
    {
      "cell_type": "markdown",
      "source": [
        "<h2>Step of learning</h2>\n",
        "\n",
        "1. Define dataset & dataloader\n",
        "2. Define model\n",
        "3. Model Learning\n",
        "4. Model evaluation"
      ],
      "metadata": {
        "id": "9dPZEJUoSG1e"
      }
    },
    {
      "cell_type": "markdown",
      "source": [
        "### 1. Define dataset & dataloader"
      ],
      "metadata": {
        "id": "FwuoHHnnTLb7"
      }
    },
    {
      "cell_type": "code",
      "source": [
        "class SimpleDataset(Dataset):\n",
        "    \n",
        "    def __init__(self, X_data, y_data):\n",
        "        self.X_data = X_data\n",
        "        self.y_data = y_data\n",
        "    \n",
        "    def __getitem__(self, index):\n",
        "        return self.X_data[index], self.y_data[index]\n",
        "    \n",
        "    def __len__(self):\n",
        "        return len(self.X_data)"
      ],
      "metadata": {
        "id": "zHmLe4y5R6Ob"
      },
      "execution_count": 95,
      "outputs": []
    },
    {
      "cell_type": "code",
      "source": [
        "# Standardization\n",
        "scaler = StandardScaler()\n",
        "train_data = SimpleDataset(torch.FloatTensor(scaler.fit_transform(train_X.to_numpy())), torch.LongTensor(train_y.to_numpy()))\n",
        "test_data = SimpleDataset(torch.FloatTensor(scaler.transform(test_X.to_numpy())), torch.LongTensor(test_y.to_numpy()))"
      ],
      "metadata": {
        "id": "LNC-PcmuTnpr"
      },
      "execution_count": 96,
      "outputs": []
    },
    {
      "cell_type": "code",
      "source": [
        "len(train_data), len(test_data)"
      ],
      "metadata": {
        "colab": {
          "base_uri": "https://localhost:8080/"
        },
        "id": "y0Hi8YFcVBtK",
        "outputId": "0bce6f9e-8e87-4ba6-fe9e-e76304711ed1"
      },
      "execution_count": 97,
      "outputs": [
        {
          "output_type": "execute_result",
          "data": {
            "text/plain": [
              "(623, 268)"
            ]
          },
          "metadata": {},
          "execution_count": 97
        }
      ]
    },
    {
      "cell_type": "code",
      "source": [
        "train_data.__getitem__(0)"
      ],
      "metadata": {
        "colab": {
          "base_uri": "https://localhost:8080/"
        },
        "id": "h_rnIFkyVJb2",
        "outputId": "d24e3f0d-a0c4-4508-9dd8-285869c29a1b"
      },
      "execution_count": 98,
      "outputs": [
        {
          "output_type": "execute_result",
          "data": {
            "text/plain": [
              "(tensor([-1.6379,  0.7208, -1.9512, -0.4742,  1.9989,  0.9810]), tensor(1))"
            ]
          },
          "metadata": {},
          "execution_count": 98
        }
      ]
    },
    {
      "cell_type": "code",
      "source": [
        "train_data[0]"
      ],
      "metadata": {
        "colab": {
          "base_uri": "https://localhost:8080/"
        },
        "id": "oV6Fba-0VNQb",
        "outputId": "4a50441a-0e8d-439c-ba89-101b11a2152a"
      },
      "execution_count": 99,
      "outputs": [
        {
          "output_type": "execute_result",
          "data": {
            "text/plain": [
              "(tensor([-1.6379,  0.7208, -1.9512, -0.4742,  1.9989,  0.9810]), tensor(1))"
            ]
          },
          "metadata": {},
          "execution_count": 99
        }
      ]
    },
    {
      "cell_type": "markdown",
      "source": [
        "### 2. Define model"
      ],
      "metadata": {
        "id": "tXKJOlPNVQyn"
      }
    },
    {
      "cell_type": "code",
      "source": [
        "class BinaryClassification(nn.Module):\n",
        "\n",
        "    def __init__(self, num_features, num_classes):\n",
        "        super(BinaryClassification, self).__init__() # https://dojang.io/mod/page/view.php?id=2386\n",
        "\n",
        "        self.Layer_1 = nn.Linear(num_features, 30)\n",
        "        self.Layer_2 = nn.Linear(30, 15)\n",
        "        self.Layer_3 = nn.Linear(15, 8)\n",
        "        self.Layer_out = nn.Linear(8, num_classes)\n",
        "        \n",
        "        self.relu = nn.ReLU()\n",
        "    \n",
        "    def forward(self, inputs):\n",
        "        x = self.Layer_1(inputs)\n",
        "        x = self.relu(x)\n",
        "\n",
        "        x = self.Layer_2(x)\n",
        "        x = self.relu(x)\n",
        "\n",
        "        x = self.Layer_3(x)\n",
        "        x = self.relu(x)\n",
        "\n",
        "        x = self.Layer_out(x)\n",
        "\n",
        "        return x\n"
      ],
      "metadata": {
        "id": "LlGHSNCvVO_6"
      },
      "execution_count": 100,
      "outputs": []
    },
    {
      "cell_type": "markdown",
      "source": [
        "### 3. Model Learning"
      ],
      "metadata": {
        "id": "4ZUxDkOJXJVl"
      }
    },
    {
      "cell_type": "code",
      "source": [
        "EPOCHS = 3000\n",
        "BATCH_SIZE = 64\n",
        "\n",
        "train_loader = DataLoader(dataset=train_data, batch_size=BATCH_SIZE, shuffle=True)\n",
        "test_loader = DataLoader(dataset=test_data, batch_size=1, shuffle=False)\n",
        "\n",
        "model = BinaryClassification(num_features=6, num_classes=2)\n",
        "\n",
        "criterion = nn.CrossEntropyLoss() # https://pytorch.org/docs/stable/nn.htm\n",
        "optimizer = optim.Adam(model.parameters(), lr=0.001)"
      ],
      "metadata": {
        "id": "b2xEoGVSXLhp"
      },
      "execution_count": 108,
      "outputs": []
    },
    {
      "cell_type": "code",
      "source": [
        "for X_batch, y_batch in train_loader:\n",
        "    print(X_batch.size(), y_batch.size())\n",
        "    break"
      ],
      "metadata": {
        "colab": {
          "base_uri": "https://localhost:8080/"
        },
        "id": "Cy607BuAX9ES",
        "outputId": "3548a829-d45a-4384-d2fd-09c36289cafd"
      },
      "execution_count": 109,
      "outputs": [
        {
          "output_type": "stream",
          "name": "stdout",
          "text": [
            "torch.Size([64, 6]) torch.Size([64])\n"
          ]
        }
      ]
    },
    {
      "cell_type": "code",
      "source": [
        "loss_list = []\n",
        "acc_list = []\n",
        "for epoch in range(EPOCHS):\n",
        "    for i, (X_batch, y_batch) in enumerate(train_loader):\n",
        "        # Forward\n",
        "        y_output = model(X_batch)\n",
        "        loss = criterion(y_output, y_batch)\n",
        "\n",
        "        # Backward\n",
        "        optimizer.zero_grad()\n",
        "        loss.backward()\n",
        "        optimizer.step()\n",
        "\n",
        "        # misc\n",
        "        y_pred = torch.max(y_output, 1)[1]\n",
        "        acc = accuracy_score(y_pred.data.cpu(), y_batch.data.cpu())\n",
        "        loss_list.append(loss.item())\n",
        "        acc_list.append(acc)\n",
        "\n",
        "        if (epoch+1) % 100 == 0:\n",
        "            print('Epoch [{}/{}] Step [{}/{}] Loss: [{:.4f}] Train ACC [{:.2f}%]'.format(epoch+1, EPOCHS, i+1, len(train_loader), loss.item(), acc*100))\n"
      ],
      "metadata": {
        "colab": {
          "base_uri": "https://localhost:8080/"
        },
        "id": "D5EMdSYYYRwF",
        "outputId": "e5b0c5ee-390d-45a7-fe67-a3535ca4843b"
      },
      "execution_count": 110,
      "outputs": [
        {
          "output_type": "stream",
          "name": "stdout",
          "text": [
            "Epoch [100/3000] Step [1/10] Loss: [0.3072] Train ACC [82.81%]\n",
            "Epoch [100/3000] Step [2/10] Loss: [0.2683] Train ACC [90.62%]\n",
            "Epoch [100/3000] Step [3/10] Loss: [0.3881] Train ACC [85.94%]\n",
            "Epoch [100/3000] Step [4/10] Loss: [0.3492] Train ACC [82.81%]\n",
            "Epoch [100/3000] Step [5/10] Loss: [0.4175] Train ACC [81.25%]\n",
            "Epoch [100/3000] Step [6/10] Loss: [0.4066] Train ACC [82.81%]\n",
            "Epoch [100/3000] Step [7/10] Loss: [0.3854] Train ACC [81.25%]\n",
            "Epoch [100/3000] Step [8/10] Loss: [0.4332] Train ACC [84.38%]\n",
            "Epoch [100/3000] Step [9/10] Loss: [0.3487] Train ACC [87.50%]\n",
            "Epoch [100/3000] Step [10/10] Loss: [0.3695] Train ACC [87.23%]\n",
            "Epoch [200/3000] Step [1/10] Loss: [0.2792] Train ACC [92.19%]\n",
            "Epoch [200/3000] Step [2/10] Loss: [0.3951] Train ACC [85.94%]\n",
            "Epoch [200/3000] Step [3/10] Loss: [0.3216] Train ACC [85.94%]\n",
            "Epoch [200/3000] Step [4/10] Loss: [0.3537] Train ACC [85.94%]\n",
            "Epoch [200/3000] Step [5/10] Loss: [0.3603] Train ACC [84.38%]\n",
            "Epoch [200/3000] Step [6/10] Loss: [0.3573] Train ACC [85.94%]\n",
            "Epoch [200/3000] Step [7/10] Loss: [0.3603] Train ACC [84.38%]\n",
            "Epoch [200/3000] Step [8/10] Loss: [0.3615] Train ACC [85.94%]\n",
            "Epoch [200/3000] Step [9/10] Loss: [0.2543] Train ACC [90.62%]\n",
            "Epoch [200/3000] Step [10/10] Loss: [0.3601] Train ACC [85.11%]\n",
            "Epoch [300/3000] Step [1/10] Loss: [0.3277] Train ACC [84.38%]\n",
            "Epoch [300/3000] Step [2/10] Loss: [0.3097] Train ACC [87.50%]\n",
            "Epoch [300/3000] Step [3/10] Loss: [0.2260] Train ACC [93.75%]\n",
            "Epoch [300/3000] Step [4/10] Loss: [0.3405] Train ACC [85.94%]\n",
            "Epoch [300/3000] Step [5/10] Loss: [0.3238] Train ACC [87.50%]\n",
            "Epoch [300/3000] Step [6/10] Loss: [0.4228] Train ACC [85.94%]\n",
            "Epoch [300/3000] Step [7/10] Loss: [0.2181] Train ACC [92.19%]\n",
            "Epoch [300/3000] Step [8/10] Loss: [0.3325] Train ACC [85.94%]\n",
            "Epoch [300/3000] Step [9/10] Loss: [0.4191] Train ACC [82.81%]\n",
            "Epoch [300/3000] Step [10/10] Loss: [0.3066] Train ACC [85.11%]\n",
            "Epoch [400/3000] Step [1/10] Loss: [0.3041] Train ACC [92.19%]\n",
            "Epoch [400/3000] Step [2/10] Loss: [0.2814] Train ACC [89.06%]\n",
            "Epoch [400/3000] Step [3/10] Loss: [0.4025] Train ACC [82.81%]\n",
            "Epoch [400/3000] Step [4/10] Loss: [0.3354] Train ACC [89.06%]\n",
            "Epoch [400/3000] Step [5/10] Loss: [0.3336] Train ACC [85.94%]\n",
            "Epoch [400/3000] Step [6/10] Loss: [0.3360] Train ACC [87.50%]\n",
            "Epoch [400/3000] Step [7/10] Loss: [0.2716] Train ACC [89.06%]\n",
            "Epoch [400/3000] Step [8/10] Loss: [0.2347] Train ACC [90.62%]\n",
            "Epoch [400/3000] Step [9/10] Loss: [0.2332] Train ACC [92.19%]\n",
            "Epoch [400/3000] Step [10/10] Loss: [0.3791] Train ACC [80.85%]\n",
            "Epoch [500/3000] Step [1/10] Loss: [0.2863] Train ACC [87.50%]\n",
            "Epoch [500/3000] Step [2/10] Loss: [0.3272] Train ACC [84.38%]\n",
            "Epoch [500/3000] Step [3/10] Loss: [0.3550] Train ACC [85.94%]\n",
            "Epoch [500/3000] Step [4/10] Loss: [0.2530] Train ACC [90.62%]\n",
            "Epoch [500/3000] Step [5/10] Loss: [0.1625] Train ACC [95.31%]\n",
            "Epoch [500/3000] Step [6/10] Loss: [0.3060] Train ACC [87.50%]\n",
            "Epoch [500/3000] Step [7/10] Loss: [0.2884] Train ACC [89.06%]\n",
            "Epoch [500/3000] Step [8/10] Loss: [0.3153] Train ACC [87.50%]\n",
            "Epoch [500/3000] Step [9/10] Loss: [0.4261] Train ACC [82.81%]\n",
            "Epoch [500/3000] Step [10/10] Loss: [0.2279] Train ACC [89.36%]\n",
            "Epoch [600/3000] Step [1/10] Loss: [0.3743] Train ACC [82.81%]\n",
            "Epoch [600/3000] Step [2/10] Loss: [0.2228] Train ACC [90.62%]\n",
            "Epoch [600/3000] Step [3/10] Loss: [0.2919] Train ACC [90.62%]\n",
            "Epoch [600/3000] Step [4/10] Loss: [0.2162] Train ACC [93.75%]\n",
            "Epoch [600/3000] Step [5/10] Loss: [0.2716] Train ACC [89.06%]\n",
            "Epoch [600/3000] Step [6/10] Loss: [0.3234] Train ACC [84.38%]\n",
            "Epoch [600/3000] Step [7/10] Loss: [0.2944] Train ACC [90.62%]\n",
            "Epoch [600/3000] Step [8/10] Loss: [0.2842] Train ACC [85.94%]\n",
            "Epoch [600/3000] Step [9/10] Loss: [0.2538] Train ACC [87.50%]\n",
            "Epoch [600/3000] Step [10/10] Loss: [0.3023] Train ACC [91.49%]\n",
            "Epoch [700/3000] Step [1/10] Loss: [0.2093] Train ACC [92.19%]\n",
            "Epoch [700/3000] Step [2/10] Loss: [0.3047] Train ACC [85.94%]\n",
            "Epoch [700/3000] Step [3/10] Loss: [0.3320] Train ACC [84.38%]\n",
            "Epoch [700/3000] Step [4/10] Loss: [0.2468] Train ACC [90.62%]\n",
            "Epoch [700/3000] Step [5/10] Loss: [0.2243] Train ACC [92.19%]\n",
            "Epoch [700/3000] Step [6/10] Loss: [0.3241] Train ACC [85.94%]\n",
            "Epoch [700/3000] Step [7/10] Loss: [0.1895] Train ACC [92.19%]\n",
            "Epoch [700/3000] Step [8/10] Loss: [0.3509] Train ACC [84.38%]\n",
            "Epoch [700/3000] Step [9/10] Loss: [0.2814] Train ACC [85.94%]\n",
            "Epoch [700/3000] Step [10/10] Loss: [0.2211] Train ACC [89.36%]\n",
            "Epoch [800/3000] Step [1/10] Loss: [0.1992] Train ACC [92.19%]\n",
            "Epoch [800/3000] Step [2/10] Loss: [0.2967] Train ACC [82.81%]\n",
            "Epoch [800/3000] Step [3/10] Loss: [0.2728] Train ACC [89.06%]\n",
            "Epoch [800/3000] Step [4/10] Loss: [0.2031] Train ACC [92.19%]\n",
            "Epoch [800/3000] Step [5/10] Loss: [0.2947] Train ACC [87.50%]\n",
            "Epoch [800/3000] Step [6/10] Loss: [0.3137] Train ACC [87.50%]\n",
            "Epoch [800/3000] Step [7/10] Loss: [0.2783] Train ACC [85.94%]\n",
            "Epoch [800/3000] Step [8/10] Loss: [0.2468] Train ACC [89.06%]\n",
            "Epoch [800/3000] Step [9/10] Loss: [0.2546] Train ACC [90.62%]\n",
            "Epoch [800/3000] Step [10/10] Loss: [0.2482] Train ACC [91.49%]\n",
            "Epoch [900/3000] Step [1/10] Loss: [0.2928] Train ACC [89.06%]\n",
            "Epoch [900/3000] Step [2/10] Loss: [0.2361] Train ACC [92.19%]\n",
            "Epoch [900/3000] Step [3/10] Loss: [0.2075] Train ACC [90.62%]\n",
            "Epoch [900/3000] Step [4/10] Loss: [0.3286] Train ACC [85.94%]\n",
            "Epoch [900/3000] Step [5/10] Loss: [0.2801] Train ACC [87.50%]\n",
            "Epoch [900/3000] Step [6/10] Loss: [0.2542] Train ACC [90.62%]\n",
            "Epoch [900/3000] Step [7/10] Loss: [0.2404] Train ACC [87.50%]\n",
            "Epoch [900/3000] Step [8/10] Loss: [0.2374] Train ACC [89.06%]\n",
            "Epoch [900/3000] Step [9/10] Loss: [0.2273] Train ACC [92.19%]\n",
            "Epoch [900/3000] Step [10/10] Loss: [0.2417] Train ACC [91.49%]\n",
            "Epoch [1000/3000] Step [1/10] Loss: [0.1726] Train ACC [93.75%]\n",
            "Epoch [1000/3000] Step [2/10] Loss: [0.3992] Train ACC [82.81%]\n",
            "Epoch [1000/3000] Step [3/10] Loss: [0.2641] Train ACC [89.06%]\n",
            "Epoch [1000/3000] Step [4/10] Loss: [0.2581] Train ACC [90.62%]\n",
            "Epoch [1000/3000] Step [5/10] Loss: [0.2330] Train ACC [90.62%]\n",
            "Epoch [1000/3000] Step [6/10] Loss: [0.1935] Train ACC [92.19%]\n",
            "Epoch [1000/3000] Step [7/10] Loss: [0.2146] Train ACC [92.19%]\n",
            "Epoch [1000/3000] Step [8/10] Loss: [0.2023] Train ACC [92.19%]\n",
            "Epoch [1000/3000] Step [9/10] Loss: [0.2663] Train ACC [85.94%]\n",
            "Epoch [1000/3000] Step [10/10] Loss: [0.2731] Train ACC [89.36%]\n",
            "Epoch [1100/3000] Step [1/10] Loss: [0.2218] Train ACC [90.62%]\n",
            "Epoch [1100/3000] Step [2/10] Loss: [0.2187] Train ACC [89.06%]\n",
            "Epoch [1100/3000] Step [3/10] Loss: [0.1660] Train ACC [93.75%]\n",
            "Epoch [1100/3000] Step [4/10] Loss: [0.2610] Train ACC [87.50%]\n",
            "Epoch [1100/3000] Step [5/10] Loss: [0.2755] Train ACC [90.62%]\n",
            "Epoch [1100/3000] Step [6/10] Loss: [0.2416] Train ACC [89.06%]\n",
            "Epoch [1100/3000] Step [7/10] Loss: [0.3006] Train ACC [85.94%]\n",
            "Epoch [1100/3000] Step [8/10] Loss: [0.2668] Train ACC [90.62%]\n",
            "Epoch [1100/3000] Step [9/10] Loss: [0.2554] Train ACC [89.06%]\n",
            "Epoch [1100/3000] Step [10/10] Loss: [0.2650] Train ACC [89.36%]\n",
            "Epoch [1200/3000] Step [1/10] Loss: [0.2092] Train ACC [90.62%]\n",
            "Epoch [1200/3000] Step [2/10] Loss: [0.3502] Train ACC [82.81%]\n",
            "Epoch [1200/3000] Step [3/10] Loss: [0.1921] Train ACC [93.75%]\n",
            "Epoch [1200/3000] Step [4/10] Loss: [0.2205] Train ACC [90.62%]\n",
            "Epoch [1200/3000] Step [5/10] Loss: [0.2750] Train ACC [87.50%]\n",
            "Epoch [1200/3000] Step [6/10] Loss: [0.2104] Train ACC [90.62%]\n",
            "Epoch [1200/3000] Step [7/10] Loss: [0.3715] Train ACC [82.81%]\n",
            "Epoch [1200/3000] Step [8/10] Loss: [0.2224] Train ACC [89.06%]\n",
            "Epoch [1200/3000] Step [9/10] Loss: [0.2285] Train ACC [90.62%]\n",
            "Epoch [1200/3000] Step [10/10] Loss: [0.1492] Train ACC [95.74%]\n",
            "Epoch [1300/3000] Step [1/10] Loss: [0.2714] Train ACC [87.50%]\n",
            "Epoch [1300/3000] Step [2/10] Loss: [0.1512] Train ACC [95.31%]\n",
            "Epoch [1300/3000] Step [3/10] Loss: [0.2853] Train ACC [87.50%]\n",
            "Epoch [1300/3000] Step [4/10] Loss: [0.1843] Train ACC [95.31%]\n",
            "Epoch [1300/3000] Step [5/10] Loss: [0.2983] Train ACC [89.06%]\n",
            "Epoch [1300/3000] Step [6/10] Loss: [0.2386] Train ACC [90.62%]\n",
            "Epoch [1300/3000] Step [7/10] Loss: [0.2057] Train ACC [92.19%]\n",
            "Epoch [1300/3000] Step [8/10] Loss: [0.2103] Train ACC [87.50%]\n",
            "Epoch [1300/3000] Step [9/10] Loss: [0.2892] Train ACC [87.50%]\n",
            "Epoch [1300/3000] Step [10/10] Loss: [0.2337] Train ACC [91.49%]\n",
            "Epoch [1400/3000] Step [1/10] Loss: [0.1659] Train ACC [95.31%]\n",
            "Epoch [1400/3000] Step [2/10] Loss: [0.2245] Train ACC [89.06%]\n",
            "Epoch [1400/3000] Step [3/10] Loss: [0.2635] Train ACC [89.06%]\n",
            "Epoch [1400/3000] Step [4/10] Loss: [0.3203] Train ACC [89.06%]\n",
            "Epoch [1400/3000] Step [5/10] Loss: [0.2160] Train ACC [89.06%]\n",
            "Epoch [1400/3000] Step [6/10] Loss: [0.2159] Train ACC [90.62%]\n",
            "Epoch [1400/3000] Step [7/10] Loss: [0.1230] Train ACC [95.31%]\n",
            "Epoch [1400/3000] Step [8/10] Loss: [0.2232] Train ACC [90.62%]\n",
            "Epoch [1400/3000] Step [9/10] Loss: [0.2614] Train ACC [90.62%]\n",
            "Epoch [1400/3000] Step [10/10] Loss: [0.2840] Train ACC [85.11%]\n",
            "Epoch [1500/3000] Step [1/10] Loss: [0.2230] Train ACC [89.06%]\n",
            "Epoch [1500/3000] Step [2/10] Loss: [0.1288] Train ACC [95.31%]\n",
            "Epoch [1500/3000] Step [3/10] Loss: [0.2384] Train ACC [90.62%]\n",
            "Epoch [1500/3000] Step [4/10] Loss: [0.3563] Train ACC [81.25%]\n",
            "Epoch [1500/3000] Step [5/10] Loss: [0.2367] Train ACC [89.06%]\n",
            "Epoch [1500/3000] Step [6/10] Loss: [0.1569] Train ACC [96.88%]\n",
            "Epoch [1500/3000] Step [7/10] Loss: [0.2121] Train ACC [90.62%]\n",
            "Epoch [1500/3000] Step [8/10] Loss: [0.2570] Train ACC [89.06%]\n",
            "Epoch [1500/3000] Step [9/10] Loss: [0.1787] Train ACC [90.62%]\n",
            "Epoch [1500/3000] Step [10/10] Loss: [0.2940] Train ACC [89.36%]\n",
            "Epoch [1600/3000] Step [1/10] Loss: [0.1912] Train ACC [92.19%]\n",
            "Epoch [1600/3000] Step [2/10] Loss: [0.2414] Train ACC [92.19%]\n",
            "Epoch [1600/3000] Step [3/10] Loss: [0.2937] Train ACC [87.50%]\n",
            "Epoch [1600/3000] Step [4/10] Loss: [0.0975] Train ACC [95.31%]\n",
            "Epoch [1600/3000] Step [5/10] Loss: [0.2699] Train ACC [85.94%]\n",
            "Epoch [1600/3000] Step [6/10] Loss: [0.2610] Train ACC [89.06%]\n",
            "Epoch [1600/3000] Step [7/10] Loss: [0.2028] Train ACC [92.19%]\n",
            "Epoch [1600/3000] Step [8/10] Loss: [0.1443] Train ACC [95.31%]\n",
            "Epoch [1600/3000] Step [9/10] Loss: [0.2720] Train ACC [89.06%]\n",
            "Epoch [1600/3000] Step [10/10] Loss: [0.3040] Train ACC [87.23%]\n",
            "Epoch [1700/3000] Step [1/10] Loss: [0.2899] Train ACC [87.50%]\n",
            "Epoch [1700/3000] Step [2/10] Loss: [0.2773] Train ACC [90.62%]\n",
            "Epoch [1700/3000] Step [3/10] Loss: [0.1637] Train ACC [92.19%]\n",
            "Epoch [1700/3000] Step [4/10] Loss: [0.2771] Train ACC [84.38%]\n",
            "Epoch [1700/3000] Step [5/10] Loss: [0.2205] Train ACC [90.62%]\n",
            "Epoch [1700/3000] Step [6/10] Loss: [0.1624] Train ACC [93.75%]\n",
            "Epoch [1700/3000] Step [7/10] Loss: [0.2068] Train ACC [92.19%]\n",
            "Epoch [1700/3000] Step [8/10] Loss: [0.2609] Train ACC [89.06%]\n",
            "Epoch [1700/3000] Step [9/10] Loss: [0.1520] Train ACC [93.75%]\n",
            "Epoch [1700/3000] Step [10/10] Loss: [0.1932] Train ACC [91.49%]\n",
            "Epoch [1800/3000] Step [1/10] Loss: [0.1407] Train ACC [95.31%]\n",
            "Epoch [1800/3000] Step [2/10] Loss: [0.1615] Train ACC [90.62%]\n",
            "Epoch [1800/3000] Step [3/10] Loss: [0.1945] Train ACC [90.62%]\n",
            "Epoch [1800/3000] Step [4/10] Loss: [0.1656] Train ACC [95.31%]\n",
            "Epoch [1800/3000] Step [5/10] Loss: [0.2597] Train ACC [87.50%]\n",
            "Epoch [1800/3000] Step [6/10] Loss: [0.3149] Train ACC [85.94%]\n",
            "Epoch [1800/3000] Step [7/10] Loss: [0.2973] Train ACC [85.94%]\n",
            "Epoch [1800/3000] Step [8/10] Loss: [0.2603] Train ACC [89.06%]\n",
            "Epoch [1800/3000] Step [9/10] Loss: [0.2048] Train ACC [90.62%]\n",
            "Epoch [1800/3000] Step [10/10] Loss: [0.2303] Train ACC [91.49%]\n",
            "Epoch [1900/3000] Step [1/10] Loss: [0.1347] Train ACC [95.31%]\n",
            "Epoch [1900/3000] Step [2/10] Loss: [0.1528] Train ACC [93.75%]\n",
            "Epoch [1900/3000] Step [3/10] Loss: [0.2079] Train ACC [90.62%]\n",
            "Epoch [1900/3000] Step [4/10] Loss: [0.2829] Train ACC [85.94%]\n",
            "Epoch [1900/3000] Step [5/10] Loss: [0.1539] Train ACC [95.31%]\n",
            "Epoch [1900/3000] Step [6/10] Loss: [0.1897] Train ACC [90.62%]\n",
            "Epoch [1900/3000] Step [7/10] Loss: [0.3088] Train ACC [90.62%]\n",
            "Epoch [1900/3000] Step [8/10] Loss: [0.1949] Train ACC [90.62%]\n",
            "Epoch [1900/3000] Step [9/10] Loss: [0.2515] Train ACC [89.06%]\n",
            "Epoch [1900/3000] Step [10/10] Loss: [0.3638] Train ACC [80.85%]\n",
            "Epoch [2000/3000] Step [1/10] Loss: [0.2074] Train ACC [90.62%]\n",
            "Epoch [2000/3000] Step [2/10] Loss: [0.1674] Train ACC [96.88%]\n",
            "Epoch [2000/3000] Step [3/10] Loss: [0.2814] Train ACC [85.94%]\n",
            "Epoch [2000/3000] Step [4/10] Loss: [0.2776] Train ACC [82.81%]\n",
            "Epoch [2000/3000] Step [5/10] Loss: [0.1169] Train ACC [96.88%]\n",
            "Epoch [2000/3000] Step [6/10] Loss: [0.1413] Train ACC [93.75%]\n",
            "Epoch [2000/3000] Step [7/10] Loss: [0.1994] Train ACC [92.19%]\n",
            "Epoch [2000/3000] Step [8/10] Loss: [0.3237] Train ACC [84.38%]\n",
            "Epoch [2000/3000] Step [9/10] Loss: [0.1986] Train ACC [90.62%]\n",
            "Epoch [2000/3000] Step [10/10] Loss: [0.2301] Train ACC [89.36%]\n",
            "Epoch [2100/3000] Step [1/10] Loss: [0.2367] Train ACC [90.62%]\n",
            "Epoch [2100/3000] Step [2/10] Loss: [0.2680] Train ACC [89.06%]\n",
            "Epoch [2100/3000] Step [3/10] Loss: [0.1332] Train ACC [96.88%]\n",
            "Epoch [2100/3000] Step [4/10] Loss: [0.3251] Train ACC [84.38%]\n",
            "Epoch [2100/3000] Step [5/10] Loss: [0.2730] Train ACC [89.06%]\n",
            "Epoch [2100/3000] Step [6/10] Loss: [0.1606] Train ACC [92.19%]\n",
            "Epoch [2100/3000] Step [7/10] Loss: [0.0989] Train ACC [98.44%]\n",
            "Epoch [2100/3000] Step [8/10] Loss: [0.1678] Train ACC [93.75%]\n",
            "Epoch [2100/3000] Step [9/10] Loss: [0.2939] Train ACC [85.94%]\n",
            "Epoch [2100/3000] Step [10/10] Loss: [0.1560] Train ACC [95.74%]\n",
            "Epoch [2200/3000] Step [1/10] Loss: [0.2974] Train ACC [84.38%]\n",
            "Epoch [2200/3000] Step [2/10] Loss: [0.1719] Train ACC [90.62%]\n",
            "Epoch [2200/3000] Step [3/10] Loss: [0.1969] Train ACC [92.19%]\n",
            "Epoch [2200/3000] Step [4/10] Loss: [0.1952] Train ACC [89.06%]\n",
            "Epoch [2200/3000] Step [5/10] Loss: [0.2904] Train ACC [90.62%]\n",
            "Epoch [2200/3000] Step [6/10] Loss: [0.1637] Train ACC [95.31%]\n",
            "Epoch [2200/3000] Step [7/10] Loss: [0.2092] Train ACC [92.19%]\n",
            "Epoch [2200/3000] Step [8/10] Loss: [0.1802] Train ACC [92.19%]\n",
            "Epoch [2200/3000] Step [9/10] Loss: [0.1957] Train ACC [92.19%]\n",
            "Epoch [2200/3000] Step [10/10] Loss: [0.1872] Train ACC [91.49%]\n",
            "Epoch [2300/3000] Step [1/10] Loss: [0.1577] Train ACC [92.19%]\n",
            "Epoch [2300/3000] Step [2/10] Loss: [0.1968] Train ACC [92.19%]\n",
            "Epoch [2300/3000] Step [3/10] Loss: [0.2238] Train ACC [92.19%]\n",
            "Epoch [2300/3000] Step [4/10] Loss: [0.1762] Train ACC [92.19%]\n",
            "Epoch [2300/3000] Step [5/10] Loss: [0.2331] Train ACC [92.19%]\n",
            "Epoch [2300/3000] Step [6/10] Loss: [0.2466] Train ACC [90.62%]\n",
            "Epoch [2300/3000] Step [7/10] Loss: [0.2298] Train ACC [90.62%]\n",
            "Epoch [2300/3000] Step [8/10] Loss: [0.2207] Train ACC [90.62%]\n",
            "Epoch [2300/3000] Step [9/10] Loss: [0.2173] Train ACC [89.06%]\n",
            "Epoch [2300/3000] Step [10/10] Loss: [0.2776] Train ACC [85.11%]\n",
            "Epoch [2400/3000] Step [1/10] Loss: [0.2406] Train ACC [90.62%]\n",
            "Epoch [2400/3000] Step [2/10] Loss: [0.2382] Train ACC [90.62%]\n",
            "Epoch [2400/3000] Step [3/10] Loss: [0.2278] Train ACC [89.06%]\n",
            "Epoch [2400/3000] Step [4/10] Loss: [0.1830] Train ACC [92.19%]\n",
            "Epoch [2400/3000] Step [5/10] Loss: [0.2240] Train ACC [92.19%]\n",
            "Epoch [2400/3000] Step [6/10] Loss: [0.2170] Train ACC [92.19%]\n",
            "Epoch [2400/3000] Step [7/10] Loss: [0.2478] Train ACC [87.50%]\n",
            "Epoch [2400/3000] Step [8/10] Loss: [0.1331] Train ACC [93.75%]\n",
            "Epoch [2400/3000] Step [9/10] Loss: [0.2022] Train ACC [89.06%]\n",
            "Epoch [2400/3000] Step [10/10] Loss: [0.2665] Train ACC [87.23%]\n",
            "Epoch [2500/3000] Step [1/10] Loss: [0.1611] Train ACC [92.19%]\n",
            "Epoch [2500/3000] Step [2/10] Loss: [0.2667] Train ACC [87.50%]\n",
            "Epoch [2500/3000] Step [3/10] Loss: [0.2363] Train ACC [89.06%]\n",
            "Epoch [2500/3000] Step [4/10] Loss: [0.2512] Train ACC [92.19%]\n",
            "Epoch [2500/3000] Step [5/10] Loss: [0.1874] Train ACC [90.62%]\n",
            "Epoch [2500/3000] Step [6/10] Loss: [0.2342] Train ACC [89.06%]\n",
            "Epoch [2500/3000] Step [7/10] Loss: [0.2026] Train ACC [90.62%]\n",
            "Epoch [2500/3000] Step [8/10] Loss: [0.1804] Train ACC [89.06%]\n",
            "Epoch [2500/3000] Step [9/10] Loss: [0.1926] Train ACC [92.19%]\n",
            "Epoch [2500/3000] Step [10/10] Loss: [0.1930] Train ACC [93.62%]\n",
            "Epoch [2600/3000] Step [1/10] Loss: [0.1414] Train ACC [95.31%]\n",
            "Epoch [2600/3000] Step [2/10] Loss: [0.1910] Train ACC [92.19%]\n",
            "Epoch [2600/3000] Step [3/10] Loss: [0.1487] Train ACC [95.31%]\n",
            "Epoch [2600/3000] Step [4/10] Loss: [0.2689] Train ACC [89.06%]\n",
            "Epoch [2600/3000] Step [5/10] Loss: [0.2361] Train ACC [87.50%]\n",
            "Epoch [2600/3000] Step [6/10] Loss: [0.2211] Train ACC [90.62%]\n",
            "Epoch [2600/3000] Step [7/10] Loss: [0.2173] Train ACC [89.06%]\n",
            "Epoch [2600/3000] Step [8/10] Loss: [0.2329] Train ACC [90.62%]\n",
            "Epoch [2600/3000] Step [9/10] Loss: [0.1679] Train ACC [93.75%]\n",
            "Epoch [2600/3000] Step [10/10] Loss: [0.1893] Train ACC [89.36%]\n",
            "Epoch [2700/3000] Step [1/10] Loss: [0.1654] Train ACC [92.19%]\n",
            "Epoch [2700/3000] Step [2/10] Loss: [0.1127] Train ACC [96.88%]\n",
            "Epoch [2700/3000] Step [3/10] Loss: [0.1250] Train ACC [96.88%]\n",
            "Epoch [2700/3000] Step [4/10] Loss: [0.1647] Train ACC [95.31%]\n",
            "Epoch [2700/3000] Step [5/10] Loss: [0.2041] Train ACC [92.19%]\n",
            "Epoch [2700/3000] Step [6/10] Loss: [0.2862] Train ACC [84.38%]\n",
            "Epoch [2700/3000] Step [7/10] Loss: [0.2273] Train ACC [92.19%]\n",
            "Epoch [2700/3000] Step [8/10] Loss: [0.2384] Train ACC [90.62%]\n",
            "Epoch [2700/3000] Step [9/10] Loss: [0.2140] Train ACC [89.06%]\n",
            "Epoch [2700/3000] Step [10/10] Loss: [0.2679] Train ACC [87.23%]\n",
            "Epoch [2800/3000] Step [1/10] Loss: [0.2178] Train ACC [92.19%]\n",
            "Epoch [2800/3000] Step [2/10] Loss: [0.1636] Train ACC [96.88%]\n",
            "Epoch [2800/3000] Step [3/10] Loss: [0.3033] Train ACC [87.50%]\n",
            "Epoch [2800/3000] Step [4/10] Loss: [0.1956] Train ACC [92.19%]\n",
            "Epoch [2800/3000] Step [5/10] Loss: [0.2347] Train ACC [89.06%]\n",
            "Epoch [2800/3000] Step [6/10] Loss: [0.2123] Train ACC [92.19%]\n",
            "Epoch [2800/3000] Step [7/10] Loss: [0.1692] Train ACC [92.19%]\n",
            "Epoch [2800/3000] Step [8/10] Loss: [0.1227] Train ACC [93.75%]\n",
            "Epoch [2800/3000] Step [9/10] Loss: [0.1853] Train ACC [90.62%]\n",
            "Epoch [2800/3000] Step [10/10] Loss: [0.1051] Train ACC [95.74%]\n",
            "Epoch [2900/3000] Step [1/10] Loss: [0.1676] Train ACC [90.62%]\n",
            "Epoch [2900/3000] Step [2/10] Loss: [0.1603] Train ACC [95.31%]\n",
            "Epoch [2900/3000] Step [3/10] Loss: [0.1819] Train ACC [92.19%]\n",
            "Epoch [2900/3000] Step [4/10] Loss: [0.2460] Train ACC [84.38%]\n",
            "Epoch [2900/3000] Step [5/10] Loss: [0.2608] Train ACC [93.75%]\n",
            "Epoch [2900/3000] Step [6/10] Loss: [0.2225] Train ACC [89.06%]\n",
            "Epoch [2900/3000] Step [7/10] Loss: [0.1754] Train ACC [93.75%]\n",
            "Epoch [2900/3000] Step [8/10] Loss: [0.1474] Train ACC [95.31%]\n",
            "Epoch [2900/3000] Step [9/10] Loss: [0.3583] Train ACC [84.38%]\n",
            "Epoch [2900/3000] Step [10/10] Loss: [0.1450] Train ACC [95.74%]\n",
            "Epoch [3000/3000] Step [1/10] Loss: [0.1380] Train ACC [92.19%]\n",
            "Epoch [3000/3000] Step [2/10] Loss: [0.1269] Train ACC [96.88%]\n",
            "Epoch [3000/3000] Step [3/10] Loss: [0.1144] Train ACC [95.31%]\n",
            "Epoch [3000/3000] Step [4/10] Loss: [0.1837] Train ACC [93.75%]\n",
            "Epoch [3000/3000] Step [5/10] Loss: [0.2065] Train ACC [92.19%]\n",
            "Epoch [3000/3000] Step [6/10] Loss: [0.2966] Train ACC [85.94%]\n",
            "Epoch [3000/3000] Step [7/10] Loss: [0.2820] Train ACC [85.94%]\n",
            "Epoch [3000/3000] Step [8/10] Loss: [0.2479] Train ACC [92.19%]\n",
            "Epoch [3000/3000] Step [9/10] Loss: [0.1894] Train ACC [89.06%]\n",
            "Epoch [3000/3000] Step [10/10] Loss: [0.1762] Train ACC [93.62%]\n"
          ]
        }
      ]
    },
    {
      "cell_type": "markdown",
      "source": [
        "### 4. Model evaluation"
      ],
      "metadata": {
        "id": "pAX9cmXpYQy-"
      }
    },
    {
      "cell_type": "code",
      "source": [
        "test_y_pred = []\n",
        "test_acc_list = []\n",
        "with torch.no_grad():\n",
        "    for X_batch, y_batch in test_loader:\n",
        "        # Forward\n",
        "        y_output = model(X_batch)\n",
        "\n",
        "        # misc\n",
        "        y_pred = torch.max(y_output, 1)[1]\n",
        "        test_y_pred.append(y_pred)\n",
        "\n",
        "        acc = accuracy_score(y_pred.data.cpu(), y_batch.data.cpu())\n",
        "        test_acc_list.append(acc)\n",
        "    test_acc = np.mean(test_acc_list)\n",
        "print('Test ACC: [{:.2f}%]'.format(test_acc * 100))"
      ],
      "metadata": {
        "colab": {
          "base_uri": "https://localhost:8080/"
        },
        "id": "kI379QE_c8Ri",
        "outputId": "11a45b9e-8458-4ee2-b759-7cc80a3c9fb3"
      },
      "execution_count": 112,
      "outputs": [
        {
          "output_type": "stream",
          "name": "stdout",
          "text": [
            "Test ACC: [77.61%]\n"
          ]
        }
      ]
    }
  ]
}