{
  "nbformat": 4,
  "nbformat_minor": 0,
  "metadata": {
    "colab": {
      "name": "21.그리디_알고리즘.ipynb",
      "provenance": [],
      "collapsed_sections": []
    },
    "kernelspec": {
      "name": "python3",
      "display_name": "Python 3"
    },
    "language_info": {
      "name": "python"
    }
  },
  "cells": [
    {
      "cell_type": "markdown",
      "source": [
        "<h1>1.주식을 사고팔기 가장 좋은 시점II</h1>\n",
        "<p>리트코드 122번</p>\n",
        "[링크](https://leetcode.com/problems/best-time-to-buy-and-sell-stock-ii/)"
      ],
      "metadata": {
        "id": "fSjvQfsqW_qV"
      }
    },
    {
      "cell_type": "code",
      "execution_count": null,
      "metadata": {
        "id": "8DWOohudWZBe"
      },
      "outputs": [],
      "source": [
        "# 그리디 알고리즘을 이용한 풀이\n",
        "# leetcode는 필요 모듈들을 이미 import함\n",
        "# Runtime : 64 ms Memory : 15.1 MB\n",
        "class Solution:\n",
        "    def maxProfit(self, prices: List[int]) -> int:\n",
        "        result = 0\n",
        "        \n",
        "        for i in range(len(prices) - 1):\n",
        "            if prices[i + 1] > prices[i]:\n",
        "                result += prices[i+1] - prices[i]\n",
        "        \n",
        "        return result\n"
      ]
    },
    {
      "cell_type": "code",
      "source": [
        "# 파이썬 다운 풀이\n",
        "# leetcode는 필요 모듈들을 이미 import함\n",
        "# Runtime : 118 ms Memory : 15.1 MB\n",
        "class Solution:\n",
        "    def maxProfit(self, prices: List[int]) -> int:\n",
        "        return sum(max(prices[i+1] - prices[i], 0) for i in range(len(prices)-1))\n"
      ],
      "metadata": {
        "id": "mzfOUI4taQAw"
      },
      "execution_count": null,
      "outputs": []
    },
    {
      "cell_type": "markdown",
      "source": [
        "<h1>2.키에 따른 대기열 재구성</h1>\n",
        "<p>리트코드 406번</p>\n",
        "[링크](https://leetcode.com/problems/queue-reconstruction-by-height/)"
      ],
      "metadata": {
        "id": "-LjRXXt_ahv3"
      }
    },
    {
      "cell_type": "code",
      "source": [
        "# 우선순위 큐를 이용한 풀이\n",
        "# leetcode는 필요 모듈들을 이미 import함\n",
        "# Runtime : 64 ms Memory : 15.1 MB\n",
        "class Solution:\n",
        "    def reconstructQueue(self, people: List[List[int]]) -> List[List[int]]:\n",
        "        heap = []\n",
        "        \n",
        "        for person in people:\n",
        "            heapq.heappush(heap, (-person[0], person[1]))\n",
        "            \n",
        "        result = []\n",
        "        \n",
        "        while heap:\n",
        "            person = heapq.heappop(heap)\n",
        "            result.insert(person[1], [-person[0], person[1]])\n",
        "        \n",
        "        return result\n"
      ],
      "metadata": {
        "id": "2vCLaqBVbPMm"
      },
      "execution_count": null,
      "outputs": []
    },
    {
      "cell_type": "markdown",
      "source": [
        "<h1>3.태스크 스케줄러</h1>\n",
        "<p>리트코드 621번</p>\n",
        "[링크](https://leetcode.com/problems/task-scheduler/)"
      ],
      "metadata": {
        "id": "MXz6HWaqbbmv"
      }
    },
    {
      "cell_type": "code",
      "source": [
        "# 우선순위 큐를 이용한 풀이\n",
        "# leetcode는 필요 모듈들을 이미 import함\n",
        "# Runtime : 1256 ms Memory : 14.4 MB\n",
        "class Solution:\n",
        "    def leastInterval(self, tasks: List[str], n: int) -> int:\n",
        "        counter = collections.Counter(tasks)\n",
        "        result = 0\n",
        "        \n",
        "        while True:\n",
        "            sub_count = 0\n",
        "            \n",
        "            for task, _ in counter.most_common(n + 1):\n",
        "                sub_count += 1\n",
        "                result += 1\n",
        "                \n",
        "                counter.subtract(task)\n",
        "                counter += collections.Counter()\n",
        "                \n",
        "            if not counter:\n",
        "                break\n",
        "            \n",
        "            result += n - sub_count + 1\n",
        "        \n",
        "        return result\n",
        "    "
      ],
      "metadata": {
        "id": "q3BEZq1Vbj-v"
      },
      "execution_count": null,
      "outputs": []
    },
    {
      "cell_type": "markdown",
      "source": [
        "<h1>4.주유소</h1>\n",
        "<p>리트코드 134번</p>\n",
        "[링크](https://leetcode.com/problems/gas-station/)"
      ],
      "metadata": {
        "id": "mF-lKTpDxB_W"
      }
    },
    {
      "cell_type": "code",
      "source": [
        "# 그리디 알고리즘을 이용한 풀이\n",
        "# leetcode는 필요 모듈들을 이미 import함\n",
        "# Runtime : 983 ms Memory : 19.3 MB\n",
        "class Solution:\n",
        "    def canCompleteCircuit(self, gas: List[int], cost: List[int]) -> int:\n",
        "        if sum(gas) < sum(cost):\n",
        "            return -1\n",
        "        \n",
        "        start = fuel = 0\n",
        "        \n",
        "        for i in range(len(gas)):\n",
        "            if gas[i] + fuel < cost[i]:\n",
        "                start = i + 1\n",
        "                fuel = 0\n",
        "            else:\n",
        "                fuel += gas[i] - cost[i]\n",
        "        \n",
        "        return start\n",
        "    "
      ],
      "metadata": {
        "id": "xkb_eO9Zzzin"
      },
      "execution_count": null,
      "outputs": []
    },
    {
      "cell_type": "markdown",
      "source": [
        "<h1>5.쿠키 부여</h1>\n",
        "<p>리트코드 455번</p>\n",
        "[링크](https://leetcode.com/problems/assign-cookies/)"
      ],
      "metadata": {
        "id": "PghJ_Yap0RPh"
      }
    },
    {
      "cell_type": "code",
      "source": [
        "# 그리디 알고리즘을 이용한 풀이\n",
        "# leetcode는 필요 모듈들을 이미 import함\n",
        "# Runtime : 240 ms Memory : 15.9 MB\n",
        "class Solution:\n",
        "    def findContentChildren(self, g: List[int], s: List[int]) -> int:\n",
        "        g.sort()\n",
        "        s.sort()\n",
        "        \n",
        "        child_i = cookie_j = 0\n",
        "        \n",
        "        while child_i < len(g) and cookie_j < len(s):\n",
        "            if s[cookie_j] >= g[child_i]:\n",
        "                child_i += 1\n",
        "            cookie_j += 1\n",
        "        \n",
        "        return child_i\n",
        "    "
      ],
      "metadata": {
        "id": "79Q4hR6r0rVu"
      },
      "execution_count": null,
      "outputs": []
    },
    {
      "cell_type": "code",
      "source": [
        "# 이진 검색을 이용한 풀이\n",
        "# leetcode는 필요 모듈들을 이미 import함\n",
        "# Runtime : 164 ms Memory : 15.9 MB\n",
        "class Solution:\n",
        "    def findContentChildren(self, g: List[int], s: List[int]) -> int:\n",
        "        g.sort()\n",
        "        s.sort()\n",
        "        \n",
        "        result = 0\n",
        "        \n",
        "        for i in s:\n",
        "            index = bisect.bisect_right(g, i)\n",
        "            if index > result:\n",
        "                result += 1\n",
        "        \n",
        "        return result\n",
        "    "
      ],
      "metadata": {
        "id": "MYmjP2a_2IJ5"
      },
      "execution_count": null,
      "outputs": []
    }
  ]
}