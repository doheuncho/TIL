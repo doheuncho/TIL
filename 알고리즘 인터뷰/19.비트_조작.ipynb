{
  "nbformat": 4,
  "nbformat_minor": 0,
  "metadata": {
    "colab": {
      "name": "19.비트_조작.ipynb",
      "provenance": [],
      "collapsed_sections": []
    },
    "kernelspec": {
      "name": "python3",
      "display_name": "Python 3"
    },
    "language_info": {
      "name": "python"
    }
  },
  "cells": [
    {
      "cell_type": "markdown",
      "source": [
        "<h1>1.싱글 넘버</h1>\n",
        "<p>리트코드 136번</p>\n",
        "[링크](https://leetcode.com/problems/single-number/)"
      ],
      "metadata": {
        "id": "_my-W3npKOiU"
      }
    },
    {
      "cell_type": "code",
      "execution_count": null,
      "metadata": {
        "id": "OSVqL4757oZf"
      },
      "outputs": [],
      "source": [
        "# XOR 연산을 이용한 풀이\n",
        "# leetcode는 필요 모듈들을 이미 import함\n",
        "# Runtime : 164 ms Memory : 16.6 MB\n",
        "class Solution:\n",
        "    def singleNumber(self, nums: List[int]) -> int:\n",
        "        result = 0\n",
        "        for num in nums:\n",
        "            result ^= num\n",
        "        \n",
        "        return result\n",
        "        "
      ]
    },
    {
      "cell_type": "markdown",
      "source": [
        "<h1>2.두 정수의 합</h1>\n",
        "<p>리트코드 371번</p>\n",
        "[링크](https://leetcode.com/problems/sum-of-two-integers/)"
      ],
      "metadata": {
        "id": "O7M3PAf_MyYp"
      }
    },
    {
      "cell_type": "code",
      "source": [
        "# 전가산기를 구현한 풀이\n",
        "# leetcode는 필요 모듈들을 이미 import함\n",
        "# Runtime : 48 ms Memory : 13.9 MB\n",
        "class Solution:\n",
        "    def getSum(self, a: int, b: int) -> int:\n",
        "        MASK = 0xFFFFFFFF\n",
        "        INT_MAX = 0x7FFFFFFF\n",
        "        \n",
        "        a_bin = bin(a & MASK)[2:].zfill(32)\n",
        "        b_bin = bin(b & MASK)[2:].zfill(32)\n",
        "        \n",
        "        result = []\n",
        "        carry = 0\n",
        "        sum_cal = 0\n",
        "        \n",
        "        for i in range(32):\n",
        "            A = int(a_bin[31-i])\n",
        "            B = int(b_bin[31-i])\n",
        "            \n",
        "            Q1 = A & B\n",
        "            Q2 = A ^ B\n",
        "            Q3 = Q2 & carry\n",
        "            sum_cal = carry ^ Q2\n",
        "            carry = Q1 | Q3\n",
        "            \n",
        "            result.append(str(sum_cal))\n",
        "        if carry == 1:\n",
        "            result.append('1')\n",
        "        \n",
        "        result = int(''.join(result[::-1]), 2) & MASK\n",
        "        \n",
        "        if result > INT_MAX:\n",
        "            result = ~(result ^ MASK)\n",
        "            \n",
        "        return result\n",
        "        "
      ],
      "metadata": {
        "id": "y1GeAXtlM4yC"
      },
      "execution_count": null,
      "outputs": []
    },
    {
      "cell_type": "code",
      "source": [
        "# 간소화한 풀이\n",
        "# leetcode는 필요 모듈들을 이미 import함\n",
        "# Runtime : 48 ms Memory : 13.8 MB\n",
        "class Solution:\n",
        "    def getSum(self, a: int, b: int) -> int:\n",
        "        MASK = 0xFFFFFFFF\n",
        "        INT_MAX = 0x7FFFFFFF\n",
        "        \n",
        "        while b != 0:\n",
        "            a, b = (a ^ b) & MASK, ((a & b) << 1) & MASK\n",
        "            \n",
        "        if a > INT_MAX:\n",
        "            a = ~(a ^ MASK)\n",
        "        \n",
        "        return a\n",
        "        "
      ],
      "metadata": {
        "id": "g_wW8q3IOmwf"
      },
      "execution_count": null,
      "outputs": []
    },
    {
      "cell_type": "markdown",
      "source": [
        "<h1>3.UTF-8 검증</h1>\n",
        "<p>리트코드 393번</p>\n",
        "[링크](https://leetcode.com/problems/utf-8-validation/)"
      ],
      "metadata": {
        "id": "sRiYomJ6PoDF"
      }
    },
    {
      "cell_type": "code",
      "source": [
        "# 첫 바이트를 기준으로 한 판별\n",
        "# leetcode는 필요 모듈들을 이미 import함\n",
        "# Runtime : 154 ms Memory : 14.3 MB\n",
        "class Solution:\n",
        "    def validUtf8(self, data: List[int]) -> bool:\n",
        "        def check(size):\n",
        "            for i in range(start+1, start+size+1):\n",
        "                if i >= len(data) or (data[i] >> 6) != 0b10:\n",
        "                    return False\n",
        "            return True\n",
        "        \n",
        "        start = 0\n",
        "        \n",
        "        while start < len(data):\n",
        "            first = data[start]\n",
        "            if (first >> 3) == 0b11110 and check(3):\n",
        "                start += 4\n",
        "            elif (first >> 4) == 0b1110 and check(2):\n",
        "                start += 3\n",
        "            elif (first >> 5) == 0b110 and check(1):\n",
        "                start += 2\n",
        "            elif (first >> 7) == 0:\n",
        "                start += 1\n",
        "            else:\n",
        "                return False\n",
        "        \n",
        "        return True\n",
        "        "
      ],
      "metadata": {
        "id": "ob4A2vmEQ_JM"
      },
      "execution_count": null,
      "outputs": []
    },
    {
      "cell_type": "markdown",
      "source": [
        "<h1>4.1비트의 개수</h1>\n",
        "<p>리트코드 191번</p>\n",
        "[링크](https://leetcode.com/problems/number-of-1-bits/)"
      ],
      "metadata": {
        "id": "xldT7IarRODj"
      }
    },
    {
      "cell_type": "code",
      "source": [
        "# count를 이용한 풀이\n",
        "# leetcode는 필요 모듈들을 이미 import함\n",
        "# Runtime : 50 ms Memory : 13.8 MB\n",
        "class Solution:\n",
        "    def hammingWeight(self, n: int) -> int:\n",
        "        return bin(n).count('1')\n"
      ],
      "metadata": {
        "id": "Fui61fUgRW4t"
      },
      "execution_count": null,
      "outputs": []
    },
    {
      "cell_type": "code",
      "source": [
        "# 비트 연산을 이용한 풀이\n",
        "# leetcode는 필요 모듈들을 이미 import함\n",
        "# Runtime : 32 ms Memory : 13.9 MB\n",
        "class Solution:\n",
        "    def hammingWeight(self, n: int) -> int:\n",
        "        count = 0\n",
        "        \n",
        "        while n:\n",
        "            n &= n-1\n",
        "            count += 1\n",
        "        \n",
        "        return count\n"
      ],
      "metadata": {
        "id": "mIVKcnBIRxJ8"
      },
      "execution_count": null,
      "outputs": []
    }
  ]
}