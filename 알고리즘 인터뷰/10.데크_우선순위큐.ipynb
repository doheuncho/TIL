{
  "nbformat": 4,
  "nbformat_minor": 0,
  "metadata": {
    "colab": {
      "name": "10.데크_우선순위큐.ipynb",
      "provenance": [],
      "collapsed_sections": []
    },
    "kernelspec": {
      "name": "python3",
      "display_name": "Python 3"
    },
    "language_info": {
      "name": "python"
    }
  },
  "cells": [
    {
      "cell_type": "markdown",
      "source": [
        "<h1>1.원형 데크 디자인</h1>\n",
        "<p>리트코드 641번</p>\n",
        "[링크](https://leetcode.com/problems/design-circular-deque/)"
      ],
      "metadata": {
        "id": "1f86MEgkMHzt"
      }
    },
    {
      "cell_type": "code",
      "execution_count": null,
      "metadata": {
        "id": "6RCEy2yJ2K5o"
      },
      "outputs": [],
      "source": [
        "# leetcode는 아래 모듈들을 미리 import함\n",
        "# Runtime : 88 ms Memory : 15.2 MB\n",
        "class MyCircularDeque:\n",
        "    def __init__(self, k: int):\n",
        "        self.head, self.tail = ListNode(None), ListNode(None)\n",
        "        self.k, self.len = k, 0\n",
        "        self.head.right, self.tail.left = self.tail, self.head\n",
        "\n",
        "    def add(self, node: ListNode, new: ListNode):\n",
        "        n = node.right\n",
        "        node.right = new\n",
        "        new.left, new.right = node, n\n",
        "        n.left = new\n",
        "        \n",
        "    def delete(self, node: ListNode):\n",
        "        n = node.right.right\n",
        "        node.right = n\n",
        "        n.left = node\n",
        "    \n",
        "    def insertFront(self, value: int) -> bool:\n",
        "        if self.len == self.k:\n",
        "            return False\n",
        "        self.len += 1\n",
        "        self.add(self.head, ListNode(value))\n",
        "        return True\n",
        "        \n",
        "    def insertLast(self, value: int) -> bool:\n",
        "        if self.len == self.k:\n",
        "            return False\n",
        "        self.len += 1\n",
        "        self.add(self.tail.left, ListNode(value))\n",
        "        return True\n",
        "\n",
        "    def deleteFront(self) -> bool:\n",
        "        if self.len == 0:\n",
        "            return False\n",
        "        self.len -= 1\n",
        "        self.delete(self.head)\n",
        "        return True\n",
        "\n",
        "    def deleteLast(self) -> bool:\n",
        "        if self.len == 0:\n",
        "            return False\n",
        "        self.len -= 1\n",
        "        self.delete(self.tail.left.left)\n",
        "        return True\n",
        "\n",
        "    def getFront(self) -> int:\n",
        "        return self.head.right.val if self.len else -1\n",
        "\n",
        "    def getRear(self) -> int:\n",
        "        return self.tail.left.val if self.len else -1\n",
        "\n",
        "    def isEmpty(self) -> bool:\n",
        "        return self.len == 0\n",
        "\n",
        "    def isFull(self) -> bool:\n",
        "        return self.len == self.k\n"
      ]
    },
    {
      "cell_type": "markdown",
      "source": [
        "<h1>2.K개  정렬 리스트 병합</h1>\n",
        "<p>리트코드 23번</p>\n",
        "[링크](https://leetcode.com/problems/merge-k-sorted-lists/)"
      ],
      "metadata": {
        "id": "_y0qwNFxPr7P"
      }
    },
    {
      "cell_type": "code",
      "source": [
        "# 1.우선순위 큐를 이용한 풀이\n",
        "# leetcode는 아래 모듈들을 미리 import함\n",
        "# Runtime : 108 ms  Memory : 14.1 MB\n",
        "class Solution:\n",
        "    def mergeKLists(self, lists: List[Optional[ListNode]]) -> Optional[ListNode]:\n",
        "        root = result = ListNode(None)\n",
        "        heap = []\n",
        "        \n",
        "        for i in range(len(lists)):\n",
        "            if lists[i]:\n",
        "                heapq.heappush(heap, (lists[i].val, i, lists[i]))\n",
        "            \n",
        "        while heap:\n",
        "            node = heapq.heappop(heap)\n",
        "            idx = node[1]\n",
        "            result.next = node[2]\n",
        "            \n",
        "            result = result.next\n",
        "            if result.next:\n",
        "                heapq.heappush(heap, (result.next.val, idx, result.next))\n",
        "        \n",
        "        return root.next\n",
        "        "
      ],
      "metadata": {
        "id": "8kkM4ITWPtOV"
      },
      "execution_count": null,
      "outputs": []
    }
  ]
}