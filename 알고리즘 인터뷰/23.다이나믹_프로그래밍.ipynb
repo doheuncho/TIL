{
  "nbformat": 4,
  "nbformat_minor": 0,
  "metadata": {
    "colab": {
      "name": "23.다이나믹_프로그래밍.ipynb",
      "provenance": [],
      "collapsed_sections": []
    },
    "kernelspec": {
      "name": "python3",
      "display_name": "Python 3"
    },
    "language_info": {
      "name": "python"
    }
  },
  "cells": [
    {
      "cell_type": "markdown",
      "source": [
        "<h1>1.피보나치수</h1>\n",
        "<p>리트코드 509번</p>\n",
        "\n",
        "[링크](https://leetcode.com/problems/fibonacci-number/)"
      ],
      "metadata": {
        "id": "TBrkjZmtq8Il"
      }
    },
    {
      "cell_type": "code",
      "execution_count": null,
      "metadata": {
        "id": "iInIyQw1qSkq"
      },
      "outputs": [],
      "source": [
        "# 재귀 호출를 이용한 풀이\n",
        "# leetcode는 필요 모듈들을 이미 import함\n",
        "# Runtime : 820 ms Memory : 13.9 MB\n",
        "class Solution:\n",
        "    def fib(self, n: int) -> int:\n",
        "        if n <= 1:\n",
        "            return n\n",
        "        return self.fib(n-1) + self.fib(n-2)\n",
        "    "
      ]
    },
    {
      "cell_type": "code",
      "source": [
        "# 메모이제이션(하향식 DP)을 이용한 풀이\n",
        "# leetcode는 필요 모듈들을 이미 import함\n",
        "# Runtime : 29 ms Memory : 13.9 MB\n",
        "class Solution:\n",
        "    dp = collections.defaultdict(int)\n",
        "        \n",
        "    def fib(self, n: int) -> int:\n",
        "        if n <= 1:\n",
        "            return n\n",
        "        if self.dp[n]:\n",
        "            return self.dp[n]\n",
        "        self.dp[n] = self.fib(n-1) + self.fib(n-2)\n",
        "        \n",
        "        return self.dp[n]\n",
        "        "
      ],
      "metadata": {
        "id": "HObGX3AWrnP3"
      },
      "execution_count": null,
      "outputs": []
    },
    {
      "cell_type": "code",
      "source": [
        "# 탸뷸레이션(상향식 DP)을 이용한 풀이\n",
        "# leetcode는 필요 모듈들을 이미 import함\n",
        "# Runtime : 28 ms Memory : 14 MB\n",
        "class Solution:\n",
        "    dp = collections.defaultdict(int)\n",
        "        \n",
        "    def fib(self, n: int) -> int:\n",
        "        self.dp[0] = 0\n",
        "        self.dp[1] = 1\n",
        "        \n",
        "        for i in range(2, n+1):\n",
        "            self.dp[i] = self.dp[i-1] + self.dp[i-2]\n",
        "        \n",
        "        return self.dp[n]\n",
        "        "
      ],
      "metadata": {
        "id": "nztXn-K9wwns"
      },
      "execution_count": null,
      "outputs": []
    },
    {
      "cell_type": "code",
      "source": [
        "# 공간을 절약한 풀이\n",
        "# leetcode는 필요 모듈들을 이미 import함\n",
        "# Runtime : 60 ms Memory : 13.8 MB\n",
        "class Solution:\n",
        "    def fib(self, n: int) -> int:\n",
        "        x, y = 0, 1\n",
        "        for i in range(0, n):\n",
        "            x, y = y, x+y\n",
        "        \n",
        "        return x\n",
        "    "
      ],
      "metadata": {
        "id": "ZeXb3IJRwwip"
      },
      "execution_count": null,
      "outputs": []
    },
    {
      "cell_type": "markdown",
      "source": [
        "<h1>2.최대 서브 배열</h1>\n",
        "<p>리트코드 53번</p>\n",
        "\n",
        "[링크](https://leetcode.com/problems/maximum-subarray/)"
      ],
      "metadata": {
        "id": "aWzKYoVAyquf"
      }
    },
    {
      "cell_type": "code",
      "source": [
        "# 메모이제이션(하향식 DP)을 이용한 풀이\n",
        "# leetcode는 필요 모듈들을 이미 import함\n",
        "# Runtime : 767 ms Memory : 28.6 MB\n",
        "class Solution:\n",
        "    def maxSubArray(self, nums: List[int]) -> int:\n",
        "        for i in range(1, len(nums)):\n",
        "            nums[i] += nums[i-1] if nums[i-1] > 0 else 0\n",
        "        return max(nums)\n",
        "    "
      ],
      "metadata": {
        "id": "Xg1ySYKfxqle"
      },
      "execution_count": null,
      "outputs": []
    },
    {
      "cell_type": "code",
      "source": [
        "# 카데인 알고리즘을 이용한 풀이\n",
        "# leetcode는 필요 모듈들을 이미 import함\n",
        "# Runtime : 1305 ms Memory : 28 MB\n",
        "class Solution:\n",
        "    def maxSubArray(self, nums: List[int]) -> int:\n",
        "        best_sum = -sys.maxsize\n",
        "        current_sum = 0\n",
        "        for num in nums:\n",
        "            current_sum = max(num, current_sum + num)\n",
        "            best_sum = max(best_sum, current_sum)\n",
        "        \n",
        "        return best_sum\n",
        "    "
      ],
      "metadata": {
        "id": "ecRr302_zRUp"
      },
      "execution_count": null,
      "outputs": []
    },
    {
      "cell_type": "markdown",
      "source": [
        "<h1>3.집 도둑</h1>\n",
        "<p>리트코드 198번</p>\n",
        "\n",
        "[링크](https://leetcode.com/problems/house-robber/)"
      ],
      "metadata": {
        "id": "9dDB2KBh25cQ"
      }
    },
    {
      "cell_type": "code",
      "source": [
        "# 탸뷸레이션(상향식 DP)을 이용한 풀이\n",
        "# leetcode는 필요 모듈들을 이미 import함\n",
        "# Runtime : 32 ms Memory : 14 MB\n",
        "class Solution:\n",
        "    def rob(self, nums: List[int]) -> int:\n",
        "        if not nums:\n",
        "            return 0\n",
        "        if len(nums) <= 2:\n",
        "            return max(nums)\n",
        "        \n",
        "        dp = collections.OrderedDict()\n",
        "        dp[0], dp[1] = nums[0], max(nums[0], nums[1])\n",
        "        \n",
        "        for i in range(2, len(nums)):\n",
        "            dp[i] = max(dp[i-1], dp[i-2] + nums[i])\n",
        "            \n",
        "        return dp.popitem()[1]\n"
      ],
      "metadata": {
        "id": "pyeGdIRX9F_M"
      },
      "execution_count": null,
      "outputs": []
    }
  ]
}