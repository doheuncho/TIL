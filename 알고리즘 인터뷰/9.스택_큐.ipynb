{
  "nbformat": 4,
  "nbformat_minor": 0,
  "metadata": {
    "colab": {
      "name": "9.스택_큐.ipynb",
      "provenance": [],
      "collapsed_sections": []
    },
    "kernelspec": {
      "name": "python3",
      "display_name": "Python 3"
    },
    "language_info": {
      "name": "python"
    }
  },
  "cells": [
    {
      "cell_type": "markdown",
      "source": [
        "<h1>1.유효한 괄호</h1>\n",
        "<p>리트코드 20번</p>\n",
        "[링크](https://leetcode.com/problems/valid-parentheses/)"
      ],
      "metadata": {
        "id": "m4LhchOb2xrC"
      }
    },
    {
      "cell_type": "code",
      "execution_count": null,
      "metadata": {
        "id": "GHZSXntLlUVw"
      },
      "outputs": [],
      "source": [
        "# 1.리스트 변환을 통한 풀이\n",
        "# leetcode는 아래 모듈들을 미리 import함\n",
        "# Runtime : 31 ms  Memory : 13.8 MB\n",
        "from typing import *\n",
        "\n",
        "\n",
        "class Solution:\n",
        "    def isValid(self, s: str) -> bool:\n",
        "        stack = []\n",
        "        table = {\n",
        "            ')' : '(',\n",
        "            '}' : '{',\n",
        "            ']' : '[',\n",
        "        }\n",
        "        \n",
        "        for char in s:\n",
        "            if char not in table:\n",
        "                stack.append(char)\n",
        "            elif not stack or table[char] != stack.pop():\n",
        "                return False\n",
        "        \n",
        "        return len(stack) == 0\n",
        "    "
      ]
    },
    {
      "cell_type": "markdown",
      "source": [
        "<h1>2.중복 문자 제거</h1>\n",
        "<p>리트코드 316번</p>\n",
        "[링크](https://leetcode.com/problems/remove-duplicate-letters/)"
      ],
      "metadata": {
        "id": "vcyyYXVvAY_t"
      }
    },
    {
      "cell_type": "code",
      "source": [
        "# 1.재귀를 이용한 풀이\n",
        "# leetcode는 아래 모듈들을 미리 import함\n",
        "# Runtime : 108 ms  Memory : 14.1 MB\n",
        "from typing import *\n",
        "\n",
        "\n",
        "class Solution:\n",
        "    def removeDuplicateLetters(self, s: str) -> str:\n",
        "        for char in sorted(set(s)):\n",
        "            suffix = s[s.index(char):]\n",
        "            if set(s) == set(suffix):\n",
        "                return char + self.removeDuplicateLetters(suffix.replace(char, ''))\n",
        "        return ''\n"
      ],
      "metadata": {
        "id": "kxocWr4vAZMZ"
      },
      "execution_count": null,
      "outputs": []
    },
    {
      "cell_type": "code",
      "source": [
        "# 1.스택를 이용한 풀이\n",
        "# leetcode는 아래 모듈들을 미리 import함\n",
        "# Runtime : 42 ms Memory : 14 MB\n",
        "from typing import *\n",
        "\n",
        "\n",
        "class Solution:\n",
        "    def removeDuplicateLetters(self, s: str) -> str:\n",
        "        counter, seen, stack = collections.Counter(s), set(), []\n",
        "        \n",
        "        for char in s:\n",
        "            counter[char] -= 1\n",
        "            if char in seen:\n",
        "                continue\n",
        "            \n",
        "            while stack and char < stack[-1] and counter[stack[-1]] > 0:\n",
        "                seen.remove(stack.pop())\n",
        "            stack.append(char)\n",
        "            seen.add(char)\n",
        "            \n",
        "        return ''.join(stack)\n"
      ],
      "metadata": {
        "id": "6IDK2uEPFhGK"
      },
      "execution_count": null,
      "outputs": []
    },
    {
      "cell_type": "markdown",
      "source": [
        "<h1>3.일일 온도</h1>\n",
        "<p>리트코드 739번</p>\n",
        "[링크](https://leetcode.com/problems/daily-temperatures/)"
      ],
      "metadata": {
        "id": "U5O1IOS8KOv0"
      }
    },
    {
      "cell_type": "code",
      "source": [
        "# 1.스택를 이용한 풀이\n",
        "# leetcode는 아래 모듈들을 미리 import함\n",
        "# Runtime : 1566 ms Memory : 24.6 MB\n",
        "from typing import *\n",
        "\n",
        "\n",
        "class Solution:\n",
        "    def dailyTemperatures(self, temperatures: List[int]) -> List[int]:\n",
        "        answer = [0] * len(temperatures)\n",
        "        stack = []\n",
        "        for i , cur in enumerate(temperatures):\n",
        "            while stack and cur > temperatures[stack[-1]]:\n",
        "                last = stack.pop()\n",
        "                answer[last] = i - last\n",
        "            stack.append(i)\n",
        "        \n",
        "        return answer\n",
        "    "
      ],
      "metadata": {
        "id": "lBKhWLKMKk1W"
      },
      "execution_count": null,
      "outputs": []
    },
    {
      "cell_type": "markdown",
      "source": [
        "<h1>4.큐를 이용한 스택 구현</h1>\n",
        "<p>리트코드 225번</p>\n",
        "[링크](https://leetcode.com/problems/implement-stack-using-queues/)"
      ],
      "metadata": {
        "id": "cDYyCYOrMvH9"
      }
    },
    {
      "cell_type": "code",
      "source": [
        "# leetcode는 아래 모듈들을 미리 import함\n",
        "# Runtime : 47 ms Memory : 14.1 MB\n",
        "from typing import *\n",
        "\n",
        "\n",
        "class MyStack:\n",
        "    def __init__(self):\n",
        "        self.q = collections.deque()\n",
        "        \n",
        "    def push(self, x: int) -> None:\n",
        "        self.q.append(x)\n",
        "        for _ in range(len(self.q)-1):\n",
        "            self.q.append(self.q.popleft())\n",
        "        \n",
        "    def pop(self) -> int:\n",
        "        return self.q.popleft()        \n",
        "\n",
        "    def top(self) -> int:\n",
        "        return self.q[0]        \n",
        "\n",
        "    def empty(self) -> bool:\n",
        "        return len(self.q) == 0\n"
      ],
      "metadata": {
        "id": "jw8me6zmMw84"
      },
      "execution_count": null,
      "outputs": []
    },
    {
      "cell_type": "markdown",
      "source": [
        "<h1>5.스택을 이용한 큐 구현</h1>\n",
        "<p>리트코드 232번</p>\n",
        "[링크](https://leetcode.com/problems/implement-queue-using-stacks/)"
      ],
      "metadata": {
        "id": "Mm8FpfemNt5q"
      }
    },
    {
      "cell_type": "code",
      "source": [
        "# leetcode는 아래 모듈들을 미리 import함\n",
        "# Runtime : 51 ms Memory : 13.9 MB\n",
        "from typing import *\n",
        "\n",
        "\n",
        "class MyQueue:\n",
        "    def __init__(self):\n",
        "        self.input = []\n",
        "        self.output = []        \n",
        "\n",
        "    def push(self, x: int) -> None:\n",
        "        self.input.append(x)        \n",
        "\n",
        "    def pop(self) -> int:\n",
        "        self.peek()\n",
        "        return self.output.pop()\n",
        "\n",
        "    def peek(self) -> int:\n",
        "        if not self.output:\n",
        "            while self.input:\n",
        "                self.output.append(self.input.pop())\n",
        "        return self.output[-1]\n",
        "\n",
        "    def empty(self) -> bool:\n",
        "        return self.input == [] and self.output == []\n"
      ],
      "metadata": {
        "id": "_9NhuvTQN1Jm"
      },
      "execution_count": null,
      "outputs": []
    },
    {
      "cell_type": "markdown",
      "source": [
        "<h1>6.원형 큐 디자인</h1>\n",
        "<p>리트코드 622번</p>\n",
        "[링크](https://leetcode.com/problems/design-circular-queue/)"
      ],
      "metadata": {
        "id": "LRRBfgV6RGzI"
      }
    },
    {
      "cell_type": "code",
      "source": [
        "# 배열과 두 포인터를 이용한 풀이.\n",
        "# leetcode는 아래 모듈들을 미리 import함\n",
        "# Runtime : 64 ms Memory : 14.6 MB\n",
        "from typing import *\n",
        "\n",
        "\n",
        "class MyCircularQueue:\n",
        "    def __init__(self, k: int):\n",
        "        self.q = [None] * k\n",
        "        self.maxlen = k\n",
        "        self.p1 = 0\n",
        "        self.p2 = 0\n",
        "\n",
        "    def enQueue(self, value: int) -> bool:\n",
        "        if self.q[self.p2] is None:\n",
        "            self.q[self.p2] = value\n",
        "            self.p2 = (self.p2 + 1) % self.maxlen\n",
        "            return True\n",
        "        return False\n",
        "\n",
        "    def deQueue(self) -> bool:\n",
        "        if self.q[self.p1] is None:\n",
        "            return False\n",
        "        else:\n",
        "            self.q[self.p1] = None\n",
        "            self.p1 = (self.p1 + 1) % self.maxlen\n",
        "            return True\n",
        "\n",
        "    def Front(self) -> int:\n",
        "        return -1 if self.q[self.p1] is None else self.q[self.p1]\n",
        "\n",
        "    def Rear(self) -> int:\n",
        "        return -1 if self.q[self.p2 - 1] is None else self.q[self.p2 - 1]\n",
        "\n",
        "    def isEmpty(self) -> bool:\n",
        "        return self.p1 == self.p2 and self.q[self.p1] is None        \n",
        "\n",
        "    def isFull(self) -> bool:\n",
        "        return self.p1 == self.p2 and self.q[self.p1] is not None\n"
      ],
      "metadata": {
        "id": "F72K0D_4REfK"
      },
      "execution_count": null,
      "outputs": []
    }
  ]
}