{
  "nbformat": 4,
  "nbformat_minor": 0,
  "metadata": {
    "colab": {
      "name": "알고리즘 인터뷰(배열).ipynb",
      "provenance": [],
      "collapsed_sections": []
    },
    "kernelspec": {
      "name": "python3",
      "display_name": "Python 3"
    },
    "language_info": {
      "name": "python"
    }
  },
  "cells": [
    {
      "cell_type": "markdown",
      "metadata": {
        "id": "IF-_ePlbp8WE"
      },
      "source": [
        "<h1>1.두 수의 합</h1>\n",
        "<p>리트코드 1번</p>\n",
        "[링크](https://leetcode.com/problems/two-sum/)"
      ]
    },
    {
      "cell_type": "code",
      "metadata": {
        "id": "jVaOhFKjmc9U"
      },
      "source": [
        "# 1.브루트 포스를 이용한 풀이\n",
        "# Runtime : 5613 ms  Memory : 14.9 MB\n",
        "\n",
        "class Solution:\n",
        "    def twoSum(self, nums: List[int], target: int) -> List[int]:\n",
        "        for i in range(len(nums)):\n",
        "            for j in range(i + 1, len(nums)):\n",
        "                if nums[i] + nums[j] == target:\n",
        "                    return [i, j]\n"
      ],
      "execution_count": null,
      "outputs": []
    },
    {
      "cell_type": "code",
      "metadata": {
        "id": "iPpV5Gf2sdKS"
      },
      "source": [
        "# 2.in을 이용한 풀이\n",
        "# Runtime : 620 ms  Memory : 15 MB\n",
        "\n",
        "class Solution:\n",
        "    def twoSum(self, nums: List[int], target: int) -> List[int]:\n",
        "        for i, n in enumerate(nums):\n",
        "            complement = target - n\n",
        "\n",
        "            if complement in nums[i + 1:]:\n",
        "                # 두 수가 같은 경우 오류가 발생하므로 nums[i + 1:]에서 2번 째 index를 추출한다\n",
        "                return [i, nums[i + 1:].index(complement) + i + 1]\n"
      ],
      "execution_count": null,
      "outputs": []
    },
    {
      "cell_type": "code",
      "metadata": {
        "id": "K-W6WbuhuXk_"
      },
      "source": [
        "# 3.딕셔너리 key 조회를 이용한 풀이\n",
        "# Runtime : 60 ms  Memory : 15.5 MB\n",
        "\n",
        "class Solution:\n",
        "    def twoSum(self, nums: List[int], target: int) -> List[int]:\n",
        "        nums_map = {}\n",
        "        for i, num in enumerate(nums):\n",
        "            nums_map[num] = i\n",
        "        \n",
        "        for i, num in enumerate(nums):\n",
        "            if target - num in nums_map and i != nums_map[target - num]:\n",
        "                return [i, nums_map[target - num]]\n"
      ],
      "execution_count": null,
      "outputs": []
    },
    {
      "cell_type": "markdown",
      "metadata": {
        "id": "tKQ_lCQPzwQO"
      },
      "source": [
        "<h1>2.빗물 트래핑</h1>\n",
        "<p>리트코드 45번</p>\n",
        "[링크](https://leetcode.com/problems/trapping-rain-water/)"
      ]
    },
    {
      "cell_type": "code",
      "metadata": {
        "id": "08FK6l8311o1"
      },
      "source": [
        "# 1.투 포인터를 이용한 풀이\n",
        "# leetcode는 아래 모듈들을 미리 import함\n",
        "# Runtime : 107 ms  Memory : 15.8 MB\n",
        "from typing import *\n",
        "\n",
        "\n",
        "class Solution:\n",
        "    def trap(self, height: List[int]) -> int:\n",
        "        # 예외 조건\n",
        "        if not height:\n",
        "            return 0\n",
        "    \n",
        "        volume = 0\n",
        "        left, right = 0, len(height) - 1\n",
        "        left_max, right_max = height[left], height[right]\n",
        "\n",
        "        while left < right:\n",
        "            left_max, right_max = max(height[left], left_max), max(height[right], right_max)\n",
        "            # 더 높은 쪽으로 포인터 이동\n",
        "            if left_max <= right_max:\n",
        "                volume += left_max - height[left]\n",
        "                left += 1\n",
        "            else:\n",
        "                volume += right_max - height[right]\n",
        "                right -= 1\n",
        "        \n",
        "        return volume\n"
      ],
      "execution_count": null,
      "outputs": []
    },
    {
      "cell_type": "code",
      "metadata": {
        "id": "_fsZH1q6CJ_q"
      },
      "source": [
        "# 2.스택을 이용한 풀이\n",
        "# leetcode는 아래 모듈들을 미리 import함\n",
        "# Runtime : 87 ms  Memory : 15.6 MB\n",
        "from typing import *\n",
        "\n",
        "\n",
        "class Solution:\n",
        "    def trap(self, height: List[int]) -> int:\n",
        "        stack = []\n",
        "        volume = 0\n",
        "\n",
        "        for i in range(len(height)):\n",
        "            # 이전 위치(stack[-1])의 높이가 현재의 높이(height[i])보다 낮다면\n",
        "            while stack and height[i] > height[stack[-1]]:\n",
        "                top = stack.pop()\n",
        "\n",
        "                if not len(stack):\n",
        "                    break\n",
        "                \n",
        "                distance = i - stack[-1] - 1\n",
        "                waters = min(height[i], height[stack[-1]]) - height[top]\n",
        "\n",
        "                volume += distance * waters\n",
        "            \n",
        "            stack.append(i)\n",
        "        \n",
        "        return volume\n"
      ],
      "execution_count": null,
      "outputs": []
    },
    {
      "cell_type": "markdown",
      "metadata": {
        "id": "Z-6UTujPi6IY"
      },
      "source": [
        "<h1>3.세 수의 합</h1>\n",
        "<p>리트코드 15번</p>\n",
        "[링크](https://leetcode.com/problems/3sum/)"
      ]
    },
    {
      "cell_type": "code",
      "metadata": {
        "id": "2gGgQU2xjGW2"
      },
      "source": [
        "# 1.투 포인터를 이용한 풀이\n",
        "# leetcode는 아래 모듈들을 미리 import함\n",
        "# Runtime : 1707 ms  Memory : 17.6 MB\n",
        "from typing import *\n",
        "\n",
        "\n",
        "class Solution:\n",
        "    def threeSum(self, nums: List[int]) -> List[List[int]]:\n",
        "        results = []\n",
        "        nums.sort()\n",
        "\n",
        "        for i in range(len(nums) - 2):\n",
        "            # 만약 nums[i]가 nums[i-1]과 같다면 굳이 같은 수에 대해 검토할 필요는 없다.\n",
        "            if i > 0 and nums[i] == nums[i - 1]:\n",
        "                continue\n",
        "            # 투 포인터 생성\n",
        "            left, right = i + 1, len(nums) - 1\n",
        "            while left < right:\n",
        "                sum = nums[i] + nums[left] + nums[right]\n",
        "                if sum < 0:\n",
        "                    left += 1\n",
        "                elif sum > 0:\n",
        "                    right -= 1\n",
        "                else:\n",
        "                    results.append([nums[i], nums[left], nums[right]])\n",
        "                    # 마찬가지로 다음 포인터의 값이 이전 포인터의 값과 같다면 검토할 필요가 없음\n",
        "                    while left < right and nums[left] == nums[left + 1]:\n",
        "                        left += 1\n",
        "                    while left < right and nums[right] == nums[right - 1]:\n",
        "                        right -= 1\n",
        "                    left += 1\n",
        "                    right -= 1\n",
        "        \n",
        "        return results\n"
      ],
      "execution_count": null,
      "outputs": []
    },
    {
      "cell_type": "markdown",
      "metadata": {
        "id": "TvwRgRH-y3BP"
      },
      "source": [
        "<h1>4.배열 파티션 I</h1>\n",
        "<p>리트코드 561번</p>\n",
        "[링크](https://leetcode.com/problems/array-partition-i/)"
      ]
    },
    {
      "cell_type": "code",
      "metadata": {
        "id": "fhBhxP9N23Hc"
      },
      "source": [
        "# 1.오름차순 정렬을 이용한 풀이\n",
        "# leetcode는 아래 모듈들을 미리 import함\n",
        "# Runtime : 391 ms  Memory : 16.9 MB\n",
        "from typing import *\n",
        "\n",
        "\n",
        "class Solution:\n",
        "    def arrayPairSum(self, nums: List[int]) -> int:\n",
        "        sum = 0\n",
        "        pair = []\n",
        "        nums.sort()\n",
        "\n",
        "        for n in nums:\n",
        "            pair.append(n)\n",
        "            if len(pair) == 2:\n",
        "                sum += min(pair)\n",
        "                pair = []\n",
        "    \n",
        "        return sum\n"
      ],
      "execution_count": null,
      "outputs": []
    },
    {
      "cell_type": "code",
      "metadata": {
        "id": "ypRitI4hBpNg"
      },
      "source": [
        "# 2.오름차순 정렬 후 짝수번째 원소를 추출한 풀이\n",
        "# leetcode는 아래 모듈들을 미리 import함\n",
        "# Runtime : 276 ms  Memory : 16.7 MB\n",
        "from typing import *\n",
        "\n",
        "\n",
        "class Solution:\n",
        "    def arrayPairSum(self, nums: List[int]) -> int:\n",
        "        sum = 0\n",
        "        nums.sort()\n",
        "\n",
        "        for i, n in enumerate(nums):\n",
        "            if i % 2 == 0:\n",
        "                sum += n\n",
        "            \n",
        "        return sum\n"
      ],
      "execution_count": null,
      "outputs": []
    },
    {
      "cell_type": "code",
      "metadata": {
        "id": "-uI-Czj0CKeE"
      },
      "source": [
        "# 3.파이썬 다운 방식\n",
        "# leetcode는 아래 모듈들을 미리 import함\n",
        "# Runtime : 268 ms  Memory : 16.6 MB\n",
        "from typing import *\n",
        "\n",
        "\n",
        "class Solution:\n",
        "    def arrayPairSum(self, nums: List[int]) -> int:\n",
        "        return sum(sorted(nums)[::2])\n"
      ],
      "execution_count": null,
      "outputs": []
    },
    {
      "cell_type": "markdown",
      "metadata": {
        "id": "3V31apZTo-x_"
      },
      "source": [
        "<h1>5.자신을 제외한 배열의 곱</h1>\n",
        "<p>리트코드 238번</p>\n",
        "[링크](https://leetcode.com/problems/product-of-array-except-self/)"
      ]
    },
    {
      "cell_type": "code",
      "metadata": {
        "id": "YLHcz2iytwKp"
      },
      "source": [
        "# 1.왼쪽 곱셈결과 배열에 오른쪽 곱셈결과를 곱한 풀이\n",
        "# leetcode는 아래 모듈들을 미리 import함\n",
        "# Runtime : 232 ms  Memory : 21 MB\n",
        "from typing import *\n",
        "\n",
        "\n",
        "class Solution:\n",
        "    def productExceptSelf(self, nums: List[int]) -> List[int]:\n",
        "        out = []\n",
        "        p = 1\n",
        "        for i in range(len(nums)):\n",
        "            out.append(p)\n",
        "            p = p * nums[i]\n",
        "        p = 1\n",
        "        for i in range(len(nums) - 1, -1, -1):\n",
        "            out[i] = out[i] * p\n",
        "            p = p * nums[i]\n",
        "\n",
        "        return out\n"
      ],
      "execution_count": null,
      "outputs": []
    },
    {
      "cell_type": "markdown",
      "metadata": {
        "id": "AIazmfpmxeb-"
      },
      "source": [
        "<h1>6.주식을 사고팔기 가장 좋은 시점</h1>\n",
        "<p>리트코드 121번</p>\n",
        "[링크](https://leetcode.com/problems/best-time-to-buy-and-sell-stock/)"
      ]
    },
    {
      "cell_type": "code",
      "metadata": {
        "id": "siXTD3FZxxrx"
      },
      "source": [
        "# 0. 내 풀이(동적계획)\n",
        "# leetcode는 아래 모듈들을 미리 import함\n",
        "# Runtime : 956 ms  Memory : 24.8 MB\n",
        "from typing import *\n",
        "\n",
        "\n",
        "class Solution:\n",
        "    def maxProfit(self, prices: List[int]) -> int:\n",
        "        maxprofit = 0\n",
        "        buy_price = prices[0]\n",
        "        for i in range(1, len(prices)):\n",
        "            if buy_price > prices[i]:\n",
        "                buy_price = prices[i]\n",
        "            else:\n",
        "                cur_profit = prices[i] - buy_price\n",
        "                if cur_profit > maxprofit:\n",
        "                    maxprofit = cur_profit\n",
        "        \n",
        "        return maxprofit\n"
      ],
      "execution_count": null,
      "outputs": []
    },
    {
      "cell_type": "code",
      "metadata": {
        "id": "KhDEqYRm1qEw"
      },
      "source": [
        "# 1.왼쪽 곱셈결과 배열에 오른쪽 곱셈결과를 곱한 풀이\n",
        "# leetcode는 아래 모듈들을 미리 import함\n",
        "# Runtime : 1092 ms  Memory : 25.2 MB\n",
        "import sys\n",
        "from typing import *\n",
        "\n",
        "\n",
        "class Solution:\n",
        "    def maxProfit(self, prices: List[int]) -> int:\n",
        "        max_profit = 0\n",
        "        min_price = sys.maxsize\n",
        "\n",
        "        for price in prices:\n",
        "            min_price = min(min_price, price)\n",
        "            max_profit = max(max_profit, price - min_price)\n",
        "        \n",
        "        return max_profit\n"
      ],
      "execution_count": null,
      "outputs": []
    }
  ]
}
