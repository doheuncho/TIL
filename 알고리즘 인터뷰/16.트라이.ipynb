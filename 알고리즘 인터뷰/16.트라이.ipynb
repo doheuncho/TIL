{
  "nbformat": 4,
  "nbformat_minor": 0,
  "metadata": {
    "colab": {
      "name": "16.트라이.ipynb",
      "provenance": [],
      "collapsed_sections": []
    },
    "kernelspec": {
      "name": "python3",
      "display_name": "Python 3"
    },
    "language_info": {
      "name": "python"
    }
  },
  "cells": [
    {
      "cell_type": "markdown",
      "source": [
        "<h1>1.트라이 구현</h1>\n",
        "<p>리트코드 208번</p>\n",
        "[링크](https://leetcode.com/problems/implement-trie-prefix-tree/)"
      ],
      "metadata": {
        "id": "A2MEx9S9ZQXL"
      }
    },
    {
      "cell_type": "code",
      "execution_count": null,
      "metadata": {
        "id": "BPYySNxFYFj2"
      },
      "outputs": [],
      "source": [
        "# 딕셔너리를 이용한 풀이\n",
        "# leetcode는 필요 모듈들을 이미 import함\n",
        "# Runtime : 414 ms Memory : 32.1 MB\n",
        "class TrieNode:\n",
        "    def __init__(self):\n",
        "        self.end = False\n",
        "        self.children = collections.defaultdict(TrieNode)\n",
        "\n",
        "class Trie:\n",
        "    def __init__(self):\n",
        "        self.root = TrieNode()\n",
        "\n",
        "    def insert(self, word: str) -> None:\n",
        "        node = self.root\n",
        "        for char in word:\n",
        "            node = node.children[char]\n",
        "        node.end = True\n",
        "\n",
        "    def search(self, word: str) -> bool:\n",
        "        node = self.root\n",
        "        for char in word:\n",
        "            if char not in node.children:\n",
        "                return False\n",
        "            node = node.children[char]\n",
        "        \n",
        "        return node.end\n",
        "\n",
        "    def startsWith(self, prefix: str) -> bool:\n",
        "        node = self.root\n",
        "        for char in prefix:\n",
        "            if char not in node.children:\n",
        "                return False\n",
        "            node = node.children[char]\n",
        "        \n",
        "        return True"
      ]
    },
    {
      "cell_type": "markdown",
      "source": [
        "<h1>2.펠린드롬 페어</h1>\n",
        "<p>리트코드 336번</p>\n",
        "[링크](https://leetcode.com/problems/palindrome-pairs/)"
      ],
      "metadata": {
        "id": "VyJj2KxKe1aG"
      }
    },
    {
      "cell_type": "code",
      "source": [
        "# 브루트 포스를 이용한 풀이\n",
        "# leetcode는 필요 모듈들을 이미 import함\n",
        "# Time Limit Exceeded\n",
        "class Solution:\n",
        "    def palindromePairs(self, words: List[str]) -> List[List[int]]:\n",
        "        def is_palindrome(word):\n",
        "            return word == word[::-1]\n",
        "        \n",
        "        output = []\n",
        "        for i, word1 in enumerate(words):\n",
        "            for j, word2 in enumerate(words):\n",
        "                if i == j:\n",
        "                    continue\n",
        "                if is_palindrome(word1 + word2):\n",
        "                    output.append([i, j])\n",
        "        \n",
        "        return output\n",
        "    "
      ],
      "metadata": {
        "id": "zj5vRNsJkao5"
      },
      "execution_count": null,
      "outputs": []
    },
    {
      "cell_type": "code",
      "source": [
        "# 트라이를 이용한 풀이\n",
        "# leetcode는 필요 모듈들을 이미 import함\n",
        "# Runtime : 7479 ms Memory : 400.2 MB\n",
        "class TrieNode:\n",
        "    def __init__(self):\n",
        "        self.children = collections.defaultdict(TrieNode)\n",
        "        self.word_id = -1\n",
        "        self.palindrome_word_ids = []\n",
        "\n",
        "class Trie:\n",
        "    def __init__(self):\n",
        "        self.root = TrieNode()\n",
        "    \n",
        "    @staticmethod\n",
        "    def is_palindrome(word: str) -> bool:\n",
        "        return word[::] == word[::-1]\n",
        "    \n",
        "    def insert(self, index, word) -> None:\n",
        "        node = self.root\n",
        "        for i, char in enumerate(reversed(word)):\n",
        "            if self.is_palindrome(word[0:len(word)-i]):\n",
        "                node.palindrome_word_ids.append(index)\n",
        "            node = node.children[char]\n",
        "        node.word_id = index\n",
        "    \n",
        "    def search(self, index, word) -> List[List[int]]:\n",
        "        result = []\n",
        "        node = self.root\n",
        "        \n",
        "        while word:\n",
        "            if node.word_id >= 0:\n",
        "                if self.is_palindrome(word):\n",
        "                    result.append([index, node.word_id])\n",
        "            if not word[0] in node.children:\n",
        "                return result\n",
        "            node = node.children[word[0]]\n",
        "            word = word[1:]\n",
        "        \n",
        "        if node.word_id >=0 and node.word_id != index:\n",
        "            result.append([index, node.word_id])\n",
        "            \n",
        "        for palindrome_word_id in node.palindrome_word_ids:\n",
        "            result.append([index, palindrome_word_id])\n",
        "            \n",
        "        return result\n",
        "\n",
        "class Solution:\n",
        "    def palindromePairs(self, words: List[str]) -> List[List[int]]:\n",
        "        trie = Trie()\n",
        "        \n",
        "        for i, word in enumerate(words):\n",
        "            trie.insert(i, word)\n",
        "            \n",
        "        results = []\n",
        "        for i, word in enumerate(words):\n",
        "            results.extend(trie.search(i, word))\n",
        "            \n",
        "        return results\n",
        "    "
      ],
      "metadata": {
        "id": "Cli5nwc3lkgg"
      },
      "execution_count": null,
      "outputs": []
    }
  ]
}