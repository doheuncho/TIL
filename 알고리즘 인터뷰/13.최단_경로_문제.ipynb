{
  "cells": [
    {
      "cell_type": "markdown",
      "metadata": {
        "id": "1SIkchtMtZWu"
      },
      "source": [
        "<h1>1.네트워크 딜레이 타임</h1>\n",
        "<p>리트코드 743번</p>\n",
        "[링크](https://leetcode.com/problems/network-delay-time/)"
      ]
    },
    {
      "cell_type": "code",
      "execution_count": null,
      "metadata": {
        "id": "yYEsrIhctAYC"
      },
      "outputs": [],
      "source": [
        "# 다익스트라 알고리즘을 이용한 풀이\n",
        "# leetcode는 필요 모듈들을 이미 import함\n",
        "# Runtime : 673 ms Memory : 16.8 MB\n",
        "class Solution:\n",
        "    def networkDelayTime(self, times: List[List[int]], n: int, k: int) -> int:\n",
        "        graph = collections.defaultdict(list)\n",
        "        \n",
        "        for u, v, w in times:\n",
        "            graph[u].append((v, w))\n",
        "            \n",
        "        Q = [(0, k)]\n",
        "        dist = collections.defaultdict(int)\n",
        "        \n",
        "        while Q:\n",
        "            time, node = heapq.heappop(Q)\n",
        "            if node not in dist:\n",
        "                dist[node] = time\n",
        "                for v, w in graph[node]:\n",
        "                    alt = time + w\n",
        "                    heapq.heappush(Q, (alt, v))\n",
        "            \n",
        "            \n",
        "        if len(dist) == n:\n",
        "            return max(dist.values())\n",
        "        \n",
        "        return -1\n",
        "    "
      ]
    },
    {
      "cell_type": "markdown",
      "metadata": {
        "id": "u_SaKStlunjO"
      },
      "source": [
        "<h1>2.K경유지 내 가장 저렴한 항공권</h1>\n",
        "<p>리트코드 787번</p>\n",
        "[링크](https://leetcode.com/problems/cheapest-flights-within-k-stops/"
      ]
    },
    {
      "cell_type": "code",
      "execution_count": null,
      "metadata": {
        "id": "SfzsrVKuuhCh"
      },
      "outputs": [],
      "source": [
        "# 다익스트라 알고리즘을 이용한 풀이\n",
        "# leetcode는 필요 모듈들을 이미 import함\n",
        "# Time Limit Exceeded\n",
        "class Solution:\n",
        "    def findCheapestPrice(self, n: int, flights: List[List[int]], src: int, dst: int, k: int) -> int:\n",
        "        graph = collections.defaultdict(list)\n",
        "        \n",
        "        for  u, v, w in flights:\n",
        "            graph[u].append((v, w))\n",
        "            \n",
        "        queue = [(0, src, k)]\n",
        "        \n",
        "        while queue:\n",
        "            price, node, k = heapq.heappop(queue)\n",
        "            if node == dst:\n",
        "                return price\n",
        "            if k >= 0:\n",
        "                for v, w in graph[node]:\n",
        "                    alt = price + w\n",
        "                    heapq.heappush(queue, (alt, v, k-1))\n",
        "        \n",
        "        return -1\n",
        "    "
      ]
    },
    {
      "cell_type": "code",
      "execution_count": null,
      "metadata": {
        "id": "AcKZdU9IIQOs"
      },
      "outputs": [],
      "source": [
        "# BFS를 이용한 풀이\n",
        "# leetcode는 필요 모듈들을 이미 import함\n",
        "# Runtime : 1736 ms Memory : 15.5 MB\n",
        "class Solution: \n",
        "    def findCheapestPrice(self, n: int, flights: List[List[int]], src: int, dst: int, K: int) -> int:\n",
        "        \n",
        "        # Build the adjacency matrix\n",
        "        adj_matrix = [[0 for _ in range(n)] for _ in range(n)]\n",
        "        for s, d, w in flights:\n",
        "            adj_matrix[s][d] = w\n",
        "            \n",
        "        # Shortest distances dictionary\n",
        "        distances = {}\n",
        "        distances[(src, 0)] = 0\n",
        "        \n",
        "        # BFS Queue\n",
        "        bfsQ = deque([src])\n",
        "        \n",
        "        # Number of stops remaining\n",
        "        stops = 0\n",
        "        ans = float(\"inf\")\n",
        "        \n",
        "        # Iterate until we exhaust K+1 levels or the queue gets empty\n",
        "        while bfsQ and stops < K + 1:\n",
        "            \n",
        "            # Iterate on current level\n",
        "            length = len(bfsQ)\n",
        "            for _ in range(length):\n",
        "                node = bfsQ.popleft()\n",
        "                \n",
        "                # Loop over neighbors of popped node\n",
        "                for nei in range(n):\n",
        "                    if adj_matrix[node][nei] > 0:\n",
        "                        dU = distances.get((node, stops), float(\"inf\"))\n",
        "                        dV = distances.get((nei, stops + 1), float(\"inf\"))\n",
        "                        wUV = adj_matrix[node][nei]\n",
        "                        \n",
        "                        # No need to update the minimum cost if we have already exhausted our K stops. \n",
        "                        if stops == K and nei != dst:\n",
        "                            continue\n",
        "                        \n",
        "                        if dU + wUV < dV:\n",
        "                            distances[nei, stops + 1] = dU + wUV\n",
        "                            bfsQ.append(nei)\n",
        "                            \n",
        "                            # Shortest distance of the destination from the source\n",
        "                            if nei == dst:\n",
        "                                ans = min(ans, dU + wUV)\n",
        "            stops += 1   \n",
        "        \n",
        "        return -1 if ans == float(\"inf\") else ans"
      ]
    }
  ],
  "metadata": {
    "colab": {
      "name": "13.최단_경로_문제.ipynb",
      "provenance": []
    },
    "kernelspec": {
      "display_name": "Python 3",
      "name": "python3"
    },
    "language_info": {
      "name": "python"
    }
  },
  "nbformat": 4,
  "nbformat_minor": 0
}
