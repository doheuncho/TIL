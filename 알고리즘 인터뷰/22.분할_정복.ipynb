{
  "nbformat": 4,
  "nbformat_minor": 0,
  "metadata": {
    "colab": {
      "name": "22.분할_정복.ipynb",
      "provenance": [],
      "collapsed_sections": []
    },
    "kernelspec": {
      "name": "python3",
      "display_name": "Python 3"
    },
    "language_info": {
      "name": "python"
    }
  },
  "cells": [
    {
      "cell_type": "markdown",
      "source": [
        "<h1>1.과반수 엘리먼트</h1>\n",
        "<p>리트코드 169번</p>\n",
        "[링크](https://leetcode.com/problems/majority-element/)"
      ],
      "metadata": {
        "id": "cagvt3n75KfH"
      }
    },
    {
      "cell_type": "code",
      "execution_count": null,
      "metadata": {
        "id": "2pYXFg_z5Dl2"
      },
      "outputs": [],
      "source": [
        "# 다이나믹 프로그래밍을 이용한 풀이\n",
        "# leetcode는 필요 모듈들을 이미 import함\n",
        "# Runtime : 234 ms Memory : 15.5 MB\n",
        "class Solution:\n",
        "    def majorityElement(self, nums: List[int]) -> int:\n",
        "        counts = collections.defaultdict(int)\n",
        "        \n",
        "        for num in nums:\n",
        "            if counts[num] == 0:\n",
        "                counts[num] = nums.count(num)\n",
        "        \n",
        "            if counts[num] > len(nums) // 2:\n",
        "                return num\n"
      ]
    },
    {
      "cell_type": "code",
      "source": [
        "# 분할 정복을 이용한 풀이\n",
        "# leetcode는 필요 모듈들을 이미 import함\n",
        "# Runtime : 250 ms Memory : 15.4 MB\n",
        "class Solution:\n",
        "    def majorityElement(self, nums: List[int]) -> int:\n",
        "        if not nums:\n",
        "            return None\n",
        "        if len(nums) == 1:\n",
        "            return nums[0]\n",
        "        \n",
        "        half = len(nums) // 2\n",
        "        a = self.majorityElement(nums[:half])\n",
        "        b = self.majorityElement(nums[half:])\n",
        "        \n",
        "        return [b, a][nums.count(a) > half]\n",
        "        "
      ],
      "metadata": {
        "id": "R_u3yhv9Riwc"
      },
      "execution_count": null,
      "outputs": []
    },
    {
      "cell_type": "code",
      "source": [
        "# 파이썬 다운 풀이\n",
        "# leetcode는 필요 모듈들을 이미 import함\n",
        "# Runtime : 298 ms Memory : 15.5 MB\n",
        "class Solution:\n",
        "    def majorityElement(self, nums: List[int]) -> int:\n",
        "        return sorted(nums)[len(nums) // 2]\n",
        "        "
      ],
      "metadata": {
        "id": "83d29ao4TM8W"
      },
      "execution_count": null,
      "outputs": []
    },
    {
      "cell_type": "markdown",
      "source": [
        "<h1>2.괄호를 삽입하는 여러 가지 방법</h1>\n",
        "<p>리트코드 241번</p>\n",
        "[링크](https://leetcode.com/problems/different-ways-to-add-parentheses/)"
      ],
      "metadata": {
        "id": "COj1qFVJTnef"
      }
    },
    {
      "cell_type": "code",
      "source": [
        "# 분할 정복을 이용한 풀이\n",
        "# leetcode는 필요 모듈들을 이미 import함\n",
        "# Runtime : 68 ms Memory : 14 MB\n",
        "class Solution:\n",
        "    def diffWaysToCompute(self, expression: str) -> List[int]:\n",
        "        def compute(left, right, op):\n",
        "            results = []\n",
        "            \n",
        "            for l in left:\n",
        "                for r in right:\n",
        "                    results.append(eval(str(l) + op + str(r)))\n",
        "            \n",
        "            return results\n",
        "        \n",
        "        \n",
        "        if expression.isdigit():\n",
        "            return [int(expression)]\n",
        "        \n",
        "        results = []\n",
        "        \n",
        "        for index, value in enumerate(expression):\n",
        "            if value in \"-+*\":\n",
        "                left = self.diffWaysToCompute(expression[:index])\n",
        "                right = self.diffWaysToCompute(expression[index + 1:])\n",
        "                \n",
        "                results.extend(compute(left, right, value))\n",
        "        \n",
        "        return results\n",
        "        "
      ],
      "metadata": {
        "id": "MEq2G1BfZJNN"
      },
      "execution_count": null,
      "outputs": []
    }
  ]
}