{
  "cells": [
    {
      "cell_type": "markdown",
      "metadata": {
        "id": "i1-bhDo7Nhmh"
      },
      "source": [
        "<h1>1.섬의 개수</h1>\n",
        "<p>리트코드 200번</p>\n",
        "[링크](https://leetcode.com/problems/number-of-islands/)"
      ]
    },
    {
      "cell_type": "code",
      "execution_count": null,
      "metadata": {
        "id": "uvMnmvI2Mz9z"
      },
      "outputs": [],
      "source": [
        "# DFS를 이용한 풀이\n",
        "# leetcode는 아래 모듈들을 미리 import함\n",
        "# Runtime : 337 ms Memory : 16.5 MB\n",
        "class Solution:\n",
        "    def numIslands(self, grid: List[List[str]]) -> int:\n",
        "        def dfs(i, j):\n",
        "            if i < 0 or i >= len(grid) or j < 0 or j >= len(grid[0]) or grid[i][j] != '1':\n",
        "                return\n",
        "            \n",
        "            grid[i][j] = 0\n",
        "            \n",
        "            dfs(i + 1, j)\n",
        "            dfs(i - 1, j)\n",
        "            dfs(i, j + 1)\n",
        "            dfs(i, j - 1)\n",
        "            \n",
        "        count = 0\n",
        "        \n",
        "        for i in range(len(grid)):\n",
        "            for j in range(len(grid[0])):\n",
        "                if grid[i][j] == '1':\n",
        "                    dfs(i, j)\n",
        "                    count += 1\n",
        "        \n",
        "        return count\n",
        "    "
      ]
    },
    {
      "cell_type": "markdown",
      "metadata": {
        "id": "wJEa1NJANpF2"
      },
      "source": [
        "<h1>2.전화 번호 문자 조합</h1>\n",
        "<p>리트코드 17번</p>\n",
        "[링크](https://leetcode.com/problems/letter-combinations-of-a-phone-number/)"
      ]
    },
    {
      "cell_type": "code",
      "execution_count": null,
      "metadata": {
        "id": "PldQ7zD2Pws1"
      },
      "outputs": [],
      "source": [
        "# DFS를 이용한 풀이\n",
        "# leetcode는 아래 모듈들을 미리 import함\n",
        "# Runtime : 53 ms Memory : 14 MB\n",
        "class Solution:\n",
        "    def letterCombinations(self, digits: str) -> List[str]:\n",
        "        def dfs(index, path):\n",
        "            if len(path) == len(digits):\n",
        "                result.append(path)\n",
        "                return\n",
        "            \n",
        "            for i in range(index, len(digits)):\n",
        "                for j in dic[digits[i]]:\n",
        "                    dfs(i + 1, path + j)\n",
        "            \n",
        "        if not digits:\n",
        "            return []\n",
        "        \n",
        "        dic = {\"2\": \"abc\", \"3\": \"def\", \"4\": \"ghi\", \"5\": \"jkl\",\n",
        "              \"6\": \"mno\", \"7\": \"pqrs\", \"8\": \"tuv\", \"9\": \"wxyz\"}\n",
        "        \n",
        "        result = []\n",
        "        dfs(0, \"\")\n",
        "        \n",
        "        return result\n",
        "    "
      ]
    },
    {
      "cell_type": "markdown",
      "metadata": {
        "id": "of4hDYT7SN88"
      },
      "source": [
        "<h1>3.순열</h1>\n",
        "<p>리트코드 46번</p>\n",
        "[링크](https://leetcode.com/problems/permutations/)"
      ]
    },
    {
      "cell_type": "code",
      "execution_count": null,
      "metadata": {
        "id": "gOR8wRetNPyO"
      },
      "outputs": [],
      "source": [
        "# DFS를 이용한 풀이\n",
        "# leetcode는 아래 모듈들을 미리 import함\n",
        "# Runtime : 74 ms Memory : 14 MB\n",
        "class Solution:\n",
        "    def permute(self, nums: List[int]) -> List[List[int]]:\n",
        "        results = []\n",
        "        prev_elements = []\n",
        "        \n",
        "        def dfs(elements):\n",
        "            if len(elements) == 0:\n",
        "                results.append(prev_elements[:])\n",
        "            \n",
        "            for e in elements:\n",
        "                next_elements = elements[:]\n",
        "                next_elements.remove(e)\n",
        "                \n",
        "                prev_elements.append(e)\n",
        "                dfs(next_elements)\n",
        "                prev_elements.pop()\n",
        "                \n",
        "        dfs(nums)\n",
        "        return results\n"
      ]
    },
    {
      "cell_type": "markdown",
      "metadata": {
        "id": "bkEkF4rwkR9l"
      },
      "source": [
        "<h1>4.조합</h1>\n",
        "<p>리트코드 77번</p>\n",
        "[링크](https://leetcode.com/problems/combinations/)"
      ]
    },
    {
      "cell_type": "code",
      "execution_count": null,
      "metadata": {
        "id": "Bdlu_gh1kQEK"
      },
      "outputs": [],
      "source": [
        "# DFS를 이용한 풀이\n",
        "# leetcode는 아래 모듈들을 미리 import함\n",
        "# Runtime : 516 ms Memory : 16 MB\n",
        "class Solution:\n",
        "    def combine(self, n: int, k: int) -> List[List[int]]:\n",
        "        results = []\n",
        "        \n",
        "        def dfs(elements, start: int, k: int):\n",
        "            if k == 0:\n",
        "                results.append(elements[:])\n",
        "                return\n",
        "        \n",
        "            for i in range(start, n + 1):\n",
        "                elements.append(i)\n",
        "                dfs(elements, i + 1, k - 1)\n",
        "                elements.pop()\n",
        "        \n",
        "        dfs([], 1, k)\n",
        "        return results\n",
        "    "
      ]
    },
    {
      "cell_type": "markdown",
      "metadata": {
        "id": "WhrjQH3bnehk"
      },
      "source": [
        "<h1>5.조합의 합</h1>\n",
        "<p>리트코드 39번</p>\n",
        "[링크](https://leetcode.com/problems/combination-sum/)"
      ]
    },
    {
      "cell_type": "code",
      "execution_count": null,
      "metadata": {
        "id": "spBF0GuknmrO"
      },
      "outputs": [],
      "source": [
        "# DFS를 이용한 풀이\n",
        "# leetcode는 아래 모듈들을 미리 import함\n",
        "# Runtime : 86 ms Memory : 14 MB\n",
        "class Solution:\n",
        "    def combinationSum(self, candidates: List[int], target: int) -> List[List[int]]:\n",
        "        result = []\n",
        "        \n",
        "        def dfs(csum, index, path):\n",
        "            if csum < 0:\n",
        "                return\n",
        "            if csum == 0:\n",
        "                result.append(path)\n",
        "                return\n",
        "            \n",
        "            for i in range(index, len(candidates)):\n",
        "                dfs(csum - candidates[i], i, path + [candidates[i]])\n",
        "                \n",
        "        dfs(target, 0, [])\n",
        "        return result\n",
        "    "
      ]
    },
    {
      "cell_type": "markdown",
      "metadata": {
        "id": "H7ESFTQNpZGZ"
      },
      "source": [
        "<h1>6.부분 집합</h1>\n",
        "<p>리트코드 78번</p>\n",
        "[링크](https://leetcode.com/problems/subsets/)"
      ]
    },
    {
      "cell_type": "code",
      "execution_count": null,
      "metadata": {
        "id": "vbLSBYTtplRa"
      },
      "outputs": [],
      "source": [
        "# DFS를 이용한 풀이\n",
        "# leetcode는 아래 모듈들을 미리 import함\n",
        "# Runtime : 71 ms Memory : 14.2 MB\n",
        "class Solution:\n",
        "    def subsets(self, nums: List[int]) -> List[List[int]]:\n",
        "        result = []\n",
        "        \n",
        "        def dfs(index, path):\n",
        "            result.append(path)\n",
        "            \n",
        "            for i in range(index, len(nums)):\n",
        "                dfs(i + 1, path + [nums[i]])\n",
        "        \n",
        "        dfs(0, [])\n",
        "        return result\n"
      ]
    },
    {
      "cell_type": "markdown",
      "metadata": {
        "id": "9MGsFkCNqUJ4"
      },
      "source": [
        "<h1>7.일정 재구성</h1>\n",
        "<p>리트코드 332번</p>\n",
        "[링크](https://leetcode.com/problems/reconstruct-itinerary/)"
      ]
    },
    {
      "cell_type": "code",
      "execution_count": null,
      "metadata": {
        "id": "zWSfwum4qTfp"
      },
      "outputs": [],
      "source": [
        "# DFS를 이용한 풀이\n",
        "# leetcode는 아래 모듈들을 미리 import함\n",
        "# Runtime : 156 ms Memory : 14.3 MB\n",
        "class Solution:\n",
        "    def findItinerary(self, tickets: List[List[str]]) -> List[str]:\n",
        "        graph = collections.defaultdict(list)\n",
        "        \n",
        "        for a, b in sorted(tickets):\n",
        "            graph[a].append(b)\n",
        "            \n",
        "        route = []\n",
        "        \n",
        "        def dfs(a):\n",
        "            while graph[a]:\n",
        "                dfs(graph[a].pop(0))\n",
        "            route.append(a)\n",
        "            \n",
        "        dfs('JFK')\n",
        "        \n",
        "        return route[::-1]\n",
        "    "
      ]
    },
    {
      "cell_type": "code",
      "execution_count": null,
      "metadata": {
        "id": "7eI1N4jusoH8"
      },
      "outputs": [],
      "source": [
        "# 스택 + DFS를 이용한 풀이\n",
        "# leetcode는 아래 모듈들을 미리 import함\n",
        "# Runtime : 156 ms Memory : 14.3 MB\n",
        "class Solution:\n",
        "    def findItinerary(self, tickets: List[List[str]]) -> List[str]:\n",
        "        graph = collections.defaultdict(list)\n",
        "        \n",
        "        for a, b in sorted(tickets, reverse=True):\n",
        "            graph[a].append(b)\n",
        "            \n",
        "        route = []\n",
        "        def dfs(a):\n",
        "            while graph[a]:\n",
        "                dfs(graph[a].pop())\n",
        "            route.append(a)\n",
        "        \n",
        "        dfs('JFK')\n",
        "        return route[::-1]\n",
        "    "
      ]
    },
    {
      "cell_type": "code",
      "execution_count": null,
      "metadata": {
        "id": "YvBukyfHuOze"
      },
      "outputs": [],
      "source": [
        "# 스택 + DFS를 이용한 풀이\n",
        "# leetcode는 아래 모듈들을 미리 import함\n",
        "# Runtime : 156 ms Memory : 14.3 MB\n",
        "class Solution:\n",
        "    def findItinerary(self, tickets: List[List[str]]) -> List[str]:\n",
        "        graph = collections.defaultdict(list)\n",
        "        \n",
        "        for a, b in sorted(tickets, reverse=True):\n",
        "            graph[a].append(b)\n",
        "            \n",
        "        route = []\n",
        "        def dfs(a):\n",
        "            while graph[a]:\n",
        "                dfs(graph[a].pop())\n",
        "            route.append(a)\n",
        "        \n",
        "        dfs('JFK')\n",
        "        return route[::-1]\n",
        "    "
      ]
    },
    {
      "cell_type": "code",
      "execution_count": null,
      "metadata": {
        "id": "NqBxD4agvP4b"
      },
      "outputs": [],
      "source": [
        "# 그래프 반복\n",
        "# leetcode는 아래 모듈들을 미리 import함\n",
        "# Runtime : 156 ms Memory : 14.3 MB\n",
        "class Solution:\n",
        "    def findItinerary(self, tickets: List[List[str]]) -> List[str]:\n",
        "        graph = collections.defaultdict(list)\n",
        "        \n",
        "        for a, b in sorted(tickets):\n",
        "            graph[a].append(b)\n",
        "            \n",
        "        route, stack = [], ['JFK']\n",
        "        \n",
        "        while stack:\n",
        "            while graph[stack[-1]]:\n",
        "                stack.append(graph[stack[-1]].pop(0))\n",
        "            route.append(stack.pop())\n",
        "        \n",
        "        return route[::-1]\n",
        "        "
      ]
    },
    {
      "cell_type": "markdown",
      "metadata": {
        "id": "i94dFtOfva_O"
      },
      "source": [
        "<h1>8.코스 스케쥴</h1>\n",
        "<p>리트코드 207번</p>\n",
        "[링크](https://leetcode.com/problems/course-schedule/)"
      ]
    },
    {
      "cell_type": "code",
      "execution_count": null,
      "metadata": {
        "id": "ndiDoVtb1um5"
      },
      "outputs": [],
      "source": [
        "# DFS로 순환 구조 판별\n",
        "# leetcode는 아래 모듈들을 미리 import함\n",
        "# Runtime : 156 ms Memory : 14.3 MB\n",
        "class Solution:\n",
        "    def canFinish(self, numCourses: int, prerequisites: List[List[int]]) -> bool:\n",
        "        graph = collections.defaultdict(list)\n",
        "        \n",
        "        for x, y in prerequisites:\n",
        "            graph[x].append(y)\n",
        "            \n",
        "        traced = set()\n",
        "        \n",
        "        def dfs(i):\n",
        "            if i in traced:\n",
        "                return False\n",
        "            traced.add(i)\n",
        "            \n",
        "            for y in graph[i]:\n",
        "                if not dfs(y):\n",
        "                    return False\n",
        "        \n",
        "            traced.remove(i)\n",
        "            return True\n",
        "    \n",
        "        for x in list(graph):\n",
        "            if not dfs(x):\n",
        "                return False\n",
        "    \n",
        "        return True\n",
        "    "
      ]
    },
    {
      "cell_type": "code",
      "execution_count": null,
      "metadata": {
        "id": "LcE5Fwla1xey"
      },
      "outputs": [],
      "source": [
        "# 가지치기를 위한 최적화\n",
        "# leetcode는 아래 모듈들을 미리 import함\n",
        "# Runtime : 156 ms Memory : 14.3 MB\n",
        "class Solution:\n",
        "    def canFinish(self, numCourses: int, prerequisites: List[List[int]]) -> bool:\n",
        "        graph = collections.defaultdict(list)\n",
        "        \n",
        "        for x, y in prerequisites:\n",
        "            graph[x].append(y)\n",
        "            \n",
        "        traced = set()\n",
        "        visited = set()\n",
        "        \n",
        "        def dfs(i):\n",
        "            if i in traced:\n",
        "                return False\n",
        "            if i in visited:\n",
        "                return True\n",
        "            \n",
        "            traced.add(i)\n",
        "            \n",
        "            for y in graph[i]:\n",
        "                if not dfs(y):\n",
        "                    return False\n",
        "            \n",
        "            traced.remove(i)\n",
        "            visited.add(i)\n",
        "            \n",
        "            return True\n",
        "        \n",
        "        for x in list(graph):\n",
        "            if not dfs(x):\n",
        "                return False\n",
        "            \n",
        "        return True"
      ]
    }
  ],
  "metadata": {
    "colab": {
      "name": "12.그래프.ipynb",
      "provenance": []
    },
    "kernelspec": {
      "display_name": "Python 3",
      "name": "python3"
    },
    "language_info": {
      "name": "python"
    }
  },
  "nbformat": 4,
  "nbformat_minor": 0
}
