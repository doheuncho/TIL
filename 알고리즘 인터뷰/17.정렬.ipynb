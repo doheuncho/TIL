{
  "nbformat": 4,
  "nbformat_minor": 0,
  "metadata": {
    "colab": {
      "name": "17.정렬.ipynb",
      "provenance": [],
      "collapsed_sections": []
    },
    "kernelspec": {
      "name": "python3",
      "display_name": "Python 3"
    },
    "language_info": {
      "name": "python"
    }
  },
  "cells": [
    {
      "cell_type": "markdown",
      "source": [
        "<h1>1.리스트 정렬</h1>\n",
        "<p>리트코드 148번</p>\n",
        "[링크](https://leetcode.com/problems/sort-list/)"
      ],
      "metadata": {
        "id": "jT0x4fm1CVYr"
      }
    },
    {
      "cell_type": "code",
      "execution_count": null,
      "metadata": {
        "id": "KZp7TKUJsR01"
      },
      "outputs": [],
      "source": [
        "# 병합 정렬을 이용한 풀이\n",
        "# leetcode는 필요 모듈들을 이미 import함\n",
        "# Runtime : 474 ms Memory : 54.4 MB\n",
        "class Solution:\n",
        "    def mergeTwoList(self, l1: ListNode, l2: ListNode) -> ListNode:\n",
        "        if l1 and l2:\n",
        "            if l1.val > l2.val:\n",
        "                l1, l2 = l2, l1\n",
        "            l1.next = self.mergeTwoList(l1.next, l2)\n",
        "        \n",
        "        return l1 or l2\n",
        "    \n",
        "    \n",
        "    def sortList(self, head: Optional[ListNode]) -> Optional[ListNode]:\n",
        "        if not (head and head.next):\n",
        "            return head\n",
        "        \n",
        "        half, slow, fast = None, head, head\n",
        "        \n",
        "        while fast and fast.next:\n",
        "            half, slow, fast = slow, slow.next, fast.next.next\n",
        "        half.next = None\n",
        "        \n",
        "        l1 = self.sortList(head)\n",
        "        l2 = self.sortList(slow)\n",
        "        \n",
        "        return self.mergeTwoList(l1, l2)\n",
        "    "
      ]
    },
    {
      "cell_type": "code",
      "source": [
        "# 내장 정렬 함수를 이용한 풀이\n",
        "# leetcode는 필요 모듈들을 이미 import함\n",
        "# Runtime : 321 ms Memory : 29.9 MB\n",
        "class Solution:\n",
        "    def sortList(self, head: Optional[ListNode]) -> Optional[ListNode]:\n",
        "        p = head\n",
        "        lst : List = []\n",
        "        while p:\n",
        "            lst.append(p.val)\n",
        "            p = p.next\n",
        "        \n",
        "        lst.sort()\n",
        "        \n",
        "        p = head\n",
        "        for i in range(len(lst)):\n",
        "            p.val = lst[i]\n",
        "            p = p.next\n",
        "        \n",
        "        return head\n",
        "    "
      ],
      "metadata": {
        "id": "trs1wgIkcxAb"
      },
      "execution_count": null,
      "outputs": []
    },
    {
      "cell_type": "markdown",
      "source": [
        "<h1>2.구간 병합</h1>\n",
        "<p>리트코드 56번</p>\n",
        "[링크](https://leetcode.com/problems/merge-intervals/)"
      ],
      "metadata": {
        "id": "QDTAfxSkp7V0"
      }
    },
    {
      "cell_type": "code",
      "source": [
        "# 정렬하여 병합\n",
        "# leetcode는 필요 모듈들을 이미 import함\n",
        "# Runtime : 321 ms Memory : 29.9 MB\n",
        "class Solution:\n",
        "    def merge(self, intervals: List[List[int]]) -> List[List[int]]:\n",
        "        merged = []\n",
        "        \n",
        "        for i in sorted(intervals, key=lambda x: x[0]):\n",
        "            if merged and (i[0] <= merged[-1][1]):\n",
        "                merged[-1][1] = max(merged[-1][1], i[1])\n",
        "            else:\n",
        "                merged += i,\n",
        "        \n",
        "        return merged\n"
      ],
      "metadata": {
        "id": "XPuF6sOfqcVF"
      },
      "execution_count": null,
      "outputs": []
    },
    {
      "cell_type": "markdown",
      "source": [
        "<h1>3.삽입 정렬 리스트</h1>\n",
        "<p>리트코드 147번</p>\n",
        "[링크](https://leetcode.com/problems/insertion-sort-list/)"
      ],
      "metadata": {
        "id": "AHzmCe-wwkz2"
      }
    },
    {
      "cell_type": "code",
      "source": [
        "# 삽입 정렬 풀이\n",
        "# leetcode는 필요 모듈들을 이미 import함\n",
        "# Runtime : 2464 ms Memory : 16.7 MB\n",
        "class Solution:\n",
        "    def insertionSortList(self, head: Optional[ListNode]) -> Optional[ListNode]:\n",
        "        cur = parent = ListNode(None)\n",
        "        while head:\n",
        "            while cur.next and cur.next.val < head.val:\n",
        "                cur = cur.next\n",
        "                \n",
        "            cur.next, head.next, head = head, cur.next, head.next\n",
        "            \n",
        "            cur = parent\n",
        "            \n",
        "        return cur.next\n"
      ],
      "metadata": {
        "id": "tmhwKFCNwkM0"
      },
      "execution_count": null,
      "outputs": []
    },
    {
      "cell_type": "code",
      "source": [
        "# 삽입 정렬 풀이(조건 개선)\n",
        "# leetcode는 필요 모듈들을 이미 import함\n",
        "# Runtime : 156 ms Memory : 16.4 MB\n",
        "class Solution:\n",
        "    def insertionSortList(self, head: Optional[ListNode]) -> Optional[ListNode]:\n",
        "        cur = parent = ListNode(0)\n",
        "        while head:\n",
        "            while cur.next and cur.next.val < head.val:\n",
        "                cur = cur.next\n",
        "                \n",
        "            cur.next, head.next, head = head, cur.next, head.next\n",
        "            \n",
        "            if head and cur.val > head.val:\n",
        "                cur = parent\n",
        "            \n",
        "        return parent.next\n",
        "    "
      ],
      "metadata": {
        "id": "MaXLY2Q3yYw6"
      },
      "execution_count": null,
      "outputs": []
    },
    {
      "cell_type": "markdown",
      "source": [
        "<h1>4.가장 큰 수</h1>\n",
        "<p>리트코드 179번</p>\n",
        "[링크](https://leetcode.com/problems/largest-number/)"
      ],
      "metadata": {
        "id": "qpTpbBbl0AFy"
      }
    },
    {
      "cell_type": "code",
      "source": [
        "# 삽입 정렬 풀이\n",
        "# leetcode는 필요 모듈들을 이미 import함\n",
        "# Runtime : 96 ms Memory : 14 MB\n",
        "class Solution:\n",
        "    @staticmethod\n",
        "    def to_swap(n1: int, n2: int) -> bool:\n",
        "        return str(n1) + str(n2) < str(n2) + str(n1)\n",
        "    \n",
        "    def largestNumber(self, nums: List[int]) -> str:\n",
        "        i = 1\n",
        "        while i < len(nums):\n",
        "            j = i\n",
        "            while j > 0 and self.to_swap(nums[j-1], nums[j]):\n",
        "                nums[j], nums[j-1] = nums[j-1], nums[j]\n",
        "                j -= 1\n",
        "            i += 1\n",
        "        \n",
        "        return str(int(''.join(map(str, nums))))\n",
        "    "
      ],
      "metadata": {
        "id": "KZ23Nemo0aqC"
      },
      "execution_count": null,
      "outputs": []
    },
    {
      "cell_type": "markdown",
      "source": [
        "<h1>5.유효한 애너그램</h1>\n",
        "<p>리트코드 242번</p>\n",
        "[링크](https://leetcode.com/problems/valid-anagram/)"
      ],
      "metadata": {
        "id": "U8rFeMBV_Bbq"
      }
    },
    {
      "cell_type": "code",
      "source": [
        "# 삽입 정렬 풀이\n",
        "# leetcode는 필요 모듈들을 이미 import함\n",
        "# Runtime : 93 ms Memory : 15.1 MB\n",
        "class Solution:\n",
        "    def isAnagram(self, s: str, t: str) -> bool:\n",
        "        return sorted(s) == sorted(t)\n",
        "    "
      ],
      "metadata": {
        "id": "z6Ctit3A_vAW"
      },
      "execution_count": null,
      "outputs": []
    },
    {
      "cell_type": "markdown",
      "source": [
        "<h1>6.색 정렬</h1>\n",
        "<p>리트코드 75번</p>\n",
        "[링크](https://leetcode.com/problems/sort-colors/)"
      ],
      "metadata": {
        "id": "zmxgTsrcAUOe"
      }
    },
    {
      "cell_type": "code",
      "source": [
        "# 네덜란드 국기 문제(https://en.wikipedia.org/wiki/Dutch_national_flag_problem)를 응용한 풀이\n",
        "# leetcode는 필요 모듈들을 이미 import함\n",
        "# Runtime : 46 ms Memory : 13.8 MB\n",
        "class Solution:\n",
        "    def sortColors(self, nums: List[int]) -> None:\n",
        "        \"\"\"\n",
        "        Do not return anything, modify nums in-place instead.\n",
        "        \"\"\"\n",
        "        red, white, blue = 0, 0, len(nums)\n",
        "        \n",
        "        while white < blue:\n",
        "            if nums[white] < 1:\n",
        "                nums[red], nums[white] = nums[white], nums[red]\n",
        "                white += 1\n",
        "                red += 1\n",
        "            elif nums[white] > 1:\n",
        "                blue -= 1\n",
        "                nums[white], nums[blue] = nums[blue], nums[white]\n",
        "            else:\n",
        "                white += 1\n",
        "                "
      ],
      "metadata": {
        "id": "lYmVbhXuBgEM"
      },
      "execution_count": null,
      "outputs": []
    },
    {
      "cell_type": "markdown",
      "source": [
        "<h1>7.원점에 K번째로 가까운 점</h1>\n",
        "<p>리트코드 973번</p>\n",
        "[링크](https://leetcode.com/problems/k-closest-points-to-origin/)"
      ],
      "metadata": {
        "id": "h2YTS9bqAnsf"
      }
    },
    {
      "cell_type": "code",
      "source": [
        "# 힙을 이용한 풀이\n",
        "# leetcode는 필요 모듈들을 이미 import함\n",
        "# Runtime : 93 ms Memory : 15.1 MB\n",
        "class Solution:\n",
        "    def kClosest(self, points: List[List[int]], k: int) -> List[List[int]]:\n",
        "        heap = []\n",
        "        for (x, y) in points:\n",
        "            dist = x ** 2 + y ** 2\n",
        "            heapq.heappush(heap, (dist, x, y))\n",
        "            \n",
        "        result = []\n",
        "        \n",
        "        for _ in range(k):\n",
        "            (dist, x, y) = heapq.heappop(heap)\n",
        "            result.append((x, y))\n",
        "        \n",
        "        return result\n"
      ],
      "metadata": {
        "id": "1lsYPNYOC7lJ"
      },
      "execution_count": null,
      "outputs": []
    }
  ]
}