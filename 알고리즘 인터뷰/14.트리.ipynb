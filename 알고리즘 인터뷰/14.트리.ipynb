{
  "nbformat": 4,
  "nbformat_minor": 0,
  "metadata": {
    "colab": {
      "name": "14.트리.ipynb",
      "provenance": [],
      "collapsed_sections": []
    },
    "kernelspec": {
      "name": "python3",
      "display_name": "Python 3"
    },
    "language_info": {
      "name": "python"
    }
  },
  "cells": [
    {
      "cell_type": "markdown",
      "source": [
        "<h1>1.이진 트리의 최대 깊이</h1>\n",
        "<p>리트코드 104번</p>\n",
        "[링크](https://leetcode.com/problems/maximum-depth-of-binary-tree/)"
      ],
      "metadata": {
        "id": "m5KP_2yepNuL"
      }
    },
    {
      "cell_type": "code",
      "execution_count": null,
      "metadata": {
        "id": "QgOp104IQFXx"
      },
      "outputs": [],
      "source": [
        "# BFS 반복 횟수를 통한 측정\n",
        "# leetcode는 필요 모듈들을 이미 import함\n",
        "# Runtime : 59 ms Memory : 15.2 MB\n",
        "class Solution:\n",
        "    def maxDepth(self, root: Optional[TreeNode]) -> int:\n",
        "        if root is None:\n",
        "            return 0\n",
        "        queue = collections.deque([root])\n",
        "        depth = 0\n",
        "        \n",
        "        while queue:\n",
        "            depth += 1\n",
        "            for _ in range(len(queue)):\n",
        "                cur_root = queue.popleft()\n",
        "                if cur_root.left:\n",
        "                    queue.append(cur_root.left)\n",
        "                if cur_root.right:\n",
        "                    queue.append(cur_root.right)\n",
        "        \n",
        "        return depth\n",
        "            "
      ]
    },
    {
      "cell_type": "markdown",
      "source": [
        "<h1>2.이진 트리의 직경</h1>\n",
        "<p>리트코드 543번</p>\n",
        "[링크](https://leetcode.com/problems/diameter-of-binary-tree/)"
      ],
      "metadata": {
        "id": "iHFl9UYit5Cx"
      }
    },
    {
      "cell_type": "code",
      "source": [
        "# DFS를 통한 거리 누적값 측정\n",
        "# leetcode는 필요 모듈들을 이미 import함\n",
        "# Runtime : 400 ms Memory : 17.9 MB\n",
        "class Solution:\n",
        "    longest = 0\n",
        "    def diameterOfBinaryTree(self, root: Optional[TreeNode]) -> int:\n",
        "        \n",
        "        def dfs(node: TreeNode) -> int:\n",
        "            if not node:\n",
        "                return -1\n",
        "            \n",
        "            left = dfs(node.left)\n",
        "            right = dfs(node.right)\n",
        "            \n",
        "            self.longest = max(self.longest, left + right + 2)\n",
        "            \n",
        "            return max(left, right) + 1\n",
        "        \n",
        "        dfs(root)\n",
        "        return self.longest\n",
        "    "
      ],
      "metadata": {
        "id": "npWXIdPytn5O"
      },
      "execution_count": null,
      "outputs": []
    },
    {
      "cell_type": "markdown",
      "source": [
        "<h1>3.가장 긴 동일 값의 경로</h1>\n",
        "<p>리트코드 687번</p>\n",
        "[링크](https://leetcode.com/problems/longest-univalue-path/)"
      ],
      "metadata": {
        "id": "aauqHQUvx1et"
      }
    },
    {
      "cell_type": "code",
      "source": [
        "# DFS를 통한 거리 누적값 측정\n",
        "# leetcode는 필요 모듈들을 이미 import함\n",
        "# Runtime : 48 ms Memory : 16.4 MB\n",
        "class Solution:\n",
        "    result : int = 0\n",
        "    def longestUnivaluePath(self, root: Optional[TreeNode]) -> int:\n",
        "        def dfs(node: TreeNode) -> int:\n",
        "            if node is None:\n",
        "                return 0\n",
        "            \n",
        "            left = dfs(node.left)\n",
        "            right = dfs(node.right)\n",
        "            \n",
        "            if node.left and node.left.val == node.val:\n",
        "                left += 1\n",
        "            else:\n",
        "                left = 0\n",
        "            \n",
        "            if node.right and node.right.val == node.val:\n",
        "                right +=1\n",
        "            else:\n",
        "                right = 0\n",
        "            \n",
        "            self.result = max(self.result, left + right)\n",
        "            \n",
        "            return max(left, right)\n",
        "        \n",
        "        dfs(root)\n",
        "        return self.result\n",
        "            "
      ],
      "metadata": {
        "id": "H3ckMz6zyhhv"
      },
      "execution_count": null,
      "outputs": []
    },
    {
      "cell_type": "markdown",
      "source": [
        "<h1>4.이진트리 반전</h1>\n",
        "<p>리트코드 226번</p>\n",
        "[링크](https://leetcode.com/problems/invert-binary-tree/)"
      ],
      "metadata": {
        "id": "T-P3iBGh2gh3"
      }
    },
    {
      "cell_type": "code",
      "source": [
        "# 파이썬 다운 방식\n",
        "# leetcode는 필요 모듈들을 이미 import함\n",
        "# Runtime : 43 ms Memory : 13.9 MB\n",
        "class Solution:\n",
        "    def invertTree(self, root: Optional[TreeNode]) -> Optional[TreeNode]:\n",
        "        if root:\n",
        "            root.left, root.right = self.invertTree(root.right), self.invertTree(root.left)\n",
        "        return root\n"
      ],
      "metadata": {
        "id": "y1I0hTBb2gvp"
      },
      "execution_count": null,
      "outputs": []
    },
    {
      "cell_type": "code",
      "source": [
        "# BFS를 이용한 풀이\n",
        "# leetcode는 필요 모듈들을 이미 import함\n",
        "# Runtime : 60 ms Memory : 13.8 MB\n",
        "class Solution:\n",
        "    def invertTree(self, root: Optional[TreeNode]) -> Optional[TreeNode]:\n",
        "        if root == None:\n",
        "            return None\n",
        "        \n",
        "        root.left, root.right = root.right, root.left\n",
        "       \n",
        "        self.invertTree(root.left)\n",
        "        self.invertTree(root.right)\n",
        "        \n",
        "        return root\n"
      ],
      "metadata": {
        "id": "Q7MpeluC6k-A"
      },
      "execution_count": null,
      "outputs": []
    },
    {
      "cell_type": "code",
      "source": [
        "# DFS를 이용한 풀이(전위 순회)\n",
        "# leetcode는 필요 모듈들을 이미 import함\n",
        "# Runtime : 54 ms Memory : 13.8 MB\n",
        "class Solution:\n",
        "    def invertTree(self, root: Optional[TreeNode]) -> Optional[TreeNode]:\n",
        "        stack = collections.deque([root])\n",
        "        \n",
        "        while stack:\n",
        "            node = stack.pop()\n",
        "            \n",
        "            if node:\n",
        "                node.left, node.right = node.right, node.left\n",
        "                \n",
        "                stack.append(node.left)\n",
        "                stack.append(node.right)\n",
        "                \n",
        "        return root\n",
        "    "
      ],
      "metadata": {
        "id": "MrFvrsVg6oaw"
      },
      "execution_count": null,
      "outputs": []
    },
    {
      "cell_type": "code",
      "source": [
        "# DFS를 이용한 풀이(후위순회)\n",
        "# leetcode는 필요 모듈들을 이미 import함\n",
        "# Runtime : 35 ms Memory : 13.8 MB\n",
        "class Solution:\n",
        "    def invertTree(self, root: Optional[TreeNode]) -> Optional[TreeNode]:\n",
        "        stack = collections.deque([root])\n",
        "        \n",
        "        while stack:\n",
        "            node = stack.pop()\n",
        "            \n",
        "            if node:                \n",
        "                stack.append(node.left)\n",
        "                stack.append(node.right)\n",
        "\n",
        "                node.left, node.right = node.right, node.left\n",
        "                \n",
        "        return root\n",
        "    "
      ],
      "metadata": {
        "id": "ipRfL6V07gfp"
      },
      "execution_count": null,
      "outputs": []
    },
    {
      "cell_type": "markdown",
      "source": [
        "<h1>5.두 이진 트리 병합</h1>\n",
        "<p>리트코드 617번</p>\n",
        "[링크](https://leetcode.com/problems/merge-two-binary-trees/)"
      ],
      "metadata": {
        "id": "3MDvP3yJ76hk"
      }
    },
    {
      "cell_type": "code",
      "source": [
        "# 재귀를 이용한 풀이\n",
        "# leetcode는 필요 모듈들을 이미 import함\n",
        "# Runtime : 123 ms Memory : 15.5 MB\n",
        "class Solution:\n",
        "    def mergeTrees(self, root1: Optional[TreeNode], root2: Optional[TreeNode]) -> Optional[TreeNode]:\n",
        "        if root1 and root2:\n",
        "            node = TreeNode(root1.val + root2.val)\n",
        "            node.left =self.mergeTrees(root1.left, root2.left)\n",
        "            node.right = self.mergeTrees(root1.right, root2.right)\n",
        "            \n",
        "            return node\n",
        "        else:\n",
        "            return root1 or root2\n",
        "        "
      ],
      "metadata": {
        "id": "AA3sFi8078JL"
      },
      "execution_count": null,
      "outputs": []
    },
    {
      "cell_type": "markdown",
      "source": [
        "<h1>6.이진 트리 직렬화 & 역직렬화</h1>\n",
        "<p>리트코드 617번</p>\n",
        "[링크](https://leetcode.com/problems/serialize-and-deserialize-binary-tree/)"
      ],
      "metadata": {
        "id": "thqacpIF-o0c"
      }
    },
    {
      "cell_type": "code",
      "source": [
        "# leetcode는 필요 모듈들을 이미 import함\n",
        "# Runtime : 573 ms Memory : 26.5 MB\n",
        "class Codec:\n",
        "\n",
        "    def serialize(self, root):\n",
        "        \"\"\"Encodes a tree to a single string.\n",
        "        \n",
        "        :type root: TreeNode\n",
        "        :rtype: str\n",
        "        \"\"\"\n",
        "        def rserialize(root, string):\n",
        "            \"\"\" a recursive helper function for the serialize() function.\"\"\"\n",
        "            # check base case\n",
        "            if root is None:\n",
        "                string += 'None,'\n",
        "            else:\n",
        "                string += str(root.val) + ','\n",
        "                string = rserialize(root.left, string)\n",
        "                string = rserialize(root.right, string)\n",
        "            return string\n",
        "        \n",
        "        return rserialize(root, '')\n",
        "        \n",
        "\n",
        "    def deserialize(self, data):\n",
        "        \"\"\"Decodes your encoded data to tree.\n",
        "        :type data: str\n",
        "        :rtype: TreeNode\n",
        "        \"\"\"\n",
        "        def rdeserialize(l):\n",
        "            \"\"\" a recursive helper function for deserialization.\"\"\"\n",
        "            if l[0] == 'None':\n",
        "                l.pop(0)\n",
        "                return None\n",
        "                \n",
        "            root = TreeNode(l[0])\n",
        "            l.pop(0)\n",
        "            root.left = rdeserialize(l)\n",
        "            root.right = rdeserialize(l)\n",
        "            return root\n",
        "\n",
        "        data_list = data.split(',')\n",
        "        root = rdeserialize(data_list)\n",
        "        return root\n",
        "    "
      ],
      "metadata": {
        "id": "T7PETeZM_pBv"
      },
      "execution_count": null,
      "outputs": []
    },
    {
      "cell_type": "markdown",
      "source": [
        "<h1>7.균형 이진 트리</h1>\n",
        "<p>리트코드 110번</p>\n",
        "[링크](https://leetcode.com/problems/balanced-binary-tree/)"
      ],
      "metadata": {
        "id": "nsOW9F0BCmM1"
      }
    },
    {
      "cell_type": "code",
      "source": [
        "# 재귀를 이용한 풀이\n",
        "# leetcode는 필요 모듈들을 이미 import함\n",
        "# Runtime : 64 ms Memory : 18.6 MB\n",
        "class Solution:\n",
        "    def isBalanced(self, root: Optional[TreeNode]) -> bool:\n",
        "        def check(root):\n",
        "            if not root:\n",
        "                return 0\n",
        "        \n",
        "            left = check(root.left)\n",
        "            right = check(root.right)\n",
        "        \n",
        "            if left == -1 or right == -1 or abs(left - right) > 1:\n",
        "                return -1\n",
        "            \n",
        "            return max(left, right) + 1\n",
        "        \n",
        "        return check(root) != -1\n"
      ],
      "metadata": {
        "id": "At9CJTcGCmcM"
      },
      "execution_count": null,
      "outputs": []
    },
    {
      "cell_type": "markdown",
      "source": [
        "<h1>8.최소 높이 트리</h1>\n",
        "<p>리트코드 310번</p>\n",
        "[링크](https://leetcode.com/problems/minimum-height-trees/)"
      ],
      "metadata": {
        "id": "cAx4HAMoDioK"
      }
    },
    {
      "cell_type": "code",
      "source": [
        "# 단계별 리프 노드 제거\n",
        "# leetcode는 필요 모듈들을 이미 import함\n",
        "# Runtime : 620 ms Memory : 25 MB\n",
        "class Solution:\n",
        "    def findMinHeightTrees(self, n: int, edges: List[List[int]]) -> List[int]:\n",
        "        if n <= 1:\n",
        "            return [0]\n",
        "        \n",
        "        graph = collections.defaultdict(list)\n",
        "        for i, j in edges:\n",
        "            graph[i].append(j)\n",
        "            graph[j].append(i)\n",
        "        \n",
        "        leaves = []\n",
        "        for i in range(n+1):\n",
        "            if len(graph[i]) == 1:\n",
        "                leaves.append(i)\n",
        "                \n",
        "        while n > 2:\n",
        "            n -= len(leaves)\n",
        "            new_leaves = []\n",
        "            for leaf in leaves:\n",
        "                neighbor = graph[leaf].pop()\n",
        "                graph[neighbor].remove(leaf)\n",
        "            \n",
        "                if len(graph[neighbor]) == 1:\n",
        "                    new_leaves.append(neighbor)\n",
        "            \n",
        "            leaves = new_leaves\n",
        "            \n",
        "        return leaves\n",
        "    "
      ],
      "metadata": {
        "id": "L3rtIEQuDpj9"
      },
      "execution_count": null,
      "outputs": []
    },
    {
      "cell_type": "markdown",
      "source": [
        "<h1>9.정렬된 배열의 이진 탐색 트리 변환</h1>\n",
        "<p>리트코드 108번</p>\n",
        "[링크](https://leetcode.com/problems/convert-sorted-array-to-binary-search-tree/)"
      ],
      "metadata": {
        "id": "bzWqUUXdF5jG"
      }
    },
    {
      "cell_type": "code",
      "source": [
        "# 이진 탐색을 통한 풀이\n",
        "# leetcode는 필요 모듈들을 이미 import함\n",
        "# Runtime : 129 ms Memory : 15.6 MB\n",
        "class Solution:\n",
        "    def sortedArrayToBST(self, nums: List[int]) -> Optional[TreeNode]:\n",
        "        if not nums:\n",
        "            return None\n",
        "        \n",
        "        mid = len(nums) // 2\n",
        "        \n",
        "        node = TreeNode(nums[mid])\n",
        "        node.left = self.sortedArrayToBST(nums[:mid])\n",
        "        node.right = self.sortedArrayToBST(nums[mid+1:])\n",
        "        \n",
        "        return node\n",
        "    "
      ],
      "metadata": {
        "id": "DBryL8DKF6HG"
      },
      "execution_count": null,
      "outputs": []
    },
    {
      "cell_type": "markdown",
      "source": [
        "<h1>10.이진 탐색 트리를 더 큰 수 합계 트리로</h1>\n",
        "<p>리트코드 1038번</p>\n",
        "[링크](https://leetcode.com/problems/binary-search-tree-to-greater-sum-tree/)"
      ],
      "metadata": {
        "id": "Y0Ve-EnBG3lh"
      }
    },
    {
      "cell_type": "code",
      "source": [
        "# 중위 순회를 통한 풀이\n",
        "# leetcode는 필요 모듈들을 이미 import함\n",
        "# Runtime : 20 ms Memory : 14 MB\n",
        "class Solution:\n",
        "    val : int = 0\n",
        "    def bstToGst(self, root: TreeNode) -> TreeNode:\n",
        "        if root:\n",
        "            self.bstToGst(root.right)\n",
        "            self.val += root.val\n",
        "            root.val = self.val\n",
        "            self.bstToGst(root.left)\n",
        "        \n",
        "        return root\n",
        "    "
      ],
      "metadata": {
        "id": "r944Pu4SHERf"
      },
      "execution_count": null,
      "outputs": []
    },
    {
      "cell_type": "markdown",
      "source": [
        "<h1>11.이진 탐색 트리 합의 범위</h1>\n",
        "<p>리트코드 938번</p>\n",
        "[링크](https://leetcode.com/problems/range-sum-of-bst/)"
      ],
      "metadata": {
        "id": "2TkUwheaHvzf"
      }
    },
    {
      "cell_type": "code",
      "source": [
        "# DFS를 이용한 풀이(재귀)\n",
        "# leetcode는 필요 모듈들을 이미 import함\n",
        "# Runtime : 632 ms Memory : 23.1 MB\n",
        "class Solution:\n",
        "    def rangeSumBST(self, root: Optional[TreeNode], low: int, high: int) -> int:\n",
        "        if not root:\n",
        "            return 0\n",
        "        \n",
        "        return (root.val if low <= root.val <= high else 0) +\\\n",
        "                self.rangeSumBST(root.left, low, high) +\\\n",
        "                self.rangeSumBST(root.right, low, high)\n",
        "    "
      ],
      "metadata": {
        "id": "xtZqy4xDHwGq"
      },
      "execution_count": null,
      "outputs": []
    },
    {
      "cell_type": "code",
      "source": [
        "# 조건문과 DFS를 이용한 풀이(재귀)\n",
        "# leetcode는 필요 모듈들을 이미 import함\n",
        "# Runtime : 393 ms Memory : 23 MB\n",
        "class Solution:\n",
        "    def rangeSumBST(self, root: Optional[TreeNode], low: int, high: int) -> int:\n",
        "        def dfs(node: TreeNode) -> int:\n",
        "            if not node:\n",
        "                return 0\n",
        "            \n",
        "            if node.val < low:    \n",
        "                return dfs(node.right)\n",
        "            \n",
        "            if node.val > high:\n",
        "                return dfs(node.left)\n",
        "            \n",
        "            return node.val + dfs(node.left) + dfs(node.right)\n",
        "        \n",
        "        return dfs(root)\n",
        "    "
      ],
      "metadata": {
        "id": "2Zyh-EVZIuJn"
      },
      "execution_count": null,
      "outputs": []
    },
    {
      "cell_type": "code",
      "source": [
        "# 조건문과 DFS를 이용한 풀이(반복문)\n",
        "# leetcode는 필요 모듈들을 이미 import함\n",
        "# Runtime : 212 ms Memory : 23 MB\n",
        "class Solution:\n",
        "    def rangeSumBST(self, root: Optional[TreeNode], low: int, high: int) -> int:\n",
        "        stack, sum = [root], 0\n",
        "        \n",
        "        while stack:\n",
        "            node = stack.pop()\n",
        "            if node:\n",
        "                if node.val > low:\n",
        "                    stack.append(node.left)\n",
        "                if node.val < high:\n",
        "                    stack.append(node.right)\n",
        "                if low <= node.val <= high:\n",
        "                    sum += node.val\n",
        "        \n",
        "        return sum\n",
        "    "
      ],
      "metadata": {
        "id": "-edT6WHMJvAq"
      },
      "execution_count": null,
      "outputs": []
    },
    {
      "cell_type": "code",
      "source": [
        "# 조건문과 BFS를 이용한 풀이(반복문)\n",
        "# leetcode는 필요 모듈들을 이미 import함\n",
        "# Runtime : 457 ms Memory : 23.1 MB\n",
        "class Solution:\n",
        "    def rangeSumBST(self, root: Optional[TreeNode], low: int, high: int) -> int:\n",
        "        stack, sum = [root], 0\n",
        "        \n",
        "        while stack:\n",
        "            node = stack.pop(0)\n",
        "            if node:\n",
        "                if node.val > low:\n",
        "                    stack.append(node.left)\n",
        "                if node.val < high:\n",
        "                    stack.append(node.right)\n",
        "                if low <= node.val <= high:\n",
        "                    sum += node.val\n",
        "        \n",
        "        return sum\n",
        "    "
      ],
      "metadata": {
        "id": "5sNC9pw-KLxu"
      },
      "execution_count": null,
      "outputs": []
    },
    {
      "cell_type": "markdown",
      "source": [
        "<h1>12.이진 탐색 트리 노드 간 최소 거리</h1>\n",
        "<p>리트코드 783번</p>\n",
        "[링크](https://leetcode.com/problems/minimum-distance-between-bst-nodes/)"
      ],
      "metadata": {
        "id": "c3nYDPh7KtrI"
      }
    },
    {
      "cell_type": "code",
      "source": [
        "# 재귀를 이용한 풀이(중위 순회)\n",
        "# leetcode는 필요 모듈들을 이미 import함\n",
        "# Runtime : 40 ms Memory : 13.9 MB\n",
        "class Solution:\n",
        "    prev = -sys.maxsize\n",
        "    result = sys.maxsize\n",
        "    \n",
        "    def minDiffInBST(self, root: Optional[TreeNode]) -> int:\n",
        "        if root.left:\n",
        "            self.minDiffInBST(root.left)\n",
        "        \n",
        "        self.result = min(self.result, root.val - self.prev)\n",
        "        self.prev = root.val\n",
        "        \n",
        "        if root.right:\n",
        "            self.minDiffInBST(root.right)\n",
        "        \n",
        "        return self.result\n",
        "    "
      ],
      "metadata": {
        "id": "tJQLe_wcKuPX"
      },
      "execution_count": null,
      "outputs": []
    },
    {
      "cell_type": "code",
      "source": [
        "# 반복문을 이용한 풀이(중위 순회)\n",
        "# leetcode는 필요 모듈들을 이미 import함\n",
        "# Runtime : 54 ms Memory : 14 MB\n",
        "class Solution:  \n",
        "    def minDiffInBST(self, root: Optional[TreeNode]) -> int:\n",
        "        prev = -sys.maxsize\n",
        "        result = sys.maxsize\n",
        "    \n",
        "        stack = []\n",
        "        node = root\n",
        "        \n",
        "        while stack or node:\n",
        "            while node:\n",
        "                stack.append(node)\n",
        "                node = node.left\n",
        "        \n",
        "            node = stack.pop()\n",
        "            \n",
        "            result = min(result, node.val - prev)\n",
        "            prev = node.val\n",
        "            \n",
        "            node = node.right\n",
        "        \n",
        "        return result\n",
        "    "
      ],
      "metadata": {
        "id": "TJjSxdrBL4qV"
      },
      "execution_count": null,
      "outputs": []
    },
    {
      "cell_type": "markdown",
      "source": [
        "<h1>13.전위, 중위 순회 결과로 이진 트리 구축</h1>\n",
        "<p>리트코드 105번</p>\n",
        "[링크](https://leetcode.com/problems/construct-binary-tree-from-preorder-and-inorder-traversal/)"
      ],
      "metadata": {
        "id": "Cjys80rXMmJJ"
      }
    },
    {
      "cell_type": "code",
      "source": [
        "# leetcode는 필요 모듈들을 이미 import함\n",
        "# Runtime : 174 ms Memory : 53.4 MB\n",
        "class Solution:\n",
        "    def buildTree(self, preorder: List[int], inorder: List[int]) -> Optional[TreeNode]:\n",
        "        if inorder:\n",
        "            index = inorder.index(preorder.pop(0))\n",
        "            \n",
        "            node = TreeNode(inorder[index])\n",
        "            node.left = self.buildTree(preorder, inorder[0:index])\n",
        "            node.right = self.buildTree(preorder, inorder[index+1:])\n",
        "            \n",
        "            return node\n"
      ],
      "metadata": {
        "id": "q6PAkPJFNRaR"
      },
      "execution_count": null,
      "outputs": []
    }
  ]
}