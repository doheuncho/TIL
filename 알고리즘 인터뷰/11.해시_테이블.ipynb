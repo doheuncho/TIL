{
  "nbformat": 4,
  "nbformat_minor": 0,
  "metadata": {
    "colab": {
      "name": "11.해시_테이블.ipynb",
      "provenance": []
    },
    "kernelspec": {
      "name": "python3",
      "display_name": "Python 3"
    },
    "language_info": {
      "name": "python"
    }
  },
  "cells": [
    {
      "cell_type": "markdown",
      "source": [
        "<h1>1.해시맵 디자인</h1>\n",
        "<p>리트코드 706번</p>\n",
        "[링크](https://leetcode.com/problems/design-hashmap/)"
      ],
      "metadata": {
        "id": "0h6_tC6_CoXM"
      }
    },
    {
      "cell_type": "code",
      "execution_count": null,
      "metadata": {
        "id": "IPR-xbPw8skN"
      },
      "outputs": [],
      "source": [
        "# leetcode는 아래 모듈들을 미리 import함\n",
        "# Runtime : 244 ms Memory : 17.4 MB\n",
        "class ListNode:\n",
        "    def __init__(self, key=None, value=None):\n",
        "        self.key = key\n",
        "        self.value = value\n",
        "        self.next = None\n",
        "\n",
        "class MyHashMap:\n",
        "    def __init__(self):\n",
        "        self.size = 1000\n",
        "        self.table = collections.defaultdict(ListNode)\n",
        "\n",
        "    def put(self, key: int, value: int) -> None:\n",
        "        index = key % self.size\n",
        "        if self.table[index].value is None:\n",
        "            self.table[index] = ListNode(key, value)\n",
        "            return\n",
        "        p = self.table[index]\n",
        "        while p:\n",
        "            if p.key == key:\n",
        "                p.value = value\n",
        "                return\n",
        "            if p.next is None:\n",
        "                break\n",
        "            p = p.next\n",
        "        p.next = ListNode(key, value)\n",
        "\n",
        "    def get(self, key: int) -> int:\n",
        "        index = key % self.size\n",
        "        if self.table[index].value is None:\n",
        "            return -1\n",
        "        \n",
        "        p = self.table[index]\n",
        "        while p:\n",
        "            if p.key == key:\n",
        "                return p.value\n",
        "            p = p.next\n",
        "        return -1\n",
        "\n",
        "    def remove(self, key: int) -> None:\n",
        "        index = key % self.size\n",
        "        if self.table[index].value is None:\n",
        "            return\n",
        "        \n",
        "        p = self.table[index]\n",
        "        if p.key == key:\n",
        "            self.table[index] = ListNode() if p.next is None else p.next\n",
        "            return\n",
        "        \n",
        "        prev = p\n",
        "        while p:\n",
        "            if p.key == key:\n",
        "                prev.next = p.next\n",
        "                return\n",
        "            prev, p = p, p.next\n",
        "            "
      ]
    },
    {
      "cell_type": "markdown",
      "source": [
        "<h1>2.보석과 돌</h1>\n",
        "<p>리트코드 771번</p>\n",
        "[링크](https://leetcode.com/problems/jewels-and-stones/)"
      ],
      "metadata": {
        "id": "NLJmee7dMP6D"
      }
    },
    {
      "cell_type": "code",
      "source": [
        "# 해시 테이블을 이용한 풀이\n",
        "# leetcode는 아래 모듈들을 미리 import함\n",
        "# Runtime : 36 ms Memory : 13.9 MB\n",
        "class Solution:\n",
        "    def numJewelsInStones(self, jewels: str, stones: str) -> int:\n",
        "        freqs = {}\n",
        "        count = 0\n",
        "        \n",
        "        for char in stones:\n",
        "            if char not in freqs:\n",
        "                freqs[char] = 1\n",
        "            else:\n",
        "                freqs[char] += 1\n",
        "        \n",
        "        for char in jewels:\n",
        "            if char in freqs:\n",
        "                count += freqs[char]\n",
        "        \n",
        "        return count\n"
      ],
      "metadata": {
        "id": "LQv9-o3JMJee"
      },
      "execution_count": null,
      "outputs": []
    },
    {
      "cell_type": "code",
      "source": [
        "# defaultdict을 이용한 풀이\n",
        "# leetcode는 아래 모듈들을 미리 import함\n",
        "# Runtime : 59 ms Memory : 13.8 MB\n",
        "class Solution:\n",
        "    def numJewelsInStones(self, jewels: str, stones: str) -> int:\n",
        "        freqs = collections.defaultdict(int)\n",
        "        count = 0\n",
        "        \n",
        "        for char in stones:\n",
        "            freqs[char] += 1\n",
        "            \n",
        "        for char in jewels:\n",
        "            count += freqs[char]\n",
        "        \n",
        "        return count\n",
        "    "
      ],
      "metadata": {
        "id": "Ks1uV-YFOo_D"
      },
      "execution_count": null,
      "outputs": []
    },
    {
      "cell_type": "code",
      "source": [
        "# Counter를 통한 계산 생략\n",
        "# leetcode는 아래 모듈들을 미리 import함\n",
        "# Runtime : 43 ms Memory : 13.8 MB\n",
        "class Solution:\n",
        "    def numJewelsInStones(self, jewels: str, stones: str) -> int:\n",
        "        freqs = collections.Counter(stones)\n",
        "        count = 0\n",
        "        \n",
        "        for char in jewels:\n",
        "            count += freqs[char]\n",
        "        \n",
        "        return count\n",
        "    "
      ],
      "metadata": {
        "id": "uxBzkZyrOzXI"
      },
      "execution_count": null,
      "outputs": []
    },
    {
      "cell_type": "code",
      "source": [
        "# 파이썬 다운 풀이\n",
        "# leetcode는 아래 모듈들을 미리 import함\n",
        "# Runtime : 43 ms Memory : 13.8 MB\n",
        "class Solution:\n",
        "    def numJewelsInStones(self, jewels: str, stones: str) -> int:\n",
        "        return sum(s in jewels for s in stones)\n",
        "    "
      ],
      "metadata": {
        "id": "gxzBikwGP7Gz"
      },
      "execution_count": null,
      "outputs": []
    },
    {
      "cell_type": "markdown",
      "source": [
        "<h1>3.중복 문자 없는 가장 긴 부분 문자열</h1>\n",
        "<p>리트코드 3번</p>\n",
        "[링크](https://leetcode.com/problems/longest-substring-without-repeating-characters/)"
      ],
      "metadata": {
        "id": "p6oJA1b9R8lI"
      }
    },
    {
      "cell_type": "code",
      "source": [
        "# 슬라이딩 윈도우 & 투 포인터를 이용한 풀이\n",
        "# leetcode는 아래 모듈들을 미리 import함\n",
        "# Runtime : 74 ms Memory : 14 MB\n",
        "class Solution:\n",
        "    def lengthOfLongestSubstring(self, s: str) -> int:\n",
        "        used = {}\n",
        "        max_length = start = 0\n",
        "        for index, char in enumerate(s):\n",
        "            if char in used and start <= used[char]:\n",
        "                start = used[char] + 1\n",
        "            else:\n",
        "                max_length = max(max_length, index - start + 1)\n",
        "            \n",
        "            used[char] = index\n",
        "        \n",
        "        return max_length\n",
        "    "
      ],
      "metadata": {
        "id": "819NefKWTzDC"
      },
      "execution_count": null,
      "outputs": []
    },
    {
      "cell_type": "markdown",
      "source": [
        "<h1>4.상위 K 빈도 요소</h1>\n",
        "<p>리트코드 347번</p>\n",
        "[링크](https://leetcode.com/problems/top-k-frequent-elements/)"
      ],
      "metadata": {
        "id": "_FUhRinuVB8a"
      }
    },
    {
      "cell_type": "code",
      "source": [
        "# 슬라이딩 윈도우 & 투 포인터를 이용한 풀이\n",
        "# leetcode는 아래 모듈들을 미리 import함\n",
        "# Runtime : 100 ms Memory : 18.8 MB\n",
        "class Solution:\n",
        "    def topKFrequent(self, nums: List[int], k: int) -> List[int]:\n",
        "        freqs = collections.Counter(nums)\n",
        "        freqs_heap = []\n",
        "        \n",
        "        for f in freqs:\n",
        "            heapq.heappush(freqs_heap, (-freqs[f], f))\n",
        "            \n",
        "        topk = list()\n",
        "        \n",
        "        for _ in range(k):\n",
        "            topk.append(heapq.heappop(freqs_heap)[1])\n",
        "        \n",
        "        return topk\n"
      ],
      "metadata": {
        "id": "YWFQIW16VBZe"
      },
      "execution_count": null,
      "outputs": []
    },
    {
      "cell_type": "code",
      "source": [
        "# 파이썬 다운 풀이\n",
        "# leetcode는 아래 모듈들을 미리 import함\n",
        "# Runtime : 124 ms Memory : 18.6 MB\n",
        "class Solution:\n",
        "    def topKFrequent(self, nums: List[int], k: int) -> List[int]:\n",
        "        return list(zip(*collections.Counter(nums).most_common(k)))[0]\n"
      ],
      "metadata": {
        "id": "Uba4ZzePbTWK"
      },
      "execution_count": null,
      "outputs": []
    }
  ]
}