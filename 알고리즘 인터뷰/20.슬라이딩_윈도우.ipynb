{
  "cells": [
    {
      "cell_type": "markdown",
      "metadata": {
        "id": "yITZV0bWSE6e"
      },
      "source": [
        "<h1>1.최대 슬라이딩 윈도우</h1>\n",
        "<p>리트코드 239번</p>\n",
        "[링크](https://leetcode.com/problems/sliding-window-maximum/)"
      ]
    },
    {
      "cell_type": "code",
      "execution_count": null,
      "metadata": {
        "id": "MepZt-SyR_VU"
      },
      "outputs": [],
      "source": [
        "# 브루트 포스를 이용한 풀이\n",
        "# leetcode는 필요 모듈들을 이미 import함\n",
        "# Time Limit Exceeded\n",
        "class Solution:\n",
        "    def maxSlidingWindow(self, nums: List[int], k: int) -> List[int]:\n",
        "        if not nums:\n",
        "            return nums\n",
        "        \n",
        "        r = []\n",
        "        \n",
        "        for i in range(len(nums)-k+1):\n",
        "            r.append(max(nums[i:i+k]))\n",
        "            \n",
        "        return r\n",
        "        "
      ]
    },
    {
      "cell_type": "code",
      "execution_count": null,
      "metadata": {
        "id": "nuA-FuTvSmH-"
      },
      "outputs": [],
      "source": [
        "# 데큐를 이용한 풀이\n",
        "# leetcode는 필요 모듈들을 이미 import함\n",
        "# Runtime : 1776 ms Memory : 29.5 MB\n",
        "class Solution:\n",
        "    def maxSlidingWindow(self, nums: List[int], k: int) -> List[int]:\n",
        "        n = len(nums)\n",
        "        if n * k == 0:\n",
        "            return []\n",
        "        if k == 1:\n",
        "            return nums\n",
        "        \n",
        "        def clean_deque(i):\n",
        "            if deq and deq[0] == i - k:\n",
        "                deq.popleft()\n",
        "                \n",
        "            while deq and nums[i] > nums[deq[-1]]:\n",
        "                deq.pop()\n",
        "        \n",
        "        deq = deque()\n",
        "        max_idx = 0\n",
        "        for i in range(k):\n",
        "            clean_deque(i)\n",
        "            deq.append(i)\n",
        "            if nums[i] > nums[max_idx]:\n",
        "                max_idx = i\n",
        "        output = [nums[max_idx]]\n",
        "        \n",
        "        for i in range(k, n):\n",
        "            clean_deque(i)          \n",
        "            deq.append(i)\n",
        "            output.append(nums[deq[0]])\n",
        "        return output\n",
        "    "
      ]
    },
    {
      "cell_type": "markdown",
      "metadata": {
        "id": "Csi-s70qUMi8"
      },
      "source": [
        "<h1>2.부분 문자열이 포함된 최소 윈도우</h1>\n",
        "<p>리트코드 76번</p>\n",
        "[링크](https://leetcode.com/problems/minimum-window-substring/)"
      ]
    },
    {
      "cell_type": "code",
      "execution_count": null,
      "metadata": {
        "id": "wY5wyXfJUOSG"
      },
      "outputs": [],
      "source": [
        "# 투 포인터와 슬라이딩 윈도우를 이용한 풀이\n",
        "# leetcode는 필요 모듈들을 이미 import함\n",
        "# Runtime : 170 ms Memory : 14.6 MB\n",
        "class Solution:\n",
        "    def minWindow(self, s: str, t: str) -> str:\n",
        "        need = collections.Counter(t)\n",
        "        missing = len(t)\n",
        "        left = start = end = 0\n",
        "        \n",
        "        for right, char in enumerate(s, 1):\n",
        "            missing -= need[char] > 0\n",
        "            need[char] -= 1\n",
        "            \n",
        "            if missing == 0:\n",
        "                while left < right and need[s[left]] < 0:\n",
        "                    need[s[left]] += 1\n",
        "                    left += 1\n",
        "                \n",
        "                if not end or right - left <= end - start:\n",
        "                    start, end = left, right\n",
        "                    need[s[left]] += 1\n",
        "                    missing += 1\n",
        "                    left +=1\n",
        "        \n",
        "        return s[start:end]\n",
        "        "
      ]
    },
    {
      "cell_type": "markdown",
      "metadata": {
        "id": "fCEVnn3qUMep"
      },
      "source": [
        "<h1>3.가장 긴 반복 문자 대체</h1>\n",
        "<p>리트코드 424번</p>\n",
        "[링크](https://leetcode.com/problems/longest-repeating-character-replacement/)"
      ]
    },
    {
      "cell_type": "code",
      "execution_count": null,
      "metadata": {
        "id": "0rrlSjGfVoNZ"
      },
      "outputs": [],
      "source": [
        "# 투 포인터와 슬라이딩 윈도우를 이용한 풀이\n",
        "# leetcode는 필요 모듈들을 이미 import함\n",
        "# Runtime : 358 ms Memory : 13.8 MB\n",
        "class Solution:\n",
        "    def characterReplacement(self, s: str, k: int) -> int:\n",
        "        left = right = 0\n",
        "        counts = collections.Counter()\n",
        "        \n",
        "        for right in range(1, len(s)+1):\n",
        "            counts[s[right-1]] += 1\n",
        "            max_char_n = counts.most_common(1)[0][1]\n",
        "            \n",
        "            if right - left - max_char_n > k:\n",
        "                counts[s[left]] -= 1\n",
        "                left += 1\n",
        "        \n",
        "        return right - left\n",
        "    "
      ]
    }
  ],
  "metadata": {
    "colab": {
      "collapsed_sections": [],
      "name": "20.슬라이딩_윈도우.ipynb",
      "provenance": []
    },
    "kernelspec": {
      "display_name": "Python 3",
      "name": "python3"
    },
    "language_info": {
      "name": "python"
    }
  },
  "nbformat": 4,
  "nbformat_minor": 0
}
