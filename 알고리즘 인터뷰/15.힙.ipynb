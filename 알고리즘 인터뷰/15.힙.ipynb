{
  "nbformat": 4,
  "nbformat_minor": 0,
  "metadata": {
    "colab": {
      "name": "15.힙.ipynb",
      "provenance": []
    },
    "kernelspec": {
      "name": "python3",
      "display_name": "Python 3"
    },
    "language_info": {
      "name": "python"
    }
  },
  "cells": [
    {
      "cell_type": "markdown",
      "source": [
        "<h1>1.배열의 K번째 큰 요소</h1>\n",
        "<p>리트코드 215번</p>\n",
        "[링크](https://leetcode.com/problems/kth-largest-element-in-an-array/)"
      ],
      "metadata": {
        "id": "_DlAaLzaRuvp"
      }
    },
    {
      "cell_type": "code",
      "execution_count": null,
      "metadata": {
        "id": "Es_0Fr6jPw9R"
      },
      "outputs": [],
      "source": [
        "# heapq 모듈을 이용한 풀이\n",
        "# leetcode는 필요 모듈들을 이미 import함\n",
        "# Runtime : 84 ms Memory : 14.8 MB\n",
        "class Solution:\n",
        "    def findKthLargest(self, nums: List[int], k: int) -> int:\n",
        "        heap = list()\n",
        "        for n in nums:\n",
        "            heapq.heappush(heap, -n)\n",
        "            \n",
        "        for _ in range(k-1):\n",
        "            heapq.heappop(heap)\n",
        "        \n",
        "        return -heapq.heappop(heap)\n",
        "    "
      ]
    },
    {
      "cell_type": "code",
      "source": [
        "# heapify를 이용한 heap화를 한 풀이\n",
        "# leetcode는 필요 모듈들을 이미 import함\n",
        "# Runtime : 88 ms Memory : 14.8 MB\n",
        "class Solution:\n",
        "    def findKthLargest(self, nums: List[int], k: int) -> int:\n",
        "        heapq.heapify(nums)\n",
        "        \n",
        "        for _ in range(len(nums) - k):\n",
        "            heapq.heappop(nums)\n",
        "        \n",
        "        return heapq.heappop(nums)\n",
        "    "
      ],
      "metadata": {
        "id": "rFiIO8a4T7Qg"
      },
      "execution_count": null,
      "outputs": []
    },
    {
      "cell_type": "code",
      "source": [
        "# nlargest를 이용한 풀이\n",
        "# leetcode는 필요 모듈들을 이미 import함\n",
        "# Runtime : 60 ms Memory : 14.9 MB\n",
        "class Solution:\n",
        "    def findKthLargest(self, nums: List[int], k: int) -> int:\n",
        "        return heapq.nlargest(k, nums)[-1]\n",
        "    "
      ],
      "metadata": {
        "id": "XH99AhSBVGOz"
      },
      "execution_count": null,
      "outputs": []
    },
    {
      "cell_type": "code",
      "source": [
        "# 정렬을 이용한 풀이\n",
        "# leetcode는 필요 모듈들을 이미 import함\n",
        "# Runtime : 110 ms Memory : 14.9 MB\n",
        "class Solution:\n",
        "    def findKthLargest(self, nums: List[int], k: int) -> int:\n",
        "        return sorted(nums, reverse=True)[k-1]"
      ],
      "metadata": {
        "id": "Tlai8VkcV9Kv"
      },
      "execution_count": null,
      "outputs": []
    }
  ]
}