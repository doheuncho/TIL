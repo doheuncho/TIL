{
  "cells": [
    {
      "cell_type": "markdown",
      "metadata": {
        "id": "nq_CFZU_4m3I"
      },
      "source": [
        "<h1>1.팰린드롬 연결 리스트</h1>\n",
        "<p>리트코드 234번</p>\n",
        "[링크](https://leetcode.com/problems/palindrome-linked-list/)"
      ]
    },
    {
      "cell_type": "code",
      "execution_count": null,
      "metadata": {
        "id": "b-7wUeFp4mNu"
      },
      "outputs": [],
      "source": [
        "# 1.리스트 변환을 통한 풀이\n",
        "# leetcode는 아래 모듈들을 미리 import함\n",
        "# Runtime : 1348 ms  Memory : 47.3 MB\n",
        "from typing import *\n",
        "\n",
        "\n",
        "# Definition for singly-linked list.\n",
        "# class ListNode:\n",
        "#     def __init__(self, val=0, next=None):\n",
        "#         self.val = val\n",
        "#         self.next = next\n",
        "class Solution:\n",
        "    def isPalindrome(self, head: Optional[ListNode]) -> bool:\n",
        "        q: List = []\n",
        "\n",
        "        if not head:\n",
        "            return True\n",
        "        \n",
        "        node = head\n",
        "\n",
        "        while node:\n",
        "            q.append(node.val)\n",
        "            node = node.next\n",
        "        \n",
        "        while len(q) > 1:\n",
        "            if q.pop(0) != q.pop():\n",
        "                return False\n",
        "        \n",
        "        return True\n"
      ]
    },
    {
      "cell_type": "code",
      "execution_count": null,
      "metadata": {
        "id": "mdQGZcb5C93K"
      },
      "outputs": [],
      "source": [
        "# 2.데크를 이용한 풀이\n",
        "# leetcode는 아래 모듈들을 미리 import함\n",
        "# Runtime : 788 ms  Memory : 46.9 MB\n",
        "from typing import *\n",
        "import collections\n",
        "\n",
        "\n",
        "# Definition for singly-linked list.\n",
        "# class ListNode:\n",
        "#     def __init__(self, val=0, next=None):\n",
        "#         self.val = val\n",
        "#         self.next = next\n",
        "class Solution:\n",
        "    def isPalindrome(self, head: Optional[ListNode]) -> bool:\n",
        "        q: Deque = collections.deque()\n",
        "\n",
        "        if not head:\n",
        "            return True\n",
        "        \n",
        "        node = head\n",
        "        \n",
        "        while node:\n",
        "            q.append(node.val)\n",
        "            node = node.next\n",
        "        \n",
        "        while len(q)>1:\n",
        "            if q.popleft() != q.pop():\n",
        "                return False\n",
        "        \n",
        "        return True\n"
      ]
    },
    {
      "cell_type": "code",
      "execution_count": null,
      "metadata": {
        "id": "aH5l4JGhE2cu"
      },
      "outputs": [],
      "source": [
        "# 3.런너기법을 이용한 풀이\n",
        "# leetcode는 아래 모듈들을 미리 import함\n",
        "# Runtime : 644 ms  Memory : 31.6 MB\n",
        "from typing import *\n",
        "import collections\n",
        "\n",
        "\n",
        "# Definition for singly-linked list.\n",
        "# class ListNode:\n",
        "#     def __init__(self, val=0, next=None):\n",
        "#         self.val = val\n",
        "#         self.next = next\n",
        "class Solution:\n",
        "    def isPalindrome(self, head: Optional[ListNode]) -> bool:\n",
        "        rev = None\n",
        "        slow = fast = head\n",
        "        \n",
        "        # fast는 2칸 씩, slow는 1칸 씩 이동하면서 역순 연결리스트 생성\n",
        "        # fast 런너가 끝에 도달했을 경우 slow 런너는 입력 데이터의 절반을 탐색\n",
        "        while fast and fast.next:\n",
        "            fast = fast.next.next\n",
        "            rev, rev.next, slow = slow, rev, slow.next\n",
        "        # 만약 입력 데이터의 크기가 홀수라면 slow 노드를 한칸 더 건너뛴다.(입력 데이터의 중앙값을 건너뛴다.)\n",
        "        if fast:\n",
        "            slow = slow.next\n",
        "        \n",
        "        while rev and rev.val == slow.val:\n",
        "            slow, rev = slow.next, rev.next\n",
        "        \n",
        "        # 만약 while문의 == 조건을 만족하지 못했을경우 rev 값은 존재하고(True), 끝까지 만족했을 경우 rev 값은 존재하지 않는다.(False)\n",
        "        return not rev\n"
      ]
    },
    {
      "cell_type": "markdown",
      "metadata": {
        "id": "YQvCWez7Iuq6"
      },
      "source": [
        "<h1>2.두 정렬 리스트의 병합</h1>\n",
        "<p>리트코드 21번</p>\n",
        "[링크](https://leetcode.com/problems/merge-two-sorted-lists/)"
      ]
    },
    {
      "cell_type": "code",
      "execution_count": null,
      "metadata": {
        "id": "qcTMwxCX501I"
      },
      "outputs": [],
      "source": [
        "# 1.재귀 호출을 통한 풀이\n",
        "# leetcode는 아래 모듈들을 미리 import함\n",
        "# Runtime : 32 ms  Memory : 14 MB\n",
        "from typing import *\n",
        "\n",
        "\n",
        "# Definition for singly-linked list.\n",
        "# class ListNode:\n",
        "#     def __init__(self, val=0, next=None):\n",
        "#         self.val = val\n",
        "#         self.next = next\n",
        "class Solution:\n",
        "    def mergeTwoLists(self, l1: Optional[ListNode], l2: Optional[ListNode]) -> Optional[ListNode]:\n",
        "        # l1: 결과를 저장할 연결 리스트의 노드, l2: l1과 비교할 연결리스트의 노드\n",
        "        # l1이 None이거나 l2의 Value가 l1의 Value보다 작을 경우\n",
        "        if (not l1) or (l2 and l1.val > l2.val):\n",
        "            # l2의 값이 l1보다 작으므로 l1의 자리에 l2를 붙이고 기존의 l1은 다음 호출시에 비교에 사용. \n",
        "            l1, l2 = l2, l1\n",
        "        # 만약 l1이 None이 아니라면(l1이 None이다 : 위의 조건문에 의해 l2, l1 둘 다 None이다. 즉 두 연결리스트를 모두 연결했다.)\n",
        "        if l1:\n",
        "            # l1의 다음 노드와 l2와의 재귀호출 시행.\n",
        "            l1.next = self.mergeTwoLists(l1.next, l2)\n",
        "        \n",
        "        return l1"
      ]
    },
    {
      "cell_type": "markdown",
      "metadata": {
        "id": "5on68RMSGd7l"
      },
      "source": [
        "<h1>3.역순 연결 리스트</h1>\n",
        "<p>리트코드 206번</p>\n",
        "[링크](https://leetcode.com/problems/reverse-linked-list/)"
      ]
    },
    {
      "cell_type": "code",
      "execution_count": null,
      "metadata": {
        "id": "a20qNO3NGf2M"
      },
      "outputs": [],
      "source": [
        "# 1.재귀 호출을 통한 풀이\n",
        "# leetcode는 아래 모듈들을 미리 import함\n",
        "# Runtime : 36 ms  Memory : 20.3 MB\n",
        "from typing import *\n",
        "\n",
        "\n",
        "# Definition for singly-linked list.\n",
        "# class ListNode:\n",
        "#     def __init__(self, val=0, next=None):\n",
        "#         self.val = val\n",
        "#         self.next = next\n",
        "class Solution:\n",
        "    def reverseList(self, head: Optional[ListNode]) -> Optional[ListNode]:\n",
        "        def reverse(node: ListNode, prev: ListNode = None):\n",
        "            if not node:\n",
        "                return prev\n",
        "            next, node.next = node.next, prev\n",
        "            \n",
        "            return reverse(next, node)\n",
        "        \n",
        "        return reverse(head)\n"
      ]
    },
    {
      "cell_type": "code",
      "execution_count": null,
      "metadata": {
        "id": "NZSDhFE6KOmV"
      },
      "outputs": [],
      "source": [
        "# 2.반복문을 통한 풀이\n",
        "# leetcode는 아래 모듈들을 미리 import함\n",
        "# Runtime : 36 ms  Memory : 15.6 MB\n",
        "from typing import *\n",
        "\n",
        "\n",
        "# Definition for singly-linked list.\n",
        "# class ListNode:\n",
        "#     def __init__(self, val=0, next=None):\n",
        "#         self.val = val\n",
        "#         self.next = next\n",
        "class Solution:\n",
        "    def reverseList(self, head: Optional[ListNode]) -> Optional[ListNode]:\n",
        "        node, prev = head, None\n",
        "\n",
        "        while node:\n",
        "            next, node.next = node.next, prev\n",
        "            prev, node = node, next\n",
        "        \n",
        "        return prev\n"
      ]
    },
    {
      "cell_type": "markdown",
      "metadata": {
        "id": "lf9HSiLjKxzp"
      },
      "source": [
        "<h1>4.두 수의 덧셈</h1>\n",
        "<p>리트코드 2번</p>\n",
        "[링크](https://leetcode.com/problems/add-two-numbers/)"
      ]
    },
    {
      "cell_type": "code",
      "execution_count": null,
      "metadata": {
        "id": "bjkE_mDnKzp3"
      },
      "outputs": [],
      "source": [
        "# 1.자료형 변환을 이용한 풀이\n",
        "# leetcode는 아래 모듈들을 미리 import함\n",
        "# Runtime : 80 ms  Memory : 14.5 MB\n",
        "from typing import *\n",
        "\n",
        "\n",
        "# Definition for singly-linked list.\n",
        "# class ListNode:\n",
        "#     def __init__(self, val=0, next=None):\n",
        "#         self.val = val\n",
        "#         self.next = next\n",
        "class Solution:\n",
        "    def reverse(self, head: ListNode) -> ListNode:\n",
        "        node, prev = head, None\n",
        "\n",
        "        while node:\n",
        "            next, node.next = node.next, prev\n",
        "            prev, node = node, next\n",
        "        \n",
        "        return prev\n",
        "\n",
        "    def convertLinkedList(self, node: ListNode) -> List:\n",
        "        result: List = []\n",
        "        \n",
        "        while node:\n",
        "            list.append(node.val)\n",
        "            node = node.next\n",
        "        \n",
        "        return result\n",
        "    \n",
        "    def convertString(self, string: str) -> ListNode:\n",
        "        prev: ListNode = None\n",
        "\n",
        "        for c in string:\n",
        "            node = ListNode(c)\n",
        "            node.next = prev\n",
        "            prev = node\n",
        "        \n",
        "        return node\n",
        "\n",
        "    def addTwoNumbers(self, l1: Optional[ListNode], l2: Optional[ListNode]) -> Optional[ListNode]:\n",
        "        n1 = self.convertLinkedList(self.reverse(l1))\n",
        "        n2 = self.convertLinkedList(self.reverse(l2))\n",
        "\n",
        "        resultStr = int(''.join(str(e) for e in n1)) + int(''.join(str(e) for e in n2))\n",
        "\n",
        "        return self.convertString(str(resultStr))\n"
      ]
    },
    {
      "cell_type": "code",
      "execution_count": null,
      "metadata": {
        "id": "jGwGJUk_1QVv"
      },
      "outputs": [],
      "source": [
        "# 2.계산기 구현을 통한 풀이\n",
        "# leetcode는 아래 모듈들을 미리 import함\n",
        "# Runtime : 72 ms  Memory : 14.2 MB\n",
        "from typing import *\n",
        "\n",
        "\n",
        "# Definition for singly-linked list.\n",
        "# class ListNode:\n",
        "#     def __init__(self, val=0, next=None):\n",
        "#         self.val = val\n",
        "#         self.next = next\n",
        "class Solution:\n",
        "    def addTwoNumbers(self, l1: Optional[ListNode], l2: Optional[ListNode]) -> Optional[ListNode]:\n",
        "        root = head = ListNode(0)\n",
        "        carry = 0\n",
        "        \n",
        "        while l1 or l2 or carry:\n",
        "            sum = 0\n",
        "            if l1:\n",
        "                sum += l1.val\n",
        "                l1 = l1.next\n",
        "            if l2:\n",
        "                sum += l2.val\n",
        "                l2 = l2.next\n",
        "            \n",
        "            carry, val = divmod(sum + carry, 10)\n",
        "            head.next = ListNode(val)\n",
        "            head = head.next\n",
        "    \n",
        "        return root.next\n"
      ]
    },
    {
      "cell_type": "markdown",
      "metadata": {
        "id": "eCrdegnU5qxO"
      },
      "source": [
        "<h1>5.페어의 노드 스왑</h1>\n",
        "<p>리트코드 24번</p>\n",
        "[링크](https://leetcode.com/problems/swap-nodes-in-pairs/)"
      ]
    },
    {
      "cell_type": "code",
      "execution_count": null,
      "metadata": {
        "id": "vFtiDegL1auE"
      },
      "outputs": [],
      "source": [
        "# 1.값만을 교환한 풀이\n",
        "# leetcode는 아래 모듈들을 미리 import함\n",
        "# Runtime : 32 ms  Memory : 14.2 MB\n",
        "from typing import *\n",
        "\n",
        "\n",
        "# Definition for singly-linked list.\n",
        "# class ListNode:\n",
        "#     def __init__(self, val=0, next=None):\n",
        "#         self.val = val\n",
        "#         self.next = next\n",
        "class Solution:\n",
        "    def swapPairs(self, head: Optional[ListNode]) -> Optional[ListNode]:\n",
        "        cur = head\n",
        "\n",
        "        while cur and cur.next:\n",
        "            cur.val, car.next.val = cur.next.val, cur.val\n",
        "            cur = cur.next.next\n",
        "        \n",
        "        return head\n"
      ]
    },
    {
      "cell_type": "code",
      "execution_count": null,
      "metadata": {
        "id": "wP1wFLCwowq2"
      },
      "outputs": [],
      "source": [
        "# 2.반복문을 이용한 풀이\n",
        "# leetcode는 아래 모듈들을 미리 import함\n",
        "# Runtime : 28 ms  Memory : 14.3 MB\n",
        "from typing import *\n",
        "\n",
        "\n",
        "# Definition for singly-linked list.\n",
        "# class ListNode:\n",
        "#     def __init__(self, val=0, next=None):\n",
        "#         self.val = val\n",
        "#         self.next = next\n",
        "class Solution:\n",
        "    def swapPairs(self, head: Optional[ListNode]) -> Optional[ListNode]:\n",
        "        root = prev = ListNode(None)\n",
        "        prev.next = head\n",
        "        \n",
        "        while head and head.next:\n",
        "            # head.next -> head -> head.next.next\n",
        "            b = head.next\n",
        "            head.next = b.next\n",
        "            b.next = head\n",
        "            # prev -> head.next\n",
        "            prev.next = b\n",
        "\n",
        "            head = head.next\n",
        "            prev = prev.next.next\n",
        "\n",
        "        return root.next\n"
      ]
    },
    {
      "cell_type": "code",
      "execution_count": null,
      "metadata": {
        "id": "z4Ao3zaV2AYW"
      },
      "outputs": [],
      "source": [
        "# 3.재귀호출을 이용한 풀이\n",
        "# leetcode는 아래 모듈들을 미리 import함\n",
        "# Runtime : 28 ms  Memory : 14.1 MB\n",
        "from typing import *\n",
        "\n",
        "\n",
        "# Definition for singly-linked list.\n",
        "# class ListNode:\n",
        "#     def __init__(self, val=0, next=None):\n",
        "#         self.val = val\n",
        "#         self.next = next\n",
        "class Solution:\n",
        "    def swapPairs(self, head: Optional[ListNode]) -> Optional[ListNode]:\n",
        "        if head and head.next:\n",
        "            p = head.next\n",
        "            # swapPairs(p.next) = swapPairs(head.next.next) 를 호출하여 다음 페어를 스왑함\n",
        "            head.next = self.swapPairs(p.next)\n",
        "            # head.next -> head -> swapPairs(p.next)\n",
        "            p.next = head\n",
        "            # 스왑한 페어의 첫 노드를 반환\n",
        "            return p\n",
        "        \n",
        "        return head\n"
      ]
    },
    {
      "cell_type": "markdown",
      "metadata": {
        "id": "7Td6Uou4-G6J"
      },
      "source": [
        "<h1>6.홀짝 연결 리스트</h1>\n",
        "<p>리트코드 328번</p>\n",
        "[링크](https://leetcode.com/problems/odd-even-linked-list/)"
      ]
    },
    {
      "cell_type": "code",
      "execution_count": null,
      "metadata": {
        "id": "4RROaMR1Kc4K"
      },
      "outputs": [],
      "source": [
        "# 1.반복문을 교환한 풀이\n",
        "# leetcode는 아래 모듈들을 미리 import함\n",
        "# Runtime : 36 ms  Memory : 16.2 MB\n",
        "from typing import *\n",
        "\n",
        "\n",
        "# Definition for singly-linked list.\n",
        "# class ListNode:\n",
        "#     def __init__(self, val=0, next=None):\n",
        "#         self.val = val\n",
        "#         self.next = next\n",
        "class Solution:\n",
        "    def oddEvenList(self, head: Optional[ListNode]) -> Optional[ListNode]:\n",
        "        if head is None:\n",
        "            return None\n",
        "        \n",
        "        odd = head\n",
        "        even = head.next\n",
        "        even_head = head.next\n",
        "\n",
        "        while even and even.next:\n",
        "            odd.next, even.next = odd.next.next, even.next.next\n",
        "            odd, evem = odd.next, even.next\n",
        "        \n",
        "        odd.next = even_head\n",
        "\n",
        "        return head\n",
        "    "
      ]
    },
    {
      "cell_type": "markdown",
      "metadata": {
        "id": "oUAcmeijXd7i"
      },
      "source": [
        "<h1>7.역순 연결 리스트II</h1>\n",
        "<p>리트코드 92번</p>\n",
        "[링크](https://leetcode.com/problems/reverse-linked-list-ii/)"
      ]
    },
    {
      "cell_type": "code",
      "execution_count": null,
      "metadata": {
        "id": "je-19aStY-Ps"
      },
      "outputs": [],
      "source": [
        "# 1.반복문을 교환한 풀이\n",
        "# leetcode는 아래 모듈들을 미리 import함\n",
        "# Runtime : 32 ms  Memory : 14.2 MB\n",
        "from typing import *\n",
        "\n",
        "\n",
        "# Definition for singly-linked list.\n",
        "# class ListNode:\n",
        "#     def __init__(self, val=0, next=None):\n",
        "#         self.val = val\n",
        "#         self.next = next\n",
        "class Solution:\n",
        "    def reverseBetween(self, head: Optional[ListNode], left: int, right: int) -> Optional[ListNode]:\n",
        "        if head is None or left == right:\n",
        "            return head\n",
        "        \n",
        "        root = start = ListNode(None)\n",
        "        root.next = head\n",
        "\n",
        "        for _ in range(left-1):\n",
        "            start = start.next\n",
        "        \n",
        "        end = start.next\n",
        "\n",
        "        for _ in range(right-left):\n",
        "            temp, start.next, end.next = start.next, end.next, end.next.next\n",
        "            start.next.next = temp\n",
        "\n",
        "        return root.next\n"
      ]
    }
  ],
  "metadata": {
    "colab": {
      "collapsed_sections": [],
      "name": "알고리즘 인터뷰(연결 리스트).ipynb",
      "provenance": []
    },
    "kernelspec": {
      "display_name": "Python 3",
      "name": "python3"
    },
    "language_info": {
      "name": "python"
    }
  },
  "nbformat": 4,
  "nbformat_minor": 0
}
