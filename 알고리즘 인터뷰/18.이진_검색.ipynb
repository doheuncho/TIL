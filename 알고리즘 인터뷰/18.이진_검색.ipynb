{
  "nbformat": 4,
  "nbformat_minor": 0,
  "metadata": {
    "colab": {
      "name": "18.이진_검색.ipynb",
      "provenance": []
    },
    "kernelspec": {
      "name": "python3",
      "display_name": "Python 3"
    },
    "language_info": {
      "name": "python"
    }
  },
  "cells": [
    {
      "cell_type": "markdown",
      "source": [
        "<h1>1.이진 검색</h1>\n",
        "<p>리트코드 704번</p>\n",
        "[링크](https://leetcode.com/problems/binary-search/)"
      ],
      "metadata": {
        "id": "2cUvp6QIiW8j"
      }
    },
    {
      "cell_type": "code",
      "execution_count": null,
      "metadata": {
        "id": "Ns22juxXSzEQ"
      },
      "outputs": [],
      "source": [
        "# 재귀 호출을 이용한 풀이\n",
        "# leetcode는 필요 모듈들을 이미 import함\n",
        "# Runtime : 406 ms Memory : 22.9 MB\n",
        "class Solution:\n",
        "    def search(self, nums: List[int], target: int) -> int:\n",
        "        def binary_search(left, right):\n",
        "            if left <= right:\n",
        "                mid = (left + right) // 2\n",
        "                \n",
        "                if nums[mid] < target:\n",
        "                    return binary_search(mid+1, right)\n",
        "                elif nums[mid] > target:\n",
        "                    return binary_search(left, mid-1)\n",
        "                else:\n",
        "                    return mid\n",
        "            else:\n",
        "                return -1\n",
        "            \n",
        "        return binary_search(0, len(nums) - 1)\n",
        "    "
      ]
    },
    {
      "cell_type": "code",
      "source": [
        "# 반복문을 이용한 풀이\n",
        "# leetcode는 필요 모듈들을 이미 import함\n",
        "# Runtime : 315 ms Memory : 15.4 MB\n",
        "class Solution:\n",
        "    def search(self, nums: List[int], target: int) -> int:\n",
        "        left, right = 0, len(nums) - 1\n",
        "        while left <= right:\n",
        "            mid = (left + right) // 2\n",
        "            \n",
        "            if nums[mid] < target:\n",
        "                left = mid + 1\n",
        "            elif nums[mid] > target:\n",
        "                right = mid - 1\n",
        "            else:\n",
        "                return mid\n",
        "            \n",
        "        return -1\n",
        "            "
      ],
      "metadata": {
        "id": "Lh3DvgJqpKEy"
      },
      "execution_count": null,
      "outputs": []
    },
    {
      "cell_type": "code",
      "source": [
        "# 이진 검색 모듈을 이용한 풀이\n",
        "# leetcode는 필요 모듈들을 이미 import함\n",
        "# Runtime : 436 ms Memory : 15.4 MB\n",
        "class Solution:\n",
        "    def search(self, nums: List[int], target: int) -> int:\n",
        "        index = bisect.bisect_left(nums, target)\n",
        "        \n",
        "        if index < len(nums) and nums[index] == target:\n",
        "            return index\n",
        "        else:\n",
        "            return -1\n",
        "        "
      ],
      "metadata": {
        "id": "FkZqIuk5h1WD"
      },
      "execution_count": null,
      "outputs": []
    },
    {
      "cell_type": "code",
      "source": [
        "# 이진 검색 모듈을 이용한 풀이\n",
        "# leetcode는 필요 모듈들을 이미 import함\n",
        "# Runtime : 276 ms Memory : 15.4 MB\n",
        "class Solution:\n",
        "    def search(self, nums: List[int], target: int) -> int:\n",
        "        try:\n",
        "            return nums.index(target)\n",
        "        except ValueError:\n",
        "            return -1\n",
        "        "
      ],
      "metadata": {
        "id": "C9bMmjS0h-fa"
      },
      "execution_count": null,
      "outputs": []
    },
    {
      "cell_type": "markdown",
      "source": [
        "<h1>2.회전 정렬된 배열 검색</h1>\n",
        "<p>리트코드 33번</p>\n",
        "[링크](https://leetcode.com/problems/search-in-rotated-sorted-array/)"
      ],
      "metadata": {
        "id": "oqUHS2hLikr0"
      }
    },
    {
      "cell_type": "code",
      "source": [
        "# 피벗을 이용한 풀이\n",
        "# leetcode는 필요 모듈들을 이미 import함\n",
        "# Runtime : 44 ms Memory : 14.2 MB\n",
        "class Solution:\n",
        "    def search(self, nums: List[int], target: int) -> int:\n",
        "        if not nums:\n",
        "            return -1\n",
        "        \n",
        "        left, right = 0, len(nums) - 1\n",
        "        \n",
        "        while left < right:\n",
        "            mid = left + (right - left) // 2\n",
        "            \n",
        "            if nums[mid] > nums[right]:\n",
        "                left = mid + 1\n",
        "            else:\n",
        "                right = mid\n",
        "            \n",
        "        pivot = left\n",
        "        \n",
        "        left, right = 0, len(nums) - 1\n",
        "        while left <= right:\n",
        "            mid = left + (right - left) // 2\n",
        "            mid_pivot = (mid + pivot) % len(nums)\n",
        "            \n",
        "            if nums[mid_pivot] < target:\n",
        "                left = mid + 1\n",
        "            elif nums[mid_pivot] > target:\n",
        "                right = mid - 1\n",
        "            else:\n",
        "                return mid_pivot\n",
        "        \n",
        "        return -1\n",
        "    "
      ],
      "metadata": {
        "id": "uOUOyIAzi4tb"
      },
      "execution_count": null,
      "outputs": []
    },
    {
      "cell_type": "markdown",
      "source": [
        "<h1>3.두 배열의 교집합</h1>\n",
        "<p>리트코드 349번</p>\n",
        "[링크](https://leetcode.com/problems/intersection-of-two-arrays/)"
      ],
      "metadata": {
        "id": "-s1ATe2YsWKV"
      }
    },
    {
      "cell_type": "code",
      "source": [
        "# 브루트 포스를 이용한 풀이\n",
        "# leetcode는 필요 모듈들을 이미 import함\n",
        "# Runtime : 137 ms Memory : 13.9 MB\n",
        "class Solution:\n",
        "    def intersection(self, nums1: List[int], nums2: List[int]) -> List[int]:\n",
        "        result: Set = set()\n",
        "        for n1 in nums1:\n",
        "            for n2 in nums2:\n",
        "                if n1 == n2:\n",
        "                    result.add(n1)\n",
        "        \n",
        "        return result\n",
        "    "
      ],
      "metadata": {
        "id": "JT4fYsbzsWlz"
      },
      "execution_count": null,
      "outputs": []
    },
    {
      "cell_type": "code",
      "source": [
        "# 이진 검색을 이용한 풀이\n",
        "# leetcode는 필요 모듈들을 이미 import함\n",
        "# Runtime : 40 ms Memory : 14 MB\n",
        "class Solution:\n",
        "    def intersection(self, nums1: List[int], nums2: List[int]) -> List[int]:\n",
        "        result: Set = set()\n",
        "        nums2.sort()\n",
        "        for n1 in nums1:\n",
        "            i2 = bisect.bisect_left(nums2, n1)\n",
        "            if len(nums2) > 0 and len(nums2) > i2 and n1 == nums2[i2]:\n",
        "                result.add(n1)\n",
        "            \n",
        "        return result\n",
        "    "
      ],
      "metadata": {
        "id": "Knn9kgwqN270"
      },
      "execution_count": null,
      "outputs": []
    },
    {
      "cell_type": "code",
      "source": [
        "# 투 포인터를 이용한 풀이\n",
        "# leetcode는 필요 모듈들을 이미 import함\n",
        "# Runtime : 93 ms Memory : 14.1 MB\n",
        "class Solution:\n",
        "    def intersection(self, nums1: List[int], nums2: List[int]) -> List[int]:\n",
        "        result: Set = set()\n",
        "        nums1.sort()\n",
        "        nums2.sort()\n",
        "        \n",
        "        i = j = 0\n",
        "        \n",
        "        while i < len(nums1) and j < len(nums2):\n",
        "            if nums1[i] > nums2[j]:\n",
        "                j += 1\n",
        "            elif nums1[i] < nums2[j]:\n",
        "                i += 1\n",
        "            else:\n",
        "                result.add(nums1[i])\n",
        "                i += 1\n",
        "                j += 1\n",
        "        \n",
        "        return result\n"
      ],
      "metadata": {
        "id": "3mSKZ7a4VZ-D"
      },
      "execution_count": null,
      "outputs": []
    },
    {
      "cell_type": "markdown",
      "source": [
        "<h1>4.두 수의 합II</h1>\n",
        "<p>리트코드 167번</p>\n",
        "[링크](https://leetcode.com/problems/two-sum-ii-input-array-is-sorted/)"
      ],
      "metadata": {
        "id": "EA2tjblAaJhY"
      }
    },
    {
      "cell_type": "code",
      "source": [
        "# 투 포인터를 이용한 풀이\n",
        "# leetcode는 필요 모듈들을 이미 import함\n",
        "# Runtime : 188 ms Memory : 14.9 MB\n",
        "class Solution:\n",
        "    def twoSum(self, numbers: List[int], target: int) -> List[int]:\n",
        "        left, right = 0, len(numbers) - 1\n",
        "        while not left == right:\n",
        "            if numbers[left] + numbers[right] < target:\n",
        "                left += 1\n",
        "            elif numbers[left] + numbers[right] > target:\n",
        "                right -= 1\n",
        "            else:\n",
        "                return left + 1, right + 1\n"
      ],
      "metadata": {
        "id": "n5Vwv0d9aZgO"
      },
      "execution_count": null,
      "outputs": []
    },
    {
      "cell_type": "code",
      "source": [
        "# 이진 검색을 이용한 풀이\n",
        "# leetcode는 필요 모듈들을 이미 import함\n",
        "# Runtime : 373 ms Memory : 15 MB\n",
        "class Solution:\n",
        "    def twoSum(self, numbers: List[int], target: int) -> List[int]:\n",
        "        for k, v in enumerate(numbers):\n",
        "            left, right = k + 1, len(numbers) - 1\n",
        "            expected = target - v\n",
        "            \n",
        "            while left <= right:\n",
        "                mid = left + ((right - left) // 2)\n",
        "                if numbers[mid] < expected:\n",
        "                    left = mid + 1\n",
        "                elif numbers[mid] > expected:\n",
        "                    right = mid - 1\n",
        "                else:\n",
        "                    return k + 1, mid + 1\n"
      ],
      "metadata": {
        "id": "j2YdI7REbBe9"
      },
      "execution_count": null,
      "outputs": []
    },
    {
      "cell_type": "code",
      "source": [
        "# bisect + 슬라이싱을 이용한 풀이\n",
        "# leetcode는 필요 모듈들을 이미 import함\n",
        "# Runtime : 3207 ms Memory : 14.9 MB\n",
        "class Solution:\n",
        "    def twoSum(self, numbers: List[int], target: int) -> List[int]:\n",
        "        for k, v in enumerate(numbers):\n",
        "            expected = target - v\n",
        "            nums = numbers[k+1:]\n",
        "            i = bisect_left(nums, expected)\n",
        "            if i < len(nums) and numbers[i+k+1] == expected:\n",
        "                return k + 1, i + k + 2\n",
        "            "
      ],
      "metadata": {
        "id": "lfWH0FGumAYH"
      },
      "execution_count": null,
      "outputs": []
    },
    {
      "cell_type": "code",
      "source": [
        "# bisect를 이용한 풀이\n",
        "# leetcode는 필요 모듈들을 이미 import함\n",
        "# Runtime : 241 ms Memory : 14.9 MB\n",
        "class Solution:\n",
        "    def twoSum(self, numbers: List[int], target: int) -> List[int]:\n",
        "        for k, v in enumerate(numbers):\n",
        "            expected = target - v\n",
        "            i = bisect_left(numbers, expected, k+1)\n",
        "            if i < len(numbers) and numbers[i] == expected:\n",
        "                return k+1, i+1\n",
        "            "
      ],
      "metadata": {
        "id": "Y-uEMcbCmhc1"
      },
      "execution_count": null,
      "outputs": []
    },
    {
      "cell_type": "markdown",
      "source": [
        "<h1>5.2D 행렬 검색 II</h1>\n",
        "<p>리트코드 240번</p>\n",
        "[링크](https://leetcode.com/problems/search-a-2d-matrix-ii/)"
      ],
      "metadata": {
        "id": "y-Ss4Zd5np1T"
      }
    },
    {
      "cell_type": "code",
      "source": [
        "# 좌표를 이용한 풀이\n",
        "# leetcode는 필요 모듈들을 이미 import함\n",
        "# Runtime : 345 ms Memory : 20.5 MB\n",
        "class Solution:\n",
        "    def searchMatrix(self, matrix: List[List[int]], target: int) -> bool:\n",
        "        if not matrix:\n",
        "            return False\n",
        "        \n",
        "        row = 0\n",
        "        col = len(matrix[0]) - 1\n",
        "        \n",
        "        while row <= len(matrix) - 1 and col >= 0:\n",
        "            if target < matrix[row][col]:\n",
        "                col -= 1\n",
        "            elif target > matrix[row][col]:\n",
        "                row += 1\n",
        "            else:\n",
        "                return True\n",
        "        \n",
        "        return False\n"
      ],
      "metadata": {
        "id": "ZoNuWi1MqYiW"
      },
      "execution_count": null,
      "outputs": []
    },
    {
      "cell_type": "code",
      "source": [
        "# 파이썬 다운 풀이\n",
        "# leetcode는 필요 모듈들을 이미 import함\n",
        "# Runtime : 244 ms Memory : 20.4 MB\n",
        "class Solution:\n",
        "    def searchMatrix(self, matrix: List[List[int]], target: int) -> bool:\n",
        "        return any(target in row for row in matrix)\n"
      ],
      "metadata": {
        "id": "1AxRHBoLro5f"
      },
      "execution_count": null,
      "outputs": []
    }
  ]
}